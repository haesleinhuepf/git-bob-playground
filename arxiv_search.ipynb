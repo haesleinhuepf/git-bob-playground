{
 "cells": [
  {
   "cell_type": "markdown",
   "metadata": {},
   "source": [
    "# Arxiv Paper Search\n",
    "Let's create a function to search papers on arxiv using their API."
   ]
  },
  {
   "cell_type": "markdown",
   "metadata": {},
   "source": [
    "First, we'll import the required libraries"
   ]
  },
  {
   "cell_type": "code",
   "execution_count": 1,
   "metadata": {
    "execution": {
     "iopub.execute_input": "2024-12-30T15:51:13.061649Z",
     "iopub.status.busy": "2024-12-30T15:51:13.061186Z",
     "iopub.status.idle": "2024-12-30T15:51:13.217077Z",
     "shell.execute_reply": "2024-12-30T15:51:13.216210Z"
    }
   },
   "outputs": [
    {
     "ename": "ModuleNotFoundError",
     "evalue": "No module named 'arxiv'",
     "output_type": "error",
     "traceback": [
      "\u001b[0;31m---------------------------------------------------------------------------\u001b[0m",
      "\u001b[0;31mModuleNotFoundError\u001b[0m                       Traceback (most recent call last)",
      "Cell \u001b[0;32mIn[1], line 1\u001b[0m\n\u001b[0;32m----> 1\u001b[0m \u001b[38;5;28;01mimport\u001b[39;00m \u001b[38;5;21;01marxiv\u001b[39;00m\n\u001b[1;32m      2\u001b[0m \u001b[38;5;28;01mimport\u001b[39;00m \u001b[38;5;21;01mpandas\u001b[39;00m \u001b[38;5;28;01mas\u001b[39;00m \u001b[38;5;21;01mpd\u001b[39;00m\n\u001b[1;32m      3\u001b[0m \u001b[38;5;28;01mfrom\u001b[39;00m \u001b[38;5;21;01mdatetime\u001b[39;00m \u001b[38;5;28;01mimport\u001b[39;00m datetime\n",
      "\u001b[0;31mModuleNotFoundError\u001b[0m: No module named 'arxiv'"
     ]
    }
   ],
   "source": [
    "import arxiv\n",
    "import pandas as pd\n",
    "from datetime import datetime"
   ]
  },
  {
   "cell_type": "markdown",
   "metadata": {},
   "source": [
    "Create a function to search arxiv papers"
   ]
  },
  {
   "cell_type": "code",
   "execution_count": null,
   "metadata": {},
   "outputs": [],
   "source": [
    "def search_arxiv(query, year=None, max_results=50):\n",
    "    # Construct search query\n",
    "    if year:\n",
    "        query = f\"{query} AND submittedDate:[{year}0101 TO {year}1231]\"\n",
    "    \n",
    "    # Create search client\n",
    "    client = arxiv.Client()\n",
    "    \n",
    "    # Create search\n",
    "    search = arxiv.Search(\n",
    "        query=query,\n",
    "        max_results=max_results,\n",
    "        sort_by=arxiv.SortCriterion.SubmittedDate\n",
    "    )\n",
    "    \n",
    "    # Get results\n",
    "    results = list(client.results(search))\n",
    "    \n",
    "    # Convert to DataFrame\n",
    "    data = [{\n",
    "        'title': paper.title,\n",
    "        'authors': ', '.join(author.name for author in paper.authors),\n",
    "        'abstract': paper.summary,\n",
    "        'published': paper.published,\n",
    "        'url': paper.pdf_url\n",
    "    } for paper in results]\n",
    "    \n",
    "    df = pd.DataFrame(data)\n",
    "    return df"
   ]
  },
  {
   "cell_type": "markdown",
   "metadata": {},
   "source": [
    "Search for \"bio-image analysis\" papers from 2022"
   ]
  },
  {
   "cell_type": "code",
   "execution_count": null,
   "metadata": {},
   "outputs": [],
   "source": [
    "papers = search_arxiv(\"bio-image analysis\", year=2022)\n",
    "\n",
    "# Save results to CSV\n",
    "papers.to_csv('bioimage_papers_2022.csv', index=False)"
   ]
  }
 ],
 "metadata": {
  "language_info": {
   "codemirror_mode": {
    "name": "ipython",
    "version": 3
   },
   "file_extension": ".py",
   "mimetype": "text/x-python",
   "name": "python",
   "nbconvert_exporter": "python",
   "pygments_lexer": "ipython3",
   "version": "3.12.8"
  }
 },
 "nbformat": 4,
 "nbformat_minor": 4
}