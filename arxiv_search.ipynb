{
 "cells": [
  {
   "cell_type": "markdown",
   "metadata": {},
   "source": [
    "# Arxiv Paper Search\n",
    "Let's create a function to search papers on arxiv using their API."
   ]
  },
  {
   "cell_type": "markdown",
   "metadata": {},
   "source": [
    "First, we'll import the required libraries"
   ]
  },
  {
   "cell_type": "code",
   "execution_count": 1,
   "metadata": {
    "execution": {
     "iopub.execute_input": "2024-12-30T15:51:26.423299Z",
     "iopub.status.busy": "2024-12-30T15:51:26.423083Z",
     "iopub.status.idle": "2024-12-30T15:51:30.062726Z",
     "shell.execute_reply": "2024-12-30T15:51:30.062144Z"
    }
   },
   "outputs": [
    {
     "name": "stdout",
     "output_type": "stream",
     "text": [
      "Collecting arxiv\r\n"
     ]
    },
    {
     "name": "stdout",
     "output_type": "stream",
     "text": [
      "  Downloading arxiv-2.1.3-py3-none-any.whl.metadata (6.1 kB)\r\n",
      "Collecting feedparser~=6.0.10 (from arxiv)\r\n",
      "  Downloading feedparser-6.0.11-py3-none-any.whl.metadata (2.4 kB)\r\n"
     ]
    },
    {
     "name": "stdout",
     "output_type": "stream",
     "text": [
      "Requirement already satisfied: requests~=2.32.0 in /opt/hostedtoolcache/Python/3.12.8/x64/lib/python3.12/site-packages (from arxiv) (2.32.3)\r\n",
      "Collecting sgmllib3k (from feedparser~=6.0.10->arxiv)\r\n",
      "  Downloading sgmllib3k-1.0.0.tar.gz (5.8 kB)\r\n"
     ]
    },
    {
     "name": "stdout",
     "output_type": "stream",
     "text": [
      "  Preparing metadata (setup.py) ... \u001b[?25l-"
     ]
    },
    {
     "name": "stdout",
     "output_type": "stream",
     "text": [
      "\b \b\\"
     ]
    },
    {
     "name": "stdout",
     "output_type": "stream",
     "text": [
      "\b \bdone\r\n",
      "\u001b[?25hRequirement already satisfied: charset-normalizer<4,>=2 in /opt/hostedtoolcache/Python/3.12.8/x64/lib/python3.12/site-packages (from requests~=2.32.0->arxiv) (3.4.1)\r\n",
      "Requirement already satisfied: idna<4,>=2.5 in /opt/hostedtoolcache/Python/3.12.8/x64/lib/python3.12/site-packages (from requests~=2.32.0->arxiv) (3.10)\r\n",
      "Requirement already satisfied: urllib3<3,>=1.21.1 in /opt/hostedtoolcache/Python/3.12.8/x64/lib/python3.12/site-packages (from requests~=2.32.0->arxiv) (1.26.16)\r\n",
      "Requirement already satisfied: certifi>=2017.4.17 in /opt/hostedtoolcache/Python/3.12.8/x64/lib/python3.12/site-packages (from requests~=2.32.0->arxiv) (2024.12.14)\r\n",
      "Downloading arxiv-2.1.3-py3-none-any.whl (11 kB)\r\n",
      "Downloading feedparser-6.0.11-py3-none-any.whl (81 kB)\r\n"
     ]
    },
    {
     "name": "stdout",
     "output_type": "stream",
     "text": [
      "Building wheels for collected packages: sgmllib3k\r\n"
     ]
    },
    {
     "name": "stdout",
     "output_type": "stream",
     "text": [
      "  Building wheel for sgmllib3k (setup.py) ... \u001b[?25l-"
     ]
    },
    {
     "name": "stdout",
     "output_type": "stream",
     "text": [
      "\b \b\\"
     ]
    },
    {
     "name": "stdout",
     "output_type": "stream",
     "text": [
      "\b \b|"
     ]
    },
    {
     "name": "stdout",
     "output_type": "stream",
     "text": [
      "\b \b/"
     ]
    },
    {
     "name": "stdout",
     "output_type": "stream",
     "text": [
      "\b \bdone\r\n",
      "\u001b[?25h  Created wheel for sgmllib3k: filename=sgmllib3k-1.0.0-py3-none-any.whl size=6048 sha256=29bde3ac69733ca30294478aee66ff7eda37277b6ebb1e09ad3b9f1c70b72063\r\n",
      "  Stored in directory: /home/runner/.cache/pip/wheels/03/f5/1a/23761066dac1d0e8e683e5fdb27e12de53209d05a4a37e6246\r\n",
      "Successfully built sgmllib3k\r\n"
     ]
    },
    {
     "name": "stdout",
     "output_type": "stream",
     "text": [
      "Installing collected packages: sgmllib3k, feedparser, arxiv\r\n"
     ]
    },
    {
     "name": "stdout",
     "output_type": "stream",
     "text": [
      "Successfully installed arxiv-2.1.3 feedparser-6.0.11 sgmllib3k-1.0.0\r\n"
     ]
    }
   ],
   "source": [
    "!pip install arxiv\n",
    "import arxiv\n",
    "import pandas as pd\n",
    "from datetime import datetime"
   ]
  },
  {
   "cell_type": "markdown",
   "metadata": {},
   "source": [
    "Create a function to search arxiv papers"
   ]
  },
  {
   "cell_type": "code",
   "execution_count": 2,
   "metadata": {
    "execution": {
     "iopub.execute_input": "2024-12-30T15:51:30.065106Z",
     "iopub.status.busy": "2024-12-30T15:51:30.064644Z",
     "iopub.status.idle": "2024-12-30T15:51:30.069130Z",
     "shell.execute_reply": "2024-12-30T15:51:30.068569Z"
    }
   },
   "outputs": [],
   "source": [
    "def search_arxiv(query, year=None, max_results=50):\n",
    "    # Construct search query\n",
    "    if year:\n",
    "        query = f\"{query} AND submittedDate:[{year}0101 TO {year}1231]\"\n",
    "    \n",
    "    # Create search client\n",
    "    client = arxiv.Client()\n",
    "    \n",
    "    # Create search\n",
    "    search = arxiv.Search(\n",
    "        query=query,\n",
    "        max_results=max_results,\n",
    "        sort_by=arxiv.SortCriterion.SubmittedDate\n",
    "    )\n",
    "    \n",
    "    # Get results\n",
    "    results = list(client.results(search))\n",
    "    \n",
    "    # Convert to DataFrame\n",
    "    data = [{\n",
    "        'title': paper.title,\n",
    "        'authors': ', '.join(author.name for author in paper.authors),\n",
    "        'abstract': paper.summary,\n",
    "        'published': paper.published,\n",
    "        'url': paper.pdf_url\n",
    "    } for paper in results]\n",
    "    \n",
    "    df = pd.DataFrame(data)\n",
    "    return df"
   ]
  },
  {
   "cell_type": "markdown",
   "metadata": {},
   "source": [
    "Search for \"bio-image analysis\" papers from 2022"
   ]
  },
  {
   "cell_type": "code",
   "execution_count": 3,
   "metadata": {
    "execution": {
     "iopub.execute_input": "2024-12-30T15:51:30.071117Z",
     "iopub.status.busy": "2024-12-30T15:51:30.070783Z",
     "iopub.status.idle": "2024-12-30T15:51:31.899254Z",
     "shell.execute_reply": "2024-12-30T15:51:31.898658Z"
    }
   },
   "outputs": [],
   "source": [
    "papers = search_arxiv(\"bio-image analysis\", year=2022)\n",
    "\n",
    "# Save results to CSV\n",
    "papers.to_csv('bioimage_papers_2022.csv', index=False)"
   ]
  }
 ],
 "metadata": {
  "language_info": {
   "codemirror_mode": {
    "name": "ipython",
    "version": 3
   },
   "file_extension": ".py",
   "mimetype": "text/x-python",
   "name": "python",
   "nbconvert_exporter": "python",
   "pygments_lexer": "ipython3",
   "version": "3.12.8"
  }
 },
 "nbformat": 4,
 "nbformat_minor": 4
}
