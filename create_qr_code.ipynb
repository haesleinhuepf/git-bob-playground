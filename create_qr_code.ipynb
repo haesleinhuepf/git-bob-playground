{
 "cells": [
  {
   "cell_type": "markdown",
   "metadata": {},
   "source": [
    "# Create QR Code\n",
    "\n",
    "First, we need to install and import the qrcode library"
   ]
  },
  {
   "cell_type": "code",
   "execution_count": 1,
   "metadata": {
    "execution": {
     "iopub.execute_input": "2025-04-02T07:12:42.276775Z",
     "iopub.status.busy": "2025-04-02T07:12:42.276319Z",
     "iopub.status.idle": "2025-04-02T07:12:43.843179Z",
     "shell.execute_reply": "2025-04-02T07:12:43.842590Z"
    }
   },
   "outputs": [
    {
     "name": "stdout",
     "output_type": "stream",
     "text": [
      "Collecting qrcode\r\n"
     ]
    },
    {
     "name": "stdout",
     "output_type": "stream",
     "text": [
      "  Downloading qrcode-8.0-py3-none-any.whl.metadata (17 kB)\r\n",
      "Requirement already satisfied: pillow in /opt/hostedtoolcache/Python/3.13.2/x64/lib/python3.13/site-packages (11.2.0)\r\n",
      "Downloading qrcode-8.0-py3-none-any.whl (45 kB)\r\n"
     ]
    },
    {
     "name": "stdout",
     "output_type": "stream",
     "text": [
      "Installing collected packages: qrcode\r\n"
     ]
    },
    {
     "name": "stdout",
     "output_type": "stream",
     "text": [
      "Successfully installed qrcode-8.0\r\n"
     ]
    }
   ],
   "source": [
    "!pip install qrcode pillow"
   ]
  },
  {
   "cell_type": "code",
   "execution_count": 2,
   "metadata": {
    "execution": {
     "iopub.execute_input": "2025-04-02T07:12:43.845502Z",
     "iopub.status.busy": "2025-04-02T07:12:43.845276Z",
     "iopub.status.idle": "2025-04-02T07:12:43.922864Z",
     "shell.execute_reply": "2025-04-02T07:12:43.922305Z"
    }
   },
   "outputs": [],
   "source": [
    "import qrcode\n",
    "import numpy as np"
   ]
  },
  {
   "cell_type": "markdown",
   "metadata": {},
   "source": [
    "Create QR code for the given URL"
   ]
  },
  {
   "cell_type": "code",
   "execution_count": 3,
   "metadata": {
    "execution": {
     "iopub.execute_input": "2025-04-02T07:12:43.925913Z",
     "iopub.status.busy": "2025-04-02T07:12:43.925020Z",
     "iopub.status.idle": "2025-04-02T07:12:43.950944Z",
     "shell.execute_reply": "2025-04-02T07:12:43.950452Z"
    }
   },
   "outputs": [],
   "source": [
    "# Generate QR code\n",
    "url = \"https://www.biorxiv.org/content/10.1101/2024.04.19.590278v3\"\n",
    "qr = qrcode.QRCode(\n",
    "    version=1,\n",
    "    error_correction=qrcode.constants.ERROR_CORRECT_L,\n",
    "    box_size=10,\n",
    "    border=4,\n",
    ")\n",
    "qr.add_data(url)\n",
    "qr.make(fit=True)\n",
    "\n",
    "# Create image\n",
    "qr_image = qr.make_image(fill_color=\"black\", back_color=\"white\")\n",
    "\n",
    "# Convert to numpy array and save\n",
    "qr_array = np.array(qr_image).astype(np.uint8) * 255\n",
    "from PIL import Image\n",
    "Image.fromarray(qr_array).save('qr_code.png')"
   ]
  }
 ],
 "metadata": {
  "language_info": {
   "codemirror_mode": {
    "name": "ipython",
    "version": 3
   },
   "file_extension": ".py",
   "mimetype": "text/x-python",
   "name": "python",
   "nbconvert_exporter": "python",
   "pygments_lexer": "ipython3",
   "version": "3.13.2"
  }
 },
 "nbformat": 4,
 "nbformat_minor": 4
}
