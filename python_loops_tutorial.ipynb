{
 "cells": [
  {
   "cell_type": "markdown",
   "metadata": {},
   "source": [
    "# Python Loops Tutorial\n",
    "This notebook demonstrates different types of loops and related concepts in Python."
   ]
  },
  {
   "cell_type": "markdown",
   "metadata": {},
   "source": [
    "## For Loops\n",
    "For loops iterate over a sequence (list, tuple, string etc)"
   ]
  },
  {
   "cell_type": "code",
   "execution_count": 1,
   "metadata": {
    "execution": {
     "iopub.execute_input": "2024-10-22T17:01:50.944295Z",
     "iopub.status.busy": "2024-10-22T17:01:50.944100Z",
     "iopub.status.idle": "2024-10-22T17:01:50.948085Z",
     "shell.execute_reply": "2024-10-22T17:01:50.947559Z"
    }
   },
   "outputs": [
    {
     "name": "stdout",
     "output_type": "stream",
     "text": [
      "I like apple\n",
      "I like banana\n",
      "I like cherry\n"
     ]
    }
   ],
   "source": [
    "fruits = ['apple', 'banana', 'cherry']\n",
    "for fruit in fruits:\n",
    "    print(f\"I like {fruit}\")"
   ]
  },
  {
   "cell_type": "markdown",
   "metadata": {},
   "source": [
    "## While Loops\n",
    "While loops continue as long as a condition is true"
   ]
  },
  {
   "cell_type": "code",
   "execution_count": 2,
   "metadata": {
    "execution": {
     "iopub.execute_input": "2024-10-22T17:01:50.985915Z",
     "iopub.status.busy": "2024-10-22T17:01:50.985511Z",
     "iopub.status.idle": "2024-10-22T17:01:50.989033Z",
     "shell.execute_reply": "2024-10-22T17:01:50.988470Z"
    }
   },
   "outputs": [
    {
     "name": "stdout",
     "output_type": "stream",
     "text": [
      "Counter is 0\n",
      "Counter is 1\n",
      "Counter is 2\n"
     ]
    }
   ],
   "source": [
    "counter = 0\n",
    "while counter < 3:\n",
    "    print(f\"Counter is {counter}\")\n",
    "    counter += 1"
   ]
  },
  {
   "cell_type": "markdown",
   "metadata": {},
   "source": [
    "## Enumerate\n",
    "Enumerate adds counter to an iterable"
   ]
  },
  {
   "cell_type": "code",
   "execution_count": 3,
   "metadata": {
    "execution": {
     "iopub.execute_input": "2024-10-22T17:01:50.990891Z",
     "iopub.status.busy": "2024-10-22T17:01:50.990537Z",
     "iopub.status.idle": "2024-10-22T17:01:50.993680Z",
     "shell.execute_reply": "2024-10-22T17:01:50.993172Z"
    }
   },
   "outputs": [
    {
     "name": "stdout",
     "output_type": "stream",
     "text": [
      "Color 0: red\n",
      "Color 1: green\n",
      "Color 2: blue\n"
     ]
    }
   ],
   "source": [
    "colors = ['red', 'green', 'blue']\n",
    "for index, color in enumerate(colors):\n",
    "    print(f\"Color {index}: {color}\")"
   ]
  },
  {
   "cell_type": "markdown",
   "metadata": {},
   "source": [
    "## Zip\n",
    "Zip combines elements from multiple iterables"
   ]
  },
  {
   "cell_type": "code",
   "execution_count": 4,
   "metadata": {
    "execution": {
     "iopub.execute_input": "2024-10-22T17:01:50.995452Z",
     "iopub.status.busy": "2024-10-22T17:01:50.995131Z",
     "iopub.status.idle": "2024-10-22T17:01:50.998635Z",
     "shell.execute_reply": "2024-10-22T17:01:50.998070Z"
    }
   },
   "outputs": [
    {
     "name": "stdout",
     "output_type": "stream",
     "text": [
      "Number 1 goes with letter a\n",
      "Number 2 goes with letter b\n",
      "Number 3 goes with letter c\n"
     ]
    }
   ],
   "source": [
    "numbers = [1, 2, 3]\n",
    "letters = ['a', 'b', 'c']\n",
    "for num, let in zip(numbers, letters):\n",
    "    print(f\"Number {num} goes with letter {let}\")"
   ]
  },
  {
   "cell_type": "markdown",
   "metadata": {},
   "source": [
    "## Lambda Functions\n",
    "Lambda functions are small anonymous functions"
   ]
  },
  {
   "cell_type": "code",
   "execution_count": 5,
   "metadata": {
    "execution": {
     "iopub.execute_input": "2024-10-22T17:01:51.000465Z",
     "iopub.status.busy": "2024-10-22T17:01:51.000175Z",
     "iopub.status.idle": "2024-10-22T17:01:51.003469Z",
     "shell.execute_reply": "2024-10-22T17:01:51.002959Z"
    }
   },
   "outputs": [
    {
     "name": "stdout",
     "output_type": "stream",
     "text": [
      "Original numbers: [1, 2, 3, 4]\n",
      "Squared numbers: [1, 4, 9, 16]\n"
     ]
    }
   ],
   "source": [
    "# Using lambda in map function\n",
    "numbers = [1, 2, 3, 4]\n",
    "squared = list(map(lambda x: x**2, numbers))\n",
    "print(f\"Original numbers: {numbers}\")\n",
    "print(f\"Squared numbers: {squared}\")"
   ]
  }
 ],
 "metadata": {
  "language_info": {
   "codemirror_mode": {
    "name": "ipython",
    "version": 3
   },
   "file_extension": ".py",
   "mimetype": "text/x-python",
   "name": "python",
   "nbconvert_exporter": "python",
   "pygments_lexer": "ipython3",
   "version": "3.12.7"
  }
 },
 "nbformat": 4,
 "nbformat_minor": 4
}
