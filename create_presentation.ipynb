{
 "cells": [
  {
   "cell_type": "markdown",
   "metadata": {},
   "source": [
    "# Creating OpenDocument Presentations (ODP)\n",
    "\n",
    "In this notebook, we create presentations using python-odf."
   ]
  },
  {
   "cell_type": "markdown",
   "metadata": {},
   "source": [
    "## Import required libraries"
   ]
  },
  {
   "cell_type": "code",
   "execution_count": 1,
   "metadata": {
    "execution": {
     "iopub.execute_input": "2024-10-27T20:45:43.086648Z",
     "iopub.status.busy": "2024-10-27T20:45:43.086467Z",
     "iopub.status.idle": "2024-10-27T20:45:43.104478Z",
     "shell.execute_reply": "2024-10-27T20:45:43.103937Z"
    }
   },
   "outputs": [],
   "source": [
    "from odf.opendocument import OpenDocumentPresentation\n",
    "from odf.text import P\n",
    "from odf.draw import Page, Frame, TextBox"
   ]
  },
  {
   "cell_type": "markdown",
   "metadata": {},
   "source": [
    "## Create a function that generates presentations from structured data"
   ]
  },
  {
   "cell_type": "code",
   "execution_count": 2,
   "metadata": {
    "execution": {
     "iopub.execute_input": "2024-10-27T20:45:43.106319Z",
     "iopub.status.busy": "2024-10-27T20:45:43.106128Z",
     "iopub.status.idle": "2024-10-27T20:45:43.111002Z",
     "shell.execute_reply": "2024-10-27T20:45:43.110427Z"
    }
   },
   "outputs": [],
   "source": [
    "def create_presentation(slides_data, filename=\"presentation.odp\"):\n",
    "    presentation = OpenDocumentPresentation()\n",
    "    \n",
    "    for slide_data in slides_data:\n",
    "        slide = Page()\n",
    "        presentation.presentation.addElement(slide)\n",
    "        \n",
    "        # Add title\n",
    "        title_frame = Frame(width=\"20cm\", height=\"3cm\", x=\"2cm\", y=\"1cm\")\n",
    "        slide.addElement(title_frame)\n",
    "        title_box = TextBox()\n",
    "        title_frame.addElement(title_box)\n",
    "        title_box.addElement(P(text=slide_data[\"title\"]))\n",
    "        \n",
    "        # Add content columns\n",
    "        num_columns = len(slide_data[\"content\"])\n",
    "        column_width = 16 / num_columns\n",
    "        \n",
    "        for i, content in enumerate(slide_data[\"content\"]):\n",
    "            x_pos = 2 + i * column_width\n",
    "            content_frame = Frame(width=f\"{column_width}cm\", height=\"5cm\", \n",
    "                                x=f\"{x_pos}cm\", y=\"5cm\")\n",
    "            slide.addElement(content_frame)\n",
    "            content_box = TextBox()\n",
    "            content_frame.addElement(content_box)\n",
    "            content_box.addElement(P(text=content))\n",
    "    \n",
    "    presentation.save(filename)"
   ]
  },
  {
   "cell_type": "markdown",
   "metadata": {},
   "source": [
    "## Test the presentation creation with example data"
   ]
  },
  {
   "cell_type": "code",
   "execution_count": 3,
   "metadata": {
    "execution": {
     "iopub.execute_input": "2024-10-27T20:45:43.112796Z",
     "iopub.status.busy": "2024-10-27T20:45:43.112617Z",
     "iopub.status.idle": "2024-10-27T20:45:43.347349Z",
     "shell.execute_reply": "2024-10-27T20:45:43.346500Z"
    }
   },
   "outputs": [
    {
     "ename": "AttributeError",
     "evalue": "Required attribute missing: masterpagename in <draw:page>",
     "output_type": "error",
     "traceback": [
      "\u001b[0;31m---------------------------------------------------------------------------\u001b[0m",
      "\u001b[0;31mAttributeError\u001b[0m                            Traceback (most recent call last)",
      "Cell \u001b[0;32mIn[3], line 6\u001b[0m\n\u001b[1;32m      1\u001b[0m test_slides \u001b[38;5;241m=\u001b[39m [\n\u001b[1;32m      2\u001b[0m     {\u001b[38;5;124m\"\u001b[39m\u001b[38;5;124mtitle\u001b[39m\u001b[38;5;124m\"\u001b[39m: \u001b[38;5;124m\"\u001b[39m\u001b[38;5;124mheadline\u001b[39m\u001b[38;5;124m\"\u001b[39m, \u001b[38;5;124m\"\u001b[39m\u001b[38;5;124mcontent\u001b[39m\u001b[38;5;124m\"\u001b[39m: [\u001b[38;5;124m\"\u001b[39m\u001b[38;5;124mA\u001b[39m\u001b[38;5;124m\"\u001b[39m, \u001b[38;5;124m\"\u001b[39m\u001b[38;5;124mB\u001b[39m\u001b[38;5;124m\"\u001b[39m, \u001b[38;5;124m\"\u001b[39m\u001b[38;5;124mC\u001b[39m\u001b[38;5;124m\"\u001b[39m]},\n\u001b[1;32m      3\u001b[0m     {\u001b[38;5;124m\"\u001b[39m\u001b[38;5;124mtitle\u001b[39m\u001b[38;5;124m\"\u001b[39m: \u001b[38;5;124m\"\u001b[39m\u001b[38;5;124mheadline\u001b[39m\u001b[38;5;124m\"\u001b[39m, \u001b[38;5;124m\"\u001b[39m\u001b[38;5;124mcontent\u001b[39m\u001b[38;5;124m\"\u001b[39m: [\u001b[38;5;124m\"\u001b[39m\u001b[38;5;124mD\u001b[39m\u001b[38;5;124m\"\u001b[39m, \u001b[38;5;124m\"\u001b[39m\u001b[38;5;124mE\u001b[39m\u001b[38;5;124m\"\u001b[39m, \u001b[38;5;124m\"\u001b[39m\u001b[38;5;124mF\u001b[39m\u001b[38;5;124m\"\u001b[39m]}\n\u001b[1;32m      4\u001b[0m ]\n\u001b[0;32m----> 6\u001b[0m \u001b[43mcreate_presentation\u001b[49m\u001b[43m(\u001b[49m\u001b[43mtest_slides\u001b[49m\u001b[43m,\u001b[49m\u001b[43m \u001b[49m\u001b[38;5;124;43m\"\u001b[39;49m\u001b[38;5;124;43mexample_slides.odp\u001b[39;49m\u001b[38;5;124;43m\"\u001b[39;49m\u001b[43m)\u001b[49m\n",
      "Cell \u001b[0;32mIn[2], line 5\u001b[0m, in \u001b[0;36mcreate_presentation\u001b[0;34m(slides_data, filename)\u001b[0m\n\u001b[1;32m      2\u001b[0m presentation \u001b[38;5;241m=\u001b[39m OpenDocumentPresentation()\n\u001b[1;32m      4\u001b[0m \u001b[38;5;28;01mfor\u001b[39;00m slide_data \u001b[38;5;129;01min\u001b[39;00m slides_data:\n\u001b[0;32m----> 5\u001b[0m     slide \u001b[38;5;241m=\u001b[39m \u001b[43mPage\u001b[49m\u001b[43m(\u001b[49m\u001b[43m)\u001b[49m\n\u001b[1;32m      6\u001b[0m     presentation\u001b[38;5;241m.\u001b[39mpresentation\u001b[38;5;241m.\u001b[39maddElement(slide)\n\u001b[1;32m      8\u001b[0m     \u001b[38;5;66;03m# Add title\u001b[39;00m\n",
      "File \u001b[0;32m/opt/hostedtoolcache/Python/3.12.7/x64/lib/python3.12/site-packages/odf/draw.py:156\u001b[0m, in \u001b[0;36mPage\u001b[0;34m(**args)\u001b[0m\n\u001b[1;32m    155\u001b[0m \u001b[38;5;28;01mdef\u001b[39;00m \u001b[38;5;21mPage\u001b[39m(\u001b[38;5;241m*\u001b[39m\u001b[38;5;241m*\u001b[39margs):\n\u001b[0;32m--> 156\u001b[0m     \u001b[38;5;28;01mreturn\u001b[39;00m \u001b[43mElement\u001b[49m\u001b[43m(\u001b[49m\u001b[43mqname\u001b[49m\u001b[43m \u001b[49m\u001b[38;5;241;43m=\u001b[39;49m\u001b[43m \u001b[49m\u001b[43m(\u001b[49m\u001b[43mDRAWNS\u001b[49m\u001b[43m,\u001b[49m\u001b[38;5;124;43m'\u001b[39;49m\u001b[38;5;124;43mpage\u001b[39;49m\u001b[38;5;124;43m'\u001b[39;49m\u001b[43m)\u001b[49m\u001b[43m,\u001b[49m\u001b[43m \u001b[49m\u001b[38;5;241;43m*\u001b[39;49m\u001b[38;5;241;43m*\u001b[39;49m\u001b[43margs\u001b[49m\u001b[43m)\u001b[49m\n",
      "File \u001b[0;32m/opt/hostedtoolcache/Python/3.12.7/x64/lib/python3.12/site-packages/odf/element.py:391\u001b[0m, in \u001b[0;36mElement.__init__\u001b[0;34m(self, attributes, text, cdata, qname, qattributes, check_grammar, **args)\u001b[0m\n\u001b[1;32m    389\u001b[0m \u001b[38;5;28;01mfor\u001b[39;00m r \u001b[38;5;129;01min\u001b[39;00m required:\n\u001b[1;32m    390\u001b[0m     \u001b[38;5;28;01mif\u001b[39;00m \u001b[38;5;28mself\u001b[39m\u001b[38;5;241m.\u001b[39mgetAttrNS(r[\u001b[38;5;241m0\u001b[39m],r[\u001b[38;5;241m1\u001b[39m]) \u001b[38;5;129;01mis\u001b[39;00m \u001b[38;5;28;01mNone\u001b[39;00m:\n\u001b[0;32m--> 391\u001b[0m         \u001b[38;5;28;01mraise\u001b[39;00m \u001b[38;5;167;01mAttributeError\u001b[39;00m( \u001b[38;5;124m\"\u001b[39m\u001b[38;5;124mRequired attribute missing: \u001b[39m\u001b[38;5;132;01m%s\u001b[39;00m\u001b[38;5;124m in <\u001b[39m\u001b[38;5;132;01m%s\u001b[39;00m\u001b[38;5;124m>\u001b[39m\u001b[38;5;124m\"\u001b[39m \u001b[38;5;241m%\u001b[39m (r[\u001b[38;5;241m1\u001b[39m]\u001b[38;5;241m.\u001b[39mlower()\u001b[38;5;241m.\u001b[39mreplace(\u001b[38;5;124m'\u001b[39m\u001b[38;5;124m-\u001b[39m\u001b[38;5;124m'\u001b[39m,\u001b[38;5;124m'\u001b[39m\u001b[38;5;124m'\u001b[39m), \u001b[38;5;28mself\u001b[39m\u001b[38;5;241m.\u001b[39mtagName))\n",
      "\u001b[0;31mAttributeError\u001b[0m: Required attribute missing: masterpagename in <draw:page>"
     ]
    }
   ],
   "source": [
    "test_slides = [\n",
    "    {\"title\": \"headline\", \"content\": [\"A\", \"B\", \"C\"]},\n",
    "    {\"title\": \"headline\", \"content\": [\"D\", \"E\", \"F\"]}\n",
    "]\n",
    "\n",
    "create_presentation(test_slides, \"example_slides.odp\")"
   ]
  }
 ],
 "metadata": {
  "language_info": {
   "codemirror_mode": {
    "name": "ipython",
    "version": 3
   },
   "file_extension": ".py",
   "mimetype": "text/x-python",
   "name": "python",
   "nbconvert_exporter": "python",
   "pygments_lexer": "ipython3",
   "version": "3.12.7"
  }
 },
 "nbformat": 4,
 "nbformat_minor": 4
}
