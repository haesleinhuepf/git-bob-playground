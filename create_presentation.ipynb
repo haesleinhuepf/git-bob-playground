{
 "cells": [
  {
   "cell_type": "markdown",
   "metadata": {},
   "source": [
    "# Create OpenDocument presentations (ODP)\n",
    "\n",
    "We will use python-odf to create presentations with titles and columned content."
   ]
  },
  {
   "cell_type": "code",
   "execution_count": 1,
   "metadata": {
    "execution": {
     "iopub.execute_input": "2024-10-27T20:37:15.353417Z",
     "iopub.status.busy": "2024-10-27T20:37:15.353236Z",
     "iopub.status.idle": "2024-10-27T20:37:15.524214Z",
     "shell.execute_reply": "2024-10-27T20:37:15.523457Z"
    }
   },
   "outputs": [
    {
     "ename": "ModuleNotFoundError",
     "evalue": "No module named 'odf'",
     "output_type": "error",
     "traceback": [
      "\u001b[0;31m---------------------------------------------------------------------------\u001b[0m",
      "\u001b[0;31mModuleNotFoundError\u001b[0m                       Traceback (most recent call last)",
      "Cell \u001b[0;32mIn[1], line 1\u001b[0m\n\u001b[0;32m----> 1\u001b[0m \u001b[38;5;28;01mfrom\u001b[39;00m \u001b[38;5;21;01modf\u001b[39;00m\u001b[38;5;21;01m.\u001b[39;00m\u001b[38;5;21;01mopendocument\u001b[39;00m \u001b[38;5;28;01mimport\u001b[39;00m OpenDocumentPresentation\n\u001b[1;32m      2\u001b[0m \u001b[38;5;28;01mfrom\u001b[39;00m \u001b[38;5;21;01modf\u001b[39;00m\u001b[38;5;21;01m.\u001b[39;00m\u001b[38;5;21;01mstyle\u001b[39;00m \u001b[38;5;28;01mimport\u001b[39;00m Style, MasterPage\n\u001b[1;32m      3\u001b[0m \u001b[38;5;28;01mfrom\u001b[39;00m \u001b[38;5;21;01modf\u001b[39;00m\u001b[38;5;21;01m.\u001b[39;00m\u001b[38;5;21;01mtext\u001b[39;00m \u001b[38;5;28;01mimport\u001b[39;00m P\n",
      "\u001b[0;31mModuleNotFoundError\u001b[0m: No module named 'odf'"
     ]
    }
   ],
   "source": [
    "from odf.opendocument import OpenDocumentPresentation\n",
    "from odf.style import Style, MasterPage\n",
    "from odf.text import P\n",
    "from odf.draw import Page, Frame, TextBox"
   ]
  },
  {
   "cell_type": "markdown",
   "metadata": {},
   "source": [
    "## Function to create presentations\n",
    "\n",
    "This function takes a list of dictionaries containing slide data and creates a presentation file."
   ]
  },
  {
   "cell_type": "code",
   "execution_count": null,
   "metadata": {},
   "outputs": [],
   "source": [
    "def create_presentation(slides_data, filename=\"test.odp\"):\n",
    "    presentation = OpenDocumentPresentation()\n",
    "    \n",
    "    for slide_data in slides_data:\n",
    "        # Create new slide\n",
    "        slide = Page()\n",
    "        presentation.presentation.addElement(slide)\n",
    "        \n",
    "        # Add title\n",
    "        title_frame = Frame(width=\"20cm\", height=\"3cm\", x=\"2cm\", y=\"1cm\")\n",
    "        slide.addElement(title_frame)\n",
    "        title_box = TextBox()\n",
    "        title_frame.addElement(title_box)\n",
    "        title_box.addElement(P(text=slide_data[\"title\"]))\n",
    "        \n",
    "        # Add content in columns\n",
    "        num_columns = len(slide_data[\"content\"])\n",
    "        column_width = 16 / num_columns  # 16cm total width\n",
    "        \n",
    "        for i, content in enumerate(slide_data[\"content\"]):\n",
    "            x_pos = 2 + i * column_width  # Start at 2cm, space columns evenly\n",
    "            content_frame = Frame(width=f\"{column_width}cm\", height=\"5cm\", \n",
    "                                x=f\"{x_pos}cm\", y=\"5cm\")\n",
    "            slide.addElement(content_frame)\n",
    "            content_box = TextBox()\n",
    "            content_frame.addElement(content_box)\n",
    "            content_box.addElement(P(text=content))\n",
    "    \n",
    "    presentation.save(filename)"
   ]
  },
  {
   "cell_type": "markdown",
   "metadata": {},
   "source": [
    "## Test the presentation creator\n",
    "\n",
    "Create a test presentation with two slides:"
   ]
  },
  {
   "cell_type": "code",
   "execution_count": null,
   "metadata": {},
   "outputs": [],
   "source": [
    "# Test data\n",
    "slides = [\n",
    "    {\"title\": \"headline\", \"content\": [\"A\", \"B\", \"C\"]},\n",
    "    {\"title\": \"headline\", \"content\": [\"D\", \"E\", \"F\"]}\n",
    "]\n",
    "\n",
    "# Create presentation\n",
    "create_presentation(slides, \"example_presentation.odp\")"
   ]
  }
 ],
 "metadata": {
  "language_info": {
   "codemirror_mode": {
    "name": "ipython",
    "version": 3
   },
   "file_extension": ".py",
   "mimetype": "text/x-python",
   "name": "python",
   "nbconvert_exporter": "python",
   "pygments_lexer": "ipython3",
   "version": "3.12.7"
  }
 },
 "nbformat": 4,
 "nbformat_minor": 4
}
