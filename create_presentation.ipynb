{
 "cells": [
  {
   "cell_type": "markdown",
   "metadata": {},
   "source": [
    "# Creating OpenDocument Presentations (ODP)\n",
    "\n",
    "We'll create presentations using python-odf library."
   ]
  },
  {
   "cell_type": "markdown",
   "metadata": {},
   "source": [
    "## Import required libraries"
   ]
  },
  {
   "cell_type": "code",
   "execution_count": 1,
   "metadata": {
    "execution": {
     "iopub.execute_input": "2024-10-27T20:50:41.581924Z",
     "iopub.status.busy": "2024-10-27T20:50:41.581741Z",
     "iopub.status.idle": "2024-10-27T20:50:41.600536Z",
     "shell.execute_reply": "2024-10-27T20:50:41.599982Z"
    }
   },
   "outputs": [],
   "source": [
    "from odf.opendocument import OpenDocumentPresentation\n",
    "from odf.style import Style, MasterPage\n",
    "from odf.text import P\n",
    "from odf.draw import Page, Frame, TextBox"
   ]
  },
  {
   "cell_type": "markdown",
   "metadata": {},
   "source": [
    "## Create master page style\n",
    "This is required for the presentation slides"
   ]
  },
  {
   "cell_type": "code",
   "execution_count": 2,
   "metadata": {
    "execution": {
     "iopub.execute_input": "2024-10-27T20:50:41.602472Z",
     "iopub.status.busy": "2024-10-27T20:50:41.602286Z",
     "iopub.status.idle": "2024-10-27T20:50:41.605349Z",
     "shell.execute_reply": "2024-10-27T20:50:41.604809Z"
    }
   },
   "outputs": [],
   "source": [
    "def setup_presentation_style():\n",
    "    # Create the master page style\n",
    "    dpstyle = Style(name=\"dp1\", family=\"drawing-page\")\n",
    "    masterpage = MasterPage(name=\"Standard\", stylename=dpstyle)\n",
    "    return dpstyle, masterpage"
   ]
  },
  {
   "cell_type": "markdown",
   "metadata": {},
   "source": [
    "## Function to create presentations"
   ]
  },
  {
   "cell_type": "code",
   "execution_count": 3,
   "metadata": {
    "execution": {
     "iopub.execute_input": "2024-10-27T20:50:41.607426Z",
     "iopub.status.busy": "2024-10-27T20:50:41.606992Z",
     "iopub.status.idle": "2024-10-27T20:50:41.612035Z",
     "shell.execute_reply": "2024-10-27T20:50:41.611558Z"
    }
   },
   "outputs": [],
   "source": [
    "def create_presentation(slides_data, filename=\"presentation.odp\"):\n",
    "    presentation = OpenDocumentPresentation()\n",
    "    \n",
    "    # Add master page style\n",
    "    dpstyle, masterpage = setup_presentation_style()\n",
    "    presentation.automaticstyles.addElement(dpstyle)\n",
    "    presentation.masterstyles.addElement(masterpage)\n",
    "    \n",
    "    for slide_data in slides_data:\n",
    "        # Create new slide with master page\n",
    "        slide = Page(masterpagename=\"Standard\")\n",
    "        presentation.presentation.addElement(slide)\n",
    "        \n",
    "        # Add title\n",
    "        title_frame = Frame(width=\"20cm\", height=\"3cm\", x=\"2cm\", y=\"1cm\")\n",
    "        slide.addElement(title_frame)\n",
    "        title_box = TextBox()\n",
    "        title_frame.addElement(title_box)\n",
    "        title_box.addElement(P(text=slide_data[\"title\"]))\n",
    "        \n",
    "        # Add content columns\n",
    "        num_columns = len(slide_data[\"content\"])\n",
    "        column_width = 16 / num_columns\n",
    "        \n",
    "        for i, content in enumerate(slide_data[\"content\"]):\n",
    "            x_pos = 2 + i * column_width\n",
    "            content_frame = Frame(width=f\"{column_width}cm\", height=\"5cm\", \n",
    "                                x=f\"{x_pos}cm\", y=\"5cm\")\n",
    "            slide.addElement(content_frame)\n",
    "            content_box = TextBox()\n",
    "            content_frame.addElement(content_box)\n",
    "            content_box.addElement(P(text=content))\n",
    "    \n",
    "    presentation.save(filename)"
   ]
  },
  {
   "cell_type": "markdown",
   "metadata": {},
   "source": [
    "## Test the presentation creator"
   ]
  },
  {
   "cell_type": "code",
   "execution_count": 4,
   "metadata": {
    "execution": {
     "iopub.execute_input": "2024-10-27T20:50:41.613905Z",
     "iopub.status.busy": "2024-10-27T20:50:41.613511Z",
     "iopub.status.idle": "2024-10-27T20:50:41.859948Z",
     "shell.execute_reply": "2024-10-27T20:50:41.859145Z"
    }
   },
   "outputs": [
    {
     "ename": "AttributeError",
     "evalue": "Required attribute missing: pagelayoutname in <style:master-page>",
     "output_type": "error",
     "traceback": [
      "\u001b[0;31m---------------------------------------------------------------------------\u001b[0m",
      "\u001b[0;31mAttributeError\u001b[0m                            Traceback (most recent call last)",
      "Cell \u001b[0;32mIn[4], line 6\u001b[0m\n\u001b[1;32m      1\u001b[0m test_slides \u001b[38;5;241m=\u001b[39m [\n\u001b[1;32m      2\u001b[0m     {\u001b[38;5;124m\"\u001b[39m\u001b[38;5;124mtitle\u001b[39m\u001b[38;5;124m\"\u001b[39m: \u001b[38;5;124m\"\u001b[39m\u001b[38;5;124mheadline\u001b[39m\u001b[38;5;124m\"\u001b[39m, \u001b[38;5;124m\"\u001b[39m\u001b[38;5;124mcontent\u001b[39m\u001b[38;5;124m\"\u001b[39m: [\u001b[38;5;124m\"\u001b[39m\u001b[38;5;124mA\u001b[39m\u001b[38;5;124m\"\u001b[39m, \u001b[38;5;124m\"\u001b[39m\u001b[38;5;124mB\u001b[39m\u001b[38;5;124m\"\u001b[39m, \u001b[38;5;124m\"\u001b[39m\u001b[38;5;124mC\u001b[39m\u001b[38;5;124m\"\u001b[39m]},\n\u001b[1;32m      3\u001b[0m     {\u001b[38;5;124m\"\u001b[39m\u001b[38;5;124mtitle\u001b[39m\u001b[38;5;124m\"\u001b[39m: \u001b[38;5;124m\"\u001b[39m\u001b[38;5;124mheadline\u001b[39m\u001b[38;5;124m\"\u001b[39m, \u001b[38;5;124m\"\u001b[39m\u001b[38;5;124mcontent\u001b[39m\u001b[38;5;124m\"\u001b[39m: [\u001b[38;5;124m\"\u001b[39m\u001b[38;5;124mD\u001b[39m\u001b[38;5;124m\"\u001b[39m, \u001b[38;5;124m\"\u001b[39m\u001b[38;5;124mE\u001b[39m\u001b[38;5;124m\"\u001b[39m, \u001b[38;5;124m\"\u001b[39m\u001b[38;5;124mF\u001b[39m\u001b[38;5;124m\"\u001b[39m]}\n\u001b[1;32m      4\u001b[0m ]\n\u001b[0;32m----> 6\u001b[0m \u001b[43mcreate_presentation\u001b[49m\u001b[43m(\u001b[49m\u001b[43mtest_slides\u001b[49m\u001b[43m,\u001b[49m\u001b[43m \u001b[49m\u001b[38;5;124;43m\"\u001b[39;49m\u001b[38;5;124;43mexample_slides.odp\u001b[39;49m\u001b[38;5;124;43m\"\u001b[39;49m\u001b[43m)\u001b[49m\n",
      "Cell \u001b[0;32mIn[3], line 5\u001b[0m, in \u001b[0;36mcreate_presentation\u001b[0;34m(slides_data, filename)\u001b[0m\n\u001b[1;32m      2\u001b[0m presentation \u001b[38;5;241m=\u001b[39m OpenDocumentPresentation()\n\u001b[1;32m      4\u001b[0m \u001b[38;5;66;03m# Add master page style\u001b[39;00m\n\u001b[0;32m----> 5\u001b[0m dpstyle, masterpage \u001b[38;5;241m=\u001b[39m \u001b[43msetup_presentation_style\u001b[49m\u001b[43m(\u001b[49m\u001b[43m)\u001b[49m\n\u001b[1;32m      6\u001b[0m presentation\u001b[38;5;241m.\u001b[39mautomaticstyles\u001b[38;5;241m.\u001b[39maddElement(dpstyle)\n\u001b[1;32m      7\u001b[0m presentation\u001b[38;5;241m.\u001b[39mmasterstyles\u001b[38;5;241m.\u001b[39maddElement(masterpage)\n",
      "Cell \u001b[0;32mIn[2], line 4\u001b[0m, in \u001b[0;36msetup_presentation_style\u001b[0;34m()\u001b[0m\n\u001b[1;32m      1\u001b[0m \u001b[38;5;28;01mdef\u001b[39;00m \u001b[38;5;21msetup_presentation_style\u001b[39m():\n\u001b[1;32m      2\u001b[0m     \u001b[38;5;66;03m# Create the master page style\u001b[39;00m\n\u001b[1;32m      3\u001b[0m     dpstyle \u001b[38;5;241m=\u001b[39m Style(name\u001b[38;5;241m=\u001b[39m\u001b[38;5;124m\"\u001b[39m\u001b[38;5;124mdp1\u001b[39m\u001b[38;5;124m\"\u001b[39m, family\u001b[38;5;241m=\u001b[39m\u001b[38;5;124m\"\u001b[39m\u001b[38;5;124mdrawing-page\u001b[39m\u001b[38;5;124m\"\u001b[39m)\n\u001b[0;32m----> 4\u001b[0m     masterpage \u001b[38;5;241m=\u001b[39m \u001b[43mMasterPage\u001b[49m\u001b[43m(\u001b[49m\u001b[43mname\u001b[49m\u001b[38;5;241;43m=\u001b[39;49m\u001b[38;5;124;43m\"\u001b[39;49m\u001b[38;5;124;43mStandard\u001b[39;49m\u001b[38;5;124;43m\"\u001b[39;49m\u001b[43m,\u001b[49m\u001b[43m \u001b[49m\u001b[43mstylename\u001b[49m\u001b[38;5;241;43m=\u001b[39;49m\u001b[43mdpstyle\u001b[49m\u001b[43m)\u001b[49m\n\u001b[1;32m      5\u001b[0m     \u001b[38;5;28;01mreturn\u001b[39;00m dpstyle, masterpage\n",
      "File \u001b[0;32m/opt/hostedtoolcache/Python/3.12.7/x64/lib/python3.12/site-packages/odf/style.py:102\u001b[0m, in \u001b[0;36mMasterPage\u001b[0;34m(**args)\u001b[0m\n\u001b[1;32m    101\u001b[0m \u001b[38;5;28;01mdef\u001b[39;00m \u001b[38;5;21mMasterPage\u001b[39m(\u001b[38;5;241m*\u001b[39m\u001b[38;5;241m*\u001b[39margs):\n\u001b[0;32m--> 102\u001b[0m     \u001b[38;5;28;01mreturn\u001b[39;00m \u001b[43mStyleElement\u001b[49m\u001b[43m(\u001b[49m\u001b[43mqname\u001b[49m\u001b[43m \u001b[49m\u001b[38;5;241;43m=\u001b[39;49m\u001b[43m \u001b[49m\u001b[43m(\u001b[49m\u001b[43mSTYLENS\u001b[49m\u001b[43m,\u001b[49m\u001b[38;5;124;43m'\u001b[39;49m\u001b[38;5;124;43mmaster-page\u001b[39;49m\u001b[38;5;124;43m'\u001b[39;49m\u001b[43m)\u001b[49m\u001b[43m,\u001b[49m\u001b[43m \u001b[49m\u001b[38;5;241;43m*\u001b[39;49m\u001b[38;5;241;43m*\u001b[39;49m\u001b[43margs\u001b[49m\u001b[43m)\u001b[49m\n",
      "File \u001b[0;32m/opt/hostedtoolcache/Python/3.12.7/x64/lib/python3.12/site-packages/odf/style.py:25\u001b[0m, in \u001b[0;36mStyleElement\u001b[0;34m(**args)\u001b[0m\n\u001b[1;32m     24\u001b[0m \u001b[38;5;28;01mdef\u001b[39;00m \u001b[38;5;21mStyleElement\u001b[39m(\u001b[38;5;241m*\u001b[39m\u001b[38;5;241m*\u001b[39margs):\n\u001b[0;32m---> 25\u001b[0m     e \u001b[38;5;241m=\u001b[39m \u001b[43mElement\u001b[49m\u001b[43m(\u001b[49m\u001b[38;5;241;43m*\u001b[39;49m\u001b[38;5;241;43m*\u001b[39;49m\u001b[43margs\u001b[49m\u001b[43m)\u001b[49m\n\u001b[1;32m     26\u001b[0m     \u001b[38;5;28;01mif\u001b[39;00m args\u001b[38;5;241m.\u001b[39mget(\u001b[38;5;124m'\u001b[39m\u001b[38;5;124mcheck_grammar\u001b[39m\u001b[38;5;124m'\u001b[39m, \u001b[38;5;28;01mTrue\u001b[39;00m) \u001b[38;5;241m==\u001b[39m \u001b[38;5;28;01mTrue\u001b[39;00m:\n\u001b[1;32m     27\u001b[0m         \u001b[38;5;28;01mif\u001b[39;00m \u001b[38;5;124m'\u001b[39m\u001b[38;5;124mdisplayname\u001b[39m\u001b[38;5;124m'\u001b[39m \u001b[38;5;129;01mnot\u001b[39;00m \u001b[38;5;129;01min\u001b[39;00m args:\n",
      "File \u001b[0;32m/opt/hostedtoolcache/Python/3.12.7/x64/lib/python3.12/site-packages/odf/element.py:391\u001b[0m, in \u001b[0;36mElement.__init__\u001b[0;34m(self, attributes, text, cdata, qname, qattributes, check_grammar, **args)\u001b[0m\n\u001b[1;32m    389\u001b[0m \u001b[38;5;28;01mfor\u001b[39;00m r \u001b[38;5;129;01min\u001b[39;00m required:\n\u001b[1;32m    390\u001b[0m     \u001b[38;5;28;01mif\u001b[39;00m \u001b[38;5;28mself\u001b[39m\u001b[38;5;241m.\u001b[39mgetAttrNS(r[\u001b[38;5;241m0\u001b[39m],r[\u001b[38;5;241m1\u001b[39m]) \u001b[38;5;129;01mis\u001b[39;00m \u001b[38;5;28;01mNone\u001b[39;00m:\n\u001b[0;32m--> 391\u001b[0m         \u001b[38;5;28;01mraise\u001b[39;00m \u001b[38;5;167;01mAttributeError\u001b[39;00m( \u001b[38;5;124m\"\u001b[39m\u001b[38;5;124mRequired attribute missing: \u001b[39m\u001b[38;5;132;01m%s\u001b[39;00m\u001b[38;5;124m in <\u001b[39m\u001b[38;5;132;01m%s\u001b[39;00m\u001b[38;5;124m>\u001b[39m\u001b[38;5;124m\"\u001b[39m \u001b[38;5;241m%\u001b[39m (r[\u001b[38;5;241m1\u001b[39m]\u001b[38;5;241m.\u001b[39mlower()\u001b[38;5;241m.\u001b[39mreplace(\u001b[38;5;124m'\u001b[39m\u001b[38;5;124m-\u001b[39m\u001b[38;5;124m'\u001b[39m,\u001b[38;5;124m'\u001b[39m\u001b[38;5;124m'\u001b[39m), \u001b[38;5;28mself\u001b[39m\u001b[38;5;241m.\u001b[39mtagName))\n",
      "\u001b[0;31mAttributeError\u001b[0m: Required attribute missing: pagelayoutname in <style:master-page>"
     ]
    }
   ],
   "source": [
    "test_slides = [\n",
    "    {\"title\": \"headline\", \"content\": [\"A\", \"B\", \"C\"]},\n",
    "    {\"title\": \"headline\", \"content\": [\"D\", \"E\", \"F\"]}\n",
    "]\n",
    "\n",
    "create_presentation(test_slides, \"example_slides.odp\")"
   ]
  }
 ],
 "metadata": {
  "language_info": {
   "codemirror_mode": {
    "name": "ipython",
    "version": 3
   },
   "file_extension": ".py",
   "mimetype": "text/x-python",
   "name": "python",
   "nbconvert_exporter": "python",
   "pygments_lexer": "ipython3",
   "version": "3.12.7"
  }
 },
 "nbformat": 4,
 "nbformat_minor": 4
}
