{
 "cells": [
  {
   "cell_type": "markdown",
   "metadata": {},
   "source": [
    "# Create OpenDocument Presentations\n",
    "\n",
    "This notebook demonstrates how to create ODP files with python-odf library."
   ]
  },
  {
   "cell_type": "markdown",
   "metadata": {},
   "source": [
    "## Import required libraries"
   ]
  },
  {
   "cell_type": "code",
   "execution_count": 1,
   "metadata": {
    "execution": {
     "iopub.execute_input": "2024-10-27T21:08:27.103564Z",
     "iopub.status.busy": "2024-10-27T21:08:27.103356Z",
     "iopub.status.idle": "2024-10-27T21:08:27.122330Z",
     "shell.execute_reply": "2024-10-27T21:08:27.121886Z"
    }
   },
   "outputs": [],
   "source": [
    "from odf.opendocument import OpenDocumentPresentation\n",
    "from odf.style import Style, MasterPage, PageLayout, PageLayoutProperties\n",
    "from odf.text import P \n",
    "from odf.draw import Page, Frame, TextBox"
   ]
  },
  {
   "cell_type": "markdown",
   "metadata": {},
   "source": [
    "## Function to create presentation"
   ]
  },
  {
   "cell_type": "code",
   "execution_count": 2,
   "metadata": {
    "execution": {
     "iopub.execute_input": "2024-10-27T21:08:27.124187Z",
     "iopub.status.busy": "2024-10-27T21:08:27.123997Z",
     "iopub.status.idle": "2024-10-27T21:08:27.129525Z",
     "shell.execute_reply": "2024-10-27T21:08:27.129053Z"
    }
   },
   "outputs": [],
   "source": [
    "def create_presentation(slides_data, filename):\n",
    "    # Create presentation\n",
    "    presentation = OpenDocumentPresentation()\n",
    "    \n",
    "    # Create and add page layout\n",
    "    page_layout = PageLayout(name=\"MyLayout\")\n",
    "    presentation.automaticstyles.addElement(page_layout)\n",
    "    \n",
    "    props = PageLayoutProperties(margintop=\"0cm\", marginbottom=\"0cm\",\n",
    "                                marginleft=\"0cm\", marginright=\"0cm\")\n",
    "    page_layout.addElement(props)\n",
    "    \n",
    "    # Create master page\n",
    "    master = MasterPage(name=\"Standard\", pagelayoutname=\"MyLayout\")\n",
    "    presentation.masterstyles.addElement(master)\n",
    "    \n",
    "    # Create slides\n",
    "    for slide_data in slides_data:\n",
    "        # Add new slide\n",
    "        slide = Page(masterpagename=\"Standard\")\n",
    "        presentation.presentation.addElement(slide)\n",
    "        \n",
    "        # Add title\n",
    "        title_frame = Frame(width=\"20cm\", height=\"3cm\", x=\"2cm\", y=\"1cm\")\n",
    "        slide.addElement(title_frame)\n",
    "        title_box = TextBox()\n",
    "        title_frame.addElement(title_box)\n",
    "        title_box.addElement(P(text=slide_data[\"title\"]))\n",
    "        \n",
    "        # Add content columns\n",
    "        num_columns = len(slide_data[\"content\"])\n",
    "        column_width = 16 / num_columns\n",
    "        \n",
    "        for i, content in enumerate(slide_data[\"content\"]):\n",
    "            x_pos = 2 + i * column_width\n",
    "            content_frame = Frame(width=f\"{column_width}cm\", height=\"5cm\",\n",
    "                                x=f\"{x_pos}cm\", y=\"5cm\")\n",
    "            slide.addElement(content_frame)\n",
    "            content_box = TextBox()\n",
    "            content_frame.addElement(content_box)\n",
    "            content_box.addElement(P(text=content))\n",
    "    \n",
    "    presentation.save(filename)"
   ]
  },
  {
   "cell_type": "markdown",
   "metadata": {},
   "source": [
    "## Test the presentation creator"
   ]
  },
  {
   "cell_type": "code",
   "execution_count": 3,
   "metadata": {
    "execution": {
     "iopub.execute_input": "2024-10-27T21:08:27.131351Z",
     "iopub.status.busy": "2024-10-27T21:08:27.131002Z",
     "iopub.status.idle": "2024-10-27T21:08:27.136484Z",
     "shell.execute_reply": "2024-10-27T21:08:27.136040Z"
    }
   },
   "outputs": [],
   "source": [
    "test_slides = [\n",
    "    {\"title\": \"headline\", \"content\": [\"A\", \"B\", \"C\"]},\n",
    "    {\"title\": \"headline\", \"content\": [\"D\", \"E\", \"F\"]}\n",
    "]\n",
    "\n",
    "create_presentation(test_slides, \"test_presentation.odp\")"
   ]
  }
 ],
 "metadata": {
  "language_info": {
   "codemirror_mode": {
    "name": "ipython",
    "version": 3
   },
   "file_extension": ".py",
   "mimetype": "text/x-python",
   "name": "python",
   "nbconvert_exporter": "python",
   "pygments_lexer": "ipython3",
   "version": "3.12.7"
  }
 },
 "nbformat": 4,
 "nbformat_minor": 4
}
