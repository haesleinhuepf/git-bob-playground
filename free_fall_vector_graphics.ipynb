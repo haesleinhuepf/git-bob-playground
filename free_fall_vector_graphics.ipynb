{
 "cells": [
  {
   "cell_type": "markdown",
   "id": "66495917",
   "metadata": {},
   "source": [
    "# Educational vector graphics: free fall trajectory\n",
    "\n",
    "This notebook generates an SVG diagram of a projectile's free-fall trajectory with a labeled coordinate system and gravity vector g, and then also saves the same diagram as a PNG. Intermediate results (trajectory data) are saved to disk as CSV."
   ]
  },
  {
   "cell_type": "markdown",
   "id": "a4cfb4ac",
   "metadata": {},
   "source": [
    "## Imports and configuration\n",
    "We import the necessary libraries and set up an output folder. We also define basic physical parameters for the simulation."
   ]
  },
  {
   "cell_type": "code",
   "execution_count": 1,
   "id": "9d677fb1",
   "metadata": {
    "execution": {
     "iopub.execute_input": "2025-08-09T12:38:28.241353Z",
     "iopub.status.busy": "2025-08-09T12:38:28.241167Z",
     "iopub.status.idle": "2025-08-09T12:38:30.310189Z",
     "shell.execute_reply": "2025-08-09T12:38:30.309681Z"
    }
   },
   "outputs": [],
   "source": [
    "import os\n",
    "import numpy as np\n",
    "import matplotlib.pyplot as plt\n",
    "\n",
    "# Output directory\n",
    "output_dir = \"output\"\n",
    "os.makedirs(output_dir, exist_ok=True)\n",
    "\n",
    "# Physical parameters\n",
    "g = 9.81  # gravity (m/s^2)\n",
    "v0 = 14.0  # initial speed (m/s)\n",
    "theta_deg = 40.0  # launch angle (degrees)\n",
    "x0, y0 = 0.0, 2.0  # initial position (m)\n",
    "\n",
    "theta = np.deg2rad(theta_deg)"
   ]
  },
  {
   "cell_type": "markdown",
   "id": "ca50d5d2",
   "metadata": {},
   "source": [
    "## Compute the projectile trajectory\n",
    "We compute the trajectory points and keep only those above the ground (y ≥ 0). We also save the trajectory as CSV for inspection or reuse."
   ]
  },
  {
   "cell_type": "code",
   "execution_count": 2,
   "id": "53f28031",
   "metadata": {
    "execution": {
     "iopub.execute_input": "2025-08-09T12:38:30.312253Z",
     "iopub.status.busy": "2025-08-09T12:38:30.312007Z",
     "iopub.status.idle": "2025-08-09T12:38:30.320736Z",
     "shell.execute_reply": "2025-08-09T12:38:30.320114Z"
    }
   },
   "outputs": [],
   "source": [
    "# Time grid up to slightly beyond total time of flight\n",
    "t_flight = (v0*np.sin(theta) + np.sqrt((v0*np.sin(theta))**2 + 2*g*y0)) / g\n",
    "t = np.linspace(0, t_flight * 1.05, 300)\n",
    "\n",
    "# Parametric equations of motion\n",
    "x = x0 + v0*np.cos(theta)*t\n",
    "y = y0 + v0*np.sin(theta)*t - 0.5*g*t**2\n",
    "\n",
    "# Keep only points above ground\n",
    "mask = y >= 0\n",
    "x_traj = x[mask]\n",
    "y_traj = y[mask]\n",
    "\n",
    "# Save trajectory to CSV\n",
    "traj = np.stack([x_traj, y_traj], axis=1)\n",
    "traj_csv_path = os.path.join(output_dir, \"trajectory_free_fall.csv\")\n",
    "np.savetxt(traj_csv_path, traj, delimiter=\",\", header=\"x,y\", comments=\"\")"
   ]
  },
  {
   "cell_type": "markdown",
   "id": "01fa66e1",
   "metadata": {},
   "source": [
    "## Draw the SVG diagram with axes, trajectory and gravity vector g\n",
    "We create a figure that shows:\n",
    "- A labeled coordinate system with arrow heads for x and y axes\n",
    "- The parabolic trajectory\n",
    "- A downward arrow labeled g representing the gravity vector\n",
    "\n",
    "We save the result as SVG and then also as PNG. No plots are displayed inline; they are saved to disk."
   ]
  },
  {
   "cell_type": "code",
   "execution_count": 3,
   "id": "195e7b3c",
   "metadata": {
    "execution": {
     "iopub.execute_input": "2025-08-09T12:38:30.322605Z",
     "iopub.status.busy": "2025-08-09T12:38:30.322395Z",
     "iopub.status.idle": "2025-08-09T12:38:30.421525Z",
     "shell.execute_reply": "2025-08-09T12:38:30.420891Z"
    }
   },
   "outputs": [],
   "source": [
    "fig, ax = plt.subplots(figsize=(5, 4), dpi=150)\n",
    "\n",
    "# Plot trajectory\n",
    "ax.plot(x_traj, y_traj, color=\"tab:blue\", lw=2)\n",
    "\n",
    "# Limits and aspect\n",
    "xmax = float(np.max(x_traj)) * 1.1\n",
    "ymax = max(float(np.max(y_traj)) * 1.1, 1.0)\n",
    "ax.set_xlim(-0.5, xmax)\n",
    "ax.set_ylim(-0.5, ymax)\n",
    "ax.set_aspect('equal', adjustable='box')\n",
    "\n",
    "# Hide default top/right spines and move axes to origin\n",
    "ax.spines['top'].set_visible(False)\n",
    "ax.spines['right'].set_visible(False)\n",
    "ax.spines['bottom'].set_position('zero')\n",
    "ax.spines['left'].set_position('zero')\n",
    "\n",
    "# Draw arrowheads for axes\n",
    "ax.annotate(\"\", xy=(xmax, 0), xytext=(0, 0), arrowprops=dict(arrowstyle=\"->\", color=\"black\"))\n",
    "ax.annotate(\"\", xy=(0, ymax), xytext=(0, 0), arrowprops=dict(arrowstyle=\"->\", color=\"black\"))\n",
    "\n",
    "# Axis labels\n",
    "ax.text(xmax, -0.05*ymax, \"x\", ha=\"right\", va=\"top\")\n",
    "ax.text(-0.05*xmax, ymax, \"y\", ha=\"right\", va=\"bottom\")\n",
    "\n",
    "# Gravity vector g (downward arrow) placed near top-right\n",
    "g_length = ymax * 0.25\n",
    "gx = xmax * 0.75\n",
    "gy = ymax * 0.85\n",
    "ax.annotate(\"\", xy=(gx, gy - g_length), xytext=(gx, gy),\n",
    "            arrowprops=dict(arrowstyle=\"->\", color=\"tab:red\", lw=2))\n",
    "ax.text(gx + 0.02*xmax, gy - g_length/2, \"g\", color=\"tab:red\", va=\"center\")\n",
    "\n",
    "# Remove ticks for cleaner educational diagram\n",
    "ax.set_xticks([])\n",
    "ax.set_yticks([])\n",
    "\n",
    "# Save as SVG and PNG\n",
    "svg_path = os.path.join(output_dir, \"free_fall_diagram.svg\")\n",
    "png_path = os.path.join(output_dir, \"free_fall_diagram.png\")\n",
    "fig.savefig(svg_path, format=\"svg\", bbox_inches=\"tight\")\n",
    "fig.savefig(png_path, format=\"png\", dpi=300, bbox_inches=\"tight\")\n",
    "plt.close(fig)"
   ]
  },
  {
   "cell_type": "markdown",
   "id": "167b9c7c",
   "metadata": {},
   "source": [
    "## Store paths to generated files\n",
    "We keep references to the saved file paths for later reuse by other notebooks or scripts."
   ]
  },
  {
   "cell_type": "code",
   "execution_count": 4,
   "id": "7785aa45",
   "metadata": {
    "execution": {
     "iopub.execute_input": "2025-08-09T12:38:30.423539Z",
     "iopub.status.busy": "2025-08-09T12:38:30.423332Z",
     "iopub.status.idle": "2025-08-09T12:38:30.425905Z",
     "shell.execute_reply": "2025-08-09T12:38:30.425444Z"
    }
   },
   "outputs": [],
   "source": [
    "saved_svg = svg_path\n",
    "saved_png = png_path\n",
    "saved_csv = traj_csv_path\n",
    "\n",
    "# Variables saved_svg, saved_png, and saved_csv now contain the output file paths."
   ]
  }
 ],
 "metadata": {
  "language_info": {
   "codemirror_mode": {
    "name": "ipython",
    "version": 3
   },
   "file_extension": ".py",
   "mimetype": "text/x-python",
   "name": "python",
   "nbconvert_exporter": "python",
   "pygments_lexer": "ipython3",
   "version": "3.13.5"
  }
 },
 "nbformat": 4,
 "nbformat_minor": 5
}
