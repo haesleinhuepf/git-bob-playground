{
 "cells": [
  {
   "cell_type": "markdown",
   "metadata": {},
   "source": [
    "# Creating a 96 Well Plate Layout in PowerPoint\n",
    "\n",
    "This notebook creates a PowerPoint presentation with a 96 well plate layout."
   ]
  },
  {
   "cell_type": "markdown",
   "metadata": {},
   "source": [
    "Import required libraries"
   ]
  },
  {
   "cell_type": "code",
   "execution_count": 1,
   "metadata": {
    "execution": {
     "iopub.execute_input": "2025-05-16T15:10:10.884708Z",
     "iopub.status.busy": "2025-05-16T15:10:10.884186Z",
     "iopub.status.idle": "2025-05-16T15:10:10.962516Z",
     "shell.execute_reply": "2025-05-16T15:10:10.962011Z"
    }
   },
   "outputs": [],
   "source": [
    "from pptx import Presentation\n",
    "from pptx.util import Inches, Pt\n",
    "from pptx.enum.text import PP_ALIGN"
   ]
  },
  {
   "cell_type": "markdown",
   "metadata": {},
   "source": [
    "Create a new presentation and add a blank slide"
   ]
  },
  {
   "cell_type": "code",
   "execution_count": 2,
   "metadata": {
    "execution": {
     "iopub.execute_input": "2025-05-16T15:10:10.964717Z",
     "iopub.status.busy": "2025-05-16T15:10:10.964291Z",
     "iopub.status.idle": "2025-05-16T15:10:10.973323Z",
     "shell.execute_reply": "2025-05-16T15:10:10.972841Z"
    }
   },
   "outputs": [],
   "source": [
    "prs = Presentation()\n",
    "blank_slide_layout = prs.slide_layouts[6]\n",
    "slide = prs.slides.add_slide(blank_slide_layout)"
   ]
  },
  {
   "cell_type": "markdown",
   "metadata": {},
   "source": [
    "Create the 96 well plate layout (12 x 8 grid) with labels"
   ]
  },
  {
   "cell_type": "code",
   "execution_count": 3,
   "metadata": {
    "execution": {
     "iopub.execute_input": "2025-05-16T15:10:10.975199Z",
     "iopub.status.busy": "2025-05-16T15:10:10.974789Z",
     "iopub.status.idle": "2025-05-16T15:10:10.983746Z",
     "shell.execute_reply": "2025-05-16T15:10:10.983306Z"
    }
   },
   "outputs": [],
   "source": [
    "# Define starting position and well dimensions\n",
    "start_x = Inches(1)\n",
    "start_y = Inches(1)\n",
    "well_size = Inches(0.4)\n",
    "spacing = Inches(0.1)\n",
    "\n",
    "# Add row labels (A-H)\n",
    "for i in range(8):\n",
    "    txbox = slide.shapes.add_textbox(start_x - spacing, \n",
    "                                    start_y + i * (well_size + spacing),\n",
    "                                    Inches(0.2), \n",
    "                                    well_size)\n",
    "    txbox.text = chr(65 + i)\n",
    "\n",
    "# Add column labels (1-12)\n",
    "for j in range(12):\n",
    "    txbox = slide.shapes.add_textbox(start_x + j * (well_size + spacing),\n",
    "                                    start_y - spacing,\n",
    "                                    well_size,\n",
    "                                    Inches(0.2))\n",
    "    txbox.text = str(j + 1)"
   ]
  },
  {
   "cell_type": "markdown",
   "metadata": {},
   "source": [
    "Add circles representing wells"
   ]
  },
  {
   "cell_type": "code",
   "execution_count": 4,
   "metadata": {
    "execution": {
     "iopub.execute_input": "2025-05-16T15:10:10.985543Z",
     "iopub.status.busy": "2025-05-16T15:10:10.985183Z",
     "iopub.status.idle": "2025-05-16T15:10:11.144429Z",
     "shell.execute_reply": "2025-05-16T15:10:11.143648Z"
    }
   },
   "outputs": [
    {
     "ename": "TypeError",
     "evalue": "_BaseGroupShapes.add_shape() got an unexpected keyword argument 'shape_type_id'. Did you mean 'autoshape_type_id'?",
     "output_type": "error",
     "traceback": [
      "\u001b[31m---------------------------------------------------------------------------\u001b[39m",
      "\u001b[31mTypeError\u001b[39m                                 Traceback (most recent call last)",
      "\u001b[36mCell\u001b[39m\u001b[36m \u001b[39m\u001b[32mIn[4]\u001b[39m\u001b[32m, line 5\u001b[39m\n\u001b[32m      3\u001b[39m x = start_x + j * (well_size + spacing)\n\u001b[32m      4\u001b[39m y = start_y + i * (well_size + spacing)\n\u001b[32m----> \u001b[39m\u001b[32m5\u001b[39m \u001b[43mslide\u001b[49m\u001b[43m.\u001b[49m\u001b[43mshapes\u001b[49m\u001b[43m.\u001b[49m\u001b[43madd_shape\u001b[49m\u001b[43m(\u001b[49m\n\u001b[32m      6\u001b[39m \u001b[43m    \u001b[49m\u001b[43mshape_type_id\u001b[49m\u001b[43m=\u001b[49m\u001b[32;43m1\u001b[39;49m\u001b[43m,\u001b[49m\u001b[43m  \u001b[49m\u001b[38;5;66;43;03m# Oval\u001b[39;49;00m\n\u001b[32m      7\u001b[39m \u001b[43m    \u001b[49m\u001b[43mleft\u001b[49m\u001b[43m=\u001b[49m\u001b[43mx\u001b[49m\u001b[43m,\u001b[49m\n\u001b[32m      8\u001b[39m \u001b[43m    \u001b[49m\u001b[43mtop\u001b[49m\u001b[43m=\u001b[49m\u001b[43my\u001b[49m\u001b[43m,\u001b[49m\n\u001b[32m      9\u001b[39m \u001b[43m    \u001b[49m\u001b[43mwidth\u001b[49m\u001b[43m=\u001b[49m\u001b[43mwell_size\u001b[49m\u001b[43m,\u001b[49m\n\u001b[32m     10\u001b[39m \u001b[43m    \u001b[49m\u001b[43mheight\u001b[49m\u001b[43m=\u001b[49m\u001b[43mwell_size\u001b[49m\n\u001b[32m     11\u001b[39m \u001b[43m\u001b[49m\u001b[43m)\u001b[49m\n",
      "\u001b[31mTypeError\u001b[39m: _BaseGroupShapes.add_shape() got an unexpected keyword argument 'shape_type_id'. Did you mean 'autoshape_type_id'?"
     ]
    }
   ],
   "source": [
    "for i in range(8):\n",
    "    for j in range(12):\n",
    "        x = start_x + j * (well_size + spacing)\n",
    "        y = start_y + i * (well_size + spacing)\n",
    "        slide.shapes.add_shape(\n",
    "            shape_type_id=1,  # Oval\n",
    "            left=x,\n",
    "            top=y,\n",
    "            width=well_size,\n",
    "            height=well_size\n",
    "        )"
   ]
  },
  {
   "cell_type": "markdown",
   "metadata": {},
   "source": [
    "Save the presentation"
   ]
  },
  {
   "cell_type": "code",
   "execution_count": null,
   "metadata": {},
   "outputs": [],
   "source": [
    "prs.save('96_well_plate.pptx')"
   ]
  }
 ],
 "metadata": {
  "language_info": {
   "codemirror_mode": {
    "name": "ipython",
    "version": 3
   },
   "file_extension": ".py",
   "mimetype": "text/x-python",
   "name": "python",
   "nbconvert_exporter": "python",
   "pygments_lexer": "ipython3",
   "version": "3.13.3"
  }
 },
 "nbformat": 4,
 "nbformat_minor": 4
}