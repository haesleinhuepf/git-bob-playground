{
 "cells": [
  {
   "cell_type": "markdown",
   "metadata": {},
   "source": [
    "# Creating a 96 Well Plate Layout in PowerPoint\n",
    "\n",
    "This notebook creates a PowerPoint presentation with a 96 well plate layout."
   ]
  },
  {
   "cell_type": "markdown",
   "metadata": {},
   "source": [
    "Import required libraries"
   ]
  },
  {
   "cell_type": "code",
   "execution_count": 1,
   "metadata": {
    "execution": {
     "iopub.execute_input": "2025-05-16T15:10:37.927315Z",
     "iopub.status.busy": "2025-05-16T15:10:37.927134Z",
     "iopub.status.idle": "2025-05-16T15:10:38.003949Z",
     "shell.execute_reply": "2025-05-16T15:10:38.003373Z"
    }
   },
   "outputs": [],
   "source": [
    "from pptx import Presentation\n",
    "from pptx.util import Inches, Pt\n",
    "from pptx.enum.text import PP_ALIGN"
   ]
  },
  {
   "cell_type": "markdown",
   "metadata": {},
   "source": [
    "Create a new presentation and add a blank slide"
   ]
  },
  {
   "cell_type": "code",
   "execution_count": 2,
   "metadata": {
    "execution": {
     "iopub.execute_input": "2025-05-16T15:10:38.006143Z",
     "iopub.status.busy": "2025-05-16T15:10:38.005762Z",
     "iopub.status.idle": "2025-05-16T15:10:38.014671Z",
     "shell.execute_reply": "2025-05-16T15:10:38.014098Z"
    }
   },
   "outputs": [],
   "source": [
    "prs = Presentation()\n",
    "blank_slide_layout = prs.slide_layouts[6]\n",
    "slide = prs.slides.add_slide(blank_slide_layout)"
   ]
  },
  {
   "cell_type": "markdown",
   "metadata": {},
   "source": [
    "Create the 96 well plate layout (12 x 8 grid) with labels"
   ]
  },
  {
   "cell_type": "code",
   "execution_count": 3,
   "metadata": {
    "execution": {
     "iopub.execute_input": "2025-05-16T15:10:38.016548Z",
     "iopub.status.busy": "2025-05-16T15:10:38.016193Z",
     "iopub.status.idle": "2025-05-16T15:10:38.025482Z",
     "shell.execute_reply": "2025-05-16T15:10:38.024933Z"
    }
   },
   "outputs": [],
   "source": [
    "# Define starting position and well dimensions\n",
    "start_x = Inches(1)\n",
    "start_y = Inches(1)\n",
    "well_size = Inches(0.4)\n",
    "spacing = Inches(0.1)\n",
    "\n",
    "# Add row labels (A-H)\n",
    "for i in range(8):\n",
    "    txbox = slide.shapes.add_textbox(start_x - spacing, \n",
    "                                    start_y + i * (well_size + spacing),\n",
    "                                    Inches(0.2), \n",
    "                                    well_size)\n",
    "    txbox.text = chr(65 + i)\n",
    "\n",
    "# Add column labels (1-12)\n",
    "for j in range(12):\n",
    "    txbox = slide.shapes.add_textbox(start_x + j * (well_size + spacing),\n",
    "                                    start_y - spacing,\n",
    "                                    well_size,\n",
    "                                    Inches(0.2))\n",
    "    txbox.text = str(j + 1)"
   ]
  },
  {
   "cell_type": "markdown",
   "metadata": {},
   "source": [
    "Add circles representing wells"
   ]
  },
  {
   "cell_type": "code",
   "execution_count": 4,
   "metadata": {
    "execution": {
     "iopub.execute_input": "2025-05-16T15:10:38.027110Z",
     "iopub.status.busy": "2025-05-16T15:10:38.026934Z",
     "iopub.status.idle": "2025-05-16T15:10:38.052099Z",
     "shell.execute_reply": "2025-05-16T15:10:38.051598Z"
    }
   },
   "outputs": [],
   "source": [
    "for i in range(8):\n",
    "    for j in range(12):\n",
    "        x = start_x + j * (well_size + spacing)\n",
    "        y = start_y + i * (well_size + spacing)\n",
    "        slide.shapes.add_shape(\n",
    "            autoshape_type_id=1,  # Oval\n",
    "            left=x,\n",
    "            top=y,\n",
    "            width=well_size,\n",
    "            height=well_size\n",
    "        )"
   ]
  },
  {
   "cell_type": "markdown",
   "metadata": {},
   "source": [
    "Save the presentation"
   ]
  },
  {
   "cell_type": "code",
   "execution_count": 5,
   "metadata": {
    "execution": {
     "iopub.execute_input": "2025-05-16T15:10:38.054289Z",
     "iopub.status.busy": "2025-05-16T15:10:38.053787Z",
     "iopub.status.idle": "2025-05-16T15:10:38.064330Z",
     "shell.execute_reply": "2025-05-16T15:10:38.063750Z"
    }
   },
   "outputs": [],
   "source": [
    "prs.save('96_well_plate.pptx')"
   ]
  }
 ],
 "metadata": {
  "language_info": {
   "codemirror_mode": {
    "name": "ipython",
    "version": 3
   },
   "file_extension": ".py",
   "mimetype": "text/x-python",
   "name": "python",
   "nbconvert_exporter": "python",
   "pygments_lexer": "ipython3",
   "version": "3.13.3"
  }
 },
 "nbformat": 4,
 "nbformat_minor": 4
}
