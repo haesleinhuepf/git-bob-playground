{
 "cells": [
  {
   "cell_type": "markdown",
   "metadata": {},
   "source": [
    "# Image Classification using ResNet50\n",
    "\n",
    "First, let's install and import the necessary libraries."
   ]
  },
  {
   "cell_type": "code",
   "execution_count": 1,
   "metadata": {
    "execution": {
     "iopub.execute_input": "2025-02-23T12:44:04.627265Z",
     "iopub.status.busy": "2025-02-23T12:44:04.626788Z",
     "iopub.status.idle": "2025-02-23T12:44:05.729336Z",
     "shell.execute_reply": "2025-02-23T12:44:05.728702Z"
    }
   },
   "outputs": [
    {
     "name": "stdout",
     "output_type": "stream",
     "text": [
      "Requirement already satisfied: torch in /opt/hostedtoolcache/Python/3.13.2/x64/lib/python3.13/site-packages (2.6.0)\r\n",
      "Requirement already satisfied: torchvision in /opt/hostedtoolcache/Python/3.13.2/x64/lib/python3.13/site-packages (0.21.0)\r\n",
      "Requirement already satisfied: pillow in /opt/hostedtoolcache/Python/3.13.2/x64/lib/python3.13/site-packages (11.1.0)\r\n",
      "Requirement already satisfied: requests in /opt/hostedtoolcache/Python/3.13.2/x64/lib/python3.13/site-packages (2.32.3)\r\n",
      "Requirement already satisfied: filelock in /opt/hostedtoolcache/Python/3.13.2/x64/lib/python3.13/site-packages (from torch) (3.17.0)\r\n",
      "Requirement already satisfied: typing-extensions>=4.10.0 in /opt/hostedtoolcache/Python/3.13.2/x64/lib/python3.13/site-packages (from torch) (4.12.2)\r\n",
      "Requirement already satisfied: networkx in /opt/hostedtoolcache/Python/3.13.2/x64/lib/python3.13/site-packages (from torch) (3.4.2)\r\n",
      "Requirement already satisfied: jinja2 in /opt/hostedtoolcache/Python/3.13.2/x64/lib/python3.13/site-packages (from torch) (3.1.5)\r\n",
      "Requirement already satisfied: fsspec in /opt/hostedtoolcache/Python/3.13.2/x64/lib/python3.13/site-packages (from torch) (2025.2.0)\r\n",
      "Requirement already satisfied: nvidia-cuda-nvrtc-cu12==12.4.127 in /opt/hostedtoolcache/Python/3.13.2/x64/lib/python3.13/site-packages (from torch) (12.4.127)\r\n",
      "Requirement already satisfied: nvidia-cuda-runtime-cu12==12.4.127 in /opt/hostedtoolcache/Python/3.13.2/x64/lib/python3.13/site-packages (from torch) (12.4.127)\r\n",
      "Requirement already satisfied: nvidia-cuda-cupti-cu12==12.4.127 in /opt/hostedtoolcache/Python/3.13.2/x64/lib/python3.13/site-packages (from torch) (12.4.127)\r\n",
      "Requirement already satisfied: nvidia-cudnn-cu12==9.1.0.70 in /opt/hostedtoolcache/Python/3.13.2/x64/lib/python3.13/site-packages (from torch) (9.1.0.70)\r\n"
     ]
    },
    {
     "name": "stdout",
     "output_type": "stream",
     "text": [
      "Requirement already satisfied: nvidia-cublas-cu12==12.4.5.8 in /opt/hostedtoolcache/Python/3.13.2/x64/lib/python3.13/site-packages (from torch) (12.4.5.8)\r\n",
      "Requirement already satisfied: nvidia-cufft-cu12==11.2.1.3 in /opt/hostedtoolcache/Python/3.13.2/x64/lib/python3.13/site-packages (from torch) (11.2.1.3)\r\n",
      "Requirement already satisfied: nvidia-curand-cu12==10.3.5.147 in /opt/hostedtoolcache/Python/3.13.2/x64/lib/python3.13/site-packages (from torch) (10.3.5.147)\r\n",
      "Requirement already satisfied: nvidia-cusolver-cu12==11.6.1.9 in /opt/hostedtoolcache/Python/3.13.2/x64/lib/python3.13/site-packages (from torch) (11.6.1.9)\r\n",
      "Requirement already satisfied: nvidia-cusparse-cu12==12.3.1.170 in /opt/hostedtoolcache/Python/3.13.2/x64/lib/python3.13/site-packages (from torch) (12.3.1.170)\r\n",
      "Requirement already satisfied: nvidia-cusparselt-cu12==0.6.2 in /opt/hostedtoolcache/Python/3.13.2/x64/lib/python3.13/site-packages (from torch) (0.6.2)\r\n",
      "Requirement already satisfied: nvidia-nccl-cu12==2.21.5 in /opt/hostedtoolcache/Python/3.13.2/x64/lib/python3.13/site-packages (from torch) (2.21.5)\r\n",
      "Requirement already satisfied: nvidia-nvtx-cu12==12.4.127 in /opt/hostedtoolcache/Python/3.13.2/x64/lib/python3.13/site-packages (from torch) (12.4.127)\r\n",
      "Requirement already satisfied: nvidia-nvjitlink-cu12==12.4.127 in /opt/hostedtoolcache/Python/3.13.2/x64/lib/python3.13/site-packages (from torch) (12.4.127)\r\n",
      "Requirement already satisfied: triton==3.2.0 in /opt/hostedtoolcache/Python/3.13.2/x64/lib/python3.13/site-packages (from torch) (3.2.0)\r\n",
      "Requirement already satisfied: setuptools in /opt/hostedtoolcache/Python/3.13.2/x64/lib/python3.13/site-packages (from torch) (75.8.0)\r\n",
      "Requirement already satisfied: sympy==1.13.1 in /opt/hostedtoolcache/Python/3.13.2/x64/lib/python3.13/site-packages (from torch) (1.13.1)\r\n",
      "Requirement already satisfied: mpmath<1.4,>=1.1.0 in /opt/hostedtoolcache/Python/3.13.2/x64/lib/python3.13/site-packages (from sympy==1.13.1->torch) (1.3.0)\r\n",
      "Requirement already satisfied: numpy in /opt/hostedtoolcache/Python/3.13.2/x64/lib/python3.13/site-packages (from torchvision) (2.1.3)\r\n",
      "Requirement already satisfied: charset-normalizer<4,>=2 in /opt/hostedtoolcache/Python/3.13.2/x64/lib/python3.13/site-packages (from requests) (3.4.1)\r\n",
      "Requirement already satisfied: idna<4,>=2.5 in /opt/hostedtoolcache/Python/3.13.2/x64/lib/python3.13/site-packages (from requests) (3.10)\r\n",
      "Requirement already satisfied: urllib3<3,>=1.21.1 in /opt/hostedtoolcache/Python/3.13.2/x64/lib/python3.13/site-packages (from requests) (1.26.16)\r\n",
      "Requirement already satisfied: certifi>=2017.4.17 in /opt/hostedtoolcache/Python/3.13.2/x64/lib/python3.13/site-packages (from requests) (2025.1.31)\r\n",
      "Requirement already satisfied: MarkupSafe>=2.0 in /opt/hostedtoolcache/Python/3.13.2/x64/lib/python3.13/site-packages (from jinja2->torch) (3.0.2)\r\n"
     ]
    }
   ],
   "source": [
    "!pip install torch torchvision pillow requests"
   ]
  },
  {
   "cell_type": "code",
   "execution_count": 2,
   "metadata": {
    "execution": {
     "iopub.execute_input": "2025-02-23T12:44:05.731570Z",
     "iopub.status.busy": "2025-02-23T12:44:05.731105Z",
     "iopub.status.idle": "2025-02-23T12:44:07.932217Z",
     "shell.execute_reply": "2025-02-23T12:44:07.931667Z"
    }
   },
   "outputs": [],
   "source": [
    "import torch\n",
    "from torchvision import models, transforms\n",
    "from PIL import Image\n",
    "import requests\n",
    "from io import BytesIO"
   ]
  },
  {
   "cell_type": "markdown",
   "metadata": {},
   "source": [
    "Load and preprocess the image"
   ]
  },
  {
   "cell_type": "code",
   "execution_count": 3,
   "metadata": {
    "execution": {
     "iopub.execute_input": "2025-02-23T12:44:07.934348Z",
     "iopub.status.busy": "2025-02-23T12:44:07.933933Z",
     "iopub.status.idle": "2025-02-23T12:44:07.951128Z",
     "shell.execute_reply": "2025-02-23T12:44:07.950649Z"
    }
   },
   "outputs": [],
   "source": [
    "# Define image transformations\n",
    "preprocess = transforms.Compose([\n",
    "    transforms.Resize(256),\n",
    "    transforms.CenterCrop(224),\n",
    "    transforms.ToTensor(),\n",
    "    transforms.Normalize(mean=[0.485, 0.456, 0.406], std=[0.229, 0.224, 0.225])\n",
    "])\n",
    "\n",
    "# Load image\n",
    "image = Image.open('microscope_cat.jpg')\n",
    "input_tensor = preprocess(image)\n",
    "input_batch = input_tensor.unsqueeze(0)"
   ]
  },
  {
   "cell_type": "markdown",
   "metadata": {},
   "source": [
    "Load the pre-trained ResNet50 model and run inference"
   ]
  },
  {
   "cell_type": "code",
   "execution_count": 4,
   "metadata": {
    "execution": {
     "iopub.execute_input": "2025-02-23T12:44:07.953114Z",
     "iopub.status.busy": "2025-02-23T12:44:07.952661Z",
     "iopub.status.idle": "2025-02-23T12:44:08.339022Z",
     "shell.execute_reply": "2025-02-23T12:44:08.338361Z"
    }
   },
   "outputs": [],
   "source": [
    "# Load model and weights\n",
    "weights = models.ResNet50_Weights.IMAGENET1K_V1\n",
    "model = models.resnet50(weights=weights)\n",
    "model.eval()\n",
    "\n",
    "# Run inference\n",
    "with torch.no_grad():\n",
    "    output = model(input_batch)\n",
    "\n",
    "# Get class names\n",
    "categories = weights.meta['categories']\n",
    "\n",
    "# Get top 5 predictions\n",
    "_, indices = torch.sort(output[0], descending=True)\n",
    "probabilities = torch.nn.functional.softmax(output[0], dim=0)\n",
    "\n",
    "# Save results\n",
    "with open('classification_results.txt', 'w') as f:\n",
    "    f.write('Top 5 predictions:\\n')\n",
    "    for idx in indices[:5]:\n",
    "        f.write(f'{categories[idx]}: {probabilities[idx].item():.3f}\\n')"
   ]
  }
 ],
 "metadata": {
  "language_info": {
   "codemirror_mode": {
    "name": "ipython",
    "version": 3
   },
   "file_extension": ".py",
   "mimetype": "text/x-python",
   "name": "python",
   "nbconvert_exporter": "python",
   "pygments_lexer": "ipython3",
   "version": "3.13.2"
  }
 },
 "nbformat": 4,
 "nbformat_minor": 4
}
