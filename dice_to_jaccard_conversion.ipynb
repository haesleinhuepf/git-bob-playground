{
 "cells": [
  {
   "cell_type": "markdown",
   "metadata": {},
   "source": [
    "# Convert Dice coefficient to Jaccard index\n",
    "\n",
    "The Dice coefficient and Jaccard index are related. We can convert between them using these formulas:\n",
    "* Jaccard = Dice / (2 - Dice)\n",
    "* Dice = 2 * Jaccard / (1 + Jaccard)"
   ]
  },
  {
   "cell_type": "markdown",
   "metadata": {},
   "source": [
    "Define the Dice coefficient (95% = 0.95)"
   ]
  },
  {
   "cell_type": "code",
   "execution_count": 1,
   "metadata": {
    "execution": {
     "iopub.execute_input": "2025-03-04T08:37:45.672968Z",
     "iopub.status.busy": "2025-03-04T08:37:45.672769Z",
     "iopub.status.idle": "2025-03-04T08:37:45.676176Z",
     "shell.execute_reply": "2025-03-04T08:37:45.675739Z"
    }
   },
   "outputs": [],
   "source": [
    "dice = 0.95"
   ]
  },
  {
   "cell_type": "markdown",
   "metadata": {},
   "source": [
    "Convert Dice to Jaccard"
   ]
  },
  {
   "cell_type": "code",
   "execution_count": 2,
   "metadata": {
    "execution": {
     "iopub.execute_input": "2025-03-04T08:37:45.678067Z",
     "iopub.status.busy": "2025-03-04T08:37:45.677649Z",
     "iopub.status.idle": "2025-03-04T08:37:45.681081Z",
     "shell.execute_reply": "2025-03-04T08:37:45.680556Z"
    }
   },
   "outputs": [
    {
     "name": "stdout",
     "output_type": "stream",
     "text": [
      "A Dice coefficient of 0.950 corresponds to a Jaccard index of 0.905\n"
     ]
    }
   ],
   "source": [
    "jaccard = dice / (2 - dice)\n",
    "print(f\"A Dice coefficient of {dice:.3f} corresponds to a Jaccard index of {jaccard:.3f}\")"
   ]
  }
 ],
 "metadata": {
  "language_info": {
   "codemirror_mode": {
    "name": "ipython",
    "version": 3
   },
   "file_extension": ".py",
   "mimetype": "text/x-python",
   "name": "python",
   "nbconvert_exporter": "python",
   "pygments_lexer": "ipython3",
   "version": "3.13.2"
  }
 },
 "nbformat": 4,
 "nbformat_minor": 4
}
