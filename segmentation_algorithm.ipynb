{
 "cells": [
  {
   "cell_type": "markdown",
   "metadata": {},
   "source": [
    "# Image Segmentation Algorithm\n",
    "\n",
    "This notebook implements a segmentation algorithm using a simulated image. The process follows these steps:\n",
    "\n",
    "1. Create a 100x100 image with 10 random pixels set to 1\n",
    "2. Apply Gaussian blur to the image\n",
    "3. Normalize the image to the range 0-1\n",
    "4. Apply a threshold of 0.5\n",
    "5. Perform connected component labeling\n",
    "6. Count the number of objects (should be 10)"
   ]
  },
  {
   "cell_type": "code",
   "execution_count": null,
   "metadata": {},
   "source": [
    "# Import necessary libraries\n",
    "import numpy as np\n",
    "import matplotlib.pyplot as plt\n",
    "from scipy.ndimage import gaussian_filter\n",
    "from skimage.measure import label, regionprops\n",
    "\n",
    "# Set random seed for reproducibility\n",
    "np.random.seed(42)"
   ]
  },
  {
   "cell_type": "code",
   "execution_count": null,
   "metadata": {},
   "source": [
    "# Create a 100x100 image with 10 random pixels set to 1\n",
    "image = np.zeros((100, 100))\n",
    "random_pixels = np.random.randint(0, 100, size=(10, 2))\n",
    "for pixel in random_pixels:\n",
    "    image[pixel[0], pixel[1]] = 1\n",
    "\n",
    "# Display the original image\n",
    "plt.figure(figsize=(8, 8))\n",
    "plt.imshow(image, cmap='gray')\n",
    "plt.title('Original Image with 10 Random Pixels')\n",
    "plt.colorbar()\n",
    "plt.show()"
   ]
  },
  {
   "cell_type": "code",
   "execution_count": null,
   "metadata": {},
   "source": [
    "# Apply Gaussian blur\n",
    "blurred_image = gaussian_filter(image, sigma=1)\n",
    "\n",
    "# Display the blurred image\n",
    "plt.figure(figsize=(8, 8))\n",
    "plt.imshow(blurred_image, cmap='gray')\n",
    "plt.title('Blurred Image (Gaussian Filter, sigma=1)')\n",
    "plt.colorbar()\n",
    "plt.show()"
   ]
  },
  {
   "cell_type": "code",
   "execution_count": null,
   "metadata": {},
   "source": [
    "# Normalize the image to the range 0-1\n",
    "normalized_image = blurred_image / blurred_image.max()\n",
    "\n",
    "# Display the normalized image\n",
    "plt.figure(figsize=(8, 8))\n",
    "plt.imshow(normalized_image, cmap='gray')\n",
    "plt.title('Normalized Image (Range 0-1)')\n",
    "plt.colorbar()\n",
    "plt.show()"
   ]
  },
  {
   "cell_type": "code",
   "execution_count": null,
   "metadata": {},
   "source": [
    "# Apply a threshold of 0.5\n",
    "thresholded_image = normalized_image > 0.5\n",
    "\n",
    "# Display the thresholded image\n",
    "plt.figure(figsize=(8, 8))\n",
    "plt.imshow(thresholded_image, cmap='gray')\n",
    "plt.title('Thresholded Image (Threshold = 0.5)')\n",
    "plt.colorbar()\n",
    "plt.show()"
   ]
  },
  {
   "cell_type": "code",
   "execution_count": null,
   "metadata": {},
   "source": [
    "# Perform connected component labeling\n",
    "labeled_image = label(thresholded_image)\n",
    "\n",
    "# Display the labeled image\n",
    "plt.figure(figsize=(8, 8))\n",
    "plt.imshow(labeled_image, cmap='nipy_spectral')\n",
    "plt.title('Labeled Image (Connected Components)')\n",
    "plt.colorbar()\n",
    "plt.show()"
   ]
  },
  {
   "cell_type": "code",
   "execution_count": null,
   "metadata": {},
   "source": [
    "# Count the number of objects\n",
    "regions = regionprops(labeled_image)\n",
    "num_objects = len(regions)\n",
    "\n",
    "print(f'Number of objects detected: {num_objects}')\n",
    "print(f'Expected number of objects: 10')\n",
    "\n",
    "# Verify if the count matches the expected number\n",
    "if num_objects == 10:\n",
    "    print(\"✅ Success! The segmentation algorithm correctly identified all 10 objects.\")\n",
    "else:\n",
    "    print(f\"❌ The segmentation algorithm detected {num_objects} objects instead of the expected 10.\")"
   ]
  },
  {
   "cell_type": "code",
   "execution_count": null,
   "metadata": {},
   "source": [
    "# Display all steps in a single figure for comparison\n",
    "fig, axes = plt.subplots(2, 3, figsize=(15, 10))\n",
    "axes = axes.flatten()\n",
    "\n",
    "axes[0].imshow(image, cmap='gray')\n",
    "axes[0].set_title('1. Original Image')\n",
    "\n",
    "axes[1].imshow(blurred_image, cmap='gray')\n",
    "axes[1].set_title('2. Blurred Image')\n",
    "\n",
    "axes[2].imshow(normalized_image, cmap='gray')\n",
    "axes[2].set_title('3. Normalized Image')\n",
    "\n",
    "axes[3].imshow(thresholded_image, cmap='gray')\n",
    "axes[3].set_title('4. Thresholded Image')\n",
    "\n",
    "axes[4].imshow(labeled_image, cmap='nipy_spectral')\n",
    "axes[4].set_title('5. Labeled Image')\n",
    "\n",
    "# Add object properties in the last subplot\n",
    "axes[5].axis('off')\n",
    "props_text = f\"Number of objects: {num_objects}\\n\\n\"\n",
    "for i, region in enumerate(regions):\n",
    "    props_text += f\"Object {i+1}:\\n\"\n",
    "    props_text += f\"  - Area: {region.area} pixels\\n\"\n",
    "    props_text += f\"  - Centroid: ({region.centroid[0]:.1f}, {region.centroid[1]:.1f})\\n\"\n",
    "    \n",
    "axes[5].text(0.1, 0.5, props_text, fontsize=10, verticalalignment='center')\n",
    "axes[5].set_title('6. Object Properties')\n",
    "\n",
    "plt.tight_layout()\n",
    "plt.show()"
   ]
  },
  {
   "cell_type": "markdown",
   "metadata": {},
   "source": [
    "## Conclusion\n",
    "\n",
    "This notebook demonstrates a complete image segmentation pipeline:\n",
    "\n",
    "1. We created a simulated 100x100 image with 10 random pixels set to 1\n",
    "2. Applied Gaussian blur to spread the signal\n",
    "3. Normalized the image to the range 0-1\n",
    "4. Applied a threshold of 0.5 to create a binary image\n",
    "5. Performed connected component labeling to identify distinct objects\n",
    "6. Counted the number of objects and verified it matches the expected count of 10\n",
    "\n",
    "The segmentation algorithm successfully identifies all 10 objects in the simulated image."
   ]
  }
 ],
 "metadata": {
  "kernelspec": {
   "display_name": "Python 3",
   "language": "python",
   "name": "python3"
  },
  "language_info": {
   "codemirror_mode": {
    "name": "ipython",
    "version": 3
   },
   "file_extension": ".py",
   "mimetype": "text/x-python",
   "name": "python",
   "nbconvert_exporter": "python",
   "pygments_lexer": "ipython3",
   "version": "3.8.10"
  }
 },
 "nbformat": 4,
 "nbformat_minor": 4
}