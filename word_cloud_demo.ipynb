{
 "cells": [
  {
   "cell_type": "markdown",
   "metadata": {},
   "source": [
    "# Word Cloud Generation Demo\n",
    "\n",
    "Import required libraries"
   ]
  },
  {
   "cell_type": "code",
   "execution_count": 1,
   "metadata": {
    "execution": {
     "iopub.execute_input": "2024-10-27T16:17:57.480432Z",
     "iopub.status.busy": "2024-10-27T16:17:57.480244Z",
     "iopub.status.idle": "2024-10-27T16:17:58.274988Z",
     "shell.execute_reply": "2024-10-27T16:17:58.274328Z"
    }
   },
   "outputs": [],
   "source": [
    "from wordcloud import WordCloud\n",
    "import matplotlib.pyplot as plt"
   ]
  },
  {
   "cell_type": "markdown",
   "metadata": {},
   "source": [
    "Input text containing AI/ML training topics"
   ]
  },
  {
   "cell_type": "code",
   "execution_count": 2,
   "metadata": {
    "execution": {
     "iopub.execute_input": "2024-10-27T16:17:58.277328Z",
     "iopub.status.busy": "2024-10-27T16:17:58.277066Z",
     "iopub.status.idle": "2024-10-27T16:17:58.280519Z",
     "shell.execute_reply": "2024-10-27T16:17:58.280037Z"
    }
   },
   "outputs": [],
   "source": [
    "text = \"\"\"Coding with Large Language Models\n",
    "Responsible AI (Social responsibility and ecological sustainability)\n",
    "How to set up AI/ML Project ressource\n",
    "Data centric AI resources\n",
    "ML Basics (one lecture for one method, Max 10 lectures, include consultations)\n",
    "ML for medical researchers; image-analysis (for radiologists)\n",
    "Explainable AI\n",
    "TimeSeries Analysis with ML / DL\n",
    "ML Tools for Earth system data cubes\n",
    "Basics and ML applications for time series analysis (sensor/environmental data)\n",
    "DL for Omics\n",
    "Visualization\n",
    "Hyper parameter optimization\n",
    "Trainings of Scads Domains (Life Science, Earth Science, Privacy etc)\n",
    "Prompt-engineering for LLMs\n",
    "data management as one module (in cooperation with SaxFDM or service center research data)\n",
    "Understanding Transformers from Scratch. Different Finetuning Technique.\n",
    "Advanced Python Course for ML\n",
    "Data Visualization\n",
    "political regulations\n",
    "privacy and security aspects in applying AI\n",
    "Ressource saving applications\n",
    "collaboration with the KI Manufaktur: getting top know the specific needs of small and middle size companies\n",
    "Legal and ethical aspects in AI\n",
    "AI act\n",
    "Container orchestration on HPC\n",
    "ML / DL for bioinformatics\n",
    "Basics tabular data synthesis with AI\n",
    "OCR\n",
    "Asking PIs to give Keynote-Lectures on Training-Events..\n",
    "Develop AI-Assistant to teach the ML-Basics -> Gate to Enter (good tutorial)\n",
    "Having first day of the course be the Beginner course, next day the theory/concepts and then the next day Tools and Applications\"\"\""
   ]
  },
  {
   "cell_type": "markdown",
   "metadata": {},
   "source": [
    "Generate and display word cloud"
   ]
  },
  {
   "cell_type": "code",
   "execution_count": 3,
   "metadata": {
    "execution": {
     "iopub.execute_input": "2024-10-27T16:17:58.282512Z",
     "iopub.status.busy": "2024-10-27T16:17:58.282030Z",
     "iopub.status.idle": "2024-10-27T16:18:00.422823Z",
     "shell.execute_reply": "2024-10-27T16:18:00.422148Z"
    }
   },
   "outputs": [],
   "source": [
    "wordcloud = WordCloud(width=1200, height=800, background_color='white').generate(text)\n",
    "plt.figure(figsize=(15,10))\n",
    "plt.imshow(wordcloud, interpolation='bilinear')\n",
    "plt.axis('off')\n",
    "plt.savefig('wordcloud.png', bbox_inches='tight', dpi=300)\n",
    "plt.close()"
   ]
  }
 ],
 "metadata": {
  "language_info": {
   "codemirror_mode": {
    "name": "ipython",
    "version": 3
   },
   "file_extension": ".py",
   "mimetype": "text/x-python",
   "name": "python",
   "nbconvert_exporter": "python",
   "pygments_lexer": "ipython3",
   "version": "3.12.7"
  }
 },
 "nbformat": 4,
 "nbformat_minor": 4
}
