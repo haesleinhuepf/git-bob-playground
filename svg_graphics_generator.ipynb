{
 "cells": [
  {
   "cell_type": "markdown",
   "metadata": {},
   "source": [
    "# SVG Graphics Generator\n",
    "\n",
    "This notebook demonstrates how to create SVG graphics using a prompt function."
   ]
  },
  {
   "cell_type": "markdown",
   "metadata": {},
   "source": [
    "First, let's implement the main function for generating SVG graphics"
   ]
  },
  {
   "cell_type": "code",
   "execution_count": 1,
   "metadata": {
    "execution": {
     "iopub.execute_input": "2024-12-26T17:52:44.764183Z",
     "iopub.status.busy": "2024-12-26T17:52:44.764001Z",
     "iopub.status.idle": "2024-12-26T17:52:44.768066Z",
     "shell.execute_reply": "2024-12-26T17:52:44.767545Z"
    }
   },
   "outputs": [],
   "source": [
    "def draw_vector_graphics(prompt: str, filename: str, prompt_function: callable):\n",
    "    # Create a detailed prompt that asks for SVG graphics\n",
    "    detailed_prompt = f\"\"\"Please create an SVG graphic that represents: {prompt}\n",
    "    \n",
    "    The response should:\n",
    "    * Be a valid SVG file\n",
    "    * Start with <?xml version=\"1.0\" encoding=\"UTF-8\"?>\n",
    "    * Contain an <svg> element with appropriate width, height and viewBox\n",
    "    * Use basic SVG elements like rect, circle, path, text etc.\n",
    "    * Only contain the SVG code, no explanation\n",
    "    \"\"\"\n",
    "    \n",
    "    # Get the SVG content using the provided prompt function\n",
    "    svg_content = prompt_function(detailed_prompt)\n",
    "    \n",
    "    # Save the SVG content to the specified file\n",
    "    with open(filename, 'w', encoding='utf-8') as f:\n",
    "        f.write(svg_content)"
   ]
  },
  {
   "cell_type": "markdown",
   "metadata": {},
   "source": [
    "For demonstration, let's create a mock prompt function that returns a simple SVG"
   ]
  },
  {
   "cell_type": "code",
   "execution_count": 2,
   "metadata": {
    "execution": {
     "iopub.execute_input": "2024-12-26T17:52:44.769762Z",
     "iopub.status.busy": "2024-12-26T17:52:44.769585Z",
     "iopub.status.idle": "2024-12-26T17:52:44.772144Z",
     "shell.execute_reply": "2024-12-26T17:52:44.771692Z"
    }
   },
   "outputs": [],
   "source": [
    "def mock_prompt_function(prompt: str) -> str:\n",
    "    # This is just a mock function that returns a simple SVG circle\n",
    "    return '''<?xml version=\"1.0\" encoding=\"UTF-8\"?>\n",
    "<svg width=\"100\" height=\"100\" viewBox=\"0 0 100 100\" xmlns=\"http://www.w3.org/2000/svg\">\n",
    "    <circle cx=\"50\" cy=\"50\" r=\"40\" fill=\"blue\"/>\n",
    "</svg>'''"
   ]
  },
  {
   "cell_type": "markdown",
   "metadata": {},
   "source": [
    "Let's test the function with a simple prompt"
   ]
  },
  {
   "cell_type": "code",
   "execution_count": 3,
   "metadata": {
    "execution": {
     "iopub.execute_input": "2024-12-26T17:52:44.773897Z",
     "iopub.status.busy": "2024-12-26T17:52:44.773576Z",
     "iopub.status.idle": "2024-12-26T17:52:44.776542Z",
     "shell.execute_reply": "2024-12-26T17:52:44.775976Z"
    }
   },
   "outputs": [],
   "source": [
    "prompt = \"a blue circle\"\n",
    "draw_vector_graphics(prompt, \"circle.svg\", mock_prompt_function)"
   ]
  }
 ],
 "metadata": {
  "language_info": {
   "codemirror_mode": {
    "name": "ipython",
    "version": 3
   },
   "file_extension": ".py",
   "mimetype": "text/x-python",
   "name": "python",
   "nbconvert_exporter": "python",
   "pygments_lexer": "ipython3",
   "version": "3.12.8"
  }
 },
 "nbformat": 4,
 "nbformat_minor": 4
}
