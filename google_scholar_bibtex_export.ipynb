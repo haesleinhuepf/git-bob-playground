{
 "cells": [
  {
   "cell_type": "markdown",
   "metadata": {},
   "source": [
    "# Export Google Scholar citations as BibTeX\n",
    "\n",
    "First, we install and import the required libraries."
   ]
  },
  {
   "cell_type": "code",
   "execution_count": 1,
   "metadata": {
    "execution": {
     "iopub.execute_input": "2024-12-15T14:52:14.065024Z",
     "iopub.status.busy": "2024-12-15T14:52:14.064816Z",
     "iopub.status.idle": "2024-12-15T14:52:15.224567Z",
     "shell.execute_reply": "2024-12-15T14:52:15.223832Z"
    }
   },
   "outputs": [
    {
     "name": "stdout",
     "output_type": "stream",
     "text": [
      "Requirement already satisfied: scholarly in /opt/hostedtoolcache/Python/3.12.8/x64/lib/python3.12/site-packages (1.7.11)\r\n",
      "Requirement already satisfied: pybtex in /opt/hostedtoolcache/Python/3.12.8/x64/lib/python3.12/site-packages (0.24.0)\r\n",
      "Requirement already satisfied: arrow in /opt/hostedtoolcache/Python/3.12.8/x64/lib/python3.12/site-packages (from scholarly) (1.3.0)\r\n",
      "Requirement already satisfied: beautifulsoup4 in /opt/hostedtoolcache/Python/3.12.8/x64/lib/python3.12/site-packages (from scholarly) (4.12.3)\r\n",
      "Requirement already satisfied: bibtexparser in /opt/hostedtoolcache/Python/3.12.8/x64/lib/python3.12/site-packages (from scholarly) (1.4.2)\r\n",
      "Requirement already satisfied: deprecated in /opt/hostedtoolcache/Python/3.12.8/x64/lib/python3.12/site-packages (from scholarly) (1.2.15)\r\n",
      "Requirement already satisfied: fake-useragent in /opt/hostedtoolcache/Python/3.12.8/x64/lib/python3.12/site-packages (from scholarly) (2.0.3)\r\n",
      "Requirement already satisfied: free-proxy in /opt/hostedtoolcache/Python/3.12.8/x64/lib/python3.12/site-packages (from scholarly) (1.1.3)\r\n",
      "Requirement already satisfied: httpx in /opt/hostedtoolcache/Python/3.12.8/x64/lib/python3.12/site-packages (from scholarly) (0.27.2)\r\n",
      "Requirement already satisfied: python-dotenv in /opt/hostedtoolcache/Python/3.12.8/x64/lib/python3.12/site-packages (from scholarly) (1.0.1)\r\n",
      "Requirement already satisfied: requests[socks] in /opt/hostedtoolcache/Python/3.12.8/x64/lib/python3.12/site-packages (from scholarly) (2.32.3)\r\n",
      "Requirement already satisfied: selenium in /opt/hostedtoolcache/Python/3.12.8/x64/lib/python3.12/site-packages (from scholarly) (4.27.1)\r\n",
      "Requirement already satisfied: sphinx-rtd-theme in /opt/hostedtoolcache/Python/3.12.8/x64/lib/python3.12/site-packages (from scholarly) (3.0.2)\r\n",
      "Requirement already satisfied: typing-extensions in /opt/hostedtoolcache/Python/3.12.8/x64/lib/python3.12/site-packages (from scholarly) (4.12.2)\r\n",
      "Requirement already satisfied: PyYAML>=3.01 in /opt/hostedtoolcache/Python/3.12.8/x64/lib/python3.12/site-packages (from pybtex) (6.0.2)\r\n",
      "Requirement already satisfied: latexcodec>=1.0.4 in /opt/hostedtoolcache/Python/3.12.8/x64/lib/python3.12/site-packages (from pybtex) (3.0.0)\r\n",
      "Requirement already satisfied: six in /opt/hostedtoolcache/Python/3.12.8/x64/lib/python3.12/site-packages (from pybtex) (1.17.0)\r\n",
      "Requirement already satisfied: python-dateutil>=2.7.0 in /opt/hostedtoolcache/Python/3.12.8/x64/lib/python3.12/site-packages (from arrow->scholarly) (2.9.0.post0)\r\n",
      "Requirement already satisfied: types-python-dateutil>=2.8.10 in /opt/hostedtoolcache/Python/3.12.8/x64/lib/python3.12/site-packages (from arrow->scholarly) (2.9.0.20241206)\r\n",
      "Requirement already satisfied: soupsieve>1.2 in /opt/hostedtoolcache/Python/3.12.8/x64/lib/python3.12/site-packages (from beautifulsoup4->scholarly) (2.6)\r\n",
      "Requirement already satisfied: pyparsing>=2.0.3 in /opt/hostedtoolcache/Python/3.12.8/x64/lib/python3.12/site-packages (from bibtexparser->scholarly) (3.2.0)\r\n",
      "Requirement already satisfied: wrapt<2,>=1.10 in /opt/hostedtoolcache/Python/3.12.8/x64/lib/python3.12/site-packages (from deprecated->scholarly) (1.17.0)\r\n",
      "Requirement already satisfied: lxml in /opt/hostedtoolcache/Python/3.12.8/x64/lib/python3.12/site-packages (from free-proxy->scholarly) (5.3.0)\r\n",
      "Requirement already satisfied: anyio in /opt/hostedtoolcache/Python/3.12.8/x64/lib/python3.12/site-packages (from httpx->scholarly) (4.7.0)\r\n",
      "Requirement already satisfied: certifi in /opt/hostedtoolcache/Python/3.12.8/x64/lib/python3.12/site-packages (from httpx->scholarly) (2024.12.14)\r\n",
      "Requirement already satisfied: httpcore==1.* in /opt/hostedtoolcache/Python/3.12.8/x64/lib/python3.12/site-packages (from httpx->scholarly) (1.0.7)\r\n",
      "Requirement already satisfied: idna in /opt/hostedtoolcache/Python/3.12.8/x64/lib/python3.12/site-packages (from httpx->scholarly) (3.10)\r\n",
      "Requirement already satisfied: sniffio in /opt/hostedtoolcache/Python/3.12.8/x64/lib/python3.12/site-packages (from httpx->scholarly) (1.3.1)\r\n",
      "Requirement already satisfied: h11<0.15,>=0.13 in /opt/hostedtoolcache/Python/3.12.8/x64/lib/python3.12/site-packages (from httpcore==1.*->httpx->scholarly) (0.14.0)\r\n"
     ]
    },
    {
     "name": "stdout",
     "output_type": "stream",
     "text": [
      "Requirement already satisfied: charset-normalizer<4,>=2 in /opt/hostedtoolcache/Python/3.12.8/x64/lib/python3.12/site-packages (from requests[socks]->scholarly) (3.4.0)\r\n",
      "Requirement already satisfied: urllib3<3,>=1.21.1 in /opt/hostedtoolcache/Python/3.12.8/x64/lib/python3.12/site-packages (from requests[socks]->scholarly) (1.26.16)\r\n",
      "Requirement already satisfied: PySocks!=1.5.7,>=1.5.6 in /opt/hostedtoolcache/Python/3.12.8/x64/lib/python3.12/site-packages (from requests[socks]->scholarly) (1.7.1)\r\n",
      "Requirement already satisfied: trio~=0.17 in /opt/hostedtoolcache/Python/3.12.8/x64/lib/python3.12/site-packages (from selenium->scholarly) (0.27.0)\r\n",
      "Requirement already satisfied: trio-websocket~=0.9 in /opt/hostedtoolcache/Python/3.12.8/x64/lib/python3.12/site-packages (from selenium->scholarly) (0.11.1)\r\n",
      "Requirement already satisfied: websocket-client~=1.8 in /opt/hostedtoolcache/Python/3.12.8/x64/lib/python3.12/site-packages (from selenium->scholarly) (1.8.0)\r\n",
      "Requirement already satisfied: sphinx<9,>=6 in /opt/hostedtoolcache/Python/3.12.8/x64/lib/python3.12/site-packages (from sphinx-rtd-theme->scholarly) (8.1.3)\r\n",
      "Requirement already satisfied: docutils<0.22,>0.18 in /opt/hostedtoolcache/Python/3.12.8/x64/lib/python3.12/site-packages (from sphinx-rtd-theme->scholarly) (0.21.2)\r\n",
      "Requirement already satisfied: sphinxcontrib-jquery<5,>=4 in /opt/hostedtoolcache/Python/3.12.8/x64/lib/python3.12/site-packages (from sphinx-rtd-theme->scholarly) (4.1)\r\n",
      "Requirement already satisfied: sphinxcontrib-applehelp>=1.0.7 in /opt/hostedtoolcache/Python/3.12.8/x64/lib/python3.12/site-packages (from sphinx<9,>=6->sphinx-rtd-theme->scholarly) (2.0.0)\r\n",
      "Requirement already satisfied: sphinxcontrib-devhelp>=1.0.6 in /opt/hostedtoolcache/Python/3.12.8/x64/lib/python3.12/site-packages (from sphinx<9,>=6->sphinx-rtd-theme->scholarly) (2.0.0)\r\n",
      "Requirement already satisfied: sphinxcontrib-htmlhelp>=2.0.6 in /opt/hostedtoolcache/Python/3.12.8/x64/lib/python3.12/site-packages (from sphinx<9,>=6->sphinx-rtd-theme->scholarly) (2.1.0)\r\n",
      "Requirement already satisfied: sphinxcontrib-jsmath>=1.0.1 in /opt/hostedtoolcache/Python/3.12.8/x64/lib/python3.12/site-packages (from sphinx<9,>=6->sphinx-rtd-theme->scholarly) (1.0.1)\r\n",
      "Requirement already satisfied: sphinxcontrib-qthelp>=1.0.6 in /opt/hostedtoolcache/Python/3.12.8/x64/lib/python3.12/site-packages (from sphinx<9,>=6->sphinx-rtd-theme->scholarly) (2.0.0)\r\n",
      "Requirement already satisfied: sphinxcontrib-serializinghtml>=1.1.9 in /opt/hostedtoolcache/Python/3.12.8/x64/lib/python3.12/site-packages (from sphinx<9,>=6->sphinx-rtd-theme->scholarly) (2.0.0)\r\n",
      "Requirement already satisfied: Jinja2>=3.1 in /opt/hostedtoolcache/Python/3.12.8/x64/lib/python3.12/site-packages (from sphinx<9,>=6->sphinx-rtd-theme->scholarly) (3.1.4)\r\n",
      "Requirement already satisfied: Pygments>=2.17 in /opt/hostedtoolcache/Python/3.12.8/x64/lib/python3.12/site-packages (from sphinx<9,>=6->sphinx-rtd-theme->scholarly) (2.18.0)\r\n",
      "Requirement already satisfied: snowballstemmer>=2.2 in /opt/hostedtoolcache/Python/3.12.8/x64/lib/python3.12/site-packages (from sphinx<9,>=6->sphinx-rtd-theme->scholarly) (2.2.0)\r\n",
      "Requirement already satisfied: babel>=2.13 in /opt/hostedtoolcache/Python/3.12.8/x64/lib/python3.12/site-packages (from sphinx<9,>=6->sphinx-rtd-theme->scholarly) (2.16.0)\r\n",
      "Requirement already satisfied: alabaster>=0.7.14 in /opt/hostedtoolcache/Python/3.12.8/x64/lib/python3.12/site-packages (from sphinx<9,>=6->sphinx-rtd-theme->scholarly) (1.0.0)\r\n",
      "Requirement already satisfied: imagesize>=1.3 in /opt/hostedtoolcache/Python/3.12.8/x64/lib/python3.12/site-packages (from sphinx<9,>=6->sphinx-rtd-theme->scholarly) (1.4.1)\r\n",
      "Requirement already satisfied: packaging>=23.0 in /opt/hostedtoolcache/Python/3.12.8/x64/lib/python3.12/site-packages (from sphinx<9,>=6->sphinx-rtd-theme->scholarly) (24.2)\r\n",
      "Requirement already satisfied: attrs>=23.2.0 in /opt/hostedtoolcache/Python/3.12.8/x64/lib/python3.12/site-packages (from trio~=0.17->selenium->scholarly) (24.2.0)\r\n",
      "Requirement already satisfied: sortedcontainers in /opt/hostedtoolcache/Python/3.12.8/x64/lib/python3.12/site-packages (from trio~=0.17->selenium->scholarly) (2.4.0)\r\n",
      "Requirement already satisfied: outcome in /opt/hostedtoolcache/Python/3.12.8/x64/lib/python3.12/site-packages (from trio~=0.17->selenium->scholarly) (1.3.0.post0)\r\n",
      "Requirement already satisfied: wsproto>=0.14 in /opt/hostedtoolcache/Python/3.12.8/x64/lib/python3.12/site-packages (from trio-websocket~=0.9->selenium->scholarly) (1.2.0)\r\n"
     ]
    },
    {
     "name": "stdout",
     "output_type": "stream",
     "text": [
      "Requirement already satisfied: MarkupSafe>=2.0 in /opt/hostedtoolcache/Python/3.12.8/x64/lib/python3.12/site-packages (from Jinja2>=3.1->sphinx<9,>=6->sphinx-rtd-theme->scholarly) (3.0.2)\r\n"
     ]
    }
   ],
   "source": [
    "!pip install scholarly pybtex"
   ]
  },
  {
   "cell_type": "markdown",
   "metadata": {},
   "source": [
    "Initialize scholarly and set up a scraper with rotating proxies to avoid blocking"
   ]
  },
  {
   "cell_type": "code",
   "execution_count": 2,
   "metadata": {
    "execution": {
     "iopub.execute_input": "2024-12-15T14:52:15.226981Z",
     "iopub.status.busy": "2024-12-15T14:52:15.226591Z",
     "iopub.status.idle": "2024-12-15T14:52:16.520494Z",
     "shell.execute_reply": "2024-12-15T14:52:16.519842Z"
    }
   },
   "outputs": [],
   "source": [
    "from scholarly import scholarly, ProxyGenerator\n",
    "pg = ProxyGenerator()\n",
    "pg.FreeProxies()\n",
    "scholarly.use_proxy(pg)"
   ]
  },
  {
   "cell_type": "markdown",
   "metadata": {},
   "source": [
    "Fetch author data and verify we got the correct profile"
   ]
  },
  {
   "cell_type": "code",
   "execution_count": 3,
   "metadata": {
    "execution": {
     "iopub.execute_input": "2024-12-15T14:52:16.523550Z",
     "iopub.status.busy": "2024-12-15T14:52:16.523025Z",
     "iopub.status.idle": "2024-12-15T14:52:27.307231Z",
     "shell.execute_reply": "2024-12-15T14:52:27.306650Z"
    }
   },
   "outputs": [
    {
     "name": "stdout",
     "output_type": "stream",
     "text": [
      "Found author: Dr. Josefine Umlauft\n"
     ]
    }
   ],
   "source": [
    "author = scholarly.search_author_id('zQgGTr4AAAAJ')\n",
    "author_data = scholarly.fill(author)\n",
    "print(f\"Found author: {author_data['name']}\")"
   ]
  },
  {
   "cell_type": "markdown",
   "metadata": {},
   "source": [
    "Retrieve all publications and their BibTeX entries"
   ]
  },
  {
   "cell_type": "code",
   "execution_count": 4,
   "metadata": {
    "execution": {
     "iopub.execute_input": "2024-12-15T14:52:27.309284Z",
     "iopub.status.busy": "2024-12-15T14:52:27.308902Z",
     "iopub.status.idle": "2024-12-15T14:53:58.612735Z",
     "shell.execute_reply": "2024-12-15T14:53:58.612177Z"
    }
   },
   "outputs": [],
   "source": [
    "bibtex_entries = []\n",
    "for pub in scholarly.fill(author_data, sections=['publications'])['publications']:\n",
    "    try:\n",
    "        filled_pub = scholarly.fill(pub)\n",
    "        if 'bib' in filled_pub:\n",
    "            # Convert publication data to BibTeX string format\n",
    "            bib_data = filled_pub['bib']\n",
    "            bib_str = f\"@{bib_data.get('ENTRYTYPE', 'article')}{{{bib_data.get('ID', 'unknown')},\\n\"\n",
    "            for key, value in bib_data.items():\n",
    "                if key not in ['ENTRYTYPE', 'ID']:\n",
    "                    bib_str += f\"    {key} = {{{value}}},\\n\"\n",
    "            bib_str += \"}\"\n",
    "            bibtex_entries.append(bib_str)\n",
    "    except Exception as e:\n",
    "        print(f\"Error processing publication: {e}\")"
   ]
  },
  {
   "cell_type": "markdown",
   "metadata": {},
   "source": [
    "Save BibTeX entries to file"
   ]
  },
  {
   "cell_type": "code",
   "execution_count": 5,
   "metadata": {
    "execution": {
     "iopub.execute_input": "2024-12-15T14:53:58.614859Z",
     "iopub.status.busy": "2024-12-15T14:53:58.614504Z",
     "iopub.status.idle": "2024-12-15T14:53:58.617657Z",
     "shell.execute_reply": "2024-12-15T14:53:58.617232Z"
    }
   },
   "outputs": [],
   "source": [
    "with open('scholar_publications.bib', 'w', encoding='utf-8') as f:\n",
    "    f.write('\\n\\n'.join(bibtex_entries))"
   ]
  }
 ],
 "metadata": {
  "language_info": {
   "codemirror_mode": {
    "name": "ipython",
    "version": 3
   },
   "file_extension": ".py",
   "mimetype": "text/x-python",
   "name": "python",
   "nbconvert_exporter": "python",
   "pygments_lexer": "ipython3",
   "version": "3.12.8"
  }
 },
 "nbformat": 4,
 "nbformat_minor": 4
}
