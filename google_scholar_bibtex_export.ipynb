{
 "cells": [
  {
   "cell_type": "markdown",
   "metadata": {},
   "source": [
    "# Export Google Scholar citations as BibTeX\n",
    "\n",
    "We'll use scholarly package to retrieve citations from Google Scholar"
   ]
  },
  {
   "cell_type": "code",
   "execution_count": 1,
   "metadata": {
    "execution": {
     "iopub.execute_input": "2024-12-15T14:44:40.782403Z",
     "iopub.status.busy": "2024-12-15T14:44:40.782028Z",
     "iopub.status.idle": "2024-12-15T14:44:41.983750Z",
     "shell.execute_reply": "2024-12-15T14:44:41.983101Z"
    }
   },
   "outputs": [
    {
     "name": "stdout",
     "output_type": "stream",
     "text": [
      "Requirement already satisfied: scholarly in /opt/hostedtoolcache/Python/3.12.8/x64/lib/python3.12/site-packages (1.7.11)\r\n",
      "Requirement already satisfied: arrow in /opt/hostedtoolcache/Python/3.12.8/x64/lib/python3.12/site-packages (from scholarly) (1.3.0)\r\n",
      "Requirement already satisfied: beautifulsoup4 in /opt/hostedtoolcache/Python/3.12.8/x64/lib/python3.12/site-packages (from scholarly) (4.12.3)\r\n",
      "Requirement already satisfied: bibtexparser in /opt/hostedtoolcache/Python/3.12.8/x64/lib/python3.12/site-packages (from scholarly) (1.4.2)\r\n",
      "Requirement already satisfied: deprecated in /opt/hostedtoolcache/Python/3.12.8/x64/lib/python3.12/site-packages (from scholarly) (1.2.15)\r\n",
      "Requirement already satisfied: fake-useragent in /opt/hostedtoolcache/Python/3.12.8/x64/lib/python3.12/site-packages (from scholarly) (2.0.3)\r\n",
      "Requirement already satisfied: free-proxy in /opt/hostedtoolcache/Python/3.12.8/x64/lib/python3.12/site-packages (from scholarly) (1.1.3)\r\n",
      "Requirement already satisfied: httpx in /opt/hostedtoolcache/Python/3.12.8/x64/lib/python3.12/site-packages (from scholarly) (0.27.2)\r\n",
      "Requirement already satisfied: python-dotenv in /opt/hostedtoolcache/Python/3.12.8/x64/lib/python3.12/site-packages (from scholarly) (1.0.1)\r\n",
      "Requirement already satisfied: requests[socks] in /opt/hostedtoolcache/Python/3.12.8/x64/lib/python3.12/site-packages (from scholarly) (2.32.3)\r\n",
      "Requirement already satisfied: selenium in /opt/hostedtoolcache/Python/3.12.8/x64/lib/python3.12/site-packages (from scholarly) (4.27.1)\r\n",
      "Requirement already satisfied: sphinx-rtd-theme in /opt/hostedtoolcache/Python/3.12.8/x64/lib/python3.12/site-packages (from scholarly) (3.0.2)\r\n",
      "Requirement already satisfied: typing-extensions in /opt/hostedtoolcache/Python/3.12.8/x64/lib/python3.12/site-packages (from scholarly) (4.12.2)\r\n",
      "Requirement already satisfied: python-dateutil>=2.7.0 in /opt/hostedtoolcache/Python/3.12.8/x64/lib/python3.12/site-packages (from arrow->scholarly) (2.9.0.post0)\r\n",
      "Requirement already satisfied: types-python-dateutil>=2.8.10 in /opt/hostedtoolcache/Python/3.12.8/x64/lib/python3.12/site-packages (from arrow->scholarly) (2.9.0.20241206)\r\n",
      "Requirement already satisfied: soupsieve>1.2 in /opt/hostedtoolcache/Python/3.12.8/x64/lib/python3.12/site-packages (from beautifulsoup4->scholarly) (2.6)\r\n",
      "Requirement already satisfied: pyparsing>=2.0.3 in /opt/hostedtoolcache/Python/3.12.8/x64/lib/python3.12/site-packages (from bibtexparser->scholarly) (3.2.0)\r\n",
      "Requirement already satisfied: wrapt<2,>=1.10 in /opt/hostedtoolcache/Python/3.12.8/x64/lib/python3.12/site-packages (from deprecated->scholarly) (1.17.0)\r\n"
     ]
    },
    {
     "name": "stdout",
     "output_type": "stream",
     "text": [
      "Requirement already satisfied: lxml in /opt/hostedtoolcache/Python/3.12.8/x64/lib/python3.12/site-packages (from free-proxy->scholarly) (5.3.0)\r\n",
      "Requirement already satisfied: anyio in /opt/hostedtoolcache/Python/3.12.8/x64/lib/python3.12/site-packages (from httpx->scholarly) (4.7.0)\r\n",
      "Requirement already satisfied: certifi in /opt/hostedtoolcache/Python/3.12.8/x64/lib/python3.12/site-packages (from httpx->scholarly) (2024.12.14)\r\n",
      "Requirement already satisfied: httpcore==1.* in /opt/hostedtoolcache/Python/3.12.8/x64/lib/python3.12/site-packages (from httpx->scholarly) (1.0.7)\r\n",
      "Requirement already satisfied: idna in /opt/hostedtoolcache/Python/3.12.8/x64/lib/python3.12/site-packages (from httpx->scholarly) (3.10)\r\n",
      "Requirement already satisfied: sniffio in /opt/hostedtoolcache/Python/3.12.8/x64/lib/python3.12/site-packages (from httpx->scholarly) (1.3.1)\r\n",
      "Requirement already satisfied: h11<0.15,>=0.13 in /opt/hostedtoolcache/Python/3.12.8/x64/lib/python3.12/site-packages (from httpcore==1.*->httpx->scholarly) (0.14.0)\r\n",
      "Requirement already satisfied: charset-normalizer<4,>=2 in /opt/hostedtoolcache/Python/3.12.8/x64/lib/python3.12/site-packages (from requests[socks]->scholarly) (3.4.0)\r\n",
      "Requirement already satisfied: urllib3<3,>=1.21.1 in /opt/hostedtoolcache/Python/3.12.8/x64/lib/python3.12/site-packages (from requests[socks]->scholarly) (1.26.16)\r\n",
      "Requirement already satisfied: PySocks!=1.5.7,>=1.5.6 in /opt/hostedtoolcache/Python/3.12.8/x64/lib/python3.12/site-packages (from requests[socks]->scholarly) (1.7.1)\r\n",
      "Requirement already satisfied: trio~=0.17 in /opt/hostedtoolcache/Python/3.12.8/x64/lib/python3.12/site-packages (from selenium->scholarly) (0.27.0)\r\n",
      "Requirement already satisfied: trio-websocket~=0.9 in /opt/hostedtoolcache/Python/3.12.8/x64/lib/python3.12/site-packages (from selenium->scholarly) (0.11.1)\r\n",
      "Requirement already satisfied: websocket-client~=1.8 in /opt/hostedtoolcache/Python/3.12.8/x64/lib/python3.12/site-packages (from selenium->scholarly) (1.8.0)\r\n",
      "Requirement already satisfied: sphinx<9,>=6 in /opt/hostedtoolcache/Python/3.12.8/x64/lib/python3.12/site-packages (from sphinx-rtd-theme->scholarly) (8.1.3)\r\n",
      "Requirement already satisfied: docutils<0.22,>0.18 in /opt/hostedtoolcache/Python/3.12.8/x64/lib/python3.12/site-packages (from sphinx-rtd-theme->scholarly) (0.21.2)\r\n",
      "Requirement already satisfied: sphinxcontrib-jquery<5,>=4 in /opt/hostedtoolcache/Python/3.12.8/x64/lib/python3.12/site-packages (from sphinx-rtd-theme->scholarly) (4.1)\r\n",
      "Requirement already satisfied: six>=1.5 in /opt/hostedtoolcache/Python/3.12.8/x64/lib/python3.12/site-packages (from python-dateutil>=2.7.0->arrow->scholarly) (1.17.0)\r\n",
      "Requirement already satisfied: sphinxcontrib-applehelp>=1.0.7 in /opt/hostedtoolcache/Python/3.12.8/x64/lib/python3.12/site-packages (from sphinx<9,>=6->sphinx-rtd-theme->scholarly) (2.0.0)\r\n",
      "Requirement already satisfied: sphinxcontrib-devhelp>=1.0.6 in /opt/hostedtoolcache/Python/3.12.8/x64/lib/python3.12/site-packages (from sphinx<9,>=6->sphinx-rtd-theme->scholarly) (2.0.0)\r\n",
      "Requirement already satisfied: sphinxcontrib-htmlhelp>=2.0.6 in /opt/hostedtoolcache/Python/3.12.8/x64/lib/python3.12/site-packages (from sphinx<9,>=6->sphinx-rtd-theme->scholarly) (2.1.0)\r\n",
      "Requirement already satisfied: sphinxcontrib-jsmath>=1.0.1 in /opt/hostedtoolcache/Python/3.12.8/x64/lib/python3.12/site-packages (from sphinx<9,>=6->sphinx-rtd-theme->scholarly) (1.0.1)\r\n",
      "Requirement already satisfied: sphinxcontrib-qthelp>=1.0.6 in /opt/hostedtoolcache/Python/3.12.8/x64/lib/python3.12/site-packages (from sphinx<9,>=6->sphinx-rtd-theme->scholarly) (2.0.0)\r\n",
      "Requirement already satisfied: sphinxcontrib-serializinghtml>=1.1.9 in /opt/hostedtoolcache/Python/3.12.8/x64/lib/python3.12/site-packages (from sphinx<9,>=6->sphinx-rtd-theme->scholarly) (2.0.0)\r\n",
      "Requirement already satisfied: Jinja2>=3.1 in /opt/hostedtoolcache/Python/3.12.8/x64/lib/python3.12/site-packages (from sphinx<9,>=6->sphinx-rtd-theme->scholarly) (3.1.4)\r\n",
      "Requirement already satisfied: Pygments>=2.17 in /opt/hostedtoolcache/Python/3.12.8/x64/lib/python3.12/site-packages (from sphinx<9,>=6->sphinx-rtd-theme->scholarly) (2.18.0)\r\n",
      "Requirement already satisfied: snowballstemmer>=2.2 in /opt/hostedtoolcache/Python/3.12.8/x64/lib/python3.12/site-packages (from sphinx<9,>=6->sphinx-rtd-theme->scholarly) (2.2.0)\r\n",
      "Requirement already satisfied: babel>=2.13 in /opt/hostedtoolcache/Python/3.12.8/x64/lib/python3.12/site-packages (from sphinx<9,>=6->sphinx-rtd-theme->scholarly) (2.16.0)\r\n",
      "Requirement already satisfied: alabaster>=0.7.14 in /opt/hostedtoolcache/Python/3.12.8/x64/lib/python3.12/site-packages (from sphinx<9,>=6->sphinx-rtd-theme->scholarly) (1.0.0)\r\n",
      "Requirement already satisfied: imagesize>=1.3 in /opt/hostedtoolcache/Python/3.12.8/x64/lib/python3.12/site-packages (from sphinx<9,>=6->sphinx-rtd-theme->scholarly) (1.4.1)\r\n",
      "Requirement already satisfied: packaging>=23.0 in /opt/hostedtoolcache/Python/3.12.8/x64/lib/python3.12/site-packages (from sphinx<9,>=6->sphinx-rtd-theme->scholarly) (24.2)\r\n",
      "Requirement already satisfied: attrs>=23.2.0 in /opt/hostedtoolcache/Python/3.12.8/x64/lib/python3.12/site-packages (from trio~=0.17->selenium->scholarly) (24.2.0)\r\n",
      "Requirement already satisfied: sortedcontainers in /opt/hostedtoolcache/Python/3.12.8/x64/lib/python3.12/site-packages (from trio~=0.17->selenium->scholarly) (2.4.0)\r\n",
      "Requirement already satisfied: outcome in /opt/hostedtoolcache/Python/3.12.8/x64/lib/python3.12/site-packages (from trio~=0.17->selenium->scholarly) (1.3.0.post0)\r\n"
     ]
    },
    {
     "name": "stdout",
     "output_type": "stream",
     "text": [
      "Requirement already satisfied: wsproto>=0.14 in /opt/hostedtoolcache/Python/3.12.8/x64/lib/python3.12/site-packages (from trio-websocket~=0.9->selenium->scholarly) (1.2.0)\r\n",
      "Requirement already satisfied: MarkupSafe>=2.0 in /opt/hostedtoolcache/Python/3.12.8/x64/lib/python3.12/site-packages (from Jinja2>=3.1->sphinx<9,>=6->sphinx-rtd-theme->scholarly) (3.0.2)\r\n"
     ]
    }
   ],
   "source": [
    "!pip install scholarly"
   ]
  },
  {
   "cell_type": "markdown",
   "metadata": {},
   "source": [
    "Import required libraries and search for the author"
   ]
  },
  {
   "cell_type": "code",
   "execution_count": 2,
   "metadata": {
    "execution": {
     "iopub.execute_input": "2024-12-15T14:44:41.986079Z",
     "iopub.status.busy": "2024-12-15T14:44:41.985690Z",
     "iopub.status.idle": "2024-12-15T14:44:48.489236Z",
     "shell.execute_reply": "2024-12-15T14:44:48.488579Z"
    }
   },
   "outputs": [],
   "source": [
    "from scholarly import scholarly\n",
    "\n",
    "# Search for author with ID\n",
    "author = scholarly.search_author_id('zQgGTr4AAAAJ')\n",
    "# Fill in author data\n",
    "author_data = scholarly.fill(author)"
   ]
  },
  {
   "cell_type": "markdown",
   "metadata": {},
   "source": [
    "Retrieve publications and save as BibTeX"
   ]
  },
  {
   "cell_type": "code",
   "execution_count": 3,
   "metadata": {
    "execution": {
     "iopub.execute_input": "2024-12-15T14:44:48.491488Z",
     "iopub.status.busy": "2024-12-15T14:44:48.491238Z",
     "iopub.status.idle": "2024-12-15T14:45:46.442743Z",
     "shell.execute_reply": "2024-12-15T14:45:46.442184Z"
    }
   },
   "outputs": [],
   "source": [
    "# Get all publications\n",
    "publications = author_data['publications']\n",
    "\n",
    "# Create BibTeX entries\n",
    "bibtex_entries = []\n",
    "for pub in publications:\n",
    "    filled_pub = scholarly.fill(pub)\n",
    "    if 'bibtex' in filled_pub:\n",
    "        bibtex_entries.append(filled_pub['bibtex'])\n",
    "\n",
    "# Save to file\n",
    "with open('scholar_publications.bib', 'w', encoding='utf-8') as f:\n",
    "    f.write('\\n\\n'.join(bibtex_entries))"
   ]
  }
 ],
 "metadata": {
  "language_info": {
   "codemirror_mode": {
    "name": "ipython",
    "version": 3
   },
   "file_extension": ".py",
   "mimetype": "text/x-python",
   "name": "python",
   "nbconvert_exporter": "python",
   "pygments_lexer": "ipython3",
   "version": "3.12.8"
  }
 },
 "nbformat": 4,
 "nbformat_minor": 4
}
