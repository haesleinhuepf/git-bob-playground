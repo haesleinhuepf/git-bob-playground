{
 "cells": [
  {
   "cell_type": "markdown",
   "metadata": {},
   "source": [
    "# Export Google Scholar citations as BibTeX\n",
    "\n",
    "First, we install and import the required libraries."
   ]
  },
  {
   "cell_type": "code",
   "execution_count": 1,
   "metadata": {
    "execution": {
     "iopub.execute_input": "2024-12-15T14:49:41.210068Z",
     "iopub.status.busy": "2024-12-15T14:49:41.209520Z",
     "iopub.status.idle": "2024-12-15T14:49:42.909934Z",
     "shell.execute_reply": "2024-12-15T14:49:42.909355Z"
    }
   },
   "outputs": [
    {
     "name": "stdout",
     "output_type": "stream",
     "text": [
      "Requirement already satisfied: scholarly in /opt/hostedtoolcache/Python/3.12.8/x64/lib/python3.12/site-packages (1.7.11)\r\n"
     ]
    },
    {
     "name": "stdout",
     "output_type": "stream",
     "text": [
      "Collecting pybtex\r\n"
     ]
    },
    {
     "name": "stdout",
     "output_type": "stream",
     "text": [
      "  Downloading pybtex-0.24.0-py2.py3-none-any.whl.metadata (2.0 kB)\r\n",
      "Requirement already satisfied: arrow in /opt/hostedtoolcache/Python/3.12.8/x64/lib/python3.12/site-packages (from scholarly) (1.3.0)\r\n",
      "Requirement already satisfied: beautifulsoup4 in /opt/hostedtoolcache/Python/3.12.8/x64/lib/python3.12/site-packages (from scholarly) (4.12.3)\r\n",
      "Requirement already satisfied: bibtexparser in /opt/hostedtoolcache/Python/3.12.8/x64/lib/python3.12/site-packages (from scholarly) (1.4.2)\r\n",
      "Requirement already satisfied: deprecated in /opt/hostedtoolcache/Python/3.12.8/x64/lib/python3.12/site-packages (from scholarly) (1.2.15)\r\n",
      "Requirement already satisfied: fake-useragent in /opt/hostedtoolcache/Python/3.12.8/x64/lib/python3.12/site-packages (from scholarly) (2.0.3)\r\n",
      "Requirement already satisfied: free-proxy in /opt/hostedtoolcache/Python/3.12.8/x64/lib/python3.12/site-packages (from scholarly) (1.1.3)\r\n",
      "Requirement already satisfied: httpx in /opt/hostedtoolcache/Python/3.12.8/x64/lib/python3.12/site-packages (from scholarly) (0.27.2)\r\n",
      "Requirement already satisfied: python-dotenv in /opt/hostedtoolcache/Python/3.12.8/x64/lib/python3.12/site-packages (from scholarly) (1.0.1)\r\n",
      "Requirement already satisfied: requests[socks] in /opt/hostedtoolcache/Python/3.12.8/x64/lib/python3.12/site-packages (from scholarly) (2.32.3)\r\n",
      "Requirement already satisfied: selenium in /opt/hostedtoolcache/Python/3.12.8/x64/lib/python3.12/site-packages (from scholarly) (4.27.1)\r\n",
      "Requirement already satisfied: sphinx-rtd-theme in /opt/hostedtoolcache/Python/3.12.8/x64/lib/python3.12/site-packages (from scholarly) (3.0.2)\r\n",
      "Requirement already satisfied: typing-extensions in /opt/hostedtoolcache/Python/3.12.8/x64/lib/python3.12/site-packages (from scholarly) (4.12.2)\r\n",
      "Requirement already satisfied: PyYAML>=3.01 in /opt/hostedtoolcache/Python/3.12.8/x64/lib/python3.12/site-packages (from pybtex) (6.0.2)\r\n",
      "Collecting latexcodec>=1.0.4 (from pybtex)\r\n",
      "  Downloading latexcodec-3.0.0-py3-none-any.whl.metadata (4.9 kB)\r\n",
      "Requirement already satisfied: six in /opt/hostedtoolcache/Python/3.12.8/x64/lib/python3.12/site-packages (from pybtex) (1.17.0)\r\n"
     ]
    },
    {
     "name": "stdout",
     "output_type": "stream",
     "text": [
      "Requirement already satisfied: python-dateutil>=2.7.0 in /opt/hostedtoolcache/Python/3.12.8/x64/lib/python3.12/site-packages (from arrow->scholarly) (2.9.0.post0)\r\n",
      "Requirement already satisfied: types-python-dateutil>=2.8.10 in /opt/hostedtoolcache/Python/3.12.8/x64/lib/python3.12/site-packages (from arrow->scholarly) (2.9.0.20241206)\r\n",
      "Requirement already satisfied: soupsieve>1.2 in /opt/hostedtoolcache/Python/3.12.8/x64/lib/python3.12/site-packages (from beautifulsoup4->scholarly) (2.6)\r\n",
      "Requirement already satisfied: pyparsing>=2.0.3 in /opt/hostedtoolcache/Python/3.12.8/x64/lib/python3.12/site-packages (from bibtexparser->scholarly) (3.2.0)\r\n",
      "Requirement already satisfied: wrapt<2,>=1.10 in /opt/hostedtoolcache/Python/3.12.8/x64/lib/python3.12/site-packages (from deprecated->scholarly) (1.17.0)\r\n",
      "Requirement already satisfied: lxml in /opt/hostedtoolcache/Python/3.12.8/x64/lib/python3.12/site-packages (from free-proxy->scholarly) (5.3.0)\r\n",
      "Requirement already satisfied: anyio in /opt/hostedtoolcache/Python/3.12.8/x64/lib/python3.12/site-packages (from httpx->scholarly) (4.7.0)\r\n",
      "Requirement already satisfied: certifi in /opt/hostedtoolcache/Python/3.12.8/x64/lib/python3.12/site-packages (from httpx->scholarly) (2024.12.14)\r\n",
      "Requirement already satisfied: httpcore==1.* in /opt/hostedtoolcache/Python/3.12.8/x64/lib/python3.12/site-packages (from httpx->scholarly) (1.0.7)\r\n",
      "Requirement already satisfied: idna in /opt/hostedtoolcache/Python/3.12.8/x64/lib/python3.12/site-packages (from httpx->scholarly) (3.10)\r\n",
      "Requirement already satisfied: sniffio in /opt/hostedtoolcache/Python/3.12.8/x64/lib/python3.12/site-packages (from httpx->scholarly) (1.3.1)\r\n",
      "Requirement already satisfied: h11<0.15,>=0.13 in /opt/hostedtoolcache/Python/3.12.8/x64/lib/python3.12/site-packages (from httpcore==1.*->httpx->scholarly) (0.14.0)\r\n",
      "Requirement already satisfied: charset-normalizer<4,>=2 in /opt/hostedtoolcache/Python/3.12.8/x64/lib/python3.12/site-packages (from requests[socks]->scholarly) (3.4.0)\r\n",
      "Requirement already satisfied: urllib3<3,>=1.21.1 in /opt/hostedtoolcache/Python/3.12.8/x64/lib/python3.12/site-packages (from requests[socks]->scholarly) (1.26.16)\r\n",
      "Requirement already satisfied: PySocks!=1.5.7,>=1.5.6 in /opt/hostedtoolcache/Python/3.12.8/x64/lib/python3.12/site-packages (from requests[socks]->scholarly) (1.7.1)\r\n",
      "Requirement already satisfied: trio~=0.17 in /opt/hostedtoolcache/Python/3.12.8/x64/lib/python3.12/site-packages (from selenium->scholarly) (0.27.0)\r\n",
      "Requirement already satisfied: trio-websocket~=0.9 in /opt/hostedtoolcache/Python/3.12.8/x64/lib/python3.12/site-packages (from selenium->scholarly) (0.11.1)\r\n",
      "Requirement already satisfied: websocket-client~=1.8 in /opt/hostedtoolcache/Python/3.12.8/x64/lib/python3.12/site-packages (from selenium->scholarly) (1.8.0)\r\n",
      "Requirement already satisfied: sphinx<9,>=6 in /opt/hostedtoolcache/Python/3.12.8/x64/lib/python3.12/site-packages (from sphinx-rtd-theme->scholarly) (8.1.3)\r\n",
      "Requirement already satisfied: docutils<0.22,>0.18 in /opt/hostedtoolcache/Python/3.12.8/x64/lib/python3.12/site-packages (from sphinx-rtd-theme->scholarly) (0.21.2)\r\n",
      "Requirement already satisfied: sphinxcontrib-jquery<5,>=4 in /opt/hostedtoolcache/Python/3.12.8/x64/lib/python3.12/site-packages (from sphinx-rtd-theme->scholarly) (4.1)\r\n",
      "Requirement already satisfied: sphinxcontrib-applehelp>=1.0.7 in /opt/hostedtoolcache/Python/3.12.8/x64/lib/python3.12/site-packages (from sphinx<9,>=6->sphinx-rtd-theme->scholarly) (2.0.0)\r\n",
      "Requirement already satisfied: sphinxcontrib-devhelp>=1.0.6 in /opt/hostedtoolcache/Python/3.12.8/x64/lib/python3.12/site-packages (from sphinx<9,>=6->sphinx-rtd-theme->scholarly) (2.0.0)\r\n",
      "Requirement already satisfied: sphinxcontrib-htmlhelp>=2.0.6 in /opt/hostedtoolcache/Python/3.12.8/x64/lib/python3.12/site-packages (from sphinx<9,>=6->sphinx-rtd-theme->scholarly) (2.1.0)\r\n",
      "Requirement already satisfied: sphinxcontrib-jsmath>=1.0.1 in /opt/hostedtoolcache/Python/3.12.8/x64/lib/python3.12/site-packages (from sphinx<9,>=6->sphinx-rtd-theme->scholarly) (1.0.1)\r\n",
      "Requirement already satisfied: sphinxcontrib-qthelp>=1.0.6 in /opt/hostedtoolcache/Python/3.12.8/x64/lib/python3.12/site-packages (from sphinx<9,>=6->sphinx-rtd-theme->scholarly) (2.0.0)\r\n",
      "Requirement already satisfied: sphinxcontrib-serializinghtml>=1.1.9 in /opt/hostedtoolcache/Python/3.12.8/x64/lib/python3.12/site-packages (from sphinx<9,>=6->sphinx-rtd-theme->scholarly) (2.0.0)\r\n",
      "Requirement already satisfied: Jinja2>=3.1 in /opt/hostedtoolcache/Python/3.12.8/x64/lib/python3.12/site-packages (from sphinx<9,>=6->sphinx-rtd-theme->scholarly) (3.1.4)\r\n",
      "Requirement already satisfied: Pygments>=2.17 in /opt/hostedtoolcache/Python/3.12.8/x64/lib/python3.12/site-packages (from sphinx<9,>=6->sphinx-rtd-theme->scholarly) (2.18.0)\r\n",
      "Requirement already satisfied: snowballstemmer>=2.2 in /opt/hostedtoolcache/Python/3.12.8/x64/lib/python3.12/site-packages (from sphinx<9,>=6->sphinx-rtd-theme->scholarly) (2.2.0)\r\n",
      "Requirement already satisfied: babel>=2.13 in /opt/hostedtoolcache/Python/3.12.8/x64/lib/python3.12/site-packages (from sphinx<9,>=6->sphinx-rtd-theme->scholarly) (2.16.0)\r\n",
      "Requirement already satisfied: alabaster>=0.7.14 in /opt/hostedtoolcache/Python/3.12.8/x64/lib/python3.12/site-packages (from sphinx<9,>=6->sphinx-rtd-theme->scholarly) (1.0.0)\r\n",
      "Requirement already satisfied: imagesize>=1.3 in /opt/hostedtoolcache/Python/3.12.8/x64/lib/python3.12/site-packages (from sphinx<9,>=6->sphinx-rtd-theme->scholarly) (1.4.1)\r\n",
      "Requirement already satisfied: packaging>=23.0 in /opt/hostedtoolcache/Python/3.12.8/x64/lib/python3.12/site-packages (from sphinx<9,>=6->sphinx-rtd-theme->scholarly) (24.2)\r\n"
     ]
    },
    {
     "name": "stdout",
     "output_type": "stream",
     "text": [
      "Requirement already satisfied: attrs>=23.2.0 in /opt/hostedtoolcache/Python/3.12.8/x64/lib/python3.12/site-packages (from trio~=0.17->selenium->scholarly) (24.2.0)\r\n",
      "Requirement already satisfied: sortedcontainers in /opt/hostedtoolcache/Python/3.12.8/x64/lib/python3.12/site-packages (from trio~=0.17->selenium->scholarly) (2.4.0)\r\n",
      "Requirement already satisfied: outcome in /opt/hostedtoolcache/Python/3.12.8/x64/lib/python3.12/site-packages (from trio~=0.17->selenium->scholarly) (1.3.0.post0)\r\n",
      "Requirement already satisfied: wsproto>=0.14 in /opt/hostedtoolcache/Python/3.12.8/x64/lib/python3.12/site-packages (from trio-websocket~=0.9->selenium->scholarly) (1.2.0)\r\n",
      "Requirement already satisfied: MarkupSafe>=2.0 in /opt/hostedtoolcache/Python/3.12.8/x64/lib/python3.12/site-packages (from Jinja2>=3.1->sphinx<9,>=6->sphinx-rtd-theme->scholarly) (3.0.2)\r\n"
     ]
    },
    {
     "name": "stdout",
     "output_type": "stream",
     "text": [
      "Downloading pybtex-0.24.0-py2.py3-none-any.whl (561 kB)\r\n",
      "\u001b[?25l   \u001b[90m━━━━━━━━━━━━━━━━━━━━━━━━━━━━━━━━━━━━━━━━\u001b[0m \u001b[32m0.0/561.4 kB\u001b[0m \u001b[31m?\u001b[0m eta \u001b[36m-:--:--\u001b[0m"
     ]
    },
    {
     "name": "stdout",
     "output_type": "stream",
     "text": [
      "\r",
      "\u001b[2K   \u001b[90m━━━━━━━━━━━━━━━━━━━━━━━━━━━━━━━━━━━━━━━━\u001b[0m \u001b[32m561.4/561.4 kB\u001b[0m \u001b[31m23.0 MB/s\u001b[0m eta \u001b[36m0:00:00\u001b[0m\r\n",
      "\u001b[?25hDownloading latexcodec-3.0.0-py3-none-any.whl (18 kB)\r\n"
     ]
    },
    {
     "name": "stdout",
     "output_type": "stream",
     "text": [
      "Installing collected packages: latexcodec, pybtex\r\n"
     ]
    },
    {
     "name": "stdout",
     "output_type": "stream",
     "text": [
      "Successfully installed latexcodec-3.0.0 pybtex-0.24.0\r\n"
     ]
    }
   ],
   "source": [
    "!pip install scholarly pybtex"
   ]
  },
  {
   "cell_type": "markdown",
   "metadata": {},
   "source": [
    "Initialize scholarly and set up a scraper with rotating proxies to avoid blocking"
   ]
  },
  {
   "cell_type": "code",
   "execution_count": 2,
   "metadata": {
    "execution": {
     "iopub.execute_input": "2024-12-15T14:49:42.912437Z",
     "iopub.status.busy": "2024-12-15T14:49:42.912039Z",
     "iopub.status.idle": "2024-12-15T14:49:44.318263Z",
     "shell.execute_reply": "2024-12-15T14:49:44.317726Z"
    }
   },
   "outputs": [],
   "source": [
    "from scholarly import scholarly, ProxyGenerator\n",
    "pg = ProxyGenerator()\n",
    "pg.FreeProxies()\n",
    "scholarly.use_proxy(pg)"
   ]
  },
  {
   "cell_type": "markdown",
   "metadata": {},
   "source": [
    "Fetch author data and verify we got the correct profile"
   ]
  },
  {
   "cell_type": "code",
   "execution_count": 3,
   "metadata": {
    "execution": {
     "iopub.execute_input": "2024-12-15T14:49:44.320404Z",
     "iopub.status.busy": "2024-12-15T14:49:44.320155Z",
     "iopub.status.idle": "2024-12-15T14:49:56.478729Z",
     "shell.execute_reply": "2024-12-15T14:49:56.478155Z"
    }
   },
   "outputs": [
    {
     "name": "stdout",
     "output_type": "stream",
     "text": [
      "Found author: Dr. Josefine Umlauft\n"
     ]
    }
   ],
   "source": [
    "author = scholarly.search_author_id('zQgGTr4AAAAJ')\n",
    "author_data = scholarly.fill(author)\n",
    "print(f\"Found author: {author_data['name']}\")"
   ]
  },
  {
   "cell_type": "markdown",
   "metadata": {},
   "source": [
    "Retrieve all publications and their BibTeX entries"
   ]
  },
  {
   "cell_type": "code",
   "execution_count": 4,
   "metadata": {
    "execution": {
     "iopub.execute_input": "2024-12-15T14:49:56.480677Z",
     "iopub.status.busy": "2024-12-15T14:49:56.480315Z",
     "iopub.status.idle": "2024-12-15T14:51:27.431256Z",
     "shell.execute_reply": "2024-12-15T14:51:27.430679Z"
    }
   },
   "outputs": [],
   "source": [
    "bibtex_entries = []\n",
    "for pub in scholarly.fill(author_data, sections=['publications'])['publications']:\n",
    "    try:\n",
    "        filled_pub = scholarly.fill(pub)\n",
    "        if 'bib' in filled_pub:\n",
    "            bibtex_entries.append(filled_pub['bib'])\n",
    "    except Exception as e:\n",
    "        print(f\"Error processing publication: {e}\")"
   ]
  },
  {
   "cell_type": "markdown",
   "metadata": {},
   "source": [
    "Save BibTeX entries to file"
   ]
  },
  {
   "cell_type": "code",
   "execution_count": 5,
   "metadata": {
    "execution": {
     "iopub.execute_input": "2024-12-15T14:51:27.433423Z",
     "iopub.status.busy": "2024-12-15T14:51:27.433059Z",
     "iopub.status.idle": "2024-12-15T14:51:27.647257Z",
     "shell.execute_reply": "2024-12-15T14:51:27.646469Z"
    }
   },
   "outputs": [
    {
     "ename": "TypeError",
     "evalue": "sequence item 0: expected str instance, dict found",
     "output_type": "error",
     "traceback": [
      "\u001b[0;31m---------------------------------------------------------------------------\u001b[0m",
      "\u001b[0;31mTypeError\u001b[0m                                 Traceback (most recent call last)",
      "Cell \u001b[0;32mIn[5], line 2\u001b[0m\n\u001b[1;32m      1\u001b[0m \u001b[38;5;28;01mwith\u001b[39;00m \u001b[38;5;28mopen\u001b[39m(\u001b[38;5;124m'\u001b[39m\u001b[38;5;124mscholar_publications.bib\u001b[39m\u001b[38;5;124m'\u001b[39m, \u001b[38;5;124m'\u001b[39m\u001b[38;5;124mw\u001b[39m\u001b[38;5;124m'\u001b[39m, encoding\u001b[38;5;241m=\u001b[39m\u001b[38;5;124m'\u001b[39m\u001b[38;5;124mutf-8\u001b[39m\u001b[38;5;124m'\u001b[39m) \u001b[38;5;28;01mas\u001b[39;00m f:\n\u001b[0;32m----> 2\u001b[0m     f\u001b[38;5;241m.\u001b[39mwrite(\u001b[38;5;124;43m'\u001b[39;49m\u001b[38;5;130;43;01m\\n\u001b[39;49;00m\u001b[38;5;130;43;01m\\n\u001b[39;49;00m\u001b[38;5;124;43m'\u001b[39;49m\u001b[38;5;241;43m.\u001b[39;49m\u001b[43mjoin\u001b[49m\u001b[43m(\u001b[49m\u001b[43mbibtex_entries\u001b[49m\u001b[43m)\u001b[49m)\n",
      "\u001b[0;31mTypeError\u001b[0m: sequence item 0: expected str instance, dict found"
     ]
    }
   ],
   "source": [
    "with open('scholar_publications.bib', 'w', encoding='utf-8') as f:\n",
    "    f.write('\\n\\n'.join(bibtex_entries))"
   ]
  }
 ],
 "metadata": {
  "language_info": {
   "codemirror_mode": {
    "name": "ipython",
    "version": 3
   },
   "file_extension": ".py",
   "mimetype": "text/x-python",
   "name": "python",
   "nbconvert_exporter": "python",
   "pygments_lexer": "ipython3",
   "version": "3.12.8"
  }
 },
 "nbformat": 4,
 "nbformat_minor": 4
}