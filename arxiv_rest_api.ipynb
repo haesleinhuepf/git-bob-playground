{
 "cells": [
  {
   "cell_type": "markdown",
   "metadata": {},
   "source": [
    "# Retrieving arXiv Metadata using REST API\n",
    "This notebook demonstrates how to fetch metadata from arXiv papers using their REST API."
   ]
  },
  {
   "cell_type": "markdown",
   "metadata": {},
   "source": [
    "First, let's import the required libraries"
   ]
  },
  {
   "cell_type": "code",
   "execution_count": 1,
   "metadata": {
    "execution": {
     "iopub.execute_input": "2024-12-30T15:56:55.010843Z",
     "iopub.status.busy": "2024-12-30T15:56:55.010669Z",
     "iopub.status.idle": "2024-12-30T15:56:55.071667Z",
     "shell.execute_reply": "2024-12-30T15:56:55.071115Z"
    }
   },
   "outputs": [],
   "source": [
    "import requests\n",
    "import json\n",
    "import xml.etree.ElementTree as ET"
   ]
  },
  {
   "cell_type": "markdown",
   "metadata": {},
   "source": [
    "Define a function that retrieves metadata using the arXiv REST API"
   ]
  },
  {
   "cell_type": "code",
   "execution_count": 2,
   "metadata": {
    "execution": {
     "iopub.execute_input": "2024-12-30T15:56:55.073902Z",
     "iopub.status.busy": "2024-12-30T15:56:55.073461Z",
     "iopub.status.idle": "2024-12-30T15:56:55.077831Z",
     "shell.execute_reply": "2024-12-30T15:56:55.077237Z"
    }
   },
   "outputs": [],
   "source": [
    "def get_arxiv_metadata(arxiv_id):\n",
    "    url = f\"http://export.arxiv.org/api/query?id_list={arxiv_id}\"\n",
    "    response = requests.get(url)\n",
    "    root = ET.fromstring(response.content)\n",
    "    \n",
    "    # Extract namespace\n",
    "    ns = {'atom': 'http://www.w3.org/2005/Atom'}\n",
    "    \n",
    "    # Get the first entry\n",
    "    entry = root.find('atom:entry', ns)\n",
    "    \n",
    "    metadata = {\n",
    "        'title': entry.find('atom:title', ns).text.strip(),\n",
    "        'authors': [author.find('atom:name', ns).text for author in entry.findall('atom:author', ns)],\n",
    "        'published': entry.find('atom:published', ns).text,\n",
    "        'summary': entry.find('atom:summary', ns).text.strip(),\n",
    "        'pdf_url': f\"https://arxiv.org/pdf/{arxiv_id}.pdf\"\n",
    "    }\n",
    "    return metadata"
   ]
  },
  {
   "cell_type": "markdown",
   "metadata": {},
   "source": [
    "Test the function with an example arXiv ID and save the results"
   ]
  },
  {
   "cell_type": "code",
   "execution_count": 3,
   "metadata": {
    "execution": {
     "iopub.execute_input": "2024-12-30T15:56:55.079688Z",
     "iopub.status.busy": "2024-12-30T15:56:55.079363Z",
     "iopub.status.idle": "2024-12-30T15:56:55.501377Z",
     "shell.execute_reply": "2024-12-30T15:56:55.500787Z"
    }
   },
   "outputs": [],
   "source": [
    "arxiv_id = \"2204.07547\"\n",
    "metadata = get_arxiv_metadata(arxiv_id)\n",
    "\n",
    "# Save metadata to file\n",
    "with open(f'arxiv_metadata_{arxiv_id}.json', 'w') as f:\n",
    "    json.dump(metadata, f, indent=2)"
   ]
  }
 ],
 "metadata": {
  "language_info": {
   "codemirror_mode": {
    "name": "ipython",
    "version": 3
   },
   "file_extension": ".py",
   "mimetype": "text/x-python",
   "name": "python",
   "nbconvert_exporter": "python",
   "pygments_lexer": "ipython3",
   "version": "3.12.8"
  }
 },
 "nbformat": 4,
 "nbformat_minor": 4
}
