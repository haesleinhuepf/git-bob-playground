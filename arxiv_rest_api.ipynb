{
 "cells": [
  {
   "cell_type": "markdown",
   "metadata": {},
   "source": [
    "# Retrieving arXiv Metadata using REST API\n",
    "This notebook demonstrates how to fetch metadata from arXiv papers using their REST API."
   ]
  },
  {
   "cell_type": "markdown",
   "metadata": {},
   "source": [
    "First, let's import the required libraries"
   ]
  },
  {
   "cell_type": "code",
   "execution_count": 1,
   "metadata": {
    "execution": {
     "iopub.execute_input": "2024-12-30T15:56:35.937151Z",
     "iopub.status.busy": "2024-12-30T15:56:35.936963Z",
     "iopub.status.idle": "2024-12-30T15:56:35.998154Z",
     "shell.execute_reply": "2024-12-30T15:56:35.997572Z"
    }
   },
   "outputs": [],
   "source": [
    "import requests\n",
    "import json\n",
    "import xml.etree.ElementTree as ET"
   ]
  },
  {
   "cell_type": "markdown",
   "metadata": {},
   "source": [
    "Define a function that retrieves metadata using the arXiv REST API"
   ]
  },
  {
   "cell_type": "code",
   "execution_count": 2,
   "metadata": {
    "execution": {
     "iopub.execute_input": "2024-12-30T15:56:36.000202Z",
     "iopub.status.busy": "2024-12-30T15:56:35.999829Z",
     "iopub.status.idle": "2024-12-30T15:56:36.004085Z",
     "shell.execute_reply": "2024-12-30T15:56:36.003628Z"
    }
   },
   "outputs": [],
   "source": [
    "def get_arxiv_metadata(arxiv_id):\n",
    "    url = f\"http://export.arxiv.org/api/query?id_list={arxiv_id}\"\n",
    "    response = requests.get(url)\n",
    "    root = ET.fromstring(response.content)\n",
    "    \n",
    "    # Extract namespace\n",
    "    ns = {'atom': 'http://www.w3.org/2005/Atom'}\n",
    "    \n",
    "    # Get the first entry\n",
    "    entry = root.find('atom:entry', ns)\n",
    "    \n",
    "    metadata = {\n",
    "        'title': entry.find('atom:title', ns).text.strip(),\n",
    "        'authors': [author.find('atom:name', ns).text for author in entry.findall('atom:author', ns)],\n",
    "        'published': entry.find('atom:published', ns).text,\n",
    "        'summary': entry.find('atom:summary', ns).text.strip(),\n",
    "        'pdf_url': entry.find('{http://arxiv.org/schemas/atom}pdf_url', ns).text\n",
    "    }\n",
    "    return metadata"
   ]
  },
  {
   "cell_type": "markdown",
   "metadata": {},
   "source": [
    "Test the function with an example arXiv ID and save the results"
   ]
  },
  {
   "cell_type": "code",
   "execution_count": 3,
   "metadata": {
    "execution": {
     "iopub.execute_input": "2024-12-30T15:56:36.005850Z",
     "iopub.status.busy": "2024-12-30T15:56:36.005487Z",
     "iopub.status.idle": "2024-12-30T15:56:36.873625Z",
     "shell.execute_reply": "2024-12-30T15:56:36.872823Z"
    }
   },
   "outputs": [
    {
     "ename": "AttributeError",
     "evalue": "'NoneType' object has no attribute 'text'",
     "output_type": "error",
     "traceback": [
      "\u001b[0;31m---------------------------------------------------------------------------\u001b[0m",
      "\u001b[0;31mAttributeError\u001b[0m                            Traceback (most recent call last)",
      "Cell \u001b[0;32mIn[3], line 2\u001b[0m\n\u001b[1;32m      1\u001b[0m arxiv_id \u001b[38;5;241m=\u001b[39m \u001b[38;5;124m\"\u001b[39m\u001b[38;5;124m2204.07547\u001b[39m\u001b[38;5;124m\"\u001b[39m\n\u001b[0;32m----> 2\u001b[0m metadata \u001b[38;5;241m=\u001b[39m \u001b[43mget_arxiv_metadata\u001b[49m\u001b[43m(\u001b[49m\u001b[43marxiv_id\u001b[49m\u001b[43m)\u001b[49m\n\u001b[1;32m      4\u001b[0m \u001b[38;5;66;03m# Save metadata to file\u001b[39;00m\n\u001b[1;32m      5\u001b[0m \u001b[38;5;28;01mwith\u001b[39;00m \u001b[38;5;28mopen\u001b[39m(\u001b[38;5;124mf\u001b[39m\u001b[38;5;124m'\u001b[39m\u001b[38;5;124marxiv_metadata_\u001b[39m\u001b[38;5;132;01m{\u001b[39;00marxiv_id\u001b[38;5;132;01m}\u001b[39;00m\u001b[38;5;124m.json\u001b[39m\u001b[38;5;124m'\u001b[39m, \u001b[38;5;124m'\u001b[39m\u001b[38;5;124mw\u001b[39m\u001b[38;5;124m'\u001b[39m) \u001b[38;5;28;01mas\u001b[39;00m f:\n",
      "Cell \u001b[0;32mIn[2], line 17\u001b[0m, in \u001b[0;36mget_arxiv_metadata\u001b[0;34m(arxiv_id)\u001b[0m\n\u001b[1;32m      9\u001b[0m \u001b[38;5;66;03m# Get the first entry\u001b[39;00m\n\u001b[1;32m     10\u001b[0m entry \u001b[38;5;241m=\u001b[39m root\u001b[38;5;241m.\u001b[39mfind(\u001b[38;5;124m'\u001b[39m\u001b[38;5;124matom:entry\u001b[39m\u001b[38;5;124m'\u001b[39m, ns)\n\u001b[1;32m     12\u001b[0m metadata \u001b[38;5;241m=\u001b[39m {\n\u001b[1;32m     13\u001b[0m     \u001b[38;5;124m'\u001b[39m\u001b[38;5;124mtitle\u001b[39m\u001b[38;5;124m'\u001b[39m: entry\u001b[38;5;241m.\u001b[39mfind(\u001b[38;5;124m'\u001b[39m\u001b[38;5;124matom:title\u001b[39m\u001b[38;5;124m'\u001b[39m, ns)\u001b[38;5;241m.\u001b[39mtext\u001b[38;5;241m.\u001b[39mstrip(),\n\u001b[1;32m     14\u001b[0m     \u001b[38;5;124m'\u001b[39m\u001b[38;5;124mauthors\u001b[39m\u001b[38;5;124m'\u001b[39m: [author\u001b[38;5;241m.\u001b[39mfind(\u001b[38;5;124m'\u001b[39m\u001b[38;5;124matom:name\u001b[39m\u001b[38;5;124m'\u001b[39m, ns)\u001b[38;5;241m.\u001b[39mtext \u001b[38;5;28;01mfor\u001b[39;00m author \u001b[38;5;129;01min\u001b[39;00m entry\u001b[38;5;241m.\u001b[39mfindall(\u001b[38;5;124m'\u001b[39m\u001b[38;5;124matom:author\u001b[39m\u001b[38;5;124m'\u001b[39m, ns)],\n\u001b[1;32m     15\u001b[0m     \u001b[38;5;124m'\u001b[39m\u001b[38;5;124mpublished\u001b[39m\u001b[38;5;124m'\u001b[39m: entry\u001b[38;5;241m.\u001b[39mfind(\u001b[38;5;124m'\u001b[39m\u001b[38;5;124matom:published\u001b[39m\u001b[38;5;124m'\u001b[39m, ns)\u001b[38;5;241m.\u001b[39mtext,\n\u001b[1;32m     16\u001b[0m     \u001b[38;5;124m'\u001b[39m\u001b[38;5;124msummary\u001b[39m\u001b[38;5;124m'\u001b[39m: entry\u001b[38;5;241m.\u001b[39mfind(\u001b[38;5;124m'\u001b[39m\u001b[38;5;124matom:summary\u001b[39m\u001b[38;5;124m'\u001b[39m, ns)\u001b[38;5;241m.\u001b[39mtext\u001b[38;5;241m.\u001b[39mstrip(),\n\u001b[0;32m---> 17\u001b[0m     \u001b[38;5;124m'\u001b[39m\u001b[38;5;124mpdf_url\u001b[39m\u001b[38;5;124m'\u001b[39m: \u001b[43mentry\u001b[49m\u001b[38;5;241;43m.\u001b[39;49m\u001b[43mfind\u001b[49m\u001b[43m(\u001b[49m\u001b[38;5;124;43m'\u001b[39;49m\u001b[38;5;124;43m{\u001b[39;49m\u001b[38;5;124;43mhttp://arxiv.org/schemas/atom}pdf_url\u001b[39;49m\u001b[38;5;124;43m'\u001b[39;49m\u001b[43m,\u001b[49m\u001b[43m \u001b[49m\u001b[43mns\u001b[49m\u001b[43m)\u001b[49m\u001b[38;5;241;43m.\u001b[39;49m\u001b[43mtext\u001b[49m\n\u001b[1;32m     18\u001b[0m }\n\u001b[1;32m     19\u001b[0m \u001b[38;5;28;01mreturn\u001b[39;00m metadata\n",
      "\u001b[0;31mAttributeError\u001b[0m: 'NoneType' object has no attribute 'text'"
     ]
    }
   ],
   "source": [
    "arxiv_id = \"2204.07547\"\n",
    "metadata = get_arxiv_metadata(arxiv_id)\n",
    "\n",
    "# Save metadata to file\n",
    "with open(f'arxiv_metadata_{arxiv_id}.json', 'w') as f:\n",
    "    json.dump(metadata, f, indent=2)"
   ]
  }
 ],
 "metadata": {
  "language_info": {
   "codemirror_mode": {
    "name": "ipython",
    "version": 3
   },
   "file_extension": ".py",
   "mimetype": "text/x-python",
   "name": "python",
   "nbconvert_exporter": "python",
   "pygments_lexer": "ipython3",
   "version": "3.12.8"
  }
 },
 "nbformat": 4,
 "nbformat_minor": 4
}