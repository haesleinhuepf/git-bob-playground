{
 "cells": [
  {
   "cell_type": "markdown",
   "id": "efe3ad93",
   "metadata": {},
   "source": [
    "# Circle Drawing Notebook\n",
    "\n",
    "This notebook demonstrates how to generate a synthetic dataset of points on a circle with added positional noise. We will visualize the data using seaborn."
   ]
  },
  {
   "cell_type": "markdown",
   "id": "df923669",
   "metadata": {},
   "source": [
    "## Step 1: Import Libraries\n",
    "\n",
    "We will import the necessary libraries: numpy for numerical operations, scipy for random number generation, pandas for data manipulation, and seaborn for visualization."
   ]
  },
  {
   "cell_type": "code",
   "execution_count": 1,
   "id": "07449ffa",
   "metadata": {
    "execution": {
     "iopub.execute_input": "2024-10-17T19:43:16.867595Z",
     "iopub.status.busy": "2024-10-17T19:43:16.867391Z",
     "iopub.status.idle": "2024-10-17T19:43:18.285049Z",
     "shell.execute_reply": "2024-10-17T19:43:18.284451Z"
    }
   },
   "outputs": [],
   "source": [
    "import numpy as np\n",
    "from scipy.stats import norm\n",
    "import pandas as pd\n",
    "import seaborn as sns\n",
    "import matplotlib.pyplot as plt"
   ]
  },
  {
   "cell_type": "markdown",
   "id": "c7f4b59d",
   "metadata": {},
   "source": [
    "## Step 2: Generate Circle Points\n",
    "\n",
    "Let's create a function to generate points on a circle with added random noise."
   ]
  },
  {
   "cell_type": "code",
   "execution_count": 2,
   "id": "bd08f1c3",
   "metadata": {
    "execution": {
     "iopub.execute_input": "2024-10-17T19:43:18.287666Z",
     "iopub.status.busy": "2024-10-17T19:43:18.287130Z",
     "iopub.status.idle": "2024-10-17T19:43:18.290834Z",
     "shell.execute_reply": "2024-10-17T19:43:18.290372Z"
    }
   },
   "outputs": [],
   "source": [
    "def generate_circle_points(radius, num_points, noise_level):\n",
    "    angles = np.linspace(0, 2 * np.pi, num_points)\n",
    "    x = radius * np.cos(angles) + norm.rvs(scale=noise_level, size=num_points)\n",
    "    y = radius * np.sin(angles) + norm.rvs(scale=noise_level, size=num_points)\n",
    "    return x, y"
   ]
  },
  {
   "cell_type": "markdown",
   "id": "f2f630df",
   "metadata": {},
   "source": [
    "## Step 3: Create DataFrame\n",
    "\n",
    "Using the generated x and y coordinates, we can create a pandas DataFrame."
   ]
  },
  {
   "cell_type": "code",
   "execution_count": 3,
   "id": "54aee6dc",
   "metadata": {
    "execution": {
     "iopub.execute_input": "2024-10-17T19:43:18.292901Z",
     "iopub.status.busy": "2024-10-17T19:43:18.292550Z",
     "iopub.status.idle": "2024-10-17T19:43:18.296329Z",
     "shell.execute_reply": "2024-10-17T19:43:18.295869Z"
    }
   },
   "outputs": [],
   "source": [
    "radius = 10\n",
    "num_points = 100\n",
    "noise_level = 0.5\n",
    "\n",
    "x, y = generate_circle_points(radius, num_points, noise_level)\n",
    "circle_data = pd.DataFrame({'x': x, 'y': y})"
   ]
  },
  {
   "cell_type": "markdown",
   "id": "49028d15",
   "metadata": {},
   "source": [
    "## Step 4: Visualize\n",
    "\n",
    "Let's visualize the points on the circle using seaborn."
   ]
  },
  {
   "cell_type": "code",
   "execution_count": 4,
   "id": "15ad0bf5",
   "metadata": {
    "execution": {
     "iopub.execute_input": "2024-10-17T19:43:18.298308Z",
     "iopub.status.busy": "2024-10-17T19:43:18.297951Z",
     "iopub.status.idle": "2024-10-17T19:43:18.451152Z",
     "shell.execute_reply": "2024-10-17T19:43:18.450575Z"
    }
   },
   "outputs": [],
   "source": [
    "sns.set(style=\"whitegrid\")\n",
    "plt.figure(figsize=(8, 8))\n",
    "plot = sns.scatterplot(data=circle_data, x='x', y='y')\n",
    "plot.set_aspect('equal', 'box')\n",
    "plt.title('Points on a Circle with Noise')\n",
    "plt.savefig('circle_plot.png')\n",
    "plt.close()"
   ]
  }
 ],
 "metadata": {
  "language_info": {
   "codemirror_mode": {
    "name": "ipython",
    "version": 3
   },
   "file_extension": ".py",
   "mimetype": "text/x-python",
   "name": "python",
   "nbconvert_exporter": "python",
   "pygments_lexer": "ipython3",
   "version": "3.12.7"
  }
 },
 "nbformat": 4,
 "nbformat_minor": 5
}
