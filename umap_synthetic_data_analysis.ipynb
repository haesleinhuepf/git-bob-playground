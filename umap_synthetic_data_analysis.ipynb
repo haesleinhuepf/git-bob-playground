{
 "cells": [
  {
   "cell_type": "markdown",
   "metadata": {},
   "source": [
    "# Synthetic Data Generation and UMAP Visualization\n",
    "In this notebook, we will create a synthetic dataset representing cell measurements from microscopy images and apply UMAP for dimensionality reduction. We will visualize the UMAP results using seaborn."
   ]
  },
  {
   "cell_type": "markdown",
   "metadata": {},
   "source": [
    "## Import libraries\n",
    "First, we need to import the necessary Python libraries."
   ]
  },
  {
   "cell_type": "code",
   "execution_count": 1,
   "metadata": {
    "execution": {
     "iopub.execute_input": "2024-10-21T13:07:46.103172Z",
     "iopub.status.busy": "2024-10-21T13:07:46.102728Z",
     "iopub.status.idle": "2024-10-21T13:07:59.176947Z",
     "shell.execute_reply": "2024-10-21T13:07:59.176363Z"
    }
   },
   "outputs": [],
   "source": [
    "import numpy as np\n",
    "import pandas as pd\n",
    "import seaborn as sns\n",
    "from sklearn.datasets import make_blobs\n",
    "import umap\n",
    "import matplotlib.pyplot as plt"
   ]
  },
  {
   "cell_type": "markdown",
   "metadata": {},
   "source": [
    "## Generate synthetic data\n",
    "We will create a synthetic dataset with four features: intensity, aspect ratio, perimeter, and elongation."
   ]
  },
  {
   "cell_type": "code",
   "execution_count": 2,
   "metadata": {
    "execution": {
     "iopub.execute_input": "2024-10-21T13:07:59.179422Z",
     "iopub.status.busy": "2024-10-21T13:07:59.178943Z",
     "iopub.status.idle": "2024-10-21T13:07:59.192023Z",
     "shell.execute_reply": "2024-10-21T13:07:59.191406Z"
    }
   },
   "outputs": [
    {
     "data": {
      "text/html": [
       "<div>\n",
       "<style scoped>\n",
       "    .dataframe tbody tr th:only-of-type {\n",
       "        vertical-align: middle;\n",
       "    }\n",
       "\n",
       "    .dataframe tbody tr th {\n",
       "        vertical-align: top;\n",
       "    }\n",
       "\n",
       "    .dataframe thead th {\n",
       "        text-align: right;\n",
       "    }\n",
       "</style>\n",
       "<table border=\"1\" class=\"dataframe\">\n",
       "  <thead>\n",
       "    <tr style=\"text-align: right;\">\n",
       "      <th></th>\n",
       "      <th>intensity</th>\n",
       "      <th>aspect_ratio</th>\n",
       "      <th>perimeter</th>\n",
       "      <th>elongation</th>\n",
       "    </tr>\n",
       "  </thead>\n",
       "  <tbody>\n",
       "    <tr>\n",
       "      <th>0</th>\n",
       "      <td>2.308949</td>\n",
       "      <td>4.231106</td>\n",
       "      <td>-11.628094</td>\n",
       "      <td>10.517577</td>\n",
       "    </tr>\n",
       "    <tr>\n",
       "      <th>1</th>\n",
       "      <td>6.278087</td>\n",
       "      <td>-6.776194</td>\n",
       "      <td>-7.865931</td>\n",
       "      <td>-6.753560</td>\n",
       "    </tr>\n",
       "    <tr>\n",
       "      <th>2</th>\n",
       "      <td>1.370556</td>\n",
       "      <td>3.697693</td>\n",
       "      <td>-9.255109</td>\n",
       "      <td>8.680074</td>\n",
       "    </tr>\n",
       "    <tr>\n",
       "      <th>3</th>\n",
       "      <td>-2.188057</td>\n",
       "      <td>7.145678</td>\n",
       "      <td>4.899650</td>\n",
       "      <td>2.551146</td>\n",
       "    </tr>\n",
       "    <tr>\n",
       "      <th>4</th>\n",
       "      <td>4.109418</td>\n",
       "      <td>-5.900727</td>\n",
       "      <td>-7.846387</td>\n",
       "      <td>-7.987294</td>\n",
       "    </tr>\n",
       "  </tbody>\n",
       "</table>\n",
       "</div>"
      ],
      "text/plain": [
       "   intensity  aspect_ratio  perimeter  elongation\n",
       "0   2.308949      4.231106 -11.628094   10.517577\n",
       "1   6.278087     -6.776194  -7.865931   -6.753560\n",
       "2   1.370556      3.697693  -9.255109    8.680074\n",
       "3  -2.188057      7.145678   4.899650    2.551146\n",
       "4   4.109418     -5.900727  -7.846387   -7.987294"
      ]
     },
     "execution_count": 2,
     "metadata": {},
     "output_type": "execute_result"
    }
   ],
   "source": [
    "# Generate random data using make_blobs for simplicity\n",
    "data, _ = make_blobs(n_samples=300, centers=4, n_features=4, cluster_std=1.5, random_state=42)\n",
    "\n",
    "# Create a DataFrame\n",
    "df = pd.DataFrame(data, columns=['intensity', 'aspect_ratio', 'perimeter', 'elongation'])\n",
    "\n",
    "# Display the first few rows of the dataframe\n",
    "df.head()"
   ]
  },
  {
   "cell_type": "markdown",
   "metadata": {},
   "source": [
    "## Apply UMAP\n",
    "Now, we apply UMAP to reduce the dimensionality of our dataset to two dimensions."
   ]
  },
  {
   "cell_type": "code",
   "execution_count": 3,
   "metadata": {
    "execution": {
     "iopub.execute_input": "2024-10-21T13:07:59.227848Z",
     "iopub.status.busy": "2024-10-21T13:07:59.227436Z",
     "iopub.status.idle": "2024-10-21T13:08:07.438614Z",
     "shell.execute_reply": "2024-10-21T13:08:07.438004Z"
    }
   },
   "outputs": [
    {
     "name": "stderr",
     "output_type": "stream",
     "text": [
      "/opt/hostedtoolcache/Python/3.12.7/x64/lib/python3.12/site-packages/umap/umap_.py:1945: UserWarning: n_jobs value 1 overridden to 1 by setting random_state. Use no seed for parallelism.\n",
      "  warn(f\"n_jobs value {self.n_jobs} overridden to 1 by setting random_state. Use no seed for parallelism.\")\n"
     ]
    },
    {
     "data": {
      "text/html": [
       "<div>\n",
       "<style scoped>\n",
       "    .dataframe tbody tr th:only-of-type {\n",
       "        vertical-align: middle;\n",
       "    }\n",
       "\n",
       "    .dataframe tbody tr th {\n",
       "        vertical-align: top;\n",
       "    }\n",
       "\n",
       "    .dataframe thead th {\n",
       "        text-align: right;\n",
       "    }\n",
       "</style>\n",
       "<table border=\"1\" class=\"dataframe\">\n",
       "  <thead>\n",
       "    <tr style=\"text-align: right;\">\n",
       "      <th></th>\n",
       "      <th>intensity</th>\n",
       "      <th>aspect_ratio</th>\n",
       "      <th>perimeter</th>\n",
       "      <th>elongation</th>\n",
       "      <th>UMAP_1</th>\n",
       "      <th>UMAP_2</th>\n",
       "    </tr>\n",
       "  </thead>\n",
       "  <tbody>\n",
       "    <tr>\n",
       "      <th>0</th>\n",
       "      <td>2.308949</td>\n",
       "      <td>4.231106</td>\n",
       "      <td>-11.628094</td>\n",
       "      <td>10.517577</td>\n",
       "      <td>21.461021</td>\n",
       "      <td>1.292411</td>\n",
       "    </tr>\n",
       "    <tr>\n",
       "      <th>1</th>\n",
       "      <td>6.278087</td>\n",
       "      <td>-6.776194</td>\n",
       "      <td>-7.865931</td>\n",
       "      <td>-6.753560</td>\n",
       "      <td>6.737937</td>\n",
       "      <td>10.965380</td>\n",
       "    </tr>\n",
       "    <tr>\n",
       "      <th>2</th>\n",
       "      <td>1.370556</td>\n",
       "      <td>3.697693</td>\n",
       "      <td>-9.255109</td>\n",
       "      <td>8.680074</td>\n",
       "      <td>21.762495</td>\n",
       "      <td>2.253670</td>\n",
       "    </tr>\n",
       "    <tr>\n",
       "      <th>3</th>\n",
       "      <td>-2.188057</td>\n",
       "      <td>7.145678</td>\n",
       "      <td>4.899650</td>\n",
       "      <td>2.551146</td>\n",
       "      <td>-3.349722</td>\n",
       "      <td>4.406935</td>\n",
       "    </tr>\n",
       "    <tr>\n",
       "      <th>4</th>\n",
       "      <td>4.109418</td>\n",
       "      <td>-5.900727</td>\n",
       "      <td>-7.846387</td>\n",
       "      <td>-7.987294</td>\n",
       "      <td>6.172788</td>\n",
       "      <td>10.813880</td>\n",
       "    </tr>\n",
       "  </tbody>\n",
       "</table>\n",
       "</div>"
      ],
      "text/plain": [
       "   intensity  aspect_ratio  perimeter  elongation     UMAP_1     UMAP_2\n",
       "0   2.308949      4.231106 -11.628094   10.517577  21.461021   1.292411\n",
       "1   6.278087     -6.776194  -7.865931   -6.753560   6.737937  10.965380\n",
       "2   1.370556      3.697693  -9.255109    8.680074  21.762495   2.253670\n",
       "3  -2.188057      7.145678   4.899650    2.551146  -3.349722   4.406935\n",
       "4   4.109418     -5.900727  -7.846387   -7.987294   6.172788  10.813880"
      ]
     },
     "execution_count": 3,
     "metadata": {},
     "output_type": "execute_result"
    }
   ],
   "source": [
    "# Initialize UMAP model\n",
    "umap_model = umap.UMAP(random_state=42)\n",
    "\n",
    "# Fit and transform the data\n",
    "umap_data = umap_model.fit_transform(df)\n",
    "\n",
    "# Add UMAP coordinates to the dataframe\n",
    "df['UMAP_1'] = umap_data[:, 0]\n",
    "df['UMAP_2'] = umap_data[:, 1]\n",
    "\n",
    "# Display the first few rows of the updated dataframe\n",
    "df.head()"
   ]
  },
  {
   "cell_type": "markdown",
   "metadata": {},
   "source": [
    "## Visualize the UMAP result\n",
    "Finally, we will create a scatterplot of the UMAP results and save it as a PNG file."
   ]
  },
  {
   "cell_type": "code",
   "execution_count": 4,
   "metadata": {
    "execution": {
     "iopub.execute_input": "2024-10-21T13:08:07.440510Z",
     "iopub.status.busy": "2024-10-21T13:08:07.440327Z",
     "iopub.status.idle": "2024-10-21T13:08:07.671876Z",
     "shell.execute_reply": "2024-10-21T13:08:07.671341Z"
    }
   },
   "outputs": [
    {
     "data": {
      "image/png": "[encoded data removed]",
      "text/plain": [
       "<Figure size 800x600 with 1 Axes>"
      ]
     },
     "metadata": {},
     "output_type": "display_data"
    }
   ],
   "source": [
    "# Set the aesthetic style of the plots\n",
    "sns.set(style='white', context='notebook')\n",
    "\n",
    "# Create scatterplot\n",
    "plt.figure(figsize=(8, 6))\n",
    "sns.scatterplot(x='UMAP_1', y='UMAP_2', data=df)\n",
    "plt.title('UMAP projection of synthetic dataset')\n",
    "\n",
    "# Save the plot as PNG file\n",
    "plt.savefig('umap_synthetic_data.png')\n",
    "\n",
    "# Show the plot\n",
    "plt.show()"
   ]
  }
 ],
 "metadata": {
  "language_info": {
   "codemirror_mode": {
    "name": "ipython",
    "version": 3
   },
   "file_extension": ".py",
   "mimetype": "text/x-python",
   "name": "python",
   "nbconvert_exporter": "python",
   "pygments_lexer": "ipython3",
   "version": "3.12.7"
  }
 },
 "nbformat": 4,
 "nbformat_minor": 2
}
