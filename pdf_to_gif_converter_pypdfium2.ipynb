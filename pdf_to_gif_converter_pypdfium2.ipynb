{
 "cells": [
  {
   "cell_type": "markdown",
   "metadata": {},
   "source": [
    "# PDF to Animated GIF Converter using pypdfium2\n",
    "\n",
    "This notebook converts PDF files into animated GIFs using pypdfium2."
   ]
  },
  {
   "cell_type": "markdown",
   "metadata": {},
   "source": [
    "Install required library"
   ]
  },
  {
   "cell_type": "code",
   "execution_count": 1,
   "metadata": {
    "execution": {
     "iopub.execute_input": "2025-01-21T12:27:29.288500Z",
     "iopub.status.busy": "2025-01-21T12:27:29.288313Z",
     "iopub.status.idle": "2025-01-21T12:27:30.359163Z",
     "shell.execute_reply": "2025-01-21T12:27:30.358426Z"
    }
   },
   "outputs": [
    {
     "name": "stdout",
     "output_type": "stream",
     "text": [
      "Requirement already satisfied: pypdfium2 in /opt/hostedtoolcache/Python/3.12.8/x64/lib/python3.12/site-packages (4.30.1)\r\n",
      "Requirement already satisfied: Pillow in /opt/hostedtoolcache/Python/3.12.8/x64/lib/python3.12/site-packages (11.1.0)\r\n",
      "Requirement already satisfied: numpy in /opt/hostedtoolcache/Python/3.12.8/x64/lib/python3.12/site-packages (2.1.3)\r\n"
     ]
    }
   ],
   "source": [
    "!pip install pypdfium2 Pillow numpy"
   ]
  },
  {
   "cell_type": "markdown",
   "metadata": {},
   "source": [
    "Import libraries"
   ]
  },
  {
   "cell_type": "code",
   "execution_count": 2,
   "metadata": {
    "execution": {
     "iopub.execute_input": "2025-01-21T12:27:30.361517Z",
     "iopub.status.busy": "2025-01-21T12:27:30.361042Z",
     "iopub.status.idle": "2025-01-21T12:27:30.442552Z",
     "shell.execute_reply": "2025-01-21T12:27:30.442012Z"
    }
   },
   "outputs": [],
   "source": [
    "import pypdfium2 as pdfium\n",
    "from PIL import Image\n",
    "import numpy as np\n",
    "from pathlib import Path"
   ]
  },
  {
   "cell_type": "markdown",
   "metadata": {},
   "source": [
    "Load PDF and convert pages to images"
   ]
  },
  {
   "cell_type": "code",
   "execution_count": 3,
   "metadata": {
    "execution": {
     "iopub.execute_input": "2025-01-21T12:27:30.445595Z",
     "iopub.status.busy": "2025-01-21T12:27:30.444609Z",
     "iopub.status.idle": "2025-01-21T12:27:30.450822Z",
     "shell.execute_reply": "2025-01-21T12:27:30.450330Z"
    }
   },
   "outputs": [
    {
     "name": "stdout",
     "output_type": "stream",
     "text": [
      "Please ensure '/home/runner/work/git-bob-playground/git-bob-playground/example.pdf' exists in the current directory.\n"
     ]
    }
   ],
   "source": [
    "# Get the current working directory\n",
    "current_dir = Path.cwd()\n",
    "\n",
    "# Example PDF file path - replace with your PDF file\n",
    "pdf_path = current_dir / 'example.pdf'\n",
    "\n",
    "# Only proceed if the file exists\n",
    "if pdf_path.exists():\n",
    "    pdf = pdfium.PdfDocument(pdf_path)\n",
    "    \n",
    "    # Convert pages to PIL Images with desired dimensions\n",
    "    images = []\n",
    "    for page in pdf:\n",
    "        bitmap = page.render(scale=1)\n",
    "        pil_image = bitmap.to_pil().resize((960, 540))\n",
    "        images.append(pil_image)\n",
    "else:\n",
    "    print(f\"Please ensure '{pdf_path}' exists in the current directory.\")"
   ]
  },
  {
   "cell_type": "markdown",
   "metadata": {},
   "source": [
    "Save as animated GIF"
   ]
  },
  {
   "cell_type": "code",
   "execution_count": 4,
   "metadata": {
    "execution": {
     "iopub.execute_input": "2025-01-21T12:27:30.453724Z",
     "iopub.status.busy": "2025-01-21T12:27:30.452717Z",
     "iopub.status.idle": "2025-01-21T12:27:30.625608Z",
     "shell.execute_reply": "2025-01-21T12:27:30.624824Z"
    }
   },
   "outputs": [
    {
     "ename": "NameError",
     "evalue": "name 'images' is not defined",
     "output_type": "error",
     "traceback": [
      "\u001b[0;31m---------------------------------------------------------------------------\u001b[0m",
      "\u001b[0;31mNameError\u001b[0m                                 Traceback (most recent call last)",
      "Cell \u001b[0;32mIn[4], line 1\u001b[0m\n\u001b[0;32m----> 1\u001b[0m \u001b[38;5;28;01mif\u001b[39;00m \u001b[43mimages\u001b[49m:  \u001b[38;5;66;03m# Only save if we have images\u001b[39;00m\n\u001b[1;32m      2\u001b[0m     images[\u001b[38;5;241m0\u001b[39m]\u001b[38;5;241m.\u001b[39msave(\n\u001b[1;32m      3\u001b[0m         \u001b[38;5;124m'\u001b[39m\u001b[38;5;124moutput_pypdfium2.gif\u001b[39m\u001b[38;5;124m'\u001b[39m,\n\u001b[1;32m      4\u001b[0m         save_all\u001b[38;5;241m=\u001b[39m\u001b[38;5;28;01mTrue\u001b[39;00m,\n\u001b[0;32m   (...)\u001b[0m\n\u001b[1;32m      7\u001b[0m         loop\u001b[38;5;241m=\u001b[39m\u001b[38;5;241m0\u001b[39m\n\u001b[1;32m      8\u001b[0m     )\n",
      "\u001b[0;31mNameError\u001b[0m: name 'images' is not defined"
     ]
    }
   ],
   "source": [
    "if images:  # Only save if we have images\n",
    "    images[0].save(\n",
    "        'output_pypdfium2.gif',\n",
    "        save_all=True,\n",
    "        append_images=images[1:],\n",
    "        duration=2000,\n",
    "        loop=0\n",
    "    )"
   ]
  }
 ],
 "metadata": {
  "language_info": {
   "codemirror_mode": {
    "name": "ipython",
    "version": 3
   },
   "file_extension": ".py",
   "mimetype": "text/x-python",
   "name": "python",
   "nbconvert_exporter": "python",
   "pygments_lexer": "ipython3",
   "version": "3.12.8"
  }
 },
 "nbformat": 4,
 "nbformat_minor": 4
}