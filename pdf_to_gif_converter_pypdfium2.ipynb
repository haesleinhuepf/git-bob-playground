{
 "cells": [
  {
   "cell_type": "markdown",
   "metadata": {},
   "source": [
    "# PDF to Animated GIF Converter using pypdfium2\n",
    "\n",
    "This notebook converts PDF files into animated GIFs using pypdfium2."
   ]
  },
  {
   "cell_type": "markdown",
   "metadata": {},
   "source": [
    "Install required library"
   ]
  },
  {
   "cell_type": "code",
   "execution_count": 1,
   "metadata": {
    "execution": {
     "iopub.execute_input": "2025-01-21T12:27:45.581600Z",
     "iopub.status.busy": "2025-01-21T12:27:45.581425Z",
     "iopub.status.idle": "2025-01-21T12:27:46.670846Z",
     "shell.execute_reply": "2025-01-21T12:27:46.670258Z"
    }
   },
   "outputs": [
    {
     "name": "stdout",
     "output_type": "stream",
     "text": [
      "Requirement already satisfied: pypdfium2 in /opt/hostedtoolcache/Python/3.12.8/x64/lib/python3.12/site-packages (4.30.1)\r\n",
      "Requirement already satisfied: Pillow in /opt/hostedtoolcache/Python/3.12.8/x64/lib/python3.12/site-packages (11.1.0)\r\n",
      "Requirement already satisfied: numpy in /opt/hostedtoolcache/Python/3.12.8/x64/lib/python3.12/site-packages (2.1.3)\r\n"
     ]
    }
   ],
   "source": [
    "!pip install pypdfium2 Pillow numpy"
   ]
  },
  {
   "cell_type": "markdown",
   "metadata": {},
   "source": [
    "Import libraries"
   ]
  },
  {
   "cell_type": "code",
   "execution_count": 2,
   "metadata": {
    "execution": {
     "iopub.execute_input": "2025-01-21T12:27:46.673276Z",
     "iopub.status.busy": "2025-01-21T12:27:46.672873Z",
     "iopub.status.idle": "2025-01-21T12:27:46.755080Z",
     "shell.execute_reply": "2025-01-21T12:27:46.754493Z"
    }
   },
   "outputs": [],
   "source": [
    "import pypdfium2 as pdfium\n",
    "from PIL import Image\n",
    "import numpy as np\n",
    "from pathlib import Path"
   ]
  },
  {
   "cell_type": "markdown",
   "metadata": {},
   "source": [
    "Load PDF and convert pages to images"
   ]
  },
  {
   "cell_type": "code",
   "execution_count": 3,
   "metadata": {
    "execution": {
     "iopub.execute_input": "2025-01-21T12:27:46.757480Z",
     "iopub.status.busy": "2025-01-21T12:27:46.757202Z",
     "iopub.status.idle": "2025-01-21T12:27:46.764989Z",
     "shell.execute_reply": "2025-01-21T12:27:46.764461Z"
    }
   },
   "outputs": [
    {
     "name": "stdout",
     "output_type": "stream",
     "text": [
      "Please ensure '/home/runner/work/git-bob-playground/git-bob-playground/example.pdf' exists in the current directory.\n"
     ]
    }
   ],
   "source": [
    "# Get the current working directory\n",
    "current_dir = Path.cwd()\n",
    "\n",
    "# Example PDF file path - replace with your PDF file\n",
    "pdf_path = current_dir / 'example.pdf'\n",
    "\n",
    "# Initialize images list\n",
    "images = []\n",
    "\n",
    "# Only proceed if the file exists\n",
    "if pdf_path.exists():\n",
    "    pdf = pdfium.PdfDocument(pdf_path)\n",
    "    \n",
    "    # Convert pages to PIL Images with desired dimensions\n",
    "    for page in pdf:\n",
    "        bitmap = page.render(scale=1)\n",
    "        pil_image = bitmap.to_pil().resize((960, 540))\n",
    "        images.append(pil_image)\n",
    "else:\n",
    "    print(f\"Please ensure '{pdf_path}' exists in the current directory.\")"
   ]
  },
  {
   "cell_type": "markdown",
   "metadata": {},
   "source": [
    "Save as animated GIF"
   ]
  },
  {
   "cell_type": "code",
   "execution_count": 4,
   "metadata": {
    "execution": {
     "iopub.execute_input": "2025-01-21T12:27:46.767999Z",
     "iopub.status.busy": "2025-01-21T12:27:46.767203Z",
     "iopub.status.idle": "2025-01-21T12:27:46.771070Z",
     "shell.execute_reply": "2025-01-21T12:27:46.770566Z"
    }
   },
   "outputs": [],
   "source": [
    "if images:  # Only save if we have images\n",
    "    images[0].save(\n",
    "        'output_pypdfium2.gif',\n",
    "        save_all=True,\n",
    "        append_images=images[1:],\n",
    "        duration=2000,\n",
    "        loop=0\n",
    "    )"
   ]
  }
 ],
 "metadata": {
  "language_info": {
   "codemirror_mode": {
    "name": "ipython",
    "version": 3
   },
   "file_extension": ".py",
   "mimetype": "text/x-python",
   "name": "python",
   "nbconvert_exporter": "python",
   "pygments_lexer": "ipython3",
   "version": "3.12.8"
  }
 },
 "nbformat": 4,
 "nbformat_minor": 4
}
