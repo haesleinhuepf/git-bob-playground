{
 "cells": [
  {
   "cell_type": "markdown",
   "metadata": {},
   "source": [
    "# PDF to Animated GIF Converter using pypdfium2\n",
    "\n",
    "This notebook converts PDF files into animated GIFs using pypdfium2."
   ]
  },
  {
   "cell_type": "markdown",
   "metadata": {},
   "source": [
    "Install required library"
   ]
  },
  {
   "cell_type": "code",
   "execution_count": 1,
   "metadata": {
    "execution": {
     "iopub.execute_input": "2025-01-21T12:27:13.855442Z",
     "iopub.status.busy": "2025-01-21T12:27:13.855264Z",
     "iopub.status.idle": "2025-01-21T12:27:15.393985Z",
     "shell.execute_reply": "2025-01-21T12:27:15.393333Z"
    }
   },
   "outputs": [
    {
     "name": "stdout",
     "output_type": "stream",
     "text": [
      "Collecting pypdfium2\r\n"
     ]
    },
    {
     "name": "stdout",
     "output_type": "stream",
     "text": [
      "  Downloading pypdfium2-4.30.1-py3-none-manylinux_2_17_x86_64.manylinux2014_x86_64.whl.metadata (48 kB)\r\n",
      "Requirement already satisfied: Pillow in /opt/hostedtoolcache/Python/3.12.8/x64/lib/python3.12/site-packages (11.1.0)\r\n",
      "Requirement already satisfied: numpy in /opt/hostedtoolcache/Python/3.12.8/x64/lib/python3.12/site-packages (2.1.3)\r\n",
      "Downloading pypdfium2-4.30.1-py3-none-manylinux_2_17_x86_64.manylinux2014_x86_64.whl (2.9 MB)\r\n",
      "\u001b[?25l   \u001b[90m━━━━━━━━━━━━━━━━━━━━━━━━━━━━━━━━━━━━━━━━\u001b[0m \u001b[32m0.0/2.9 MB\u001b[0m \u001b[31m?\u001b[0m eta \u001b[36m-:--:--\u001b[0m"
     ]
    },
    {
     "name": "stdout",
     "output_type": "stream",
     "text": [
      "\r",
      "\u001b[2K   \u001b[90m━━━━━━━━━━━━━━━━━━━━━━━━━━━━━━━━━━━━━━━━\u001b[0m \u001b[32m2.9/2.9 MB\u001b[0m \u001b[31m62.9 MB/s\u001b[0m eta \u001b[36m0:00:00\u001b[0m\r\n",
      "\u001b[?25h"
     ]
    },
    {
     "name": "stdout",
     "output_type": "stream",
     "text": [
      "Installing collected packages: pypdfium2\r\n"
     ]
    },
    {
     "name": "stdout",
     "output_type": "stream",
     "text": [
      "Successfully installed pypdfium2-4.30.1\r\n"
     ]
    }
   ],
   "source": [
    "!pip install pypdfium2 Pillow numpy"
   ]
  },
  {
   "cell_type": "markdown",
   "metadata": {},
   "source": [
    "Import libraries"
   ]
  },
  {
   "cell_type": "code",
   "execution_count": 2,
   "metadata": {
    "execution": {
     "iopub.execute_input": "2025-01-21T12:27:15.396354Z",
     "iopub.status.busy": "2025-01-21T12:27:15.395986Z",
     "iopub.status.idle": "2025-01-21T12:27:15.478459Z",
     "shell.execute_reply": "2025-01-21T12:27:15.477890Z"
    }
   },
   "outputs": [],
   "source": [
    "import pypdfium2 as pdfium\n",
    "from PIL import Image\n",
    "import numpy as np"
   ]
  },
  {
   "cell_type": "markdown",
   "metadata": {},
   "source": [
    "Load PDF and convert pages to images"
   ]
  },
  {
   "cell_type": "code",
   "execution_count": 3,
   "metadata": {
    "execution": {
     "iopub.execute_input": "2025-01-21T12:27:15.481909Z",
     "iopub.status.busy": "2025-01-21T12:27:15.480909Z",
     "iopub.status.idle": "2025-01-21T12:27:15.681765Z",
     "shell.execute_reply": "2025-01-21T12:27:15.681064Z"
    }
   },
   "outputs": [
    {
     "ename": "FileNotFoundError",
     "evalue": "/home/runner/work/git-bob-playground/git-bob-playground/06_Chatbots.pdf",
     "output_type": "error",
     "traceback": [
      "\u001b[0;31m---------------------------------------------------------------------------\u001b[0m",
      "\u001b[0;31mFileNotFoundError\u001b[0m                         Traceback (most recent call last)",
      "Cell \u001b[0;32mIn[3], line 2\u001b[0m\n\u001b[1;32m      1\u001b[0m pdf_path \u001b[38;5;241m=\u001b[39m \u001b[38;5;124m'\u001b[39m\u001b[38;5;124m06_Chatbots.pdf\u001b[39m\u001b[38;5;124m'\u001b[39m\n\u001b[0;32m----> 2\u001b[0m pdf \u001b[38;5;241m=\u001b[39m \u001b[43mpdfium\u001b[49m\u001b[38;5;241;43m.\u001b[39;49m\u001b[43mPdfDocument\u001b[49m\u001b[43m(\u001b[49m\u001b[43mpdf_path\u001b[49m\u001b[43m)\u001b[49m\n\u001b[1;32m      4\u001b[0m \u001b[38;5;66;03m# Convert pages to PIL Images with desired dimensions\u001b[39;00m\n\u001b[1;32m      5\u001b[0m images \u001b[38;5;241m=\u001b[39m []\n",
      "File \u001b[0;32m/opt/hostedtoolcache/Python/3.12.8/x64/lib/python3.12/site-packages/pypdfium2/_helpers/document.py:64\u001b[0m, in \u001b[0;36mPdfDocument.__init__\u001b[0;34m(self, input, password, autoclose)\u001b[0m\n\u001b[1;32m     62\u001b[0m     \u001b[38;5;28minput\u001b[39m \u001b[38;5;241m=\u001b[39m \u001b[38;5;28minput\u001b[39m\u001b[38;5;241m.\u001b[39mexpanduser()\u001b[38;5;241m.\u001b[39mresolve()\n\u001b[1;32m     63\u001b[0m     \u001b[38;5;28;01mif\u001b[39;00m \u001b[38;5;129;01mnot\u001b[39;00m \u001b[38;5;28minput\u001b[39m\u001b[38;5;241m.\u001b[39mis_file():\n\u001b[0;32m---> 64\u001b[0m         \u001b[38;5;28;01mraise\u001b[39;00m \u001b[38;5;167;01mFileNotFoundError\u001b[39;00m(\u001b[38;5;28minput\u001b[39m)\n\u001b[1;32m     66\u001b[0m \u001b[38;5;28mself\u001b[39m\u001b[38;5;241m.\u001b[39m_input \u001b[38;5;241m=\u001b[39m \u001b[38;5;28minput\u001b[39m\n\u001b[1;32m     67\u001b[0m \u001b[38;5;28mself\u001b[39m\u001b[38;5;241m.\u001b[39m_password \u001b[38;5;241m=\u001b[39m password\n",
      "\u001b[0;31mFileNotFoundError\u001b[0m: /home/runner/work/git-bob-playground/git-bob-playground/06_Chatbots.pdf"
     ]
    }
   ],
   "source": [
    "pdf_path = '06_Chatbots.pdf'\n",
    "pdf = pdfium.PdfDocument(pdf_path)\n",
    "\n",
    "# Convert pages to PIL Images with desired dimensions\n",
    "images = []\n",
    "for page in pdf:\n",
    "    bitmap = page.render(scale=1)\n",
    "    pil_image = bitmap.to_pil().resize((960, 540))\n",
    "    images.append(pil_image)"
   ]
  },
  {
   "cell_type": "markdown",
   "metadata": {},
   "source": [
    "Save as animated GIF"
   ]
  },
  {
   "cell_type": "code",
   "execution_count": null,
   "metadata": {},
   "outputs": [],
   "source": [
    "images[0].save(\n",
    "    'output_pypdfium2.gif',\n",
    "    save_all=True,\n",
    "    append_images=images[1:],\n",
    "    duration=2000,\n",
    "    loop=0\n",
    ")"
   ]
  }
 ],
 "metadata": {
  "language_info": {
   "codemirror_mode": {
    "name": "ipython",
    "version": 3
   },
   "file_extension": ".py",
   "mimetype": "text/x-python",
   "name": "python",
   "nbconvert_exporter": "python",
   "pygments_lexer": "ipython3",
   "version": "3.12.8"
  }
 },
 "nbformat": 4,
 "nbformat_minor": 4
}