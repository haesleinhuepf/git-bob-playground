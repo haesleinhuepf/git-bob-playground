{
 "cells": [
  {
   "cell_type": "markdown",
   "metadata": {},
   "source": [
    "# Image Segmentation of Cell Membranes\n",
    "\n",
    "Given the image characteristics (bright cell membranes on dark background), we'll use watershed segmentation after finding markers using distance transform."
   ]
  },
  {
   "cell_type": "markdown",
   "metadata": {},
   "source": [
    "## Import required libraries"
   ]
  },
  {
   "cell_type": "code",
   "execution_count": 1,
   "metadata": {
    "execution": {
     "iopub.execute_input": "2025-01-24T08:39:27.039096Z",
     "iopub.status.busy": "2025-01-24T08:39:27.038917Z",
     "iopub.status.idle": "2025-01-24T08:39:27.706966Z",
     "shell.execute_reply": "2025-01-24T08:39:27.706439Z"
    }
   },
   "outputs": [],
   "source": [
    "import numpy as np\n",
    "import matplotlib.pyplot as plt\n",
    "from skimage import io, filters, morphology, segmentation, feature, data\n",
    "from scipy import ndimage"
   ]
  },
  {
   "cell_type": "markdown",
   "metadata": {},
   "source": [
    "## Load and preprocess the image"
   ]
  },
  {
   "cell_type": "code",
   "execution_count": 2,
   "metadata": {
    "execution": {
     "iopub.execute_input": "2025-01-24T08:39:27.709249Z",
     "iopub.status.busy": "2025-01-24T08:39:27.708798Z",
     "iopub.status.idle": "2025-01-24T08:39:28.327317Z",
     "shell.execute_reply": "2025-01-24T08:39:28.326664Z"
    }
   },
   "outputs": [
    {
     "name": "stderr",
     "output_type": "stream",
     "text": [
      "Downloading file 'data/cells3d.tif' from 'https://gitlab.com/scikit-image/data/-/raw/2cdc5ce89b334d28f06a58c9f0ca21aa6992a5ba/cells3d.tif' to '/home/runner/.cache/scikit-image/0.25.0'.\n"
     ]
    }
   ],
   "source": [
    "img = data.cells3d()[0, 1]  # Using a sample image from skimage\n",
    "# Normalize image\n",
    "img_norm = (img - img.min()) / (img.max() - img.min())\n",
    "plt.imsave('normalized.png', img_norm)"
   ]
  },
  {
   "cell_type": "markdown",
   "metadata": {},
   "source": [
    "## Create binary mask using adaptive thresholding"
   ]
  },
  {
   "cell_type": "code",
   "execution_count": 3,
   "metadata": {
    "execution": {
     "iopub.execute_input": "2025-01-24T08:39:28.329634Z",
     "iopub.status.busy": "2025-01-24T08:39:28.329255Z",
     "iopub.status.idle": "2025-01-24T08:39:28.350885Z",
     "shell.execute_reply": "2025-01-24T08:39:28.350230Z"
    }
   },
   "outputs": [],
   "source": [
    "thresh = filters.threshold_local(img_norm, block_size=35)\n",
    "binary = img_norm > thresh\n",
    "plt.imsave('binary.png', binary.astype(np.uint8) * 255)"
   ]
  },
  {
   "cell_type": "markdown",
   "metadata": {},
   "source": [
    "## Find markers for watershed using distance transform"
   ]
  },
  {
   "cell_type": "code",
   "execution_count": 4,
   "metadata": {
    "execution": {
     "iopub.execute_input": "2025-01-24T08:39:28.353215Z",
     "iopub.status.busy": "2025-01-24T08:39:28.352748Z",
     "iopub.status.idle": "2025-01-24T08:39:28.366114Z",
     "shell.execute_reply": "2025-01-24T08:39:28.365515Z"
    }
   },
   "outputs": [],
   "source": [
    "distance = ndimage.distance_transform_edt(~binary)\n",
    "local_max = feature.peak_local_max(distance, min_distance=20, labels=~binary)\n",
    "markers = np.zeros_like(distance, dtype=int)\n",
    "markers[tuple(local_max.T)] = np.arange(1, len(local_max) + 1)\n",
    "markers = ndimage.label(markers)[0]"
   ]
  },
  {
   "cell_type": "markdown",
   "metadata": {},
   "source": [
    "## Apply watershed segmentation"
   ]
  },
  {
   "cell_type": "code",
   "execution_count": 5,
   "metadata": {
    "execution": {
     "iopub.execute_input": "2025-01-24T08:39:28.368005Z",
     "iopub.status.busy": "2025-01-24T08:39:28.367559Z",
     "iopub.status.idle": "2025-01-24T08:39:28.836404Z",
     "shell.execute_reply": "2025-01-24T08:39:28.835778Z"
    }
   },
   "outputs": [],
   "source": [
    "segmented = segmentation.watershed(-distance, markers, mask=~binary)\n",
    "\n",
    "# Save result\n",
    "plt.figure(figsize=(10, 10))\n",
    "plt.imshow(segmented, cmap='nipy_spectral')\n",
    "plt.axis('off')\n",
    "plt.savefig('segmentation_result.png', bbox_inches='tight', dpi=300)\n",
    "plt.close()"
   ]
  }
 ],
 "metadata": {
  "language_info": {
   "codemirror_mode": {
    "name": "ipython",
    "version": 3
   },
   "file_extension": ".py",
   "mimetype": "text/x-python",
   "name": "python",
   "nbconvert_exporter": "python",
   "pygments_lexer": "ipython3",
   "version": "3.12.8"
  }
 },
 "nbformat": 4,
 "nbformat_minor": 4
}
