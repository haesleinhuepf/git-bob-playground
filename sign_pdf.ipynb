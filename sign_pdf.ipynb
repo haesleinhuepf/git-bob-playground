{
 "cells": [
  {
   "cell_type": "markdown",
   "metadata": {},
   "source": [
    "# Installing required libraries"
   ]
  },
  {
   "cell_type": "code",
   "execution_count": 1,
   "metadata": {
    "execution": {
     "iopub.execute_input": "2025-02-27T05:30:20.274778Z",
     "iopub.status.busy": "2025-02-27T05:30:20.274374Z",
     "iopub.status.idle": "2025-02-27T05:30:21.690643Z",
     "shell.execute_reply": "2025-02-27T05:30:21.690041Z"
    }
   },
   "outputs": [
    {
     "name": "stdout",
     "output_type": "stream",
     "text": [
      "Collecting pypdf\r\n"
     ]
    },
    {
     "name": "stdout",
     "output_type": "stream",
     "text": [
      "  Downloading pypdf-5.3.0-py3-none-any.whl.metadata (7.2 kB)\r\n",
      "Requirement already satisfied: cryptography in /opt/hostedtoolcache/Python/3.13.2/x64/lib/python3.13/site-packages (44.0.1)\r\n",
      "Requirement already satisfied: cffi>=1.12 in /opt/hostedtoolcache/Python/3.13.2/x64/lib/python3.13/site-packages (from cryptography) (1.17.1)\r\n",
      "Requirement already satisfied: pycparser in /opt/hostedtoolcache/Python/3.13.2/x64/lib/python3.13/site-packages (from cffi>=1.12->cryptography) (2.22)\r\n",
      "Downloading pypdf-5.3.0-py3-none-any.whl (300 kB)\r\n"
     ]
    },
    {
     "name": "stdout",
     "output_type": "stream",
     "text": [
      "Installing collected packages: pypdf\r\n"
     ]
    },
    {
     "name": "stdout",
     "output_type": "stream",
     "text": [
      "Successfully installed pypdf-5.3.0\r\n"
     ]
    }
   ],
   "source": [
    "!pip install pypdf cryptography"
   ]
  },
  {
   "cell_type": "markdown",
   "metadata": {},
   "source": [
    "# Import libraries and set up current date"
   ]
  },
  {
   "cell_type": "code",
   "execution_count": 2,
   "metadata": {
    "execution": {
     "iopub.execute_input": "2025-02-27T05:30:21.692992Z",
     "iopub.status.busy": "2025-02-27T05:30:21.692578Z",
     "iopub.status.idle": "2025-02-27T05:30:21.864192Z",
     "shell.execute_reply": "2025-02-27T05:30:21.863668Z"
    }
   },
   "outputs": [],
   "source": [
    "from pypdf import PdfReader, PdfWriter\n",
    "from cryptography.hazmat.primitives import hashes\n",
    "from cryptography.hazmat.primitives.asymmetric import padding, rsa\n",
    "from datetime import datetime"
   ]
  },
  {
   "cell_type": "markdown",
   "metadata": {},
   "source": [
    "# Create digital stamp text"
   ]
  },
  {
   "cell_type": "code",
   "execution_count": 3,
   "metadata": {
    "execution": {
     "iopub.execute_input": "2025-02-27T05:30:21.866318Z",
     "iopub.status.busy": "2025-02-27T05:30:21.865906Z",
     "iopub.status.idle": "2025-02-27T05:30:21.868602Z",
     "shell.execute_reply": "2025-02-27T05:30:21.868200Z"
    }
   },
   "outputs": [],
   "source": [
    "current_time = datetime.now().strftime(\"%Y-%m-%d %H:%M:%S\")\n",
    "stamp_text = f\"Digitally signed by R. Haase, {current_time}\""
   ]
  },
  {
   "cell_type": "markdown",
   "metadata": {},
   "source": [
    "# Generate key pair for signing"
   ]
  },
  {
   "cell_type": "code",
   "execution_count": 4,
   "metadata": {
    "execution": {
     "iopub.execute_input": "2025-02-27T05:30:21.870286Z",
     "iopub.status.busy": "2025-02-27T05:30:21.869970Z",
     "iopub.status.idle": "2025-02-27T05:30:21.938495Z",
     "shell.execute_reply": "2025-02-27T05:30:21.937948Z"
    }
   },
   "outputs": [],
   "source": [
    "private_key = rsa.generate_private_key(\n",
    "    public_exponent=65537,\n",
    "    key_size=2048\n",
    ")"
   ]
  },
  {
   "cell_type": "markdown",
   "metadata": {},
   "source": [
    "# Add stamp and signature to PDF"
   ]
  },
  {
   "cell_type": "code",
   "execution_count": 5,
   "metadata": {
    "execution": {
     "iopub.execute_input": "2025-02-27T05:30:21.940224Z",
     "iopub.status.busy": "2025-02-27T05:30:21.939923Z",
     "iopub.status.idle": "2025-02-27T05:30:22.091749Z",
     "shell.execute_reply": "2025-02-27T05:30:22.091050Z"
    }
   },
   "outputs": [
    {
     "ename": "AttributeError",
     "evalue": "'PdfWriter' object has no attribute 'add_form_field'",
     "output_type": "error",
     "traceback": [
      "\u001b[0;31m---------------------------------------------------------------------------\u001b[0m",
      "\u001b[0;31mAttributeError\u001b[0m                            Traceback (most recent call last)",
      "Cell \u001b[0;32mIn[5], line 20\u001b[0m\n\u001b[1;32m      9\u001b[0m writer\u001b[38;5;241m.\u001b[39madd_annotation(\n\u001b[1;32m     10\u001b[0m     page_number\u001b[38;5;241m=\u001b[39m\u001b[38;5;241m0\u001b[39m,\n\u001b[1;32m     11\u001b[0m     annotation\u001b[38;5;241m=\u001b[39m{\n\u001b[0;32m   (...)\u001b[0m\n\u001b[1;32m     16\u001b[0m     }\n\u001b[1;32m     17\u001b[0m )\n\u001b[1;32m     19\u001b[0m \u001b[38;5;66;03m# Add signature field\u001b[39;00m\n\u001b[0;32m---> 20\u001b[0m \u001b[43mwriter\u001b[49m\u001b[38;5;241;43m.\u001b[39;49m\u001b[43madd_form_field\u001b[49m(\n\u001b[1;32m     21\u001b[0m     name\u001b[38;5;241m=\u001b[39m\u001b[38;5;124m\"\u001b[39m\u001b[38;5;124mSignature\u001b[39m\u001b[38;5;124m\"\u001b[39m,\n\u001b[1;32m     22\u001b[0m     typ\u001b[38;5;241m=\u001b[39m\u001b[38;5;124m\"\u001b[39m\u001b[38;5;124m/Sig\u001b[39m\u001b[38;5;124m\"\u001b[39m,\n\u001b[1;32m     23\u001b[0m     rect\u001b[38;5;241m=\u001b[39m(\u001b[38;5;241m50\u001b[39m, \u001b[38;5;241m20\u001b[39m, \u001b[38;5;241m400\u001b[39m, \u001b[38;5;241m40\u001b[39m),\n\u001b[1;32m     24\u001b[0m     value\u001b[38;5;241m=\u001b[39m\u001b[38;5;124m\"\u001b[39m\u001b[38;5;124mCryptographically signed by R. Haase\u001b[39m\u001b[38;5;124m\"\u001b[39m\n\u001b[1;32m     25\u001b[0m )\n",
      "\u001b[0;31mAttributeError\u001b[0m: 'PdfWriter' object has no attribute 'add_form_field'"
     ]
    }
   ],
   "source": [
    "reader = PdfReader(\"test2.pdf\")\n",
    "writer = PdfWriter()\n",
    "\n",
    "# Get first page\n",
    "page = reader.pages[0]\n",
    "writer.add_page(page)\n",
    "\n",
    "# Add stamp annotation\n",
    "writer.add_annotation(\n",
    "    page_number=0,\n",
    "    annotation={\n",
    "        \"type\": \"/FreeText\",\n",
    "        \"rect\": [50, 50, 400, 70],\n",
    "        \"contents\": stamp_text,\n",
    "        \"color\": [1, 0, 0]  # RGB for red\n",
    "    }\n",
    ")\n",
    "\n",
    "# Add signature field\n",
    "writer.add_form_field(\n",
    "    name=\"Signature\",\n",
    "    typ=\"/Sig\",\n",
    "    rect=(50, 20, 400, 40),\n",
    "    value=\"Cryptographically signed by R. Haase\"\n",
    ")"
   ]
  },
  {
   "cell_type": "markdown",
   "metadata": {},
   "source": [
    "# Sign and save the PDF"
   ]
  },
  {
   "cell_type": "code",
   "execution_count": null,
   "metadata": {},
   "outputs": [],
   "source": [
    "# Create hash and sign\n",
    "hash_pdf = hashes.Hash(hashes.SHA256())\n",
    "pdf_bytes = writer.bytes()\n",
    "hash_pdf.update(pdf_bytes)\n",
    "signature = private_key.sign(\n",
    "    hash_pdf.finalize(),\n",
    "    padding.PSS(\n",
    "        mgf=padding.MGF1(hashes.SHA256()),\n",
    "        salt_length=padding.PSS.MAX_LENGTH\n",
    "    ),\n",
    "    hashes.SHA256()\n",
    ")\n",
    "\n",
    "# Save the signed PDF\n",
    "with open(\"signed_test2.pdf\", \"wb\") as output_file:\n",
    "    writer.write(output_file)"
   ]
  }
 ],
 "metadata": {
  "language_info": {
   "codemirror_mode": {
    "name": "ipython",
    "version": 3
   },
   "file_extension": ".py",
   "mimetype": "text/x-python",
   "name": "python",
   "nbconvert_exporter": "python",
   "pygments_lexer": "ipython3",
   "version": "3.13.2"
  }
 },
 "nbformat": 4,
 "nbformat_minor": 4
}