{
 "cells": [
  {
   "cell_type": "markdown",
   "metadata": {},
   "source": [
    "# Installing required libraries"
   ]
  },
  {
   "cell_type": "code",
   "execution_count": 1,
   "metadata": {
    "execution": {
     "iopub.execute_input": "2025-02-27T05:31:19.243370Z",
     "iopub.status.busy": "2025-02-27T05:31:19.243009Z",
     "iopub.status.idle": "2025-02-27T05:31:20.251465Z",
     "shell.execute_reply": "2025-02-27T05:31:20.250850Z"
    }
   },
   "outputs": [
    {
     "name": "stdout",
     "output_type": "stream",
     "text": [
      "Requirement already satisfied: pypdf in /opt/hostedtoolcache/Python/3.13.2/x64/lib/python3.13/site-packages (5.3.0)\r\n",
      "Requirement already satisfied: cryptography in /opt/hostedtoolcache/Python/3.13.2/x64/lib/python3.13/site-packages (44.0.1)\r\n",
      "Requirement already satisfied: cffi>=1.12 in /opt/hostedtoolcache/Python/3.13.2/x64/lib/python3.13/site-packages (from cryptography) (1.17.1)\r\n",
      "Requirement already satisfied: pycparser in /opt/hostedtoolcache/Python/3.13.2/x64/lib/python3.13/site-packages (from cffi>=1.12->cryptography) (2.22)\r\n"
     ]
    }
   ],
   "source": [
    "!pip install pypdf cryptography"
   ]
  },
  {
   "cell_type": "markdown",
   "metadata": {},
   "source": [
    "# Import libraries and set up current date"
   ]
  },
  {
   "cell_type": "code",
   "execution_count": 2,
   "metadata": {
    "execution": {
     "iopub.execute_input": "2025-02-27T05:31:20.253637Z",
     "iopub.status.busy": "2025-02-27T05:31:20.253231Z",
     "iopub.status.idle": "2025-02-27T05:31:20.314769Z",
     "shell.execute_reply": "2025-02-27T05:31:20.314198Z"
    }
   },
   "outputs": [],
   "source": [
    "from pypdf import PdfReader, PdfWriter\n",
    "from cryptography.hazmat.primitives import hashes\n",
    "from cryptography.hazmat.primitives.asymmetric import padding, rsa\n",
    "from datetime import datetime\n",
    "import io"
   ]
  },
  {
   "cell_type": "markdown",
   "metadata": {},
   "source": [
    "# Create digital stamp text"
   ]
  },
  {
   "cell_type": "code",
   "execution_count": 3,
   "metadata": {
    "execution": {
     "iopub.execute_input": "2025-02-27T05:31:20.316573Z",
     "iopub.status.busy": "2025-02-27T05:31:20.316353Z",
     "iopub.status.idle": "2025-02-27T05:31:20.319218Z",
     "shell.execute_reply": "2025-02-27T05:31:20.318753Z"
    }
   },
   "outputs": [],
   "source": [
    "current_time = datetime.now().strftime(\"%Y-%m-%d %H:%M:%S\")\n",
    "stamp_text = f\"Digitally signed by R. Haase, {current_time}\""
   ]
  },
  {
   "cell_type": "markdown",
   "metadata": {},
   "source": [
    "# Generate key pair for signing"
   ]
  },
  {
   "cell_type": "code",
   "execution_count": 4,
   "metadata": {
    "execution": {
     "iopub.execute_input": "2025-02-27T05:31:20.320874Z",
     "iopub.status.busy": "2025-02-27T05:31:20.320531Z",
     "iopub.status.idle": "2025-02-27T05:31:20.366085Z",
     "shell.execute_reply": "2025-02-27T05:31:20.365512Z"
    }
   },
   "outputs": [],
   "source": [
    "private_key = rsa.generate_private_key(\n",
    "    public_exponent=65537,\n",
    "    key_size=2048\n",
    ")"
   ]
  },
  {
   "cell_type": "markdown",
   "metadata": {},
   "source": [
    "# Add stamp and signature to PDF"
   ]
  },
  {
   "cell_type": "code",
   "execution_count": 5,
   "metadata": {
    "execution": {
     "iopub.execute_input": "2025-02-27T05:31:20.367728Z",
     "iopub.status.busy": "2025-02-27T05:31:20.367544Z",
     "iopub.status.idle": "2025-02-27T05:31:20.378976Z",
     "shell.execute_reply": "2025-02-27T05:31:20.378531Z"
    }
   },
   "outputs": [],
   "source": [
    "reader = PdfReader(\"test2.pdf\")\n",
    "writer = PdfWriter()\n",
    "\n",
    "# Get first page\n",
    "page = reader.pages[0]\n",
    "writer.add_page(page)\n",
    "\n",
    "# Add stamp annotation\n",
    "writer.add_annotation(\n",
    "    page_number=0,\n",
    "    annotation={\n",
    "        \"type\": \"/FreeText\",\n",
    "        \"rect\": [50, 50, 400, 70],\n",
    "        \"contents\": stamp_text,\n",
    "        \"color\": [1, 0, 0]  # RGB for red\n",
    "    }\n",
    ")\n",
    "\n",
    "# Create signature dictionary manually\n",
    "sig_dict = {'/Type': '/Annot',\n",
    "           '/Subtype': '/Widget',\n",
    "           '/FT': '/Sig',\n",
    "           '/T': 'Signature',\n",
    "           '/Rect': [50, 20, 400, 40],\n",
    "           '/V': 'Cryptographically signed by R. Haase'}\n",
    "page.annotations.append(sig_dict)"
   ]
  },
  {
   "cell_type": "markdown",
   "metadata": {},
   "source": [
    "# Sign and save the PDF"
   ]
  },
  {
   "cell_type": "code",
   "execution_count": 6,
   "metadata": {
    "execution": {
     "iopub.execute_input": "2025-02-27T05:31:20.380577Z",
     "iopub.status.busy": "2025-02-27T05:31:20.380403Z",
     "iopub.status.idle": "2025-02-27T05:31:20.390408Z",
     "shell.execute_reply": "2025-02-27T05:31:20.389995Z"
    }
   },
   "outputs": [],
   "source": [
    "# Create hash and sign\n",
    "hash_pdf = hashes.Hash(hashes.SHA256())\n",
    "output_buffer = io.BytesIO()\n",
    "writer.write(output_buffer)\n",
    "pdf_bytes = output_buffer.getvalue()\n",
    "hash_pdf.update(pdf_bytes)\n",
    "signature = private_key.sign(\n",
    "    hash_pdf.finalize(),\n",
    "    padding.PSS(\n",
    "        mgf=padding.MGF1(hashes.SHA256()),\n",
    "        salt_length=padding.PSS.MAX_LENGTH\n",
    "    ),\n",
    "    hashes.SHA256()\n",
    ")\n",
    "\n",
    "# Save the signed PDF\n",
    "with open(\"signed_test2.pdf\", \"wb\") as output_file:\n",
    "    writer.write(output_file)"
   ]
  }
 ],
 "metadata": {
  "language_info": {
   "codemirror_mode": {
    "name": "ipython",
    "version": 3
   },
   "file_extension": ".py",
   "mimetype": "text/x-python",
   "name": "python",
   "nbconvert_exporter": "python",
   "pygments_lexer": "ipython3",
   "version": "3.13.2"
  }
 },
 "nbformat": 4,
 "nbformat_minor": 4
}
