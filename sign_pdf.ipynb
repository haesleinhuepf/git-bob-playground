{
 "cells": [
  {
   "cell_type": "markdown",
   "metadata": {},
   "source": [
    "# Digital PDF Signing with p12 Certificate\n",
    "First, let's install required packages"
   ]
  },
  {
   "cell_type": "code",
   "execution_count": 1,
   "metadata": {
    "execution": {
     "iopub.execute_input": "2025-02-27T08:36:11.679897Z",
     "iopub.status.busy": "2025-02-27T08:36:11.679719Z",
     "iopub.status.idle": "2025-02-27T08:36:12.877245Z",
     "shell.execute_reply": "2025-02-27T08:36:12.876490Z"
    }
   },
   "outputs": [
    {
     "name": "stdout",
     "output_type": "stream",
     "text": [
      "Requirement already satisfied: pypdf in /opt/hostedtoolcache/Python/3.13.2/x64/lib/python3.13/site-packages (5.3.0)\r\n",
      "Requirement already satisfied: reportlab in /opt/hostedtoolcache/Python/3.13.2/x64/lib/python3.13/site-packages (4.3.1)\r\n",
      "Requirement already satisfied: endesive in /opt/hostedtoolcache/Python/3.13.2/x64/lib/python3.13/site-packages (2.18.3)\r\n",
      "Requirement already satisfied: oscrypto in /opt/hostedtoolcache/Python/3.13.2/x64/lib/python3.13/site-packages (1.3.0)\r\n",
      "Requirement already satisfied: pillow>=9.0.0 in /opt/hostedtoolcache/Python/3.13.2/x64/lib/python3.13/site-packages (from reportlab) (11.1.0)\r\n",
      "Requirement already satisfied: chardet in /opt/hostedtoolcache/Python/3.13.2/x64/lib/python3.13/site-packages (from reportlab) (5.2.0)\r\n"
     ]
    },
    {
     "name": "stdout",
     "output_type": "stream",
     "text": [
      "Requirement already satisfied: certvalidator in /opt/hostedtoolcache/Python/3.13.2/x64/lib/python3.13/site-packages (from endesive) (0.11.1)\r\n",
      "Requirement already satisfied: cryptography in /opt/hostedtoolcache/Python/3.13.2/x64/lib/python3.13/site-packages (from endesive) (44.0.1)\r\n",
      "Requirement already satisfied: asn1crypto in /opt/hostedtoolcache/Python/3.13.2/x64/lib/python3.13/site-packages (from endesive) (1.5.1)\r\n",
      "Requirement already satisfied: lxml in /opt/hostedtoolcache/Python/3.13.2/x64/lib/python3.13/site-packages (from endesive) (5.3.1)\r\n",
      "Requirement already satisfied: pykcs11 in /opt/hostedtoolcache/Python/3.13.2/x64/lib/python3.13/site-packages (from endesive) (1.5.17)\r\n",
      "Requirement already satisfied: pytz in /opt/hostedtoolcache/Python/3.13.2/x64/lib/python3.13/site-packages (from endesive) (2025.1)\r\n",
      "Requirement already satisfied: requests in /opt/hostedtoolcache/Python/3.13.2/x64/lib/python3.13/site-packages (from endesive) (2.32.3)\r\n",
      "Requirement already satisfied: paramiko in /opt/hostedtoolcache/Python/3.13.2/x64/lib/python3.13/site-packages (from endesive) (3.5.1)\r\n",
      "Requirement already satisfied: attrs in /opt/hostedtoolcache/Python/3.13.2/x64/lib/python3.13/site-packages (from endesive) (25.1.0)\r\n",
      "Requirement already satisfied: cffi>=1.12 in /opt/hostedtoolcache/Python/3.13.2/x64/lib/python3.13/site-packages (from cryptography->endesive) (1.17.1)\r\n",
      "Requirement already satisfied: bcrypt>=3.2 in /opt/hostedtoolcache/Python/3.13.2/x64/lib/python3.13/site-packages (from paramiko->endesive) (4.2.1)\r\n",
      "Requirement already satisfied: pynacl>=1.5 in /opt/hostedtoolcache/Python/3.13.2/x64/lib/python3.13/site-packages (from paramiko->endesive) (1.5.0)\r\n",
      "Requirement already satisfied: charset-normalizer<4,>=2 in /opt/hostedtoolcache/Python/3.13.2/x64/lib/python3.13/site-packages (from requests->endesive) (3.4.1)\r\n",
      "Requirement already satisfied: idna<4,>=2.5 in /opt/hostedtoolcache/Python/3.13.2/x64/lib/python3.13/site-packages (from requests->endesive) (3.10)\r\n",
      "Requirement already satisfied: urllib3<3,>=1.21.1 in /opt/hostedtoolcache/Python/3.13.2/x64/lib/python3.13/site-packages (from requests->endesive) (1.26.16)\r\n",
      "Requirement already satisfied: certifi>=2017.4.17 in /opt/hostedtoolcache/Python/3.13.2/x64/lib/python3.13/site-packages (from requests->endesive) (2025.1.31)\r\n",
      "Requirement already satisfied: pycparser in /opt/hostedtoolcache/Python/3.13.2/x64/lib/python3.13/site-packages (from cffi>=1.12->cryptography->endesive) (2.22)\r\n"
     ]
    },
    {
     "name": "stdout",
     "output_type": "stream",
     "text": [
      "\r",
      "Reading package lists... 0%\r",
      "\r",
      "Reading package lists... 100%\r",
      "\r",
      "Reading package lists... Done\r",
      "\r\n",
      "E: Could not open lock file /var/lib/apt/lists/lock - open (13: Permission denied)\r\n",
      "E: Unable to lock directory /var/lib/apt/lists/\r\n",
      "W: Problem unlinking the file /var/cache/apt/pkgcache.bin - RemoveCaches (13: Permission denied)\r\n",
      "W: Problem unlinking the file /var/cache/apt/srcpkgcache.bin - RemoveCaches (13: Permission denied)\r\n"
     ]
    }
   ],
   "source": [
    "!pip install pypdf reportlab endesive oscrypto\n",
    "!apt-get update && apt-get install -y libssl-dev openssl swig python3-dev"
   ]
  },
  {
   "cell_type": "markdown",
   "metadata": {},
   "source": [
    "Import necessary libraries and set up timestamp"
   ]
  },
  {
   "cell_type": "code",
   "execution_count": 2,
   "metadata": {
    "execution": {
     "iopub.execute_input": "2025-02-27T08:36:12.879804Z",
     "iopub.status.busy": "2025-02-27T08:36:12.879367Z",
     "iopub.status.idle": "2025-02-27T08:36:12.956571Z",
     "shell.execute_reply": "2025-02-27T08:36:12.955983Z"
    }
   },
   "outputs": [],
   "source": [
    "from pypdf import PdfReader, PdfWriter\n",
    "from reportlab.pdfgen import canvas\n",
    "from reportlab.lib.pagesizes import letter\n",
    "import io\n",
    "from datetime import datetime\n",
    "\n",
    "timestamp = datetime.now().strftime(\"%Y-%m-%d %H:%M:%S\")\n",
    "signature_text = f\"Digitally signed by R. Haase, {timestamp}\""
   ]
  },
  {
   "cell_type": "markdown",
   "metadata": {},
   "source": [
    "Create visible signature watermark"
   ]
  },
  {
   "cell_type": "code",
   "execution_count": 3,
   "metadata": {
    "execution": {
     "iopub.execute_input": "2025-02-27T08:36:12.958756Z",
     "iopub.status.busy": "2025-02-27T08:36:12.958492Z",
     "iopub.status.idle": "2025-02-27T08:36:12.967128Z",
     "shell.execute_reply": "2025-02-27T08:36:12.966558Z"
    }
   },
   "outputs": [
    {
     "data": {
      "text/plain": [
       "0"
      ]
     },
     "execution_count": 3,
     "metadata": {},
     "output_type": "execute_result"
    }
   ],
   "source": [
    "packet = io.BytesIO()\n",
    "c = canvas.Canvas(packet, pagesize=letter)\n",
    "c.setFont(\"Helvetica\", 12)\n",
    "c.setFillColorRGB(1, 0, 0)\n",
    "c.drawString(50, 50, signature_text)\n",
    "c.save()\n",
    "packet.seek(0)"
   ]
  },
  {
   "cell_type": "markdown",
   "metadata": {},
   "source": [
    "Add visible signature to PDF"
   ]
  },
  {
   "cell_type": "code",
   "execution_count": 4,
   "metadata": {
    "execution": {
     "iopub.execute_input": "2025-02-27T08:36:12.968810Z",
     "iopub.status.busy": "2025-02-27T08:36:12.968628Z",
     "iopub.status.idle": "2025-02-27T08:36:12.987163Z",
     "shell.execute_reply": "2025-02-27T08:36:12.986686Z"
    }
   },
   "outputs": [
    {
     "data": {
      "text/plain": [
       "(True, <_io.FileIO [closed]>)"
      ]
     },
     "execution_count": 4,
     "metadata": {},
     "output_type": "execute_result"
    }
   ],
   "source": [
    "existing_pdf = PdfReader(\"test2.pdf\")\n",
    "signature_pdf = PdfReader(packet)\n",
    "output = PdfWriter()\n",
    "\n",
    "page = existing_pdf.pages[0]\n",
    "page.merge_page(signature_pdf.pages[0])\n",
    "output.add_page(page)\n",
    "\n",
    "for page in existing_pdf.pages[1:]:\n",
    "    output.add_page(page)\n",
    "\n",
    "output.write(\"temp_signed.pdf\")"
   ]
  },
  {
   "cell_type": "markdown",
   "metadata": {},
   "source": [
    "Add cryptographic signature using p12 certificate"
   ]
  },
  {
   "cell_type": "code",
   "execution_count": 5,
   "metadata": {
    "execution": {
     "iopub.execute_input": "2025-02-27T08:36:12.988867Z",
     "iopub.status.busy": "2025-02-27T08:36:12.988685Z",
     "iopub.status.idle": "2025-02-27T08:36:13.630381Z",
     "shell.execute_reply": "2025-02-27T08:36:13.629379Z"
    }
   },
   "outputs": [
    {
     "ename": "LibraryNotFoundError",
     "evalue": "Error detecting the version of libcrypto",
     "output_type": "error",
     "traceback": [
      "\u001b[0;31m---------------------------------------------------------------------------\u001b[0m",
      "\u001b[0;31mLibraryNotFoundError\u001b[0m                      Traceback (most recent call last)",
      "Cell \u001b[0;32mIn[5], line 1\u001b[0m\n\u001b[0;32m----> 1\u001b[0m \u001b[38;5;28;01mfrom\u001b[39;00m\u001b[38;5;250m \u001b[39m\u001b[38;5;21;01mendesive\u001b[39;00m\u001b[38;5;250m \u001b[39m\u001b[38;5;28;01mimport\u001b[39;00m pdf\n\u001b[1;32m      3\u001b[0m date \u001b[38;5;241m=\u001b[39m datetime\u001b[38;5;241m.\u001b[39mutcnow()\n\u001b[1;32m      4\u001b[0m date_str \u001b[38;5;241m=\u001b[39m date\u001b[38;5;241m.\u001b[39mstrftime(\u001b[38;5;124m\"\u001b[39m\u001b[38;5;124m%\u001b[39m\u001b[38;5;124mY\u001b[39m\u001b[38;5;124m%\u001b[39m\u001b[38;5;124mm\u001b[39m\u001b[38;5;132;01m%d\u001b[39;00m\u001b[38;5;124m%\u001b[39m\u001b[38;5;124mH\u001b[39m\u001b[38;5;124m%\u001b[39m\u001b[38;5;124mM\u001b[39m\u001b[38;5;124m%\u001b[39m\u001b[38;5;124mS+00\u001b[39m\u001b[38;5;124m'\u001b[39m\u001b[38;5;124m00\u001b[39m\u001b[38;5;124m'\u001b[39m\u001b[38;5;124m\"\u001b[39m)\n",
      "File \u001b[0;32m/opt/hostedtoolcache/Python/3.13.2/x64/lib/python3.13/site-packages/endesive/pdf/__init__.py:1\u001b[0m\n\u001b[0;32m----> 1\u001b[0m \u001b[38;5;28;01mfrom\u001b[39;00m\u001b[38;5;250m \u001b[39m\u001b[38;5;21;01m.\u001b[39;00m\u001b[38;5;250m \u001b[39m\u001b[38;5;28;01mimport\u001b[39;00m cms\n\u001b[1;32m      2\u001b[0m \u001b[38;5;28;01mfrom\u001b[39;00m\u001b[38;5;250m \u001b[39m\u001b[38;5;21;01m.\u001b[39;00m\u001b[38;5;250m \u001b[39m\u001b[38;5;28;01mimport\u001b[39;00m pdf\n\u001b[1;32m      3\u001b[0m \u001b[38;5;28;01mfrom\u001b[39;00m\u001b[38;5;250m \u001b[39m\u001b[38;5;21;01m.\u001b[39;00m\u001b[38;5;21;01mverify\u001b[39;00m\u001b[38;5;250m \u001b[39m\u001b[38;5;28;01mimport\u001b[39;00m PDFVerifier, verify\n",
      "File \u001b[0;32m/opt/hostedtoolcache/Python/3.13.2/x64/lib/python3.13/site-packages/endesive/pdf/cms.py:14\u001b[0m\n\u001b[1;32m     12\u001b[0m \u001b[38;5;28;01mfrom\u001b[39;00m\u001b[38;5;250m \u001b[39m\u001b[38;5;21;01mcryptography\u001b[39;00m\u001b[38;5;21;01m.\u001b[39;00m\u001b[38;5;21;01mhazmat\u001b[39;00m\u001b[38;5;21;01m.\u001b[39;00m\u001b[38;5;21;01mprimitives\u001b[39;00m\u001b[38;5;21;01m.\u001b[39;00m\u001b[38;5;21;01mserialization\u001b[39;00m\u001b[38;5;250m \u001b[39m\u001b[38;5;28;01mimport\u001b[39;00m pkcs12\n\u001b[1;32m     13\u001b[0m \u001b[38;5;28;01mfrom\u001b[39;00m\u001b[38;5;250m \u001b[39m\u001b[38;5;21;01mcryptography\u001b[39;00m\u001b[38;5;21;01m.\u001b[39;00m\u001b[38;5;21;01mhazmat\u001b[39;00m\u001b[38;5;21;01m.\u001b[39;00m\u001b[38;5;21;01mprimitives\u001b[39;00m\u001b[38;5;21;01m.\u001b[39;00m\u001b[38;5;21;01masymmetric\u001b[39;00m\u001b[38;5;250m \u001b[39m\u001b[38;5;28;01mimport\u001b[39;00m ec\n\u001b[0;32m---> 14\u001b[0m \u001b[38;5;28;01mfrom\u001b[39;00m\u001b[38;5;250m \u001b[39m\u001b[38;5;21;01mendesive\u001b[39;00m\u001b[38;5;250m \u001b[39m\u001b[38;5;28;01mimport\u001b[39;00m signer\n\u001b[1;32m     15\u001b[0m \u001b[38;5;28;01mfrom\u001b[39;00m\u001b[38;5;250m \u001b[39m\u001b[38;5;21;01mendesive\u001b[39;00m\u001b[38;5;21;01m.\u001b[39;00m\u001b[38;5;21;01mpdf\u001b[39;00m\u001b[38;5;21;01m.\u001b[39;00m\u001b[38;5;21;01mPyPDF2\u001b[39;00m\u001b[38;5;250m \u001b[39m\u001b[38;5;28;01mimport\u001b[39;00m pdf, generic \u001b[38;5;28;01mas\u001b[39;00m po\n\u001b[1;32m     18\u001b[0m \u001b[38;5;28;01mdef\u001b[39;00m\u001b[38;5;250m \u001b[39m\u001b[38;5;21mEncodedString\u001b[39m(s):\n",
      "File \u001b[0;32m/opt/hostedtoolcache/Python/3.13.2/x64/lib/python3.13/site-packages/endesive/signer.py:14\u001b[0m\n\u001b[1;32m     12\u001b[0m \u001b[38;5;28;01mimport\u001b[39;00m\u001b[38;5;250m \u001b[39m\u001b[38;5;21;01mpytz\u001b[39;00m\n\u001b[1;32m     13\u001b[0m \u001b[38;5;28;01mfrom\u001b[39;00m\u001b[38;5;250m \u001b[39m\u001b[38;5;21;01masn1crypto\u001b[39;00m\u001b[38;5;250m \u001b[39m\u001b[38;5;28;01mimport\u001b[39;00m cms, algos, core, keys, pem, tsp, x509, ocsp, util\n\u001b[0;32m---> 14\u001b[0m \u001b[38;5;28;01mfrom\u001b[39;00m\u001b[38;5;250m \u001b[39m\u001b[38;5;21;01moscrypto\u001b[39;00m\u001b[38;5;250m \u001b[39m\u001b[38;5;28;01mimport\u001b[39;00m asymmetric\n\u001b[1;32m     15\u001b[0m \u001b[38;5;28;01mfrom\u001b[39;00m\u001b[38;5;250m \u001b[39m\u001b[38;5;21;01mcryptography\u001b[39;00m\u001b[38;5;21;01m.\u001b[39;00m\u001b[38;5;21;01mhazmat\u001b[39;00m\u001b[38;5;250m \u001b[39m\u001b[38;5;28;01mimport\u001b[39;00m backends\n\u001b[1;32m     16\u001b[0m \u001b[38;5;28;01mfrom\u001b[39;00m\u001b[38;5;250m \u001b[39m\u001b[38;5;21;01mcryptography\u001b[39;00m\u001b[38;5;21;01m.\u001b[39;00m\u001b[38;5;21;01mhazmat\u001b[39;00m\u001b[38;5;21;01m.\u001b[39;00m\u001b[38;5;21;01mprimitives\u001b[39;00m\u001b[38;5;250m \u001b[39m\u001b[38;5;28;01mimport\u001b[39;00m hashes, serialization\n",
      "File \u001b[0;32m/opt/hostedtoolcache/Python/3.13.2/x64/lib/python3.13/site-packages/oscrypto/asymmetric.py:19\u001b[0m\n\u001b[1;32m      7\u001b[0m \u001b[38;5;28;01mfrom\u001b[39;00m\u001b[38;5;250m \u001b[39m\u001b[38;5;21;01m.\u001b[39;00m\u001b[38;5;250m \u001b[39m\u001b[38;5;28;01mimport\u001b[39;00m backend\n\u001b[1;32m      8\u001b[0m \u001b[38;5;28;01mfrom\u001b[39;00m\u001b[38;5;250m \u001b[39m\u001b[38;5;21;01m.\u001b[39;00m\u001b[38;5;21;01m_asn1\u001b[39;00m\u001b[38;5;250m \u001b[39m\u001b[38;5;28;01mimport\u001b[39;00m (\n\u001b[1;32m      9\u001b[0m     armor,\n\u001b[1;32m     10\u001b[0m     Certificate \u001b[38;5;28;01mas\u001b[39;00m Asn1Certificate,\n\u001b[0;32m   (...)\u001b[0m\n\u001b[1;32m     17\u001b[0m     PublicKeyInfo,\n\u001b[1;32m     18\u001b[0m )\n\u001b[0;32m---> 19\u001b[0m \u001b[38;5;28;01mfrom\u001b[39;00m\u001b[38;5;250m \u001b[39m\u001b[38;5;21;01m.\u001b[39;00m\u001b[38;5;21;01m_asymmetric\u001b[39;00m\u001b[38;5;250m \u001b[39m\u001b[38;5;28;01mimport\u001b[39;00m _unwrap_private_key_info\n\u001b[1;32m     20\u001b[0m \u001b[38;5;28;01mfrom\u001b[39;00m\u001b[38;5;250m \u001b[39m\u001b[38;5;21;01m.\u001b[39;00m\u001b[38;5;21;01m_errors\u001b[39;00m\u001b[38;5;250m \u001b[39m\u001b[38;5;28;01mimport\u001b[39;00m pretty_message\n\u001b[1;32m     21\u001b[0m \u001b[38;5;28;01mfrom\u001b[39;00m\u001b[38;5;250m \u001b[39m\u001b[38;5;21;01m.\u001b[39;00m\u001b[38;5;21;01m_types\u001b[39;00m\u001b[38;5;250m \u001b[39m\u001b[38;5;28;01mimport\u001b[39;00m type_name, str_cls\n",
      "File \u001b[0;32m/opt/hostedtoolcache/Python/3.13.2/x64/lib/python3.13/site-packages/oscrypto/_asymmetric.py:27\u001b[0m\n\u001b[1;32m      7\u001b[0m \u001b[38;5;28;01mimport\u001b[39;00m\u001b[38;5;250m \u001b[39m\u001b[38;5;21;01mbinascii\u001b[39;00m\n\u001b[1;32m      9\u001b[0m \u001b[38;5;28;01mfrom\u001b[39;00m\u001b[38;5;250m \u001b[39m\u001b[38;5;21;01m.\u001b[39;00m\u001b[38;5;21;01m_asn1\u001b[39;00m\u001b[38;5;250m \u001b[39m\u001b[38;5;28;01mimport\u001b[39;00m (\n\u001b[1;32m     10\u001b[0m     CertBag,\n\u001b[1;32m     11\u001b[0m     Certificate,\n\u001b[0;32m   (...)\u001b[0m\n\u001b[1;32m     24\u001b[0m     unarmor,\n\u001b[1;32m     25\u001b[0m )\n\u001b[0;32m---> 27\u001b[0m \u001b[38;5;28;01mfrom\u001b[39;00m\u001b[38;5;250m \u001b[39m\u001b[38;5;21;01m.\u001b[39;00m\u001b[38;5;21;01mkdf\u001b[39;00m\u001b[38;5;250m \u001b[39m\u001b[38;5;28;01mimport\u001b[39;00m pbkdf1, pbkdf2, pkcs12_kdf\n\u001b[1;32m     28\u001b[0m \u001b[38;5;28;01mfrom\u001b[39;00m\u001b[38;5;250m \u001b[39m\u001b[38;5;21;01m.\u001b[39;00m\u001b[38;5;21;01msymmetric\u001b[39;00m\u001b[38;5;250m \u001b[39m\u001b[38;5;28;01mimport\u001b[39;00m (\n\u001b[1;32m     29\u001b[0m     aes_cbc_pkcs7_decrypt,\n\u001b[1;32m     30\u001b[0m     des_cbc_pkcs5_decrypt,\n\u001b[0;32m   (...)\u001b[0m\n\u001b[1;32m     33\u001b[0m     tripledes_cbc_pkcs5_decrypt,\n\u001b[1;32m     34\u001b[0m )\n\u001b[1;32m     35\u001b[0m \u001b[38;5;28;01mfrom\u001b[39;00m\u001b[38;5;250m \u001b[39m\u001b[38;5;21;01m.\u001b[39;00m\u001b[38;5;21;01mutil\u001b[39;00m\u001b[38;5;250m \u001b[39m\u001b[38;5;28;01mimport\u001b[39;00m constant_compare\n",
      "File \u001b[0;32m/opt/hostedtoolcache/Python/3.13.2/x64/lib/python3.13/site-packages/oscrypto/kdf.py:9\u001b[0m\n\u001b[1;32m      6\u001b[0m \u001b[38;5;28;01mfrom\u001b[39;00m\u001b[38;5;250m \u001b[39m\u001b[38;5;21;01mdatetime\u001b[39;00m\u001b[38;5;250m \u001b[39m\u001b[38;5;28;01mimport\u001b[39;00m datetime\n\u001b[1;32m      8\u001b[0m \u001b[38;5;28;01mfrom\u001b[39;00m\u001b[38;5;250m \u001b[39m\u001b[38;5;21;01m.\u001b[39;00m\u001b[38;5;250m \u001b[39m\u001b[38;5;28;01mimport\u001b[39;00m backend\n\u001b[0;32m----> 9\u001b[0m \u001b[38;5;28;01mfrom\u001b[39;00m\u001b[38;5;250m \u001b[39m\u001b[38;5;21;01m.\u001b[39;00m\u001b[38;5;21;01mutil\u001b[39;00m\u001b[38;5;250m \u001b[39m\u001b[38;5;28;01mimport\u001b[39;00m rand_bytes\n\u001b[1;32m     10\u001b[0m \u001b[38;5;28;01mfrom\u001b[39;00m\u001b[38;5;250m \u001b[39m\u001b[38;5;21;01m.\u001b[39;00m\u001b[38;5;21;01m_types\u001b[39;00m\u001b[38;5;250m \u001b[39m\u001b[38;5;28;01mimport\u001b[39;00m type_name, byte_cls, int_types\n\u001b[1;32m     11\u001b[0m \u001b[38;5;28;01mfrom\u001b[39;00m\u001b[38;5;250m \u001b[39m\u001b[38;5;21;01m.\u001b[39;00m\u001b[38;5;21;01m_errors\u001b[39;00m\u001b[38;5;250m \u001b[39m\u001b[38;5;28;01mimport\u001b[39;00m pretty_message\n",
      "File \u001b[0;32m/opt/hostedtoolcache/Python/3.13.2/x64/lib/python3.13/site-packages/oscrypto/util.py:14\u001b[0m\n\u001b[1;32m     12\u001b[0m     \u001b[38;5;28;01mfrom\u001b[39;00m\u001b[38;5;250m \u001b[39m\u001b[38;5;21;01m.\u001b[39;00m\u001b[38;5;21;01m_win\u001b[39;00m\u001b[38;5;21;01m.\u001b[39;00m\u001b[38;5;21;01mutil\u001b[39;00m\u001b[38;5;250m \u001b[39m\u001b[38;5;28;01mimport\u001b[39;00m rand_bytes\n\u001b[1;32m     13\u001b[0m \u001b[38;5;28;01melse\u001b[39;00m:\n\u001b[0;32m---> 14\u001b[0m     \u001b[38;5;28;01mfrom\u001b[39;00m\u001b[38;5;250m \u001b[39m\u001b[38;5;21;01m.\u001b[39;00m\u001b[38;5;21;01m_openssl\u001b[39;00m\u001b[38;5;21;01m.\u001b[39;00m\u001b[38;5;21;01mutil\u001b[39;00m\u001b[38;5;250m \u001b[39m\u001b[38;5;28;01mimport\u001b[39;00m rand_bytes\n\u001b[1;32m     17\u001b[0m __all__ \u001b[38;5;241m=\u001b[39m [\n\u001b[1;32m     18\u001b[0m     \u001b[38;5;124m'\u001b[39m\u001b[38;5;124mconstant_compare\u001b[39m\u001b[38;5;124m'\u001b[39m,\n\u001b[1;32m     19\u001b[0m     \u001b[38;5;124m'\u001b[39m\u001b[38;5;124mrand_bytes\u001b[39m\u001b[38;5;124m'\u001b[39m,\n\u001b[1;32m     20\u001b[0m ]\n\u001b[1;32m     23\u001b[0m \u001b[38;5;28;01mdef\u001b[39;00m\u001b[38;5;250m \u001b[39m\u001b[38;5;21mconstant_compare\u001b[39m(a, b):\n",
      "File \u001b[0;32m/opt/hostedtoolcache/Python/3.13.2/x64/lib/python3.13/site-packages/oscrypto/_openssl/util.py:6\u001b[0m\n\u001b[1;32m      4\u001b[0m \u001b[38;5;28;01mfrom\u001b[39;00m\u001b[38;5;250m \u001b[39m\u001b[38;5;21;01m.\u001b[39;00m\u001b[38;5;21;01m.\u001b[39;00m\u001b[38;5;21;01m_errors\u001b[39;00m\u001b[38;5;250m \u001b[39m\u001b[38;5;28;01mimport\u001b[39;00m pretty_message\n\u001b[1;32m      5\u001b[0m \u001b[38;5;28;01mfrom\u001b[39;00m\u001b[38;5;250m \u001b[39m\u001b[38;5;21;01m.\u001b[39;00m\u001b[38;5;21;01m.\u001b[39;00m\u001b[38;5;21;01m_ffi\u001b[39;00m\u001b[38;5;250m \u001b[39m\u001b[38;5;28;01mimport\u001b[39;00m buffer_from_bytes, bytes_from_buffer\n\u001b[0;32m----> 6\u001b[0m \u001b[38;5;28;01mfrom\u001b[39;00m\u001b[38;5;250m \u001b[39m\u001b[38;5;21;01m.\u001b[39;00m\u001b[38;5;21;01m_libcrypto\u001b[39;00m\u001b[38;5;250m \u001b[39m\u001b[38;5;28;01mimport\u001b[39;00m libcrypto, libcrypto_version_info, handle_openssl_error\n\u001b[1;32m      7\u001b[0m \u001b[38;5;28;01mfrom\u001b[39;00m\u001b[38;5;250m \u001b[39m\u001b[38;5;21;01m.\u001b[39;00m\u001b[38;5;21;01m.\u001b[39;00m\u001b[38;5;21;01m_rand\u001b[39;00m\u001b[38;5;250m \u001b[39m\u001b[38;5;28;01mimport\u001b[39;00m rand_bytes\n\u001b[1;32m      8\u001b[0m \u001b[38;5;28;01mfrom\u001b[39;00m\u001b[38;5;250m \u001b[39m\u001b[38;5;21;01m.\u001b[39;00m\u001b[38;5;21;01m.\u001b[39;00m\u001b[38;5;21;01m_types\u001b[39;00m\u001b[38;5;250m \u001b[39m\u001b[38;5;28;01mimport\u001b[39;00m type_name, byte_cls, int_types\n",
      "File \u001b[0;32m/opt/hostedtoolcache/Python/3.13.2/x64/lib/python3.13/site-packages/oscrypto/_openssl/_libcrypto.py:9\u001b[0m\n\u001b[1;32m      6\u001b[0m \u001b[38;5;28;01mfrom\u001b[39;00m\u001b[38;5;250m \u001b[39m\u001b[38;5;21;01m.\u001b[39;00m\u001b[38;5;21;01m.\u001b[39;00m\u001b[38;5;21;01m_types\u001b[39;00m\u001b[38;5;250m \u001b[39m\u001b[38;5;28;01mimport\u001b[39;00m str_cls\n\u001b[1;32m      8\u001b[0m \u001b[38;5;28;01mif\u001b[39;00m ffi() \u001b[38;5;241m==\u001b[39m \u001b[38;5;124m'\u001b[39m\u001b[38;5;124mcffi\u001b[39m\u001b[38;5;124m'\u001b[39m:\n\u001b[0;32m----> 9\u001b[0m     \u001b[38;5;28;01mfrom\u001b[39;00m\u001b[38;5;250m \u001b[39m\u001b[38;5;21;01m.\u001b[39;00m\u001b[38;5;21;01m_libcrypto_cffi\u001b[39;00m\u001b[38;5;250m \u001b[39m\u001b[38;5;28;01mimport\u001b[39;00m (\n\u001b[1;32m     10\u001b[0m         libcrypto,\n\u001b[1;32m     11\u001b[0m         version \u001b[38;5;28;01mas\u001b[39;00m libcrypto_version,\n\u001b[1;32m     12\u001b[0m         version_info \u001b[38;5;28;01mas\u001b[39;00m libcrypto_version_info\n\u001b[1;32m     13\u001b[0m     )\n\u001b[1;32m     14\u001b[0m \u001b[38;5;28;01melse\u001b[39;00m:\n\u001b[1;32m     15\u001b[0m     \u001b[38;5;28;01mfrom\u001b[39;00m\u001b[38;5;250m \u001b[39m\u001b[38;5;21;01m.\u001b[39;00m\u001b[38;5;21;01m_libcrypto_ctypes\u001b[39;00m\u001b[38;5;250m \u001b[39m\u001b[38;5;28;01mimport\u001b[39;00m (\n\u001b[1;32m     16\u001b[0m         libcrypto,\n\u001b[1;32m     17\u001b[0m         version \u001b[38;5;28;01mas\u001b[39;00m libcrypto_version,\n\u001b[1;32m     18\u001b[0m         version_info \u001b[38;5;28;01mas\u001b[39;00m libcrypto_version_info\n\u001b[1;32m     19\u001b[0m     )\n",
      "File \u001b[0;32m/opt/hostedtoolcache/Python/3.13.2/x64/lib/python3.13/site-packages/oscrypto/_openssl/_libcrypto_cffi.py:44\u001b[0m\n\u001b[1;32m     42\u001b[0m     version_match \u001b[38;5;241m=\u001b[39m re\u001b[38;5;241m.\u001b[39msearch(\u001b[38;5;124m'\u001b[39m\u001b[38;5;124m(?<=LibreSSL )(\u001b[39m\u001b[38;5;130;01m\\\\\u001b[39;00m\u001b[38;5;124md\u001b[39m\u001b[38;5;130;01m\\\\\u001b[39;00m\u001b[38;5;124m.\u001b[39m\u001b[38;5;130;01m\\\\\u001b[39;00m\u001b[38;5;124md(\u001b[39m\u001b[38;5;130;01m\\\\\u001b[39;00m\u001b[38;5;124m.\u001b[39m\u001b[38;5;130;01m\\\\\u001b[39;00m\u001b[38;5;124md)?)\u001b[39m\u001b[38;5;130;01m\\\\\u001b[39;00m\u001b[38;5;124mb\u001b[39m\u001b[38;5;124m'\u001b[39m, version_string)\n\u001b[1;32m     43\u001b[0m \u001b[38;5;28;01mif\u001b[39;00m \u001b[38;5;129;01mnot\u001b[39;00m version_match:\n\u001b[0;32m---> 44\u001b[0m     \u001b[38;5;28;01mraise\u001b[39;00m LibraryNotFoundError(\u001b[38;5;124m'\u001b[39m\u001b[38;5;124mError detecting the version of libcrypto\u001b[39m\u001b[38;5;124m'\u001b[39m)\n\u001b[1;32m     45\u001b[0m version \u001b[38;5;241m=\u001b[39m version_match\u001b[38;5;241m.\u001b[39mgroup(\u001b[38;5;241m1\u001b[39m)\n\u001b[1;32m     46\u001b[0m version_parts \u001b[38;5;241m=\u001b[39m re\u001b[38;5;241m.\u001b[39msub(\u001b[38;5;124m'\u001b[39m\u001b[38;5;124m(\u001b[39m\u001b[38;5;130;01m\\\\\u001b[39;00m\u001b[38;5;124md)([a-z]+)\u001b[39m\u001b[38;5;124m'\u001b[39m, \u001b[38;5;124m'\u001b[39m\u001b[38;5;130;01m\\\\\u001b[39;00m\u001b[38;5;124m1.\u001b[39m\u001b[38;5;130;01m\\\\\u001b[39;00m\u001b[38;5;124m2\u001b[39m\u001b[38;5;124m'\u001b[39m, version)\u001b[38;5;241m.\u001b[39msplit(\u001b[38;5;124m'\u001b[39m\u001b[38;5;124m.\u001b[39m\u001b[38;5;124m'\u001b[39m)\n",
      "\u001b[0;31mLibraryNotFoundError\u001b[0m: Error detecting the version of libcrypto"
     ]
    }
   ],
   "source": [
    "from endesive import pdf\n",
    "\n",
    "date = datetime.utcnow()\n",
    "date_str = date.strftime(\"%Y%m%d%H%M%S+00'00'\")\n",
    "\n",
    "with open(\"certificate.p12\", \"rb\") as fp:\n",
    "    p12 = fp.read()\n",
    "\n",
    "dct = {\n",
    "    \"sigflags\": 3,\n",
    "    \"contact\": \"R. Haase\",\n",
    "    \"location\": \"Dresden\",\n",
    "    \"signingdate\": date_str,\n",
    "    \"reason\": \"Digital Signature\",\n",
    "}\n",
    "\n",
    "with open(\"temp_signed.pdf\", \"rb\") as fp:\n",
    "    datau = fp.read()\n",
    "\n",
    "signature = pdf.cms.sign(datau, dct,\n",
    "    p12,\n",
    "    \"certificate_password\",  # Replace with actual password\n",
    "    \"sha256\"\n",
    ")\n",
    "\n",
    "with open(\"signed_test2.pdf\", \"wb\") as fp:\n",
    "    fp.write(datau)\n",
    "    fp.write(signature)"
   ]
  }
 ],
 "metadata": {
  "language_info": {
   "codemirror_mode": {
    "name": "ipython",
    "version": 3
   },
   "file_extension": ".py",
   "mimetype": "text/x-python",
   "name": "python",
   "nbconvert_exporter": "python",
   "pygments_lexer": "ipython3",
   "version": "3.13.2"
  }
 },
 "nbformat": 4,
 "nbformat_minor": 4
}
