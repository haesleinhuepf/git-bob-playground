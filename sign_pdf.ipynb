{
 "cells": [
  {
   "cell_type": "markdown",
   "metadata": {},
   "source": [
    "# Create a visibly signed PDF\n",
    "First, let's install required packages"
   ]
  },
  {
   "cell_type": "code",
   "execution_count": 1,
   "metadata": {
    "execution": {
     "iopub.execute_input": "2025-02-27T05:36:56.246021Z",
     "iopub.status.busy": "2025-02-27T05:36:56.245815Z",
     "iopub.status.idle": "2025-02-27T05:36:58.604618Z",
     "shell.execute_reply": "2025-02-27T05:36:58.604068Z"
    }
   },
   "outputs": [
    {
     "name": "stdout",
     "output_type": "stream",
     "text": [
      "Collecting pypdf\r\n"
     ]
    },
    {
     "name": "stdout",
     "output_type": "stream",
     "text": [
      "  Downloading pypdf-5.3.0-py3-none-any.whl.metadata (7.2 kB)\r\n"
     ]
    },
    {
     "name": "stdout",
     "output_type": "stream",
     "text": [
      "Collecting reportlab\r\n",
      "  Downloading reportlab-4.3.1-py3-none-any.whl.metadata (1.7 kB)\r\n"
     ]
    },
    {
     "name": "stdout",
     "output_type": "stream",
     "text": [
      "Requirement already satisfied: pillow>=9.0.0 in /opt/hostedtoolcache/Python/3.13.2/x64/lib/python3.13/site-packages (from reportlab) (11.1.0)\r\n",
      "Collecting chardet (from reportlab)\r\n",
      "  Downloading chardet-5.2.0-py3-none-any.whl.metadata (3.4 kB)\r\n",
      "Downloading pypdf-5.3.0-py3-none-any.whl (300 kB)\r\n",
      "Downloading reportlab-4.3.1-py3-none-any.whl (1.9 MB)\r\n",
      "\u001b[?25l   \u001b[90m━━━━━━━━━━━━━━━━━━━━━━━━━━━━━━━━━━━━━━━━\u001b[0m \u001b[32m0.0/1.9 MB\u001b[0m \u001b[31m?\u001b[0m eta \u001b[36m-:--:--\u001b[0m"
     ]
    },
    {
     "name": "stdout",
     "output_type": "stream",
     "text": [
      "\r",
      "\u001b[2K   \u001b[90m━━━━━━━━━━━━━━━━━━━━━━━━━━━━━━━━━━━━━━━━\u001b[0m \u001b[32m1.9/1.9 MB\u001b[0m \u001b[31m101.8 MB/s\u001b[0m eta \u001b[36m0:00:00\u001b[0m\r\n",
      "\u001b[?25hDownloading chardet-5.2.0-py3-none-any.whl (199 kB)\r\n"
     ]
    },
    {
     "name": "stdout",
     "output_type": "stream",
     "text": [
      "Installing collected packages: pypdf, chardet, reportlab\r\n"
     ]
    },
    {
     "name": "stdout",
     "output_type": "stream",
     "text": [
      "Successfully installed chardet-5.2.0 pypdf-5.3.0 reportlab-4.3.1\r\n"
     ]
    }
   ],
   "source": [
    "!pip install pypdf reportlab"
   ]
  },
  {
   "cell_type": "markdown",
   "metadata": {},
   "source": [
    "Import necessary libraries and prepare signature text with current timestamp"
   ]
  },
  {
   "cell_type": "code",
   "execution_count": 2,
   "metadata": {
    "execution": {
     "iopub.execute_input": "2025-02-27T05:36:58.606903Z",
     "iopub.status.busy": "2025-02-27T05:36:58.606498Z",
     "iopub.status.idle": "2025-02-27T05:36:58.745102Z",
     "shell.execute_reply": "2025-02-27T05:36:58.744604Z"
    }
   },
   "outputs": [],
   "source": [
    "from pypdf import PdfReader, PdfWriter\n",
    "from reportlab.pdfgen import canvas\n",
    "from reportlab.lib.pagesizes import letter\n",
    "import io\n",
    "from datetime import datetime\n",
    "\n",
    "timestamp = datetime.now().strftime(\"%Y-%m-%d %H:%M:%S\")\n",
    "signature_text = f\"Digitally signed by R. Haase, {timestamp}\""
   ]
  },
  {
   "cell_type": "markdown",
   "metadata": {},
   "source": [
    "Create a temporary PDF with the signature text"
   ]
  },
  {
   "cell_type": "code",
   "execution_count": 3,
   "metadata": {
    "execution": {
     "iopub.execute_input": "2025-02-27T05:36:58.747348Z",
     "iopub.status.busy": "2025-02-27T05:36:58.746935Z",
     "iopub.status.idle": "2025-02-27T05:36:58.755154Z",
     "shell.execute_reply": "2025-02-27T05:36:58.754698Z"
    }
   },
   "outputs": [
    {
     "data": {
      "text/plain": [
       "0"
      ]
     },
     "execution_count": 3,
     "metadata": {},
     "output_type": "execute_result"
    }
   ],
   "source": [
    "packet = io.BytesIO()\n",
    "c = canvas.Canvas(packet, pagesize=letter)\n",
    "c.setFont(\"Helvetica\", 12)\n",
    "c.setFillColorRGB(1, 0, 0)  # Red color\n",
    "c.drawString(50, 50, signature_text)\n",
    "c.save()\n",
    "packet.seek(0)"
   ]
  },
  {
   "cell_type": "markdown",
   "metadata": {},
   "source": [
    "Merge signature with original PDF"
   ]
  },
  {
   "cell_type": "code",
   "execution_count": 4,
   "metadata": {
    "execution": {
     "iopub.execute_input": "2025-02-27T05:36:58.756973Z",
     "iopub.status.busy": "2025-02-27T05:36:58.756636Z",
     "iopub.status.idle": "2025-02-27T05:36:58.771350Z",
     "shell.execute_reply": "2025-02-27T05:36:58.770777Z"
    }
   },
   "outputs": [],
   "source": [
    "existing_pdf = PdfReader(\"test2.pdf\")\n",
    "signature_pdf = PdfReader(packet)\n",
    "output = PdfWriter()\n",
    "\n",
    "# Add signature to first page\n",
    "page = existing_pdf.pages[0]\n",
    "page.merge_page(signature_pdf.pages[0])\n",
    "output.add_page(page)\n",
    "\n",
    "# Add remaining pages\n",
    "for page in existing_pdf.pages[1:]:\n",
    "    output.add_page(page)\n",
    "\n",
    "# Write the signed PDF\n",
    "with open(\"signed_test2.pdf\", \"wb\") as output_stream:\n",
    "    output.write(output_stream)"
   ]
  }
 ],
 "metadata": {
  "language_info": {
   "codemirror_mode": {
    "name": "ipython",
    "version": 3
   },
   "file_extension": ".py",
   "mimetype": "text/x-python",
   "name": "python",
   "nbconvert_exporter": "python",
   "pygments_lexer": "ipython3",
   "version": "3.13.2"
  }
 },
 "nbformat": 4,
 "nbformat_minor": 4
}
