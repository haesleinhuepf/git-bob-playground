{
 "cells": [
  {
   "cell_type": "markdown",
   "metadata": {},
   "source": [
    "# Pandas Basics\n",
    "This notebook explains the basics of working with tabular data in pandas."
   ]
  },
  {
   "cell_type": "code",
   "execution_count": 1,
   "metadata": {
    "execution": {
     "iopub.execute_input": "2024-11-02T08:10:10.898578Z",
     "iopub.status.busy": "2024-11-02T08:10:10.898112Z",
     "iopub.status.idle": "2024-11-02T08:10:12.821818Z",
     "shell.execute_reply": "2024-11-02T08:10:12.821232Z"
    }
   },
   "outputs": [],
   "source": [
    "import pandas as pd\n",
    "import numpy as np\n",
    "import matplotlib.pyplot as plt"
   ]
  },
  {
   "cell_type": "markdown",
   "metadata": {},
   "source": [
    "## Creating a DataFrame\n",
    "Let's create a simple DataFrame with some measurement data"
   ]
  },
  {
   "cell_type": "code",
   "execution_count": 2,
   "metadata": {
    "execution": {
     "iopub.execute_input": "2024-11-02T08:10:12.824076Z",
     "iopub.status.busy": "2024-11-02T08:10:12.823806Z",
     "iopub.status.idle": "2024-11-02T08:10:12.829452Z",
     "shell.execute_reply": "2024-11-02T08:10:12.828998Z"
    }
   },
   "outputs": [],
   "source": [
    "data = {\n",
    "    'experiment': ['A', 'A', 'B', 'B', 'C'],\n",
    "    'value': [10.5, 15.2, 8.7, 9.1, 12.3],\n",
    "    'time': [0, 1, 0, 1, 0]\n",
    "}\n",
    "df = pd.DataFrame(data)\n",
    "df.to_csv('measurements.csv', index=False)"
   ]
  },
  {
   "cell_type": "markdown",
   "metadata": {},
   "source": [
    "## Basic DataFrame operations"
   ]
  },
  {
   "cell_type": "code",
   "execution_count": 3,
   "metadata": {
    "execution": {
     "iopub.execute_input": "2024-11-02T08:10:12.831187Z",
     "iopub.status.busy": "2024-11-02T08:10:12.831000Z",
     "iopub.status.idle": "2024-11-02T08:10:12.839488Z",
     "shell.execute_reply": "2024-11-02T08:10:12.839048Z"
    }
   },
   "outputs": [],
   "source": [
    "# Reading data\n",
    "df = pd.read_csv('measurements.csv')\n",
    "\n",
    "# Accessing columns\n",
    "values = df['value']\n",
    "\n",
    "# Basic statistics\n",
    "stats = df.describe()\n",
    "stats.to_csv('statistics.csv')"
   ]
  },
  {
   "cell_type": "markdown",
   "metadata": {},
   "source": [
    "## Filtering and grouping data"
   ]
  },
  {
   "cell_type": "code",
   "execution_count": 4,
   "metadata": {
    "execution": {
     "iopub.execute_input": "2024-11-02T08:10:12.841182Z",
     "iopub.status.busy": "2024-11-02T08:10:12.840999Z",
     "iopub.status.idle": "2024-11-02T08:10:12.845721Z",
     "shell.execute_reply": "2024-11-02T08:10:12.845268Z"
    }
   },
   "outputs": [],
   "source": [
    "# Filter rows\n",
    "filtered = df[df['value'] > 10]\n",
    "\n",
    "# Group by experiment and calculate mean\n",
    "grouped = df.groupby('experiment')['value'].mean()\n",
    "grouped.to_csv('grouped_stats.csv')"
   ]
  },
  {
   "cell_type": "markdown",
   "metadata": {},
   "source": [
    "## Visualization"
   ]
  },
  {
   "cell_type": "code",
   "execution_count": 5,
   "metadata": {
    "execution": {
     "iopub.execute_input": "2024-11-02T08:10:12.847427Z",
     "iopub.status.busy": "2024-11-02T08:10:12.847239Z",
     "iopub.status.idle": "2024-11-02T08:10:12.954870Z",
     "shell.execute_reply": "2024-11-02T08:10:12.954176Z"
    }
   },
   "outputs": [
    {
     "data": {
      "text/plain": [
       "<Figure size 800x600 with 0 Axes>"
      ]
     },
     "metadata": {},
     "output_type": "display_data"
    }
   ],
   "source": [
    "plt.figure(figsize=(8, 6))\n",
    "df.boxplot(column='value', by='experiment')\n",
    "plt.title('Values by Experiment')\n",
    "plt.savefig('boxplot.png')\n",
    "plt.close()"
   ]
  }
 ],
 "metadata": {
  "language_info": {
   "codemirror_mode": {
    "name": "ipython",
    "version": 3
   },
   "file_extension": ".py",
   "mimetype": "text/x-python",
   "name": "python",
   "nbconvert_exporter": "python",
   "pygments_lexer": "ipython3",
   "version": "3.12.7"
  }
 },
 "nbformat": 4,
 "nbformat_minor": 4
}
