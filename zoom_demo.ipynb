{
 "cells": [
  {
   "cell_type": "markdown",
   "metadata": {},
   "source": [
    "# Image Zooming Demo\n",
    "Load required libraries"
   ]
  },
  {
   "cell_type": "code",
   "execution_count": 1,
   "metadata": {
    "execution": {
     "iopub.execute_input": "2025-02-18T16:39:25.367252Z",
     "iopub.status.busy": "2025-02-18T16:39:25.367050Z",
     "iopub.status.idle": "2025-02-18T16:39:25.496397Z",
     "shell.execute_reply": "2025-02-18T16:39:25.495895Z"
    }
   },
   "outputs": [],
   "source": [
    "import numpy as np\n",
    "from skimage import data\n",
    "from stackview import animate"
   ]
  },
  {
   "cell_type": "markdown",
   "metadata": {},
   "source": [
    "Load sample image"
   ]
  },
  {
   "cell_type": "code",
   "execution_count": 2,
   "metadata": {
    "execution": {
     "iopub.execute_input": "2025-02-18T16:39:25.498685Z",
     "iopub.status.busy": "2025-02-18T16:39:25.498214Z",
     "iopub.status.idle": "2025-02-18T16:39:25.947472Z",
     "shell.execute_reply": "2025-02-18T16:39:25.946974Z"
    }
   },
   "outputs": [],
   "source": [
    "image = data.camera()\n",
    "image_list = [image]"
   ]
  },
  {
   "cell_type": "markdown",
   "metadata": {},
   "source": [
    "Perform iterative zooming"
   ]
  },
  {
   "cell_type": "code",
   "execution_count": 3,
   "metadata": {
    "execution": {
     "iopub.execute_input": "2025-02-18T16:39:25.949747Z",
     "iopub.status.busy": "2025-02-18T16:39:25.949320Z",
     "iopub.status.idle": "2025-02-18T16:39:25.953006Z",
     "shell.execute_reply": "2025-02-18T16:39:25.952469Z"
    }
   },
   "outputs": [],
   "source": [
    "current_image = image.copy()\n",
    "\n",
    "for i in range(20):\n",
    "    height, width = current_image.shape\n",
    "    \n",
    "    new_height = int(height * 0.9)\n",
    "    new_width = int(width * 0.9)\n",
    "    \n",
    "    start_y = (height - new_height) // 2\n",
    "    start_x = (width - new_width) // 2\n",
    "    \n",
    "    current_image = current_image[start_y:start_y + new_height, \n",
    "                                 start_x:start_x + new_width]\n",
    "    \n",
    "    image_list.append(current_image)"
   ]
  },
  {
   "cell_type": "markdown",
   "metadata": {},
   "source": [
    "Create animation and save as GIF"
   ]
  },
  {
   "cell_type": "code",
   "execution_count": 4,
   "metadata": {
    "execution": {
     "iopub.execute_input": "2025-02-18T16:39:25.954735Z",
     "iopub.status.busy": "2025-02-18T16:39:25.954410Z",
     "iopub.status.idle": "2025-02-18T16:39:26.133572Z",
     "shell.execute_reply": "2025-02-18T16:39:26.132788Z"
    }
   },
   "outputs": [
    {
     "ename": "ValueError",
     "evalue": "setting an array element with a sequence. The requested array has an inhomogeneous shape after 1 dimensions. The detected shape was (21,) + inhomogeneous part.",
     "output_type": "error",
     "traceback": [
      "\u001b[0;31m---------------------------------------------------------------------------\u001b[0m",
      "\u001b[0;31mValueError\u001b[0m                                Traceback (most recent call last)",
      "Cell \u001b[0;32mIn[4], line 1\u001b[0m\n\u001b[0;32m----> 1\u001b[0m \u001b[43manimate\u001b[49m\u001b[43m(\u001b[49m\u001b[43mimage_list\u001b[49m\u001b[43m,\u001b[49m\u001b[43m \u001b[49m\u001b[43mfilename\u001b[49m\u001b[38;5;241;43m=\u001b[39;49m\u001b[38;5;124;43m\"\u001b[39;49m\u001b[38;5;124;43mtest.gif\u001b[39;49m\u001b[38;5;124;43m\"\u001b[39;49m\u001b[43m)\u001b[49m\n",
      "File \u001b[0;32m/opt/hostedtoolcache/Python/3.13.2/x64/lib/python3.13/site-packages/stackview/_animate.py:39\u001b[0m, in \u001b[0;36manimate\u001b[0;34m(timelapse, filename, overwrite_file, frame_delay_ms, num_loops, colormap, display_min, display_max, zoom_factor)\u001b[0m\n\u001b[1;32m     36\u001b[0m \u001b[38;5;28;01mfrom\u001b[39;00m\u001b[38;5;250m \u001b[39m\u001b[38;5;21;01m.\u001b[39;00m\u001b[38;5;21;01m_utilities\u001b[39;00m\u001b[38;5;250m \u001b[39m\u001b[38;5;28;01mimport\u001b[39;00m numpy_to_gif_bytestream, _gif_to_html\n\u001b[1;32m     38\u001b[0m \u001b[38;5;28;01mif\u001b[39;00m \u001b[38;5;28misinstance\u001b[39m(timelapse, \u001b[38;5;28mlist\u001b[39m):\n\u001b[0;32m---> 39\u001b[0m     timelapse \u001b[38;5;241m=\u001b[39m \u001b[43mnp\u001b[49m\u001b[38;5;241;43m.\u001b[39;49m\u001b[43masarray\u001b[49m\u001b[43m(\u001b[49m\u001b[43mtimelapse\u001b[49m\u001b[43m)\u001b[49m\n\u001b[1;32m     41\u001b[0m \u001b[38;5;28;01mif\u001b[39;00m \u001b[38;5;241m0\u001b[39m \u001b[38;5;241m<\u001b[39m\u001b[38;5;241m=\u001b[39m timelapse\u001b[38;5;241m.\u001b[39mmin() \u001b[38;5;241m<\u001b[39m\u001b[38;5;241m=\u001b[39m \u001b[38;5;241m1\u001b[39m \u001b[38;5;129;01mand\u001b[39;00m \u001b[38;5;241m0\u001b[39m \u001b[38;5;241m<\u001b[39m\u001b[38;5;241m=\u001b[39m timelapse\u001b[38;5;241m.\u001b[39mmax() \u001b[38;5;241m<\u001b[39m\u001b[38;5;241m=\u001b[39m \u001b[38;5;241m1\u001b[39m:\n\u001b[1;32m     42\u001b[0m     warnings\u001b[38;5;241m.\u001b[39mwarn(\u001b[38;5;124m\"\u001b[39m\u001b[38;5;124mThe timelapse has a small intensity range between 0 and 1. Consider normalizing it to the range between 0 and 255.\u001b[39m\u001b[38;5;124m\"\u001b[39m)\n",
      "\u001b[0;31mValueError\u001b[0m: setting an array element with a sequence. The requested array has an inhomogeneous shape after 1 dimensions. The detected shape was (21,) + inhomogeneous part."
     ]
    }
   ],
   "source": [
    "animate(image_list, filename=\"test.gif\")"
   ]
  }
 ],
 "metadata": {
  "language_info": {
   "codemirror_mode": {
    "name": "ipython",
    "version": 3
   },
   "file_extension": ".py",
   "mimetype": "text/x-python",
   "name": "python",
   "nbconvert_exporter": "python",
   "pygments_lexer": "ipython3",
   "version": "3.13.2"
  }
 },
 "nbformat": 4,
 "nbformat_minor": 4
}