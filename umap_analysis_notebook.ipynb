{
 "cells": [
  {
   "cell_type": "markdown",
   "metadata": {},
   "source": [
    "# UMAP Analysis of Synthetic Microscopy Image Data\n",
    "\n",
    "In this notebook, we will generate a synthetic dataset simulating measurements of cells from microscopy images. We will then perform UMAP on the data and visualize the results using seaborn."
   ]
  },
  {
   "cell_type": "markdown",
   "metadata": {},
   "source": [
    "## Import necessary libraries\n",
    "\n",
    "We need the following libraries to proceed: numpy, scipy, pandas, seaborn, umap-learn, and scikit-learn."
   ]
  },
  {
   "cell_type": "code",
   "execution_count": 1,
   "metadata": {
    "execution": {
     "iopub.execute_input": "2024-10-21T12:57:59.706017Z",
     "iopub.status.busy": "2024-10-21T12:57:59.705829Z",
     "iopub.status.idle": "2024-10-21T12:58:13.319244Z",
     "shell.execute_reply": "2024-10-21T12:58:13.318590Z"
    }
   },
   "outputs": [],
   "source": [
    "import numpy as np\n",
    "import pandas as pd\n",
    "import seaborn as sns\n",
    "import umap\n",
    "from sklearn.preprocessing import StandardScaler\n",
    "import matplotlib.pyplot as plt"
   ]
  },
  {
   "cell_type": "markdown",
   "metadata": {},
   "source": [
    "## Create synthetic dataset\n",
    "\n",
    "We will create a dataset with four features: intensity, aspect_ratio, perimeter, and elongation."
   ]
  },
  {
   "cell_type": "code",
   "execution_count": 2,
   "metadata": {
    "execution": {
     "iopub.execute_input": "2024-10-21T12:58:13.321766Z",
     "iopub.status.busy": "2024-10-21T12:58:13.321390Z",
     "iopub.status.idle": "2024-10-21T12:58:13.333937Z",
     "shell.execute_reply": "2024-10-21T12:58:13.333355Z"
    }
   },
   "outputs": [
    {
     "data": {
      "text/html": [
       "<div>\n",
       "<style scoped>\n",
       "    .dataframe tbody tr th:only-of-type {\n",
       "        vertical-align: middle;\n",
       "    }\n",
       "\n",
       "    .dataframe tbody tr th {\n",
       "        vertical-align: top;\n",
       "    }\n",
       "\n",
       "    .dataframe thead th {\n",
       "        text-align: right;\n",
       "    }\n",
       "</style>\n",
       "<table border=\"1\" class=\"dataframe\">\n",
       "  <thead>\n",
       "    <tr style=\"text-align: right;\">\n",
       "      <th></th>\n",
       "      <th>intensity</th>\n",
       "      <th>aspect_ratio</th>\n",
       "      <th>perimeter</th>\n",
       "      <th>elongation</th>\n",
       "    </tr>\n",
       "  </thead>\n",
       "  <tbody>\n",
       "    <tr>\n",
       "      <th>0</th>\n",
       "      <td>104.967142</td>\n",
       "      <td>1.685236</td>\n",
       "      <td>56.996777</td>\n",
       "      <td>2.389181</td>\n",
       "    </tr>\n",
       "    <tr>\n",
       "      <th>1</th>\n",
       "      <td>98.617357</td>\n",
       "      <td>1.881883</td>\n",
       "      <td>54.623168</td>\n",
       "      <td>1.724407</td>\n",
       "    </tr>\n",
       "    <tr>\n",
       "      <th>2</th>\n",
       "      <td>106.476885</td>\n",
       "      <td>1.220286</td>\n",
       "      <td>50.298152</td>\n",
       "      <td>1.590901</td>\n",
       "    </tr>\n",
       "    <tr>\n",
       "      <th>3</th>\n",
       "      <td>115.230299</td>\n",
       "      <td>1.612594</td>\n",
       "      <td>46.765316</td>\n",
       "      <td>1.998313</td>\n",
       "    </tr>\n",
       "    <tr>\n",
       "      <th>4</th>\n",
       "      <td>97.658466</td>\n",
       "      <td>1.369871</td>\n",
       "      <td>53.491117</td>\n",
       "      <td>1.914908</td>\n",
       "    </tr>\n",
       "  </tbody>\n",
       "</table>\n",
       "</div>"
      ],
      "text/plain": [
       "    intensity  aspect_ratio  perimeter  elongation\n",
       "0  104.967142      1.685236  56.996777    2.389181\n",
       "1   98.617357      1.881883  54.623168    1.724407\n",
       "2  106.476885      1.220286  50.298152    1.590901\n",
       "3  115.230299      1.612594  46.765316    1.998313\n",
       "4   97.658466      1.369871  53.491117    1.914908"
      ]
     },
     "execution_count": 2,
     "metadata": {},
     "output_type": "execute_result"
    }
   ],
   "source": [
    "np.random.seed(42)\n",
    "n_samples = 500\n",
    "data = {\n",
    "    'intensity': np.random.normal(100, 10, n_samples),\n",
    "    'aspect_ratio': np.random.normal(1.5, 0.2, n_samples),\n",
    "    'perimeter': np.random.normal(50, 5, n_samples),\n",
    "    'elongation': np.random.normal(2, 0.5, n_samples)\n",
    "}\n",
    "df = pd.DataFrame(data)\n",
    "df.head()"
   ]
  },
  {
   "cell_type": "markdown",
   "metadata": {},
   "source": [
    "## Pre-process data for UMAP\n",
    "\n",
    "Standardize the data before applying UMAP."
   ]
  },
  {
   "cell_type": "code",
   "execution_count": 3,
   "metadata": {
    "execution": {
     "iopub.execute_input": "2024-10-21T12:58:13.370357Z",
     "iopub.status.busy": "2024-10-21T12:58:13.369913Z",
     "iopub.status.idle": "2024-10-21T12:58:13.375292Z",
     "shell.execute_reply": "2024-10-21T12:58:13.374813Z"
    }
   },
   "outputs": [],
   "source": [
    "scaler = StandardScaler()\n",
    "df_scaled = scaler.fit_transform(df)"
   ]
  },
  {
   "cell_type": "markdown",
   "metadata": {},
   "source": [
    "## Apply UMAP\n",
    "\n",
    "Use UMAP to reduce the dimensionality of the data."
   ]
  },
  {
   "cell_type": "code",
   "execution_count": 4,
   "metadata": {
    "execution": {
     "iopub.execute_input": "2024-10-21T12:58:13.376994Z",
     "iopub.status.busy": "2024-10-21T12:58:13.376807Z",
     "iopub.status.idle": "2024-10-21T12:58:21.963150Z",
     "shell.execute_reply": "2024-10-21T12:58:21.962533Z"
    }
   },
   "outputs": [
    {
     "name": "stderr",
     "output_type": "stream",
     "text": [
      "/opt/hostedtoolcache/Python/3.12.7/x64/lib/python3.12/site-packages/umap/umap_.py:1945: UserWarning: n_jobs value 1 overridden to 1 by setting random_state. Use no seed for parallelism.\n",
      "  warn(f\"n_jobs value {self.n_jobs} overridden to 1 by setting random_state. Use no seed for parallelism.\")\n"
     ]
    },
    {
     "data": {
      "text/html": [
       "<div>\n",
       "<style scoped>\n",
       "    .dataframe tbody tr th:only-of-type {\n",
       "        vertical-align: middle;\n",
       "    }\n",
       "\n",
       "    .dataframe tbody tr th {\n",
       "        vertical-align: top;\n",
       "    }\n",
       "\n",
       "    .dataframe thead th {\n",
       "        text-align: right;\n",
       "    }\n",
       "</style>\n",
       "<table border=\"1\" class=\"dataframe\">\n",
       "  <thead>\n",
       "    <tr style=\"text-align: right;\">\n",
       "      <th></th>\n",
       "      <th>intensity</th>\n",
       "      <th>aspect_ratio</th>\n",
       "      <th>perimeter</th>\n",
       "      <th>elongation</th>\n",
       "      <th>UMAP1</th>\n",
       "      <th>UMAP2</th>\n",
       "    </tr>\n",
       "  </thead>\n",
       "  <tbody>\n",
       "    <tr>\n",
       "      <th>0</th>\n",
       "      <td>104.967142</td>\n",
       "      <td>1.685236</td>\n",
       "      <td>56.996777</td>\n",
       "      <td>2.389181</td>\n",
       "      <td>3.999447</td>\n",
       "      <td>5.165542</td>\n",
       "    </tr>\n",
       "    <tr>\n",
       "      <th>1</th>\n",
       "      <td>98.617357</td>\n",
       "      <td>1.881883</td>\n",
       "      <td>54.623168</td>\n",
       "      <td>1.724407</td>\n",
       "      <td>6.947339</td>\n",
       "      <td>2.714202</td>\n",
       "    </tr>\n",
       "    <tr>\n",
       "      <th>2</th>\n",
       "      <td>106.476885</td>\n",
       "      <td>1.220286</td>\n",
       "      <td>50.298152</td>\n",
       "      <td>1.590901</td>\n",
       "      <td>2.869032</td>\n",
       "      <td>0.661736</td>\n",
       "    </tr>\n",
       "    <tr>\n",
       "      <th>3</th>\n",
       "      <td>115.230299</td>\n",
       "      <td>1.612594</td>\n",
       "      <td>46.765316</td>\n",
       "      <td>1.998313</td>\n",
       "      <td>5.245621</td>\n",
       "      <td>0.324965</td>\n",
       "    </tr>\n",
       "    <tr>\n",
       "      <th>4</th>\n",
       "      <td>97.658466</td>\n",
       "      <td>1.369871</td>\n",
       "      <td>53.491117</td>\n",
       "      <td>1.914908</td>\n",
       "      <td>6.761159</td>\n",
       "      <td>5.334298</td>\n",
       "    </tr>\n",
       "  </tbody>\n",
       "</table>\n",
       "</div>"
      ],
      "text/plain": [
       "    intensity  aspect_ratio  perimeter  elongation     UMAP1     UMAP2\n",
       "0  104.967142      1.685236  56.996777    2.389181  3.999447  5.165542\n",
       "1   98.617357      1.881883  54.623168    1.724407  6.947339  2.714202\n",
       "2  106.476885      1.220286  50.298152    1.590901  2.869032  0.661736\n",
       "3  115.230299      1.612594  46.765316    1.998313  5.245621  0.324965\n",
       "4   97.658466      1.369871  53.491117    1.914908  6.761159  5.334298"
      ]
     },
     "execution_count": 4,
     "metadata": {},
     "output_type": "execute_result"
    }
   ],
   "source": [
    "reducer = umap.UMAP(n_neighbors=15, min_dist=0.1, n_components=2, random_state=42)\n",
    "embedding = reducer.fit_transform(df_scaled)\n",
    "df['UMAP1'] = embedding[:, 0]\n",
    "df['UMAP2'] = embedding[:, 1]\n",
    "df.head()"
   ]
  },
  {
   "cell_type": "markdown",
   "metadata": {},
   "source": [
    "## Visualize UMAP results\n",
    "\n",
    "Plot the UMAP reduced data using seaborn."
   ]
  },
  {
   "cell_type": "code",
   "execution_count": 5,
   "metadata": {
    "execution": {
     "iopub.execute_input": "2024-10-21T12:58:21.965405Z",
     "iopub.status.busy": "2024-10-21T12:58:21.965017Z",
     "iopub.status.idle": "2024-10-21T12:58:22.187208Z",
     "shell.execute_reply": "2024-10-21T12:58:22.186581Z"
    }
   },
   "outputs": [
    {
     "data": {
      "image/png": "[encoded data removed]",
      "text/plain": [
       "<Figure size 1000x800 with 1 Axes>"
      ]
     },
     "metadata": {},
     "output_type": "display_data"
    }
   ],
   "source": [
    "plt.figure(figsize=(10, 8))\n",
    "sns.scatterplot(data=df, x='UMAP1', y='UMAP2')\n",
    "plt.title('UMAP projection of synthetic cell data')\n",
    "plt.savefig('umap_result.png')\n",
    "plt.show()"
   ]
  }
 ],
 "metadata": {
  "language_info": {
   "codemirror_mode": {
    "name": "ipython",
    "version": 3
   },
   "file_extension": ".py",
   "mimetype": "text/x-python",
   "name": "python",
   "nbconvert_exporter": "python",
   "pygments_lexer": "ipython3",
   "version": "3.12.7"
  }
 },
 "nbformat": 4,
 "nbformat_minor": 2
}
