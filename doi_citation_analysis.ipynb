{
 "cells": [
  {
   "cell_type": "markdown",
   "metadata": {},
   "source": [
    "# DOI Citation Analysis\n",
    "\n",
    "This notebook analyzes citations for specific DOIs using Crossref and Google Scholar."
   ]
  },
  {
   "cell_type": "markdown",
   "metadata": {},
   "source": [
    "## Import required libraries"
   ]
  },
  {
   "cell_type": "code",
   "execution_count": 1,
   "metadata": {
    "execution": {
     "iopub.execute_input": "2024-12-04T13:39:36.451244Z",
     "iopub.status.busy": "2024-12-04T13:39:36.451029Z",
     "iopub.status.idle": "2024-12-04T13:39:37.199177Z",
     "shell.execute_reply": "2024-12-04T13:39:37.198579Z"
    }
   },
   "outputs": [],
   "source": [
    "import pandas as pd\n",
    "from scholarly import scholarly\n",
    "from crossref.restful import Works"
   ]
  },
  {
   "cell_type": "markdown",
   "metadata": {},
   "source": [
    "## Define function to check DOI citations"
   ]
  },
  {
   "cell_type": "code",
   "execution_count": 2,
   "metadata": {
    "execution": {
     "iopub.execute_input": "2024-12-04T13:39:37.201508Z",
     "iopub.status.busy": "2024-12-04T13:39:37.201213Z",
     "iopub.status.idle": "2024-12-04T13:39:37.206963Z",
     "shell.execute_reply": "2024-12-04T13:39:37.206397Z"
    }
   },
   "outputs": [],
   "source": [
    "def check_doi_citations(doi_list):\n",
    "    works = Works()\n",
    "    results = []\n",
    "    \n",
    "    for doi in doi_list:\n",
    "        print(f\"Processing DOI: {doi}\")\n",
    "        # Get citation count from Crossref\n",
    "        try:\n",
    "            work = works.doi(doi)\n",
    "            crossref_citations = work['is-referenced-by-count']\n",
    "        except:\n",
    "            crossref_citations = None\n",
    "            \n",
    "        # Get citation count from Google Scholar\n",
    "        try:\n",
    "            query = scholarly.search_pubs(doi)\n",
    "            pub = next(query)\n",
    "            scholar_citations = pub.citedby\n",
    "        except:\n",
    "            scholar_citations = None\n",
    "            \n",
    "        results.append({\n",
    "            'DOI': doi,\n",
    "            'Crossref_Citations': crossref_citations,\n",
    "            'Scholar_Citations': scholar_citations\n",
    "        })\n",
    "    \n",
    "    return pd.DataFrame(results)"
   ]
  },
  {
   "cell_type": "markdown",
   "metadata": {},
   "source": [
    "## Analyze citations for specific DOIs"
   ]
  },
  {
   "cell_type": "code",
   "execution_count": 3,
   "metadata": {
    "execution": {
     "iopub.execute_input": "2024-12-04T13:39:37.209028Z",
     "iopub.status.busy": "2024-12-04T13:39:37.208604Z",
     "iopub.status.idle": "2024-12-04T13:40:53.682735Z",
     "shell.execute_reply": "2024-12-04T13:40:53.682089Z"
    }
   },
   "outputs": [
    {
     "name": "stdout",
     "output_type": "stream",
     "text": [
      "Processing DOI: 10.5281/zenodo.5601995\n"
     ]
    },
    {
     "name": "stdout",
     "output_type": "stream",
     "text": [
      "Processing DOI: 10.5281/zenodo.10432619\n"
     ]
    },
    {
     "name": "stdout",
     "output_type": "stream",
     "text": [
      "Processing DOI: 10.5281/zenodo.7827755\n"
     ]
    }
   ],
   "source": [
    "dois = [\"10.5281/zenodo.5601995\", \"10.5281/zenodo.10432619\", \"10.5281/zenodo.7827755\"]\n",
    "citations_df = check_doi_citations(dois)\n",
    "\n",
    "# Save results to CSV\n",
    "citations_df.to_csv('doi_citations.csv', index=False)"
   ]
  }
 ],
 "metadata": {
  "language_info": {
   "codemirror_mode": {
    "name": "ipython",
    "version": 3
   },
   "file_extension": ".py",
   "mimetype": "text/x-python",
   "name": "python",
   "nbconvert_exporter": "python",
   "pygments_lexer": "ipython3",
   "version": "3.12.7"
  }
 },
 "nbformat": 4,
 "nbformat_minor": 4
}
