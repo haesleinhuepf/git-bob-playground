{
 "cells": [
  {
   "cell_type": "markdown",
   "metadata": {},
   "source": [
    "# PDF License Analyzer\n",
    "This notebook extracts URLs from PDF pages and analyzes their licenses."
   ]
  },
  {
   "cell_type": "markdown",
   "metadata": {},
   "source": [
    "## Install and import required libraries"
   ]
  },
  {
   "cell_type": "code",
   "execution_count": 1,
   "metadata": {
    "execution": {
     "iopub.execute_input": "2025-02-19T13:12:16.849869Z",
     "iopub.status.busy": "2025-02-19T13:12:16.849692Z",
     "iopub.status.idle": "2025-02-19T13:12:18.207692Z",
     "shell.execute_reply": "2025-02-19T13:12:18.207057Z"
    }
   },
   "outputs": [
    {
     "name": "stdout",
     "output_type": "stream",
     "text": [
      "Requirement already satisfied: pdfplumber in /opt/hostedtoolcache/Python/3.13.2/x64/lib/python3.13/site-packages (0.11.5)\r\n",
      "Requirement already satisfied: requests in /opt/hostedtoolcache/Python/3.13.2/x64/lib/python3.13/site-packages (2.32.3)\r\n",
      "Requirement already satisfied: beautifulsoup4 in /opt/hostedtoolcache/Python/3.13.2/x64/lib/python3.13/site-packages (4.13.3)\r\n",
      "Requirement already satisfied: pandas in /opt/hostedtoolcache/Python/3.13.2/x64/lib/python3.13/site-packages (2.2.3)\r\n"
     ]
    },
    {
     "name": "stdout",
     "output_type": "stream",
     "text": [
      "Collecting fpdf2\r\n"
     ]
    },
    {
     "name": "stdout",
     "output_type": "stream",
     "text": [
      "  Downloading fpdf2-2.8.2-py2.py3-none-any.whl.metadata (67 kB)\r\n",
      "Requirement already satisfied: pdfminer.six==20231228 in /opt/hostedtoolcache/Python/3.13.2/x64/lib/python3.13/site-packages (from pdfplumber) (20231228)\r\n",
      "Requirement already satisfied: Pillow>=9.1 in /opt/hostedtoolcache/Python/3.13.2/x64/lib/python3.13/site-packages (from pdfplumber) (11.1.0)\r\n",
      "Requirement already satisfied: pypdfium2>=4.18.0 in /opt/hostedtoolcache/Python/3.13.2/x64/lib/python3.13/site-packages (from pdfplumber) (4.30.1)\r\n",
      "Requirement already satisfied: charset-normalizer>=2.0.0 in /opt/hostedtoolcache/Python/3.13.2/x64/lib/python3.13/site-packages (from pdfminer.six==20231228->pdfplumber) (3.4.1)\r\n",
      "Requirement already satisfied: cryptography>=36.0.0 in /opt/hostedtoolcache/Python/3.13.2/x64/lib/python3.13/site-packages (from pdfminer.six==20231228->pdfplumber) (44.0.1)\r\n",
      "Requirement already satisfied: idna<4,>=2.5 in /opt/hostedtoolcache/Python/3.13.2/x64/lib/python3.13/site-packages (from requests) (3.10)\r\n",
      "Requirement already satisfied: urllib3<3,>=1.21.1 in /opt/hostedtoolcache/Python/3.13.2/x64/lib/python3.13/site-packages (from requests) (1.26.16)\r\n",
      "Requirement already satisfied: certifi>=2017.4.17 in /opt/hostedtoolcache/Python/3.13.2/x64/lib/python3.13/site-packages (from requests) (2025.1.31)\r\n",
      "Requirement already satisfied: soupsieve>1.2 in /opt/hostedtoolcache/Python/3.13.2/x64/lib/python3.13/site-packages (from beautifulsoup4) (2.6)\r\n"
     ]
    },
    {
     "name": "stdout",
     "output_type": "stream",
     "text": [
      "Requirement already satisfied: typing-extensions>=4.0.0 in /opt/hostedtoolcache/Python/3.13.2/x64/lib/python3.13/site-packages (from beautifulsoup4) (4.12.2)\r\n",
      "Requirement already satisfied: numpy>=1.26.0 in /opt/hostedtoolcache/Python/3.13.2/x64/lib/python3.13/site-packages (from pandas) (2.1.3)\r\n",
      "Requirement already satisfied: python-dateutil>=2.8.2 in /opt/hostedtoolcache/Python/3.13.2/x64/lib/python3.13/site-packages (from pandas) (2.9.0.post0)\r\n",
      "Requirement already satisfied: pytz>=2020.1 in /opt/hostedtoolcache/Python/3.13.2/x64/lib/python3.13/site-packages (from pandas) (2025.1)\r\n",
      "Requirement already satisfied: tzdata>=2022.7 in /opt/hostedtoolcache/Python/3.13.2/x64/lib/python3.13/site-packages (from pandas) (2025.1)\r\n",
      "Requirement already satisfied: defusedxml in /opt/hostedtoolcache/Python/3.13.2/x64/lib/python3.13/site-packages (from fpdf2) (0.7.1)\r\n",
      "Requirement already satisfied: fonttools>=4.34.0 in /opt/hostedtoolcache/Python/3.13.2/x64/lib/python3.13/site-packages (from fpdf2) (4.56.0)\r\n",
      "Requirement already satisfied: six>=1.5 in /opt/hostedtoolcache/Python/3.13.2/x64/lib/python3.13/site-packages (from python-dateutil>=2.8.2->pandas) (1.17.0)\r\n",
      "Requirement already satisfied: cffi>=1.12 in /opt/hostedtoolcache/Python/3.13.2/x64/lib/python3.13/site-packages (from cryptography>=36.0.0->pdfminer.six==20231228->pdfplumber) (1.17.1)\r\n",
      "Requirement already satisfied: pycparser in /opt/hostedtoolcache/Python/3.13.2/x64/lib/python3.13/site-packages (from cffi>=1.12->cryptography>=36.0.0->pdfminer.six==20231228->pdfplumber) (2.22)\r\n",
      "Downloading fpdf2-2.8.2-py2.py3-none-any.whl (236 kB)\r\n"
     ]
    },
    {
     "name": "stdout",
     "output_type": "stream",
     "text": [
      "Installing collected packages: fpdf2\r\n"
     ]
    },
    {
     "name": "stdout",
     "output_type": "stream",
     "text": [
      "Successfully installed fpdf2-2.8.2\r\n"
     ]
    }
   ],
   "source": [
    "!pip install pdfplumber requests beautifulsoup4 pandas fpdf2"
   ]
  },
  {
   "cell_type": "code",
   "execution_count": 2,
   "metadata": {
    "execution": {
     "iopub.execute_input": "2025-02-19T13:12:18.209776Z",
     "iopub.status.busy": "2025-02-19T13:12:18.209548Z",
     "iopub.status.idle": "2025-02-19T13:12:18.595057Z",
     "shell.execute_reply": "2025-02-19T13:12:18.594565Z"
    }
   },
   "outputs": [],
   "source": [
    "import pdfplumber\n",
    "import requests\n",
    "from bs4 import BeautifulSoup\n",
    "import re\n",
    "import pandas as pd"
   ]
  },
  {
   "cell_type": "markdown",
   "metadata": {},
   "source": [
    "## Function to extract URLs from text"
   ]
  },
  {
   "cell_type": "code",
   "execution_count": 3,
   "metadata": {
    "execution": {
     "iopub.execute_input": "2025-02-19T13:12:18.597145Z",
     "iopub.status.busy": "2025-02-19T13:12:18.596879Z",
     "iopub.status.idle": "2025-02-19T13:12:18.599727Z",
     "shell.execute_reply": "2025-02-19T13:12:18.599264Z"
    }
   },
   "outputs": [],
   "source": [
    "def extract_urls(text):\n",
    "    url_pattern = r'http[s]?://(?:[a-zA-Z]|[0-9]|[$-_@.&+]|[!*\\(\\),]|(?:%[0-9a-fA-F][0-9a-fA-F]))+'\n",
    "    return re.findall(url_pattern, text)"
   ]
  },
  {
   "cell_type": "markdown",
   "metadata": {},
   "source": [
    "## Function to extract text from webpage"
   ]
  },
  {
   "cell_type": "code",
   "execution_count": 4,
   "metadata": {
    "execution": {
     "iopub.execute_input": "2025-02-19T13:12:18.601272Z",
     "iopub.status.busy": "2025-02-19T13:12:18.601100Z",
     "iopub.status.idle": "2025-02-19T13:12:18.604103Z",
     "shell.execute_reply": "2025-02-19T13:12:18.603645Z"
    }
   },
   "outputs": [],
   "source": [
    "def get_webpage_text(url):\n",
    "    try:\n",
    "        response = requests.get(url)\n",
    "        soup = BeautifulSoup(response.text, 'html.parser')\n",
    "        return soup.get_text()\n",
    "    except:\n",
    "        return \"\""
   ]
  },
  {
   "cell_type": "markdown",
   "metadata": {},
   "source": [
    "## Main function to analyze PDF"
   ]
  },
  {
   "cell_type": "code",
   "execution_count": 5,
   "metadata": {
    "execution": {
     "iopub.execute_input": "2025-02-19T13:12:18.605669Z",
     "iopub.status.busy": "2025-02-19T13:12:18.605477Z",
     "iopub.status.idle": "2025-02-19T13:12:18.609177Z",
     "shell.execute_reply": "2025-02-19T13:12:18.608735Z"
    }
   },
   "outputs": [],
   "source": [
    "def analyze_pdf_licenses(pdf_path, prompt):\n",
    "    results = []\n",
    "    \n",
    "    with pdfplumber.open(pdf_path) as pdf:\n",
    "        for page in pdf.pages:\n",
    "            # Extract text and URLs from page\n",
    "            text = page.extract_text()\n",
    "            urls = extract_urls(text)\n",
    "            \n",
    "            # Analyze each URL\n",
    "            page_licenses = []\n",
    "            for url in urls:\n",
    "                webpage_text = get_webpage_text(url)\n",
    "                if webpage_text:\n",
    "                    license = prompt(webpage_text)\n",
    "                    page_licenses.append({\"url\": url, \"license\": license})\n",
    "            \n",
    "            results.append(page_licenses)\n",
    "    \n",
    "    return results"
   ]
  },
  {
   "cell_type": "markdown",
   "metadata": {},
   "source": [
    "## Example usage"
   ]
  },
  {
   "cell_type": "code",
   "execution_count": 6,
   "metadata": {
    "execution": {
     "iopub.execute_input": "2025-02-19T13:12:18.610788Z",
     "iopub.status.busy": "2025-02-19T13:12:18.610594Z",
     "iopub.status.idle": "2025-02-19T13:12:19.673093Z",
     "shell.execute_reply": "2025-02-19T13:12:19.672545Z"
    }
   },
   "outputs": [
    {
     "name": "stderr",
     "output_type": "stream",
     "text": [
      "/tmp/ipykernel_2439/1994071882.py:9: DeprecationWarning: Substituting font arial by core font helvetica - This is deprecated since v2.7.8, and will soon be removed\n",
      "  pdf.set_font(\"Arial\", size=12)\n",
      "/tmp/ipykernel_2439/1994071882.py:10: DeprecationWarning: The parameter \"txt\" has been renamed to \"text\" in 2.7.6\n",
      "  pdf.cell(200, 10, txt=\"Sample text with URL: https://github.com/haesleinhuepf/napari-tools-menu\", ln=1, align=\"L\")\n",
      "/tmp/ipykernel_2439/1994071882.py:10: DeprecationWarning: The parameter \"ln\" is deprecated since v2.5.2. Instead of ln=1 use new_x=XPos.LMARGIN, new_y=YPos.NEXT.\n",
      "  pdf.cell(200, 10, txt=\"Sample text with URL: https://github.com/haesleinhuepf/napari-tools-menu\", ln=1, align=\"L\")\n"
     ]
    }
   ],
   "source": [
    "def mock_prompt(text):\n",
    "    # Replace this with actual LLM prompt function\n",
    "    return \"MIT License\"\n",
    "\n",
    "# Create a sample PDF file for testing\n",
    "from fpdf import FPDF\n",
    "pdf = FPDF()\n",
    "pdf.add_page()\n",
    "pdf.set_font(\"Arial\", size=12)\n",
    "pdf.cell(200, 10, txt=\"Sample text with URL: https://github.com/haesleinhuepf/napari-tools-menu\", ln=1, align=\"L\")\n",
    "sample_pdf_path = \"sample.pdf\"\n",
    "pdf.output(sample_pdf_path)\n",
    "\n",
    "# Analyze the sample PDF\n",
    "results = analyze_pdf_licenses(sample_pdf_path, mock_prompt)\n",
    "\n",
    "# Save results\n",
    "df = pd.DataFrame([(i, item[\"url\"], item[\"license\"]) \n",
    "                   for i, page in enumerate(results) \n",
    "                   for item in page],\n",
    "                  columns=[\"Page\", \"URL\", \"License\"])\n",
    "df.to_csv(\"license_analysis.csv\", index=False)"
   ]
  }
 ],
 "metadata": {
  "language_info": {
   "codemirror_mode": {
    "name": "ipython",
    "version": 3
   },
   "file_extension": ".py",
   "mimetype": "text/x-python",
   "name": "python",
   "nbconvert_exporter": "python",
   "pygments_lexer": "ipython3",
   "version": "3.13.2"
  }
 },
 "nbformat": 4,
 "nbformat_minor": 4
}
