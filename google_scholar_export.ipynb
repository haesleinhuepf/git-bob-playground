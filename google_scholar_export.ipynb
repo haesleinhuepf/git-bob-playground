{
 "cells": [
  {
   "cell_type": "markdown",
   "metadata": {},
   "source": [
    "# Export publications from Google Scholar to BibTeX\n",
    "First, let's import the necessary library and configure scholarly"
   ]
  },
  {
   "cell_type": "code",
   "execution_count": 1,
   "metadata": {
    "execution": {
     "iopub.execute_input": "2024-11-28T13:48:38.487986Z",
     "iopub.status.busy": "2024-11-28T13:48:38.487782Z",
     "iopub.status.idle": "2024-11-28T13:48:39.280145Z",
     "shell.execute_reply": "2024-11-28T13:48:39.279596Z"
    }
   },
   "outputs": [],
   "source": [
    "from scholarly import scholarly\n",
    "import pandas as pd"
   ]
  },
  {
   "cell_type": "markdown",
   "metadata": {},
   "source": [
    "Retrieve the author using the Google Scholar ID"
   ]
  },
  {
   "cell_type": "code",
   "execution_count": 2,
   "metadata": {
    "execution": {
     "iopub.execute_input": "2024-11-28T13:48:39.282547Z",
     "iopub.status.busy": "2024-11-28T13:48:39.282208Z",
     "iopub.status.idle": "2024-11-28T13:48:43.919694Z",
     "shell.execute_reply": "2024-11-28T13:48:43.919024Z"
    }
   },
   "outputs": [],
   "source": [
    "author_id = 'zQgGTr4AAAAJ'\n",
    "author = scholarly.search_author_id(author_id)\n",
    "author = scholarly.fill(author)"
   ]
  },
  {
   "cell_type": "markdown",
   "metadata": {},
   "source": [
    "Get all publications and their BibTeX entries"
   ]
  },
  {
   "cell_type": "code",
   "execution_count": 3,
   "metadata": {
    "execution": {
     "iopub.execute_input": "2024-11-28T13:48:43.922040Z",
     "iopub.status.busy": "2024-11-28T13:48:43.921841Z",
     "iopub.status.idle": "2024-11-28T13:48:44.249822Z",
     "shell.execute_reply": "2024-11-28T13:48:44.249020Z"
    }
   },
   "outputs": [
    {
     "ename": "AttributeError",
     "evalue": "'dict' object has no attribute 'publications'",
     "output_type": "error",
     "traceback": [
      "\u001b[0;31m---------------------------------------------------------------------------\u001b[0m",
      "\u001b[0;31mAttributeError\u001b[0m                            Traceback (most recent call last)",
      "Cell \u001b[0;32mIn[3], line 2\u001b[0m\n\u001b[1;32m      1\u001b[0m publications \u001b[38;5;241m=\u001b[39m []\n\u001b[0;32m----> 2\u001b[0m \u001b[38;5;28;01mfor\u001b[39;00m pub \u001b[38;5;129;01min\u001b[39;00m \u001b[43mauthor\u001b[49m\u001b[38;5;241;43m.\u001b[39;49m\u001b[43mpublications\u001b[49m:\n\u001b[1;32m      3\u001b[0m     pub_filled \u001b[38;5;241m=\u001b[39m scholarly\u001b[38;5;241m.\u001b[39mfill(pub)\n\u001b[1;32m      4\u001b[0m     \u001b[38;5;28;01mif\u001b[39;00m \u001b[38;5;28mhasattr\u001b[39m(pub_filled, \u001b[38;5;124m'\u001b[39m\u001b[38;5;124mbibtex\u001b[39m\u001b[38;5;124m'\u001b[39m):\n",
      "\u001b[0;31mAttributeError\u001b[0m: 'dict' object has no attribute 'publications'"
     ]
    }
   ],
   "source": [
    "publications = []\n",
    "for pub in author.publications:\n",
    "    pub_filled = scholarly.fill(pub)\n",
    "    if hasattr(pub_filled, 'bibtex'):\n",
    "        publications.append(pub_filled.bibtex)"
   ]
  },
  {
   "cell_type": "markdown",
   "metadata": {},
   "source": [
    "Save BibTeX entries to a file"
   ]
  },
  {
   "cell_type": "code",
   "execution_count": null,
   "metadata": {},
   "outputs": [],
   "source": [
    "with open('publications.bib', 'w', encoding='utf-8') as f:\n",
    "    for pub in publications:\n",
    "        f.write(pub + '\\n\\n')"
   ]
  }
 ],
 "metadata": {
  "language_info": {
   "codemirror_mode": {
    "name": "ipython",
    "version": 3
   },
   "file_extension": ".py",
   "mimetype": "text/x-python",
   "name": "python",
   "nbconvert_exporter": "python",
   "pygments_lexer": "ipython3",
   "version": "3.12.7"
  }
 },
 "nbformat": 4,
 "nbformat_minor": 4
}
