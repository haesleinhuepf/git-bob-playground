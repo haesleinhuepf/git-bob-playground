{
 "cells": [
  {
   "cell_type": "markdown",
   "metadata": {},
   "source": [
    "# Export publications from Google Scholar to BibTeX\n",
    "\n",
    "First, import the required library"
   ]
  },
  {
   "cell_type": "code",
   "execution_count": 1,
   "metadata": {
    "execution": {
     "iopub.execute_input": "2024-11-28T14:01:03.430761Z",
     "iopub.status.busy": "2024-11-28T14:01:03.430553Z",
     "iopub.status.idle": "2024-11-28T14:01:03.978381Z",
     "shell.execute_reply": "2024-11-28T14:01:03.977062Z"
    }
   },
   "outputs": [],
   "source": [
    "from scholarly import scholarly"
   ]
  },
  {
   "cell_type": "markdown",
   "metadata": {},
   "source": [
    "Get the author profile using the Google Scholar ID"
   ]
  },
  {
   "cell_type": "code",
   "execution_count": 2,
   "metadata": {
    "execution": {
     "iopub.execute_input": "2024-11-28T14:01:03.981453Z",
     "iopub.status.busy": "2024-11-28T14:01:03.980823Z",
     "iopub.status.idle": "2024-11-28T14:01:09.972119Z",
     "shell.execute_reply": "2024-11-28T14:01:09.971231Z"
    }
   },
   "outputs": [],
   "source": [
    "author_id = 'zQgGTr4AAAAJ'\n",
    "author = scholarly.search_author_id(author_id)\n",
    "author = scholarly.fill(author)"
   ]
  },
  {
   "cell_type": "markdown",
   "metadata": {},
   "source": [
    "Retrieve and fill each publication's details, create BibTeX entries"
   ]
  },
  {
   "cell_type": "code",
   "execution_count": 3,
   "metadata": {
    "execution": {
     "iopub.execute_input": "2024-11-28T14:01:09.975309Z",
     "iopub.status.busy": "2024-11-28T14:01:09.974765Z",
     "iopub.status.idle": "2024-11-28T14:02:07.615072Z",
     "shell.execute_reply": "2024-11-28T14:02:07.614447Z"
    }
   },
   "outputs": [],
   "source": [
    "bibtex_entries = []\n",
    "for pub in author['publications']:\n",
    "    pub_filled = scholarly.fill(pub)\n",
    "    if 'bib' in pub_filled:\n",
    "        # Use title as citation key if cites not available\n",
    "        cite_key = pub_filled['bib'].get('title', '').split()[0].lower()\n",
    "        bibtex = f\"@article{{{cite_key},\\n\"\n",
    "        for key, value in pub_filled['bib'].items():\n",
    "            if key != 'cites':\n",
    "                bibtex += f\"  {key} = {{{value}}},\\n\"\n",
    "        bibtex += \"}\"\n",
    "        bibtex_entries.append(bibtex)"
   ]
  },
  {
   "cell_type": "markdown",
   "metadata": {},
   "source": [
    "Save the BibTeX entries to a file"
   ]
  },
  {
   "cell_type": "code",
   "execution_count": 4,
   "metadata": {
    "execution": {
     "iopub.execute_input": "2024-11-28T14:02:07.617497Z",
     "iopub.status.busy": "2024-11-28T14:02:07.617130Z",
     "iopub.status.idle": "2024-11-28T14:02:07.620467Z",
     "shell.execute_reply": "2024-11-28T14:02:07.619926Z"
    }
   },
   "outputs": [],
   "source": [
    "with open('publications.bib', 'w', encoding='utf-8') as f:\n",
    "    for entry in bibtex_entries:\n",
    "        f.write(entry + '\\n\\n')"
   ]
  }
 ],
 "metadata": {
  "language_info": {
   "codemirror_mode": {
    "name": "ipython",
    "version": 3
   },
   "file_extension": ".py",
   "mimetype": "text/x-python",
   "name": "python",
   "nbconvert_exporter": "python",
   "pygments_lexer": "ipython3",
   "version": "3.12.7"
  }
 },
 "nbformat": 4,
 "nbformat_minor": 4
}
