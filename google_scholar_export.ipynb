{
 "cells": [
  {
   "cell_type": "markdown",
   "metadata": {},
   "source": [
    "# Export publications from Google Scholar to BibTeX\n",
    "\n",
    "First, import the required library"
   ]
  },
  {
   "cell_type": "code",
   "execution_count": 1,
   "metadata": {
    "execution": {
     "iopub.execute_input": "2024-11-28T13:52:31.593911Z",
     "iopub.status.busy": "2024-11-28T13:52:31.593721Z",
     "iopub.status.idle": "2024-11-28T13:52:32.084609Z",
     "shell.execute_reply": "2024-11-28T13:52:32.084065Z"
    }
   },
   "outputs": [],
   "source": [
    "from scholarly import scholarly"
   ]
  },
  {
   "cell_type": "markdown",
   "metadata": {},
   "source": [
    "Get the author profile using the Google Scholar ID"
   ]
  },
  {
   "cell_type": "code",
   "execution_count": 2,
   "metadata": {
    "execution": {
     "iopub.execute_input": "2024-11-28T13:52:32.086920Z",
     "iopub.status.busy": "2024-11-28T13:52:32.086635Z",
     "iopub.status.idle": "2024-11-28T13:52:33.509508Z",
     "shell.execute_reply": "2024-11-28T13:52:33.508867Z"
    }
   },
   "outputs": [],
   "source": [
    "author_id = 'zQgGTr4AAAAJ'\n",
    "author = scholarly.search_author_id(author_id)"
   ]
  },
  {
   "cell_type": "markdown",
   "metadata": {},
   "source": [
    "Retrieve and fill the author's publication information"
   ]
  },
  {
   "cell_type": "code",
   "execution_count": 3,
   "metadata": {
    "execution": {
     "iopub.execute_input": "2024-11-28T13:52:33.511740Z",
     "iopub.status.busy": "2024-11-28T13:52:33.511523Z",
     "iopub.status.idle": "2024-11-28T13:53:31.255135Z",
     "shell.execute_reply": "2024-11-28T13:53:31.254490Z"
    }
   },
   "outputs": [],
   "source": [
    "publications = []\n",
    "author_filled = scholarly.fill(author)\n",
    "for pub in author_filled['publications']:\n",
    "    pub_filled = scholarly.fill(pub)\n",
    "    if 'bib' in pub_filled:\n",
    "        publications.append(pub_filled['bib'])"
   ]
  },
  {
   "cell_type": "markdown",
   "metadata": {},
   "source": [
    "Save the BibTeX entries to a file"
   ]
  },
  {
   "cell_type": "code",
   "execution_count": 4,
   "metadata": {
    "execution": {
     "iopub.execute_input": "2024-11-28T13:53:31.257545Z",
     "iopub.status.busy": "2024-11-28T13:53:31.257351Z",
     "iopub.status.idle": "2024-11-28T13:53:31.465943Z",
     "shell.execute_reply": "2024-11-28T13:53:31.465117Z"
    }
   },
   "outputs": [
    {
     "ename": "TypeError",
     "evalue": "unsupported operand type(s) for +: 'dict' and 'str'",
     "output_type": "error",
     "traceback": [
      "\u001b[0;31m---------------------------------------------------------------------------\u001b[0m",
      "\u001b[0;31mTypeError\u001b[0m                                 Traceback (most recent call last)",
      "Cell \u001b[0;32mIn[4], line 3\u001b[0m\n\u001b[1;32m      1\u001b[0m \u001b[38;5;28;01mwith\u001b[39;00m \u001b[38;5;28mopen\u001b[39m(\u001b[38;5;124m'\u001b[39m\u001b[38;5;124mpublications.bib\u001b[39m\u001b[38;5;124m'\u001b[39m, \u001b[38;5;124m'\u001b[39m\u001b[38;5;124mw\u001b[39m\u001b[38;5;124m'\u001b[39m, encoding\u001b[38;5;241m=\u001b[39m\u001b[38;5;124m'\u001b[39m\u001b[38;5;124mutf-8\u001b[39m\u001b[38;5;124m'\u001b[39m) \u001b[38;5;28;01mas\u001b[39;00m f:\n\u001b[1;32m      2\u001b[0m     \u001b[38;5;28;01mfor\u001b[39;00m pub \u001b[38;5;129;01min\u001b[39;00m publications:\n\u001b[0;32m----> 3\u001b[0m         f\u001b[38;5;241m.\u001b[39mwrite(\u001b[43mpub\u001b[49m\u001b[43m \u001b[49m\u001b[38;5;241;43m+\u001b[39;49m\u001b[43m \u001b[49m\u001b[38;5;124;43m'\u001b[39;49m\u001b[38;5;130;43;01m\\n\u001b[39;49;00m\u001b[38;5;130;43;01m\\n\u001b[39;49;00m\u001b[38;5;124;43m'\u001b[39;49m)\n",
      "\u001b[0;31mTypeError\u001b[0m: unsupported operand type(s) for +: 'dict' and 'str'"
     ]
    }
   ],
   "source": [
    "with open('publications.bib', 'w', encoding='utf-8') as f:\n",
    "    for pub in publications:\n",
    "        f.write(pub + '\\n\\n')"
   ]
  }
 ],
 "metadata": {
  "language_info": {
   "codemirror_mode": {
    "name": "ipython",
    "version": 3
   },
   "file_extension": ".py",
   "mimetype": "text/x-python",
   "name": "python",
   "nbconvert_exporter": "python",
   "pygments_lexer": "ipython3",
   "version": "3.12.7"
  }
 },
 "nbformat": 4,
 "nbformat_minor": 4
}
