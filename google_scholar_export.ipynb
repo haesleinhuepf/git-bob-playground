{
 "cells": [
  {
   "cell_type": "markdown",
   "metadata": {},
   "source": [
    "# Export publications from Google Scholar to BibTeX\n",
    "\n",
    "First, import the required library"
   ]
  },
  {
   "cell_type": "code",
   "execution_count": 1,
   "metadata": {
    "execution": {
     "iopub.execute_input": "2024-11-28T13:56:59.665565Z",
     "iopub.status.busy": "2024-11-28T13:56:59.665365Z",
     "iopub.status.idle": "2024-11-28T13:57:00.146376Z",
     "shell.execute_reply": "2024-11-28T13:57:00.145824Z"
    }
   },
   "outputs": [],
   "source": [
    "from scholarly import scholarly"
   ]
  },
  {
   "cell_type": "markdown",
   "metadata": {},
   "source": [
    "Get the author profile using the Google Scholar ID"
   ]
  },
  {
   "cell_type": "code",
   "execution_count": 2,
   "metadata": {
    "execution": {
     "iopub.execute_input": "2024-11-28T13:57:00.148792Z",
     "iopub.status.busy": "2024-11-28T13:57:00.148338Z",
     "iopub.status.idle": "2024-11-28T13:57:02.239224Z",
     "shell.execute_reply": "2024-11-28T13:57:02.238678Z"
    }
   },
   "outputs": [],
   "source": [
    "author_id = 'zQgGTr4AAAAJ'\n",
    "author = scholarly.search_author_id(author_id)"
   ]
  },
  {
   "cell_type": "markdown",
   "metadata": {},
   "source": [
    "Retrieve and fill the author's publication information"
   ]
  },
  {
   "cell_type": "code",
   "execution_count": 3,
   "metadata": {
    "execution": {
     "iopub.execute_input": "2024-11-28T13:57:02.241400Z",
     "iopub.status.busy": "2024-11-28T13:57:02.241036Z",
     "iopub.status.idle": "2024-11-28T13:57:06.581082Z",
     "shell.execute_reply": "2024-11-28T13:57:06.580210Z"
    }
   },
   "outputs": [
    {
     "ename": "KeyError",
     "evalue": "'cites'",
     "output_type": "error",
     "traceback": [
      "\u001b[0;31m---------------------------------------------------------------------------\u001b[0m",
      "\u001b[0;31mKeyError\u001b[0m                                  Traceback (most recent call last)",
      "Cell \u001b[0;32mIn[3], line 6\u001b[0m\n\u001b[1;32m      4\u001b[0m pub_filled \u001b[38;5;241m=\u001b[39m scholarly\u001b[38;5;241m.\u001b[39mfill(pub)\n\u001b[1;32m      5\u001b[0m \u001b[38;5;28;01mif\u001b[39;00m \u001b[38;5;124m'\u001b[39m\u001b[38;5;124mbib\u001b[39m\u001b[38;5;124m'\u001b[39m \u001b[38;5;129;01min\u001b[39;00m pub_filled:\n\u001b[0;32m----> 6\u001b[0m     bibtex \u001b[38;5;241m=\u001b[39m \u001b[38;5;124mf\u001b[39m\u001b[38;5;124m\"\u001b[39m\u001b[38;5;124m@article\u001b[39m\u001b[38;5;130;01m{{\u001b[39;00m\u001b[38;5;132;01m{\u001b[39;00m\u001b[43mpub_filled\u001b[49m\u001b[43m[\u001b[49m\u001b[38;5;124;43m'\u001b[39;49m\u001b[38;5;124;43mbib\u001b[39;49m\u001b[38;5;124;43m'\u001b[39;49m\u001b[43m]\u001b[49m\u001b[43m[\u001b[49m\u001b[38;5;124;43m'\u001b[39;49m\u001b[38;5;124;43mcites\u001b[39;49m\u001b[38;5;124;43m'\u001b[39;49m\u001b[43m]\u001b[49m\u001b[38;5;132;01m}\u001b[39;00m\u001b[38;5;124m,\u001b[39m\u001b[38;5;130;01m\\n\u001b[39;00m\u001b[38;5;124m\"\u001b[39m\n\u001b[1;32m      7\u001b[0m     \u001b[38;5;28;01mfor\u001b[39;00m key, value \u001b[38;5;129;01min\u001b[39;00m pub_filled[\u001b[38;5;124m'\u001b[39m\u001b[38;5;124mbib\u001b[39m\u001b[38;5;124m'\u001b[39m]\u001b[38;5;241m.\u001b[39mitems():\n\u001b[1;32m      8\u001b[0m         \u001b[38;5;28;01mif\u001b[39;00m key \u001b[38;5;241m!=\u001b[39m \u001b[38;5;124m'\u001b[39m\u001b[38;5;124mcites\u001b[39m\u001b[38;5;124m'\u001b[39m:\n",
      "\u001b[0;31mKeyError\u001b[0m: 'cites'"
     ]
    }
   ],
   "source": [
    "author_filled = scholarly.fill(author)\n",
    "publications = []\n",
    "for pub in author_filled['publications']:\n",
    "    pub_filled = scholarly.fill(pub)\n",
    "    if 'bib' in pub_filled:\n",
    "        bibtex = f\"@article{{{pub_filled['bib']['cites']},\\n\"\n",
    "        for key, value in pub_filled['bib'].items():\n",
    "            if key != 'cites':\n",
    "                bibtex += f\"  {key} = {{{value}}},\\n\"\n",
    "        bibtex += \"}\"\n",
    "        publications.append(bibtex)"
   ]
  },
  {
   "cell_type": "markdown",
   "metadata": {},
   "source": [
    "Save the BibTeX entries to a file"
   ]
  },
  {
   "cell_type": "code",
   "execution_count": null,
   "metadata": {},
   "outputs": [],
   "source": [
    "with open('publications.bib', 'w', encoding='utf-8') as f:\n",
    "    for pub in publications:\n",
    "        f.write(pub + '\\n\\n')"
   ]
  }
 ],
 "metadata": {
  "language_info": {
   "codemirror_mode": {
    "name": "ipython",
    "version": 3
   },
   "file_extension": ".py",
   "mimetype": "text/x-python",
   "name": "python",
   "nbconvert_exporter": "python",
   "pygments_lexer": "ipython3",
   "version": "3.12.7"
  }
 },
 "nbformat": 4,
 "nbformat_minor": 4
}
