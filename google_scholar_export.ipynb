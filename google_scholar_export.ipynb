{
 "cells": [
  {
   "cell_type": "markdown",
   "metadata": {},
   "source": [
    "# Export publications from Google Scholar to BibTeX\n",
    "\n",
    "First, import the required library"
   ]
  },
  {
   "cell_type": "code",
   "execution_count": 1,
   "metadata": {},
   "outputs": [],
   "source": [
    "from scholarly import scholarly"
   ]
  },
  {
   "cell_type": "markdown",
   "metadata": {},
   "source": [
    "Get the author profile using the Google Scholar ID"
   ]
  },
  {
   "cell_type": "code",
   "execution_count": 2,
   "metadata": {},
   "outputs": [],
   "source": [
    "author_id = 'zQgGTr4AAAAJ'\n",
    "author = scholarly.search_author_id(author_id)\n",
    "author = scholarly.fill(author)"
   ]
  },
  {
   "cell_type": "markdown",
   "metadata": {},
   "source": [
    "Retrieve and fill each publication's details, create BibTeX entries"
   ]
  },
  {
   "cell_type": "code",
   "execution_count": 3,
   "metadata": {},
   "outputs": [],
   "source": [
    "bibtex_entries = []\n",
    "for pub in author['publications']:\n",
    "    pub_filled = scholarly.fill(pub)\n",
    "    if 'bib' in pub_filled:\n",
    "        # Use title as citation key if cites not available\n",
    "        cite_key = pub_filled['bib'].get('title', '').split()[0].lower()\n",
    "        bibtex = f\"@article{{{cite_key},\\n\"\n",
    "        for key, value in pub_filled['bib'].items():\n",
    "            if key != 'cites':\n",
    "                bibtex += f\"  {key} = {{{value}}},\\n\"\n",
    "        bibtex += \"}\"\n",
    "        bibtex_entries.append(bibtex)"
   ]
  },
  {
   "cell_type": "markdown",
   "metadata": {},
   "source": [
    "Save the BibTeX entries to a file"
   ]
  },
  {
   "cell_type": "code",
   "execution_count": 4,
   "metadata": {},
   "outputs": [],
   "source": [
    "with open('publications.bib', 'w', encoding='utf-8') as f:\n",
    "    for entry in bibtex_entries:\n",
    "        f.write(entry + '\\n\\n')"
   ]
  }
 ],
 "metadata": {
  "kernelspec": {
   "display_name": "Python 3 (ipykernel)",
   "language": "python",
   "name": "python3"
  },
  "language_info": {
   "codemirror_mode": {
    "name": "ipython",
    "version": 3
   },
   "file_extension": ".py",
   "mimetype": "text/x-python",
   "name": "python",
   "nbconvert_exporter": "python",
   "pygments_lexer": "ipython3",
   "version": "3.11.10"
  }
 },
 "nbformat": 4,
 "nbformat_minor": 4
}
