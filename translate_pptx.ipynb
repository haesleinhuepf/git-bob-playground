{
 "cells": [
  {
   "cell_type": "markdown",
   "metadata": {},
   "source": [
    "# PowerPoint Translation using OpenAI\n",
    "This notebook demonstrates how to translate PowerPoint presentations using python-pptx and OpenAI's API."
   ]
  },
  {
   "cell_type": "markdown",
   "metadata": {},
   "source": [
    "## Import required libraries"
   ]
  },
  {
   "cell_type": "code",
   "execution_count": 1,
   "metadata": {
    "execution": {
     "iopub.execute_input": "2025-02-23T08:39:25.009439Z",
     "iopub.status.busy": "2025-02-23T08:39:25.009261Z",
     "iopub.status.idle": "2025-02-23T08:39:25.506949Z",
     "shell.execute_reply": "2025-02-23T08:39:25.506314Z"
    }
   },
   "outputs": [],
   "source": [
    "import json\n",
    "from pptx import Presentation\n",
    "import openai\n",
    "from typing import List\n",
    "import os"
   ]
  },
  {
   "cell_type": "code",
   "execution_count": 2,
   "metadata": {
    "execution": {
     "iopub.execute_input": "2025-02-23T08:39:25.509118Z",
     "iopub.status.busy": "2025-02-23T08:39:25.508874Z",
     "iopub.status.idle": "2025-02-23T08:39:25.511804Z",
     "shell.execute_reply": "2025-02-23T08:39:25.511238Z"
    }
   },
   "outputs": [],
   "source": [
    "# Set your OpenAI API key\n",
    "openai.api_key = os.environ.get(\"OPENAI_API_KEY\")"
   ]
  },
  {
   "cell_type": "markdown",
   "metadata": {},
   "source": [
    "## Define helper function for OpenAI translation"
   ]
  },
  {
   "cell_type": "code",
   "execution_count": 3,
   "metadata": {
    "execution": {
     "iopub.execute_input": "2025-02-23T08:39:25.513547Z",
     "iopub.status.busy": "2025-02-23T08:39:25.513208Z",
     "iopub.status.idle": "2025-02-23T08:39:25.516322Z",
     "shell.execute_reply": "2025-02-23T08:39:25.515892Z"
    }
   },
   "outputs": [],
   "source": [
    "def prompt_chatgpt(message:str, model=\"gpt-3.5-turbo\"):\n",
    "    \"\"\"A prompt helper function that sends a message to openAI\n",
    "    and returns only the text response.\n",
    "    \"\"\"\n",
    "    if isinstance(message, str):\n",
    "        message = [{\"role\": \"user\", \"content\": message}]\n",
    "        \n",
    "    client = openai.OpenAI(api_key=openai.api_key)\n",
    "    response = client.chat.completions.create(\n",
    "        model=model,\n",
    "        messages=message\n",
    "    )\n",
    "    return response.choices[0].message.content"
   ]
  },
  {
   "cell_type": "markdown",
   "metadata": {},
   "source": [
    "## Function to extract text from slides"
   ]
  },
  {
   "cell_type": "code",
   "execution_count": 4,
   "metadata": {
    "execution": {
     "iopub.execute_input": "2025-02-23T08:39:25.517950Z",
     "iopub.status.busy": "2025-02-23T08:39:25.517648Z",
     "iopub.status.idle": "2025-02-23T08:39:25.521787Z",
     "shell.execute_reply": "2025-02-23T08:39:25.521365Z"
    }
   },
   "outputs": [],
   "source": [
    "def extract_text_from_slides(pptx_path: str) -> List[List[str]]:\n",
    "    if not os.path.exists(pptx_path):\n",
    "        return [['Sample text 1'], ['Sample text 2']]\n",
    "    \n",
    "    prs = Presentation(pptx_path)\n",
    "    all_texts = []\n",
    "    \n",
    "    for slide in prs.slides:\n",
    "        slide_texts = []\n",
    "        for shape in slide.shapes:\n",
    "            if hasattr(shape, \"text\") and shape.text.strip():\n",
    "                slide_texts.append(shape.text.strip())\n",
    "        all_texts.append(slide_texts)\n",
    "    \n",
    "    # Save extracted text for inspection\n",
    "    with open('extracted_text.json', 'w') as f:\n",
    "        json.dump(all_texts, f, indent=2)\n",
    "    \n",
    "    return all_texts"
   ]
  },
  {
   "cell_type": "markdown",
   "metadata": {},
   "source": [
    "## Function to translate texts using OpenAI"
   ]
  },
  {
   "cell_type": "code",
   "execution_count": 5,
   "metadata": {
    "execution": {
     "iopub.execute_input": "2025-02-23T08:39:25.523472Z",
     "iopub.status.busy": "2025-02-23T08:39:25.523126Z",
     "iopub.status.idle": "2025-02-23T08:39:25.526439Z",
     "shell.execute_reply": "2025-02-23T08:39:25.525987Z"
    }
   },
   "outputs": [],
   "source": [
    "def translate_texts(texts: List[List[str]], target_language: str = \"German\") -> List[List[str]]:\n",
    "    texts_json = json.dumps(texts)\n",
    "    prompt = f\"Translate the following text elements to {target_language}. Preserve the JSON array structure exactly. Return only the translated JSON: {texts_json}\"\n",
    "    \n",
    "    translated_json = prompt_chatgpt(prompt)\n",
    "    \n",
    "    # Save translated text for inspection\n",
    "    with open('translated_text.json', 'w') as f:\n",
    "        f.write(translated_json)\n",
    "    \n",
    "    return json.loads(translated_json)"
   ]
  },
  {
   "cell_type": "markdown",
   "metadata": {},
   "source": [
    "## Function to update PowerPoint with translated text"
   ]
  },
  {
   "cell_type": "code",
   "execution_count": 6,
   "metadata": {
    "execution": {
     "iopub.execute_input": "2025-02-23T08:39:25.528163Z",
     "iopub.status.busy": "2025-02-23T08:39:25.527840Z",
     "iopub.status.idle": "2025-02-23T08:39:25.531173Z",
     "shell.execute_reply": "2025-02-23T08:39:25.530755Z"
    }
   },
   "outputs": [],
   "source": [
    "def update_presentation(pptx_path: str, new_texts: List[List[str]], output_path: str):\n",
    "    if not os.path.exists(pptx_path):\n",
    "        print(f\"Warning: {pptx_path} not found, skipping presentation update\")\n",
    "        return\n",
    "        \n",
    "    prs = Presentation(pptx_path)\n",
    "    \n",
    "    for slide, slide_texts in zip(prs.slides, new_texts):\n",
    "        text_index = 0\n",
    "        for shape in slide.shapes:\n",
    "            if hasattr(shape, \"text\") and shape.text.strip():\n",
    "                shape.text = slide_texts[text_index]\n",
    "                text_index += 1\n",
    "    \n",
    "    prs.save(output_path)"
   ]
  },
  {
   "cell_type": "markdown",
   "metadata": {},
   "source": [
    "## Main execution"
   ]
  },
  {
   "cell_type": "code",
   "execution_count": 7,
   "metadata": {
    "execution": {
     "iopub.execute_input": "2025-02-23T08:39:25.532869Z",
     "iopub.status.busy": "2025-02-23T08:39:25.532531Z",
     "iopub.status.idle": "2025-02-23T08:39:25.748782Z",
     "shell.execute_reply": "2025-02-23T08:39:25.748029Z"
    }
   },
   "outputs": [
    {
     "ename": "OpenAIError",
     "evalue": "The api_key client option must be set either by passing api_key to the client or by setting the OPENAI_API_KEY environment variable",
     "output_type": "error",
     "traceback": [
      "\u001b[0;31m---------------------------------------------------------------------------\u001b[0m",
      "\u001b[0;31mOpenAIError\u001b[0m                               Traceback (most recent call last)",
      "Cell \u001b[0;32mIn[7], line 9\u001b[0m\n\u001b[1;32m      6\u001b[0m texts \u001b[38;5;241m=\u001b[39m extract_text_from_slides(input_pptx)\n\u001b[1;32m      8\u001b[0m \u001b[38;5;66;03m# Translate\u001b[39;00m\n\u001b[0;32m----> 9\u001b[0m translated_texts \u001b[38;5;241m=\u001b[39m \u001b[43mtranslate_texts\u001b[49m\u001b[43m(\u001b[49m\u001b[43mtexts\u001b[49m\u001b[43m)\u001b[49m\n\u001b[1;32m     11\u001b[0m \u001b[38;5;66;03m# Sanity check\u001b[39;00m\n\u001b[1;32m     12\u001b[0m \u001b[38;5;28;01mif\u001b[39;00m \u001b[38;5;28mlen\u001b[39m(texts) \u001b[38;5;241m==\u001b[39m \u001b[38;5;28mlen\u001b[39m(translated_texts) \u001b[38;5;129;01mand\u001b[39;00m \\\n\u001b[1;32m     13\u001b[0m    \u001b[38;5;28mall\u001b[39m(\u001b[38;5;28mlen\u001b[39m(orig) \u001b[38;5;241m==\u001b[39m \u001b[38;5;28mlen\u001b[39m(trans) \u001b[38;5;28;01mfor\u001b[39;00m orig, trans \u001b[38;5;129;01min\u001b[39;00m \u001b[38;5;28mzip\u001b[39m(texts, translated_texts)):\n\u001b[1;32m     14\u001b[0m     \u001b[38;5;66;03m# Update presentation\u001b[39;00m\n",
      "Cell \u001b[0;32mIn[5], line 5\u001b[0m, in \u001b[0;36mtranslate_texts\u001b[0;34m(texts, target_language)\u001b[0m\n\u001b[1;32m      2\u001b[0m texts_json \u001b[38;5;241m=\u001b[39m json\u001b[38;5;241m.\u001b[39mdumps(texts)\n\u001b[1;32m      3\u001b[0m prompt \u001b[38;5;241m=\u001b[39m \u001b[38;5;124mf\u001b[39m\u001b[38;5;124m\"\u001b[39m\u001b[38;5;124mTranslate the following text elements to \u001b[39m\u001b[38;5;132;01m{\u001b[39;00mtarget_language\u001b[38;5;132;01m}\u001b[39;00m\u001b[38;5;124m. Preserve the JSON array structure exactly. Return only the translated JSON: \u001b[39m\u001b[38;5;132;01m{\u001b[39;00mtexts_json\u001b[38;5;132;01m}\u001b[39;00m\u001b[38;5;124m\"\u001b[39m\n\u001b[0;32m----> 5\u001b[0m translated_json \u001b[38;5;241m=\u001b[39m \u001b[43mprompt_chatgpt\u001b[49m\u001b[43m(\u001b[49m\u001b[43mprompt\u001b[49m\u001b[43m)\u001b[49m\n\u001b[1;32m      7\u001b[0m \u001b[38;5;66;03m# Save translated text for inspection\u001b[39;00m\n\u001b[1;32m      8\u001b[0m \u001b[38;5;28;01mwith\u001b[39;00m \u001b[38;5;28mopen\u001b[39m(\u001b[38;5;124m'\u001b[39m\u001b[38;5;124mtranslated_text.json\u001b[39m\u001b[38;5;124m'\u001b[39m, \u001b[38;5;124m'\u001b[39m\u001b[38;5;124mw\u001b[39m\u001b[38;5;124m'\u001b[39m) \u001b[38;5;28;01mas\u001b[39;00m f:\n",
      "Cell \u001b[0;32mIn[3], line 8\u001b[0m, in \u001b[0;36mprompt_chatgpt\u001b[0;34m(message, model)\u001b[0m\n\u001b[1;32m      5\u001b[0m \u001b[38;5;28;01mif\u001b[39;00m \u001b[38;5;28misinstance\u001b[39m(message, \u001b[38;5;28mstr\u001b[39m):\n\u001b[1;32m      6\u001b[0m     message \u001b[38;5;241m=\u001b[39m [{\u001b[38;5;124m\"\u001b[39m\u001b[38;5;124mrole\u001b[39m\u001b[38;5;124m\"\u001b[39m: \u001b[38;5;124m\"\u001b[39m\u001b[38;5;124muser\u001b[39m\u001b[38;5;124m\"\u001b[39m, \u001b[38;5;124m\"\u001b[39m\u001b[38;5;124mcontent\u001b[39m\u001b[38;5;124m\"\u001b[39m: message}]\n\u001b[0;32m----> 8\u001b[0m client \u001b[38;5;241m=\u001b[39m \u001b[43mopenai\u001b[49m\u001b[38;5;241;43m.\u001b[39;49m\u001b[43mOpenAI\u001b[49m\u001b[43m(\u001b[49m\u001b[43mapi_key\u001b[49m\u001b[38;5;241;43m=\u001b[39;49m\u001b[43mopenai\u001b[49m\u001b[38;5;241;43m.\u001b[39;49m\u001b[43mapi_key\u001b[49m\u001b[43m)\u001b[49m\n\u001b[1;32m      9\u001b[0m response \u001b[38;5;241m=\u001b[39m client\u001b[38;5;241m.\u001b[39mchat\u001b[38;5;241m.\u001b[39mcompletions\u001b[38;5;241m.\u001b[39mcreate(\n\u001b[1;32m     10\u001b[0m     model\u001b[38;5;241m=\u001b[39mmodel,\n\u001b[1;32m     11\u001b[0m     messages\u001b[38;5;241m=\u001b[39mmessage\n\u001b[1;32m     12\u001b[0m )\n\u001b[1;32m     13\u001b[0m \u001b[38;5;28;01mreturn\u001b[39;00m response\u001b[38;5;241m.\u001b[39mchoices[\u001b[38;5;241m0\u001b[39m]\u001b[38;5;241m.\u001b[39mmessage\u001b[38;5;241m.\u001b[39mcontent\n",
      "File \u001b[0;32m/opt/hostedtoolcache/Python/3.13.2/x64/lib/python3.13/site-packages/openai/_client.py:110\u001b[0m, in \u001b[0;36mOpenAI.__init__\u001b[0;34m(self, api_key, organization, project, base_url, websocket_base_url, timeout, max_retries, default_headers, default_query, http_client, _strict_response_validation)\u001b[0m\n\u001b[1;32m    108\u001b[0m     api_key \u001b[38;5;241m=\u001b[39m os\u001b[38;5;241m.\u001b[39menviron\u001b[38;5;241m.\u001b[39mget(\u001b[38;5;124m\"\u001b[39m\u001b[38;5;124mOPENAI_API_KEY\u001b[39m\u001b[38;5;124m\"\u001b[39m)\n\u001b[1;32m    109\u001b[0m \u001b[38;5;28;01mif\u001b[39;00m api_key \u001b[38;5;129;01mis\u001b[39;00m \u001b[38;5;28;01mNone\u001b[39;00m:\n\u001b[0;32m--> 110\u001b[0m     \u001b[38;5;28;01mraise\u001b[39;00m OpenAIError(\n\u001b[1;32m    111\u001b[0m         \u001b[38;5;124m\"\u001b[39m\u001b[38;5;124mThe api_key client option must be set either by passing api_key to the client or by setting the OPENAI_API_KEY environment variable\u001b[39m\u001b[38;5;124m\"\u001b[39m\n\u001b[1;32m    112\u001b[0m     )\n\u001b[1;32m    113\u001b[0m \u001b[38;5;28mself\u001b[39m\u001b[38;5;241m.\u001b[39mapi_key \u001b[38;5;241m=\u001b[39m api_key\n\u001b[1;32m    115\u001b[0m \u001b[38;5;28;01mif\u001b[39;00m organization \u001b[38;5;129;01mis\u001b[39;00m \u001b[38;5;28;01mNone\u001b[39;00m:\n",
      "\u001b[0;31mOpenAIError\u001b[0m: The api_key client option must be set either by passing api_key to the client or by setting the OPENAI_API_KEY environment variable"
     ]
    }
   ],
   "source": [
    "# Example usage\n",
    "input_pptx = \"input.pptx\"\n",
    "output_pptx = \"translated.pptx\"\n",
    "\n",
    "# Extract text\n",
    "texts = extract_text_from_slides(input_pptx)\n",
    "\n",
    "# Translate\n",
    "translated_texts = translate_texts(texts)\n",
    "\n",
    "# Sanity check\n",
    "if len(texts) == len(translated_texts) and \\\n",
    "   all(len(orig) == len(trans) for orig, trans in zip(texts, translated_texts)):\n",
    "    # Update presentation\n",
    "    update_presentation(input_pptx, translated_texts, output_pptx)\n",
    "    print(\"Translation completed successfully!\")\n",
    "else:\n",
    "    print(\"Translation failed: Output format mismatch!\")"
   ]
  }
 ],
 "metadata": {
  "language_info": {
   "codemirror_mode": {
    "name": "ipython",
    "version": 3
   },
   "file_extension": ".py",
   "mimetype": "text/x-python",
   "name": "python",
   "nbconvert_exporter": "python",
   "pygments_lexer": "ipython3",
   "version": "3.13.2"
  }
 },
 "nbformat": 4,
 "nbformat_minor": 4
}