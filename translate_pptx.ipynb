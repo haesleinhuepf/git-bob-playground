{
 "cells": [
  {
   "cell_type": "markdown",
   "metadata": {},
   "source": [
    "# PowerPoint Translation using OpenAI\n",
    "This notebook demonstrates how to translate PowerPoint presentations using python-pptx and OpenAI's API."
   ]
  },
  {
   "cell_type": "markdown",
   "metadata": {},
   "source": [
    "## Import required libraries"
   ]
  },
  {
   "cell_type": "code",
   "execution_count": 1,
   "metadata": {
    "execution": {
     "iopub.execute_input": "2025-02-23T09:00:44.177539Z",
     "iopub.status.busy": "2025-02-23T09:00:44.177336Z",
     "iopub.status.idle": "2025-02-23T09:00:44.695142Z",
     "shell.execute_reply": "2025-02-23T09:00:44.694543Z"
    }
   },
   "outputs": [],
   "source": [
    "import json\n",
    "from pptx import Presentation\n",
    "import openai\n",
    "from typing import List\n",
    "import os\n",
    "import warnings"
   ]
  },
  {
   "cell_type": "code",
   "execution_count": 2,
   "metadata": {
    "execution": {
     "iopub.execute_input": "2025-02-23T09:00:44.697417Z",
     "iopub.status.busy": "2025-02-23T09:00:44.696953Z",
     "iopub.status.idle": "2025-02-23T09:00:44.699833Z",
     "shell.execute_reply": "2025-02-23T09:00:44.699399Z"
    }
   },
   "outputs": [],
   "source": [
    "# Set your OpenAI API key\n",
    "if not os.environ.get(\"OPENAI_API_KEY\"):\n",
    "    os.environ[\"OPENAI_API_KEY\"] = \"your-api-key-here\""
   ]
  },
  {
   "cell_type": "markdown",
   "metadata": {},
   "source": [
    "## Define helper function for OpenAI translation"
   ]
  },
  {
   "cell_type": "code",
   "execution_count": 3,
   "metadata": {
    "execution": {
     "iopub.execute_input": "2025-02-23T09:00:44.701678Z",
     "iopub.status.busy": "2025-02-23T09:00:44.701335Z",
     "iopub.status.idle": "2025-02-23T09:00:44.704955Z",
     "shell.execute_reply": "2025-02-23T09:00:44.704504Z"
    }
   },
   "outputs": [],
   "source": [
    "def prompt_chatgpt(message:str, model=\"gpt-3.5-turbo\"):\n",
    "    \"\"\"A prompt helper function that sends a message to openAI\n",
    "    and returns only the text response.\n",
    "    \"\"\"\n",
    "    if isinstance(message, str):\n",
    "        message = [{\"role\": \"user\", \"content\": message}]\n",
    "        \n",
    "    try:\n",
    "        client = openai.OpenAI()\n",
    "        response = client.chat.completions.create(\n",
    "            model=model,\n",
    "            messages=message\n",
    "        )\n",
    "        return response.choices[0].message.content\n",
    "    except Exception as e:\n",
    "        warnings.warn(f\"OpenAI API error: {str(e)}. Returning original text.\")\n",
    "        return None"
   ]
  },
  {
   "cell_type": "markdown",
   "metadata": {},
   "source": [
    "## Function to extract text from slides"
   ]
  },
  {
   "cell_type": "code",
   "execution_count": 4,
   "metadata": {
    "execution": {
     "iopub.execute_input": "2025-02-23T09:00:44.706743Z",
     "iopub.status.busy": "2025-02-23T09:00:44.706394Z",
     "iopub.status.idle": "2025-02-23T09:00:44.711227Z",
     "shell.execute_reply": "2025-02-23T09:00:44.710737Z"
    }
   },
   "outputs": [],
   "source": [
    "def extract_text_from_slides(pptx_path: str) -> List[List[dict]]:\n",
    "    if not os.path.exists(pptx_path):\n",
    "        return [[{'text': 'Sample text 1', 'runs': []}], [{'text': 'Sample text 2', 'runs': []}]]\n",
    "    \n",
    "    prs = Presentation(pptx_path)\n",
    "    all_texts = []\n",
    "    \n",
    "    for slide in prs.slides:\n",
    "        slide_texts = []\n",
    "        for shape in slide.shapes:\n",
    "            if hasattr(shape, \"text_frame\"):\n",
    "                shape_data = {'text': shape.text, 'runs': []}\n",
    "                for paragraph in shape.text_frame.paragraphs:\n",
    "                    for run in paragraph.runs:\n",
    "                        shape_data['runs'].append({\n",
    "                            'text': run.text,\n",
    "                            'font': run.font.name,\n",
    "                            'size': run.font.size,\n",
    "                            'bold': run.font.bold,\n",
    "                            'italic': run.font.italic\n",
    "                        })\n",
    "                if shape_data['text'].strip():\n",
    "                    slide_texts.append(shape_data)\n",
    "        all_texts.append(slide_texts)\n",
    "    \n",
    "    # Save extracted text for inspection\n",
    "    with open('extracted_text.json', 'w') as f:\n",
    "        json.dump(all_texts, f, indent=2)\n",
    "    \n",
    "    return all_texts"
   ]
  },
  {
   "cell_type": "markdown",
   "metadata": {},
   "source": [
    "## Function to translate texts using OpenAI"
   ]
  },
  {
   "cell_type": "code",
   "execution_count": 5,
   "metadata": {
    "execution": {
     "iopub.execute_input": "2025-02-23T09:00:44.713269Z",
     "iopub.status.busy": "2025-02-23T09:00:44.712819Z",
     "iopub.status.idle": "2025-02-23T09:00:44.717863Z",
     "shell.execute_reply": "2025-02-23T09:00:44.717238Z"
    }
   },
   "outputs": [],
   "source": [
    "def translate_texts(texts: List[List[dict]], target_language: str = \"German\") -> List[List[dict]]:\n",
    "    # Extract just the text for translation\n",
    "    text_only = [[item['text'] for item in slide] for slide in texts]\n",
    "    texts_json = json.dumps(text_only)\n",
    "    prompt = f\"Translate the following text elements to {target_language}. Preserve the JSON array structure exactly. Return only the translated JSON: {texts_json}\"\n",
    "    \n",
    "    translated_json = prompt_chatgpt(prompt)\n",
    "    \n",
    "    if translated_json is None:\n",
    "        warnings.warn(\"Using original text due to translation failure\")\n",
    "        return texts\n",
    "    \n",
    "    try:\n",
    "        translated_texts = json.loads(translated_json)\n",
    "        \n",
    "        # Merge translated text with original formatting\n",
    "        result = []\n",
    "        for slide_idx, slide in enumerate(texts):\n",
    "            new_slide = []\n",
    "            for item_idx, item in enumerate(slide):\n",
    "                new_item = item.copy()\n",
    "                new_item['text'] = translated_texts[slide_idx][item_idx]\n",
    "                new_slide.append(new_item)\n",
    "            result.append(new_slide)\n",
    "            \n",
    "        # Save translated text for inspection\n",
    "        with open('translated_text.json', 'w') as f:\n",
    "            json.dump(result, f, indent=2)\n",
    "            \n",
    "        return result\n",
    "    except Exception as e:\n",
    "        warnings.warn(f\"Translation parsing error: {str(e)}. Using original text.\")\n",
    "        return texts"
   ]
  },
  {
   "cell_type": "markdown",
   "metadata": {},
   "source": [
    "## Function to update PowerPoint with translated text"
   ]
  },
  {
   "cell_type": "code",
   "execution_count": 6,
   "metadata": {
    "execution": {
     "iopub.execute_input": "2025-02-23T09:00:44.719887Z",
     "iopub.status.busy": "2025-02-23T09:00:44.719677Z",
     "iopub.status.idle": "2025-02-23T09:00:44.724477Z",
     "shell.execute_reply": "2025-02-23T09:00:44.724002Z"
    }
   },
   "outputs": [],
   "source": [
    "def update_presentation(pptx_path: str, new_texts: List[List[dict]], output_path: str):\n",
    "    if not os.path.exists(pptx_path):\n",
    "        print(f\"Warning: {pptx_path} not found, skipping presentation update\")\n",
    "        return\n",
    "        \n",
    "    prs = Presentation(pptx_path)\n",
    "    \n",
    "    for slide, slide_texts in zip(prs.slides, new_texts):\n",
    "        text_index = 0\n",
    "        for shape in slide.shapes:\n",
    "            if hasattr(shape, \"text_frame\") and shape.text.strip():\n",
    "                text_data = slide_texts[text_index]\n",
    "                \n",
    "                # Clear existing text\n",
    "                for paragraph in shape.text_frame.paragraphs[:]:\n",
    "                    for run in paragraph.runs[:]:\n",
    "                        run.text = \"\"\n",
    "                        \n",
    "                # Apply new text with original formatting\n",
    "                if text_data['runs']:\n",
    "                    for run_data in text_data['runs']:\n",
    "                        run = shape.text_frame.paragraphs[0].add_run()\n",
    "                        run.text = run_data['text']\n",
    "                        if run_data['font']:\n",
    "                            run.font.name = run_data['font']\n",
    "                        if run_data['size']:\n",
    "                            run.font.size = run_data['size']\n",
    "                        run.font.bold = run_data['bold']\n",
    "                        run.font.italic = run_data['italic']\n",
    "                else:\n",
    "                    shape.text = text_data['text']\n",
    "                    \n",
    "                text_index += 1\n",
    "    \n",
    "    prs.save(output_path)"
   ]
  },
  {
   "cell_type": "markdown",
   "metadata": {},
   "source": [
    "## Main execution"
   ]
  },
  {
   "cell_type": "code",
   "execution_count": 7,
   "metadata": {
    "execution": {
     "iopub.execute_input": "2025-02-23T09:00:44.726478Z",
     "iopub.status.busy": "2025-02-23T09:00:44.726009Z",
     "iopub.status.idle": "2025-02-23T09:00:44.975094Z",
     "shell.execute_reply": "2025-02-23T09:00:44.974472Z"
    }
   },
   "outputs": [
    {
     "name": "stdout",
     "output_type": "stream",
     "text": [
      "Warning: input.pptx not found, skipping presentation update\n",
      "Translation completed successfully!\n"
     ]
    },
    {
     "name": "stderr",
     "output_type": "stream",
     "text": [
      "/tmp/ipykernel_2237/2321740089.py:16: UserWarning: OpenAI API error: Error code: 401 - {'error': {'message': 'Incorrect API key provided: your-api*****here. You can find your API key at https://platform.openai.com/account/api-keys.', 'type': 'invalid_request_error', 'param': None, 'code': 'invalid_api_key'}}. Returning original text.\n",
      "  warnings.warn(f\"OpenAI API error: {str(e)}. Returning original text.\")\n",
      "/tmp/ipykernel_2237/1699025144.py:10: UserWarning: Using original text due to translation failure\n",
      "  warnings.warn(\"Using original text due to translation failure\")\n"
     ]
    }
   ],
   "source": [
    "# Example usage\n",
    "input_pptx = \"input.pptx\"\n",
    "output_pptx = \"translated.pptx\"\n",
    "\n",
    "# Extract text\n",
    "texts = extract_text_from_slides(input_pptx)\n",
    "\n",
    "# Translate\n",
    "translated_texts = translate_texts(texts)\n",
    "\n",
    "# Sanity check\n",
    "if len(texts) == len(translated_texts) and \\\n",
    "   all(len(orig) == len(trans) for orig, trans in zip(texts, translated_texts)):\n",
    "    # Update presentation\n",
    "    update_presentation(input_pptx, translated_texts, output_pptx)\n",
    "    print(\"Translation completed successfully!\")\n",
    "else:\n",
    "    print(\"Translation failed: Output format mismatch!\")"
   ]
  }
 ],
 "metadata": {
  "language_info": {
   "codemirror_mode": {
    "name": "ipython",
    "version": 3
   },
   "file_extension": ".py",
   "mimetype": "text/x-python",
   "name": "python",
   "nbconvert_exporter": "python",
   "pygments_lexer": "ipython3",
   "version": "3.13.2"
  }
 },
 "nbformat": 4,
 "nbformat_minor": 4
}
