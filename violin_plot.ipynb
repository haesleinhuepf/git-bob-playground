





<!DOCTYPE html>
<html
  lang="en"
  
  data-color-mode="auto" data-light-theme="light" data-dark-theme="dark"
  data-a11y-animated-images="system" data-a11y-link-underlines="true"
  
  >



  <head>
    <meta charset="utf-8">
  <link rel="dns-prefetch" href="https://github.githubassets.com">
  <link rel="dns-prefetch" href="https://avatars.githubusercontent.com">
  <link rel="dns-prefetch" href="https://github-cloud.s3.amazonaws.com">
  <link rel="dns-prefetch" href="https://user-images.githubusercontent.com/">
  <link rel="preconnect" href="https://github.githubassets.com" crossorigin>
  <link rel="preconnect" href="https://avatars.githubusercontent.com">

  


  <link crossorigin="anonymous" media="all" rel="stylesheet" href="https://github.githubassets.com/assets/light-3e154969b9f9.css" /><link crossorigin="anonymous" media="all" rel="stylesheet" href="https://github.githubassets.com/assets/dark-9c5b7a476542.css" /><link data-color-theme="dark_dimmed" crossorigin="anonymous" media="all" rel="stylesheet" data-href="https://github.githubassets.com/assets/dark_dimmed-afda8eb0fb33.css" /><link data-color-theme="dark_high_contrast" crossorigin="anonymous" media="all" rel="stylesheet" data-href="https://github.githubassets.com/assets/dark_high_contrast-2494e44ccdc5.css" /><link data-color-theme="dark_colorblind" crossorigin="anonymous" media="all" rel="stylesheet" data-href="https://github.githubassets.com/assets/dark_colorblind-56fff47acadc.css" /><link data-color-theme="light_colorblind" crossorigin="anonymous" media="all" rel="stylesheet" data-href="https://github.githubassets.com/assets/light_colorblind-71cd4cc132ec.css" /><link data-color-theme="light_high_contrast" crossorigin="anonymous" media="all" rel="stylesheet" data-href="https://github.githubassets.com/assets/light_high_contrast-fd5499848985.css" /><link data-color-theme="light_tritanopia" crossorigin="anonymous" media="all" rel="stylesheet" data-href="https://github.githubassets.com/assets/light_tritanopia-31d17ba3e139.css" /><link data-color-theme="dark_tritanopia" crossorigin="anonymous" media="all" rel="stylesheet" data-href="https://github.githubassets.com/assets/dark_tritanopia-68d6b2c79663.css" />

    <link crossorigin="anonymous" media="all" rel="stylesheet" href="https://github.githubassets.com/assets/primer-primitives-4cf0d59ab51a.css" />
    <link crossorigin="anonymous" media="all" rel="stylesheet" href="https://github.githubassets.com/assets/primer-fefb1a332c28.css" />
    <link crossorigin="anonymous" media="all" rel="stylesheet" href="https://github.githubassets.com/assets/global-dfacc4e45ec5.css" />
    <link crossorigin="anonymous" media="all" rel="stylesheet" href="https://github.githubassets.com/assets/github-73db358cd913.css" />
  <link crossorigin="anonymous" media="all" rel="stylesheet" href="https://github.githubassets.com/assets/repository-0f7cf89e325a.css" />
<link crossorigin="anonymous" media="all" rel="stylesheet" href="https://github.githubassets.com/assets/code-59de543ca292.css" />

  


  <script type="application/json" id="client-env">{"locale":"en","featureFlags":["code_vulnerability_scanning","copilot_beta_features_opt_in","copilot_chat_conversation_intent_knowledge_search_skill","copilot_chat_static_thread_suggestions","copilot_conversational_ux_history_refs","copilot_copy_message","copilot_implicit_context","copilot_smell_icebreaker_ux","experimentation_azure_variant_endpoint","failbot_handle_non_errors","geojson_azure_maps","ghost_pilot_confidence_truncation_25","ghost_pilot_confidence_truncation_40","hovercard_accessibility","hovercard_longer_activate_timeout","marketing_pages_search_explore_provider","remove_child_patch","sample_network_conn_type","site_metered_billing_update","issues_react_first_time_contribution_banner","jk_navigation_in_list_view","ui_commands_respect_modals","overview_branch_and_tag_count","overview_spoofed_commit_banner_react"]}</script>
<script crossorigin="anonymous" defer="defer" type="application/javascript" src="https://github.githubassets.com/assets/wp-runtime-e711cecaa174.js"></script>
<script crossorigin="anonymous" defer="defer" type="application/javascript" src="https://github.githubassets.com/assets/vendors-node_modules_dompurify_dist_purify_js-b73fdff77a4e.js"></script>
<script crossorigin="anonymous" defer="defer" type="application/javascript" src="https://github.githubassets.com/assets/vendors-node_modules_oddbird_popover-polyfill_dist_popover_js-aff936e590ed.js"></script>
<script crossorigin="anonymous" defer="defer" type="application/javascript" src="https://github.githubassets.com/assets/vendors-node_modules_github_arianotify-polyfill_ariaNotify-polyfill_js-node_modules_github_mi-247092-76666ec8c39f.js"></script>
<script crossorigin="anonymous" defer="defer" type="application/javascript" src="https://github.githubassets.com/assets/ui_packages_failbot_failbot_ts-314bc7883729.js"></script>
<script crossorigin="anonymous" defer="defer" type="application/javascript" src="https://github.githubassets.com/assets/environment-b7c8196d9516.js"></script>
<script crossorigin="anonymous" defer="defer" type="application/javascript" src="https://github.githubassets.com/assets/vendors-node_modules_primer_behaviors_dist_esm_index_mjs-4aa4b0e95669.js"></script>
<script crossorigin="anonymous" defer="defer" type="application/javascript" src="https://github.githubassets.com/assets/vendors-node_modules_github_selector-observer_dist_index_esm_js-f690fd9ae3d5.js"></script>
<script crossorigin="anonymous" defer="defer" type="application/javascript" src="https://github.githubassets.com/assets/vendors-node_modules_github_relative-time-element_dist_index_js-6d3967acd51c.js"></script>
<script crossorigin="anonymous" defer="defer" type="application/javascript" src="https://github.githubassets.com/assets/vendors-node_modules_github_combobox-nav_dist_index_js-node_modules_github_g-emoji-element_di-6ce195-53781cbc550f.js"></script>
<script crossorigin="anonymous" defer="defer" type="application/javascript" src="https://github.githubassets.com/assets/vendors-node_modules_github_text-expander-element_dist_index_js-f5498b8d4e5d.js"></script>
<script crossorigin="anonymous" defer="defer" type="application/javascript" src="https://github.githubassets.com/assets/vendors-node_modules_github_auto-complete-element_dist_index_js-a164c5ea9f62.js"></script>
<script crossorigin="anonymous" defer="defer" type="application/javascript" src="https://github.githubassets.com/assets/vendors-node_modules_github_filter-input-element_dist_index_js-node_modules_github_remote-inp-d1a841-8f251a0656e7.js"></script>
<script crossorigin="anonymous" defer="defer" type="application/javascript" src="https://github.githubassets.com/assets/vendors-node_modules_delegated-events_dist_index_js-node_modules_github_catalyst_lib_index_js-f4b251-f7c3b6081b19.js"></script>
<script crossorigin="anonymous" defer="defer" type="application/javascript" src="https://github.githubassets.com/assets/vendors-node_modules_github_mini-throttle_dist_index_js-node_modules_stacktrace-parser_dist_s-1f651a-0cff18664748.js"></script>
<script crossorigin="anonymous" defer="defer" type="application/javascript" src="https://github.githubassets.com/assets/vendors-node_modules_github_file-attachment-element_dist_index_js-node_modules_primer_view-co-21f158-7d460d5f7704.js"></script>
<script crossorigin="anonymous" defer="defer" type="application/javascript" src="https://github.githubassets.com/assets/github-elements-aeb1b578f60b.js"></script>
<script crossorigin="anonymous" defer="defer" type="application/javascript" src="https://github.githubassets.com/assets/element-registry-35c81adeb5a5.js"></script>
<script crossorigin="anonymous" defer="defer" type="application/javascript" src="https://github.githubassets.com/assets/vendors-node_modules_github_catalyst_lib_index_js-node_modules_primer_live-region-element_dis-037ad60-8582b70cd5a9.js"></script>
<script crossorigin="anonymous" defer="defer" type="application/javascript" src="https://github.githubassets.com/assets/vendors-node_modules_braintree_browser-detection_dist_browser-detection_js-node_modules_githu-bb80ec-634de60bacfa.js"></script>
<script crossorigin="anonymous" defer="defer" type="application/javascript" src="https://github.githubassets.com/assets/vendors-node_modules_lit-html_lit-html_js-ce7225a304c5.js"></script>
<script crossorigin="anonymous" defer="defer" type="application/javascript" src="https://github.githubassets.com/assets/vendors-node_modules_github_hydro-analytics-client_dist_analytics-client_js-node_modules_gith-f3aee1-e6893db9c19e.js"></script>
<script crossorigin="anonymous" defer="defer" type="application/javascript" src="https://github.githubassets.com/assets/vendors-node_modules_github_mini-throttle_dist_index_js-node_modules_morphdom_dist_morphdom-e-7c534c-f8a5485c982a.js"></script>
<script crossorigin="anonymous" defer="defer" type="application/javascript" src="https://github.githubassets.com/assets/vendors-node_modules_github_turbo_dist_turbo_es2017-esm_js-858e043fcf76.js"></script>
<script crossorigin="anonymous" defer="defer" type="application/javascript" src="https://github.githubassets.com/assets/vendors-node_modules_github_remote-form_dist_index_js-node_modules_delegated-events_dist_inde-893f9f-6cf3320416b8.js"></script>
<script crossorigin="anonymous" defer="defer" type="application/javascript" src="https://github.githubassets.com/assets/vendors-node_modules_scroll-anchoring_dist_scroll-anchoring_esm_js-node_modules_stacktrace-pa-a71630-67856ad29bae.js"></script>
<script crossorigin="anonymous" defer="defer" type="application/javascript" src="https://github.githubassets.com/assets/vendors-node_modules_color-convert_index_js-0e07cc183eed.js"></script>
<script crossorigin="anonymous" defer="defer" type="application/javascript" src="https://github.githubassets.com/assets/vendors-node_modules_github_quote-selection_dist_index_js-node_modules_github_session-resume_-9a8cd2-373766bf71f1.js"></script>
<script crossorigin="anonymous" defer="defer" type="application/javascript" src="https://github.githubassets.com/assets/ui_packages_updatable-content_updatable-content_ts-69467ce2cf45.js"></script>
<script crossorigin="anonymous" defer="defer" type="application/javascript" src="https://github.githubassets.com/assets/app_assets_modules_github_behaviors_task-list_ts-app_assets_modules_github_sso_ts-ui_packages-900dde-18d1c91a7872.js"></script>
<script crossorigin="anonymous" defer="defer" type="application/javascript" src="https://github.githubassets.com/assets/app_assets_modules_github_sticky-scroll-into-view_ts-7cbef09a422c.js"></script>
<script crossorigin="anonymous" defer="defer" type="application/javascript" src="https://github.githubassets.com/assets/app_assets_modules_github_behaviors_ajax-error_ts-app_assets_modules_github_behaviors_include-d0d0a6-aa0f176b5b12.js"></script>
<script crossorigin="anonymous" defer="defer" type="application/javascript" src="https://github.githubassets.com/assets/app_assets_modules_github_behaviors_commenting_edit_ts-app_assets_modules_github_behaviors_ht-83c235-c89801ebbe15.js"></script>
<script crossorigin="anonymous" defer="defer" type="application/javascript" src="https://github.githubassets.com/assets/behaviors-93a5d7e13186.js"></script>
<script crossorigin="anonymous" defer="defer" type="application/javascript" src="https://github.githubassets.com/assets/vendors-node_modules_delegated-events_dist_index_js-node_modules_github_catalyst_lib_index_js-06ff531-bf7e5a3732fd.js"></script>
<script crossorigin="anonymous" defer="defer" type="application/javascript" src="https://github.githubassets.com/assets/notifications-global-54f34167118d.js"></script>
<script crossorigin="anonymous" defer="defer" type="application/javascript" src="https://github.githubassets.com/assets/vendors-node_modules_github_mini-throttle_dist_index_js-node_modules_github_catalyst_lib_inde-dbbea9-e73b311a14f1.js"></script>
<script crossorigin="anonymous" defer="defer" type="application/javascript" src="https://github.githubassets.com/assets/code-menu-2b308c1236c2.js"></script>
  
  <script crossorigin="anonymous" defer="defer" type="application/javascript" src="https://github.githubassets.com/assets/primer-react-65b92279806c.js"></script>
<script crossorigin="anonymous" defer="defer" type="application/javascript" src="https://github.githubassets.com/assets/react-core-0819e0281150.js"></script>
<script crossorigin="anonymous" defer="defer" type="application/javascript" src="https://github.githubassets.com/assets/react-lib-7b7b5264f6c1.js"></script>
<script crossorigin="anonymous" defer="defer" type="application/javascript" src="https://github.githubassets.com/assets/octicons-react-45c3a19dd792.js"></script>
<script crossorigin="anonymous" defer="defer" type="application/javascript" src="https://github.githubassets.com/assets/vendors-node_modules_emotion_is-prop-valid_dist_emotion-is-prop-valid_esm_js-node_modules_emo-41da55-1851acd376ff.js"></script>
<script crossorigin="anonymous" defer="defer" type="application/javascript" src="https://github.githubassets.com/assets/vendors-node_modules_oddbird_popover-polyfill_dist_popover-fn_js-4896ddd4b7bb.js"></script>
<script crossorigin="anonymous" defer="defer" type="application/javascript" src="https://github.githubassets.com/assets/vendors-node_modules_focus-visible_dist_focus-visible_js-node_modules_fzy_js_index_js-node_mo-8edd88-99bd6dce30b5.js"></script>
<script crossorigin="anonymous" defer="defer" type="application/javascript" src="https://github.githubassets.com/assets/ui_packages_aria-live_aria-live_ts-ui_packages_promise-with-resolvers-polyfill_promise-with-r-014121-ce989b6c1293.js"></script>
<script crossorigin="anonymous" defer="defer" type="application/javascript" src="https://github.githubassets.com/assets/ui_packages_paths_index_ts-dce6cc95a312.js"></script>
<script crossorigin="anonymous" defer="defer" type="application/javascript" src="https://github.githubassets.com/assets/ui_packages_hydro-analytics_hydro-analytics_ts-ui_packages_ref-selector_RefSelector_tsx-a26f6bcc1e3a.js"></script>
<script crossorigin="anonymous" defer="defer" type="application/javascript" src="https://github.githubassets.com/assets/ui_packages_code-view-shared_hooks_shortcuts_ts-ui_packages_code-view-shared_utilities_web-wo-4a6509-1064a2d07db4.js"></script>
<script crossorigin="anonymous" defer="defer" type="application/javascript" src="https://github.githubassets.com/assets/ui_packages_verified-fetch_verified-fetch_ts-ui_packages_code-view-shared_components_SharedMa-058d4a-af37e21c9cbd.js"></script>
<script crossorigin="anonymous" defer="defer" type="application/javascript" src="https://github.githubassets.com/assets/ui_packages_code-view-shared_hooks_use-canonical-object_ts-ui_packages_code-view-shared_hooks-2170c0-a950e6dae777.js"></script>
<script crossorigin="anonymous" defer="defer" type="application/javascript" src="https://github.githubassets.com/assets/ui_packages_document-metadata_document-metadata_ts-ui_packages_repos-file-tree-view_repos-fil-5db355-996f3bf82132.js"></script>
<script crossorigin="anonymous" defer="defer" type="application/javascript" src="https://github.githubassets.com/assets/app_assets_modules_github_blob-anchor_ts-ui_packages_code-nav_code-nav_ts-ui_packages_filter--8253c1-87c39cb5708f.js"></script>
<script crossorigin="anonymous" defer="defer" type="application/javascript" src="https://github.githubassets.com/assets/react-code-view-4ce384d578c1.js"></script>
<link crossorigin="anonymous" media="all" rel="stylesheet" href="https://github.githubassets.com/assets/primer-react.ed72bee494c072c5b54c.module.css" />
<link crossorigin="anonymous" media="all" rel="stylesheet" href="https://github.githubassets.com/assets/react-code-view.48bd266d84e39961d591.module.css" />

  <script crossorigin="anonymous" defer="defer" type="application/javascript" src="https://github.githubassets.com/assets/primer-react-65b92279806c.js"></script>
<script crossorigin="anonymous" defer="defer" type="application/javascript" src="https://github.githubassets.com/assets/react-core-0819e0281150.js"></script>
<script crossorigin="anonymous" defer="defer" type="application/javascript" src="https://github.githubassets.com/assets/react-lib-7b7b5264f6c1.js"></script>
<script crossorigin="anonymous" defer="defer" type="application/javascript" src="https://github.githubassets.com/assets/octicons-react-45c3a19dd792.js"></script>
<script crossorigin="anonymous" defer="defer" type="application/javascript" src="https://github.githubassets.com/assets/vendors-node_modules_emotion_is-prop-valid_dist_emotion-is-prop-valid_esm_js-node_modules_emo-41da55-1851acd376ff.js"></script>
<script crossorigin="anonymous" defer="defer" type="application/javascript" src="https://github.githubassets.com/assets/vendors-node_modules_oddbird_popover-polyfill_dist_popover-fn_js-4896ddd4b7bb.js"></script>
<script crossorigin="anonymous" defer="defer" type="application/javascript" src="https://github.githubassets.com/assets/notifications-subscriptions-menu-5d446132baea.js"></script>
<link crossorigin="anonymous" media="all" rel="stylesheet" href="https://github.githubassets.com/assets/primer-react.ed72bee494c072c5b54c.module.css" />
<link crossorigin="anonymous" media="all" rel="stylesheet" href="https://github.githubassets.com/assets/notifications-subscriptions-menu.1bcff9205c241e99cff2.module.css" />


  <title>git-bob-playground/violin_plot.ipynb at git-bob-mod-qJFnf5XmME · haesleinhuepf/git-bob-playground · GitHub</title>



  <meta name="route-pattern" content="/:user_id/:repository/blob/*name(/*path)" data-turbo-transient>
  <meta name="route-controller" content="blob" data-turbo-transient>
  <meta name="route-action" content="show" data-turbo-transient>

    
  <meta name="current-catalog-service-hash" content="f3abb0cc802f3d7b95fc8762b94bdcb13bf39634c40c357301c4aa1d67a256fb">


  <meta name="request-id" content="FC80:43256:65AFA:7C4D2:6714D4FF" data-pjax-transient="true"/><meta name="html-safe-nonce" content="ade905bff74946189c35f173ea4aac2693f1f94a2bd6b9ef710c421c601d1ac2" data-pjax-transient="true"/><meta name="visitor-payload" content="eyJyZWZlcnJlciI6IiIsInJlcXVlc3RfaWQiOiJGQzgwOjQzMjU2OjY1QUZBOjdDNEQyOjY3MTRENEZGIiwidmlzaXRvcl9pZCI6IjY3Mzk1MjExODQ5MTUwNTE3NzUiLCJyZWdpb25fZWRnZSI6ImlhZCIsInJlZ2lvbl9yZW5kZXIiOiJpYWQifQ==" data-pjax-transient="true"/><meta name="visitor-hmac" content="b195e19f72de8848a86aaf4c50788aa4378f849f24dd268b99e9ee0efb7ea450" data-pjax-transient="true"/>


    <meta name="hovercard-subject-tag" content="repository:871861441" data-turbo-transient>


  <meta name="github-keyboard-shortcuts" content="repository,source-code,file-tree,copilot" data-turbo-transient="true" />
  

  <meta name="selected-link" value="repo_source" data-turbo-transient>
  <link rel="assets" href="https://github.githubassets.com/">

    <meta name="google-site-verification" content="Apib7-x98H0j5cPqHWwSMm6dNU4GmODRoqxLiDzdx9I">

<meta name="octolytics-url" content="https://collector.github.com/github/collect" />

  <meta name="analytics-location" content="/&lt;user-name&gt;/&lt;repo-name&gt;/blob/show" data-turbo-transient="true" />

  




    <meta name="user-login" content="">

  

    <meta name="viewport" content="width=device-width">

    

      <meta name="description" content="Contribute to haesleinhuepf/git-bob-playground development by creating an account on GitHub.">

      <link rel="search" type="application/opensearchdescription+xml" href="/opensearch.xml" title="GitHub">

    <link rel="fluid-icon" href="https://github.com/fluidicon.png" title="GitHub">
    <meta property="fb:app_id" content="1401488693436528">
    <meta name="apple-itunes-app" content="app-id=1477376905, app-argument=https://github.com/haesleinhuepf/git-bob-playground/blob/git-bob-mod-qJFnf5XmME/violin_plot.ipynb" />

      <meta name="twitter:image" content="https://opengraph.githubassets.com/45e30bc5f92f872fdb19c830c8ce6318b249267c455069118972cd5e48e99c82/haesleinhuepf/git-bob-playground" /><meta name="twitter:site" content="@github" /><meta name="twitter:card" content="summary_large_image" /><meta name="twitter:title" content="git-bob-playground/violin_plot.ipynb at git-bob-mod-qJFnf5XmME · haesleinhuepf/git-bob-playground" /><meta name="twitter:description" content="Contribute to haesleinhuepf/git-bob-playground development by creating an account on GitHub." />
  <meta property="og:image" content="https://opengraph.githubassets.com/45e30bc5f92f872fdb19c830c8ce6318b249267c455069118972cd5e48e99c82/haesleinhuepf/git-bob-playground" /><meta property="og:image:alt" content="Contribute to haesleinhuepf/git-bob-playground development by creating an account on GitHub." /><meta property="og:image:width" content="1200" /><meta property="og:image:height" content="600" /><meta property="og:site_name" content="GitHub" /><meta property="og:type" content="object" /><meta property="og:title" content="git-bob-playground/violin_plot.ipynb at git-bob-mod-qJFnf5XmME · haesleinhuepf/git-bob-playground" /><meta property="og:url" content="https://github.com/haesleinhuepf/git-bob-playground/blob/git-bob-mod-qJFnf5XmME/violin_plot.ipynb" /><meta property="og:description" content="Contribute to haesleinhuepf/git-bob-playground development by creating an account on GitHub." />
  




      <meta name="hostname" content="github.com">



        <meta name="expected-hostname" content="github.com">


  <meta http-equiv="x-pjax-version" content="49a0d34ddee86f2adbdf4cd17ab5a8ea0d524b7fe1c18248ab1376cf4570601f" data-turbo-track="reload">
  <meta http-equiv="x-pjax-csp-version" content="ace39c3b6632770952207593607e6e0be0db363435a8b877b1f96abe6430f345" data-turbo-track="reload">
  <meta http-equiv="x-pjax-css-version" content="6799ca7c5d90d335a555cb049e18e95092201b013b9dc658bb3fa3b68c57bc90" data-turbo-track="reload">
  <meta http-equiv="x-pjax-js-version" content="5c0a4ec477d61b3d1a9027a3bba77075e0e6027c512de21348fa78cf2ed18c6c" data-turbo-track="reload">

    <meta name="turbo-cache-control" content="no-preview" data-turbo-transient="">

      <meta name="turbo-cache-control" content="no-cache" data-turbo-transient>

    <meta data-hydrostats="publish">

  <meta name="go-import" content="github.com/haesleinhuepf/git-bob-playground git https://github.com/haesleinhuepf/git-bob-playground.git">

  <meta name="octolytics-dimension-user_id" content="12660498" /><meta name="octolytics-dimension-user_login" content="haesleinhuepf" /><meta name="octolytics-dimension-repository_id" content="871861441" /><meta name="octolytics-dimension-repository_nwo" content="haesleinhuepf/git-bob-playground" /><meta name="octolytics-dimension-repository_public" content="true" /><meta name="octolytics-dimension-repository_is_fork" content="false" /><meta name="octolytics-dimension-repository_network_root_id" content="871861441" /><meta name="octolytics-dimension-repository_network_root_nwo" content="haesleinhuepf/git-bob-playground" />



    

    <meta name="turbo-body-classes" content="logged-out env-production page-responsive">


  <meta name="browser-stats-url" content="https://api.github.com/_private/browser/stats">

  <meta name="browser-errors-url" content="https://api.github.com/_private/browser/errors">

  <link rel="mask-icon" href="https://github.githubassets.com/assets/pinned-octocat-093da3e6fa40.svg" color="#000000">
  <link rel="alternate icon" class="js-site-favicon" type="image/png" href="https://github.githubassets.com/favicons/favicon.png">
  <link rel="icon" class="js-site-favicon" type="image/svg+xml" href="https://github.githubassets.com/favicons/favicon.svg">

<meta name="theme-color" content="#1e2327">
<meta name="color-scheme" content="light dark" />


  <link rel="manifest" href="/manifest.json" crossOrigin="use-credentials">

  </head>

  <body class="logged-out env-production page-responsive" style="word-wrap: break-word;">
    <div data-turbo-body class="logged-out env-production page-responsive" style="word-wrap: break-word;">
      


    <div class="position-relative js-header-wrapper ">
      <a href="#start-of-content" data-skip-target-assigned="false" class="px-2 py-4 color-bg-accent-emphasis color-fg-on-emphasis show-on-focus js-skip-to-content">Skip to content</a>

      <span data-view-component="true" class="progress-pjax-loader Progress position-fixed width-full">
    <span style="width: 0%;" data-view-component="true" class="Progress-item progress-pjax-loader-bar left-0 top-0 color-bg-accent-emphasis"></span>
</span>      
      
      <script crossorigin="anonymous" defer="defer" type="application/javascript" src="https://github.githubassets.com/assets/vendors-node_modules_github_catalyst_lib_index_js-node_modules_github_hotkey_dist_index_js-no-d67c7f-bd7d077cdcb1.js"></script>
<script crossorigin="anonymous" defer="defer" type="application/javascript" src="https://github.githubassets.com/assets/ui_packages_ui-commands_ui-commands_ts-d25fac54a6bc.js"></script>
<script crossorigin="anonymous" defer="defer" type="application/javascript" src="https://github.githubassets.com/assets/keyboard-shortcuts-dialog-a549d5821edb.js"></script>

<react-partial
  partial-name="keyboard-shortcuts-dialog"
  data-ssr="false"
  data-attempted-ssr="false"
>
  
  <script type="application/json" data-target="react-partial.embeddedData">{"props":{"docsUrl":"https://docs.github.com/get-started/accessibility/keyboard-shortcuts"}}</script>
  <div data-target="react-partial.reactRoot"></div>
</react-partial>




      

          

              
<script crossorigin="anonymous" defer="defer" type="application/javascript" src="https://github.githubassets.com/assets/vendors-node_modules_github_remote-form_dist_index_js-node_modules_delegated-events_dist_inde-94fd67-9a621ecbf672.js"></script>
<script crossorigin="anonymous" defer="defer" type="application/javascript" src="https://github.githubassets.com/assets/sessions-b61003c45c5a.js"></script>
<header class="HeaderMktg header-logged-out js-details-container js-header Details position-relative f4 py-3" role="banner" data-color-mode=light data-light-theme=light data-dark-theme=dark>
  <h2 class="sr-only">Navigation Menu</h2>

  <button type="button" class="HeaderMktg-backdrop d-lg-none border-0 position-fixed top-0 left-0 width-full height-full js-details-target" aria-label="Toggle navigation">
    <span class="d-none">Toggle navigation</span>
  </button>

  <div class="d-flex flex-column flex-lg-row flex-items-center px-3 px-md-4 px-lg-5 height-full position-relative z-1">
    <div class="d-flex flex-justify-between flex-items-center width-full width-lg-auto">
      <div class="flex-1">
        <button aria-label="Toggle navigation" aria-expanded="false" type="button" data-view-component="true" class="js-details-target js-nav-padding-recalculate js-header-menu-toggle Button--link Button--medium Button d-lg-none color-fg-inherit p-1">  <span class="Button-content">
    <span class="Button-label"><div class="HeaderMenu-toggle-bar rounded my-1"></div>
            <div class="HeaderMenu-toggle-bar rounded my-1"></div>
            <div class="HeaderMenu-toggle-bar rounded my-1"></div></span>
  </span>
</button>
      </div>

      <a class="mr-lg-3 color-fg-inherit flex-order-2 js-prevent-focus-on-mobile-nav"
        href="/"
        aria-label="Homepage"
        data-analytics-event="{&quot;category&quot;:&quot;Marketing nav&quot;,&quot;action&quot;:&quot;click to go to homepage&quot;,&quot;label&quot;:&quot;ref_page:Marketing;ref_cta:Logomark;ref_loc:Header&quot;}">
        <svg height="32" aria-hidden="true" viewBox="0 0 24 24" version="1.1" width="32" data-view-component="true" class="octicon octicon-mark-github">
    <path d="M12.5.75C6.146.75 1 5.896 1 12.25c0 5.089 3.292 9.387 7.863 10.91.575.101.79-.244.79-.546 0-.273-.014-1.178-.014-2.142-2.889.532-3.636-.704-3.866-1.35-.13-.331-.69-1.352-1.18-1.625-.402-.216-.977-.748-.014-.762.906-.014 1.553.834 1.769 1.179 1.035 1.74 2.688 1.25 3.349.948.1-.747.402-1.25.733-1.538-2.559-.287-5.232-1.279-5.232-5.678 0-1.25.445-2.285 1.178-3.09-.115-.288-.517-1.467.115-3.048 0 0 .963-.302 3.163 1.179.92-.259 1.897-.388 2.875-.388.977 0 1.955.13 2.875.388 2.2-1.495 3.162-1.179 3.162-1.179.633 1.581.23 2.76.115 3.048.733.805 1.179 1.825 1.179 3.09 0 4.413-2.688 5.39-5.247 5.678.417.36.776 1.05.776 2.128 0 1.538-.014 2.774-.014 3.162 0 .302.216.662.79.547C20.709 21.637 24 17.324 24 12.25 24 5.896 18.854.75 12.5.75Z"></path>
</svg>
      </a>

      <div class="flex-1 flex-order-2 text-right">
          <a
            href="/login?return_to=https%3A%2F%2Fgithub.com%2Fhaesleinhuepf%2Fgit-bob-playground%2Fblob%2Fgit-bob-mod-qJFnf5XmME%2Fviolin_plot.ipynb"
            class="HeaderMenu-link HeaderMenu-button d-inline-flex d-lg-none flex-order-1 f5 no-underline border color-border-default rounded-2 px-2 py-1 color-fg-inherit js-prevent-focus-on-mobile-nav"
            data-hydro-click="{&quot;event_type&quot;:&quot;authentication.click&quot;,&quot;payload&quot;:{&quot;location_in_page&quot;:&quot;site header menu&quot;,&quot;repository_id&quot;:null,&quot;auth_type&quot;:&quot;SIGN_UP&quot;,&quot;originating_url&quot;:&quot;https://github.com/haesleinhuepf/git-bob-playground/blob/git-bob-mod-qJFnf5XmME/violin_plot.ipynb&quot;,&quot;user_id&quot;:null}}" data-hydro-click-hmac="48207b7f919d1e208ba77dac07efded18d0883f5d6e33c3d6d34ad5f88a7bb62"
            data-analytics-event="{&quot;category&quot;:&quot;Marketing nav&quot;,&quot;action&quot;:&quot;click to Sign in&quot;,&quot;label&quot;:&quot;ref_page:Marketing;ref_cta:Sign in;ref_loc:Header&quot;}"
          >
            Sign in
          </a>
      </div>
    </div>


    <div class="HeaderMenu js-header-menu height-fit position-lg-relative d-lg-flex flex-column flex-auto top-0">
      <div class="HeaderMenu-wrapper d-flex flex-column flex-self-start flex-lg-row flex-auto rounded rounded-lg-0">
          <nav class="HeaderMenu-nav" aria-label="Global">
            <ul class="d-lg-flex list-style-none">
                <li class="HeaderMenu-item position-relative flex-wrap flex-justify-between flex-items-center d-block d-lg-flex flex-lg-nowrap flex-lg-items-center js-details-container js-header-menu-item">
      <button type="button" class="HeaderMenu-link border-0 width-full width-lg-auto px-0 px-lg-2 py-lg-2 no-wrap d-flex flex-items-center flex-justify-between js-details-target" aria-expanded="false">
        Product
        <svg opacity="0.5" aria-hidden="true" height="16" viewBox="0 0 16 16" version="1.1" width="16" data-view-component="true" class="octicon octicon-chevron-down HeaderMenu-icon ml-1">
    <path d="M12.78 5.22a.749.749 0 0 1 0 1.06l-4.25 4.25a.749.749 0 0 1-1.06 0L3.22 6.28a.749.749 0 1 1 1.06-1.06L8 8.939l3.72-3.719a.749.749 0 0 1 1.06 0Z"></path>
</svg>
      </button>
      <div class="HeaderMenu-dropdown dropdown-menu rounded m-0 p-0 pt-2 pt-lg-4 position-relative position-lg-absolute left-0 left-lg-n3 pb-2 pb-lg-4 d-lg-flex flex-wrap dropdown-menu-wide">
          <div class="HeaderMenu-column px-lg-4 border-lg-right mb-4 mb-lg-0 pr-lg-7">
              <div class="border-bottom pb-3 pb-lg-0 border-lg-bottom-0">
                <ul class="list-style-none f5" >
                    <li>
  <a class="HeaderMenu-dropdown-link d-block no-underline position-relative py-2 Link--secondary d-flex flex-items-center Link--has-description pb-lg-3" data-analytics-event="{&quot;location&quot;:&quot;navbar&quot;,&quot;action&quot;:&quot;github_copilot&quot;,&quot;context&quot;:&quot;product&quot;,&quot;tag&quot;:&quot;link&quot;,&quot;label&quot;:&quot;github_copilot_link_product_navbar&quot;}" href="https://github.com/features/copilot">
      <svg aria-hidden="true" height="24" viewBox="0 0 24 24" version="1.1" width="24" data-view-component="true" class="octicon octicon-copilot color-fg-subtle mr-3">
    <path d="M23.922 16.992c-.861 1.495-5.859 5.023-11.922 5.023-6.063 0-11.061-3.528-11.922-5.023A.641.641 0 0 1 0 16.736v-2.869a.841.841 0 0 1 .053-.22c.372-.935 1.347-2.292 2.605-2.656.167-.429.414-1.055.644-1.517a10.195 10.195 0 0 1-.052-1.086c0-1.331.282-2.499 1.132-3.368.397-.406.89-.717 1.474-.952 1.399-1.136 3.392-2.093 6.122-2.093 2.731 0 4.767.957 6.166 2.093.584.235 1.077.546 1.474.952.85.869 1.132 2.037 1.132 3.368 0 .368-.014.733-.052 1.086.23.462.477 1.088.644 1.517 1.258.364 2.233 1.721 2.605 2.656a.832.832 0 0 1 .053.22v2.869a.641.641 0 0 1-.078.256ZM12.172 11h-.344a4.323 4.323 0 0 1-.355.508C10.703 12.455 9.555 13 7.965 13c-1.725 0-2.989-.359-3.782-1.259a2.005 2.005 0 0 1-.085-.104L4 11.741v6.585c1.435.779 4.514 2.179 8 2.179 3.486 0 6.565-1.4 8-2.179v-6.585l-.098-.104s-.033.045-.085.104c-.793.9-2.057 1.259-3.782 1.259-1.59 0-2.738-.545-3.508-1.492a4.323 4.323 0 0 1-.355-.508h-.016.016Zm.641-2.935c.136 1.057.403 1.913.878 2.497.442.544 1.134.938 2.344.938 1.573 0 2.292-.337 2.657-.751.384-.435.558-1.15.558-2.361 0-1.14-.243-1.847-.705-2.319-.477-.488-1.319-.862-2.824-1.025-1.487-.161-2.192.138-2.533.529-.269.307-.437.808-.438 1.578v.021c0 .265.021.562.063.893Zm-1.626 0c.042-.331.063-.628.063-.894v-.02c-.001-.77-.169-1.271-.438-1.578-.341-.391-1.046-.69-2.533-.529-1.505.163-2.347.537-2.824 1.025-.462.472-.705 1.179-.705 2.319 0 1.211.175 1.926.558 2.361.365.414 1.084.751 2.657.751 1.21 0 1.902-.394 2.344-.938.475-.584.742-1.44.878-2.497Z"></path><path d="M14.5 14.25a1 1 0 0 1 1 1v2a1 1 0 0 1-2 0v-2a1 1 0 0 1 1-1Zm-5 0a1 1 0 0 1 1 1v2a1 1 0 0 1-2 0v-2a1 1 0 0 1 1-1Z"></path>
</svg>
      <div>
        <div class="color-fg-default h4">GitHub Copilot</div>
        Write better code with AI
      </div>

    
</a></li>

                    <li>
  <a class="HeaderMenu-dropdown-link d-block no-underline position-relative py-2 Link--secondary d-flex flex-items-center Link--has-description pb-lg-3" data-analytics-event="{&quot;location&quot;:&quot;navbar&quot;,&quot;action&quot;:&quot;security&quot;,&quot;context&quot;:&quot;product&quot;,&quot;tag&quot;:&quot;link&quot;,&quot;label&quot;:&quot;security_link_product_navbar&quot;}" href="https://github.com/features/security">
      <svg aria-hidden="true" height="24" viewBox="0 0 24 24" version="1.1" width="24" data-view-component="true" class="octicon octicon-shield-check color-fg-subtle mr-3">
    <path d="M16.53 9.78a.75.75 0 0 0-1.06-1.06L11 13.19l-1.97-1.97a.75.75 0 0 0-1.06 1.06l2.5 2.5a.75.75 0 0 0 1.06 0l5-5Z"></path><path d="m12.54.637 8.25 2.675A1.75 1.75 0 0 1 22 4.976V10c0 6.19-3.771 10.704-9.401 12.83a1.704 1.704 0 0 1-1.198 0C5.77 20.705 2 16.19 2 10V4.976c0-.758.489-1.43 1.21-1.664L11.46.637a1.748 1.748 0 0 1 1.08 0Zm-.617 1.426-8.25 2.676a.249.249 0 0 0-.173.237V10c0 5.46 3.28 9.483 8.43 11.426a.199.199 0 0 0 .14 0C17.22 19.483 20.5 15.461 20.5 10V4.976a.25.25 0 0 0-.173-.237l-8.25-2.676a.253.253 0 0 0-.154 0Z"></path>
</svg>
      <div>
        <div class="color-fg-default h4">Security</div>
        Find and fix vulnerabilities
      </div>

    
</a></li>

                    <li>
  <a class="HeaderMenu-dropdown-link d-block no-underline position-relative py-2 Link--secondary d-flex flex-items-center Link--has-description pb-lg-3" data-analytics-event="{&quot;location&quot;:&quot;navbar&quot;,&quot;action&quot;:&quot;actions&quot;,&quot;context&quot;:&quot;product&quot;,&quot;tag&quot;:&quot;link&quot;,&quot;label&quot;:&quot;actions_link_product_navbar&quot;}" href="https://github.com/features/actions">
      <svg aria-hidden="true" height="24" viewBox="0 0 24 24" version="1.1" width="24" data-view-component="true" class="octicon octicon-workflow color-fg-subtle mr-3">
    <path d="M1 3a2 2 0 0 1 2-2h6.5a2 2 0 0 1 2 2v6.5a2 2 0 0 1-2 2H7v4.063C7 16.355 7.644 17 8.438 17H12.5v-2.5a2 2 0 0 1 2-2H21a2 2 0 0 1 2 2V21a2 2 0 0 1-2 2h-6.5a2 2 0 0 1-2-2v-2.5H8.437A2.939 2.939 0 0 1 5.5 15.562V11.5H3a2 2 0 0 1-2-2Zm2-.5a.5.5 0 0 0-.5.5v6.5a.5.5 0 0 0 .5.5h6.5a.5.5 0 0 0 .5-.5V3a.5.5 0 0 0-.5-.5ZM14.5 14a.5.5 0 0 0-.5.5V21a.5.5 0 0 0 .5.5H21a.5.5 0 0 0 .5-.5v-6.5a.5.5 0 0 0-.5-.5Z"></path>
</svg>
      <div>
        <div class="color-fg-default h4">Actions</div>
        Automate any workflow
      </div>

    
</a></li>

                    <li>
  <a class="HeaderMenu-dropdown-link d-block no-underline position-relative py-2 Link--secondary d-flex flex-items-center Link--has-description pb-lg-3" data-analytics-event="{&quot;location&quot;:&quot;navbar&quot;,&quot;action&quot;:&quot;codespaces&quot;,&quot;context&quot;:&quot;product&quot;,&quot;tag&quot;:&quot;link&quot;,&quot;label&quot;:&quot;codespaces_link_product_navbar&quot;}" href="https://github.com/features/codespaces">
      <svg aria-hidden="true" height="24" viewBox="0 0 24 24" version="1.1" width="24" data-view-component="true" class="octicon octicon-codespaces color-fg-subtle mr-3">
    <path d="M3.5 3.75C3.5 2.784 4.284 2 5.25 2h13.5c.966 0 1.75.784 1.75 1.75v7.5A1.75 1.75 0 0 1 18.75 13H5.25a1.75 1.75 0 0 1-1.75-1.75Zm-2 12c0-.966.784-1.75 1.75-1.75h17.5c.966 0 1.75.784 1.75 1.75v4a1.75 1.75 0 0 1-1.75 1.75H3.25a1.75 1.75 0 0 1-1.75-1.75ZM5.25 3.5a.25.25 0 0 0-.25.25v7.5c0 .138.112.25.25.25h13.5a.25.25 0 0 0 .25-.25v-7.5a.25.25 0 0 0-.25-.25Zm-2 12a.25.25 0 0 0-.25.25v4c0 .138.112.25.25.25h17.5a.25.25 0 0 0 .25-.25v-4a.25.25 0 0 0-.25-.25Z"></path><path d="M10 17.75a.75.75 0 0 1 .75-.75h6.5a.75.75 0 0 1 0 1.5h-6.5a.75.75 0 0 1-.75-.75Zm-4 0a.75.75 0 0 1 .75-.75h.5a.75.75 0 0 1 0 1.5h-.5a.75.75 0 0 1-.75-.75Z"></path>
</svg>
      <div>
        <div class="color-fg-default h4">Codespaces</div>
        Instant dev environments
      </div>

    
</a></li>

                    <li>
  <a class="HeaderMenu-dropdown-link d-block no-underline position-relative py-2 Link--secondary d-flex flex-items-center Link--has-description pb-lg-3" data-analytics-event="{&quot;location&quot;:&quot;navbar&quot;,&quot;action&quot;:&quot;issues&quot;,&quot;context&quot;:&quot;product&quot;,&quot;tag&quot;:&quot;link&quot;,&quot;label&quot;:&quot;issues_link_product_navbar&quot;}" href="https://github.com/features/issues">
      <svg aria-hidden="true" height="24" viewBox="0 0 24 24" version="1.1" width="24" data-view-component="true" class="octicon octicon-issue-opened color-fg-subtle mr-3">
    <path d="M12 1c6.075 0 11 4.925 11 11s-4.925 11-11 11S1 18.075 1 12 5.925 1 12 1ZM2.5 12a9.5 9.5 0 0 0 9.5 9.5 9.5 9.5 0 0 0 9.5-9.5A9.5 9.5 0 0 0 12 2.5 9.5 9.5 0 0 0 2.5 12Zm9.5 2a2 2 0 1 1-.001-3.999A2 2 0 0 1 12 14Z"></path>
</svg>
      <div>
        <div class="color-fg-default h4">Issues</div>
        Plan and track work
      </div>

    
</a></li>

                    <li>
  <a class="HeaderMenu-dropdown-link d-block no-underline position-relative py-2 Link--secondary d-flex flex-items-center Link--has-description pb-lg-3" data-analytics-event="{&quot;location&quot;:&quot;navbar&quot;,&quot;action&quot;:&quot;code_review&quot;,&quot;context&quot;:&quot;product&quot;,&quot;tag&quot;:&quot;link&quot;,&quot;label&quot;:&quot;code_review_link_product_navbar&quot;}" href="https://github.com/features/code-review">
      <svg aria-hidden="true" height="24" viewBox="0 0 24 24" version="1.1" width="24" data-view-component="true" class="octicon octicon-code-review color-fg-subtle mr-3">
    <path d="M10.3 6.74a.75.75 0 0 1-.04 1.06l-2.908 2.7 2.908 2.7a.75.75 0 1 1-1.02 1.1l-3.5-3.25a.75.75 0 0 1 0-1.1l3.5-3.25a.75.75 0 0 1 1.06.04Zm3.44 1.06a.75.75 0 1 1 1.02-1.1l3.5 3.25a.75.75 0 0 1 0 1.1l-3.5 3.25a.75.75 0 1 1-1.02-1.1l2.908-2.7-2.908-2.7Z"></path><path d="M1.5 4.25c0-.966.784-1.75 1.75-1.75h17.5c.966 0 1.75.784 1.75 1.75v12.5a1.75 1.75 0 0 1-1.75 1.75h-9.69l-3.573 3.573A1.458 1.458 0 0 1 5 21.043V18.5H3.25a1.75 1.75 0 0 1-1.75-1.75ZM3.25 4a.25.25 0 0 0-.25.25v12.5c0 .138.112.25.25.25h2.5a.75.75 0 0 1 .75.75v3.19l3.72-3.72a.749.749 0 0 1 .53-.22h10a.25.25 0 0 0 .25-.25V4.25a.25.25 0 0 0-.25-.25Z"></path>
</svg>
      <div>
        <div class="color-fg-default h4">Code Review</div>
        Manage code changes
      </div>

    
</a></li>

                    <li>
  <a class="HeaderMenu-dropdown-link d-block no-underline position-relative py-2 Link--secondary d-flex flex-items-center Link--has-description pb-lg-3" data-analytics-event="{&quot;location&quot;:&quot;navbar&quot;,&quot;action&quot;:&quot;discussions&quot;,&quot;context&quot;:&quot;product&quot;,&quot;tag&quot;:&quot;link&quot;,&quot;label&quot;:&quot;discussions_link_product_navbar&quot;}" href="https://github.com/features/discussions">
      <svg aria-hidden="true" height="24" viewBox="0 0 24 24" version="1.1" width="24" data-view-component="true" class="octicon octicon-comment-discussion color-fg-subtle mr-3">
    <path d="M1.75 1h12.5c.966 0 1.75.784 1.75 1.75v9.5A1.75 1.75 0 0 1 14.25 14H8.061l-2.574 2.573A1.458 1.458 0 0 1 3 15.543V14H1.75A1.75 1.75 0 0 1 0 12.25v-9.5C0 1.784.784 1 1.75 1ZM1.5 2.75v9.5c0 .138.112.25.25.25h2a.75.75 0 0 1 .75.75v2.19l2.72-2.72a.749.749 0 0 1 .53-.22h6.5a.25.25 0 0 0 .25-.25v-9.5a.25.25 0 0 0-.25-.25H1.75a.25.25 0 0 0-.25.25Z"></path><path d="M22.5 8.75a.25.25 0 0 0-.25-.25h-3.5a.75.75 0 0 1 0-1.5h3.5c.966 0 1.75.784 1.75 1.75v9.5A1.75 1.75 0 0 1 22.25 20H21v1.543a1.457 1.457 0 0 1-2.487 1.03L15.939 20H10.75A1.75 1.75 0 0 1 9 18.25v-1.465a.75.75 0 0 1 1.5 0v1.465c0 .138.112.25.25.25h5.5a.75.75 0 0 1 .53.22l2.72 2.72v-2.19a.75.75 0 0 1 .75-.75h2a.25.25 0 0 0 .25-.25v-9.5Z"></path>
</svg>
      <div>
        <div class="color-fg-default h4">Discussions</div>
        Collaborate outside of code
      </div>

    
</a></li>

                    <li>
  <a class="HeaderMenu-dropdown-link d-block no-underline position-relative py-2 Link--secondary d-flex flex-items-center Link--has-description" data-analytics-event="{&quot;location&quot;:&quot;navbar&quot;,&quot;action&quot;:&quot;code_search&quot;,&quot;context&quot;:&quot;product&quot;,&quot;tag&quot;:&quot;link&quot;,&quot;label&quot;:&quot;code_search_link_product_navbar&quot;}" href="https://github.com/features/code-search">
      <svg aria-hidden="true" height="24" viewBox="0 0 24 24" version="1.1" width="24" data-view-component="true" class="octicon octicon-code-square color-fg-subtle mr-3">
    <path d="M10.3 8.24a.75.75 0 0 1-.04 1.06L7.352 12l2.908 2.7a.75.75 0 1 1-1.02 1.1l-3.5-3.25a.75.75 0 0 1 0-1.1l3.5-3.25a.75.75 0 0 1 1.06.04Zm3.44 1.06a.75.75 0 1 1 1.02-1.1l3.5 3.25a.75.75 0 0 1 0 1.1l-3.5 3.25a.75.75 0 1 1-1.02-1.1l2.908-2.7-2.908-2.7Z"></path><path d="M2 3.75C2 2.784 2.784 2 3.75 2h16.5c.966 0 1.75.784 1.75 1.75v16.5A1.75 1.75 0 0 1 20.25 22H3.75A1.75 1.75 0 0 1 2 20.25Zm1.75-.25a.25.25 0 0 0-.25.25v16.5c0 .138.112.25.25.25h16.5a.25.25 0 0 0 .25-.25V3.75a.25.25 0 0 0-.25-.25Z"></path>
</svg>
      <div>
        <div class="color-fg-default h4">Code Search</div>
        Find more, search less
      </div>

    
</a></li>

                </ul>
              </div>
          </div>
          <div class="HeaderMenu-column px-lg-4">
              <div class="border-bottom pb-3 pb-lg-0 border-lg-bottom-0 border-bottom-0">
                    <span class="d-block h4 color-fg-default my-1" id="product-explore-heading">Explore</span>
                <ul class="list-style-none f5" aria-labelledby="product-explore-heading">
                    <li>
  <a class="HeaderMenu-dropdown-link d-block no-underline position-relative py-2 Link--secondary" data-analytics-event="{&quot;location&quot;:&quot;navbar&quot;,&quot;action&quot;:&quot;all_features&quot;,&quot;context&quot;:&quot;product&quot;,&quot;tag&quot;:&quot;link&quot;,&quot;label&quot;:&quot;all_features_link_product_navbar&quot;}" href="https://github.com/features">
      All features

    
</a></li>

                    <li>
  <a class="HeaderMenu-dropdown-link d-block no-underline position-relative py-2 Link--secondary Link--external" target="_blank" data-analytics-event="{&quot;location&quot;:&quot;navbar&quot;,&quot;action&quot;:&quot;documentation&quot;,&quot;context&quot;:&quot;product&quot;,&quot;tag&quot;:&quot;link&quot;,&quot;label&quot;:&quot;documentation_link_product_navbar&quot;}" href="https://docs.github.com">
      Documentation

    <svg aria-hidden="true" height="16" viewBox="0 0 16 16" version="1.1" width="16" data-view-component="true" class="octicon octicon-link-external HeaderMenu-external-icon color-fg-subtle">
    <path d="M3.75 2h3.5a.75.75 0 0 1 0 1.5h-3.5a.25.25 0 0 0-.25.25v8.5c0 .138.112.25.25.25h8.5a.25.25 0 0 0 .25-.25v-3.5a.75.75 0 0 1 1.5 0v3.5A1.75 1.75 0 0 1 12.25 14h-8.5A1.75 1.75 0 0 1 2 12.25v-8.5C2 2.784 2.784 2 3.75 2Zm6.854-1h4.146a.25.25 0 0 1 .25.25v4.146a.25.25 0 0 1-.427.177L13.03 4.03 9.28 7.78a.751.751 0 0 1-1.042-.018.751.751 0 0 1-.018-1.042l3.75-3.75-1.543-1.543A.25.25 0 0 1 10.604 1Z"></path>
</svg>
</a></li>

                    <li>
  <a class="HeaderMenu-dropdown-link d-block no-underline position-relative py-2 Link--secondary Link--external" target="_blank" data-analytics-event="{&quot;location&quot;:&quot;navbar&quot;,&quot;action&quot;:&quot;github_skills&quot;,&quot;context&quot;:&quot;product&quot;,&quot;tag&quot;:&quot;link&quot;,&quot;label&quot;:&quot;github_skills_link_product_navbar&quot;}" href="https://skills.github.com">
      GitHub Skills

    <svg aria-hidden="true" height="16" viewBox="0 0 16 16" version="1.1" width="16" data-view-component="true" class="octicon octicon-link-external HeaderMenu-external-icon color-fg-subtle">
    <path d="M3.75 2h3.5a.75.75 0 0 1 0 1.5h-3.5a.25.25 0 0 0-.25.25v8.5c0 .138.112.25.25.25h8.5a.25.25 0 0 0 .25-.25v-3.5a.75.75 0 0 1 1.5 0v3.5A1.75 1.75 0 0 1 12.25 14h-8.5A1.75 1.75 0 0 1 2 12.25v-8.5C2 2.784 2.784 2 3.75 2Zm6.854-1h4.146a.25.25 0 0 1 .25.25v4.146a.25.25 0 0 1-.427.177L13.03 4.03 9.28 7.78a.751.751 0 0 1-1.042-.018.751.751 0 0 1-.018-1.042l3.75-3.75-1.543-1.543A.25.25 0 0 1 10.604 1Z"></path>
</svg>
</a></li>

                    <li>
  <a class="HeaderMenu-dropdown-link d-block no-underline position-relative py-2 Link--secondary Link--external" target="_blank" data-analytics-event="{&quot;location&quot;:&quot;navbar&quot;,&quot;action&quot;:&quot;blog&quot;,&quot;context&quot;:&quot;product&quot;,&quot;tag&quot;:&quot;link&quot;,&quot;label&quot;:&quot;blog_link_product_navbar&quot;}" href="https://github.blog">
      Blog

    <svg aria-hidden="true" height="16" viewBox="0 0 16 16" version="1.1" width="16" data-view-component="true" class="octicon octicon-link-external HeaderMenu-external-icon color-fg-subtle">
    <path d="M3.75 2h3.5a.75.75 0 0 1 0 1.5h-3.5a.25.25 0 0 0-.25.25v8.5c0 .138.112.25.25.25h8.5a.25.25 0 0 0 .25-.25v-3.5a.75.75 0 0 1 1.5 0v3.5A1.75 1.75 0 0 1 12.25 14h-8.5A1.75 1.75 0 0 1 2 12.25v-8.5C2 2.784 2.784 2 3.75 2Zm6.854-1h4.146a.25.25 0 0 1 .25.25v4.146a.25.25 0 0 1-.427.177L13.03 4.03 9.28 7.78a.751.751 0 0 1-1.042-.018.751.751 0 0 1-.018-1.042l3.75-3.75-1.543-1.543A.25.25 0 0 1 10.604 1Z"></path>
</svg>
</a></li>

                </ul>
              </div>
          </div>
      </div>
</li>

                  <li class="HeaderMenu-item position-relative flex-wrap flex-justify-between flex-items-center d-block d-lg-flex flex-lg-nowrap flex-lg-items-center js-details-container js-header-menu-item">
      <button type="button" class="HeaderMenu-link border-0 width-full width-lg-auto px-0 px-lg-2 py-lg-2 no-wrap d-flex flex-items-center flex-justify-between js-details-target" aria-expanded="false">
        Solutions
        <svg opacity="0.5" aria-hidden="true" height="16" viewBox="0 0 16 16" version="1.1" width="16" data-view-component="true" class="octicon octicon-chevron-down HeaderMenu-icon ml-1">
    <path d="M12.78 5.22a.749.749 0 0 1 0 1.06l-4.25 4.25a.749.749 0 0 1-1.06 0L3.22 6.28a.749.749 0 1 1 1.06-1.06L8 8.939l3.72-3.719a.749.749 0 0 1 1.06 0Z"></path>
</svg>
      </button>
      <div class="HeaderMenu-dropdown dropdown-menu rounded m-0 p-0 pt-2 pt-lg-4 position-relative position-lg-absolute left-0 left-lg-n3 d-lg-flex flex-wrap dropdown-menu-wide">
          <div class="HeaderMenu-column px-lg-4 border-lg-right mb-4 mb-lg-0 pr-lg-7">
              <div class="border-bottom pb-3 pb-lg-0 border-lg-bottom-0 pb-lg-3 mb-3 mb-lg-0">
                    <span class="d-block h4 color-fg-default my-1" id="solutions-by-company-size-heading">By company size</span>
                <ul class="list-style-none f5" aria-labelledby="solutions-by-company-size-heading">
                    <li>
  <a class="HeaderMenu-dropdown-link d-block no-underline position-relative py-2 Link--secondary" data-analytics-event="{&quot;location&quot;:&quot;navbar&quot;,&quot;action&quot;:&quot;enterprises&quot;,&quot;context&quot;:&quot;solutions&quot;,&quot;tag&quot;:&quot;link&quot;,&quot;label&quot;:&quot;enterprises_link_solutions_navbar&quot;}" href="https://github.com/enterprise">
      Enterprises

    
</a></li>

                    <li>
  <a class="HeaderMenu-dropdown-link d-block no-underline position-relative py-2 Link--secondary" data-analytics-event="{&quot;location&quot;:&quot;navbar&quot;,&quot;action&quot;:&quot;small_and_medium_teams&quot;,&quot;context&quot;:&quot;solutions&quot;,&quot;tag&quot;:&quot;link&quot;,&quot;label&quot;:&quot;small_and_medium_teams_link_solutions_navbar&quot;}" href="https://github.com/team">
      Small and medium teams

    
</a></li>

                    <li>
  <a class="HeaderMenu-dropdown-link d-block no-underline position-relative py-2 Link--secondary" data-analytics-event="{&quot;location&quot;:&quot;navbar&quot;,&quot;action&quot;:&quot;startups&quot;,&quot;context&quot;:&quot;solutions&quot;,&quot;tag&quot;:&quot;link&quot;,&quot;label&quot;:&quot;startups_link_solutions_navbar&quot;}" href="https://github.com/enterprise/startups">
      Startups

    
</a></li>

                </ul>
              </div>
              <div class="border-bottom pb-3 pb-lg-0 border-lg-bottom-0">
                    <span class="d-block h4 color-fg-default my-1" id="solutions-by-use-case-heading">By use case</span>
                <ul class="list-style-none f5" aria-labelledby="solutions-by-use-case-heading">
                    <li>
  <a class="HeaderMenu-dropdown-link d-block no-underline position-relative py-2 Link--secondary" data-analytics-event="{&quot;location&quot;:&quot;navbar&quot;,&quot;action&quot;:&quot;devsecops&quot;,&quot;context&quot;:&quot;solutions&quot;,&quot;tag&quot;:&quot;link&quot;,&quot;label&quot;:&quot;devsecops_link_solutions_navbar&quot;}" href="/solutions/use-case/devsecops">
      DevSecOps

    
</a></li>

                    <li>
  <a class="HeaderMenu-dropdown-link d-block no-underline position-relative py-2 Link--secondary" data-analytics-event="{&quot;location&quot;:&quot;navbar&quot;,&quot;action&quot;:&quot;devops&quot;,&quot;context&quot;:&quot;solutions&quot;,&quot;tag&quot;:&quot;link&quot;,&quot;label&quot;:&quot;devops_link_solutions_navbar&quot;}" href="/solutions/use-case/devops">
      DevOps

    
</a></li>

                    <li>
  <a class="HeaderMenu-dropdown-link d-block no-underline position-relative py-2 Link--secondary" data-analytics-event="{&quot;location&quot;:&quot;navbar&quot;,&quot;action&quot;:&quot;ci_cd&quot;,&quot;context&quot;:&quot;solutions&quot;,&quot;tag&quot;:&quot;link&quot;,&quot;label&quot;:&quot;ci_cd_link_solutions_navbar&quot;}" href="/solutions/use-case/ci-cd">
      CI/CD

    
</a></li>

                    <li>
  <a class="HeaderMenu-dropdown-link d-block no-underline position-relative py-2 Link--secondary" data-analytics-event="{&quot;location&quot;:&quot;navbar&quot;,&quot;action&quot;:&quot;view_all_use_cases&quot;,&quot;context&quot;:&quot;solutions&quot;,&quot;tag&quot;:&quot;link&quot;,&quot;label&quot;:&quot;view_all_use_cases_link_solutions_navbar&quot;}" href="/solutions/use-case">
      View all use cases

    
</a></li>

                </ul>
              </div>
          </div>
          <div class="HeaderMenu-column px-lg-4">
              <div class="border-bottom pb-3 pb-lg-0 border-lg-bottom-0">
                    <span class="d-block h4 color-fg-default my-1" id="solutions-by-industry-heading">By industry</span>
                <ul class="list-style-none f5" aria-labelledby="solutions-by-industry-heading">
                    <li>
  <a class="HeaderMenu-dropdown-link d-block no-underline position-relative py-2 Link--secondary" data-analytics-event="{&quot;location&quot;:&quot;navbar&quot;,&quot;action&quot;:&quot;healthcare&quot;,&quot;context&quot;:&quot;solutions&quot;,&quot;tag&quot;:&quot;link&quot;,&quot;label&quot;:&quot;healthcare_link_solutions_navbar&quot;}" href="/solutions/industry/healthcare">
      Healthcare

    
</a></li>

                    <li>
  <a class="HeaderMenu-dropdown-link d-block no-underline position-relative py-2 Link--secondary" data-analytics-event="{&quot;location&quot;:&quot;navbar&quot;,&quot;action&quot;:&quot;financial_services&quot;,&quot;context&quot;:&quot;solutions&quot;,&quot;tag&quot;:&quot;link&quot;,&quot;label&quot;:&quot;financial_services_link_solutions_navbar&quot;}" href="/solutions/industry/financial-services">
      Financial services

    
</a></li>

                    <li>
  <a class="HeaderMenu-dropdown-link d-block no-underline position-relative py-2 Link--secondary" data-analytics-event="{&quot;location&quot;:&quot;navbar&quot;,&quot;action&quot;:&quot;manufacturing&quot;,&quot;context&quot;:&quot;solutions&quot;,&quot;tag&quot;:&quot;link&quot;,&quot;label&quot;:&quot;manufacturing_link_solutions_navbar&quot;}" href="/solutions/industry/manufacturing">
      Manufacturing

    
</a></li>

                    <li>
  <a class="HeaderMenu-dropdown-link d-block no-underline position-relative py-2 Link--secondary" data-analytics-event="{&quot;location&quot;:&quot;navbar&quot;,&quot;action&quot;:&quot;government&quot;,&quot;context&quot;:&quot;solutions&quot;,&quot;tag&quot;:&quot;link&quot;,&quot;label&quot;:&quot;government_link_solutions_navbar&quot;}" href="/solutions/industry/government">
      Government

    
</a></li>

                    <li>
  <a class="HeaderMenu-dropdown-link d-block no-underline position-relative py-2 Link--secondary" data-analytics-event="{&quot;location&quot;:&quot;navbar&quot;,&quot;action&quot;:&quot;view_all_industries&quot;,&quot;context&quot;:&quot;solutions&quot;,&quot;tag&quot;:&quot;link&quot;,&quot;label&quot;:&quot;view_all_industries_link_solutions_navbar&quot;}" href="/solutions/industry">
      View all industries

    
</a></li>

                </ul>
              </div>
          </div>
         <div class="HeaderMenu-trailing-link rounded-bottom-2 flex-shrink-0 mt-lg-4 px-lg-4 py-4 py-lg-3 f5 text-semibold">
            <a href="/solutions">
              View all solutions
              <svg aria-hidden="true" height="16" viewBox="0 0 16 16" version="1.1" width="16" data-view-component="true" class="octicon octicon-chevron-right HeaderMenu-trailing-link-icon">
    <path d="M6.22 3.22a.75.75 0 0 1 1.06 0l4.25 4.25a.75.75 0 0 1 0 1.06l-4.25 4.25a.751.751 0 0 1-1.042-.018.751.751 0 0 1-.018-1.042L9.94 8 6.22 4.28a.75.75 0 0 1 0-1.06Z"></path>
</svg>
</a>         </div>
      </div>
</li>

                  <li class="HeaderMenu-item position-relative flex-wrap flex-justify-between flex-items-center d-block d-lg-flex flex-lg-nowrap flex-lg-items-center js-details-container js-header-menu-item">
      <button type="button" class="HeaderMenu-link border-0 width-full width-lg-auto px-0 px-lg-2 py-lg-2 no-wrap d-flex flex-items-center flex-justify-between js-details-target" aria-expanded="false">
        Resources
        <svg opacity="0.5" aria-hidden="true" height="16" viewBox="0 0 16 16" version="1.1" width="16" data-view-component="true" class="octicon octicon-chevron-down HeaderMenu-icon ml-1">
    <path d="M12.78 5.22a.749.749 0 0 1 0 1.06l-4.25 4.25a.749.749 0 0 1-1.06 0L3.22 6.28a.749.749 0 1 1 1.06-1.06L8 8.939l3.72-3.719a.749.749 0 0 1 1.06 0Z"></path>
</svg>
      </button>
      <div class="HeaderMenu-dropdown dropdown-menu rounded m-0 p-0 pt-2 pt-lg-4 position-relative position-lg-absolute left-0 left-lg-n3 pb-2 pb-lg-4 d-lg-flex flex-wrap dropdown-menu-wide">
          <div class="HeaderMenu-column px-lg-4 border-lg-right mb-4 mb-lg-0 pr-lg-7">
              <div class="border-bottom pb-3 pb-lg-0 border-lg-bottom-0">
                    <span class="d-block h4 color-fg-default my-1" id="resources-topics-heading">Topics</span>
                <ul class="list-style-none f5" aria-labelledby="resources-topics-heading">
                    <li>
  <a class="HeaderMenu-dropdown-link d-block no-underline position-relative py-2 Link--secondary" data-analytics-event="{&quot;location&quot;:&quot;navbar&quot;,&quot;action&quot;:&quot;ai&quot;,&quot;context&quot;:&quot;resources&quot;,&quot;tag&quot;:&quot;link&quot;,&quot;label&quot;:&quot;ai_link_resources_navbar&quot;}" href="/resources/articles/ai">
      AI

    
</a></li>

                    <li>
  <a class="HeaderMenu-dropdown-link d-block no-underline position-relative py-2 Link--secondary" data-analytics-event="{&quot;location&quot;:&quot;navbar&quot;,&quot;action&quot;:&quot;devops&quot;,&quot;context&quot;:&quot;resources&quot;,&quot;tag&quot;:&quot;link&quot;,&quot;label&quot;:&quot;devops_link_resources_navbar&quot;}" href="/resources/articles/devops">
      DevOps

    
</a></li>

                    <li>
  <a class="HeaderMenu-dropdown-link d-block no-underline position-relative py-2 Link--secondary" data-analytics-event="{&quot;location&quot;:&quot;navbar&quot;,&quot;action&quot;:&quot;security&quot;,&quot;context&quot;:&quot;resources&quot;,&quot;tag&quot;:&quot;link&quot;,&quot;label&quot;:&quot;security_link_resources_navbar&quot;}" href="/resources/articles/security">
      Security

    
</a></li>

                    <li>
  <a class="HeaderMenu-dropdown-link d-block no-underline position-relative py-2 Link--secondary" data-analytics-event="{&quot;location&quot;:&quot;navbar&quot;,&quot;action&quot;:&quot;software_development&quot;,&quot;context&quot;:&quot;resources&quot;,&quot;tag&quot;:&quot;link&quot;,&quot;label&quot;:&quot;software_development_link_resources_navbar&quot;}" href="/resources/articles/software-development">
      Software Development

    
</a></li>

                    <li>
  <a class="HeaderMenu-dropdown-link d-block no-underline position-relative py-2 Link--secondary" data-analytics-event="{&quot;location&quot;:&quot;navbar&quot;,&quot;action&quot;:&quot;view_all&quot;,&quot;context&quot;:&quot;resources&quot;,&quot;tag&quot;:&quot;link&quot;,&quot;label&quot;:&quot;view_all_link_resources_navbar&quot;}" href="/resources/articles">
      View all

    
</a></li>

                </ul>
              </div>
          </div>
          <div class="HeaderMenu-column px-lg-4">
              <div class="border-bottom pb-3 pb-lg-0 border-lg-bottom-0 border-bottom-0">
                    <span class="d-block h4 color-fg-default my-1" id="resources-explore-heading">Explore</span>
                <ul class="list-style-none f5" aria-labelledby="resources-explore-heading">
                    <li>
  <a class="HeaderMenu-dropdown-link d-block no-underline position-relative py-2 Link--secondary Link--external" target="_blank" data-analytics-event="{&quot;location&quot;:&quot;navbar&quot;,&quot;action&quot;:&quot;learning_pathways&quot;,&quot;context&quot;:&quot;resources&quot;,&quot;tag&quot;:&quot;link&quot;,&quot;label&quot;:&quot;learning_pathways_link_resources_navbar&quot;}" href="https://resources.github.com/learn/pathways">
      Learning Pathways

    <svg aria-hidden="true" height="16" viewBox="0 0 16 16" version="1.1" width="16" data-view-component="true" class="octicon octicon-link-external HeaderMenu-external-icon color-fg-subtle">
    <path d="M3.75 2h3.5a.75.75 0 0 1 0 1.5h-3.5a.25.25 0 0 0-.25.25v8.5c0 .138.112.25.25.25h8.5a.25.25 0 0 0 .25-.25v-3.5a.75.75 0 0 1 1.5 0v3.5A1.75 1.75 0 0 1 12.25 14h-8.5A1.75 1.75 0 0 1 2 12.25v-8.5C2 2.784 2.784 2 3.75 2Zm6.854-1h4.146a.25.25 0 0 1 .25.25v4.146a.25.25 0 0 1-.427.177L13.03 4.03 9.28 7.78a.751.751 0 0 1-1.042-.018.751.751 0 0 1-.018-1.042l3.75-3.75-1.543-1.543A.25.25 0 0 1 10.604 1Z"></path>
</svg>
</a></li>

                    <li>
  <a class="HeaderMenu-dropdown-link d-block no-underline position-relative py-2 Link--secondary Link--external" target="_blank" data-analytics-event="{&quot;location&quot;:&quot;navbar&quot;,&quot;action&quot;:&quot;white_papers_ebooks_webinars&quot;,&quot;context&quot;:&quot;resources&quot;,&quot;tag&quot;:&quot;link&quot;,&quot;label&quot;:&quot;white_papers_ebooks_webinars_link_resources_navbar&quot;}" href="https://resources.github.com">
      White papers, Ebooks, Webinars

    <svg aria-hidden="true" height="16" viewBox="0 0 16 16" version="1.1" width="16" data-view-component="true" class="octicon octicon-link-external HeaderMenu-external-icon color-fg-subtle">
    <path d="M3.75 2h3.5a.75.75 0 0 1 0 1.5h-3.5a.25.25 0 0 0-.25.25v8.5c0 .138.112.25.25.25h8.5a.25.25 0 0 0 .25-.25v-3.5a.75.75 0 0 1 1.5 0v3.5A1.75 1.75 0 0 1 12.25 14h-8.5A1.75 1.75 0 0 1 2 12.25v-8.5C2 2.784 2.784 2 3.75 2Zm6.854-1h4.146a.25.25 0 0 1 .25.25v4.146a.25.25 0 0 1-.427.177L13.03 4.03 9.28 7.78a.751.751 0 0 1-1.042-.018.751.751 0 0 1-.018-1.042l3.75-3.75-1.543-1.543A.25.25 0 0 1 10.604 1Z"></path>
</svg>
</a></li>

                    <li>
  <a class="HeaderMenu-dropdown-link d-block no-underline position-relative py-2 Link--secondary" data-analytics-event="{&quot;location&quot;:&quot;navbar&quot;,&quot;action&quot;:&quot;customer_stories&quot;,&quot;context&quot;:&quot;resources&quot;,&quot;tag&quot;:&quot;link&quot;,&quot;label&quot;:&quot;customer_stories_link_resources_navbar&quot;}" href="https://github.com/customer-stories">
      Customer Stories

    
</a></li>

                    <li>
  <a class="HeaderMenu-dropdown-link d-block no-underline position-relative py-2 Link--secondary Link--external" target="_blank" data-analytics-event="{&quot;location&quot;:&quot;navbar&quot;,&quot;action&quot;:&quot;partners&quot;,&quot;context&quot;:&quot;resources&quot;,&quot;tag&quot;:&quot;link&quot;,&quot;label&quot;:&quot;partners_link_resources_navbar&quot;}" href="https://partner.github.com">
      Partners

    <svg aria-hidden="true" height="16" viewBox="0 0 16 16" version="1.1" width="16" data-view-component="true" class="octicon octicon-link-external HeaderMenu-external-icon color-fg-subtle">
    <path d="M3.75 2h3.5a.75.75 0 0 1 0 1.5h-3.5a.25.25 0 0 0-.25.25v8.5c0 .138.112.25.25.25h8.5a.25.25 0 0 0 .25-.25v-3.5a.75.75 0 0 1 1.5 0v3.5A1.75 1.75 0 0 1 12.25 14h-8.5A1.75 1.75 0 0 1 2 12.25v-8.5C2 2.784 2.784 2 3.75 2Zm6.854-1h4.146a.25.25 0 0 1 .25.25v4.146a.25.25 0 0 1-.427.177L13.03 4.03 9.28 7.78a.751.751 0 0 1-1.042-.018.751.751 0 0 1-.018-1.042l3.75-3.75-1.543-1.543A.25.25 0 0 1 10.604 1Z"></path>
</svg>
</a></li>

                </ul>
              </div>
          </div>
      </div>
</li>


                <li class="HeaderMenu-item position-relative flex-wrap flex-justify-between flex-items-center d-block d-lg-flex flex-lg-nowrap flex-lg-items-center js-details-container js-header-menu-item">
      <button type="button" class="HeaderMenu-link border-0 width-full width-lg-auto px-0 px-lg-2 py-lg-2 no-wrap d-flex flex-items-center flex-justify-between js-details-target" aria-expanded="false">
        Open Source
        <svg opacity="0.5" aria-hidden="true" height="16" viewBox="0 0 16 16" version="1.1" width="16" data-view-component="true" class="octicon octicon-chevron-down HeaderMenu-icon ml-1">
    <path d="M12.78 5.22a.749.749 0 0 1 0 1.06l-4.25 4.25a.749.749 0 0 1-1.06 0L3.22 6.28a.749.749 0 1 1 1.06-1.06L8 8.939l3.72-3.719a.749.749 0 0 1 1.06 0Z"></path>
</svg>
      </button>
      <div class="HeaderMenu-dropdown dropdown-menu rounded m-0 p-0 pt-2 pt-lg-4 position-relative position-lg-absolute left-0 left-lg-n3 pb-2 pb-lg-4 px-lg-4">
          <div class="HeaderMenu-column">
              <div class="border-bottom pb-3 pb-lg-0 pb-lg-3 mb-3 mb-lg-0 mb-lg-3">
                <ul class="list-style-none f5" >
                    <li>
  <a class="HeaderMenu-dropdown-link d-block no-underline position-relative py-2 Link--secondary d-flex flex-items-center Link--has-description" data-analytics-event="{&quot;location&quot;:&quot;navbar&quot;,&quot;action&quot;:&quot;github_sponsors&quot;,&quot;context&quot;:&quot;open_source&quot;,&quot;tag&quot;:&quot;link&quot;,&quot;label&quot;:&quot;github_sponsors_link_open_source_navbar&quot;}" href="/sponsors">
      
      <div>
        <div class="color-fg-default h4">GitHub Sponsors</div>
        Fund open source developers
      </div>

    
</a></li>

                </ul>
              </div>
              <div class="border-bottom pb-3 pb-lg-0 pb-lg-3 mb-3 mb-lg-0 mb-lg-3">
                <ul class="list-style-none f5" >
                    <li>
  <a class="HeaderMenu-dropdown-link d-block no-underline position-relative py-2 Link--secondary d-flex flex-items-center Link--has-description" data-analytics-event="{&quot;location&quot;:&quot;navbar&quot;,&quot;action&quot;:&quot;the_readme_project&quot;,&quot;context&quot;:&quot;open_source&quot;,&quot;tag&quot;:&quot;link&quot;,&quot;label&quot;:&quot;the_readme_project_link_open_source_navbar&quot;}" href="https://github.com/readme">
      
      <div>
        <div class="color-fg-default h4">The ReadME Project</div>
        GitHub community articles
      </div>

    
</a></li>

                </ul>
              </div>
              <div class="border-bottom pb-3 pb-lg-0 border-bottom-0">
                    <span class="d-block h4 color-fg-default my-1" id="open-source-repositories-heading">Repositories</span>
                <ul class="list-style-none f5" aria-labelledby="open-source-repositories-heading">
                    <li>
  <a class="HeaderMenu-dropdown-link d-block no-underline position-relative py-2 Link--secondary" data-analytics-event="{&quot;location&quot;:&quot;navbar&quot;,&quot;action&quot;:&quot;topics&quot;,&quot;context&quot;:&quot;open_source&quot;,&quot;tag&quot;:&quot;link&quot;,&quot;label&quot;:&quot;topics_link_open_source_navbar&quot;}" href="https://github.com/topics">
      Topics

    
</a></li>

                    <li>
  <a class="HeaderMenu-dropdown-link d-block no-underline position-relative py-2 Link--secondary" data-analytics-event="{&quot;location&quot;:&quot;navbar&quot;,&quot;action&quot;:&quot;trending&quot;,&quot;context&quot;:&quot;open_source&quot;,&quot;tag&quot;:&quot;link&quot;,&quot;label&quot;:&quot;trending_link_open_source_navbar&quot;}" href="https://github.com/trending">
      Trending

    
</a></li>

                    <li>
  <a class="HeaderMenu-dropdown-link d-block no-underline position-relative py-2 Link--secondary" data-analytics-event="{&quot;location&quot;:&quot;navbar&quot;,&quot;action&quot;:&quot;collections&quot;,&quot;context&quot;:&quot;open_source&quot;,&quot;tag&quot;:&quot;link&quot;,&quot;label&quot;:&quot;collections_link_open_source_navbar&quot;}" href="https://github.com/collections">
      Collections

    
</a></li>

                </ul>
              </div>
          </div>
      </div>
</li>


                <li class="HeaderMenu-item position-relative flex-wrap flex-justify-between flex-items-center d-block d-lg-flex flex-lg-nowrap flex-lg-items-center js-details-container js-header-menu-item">
      <button type="button" class="HeaderMenu-link border-0 width-full width-lg-auto px-0 px-lg-2 py-lg-2 no-wrap d-flex flex-items-center flex-justify-between js-details-target" aria-expanded="false">
        Enterprise
        <svg opacity="0.5" aria-hidden="true" height="16" viewBox="0 0 16 16" version="1.1" width="16" data-view-component="true" class="octicon octicon-chevron-down HeaderMenu-icon ml-1">
    <path d="M12.78 5.22a.749.749 0 0 1 0 1.06l-4.25 4.25a.749.749 0 0 1-1.06 0L3.22 6.28a.749.749 0 1 1 1.06-1.06L8 8.939l3.72-3.719a.749.749 0 0 1 1.06 0Z"></path>
</svg>
      </button>
      <div class="HeaderMenu-dropdown dropdown-menu rounded m-0 p-0 pt-2 pt-lg-4 position-relative position-lg-absolute left-0 left-lg-n3 pb-2 pb-lg-4 px-lg-4">
          <div class="HeaderMenu-column">
              <div class="border-bottom pb-3 pb-lg-0 pb-lg-3 mb-3 mb-lg-0 mb-lg-3">
                <ul class="list-style-none f5" >
                    <li>
  <a class="HeaderMenu-dropdown-link d-block no-underline position-relative py-2 Link--secondary d-flex flex-items-center Link--has-description" data-analytics-event="{&quot;location&quot;:&quot;navbar&quot;,&quot;action&quot;:&quot;enterprise_platform&quot;,&quot;context&quot;:&quot;enterprise&quot;,&quot;tag&quot;:&quot;link&quot;,&quot;label&quot;:&quot;enterprise_platform_link_enterprise_navbar&quot;}" href="/enterprise">
      <svg aria-hidden="true" height="24" viewBox="0 0 24 24" version="1.1" width="24" data-view-component="true" class="octicon octicon-stack color-fg-subtle mr-3">
    <path d="M11.063 1.456a1.749 1.749 0 0 1 1.874 0l8.383 5.316a1.751 1.751 0 0 1 0 2.956l-8.383 5.316a1.749 1.749 0 0 1-1.874 0L2.68 9.728a1.751 1.751 0 0 1 0-2.956Zm1.071 1.267a.25.25 0 0 0-.268 0L3.483 8.039a.25.25 0 0 0 0 .422l8.383 5.316a.25.25 0 0 0 .268 0l8.383-5.316a.25.25 0 0 0 0-.422Z"></path><path d="M1.867 12.324a.75.75 0 0 1 1.035-.232l8.964 5.685a.25.25 0 0 0 .268 0l8.964-5.685a.75.75 0 0 1 .804 1.267l-8.965 5.685a1.749 1.749 0 0 1-1.874 0l-8.965-5.685a.75.75 0 0 1-.231-1.035Z"></path><path d="M1.867 16.324a.75.75 0 0 1 1.035-.232l8.964 5.685a.25.25 0 0 0 .268 0l8.964-5.685a.75.75 0 0 1 .804 1.267l-8.965 5.685a1.749 1.749 0 0 1-1.874 0l-8.965-5.685a.75.75 0 0 1-.231-1.035Z"></path>
</svg>
      <div>
        <div class="color-fg-default h4">Enterprise platform</div>
        AI-powered developer platform
      </div>

    
</a></li>

                </ul>
              </div>
              <div class="border-bottom pb-3 pb-lg-0 border-bottom-0">
                    <span class="d-block h4 color-fg-default my-1" id="enterprise-available-add-ons-heading">Available add-ons</span>
                <ul class="list-style-none f5" aria-labelledby="enterprise-available-add-ons-heading">
                    <li>
  <a class="HeaderMenu-dropdown-link d-block no-underline position-relative py-2 Link--secondary d-flex flex-items-center Link--has-description pb-lg-3" data-analytics-event="{&quot;location&quot;:&quot;navbar&quot;,&quot;action&quot;:&quot;advanced_security&quot;,&quot;context&quot;:&quot;enterprise&quot;,&quot;tag&quot;:&quot;link&quot;,&quot;label&quot;:&quot;advanced_security_link_enterprise_navbar&quot;}" href="https://github.com/enterprise/advanced-security">
      <svg aria-hidden="true" height="24" viewBox="0 0 24 24" version="1.1" width="24" data-view-component="true" class="octicon octicon-shield-check color-fg-subtle mr-3">
    <path d="M16.53 9.78a.75.75 0 0 0-1.06-1.06L11 13.19l-1.97-1.97a.75.75 0 0 0-1.06 1.06l2.5 2.5a.75.75 0 0 0 1.06 0l5-5Z"></path><path d="m12.54.637 8.25 2.675A1.75 1.75 0 0 1 22 4.976V10c0 6.19-3.771 10.704-9.401 12.83a1.704 1.704 0 0 1-1.198 0C5.77 20.705 2 16.19 2 10V4.976c0-.758.489-1.43 1.21-1.664L11.46.637a1.748 1.748 0 0 1 1.08 0Zm-.617 1.426-8.25 2.676a.249.249 0 0 0-.173.237V10c0 5.46 3.28 9.483 8.43 11.426a.199.199 0 0 0 .14 0C17.22 19.483 20.5 15.461 20.5 10V4.976a.25.25 0 0 0-.173-.237l-8.25-2.676a.253.253 0 0 0-.154 0Z"></path>
</svg>
      <div>
        <div class="color-fg-default h4">Advanced Security</div>
        Enterprise-grade security features
      </div>

    
</a></li>

                    <li>
  <a class="HeaderMenu-dropdown-link d-block no-underline position-relative py-2 Link--secondary d-flex flex-items-center Link--has-description pb-lg-3" data-analytics-event="{&quot;location&quot;:&quot;navbar&quot;,&quot;action&quot;:&quot;github_copilot&quot;,&quot;context&quot;:&quot;enterprise&quot;,&quot;tag&quot;:&quot;link&quot;,&quot;label&quot;:&quot;github_copilot_link_enterprise_navbar&quot;}" href="/features/copilot#enterprise">
      <svg aria-hidden="true" height="24" viewBox="0 0 24 24" version="1.1" width="24" data-view-component="true" class="octicon octicon-copilot color-fg-subtle mr-3">
    <path d="M23.922 16.992c-.861 1.495-5.859 5.023-11.922 5.023-6.063 0-11.061-3.528-11.922-5.023A.641.641 0 0 1 0 16.736v-2.869a.841.841 0 0 1 .053-.22c.372-.935 1.347-2.292 2.605-2.656.167-.429.414-1.055.644-1.517a10.195 10.195 0 0 1-.052-1.086c0-1.331.282-2.499 1.132-3.368.397-.406.89-.717 1.474-.952 1.399-1.136 3.392-2.093 6.122-2.093 2.731 0 4.767.957 6.166 2.093.584.235 1.077.546 1.474.952.85.869 1.132 2.037 1.132 3.368 0 .368-.014.733-.052 1.086.23.462.477 1.088.644 1.517 1.258.364 2.233 1.721 2.605 2.656a.832.832 0 0 1 .053.22v2.869a.641.641 0 0 1-.078.256ZM12.172 11h-.344a4.323 4.323 0 0 1-.355.508C10.703 12.455 9.555 13 7.965 13c-1.725 0-2.989-.359-3.782-1.259a2.005 2.005 0 0 1-.085-.104L4 11.741v6.585c1.435.779 4.514 2.179 8 2.179 3.486 0 6.565-1.4 8-2.179v-6.585l-.098-.104s-.033.045-.085.104c-.793.9-2.057 1.259-3.782 1.259-1.59 0-2.738-.545-3.508-1.492a4.323 4.323 0 0 1-.355-.508h-.016.016Zm.641-2.935c.136 1.057.403 1.913.878 2.497.442.544 1.134.938 2.344.938 1.573 0 2.292-.337 2.657-.751.384-.435.558-1.15.558-2.361 0-1.14-.243-1.847-.705-2.319-.477-.488-1.319-.862-2.824-1.025-1.487-.161-2.192.138-2.533.529-.269.307-.437.808-.438 1.578v.021c0 .265.021.562.063.893Zm-1.626 0c.042-.331.063-.628.063-.894v-.02c-.001-.77-.169-1.271-.438-1.578-.341-.391-1.046-.69-2.533-.529-1.505.163-2.347.537-2.824 1.025-.462.472-.705 1.179-.705 2.319 0 1.211.175 1.926.558 2.361.365.414 1.084.751 2.657.751 1.21 0 1.902-.394 2.344-.938.475-.584.742-1.44.878-2.497Z"></path><path d="M14.5 14.25a1 1 0 0 1 1 1v2a1 1 0 0 1-2 0v-2a1 1 0 0 1 1-1Zm-5 0a1 1 0 0 1 1 1v2a1 1 0 0 1-2 0v-2a1 1 0 0 1 1-1Z"></path>
</svg>
      <div>
        <div class="color-fg-default h4">GitHub Copilot</div>
        Enterprise-grade AI features
      </div>

    
</a></li>

                    <li>
  <a class="HeaderMenu-dropdown-link d-block no-underline position-relative py-2 Link--secondary d-flex flex-items-center Link--has-description" data-analytics-event="{&quot;location&quot;:&quot;navbar&quot;,&quot;action&quot;:&quot;premium_support&quot;,&quot;context&quot;:&quot;enterprise&quot;,&quot;tag&quot;:&quot;link&quot;,&quot;label&quot;:&quot;premium_support_link_enterprise_navbar&quot;}" href="/premium-support">
      <svg aria-hidden="true" height="24" viewBox="0 0 24 24" version="1.1" width="24" data-view-component="true" class="octicon octicon-comment-discussion color-fg-subtle mr-3">
    <path d="M1.75 1h12.5c.966 0 1.75.784 1.75 1.75v9.5A1.75 1.75 0 0 1 14.25 14H8.061l-2.574 2.573A1.458 1.458 0 0 1 3 15.543V14H1.75A1.75 1.75 0 0 1 0 12.25v-9.5C0 1.784.784 1 1.75 1ZM1.5 2.75v9.5c0 .138.112.25.25.25h2a.75.75 0 0 1 .75.75v2.19l2.72-2.72a.749.749 0 0 1 .53-.22h6.5a.25.25 0 0 0 .25-.25v-9.5a.25.25 0 0 0-.25-.25H1.75a.25.25 0 0 0-.25.25Z"></path><path d="M22.5 8.75a.25.25 0 0 0-.25-.25h-3.5a.75.75 0 0 1 0-1.5h3.5c.966 0 1.75.784 1.75 1.75v9.5A1.75 1.75 0 0 1 22.25 20H21v1.543a1.457 1.457 0 0 1-2.487 1.03L15.939 20H10.75A1.75 1.75 0 0 1 9 18.25v-1.465a.75.75 0 0 1 1.5 0v1.465c0 .138.112.25.25.25h5.5a.75.75 0 0 1 .53.22l2.72 2.72v-2.19a.75.75 0 0 1 .75-.75h2a.25.25 0 0 0 .25-.25v-9.5Z"></path>
</svg>
      <div>
        <div class="color-fg-default h4">Premium Support</div>
        Enterprise-grade 24/7 support
      </div>

    
</a></li>

                </ul>
              </div>
          </div>
      </div>
</li>


                <li class="HeaderMenu-item position-relative flex-wrap flex-justify-between flex-items-center d-block d-lg-flex flex-lg-nowrap flex-lg-items-center js-details-container js-header-menu-item">
    <a class="HeaderMenu-link no-underline px-0 px-lg-2 py-3 py-lg-2 d-block d-lg-inline-block" data-analytics-event="{&quot;location&quot;:&quot;navbar&quot;,&quot;action&quot;:&quot;pricing&quot;,&quot;context&quot;:&quot;global&quot;,&quot;tag&quot;:&quot;link&quot;,&quot;label&quot;:&quot;pricing_link_global_navbar&quot;}" href="https://github.com/pricing">Pricing</a>
</li>

            </ul>
          </nav>

        <div class="d-flex flex-column flex-lg-row width-full flex-justify-end flex-lg-items-center text-center mt-3 mt-lg-0 text-lg-left ml-lg-3">
                


<qbsearch-input class="search-input" data-scope="repo:haesleinhuepf/git-bob-playground" data-custom-scopes-path="/search/custom_scopes" data-delete-custom-scopes-csrf="QDl_udhgE8MAOzj2UteyuyqD_UD30jt2XrVSOtFY0Ul2uYfnbGMydMziDh1bcaA6ynoJF4-L4D-J8x1jrSEd2A" data-max-custom-scopes="10" data-header-redesign-enabled="false" data-initial-value="" data-blackbird-suggestions-path="/search/suggestions" data-jump-to-suggestions-path="/_graphql/GetSuggestedNavigationDestinations" data-current-repository="haesleinhuepf/git-bob-playground" data-current-org="" data-current-owner="haesleinhuepf" data-logged-in="false" data-copilot-chat-enabled="false" data-nl-search-enabled="false" data-retain-scroll-position="true">
  <div
    class="search-input-container search-with-dialog position-relative d-flex flex-row flex-items-center mr-4 rounded"
    data-action="click:qbsearch-input#searchInputContainerClicked"
  >
      <button
        type="button"
        class="header-search-button placeholder  input-button form-control d-flex flex-1 flex-self-stretch flex-items-center no-wrap width-full py-0 pl-2 pr-0 text-left border-0 box-shadow-none"
        data-target="qbsearch-input.inputButton"
        aria-label="Search or jump to…"
        aria-haspopup="dialog"
        placeholder="Search or jump to..."
        data-hotkey=s,/
        autocapitalize="off"
        data-analytics-event="{&quot;location&quot;:&quot;navbar&quot;,&quot;action&quot;:&quot;searchbar&quot;,&quot;context&quot;:&quot;global&quot;,&quot;tag&quot;:&quot;input&quot;,&quot;label&quot;:&quot;searchbar_input_global_navbar&quot;}"
        data-action="click:qbsearch-input#handleExpand"
      >
        <div class="mr-2 color-fg-muted">
          <svg aria-hidden="true" height="16" viewBox="0 0 16 16" version="1.1" width="16" data-view-component="true" class="octicon octicon-search">
    <path d="M10.68 11.74a6 6 0 0 1-7.922-8.982 6 6 0 0 1 8.982 7.922l3.04 3.04a.749.749 0 0 1-.326 1.275.749.749 0 0 1-.734-.215ZM11.5 7a4.499 4.499 0 1 0-8.997 0A4.499 4.499 0 0 0 11.5 7Z"></path>
</svg>
        </div>
        <span class="flex-1" data-target="qbsearch-input.inputButtonText">Search or jump to...</span>
          <div class="d-flex" data-target="qbsearch-input.hotkeyIndicator">
            <svg xmlns="http://www.w3.org/2000/svg" width="22" height="20" aria-hidden="true" class="mr-1"><path fill="none" stroke="#979A9C" opacity=".4" d="M3.5.5h12c1.7 0 3 1.3 3 3v13c0 1.7-1.3 3-3 3h-12c-1.7 0-3-1.3-3-3v-13c0-1.7 1.3-3 3-3z"></path><path fill="#979A9C" d="M11.8 6L8 15.1h-.9L10.8 6h1z"></path></svg>

          </div>
      </button>

    <input type="hidden" name="type" class="js-site-search-type-field">

    
<div class="Overlay--hidden " data-modal-dialog-overlay>
  <modal-dialog data-action="close:qbsearch-input#handleClose cancel:qbsearch-input#handleClose" data-target="qbsearch-input.searchSuggestionsDialog" role="dialog" id="search-suggestions-dialog" aria-modal="true" aria-labelledby="search-suggestions-dialog-header" data-view-component="true" class="Overlay Overlay--width-large Overlay--height-auto">
      <h1 id="search-suggestions-dialog-header" class="sr-only">Search code, repositories, users, issues, pull requests...</h1>
    <div class="Overlay-body Overlay-body--paddingNone">
      
          <div data-view-component="true">        <div class="search-suggestions position-fixed width-full color-shadow-large border color-fg-default color-bg-default overflow-hidden d-flex flex-column query-builder-container"
          style="border-radius: 12px;"
          data-target="qbsearch-input.queryBuilderContainer"
          hidden
        >
          <!-- '"` --><!-- </textarea></xmp> --></option></form><form id="query-builder-test-form" action="" accept-charset="UTF-8" method="get">
  <query-builder data-target="qbsearch-input.queryBuilder" id="query-builder-query-builder-test" data-filter-key=":" data-view-component="true" class="QueryBuilder search-query-builder">
    <div class="FormControl FormControl--fullWidth">
      <label id="query-builder-test-label" for="query-builder-test" class="FormControl-label sr-only">
        Search
      </label>
      <div
        class="QueryBuilder-StyledInput width-fit "
        data-target="query-builder.styledInput"
      >
          <span id="query-builder-test-leadingvisual-wrap" class="FormControl-input-leadingVisualWrap QueryBuilder-leadingVisualWrap">
            <svg aria-hidden="true" height="16" viewBox="0 0 16 16" version="1.1" width="16" data-view-component="true" class="octicon octicon-search FormControl-input-leadingVisual">
    <path d="M10.68 11.74a6 6 0 0 1-7.922-8.982 6 6 0 0 1 8.982 7.922l3.04 3.04a.749.749 0 0 1-.326 1.275.749.749 0 0 1-.734-.215ZM11.5 7a4.499 4.499 0 1 0-8.997 0A4.499 4.499 0 0 0 11.5 7Z"></path>
</svg>
          </span>
        <div data-target="query-builder.styledInputContainer" class="QueryBuilder-StyledInputContainer">
          <div
            aria-hidden="true"
            class="QueryBuilder-StyledInputContent"
            data-target="query-builder.styledInputContent"
          ></div>
          <div class="QueryBuilder-InputWrapper">
            <div aria-hidden="true" class="QueryBuilder-Sizer" data-target="query-builder.sizer"></div>
            <input id="query-builder-test" name="query-builder-test" value="" autocomplete="off" type="text" role="combobox" spellcheck="false" aria-expanded="false" aria-describedby="validation-c58c44cb-10bd-4981-b422-901820208ccc" data-target="query-builder.input" data-action="
          input:query-builder#inputChange
          blur:query-builder#inputBlur
          keydown:query-builder#inputKeydown
          focus:query-builder#inputFocus
        " data-view-component="true" class="FormControl-input QueryBuilder-Input FormControl-medium" />
          </div>
        </div>
          <span class="sr-only" id="query-builder-test-clear">Clear</span>
          <button role="button" id="query-builder-test-clear-button" aria-labelledby="query-builder-test-clear query-builder-test-label" data-target="query-builder.clearButton" data-action="
                click:query-builder#clear
                focus:query-builder#clearButtonFocus
                blur:query-builder#clearButtonBlur
              " variant="small" hidden="hidden" type="button" data-view-component="true" class="Button Button--iconOnly Button--invisible Button--medium mr-1 px-2 py-0 d-flex flex-items-center rounded-1 color-fg-muted">  <svg aria-hidden="true" height="16" viewBox="0 0 16 16" version="1.1" width="16" data-view-component="true" class="octicon octicon-x-circle-fill Button-visual">
    <path d="M2.343 13.657A8 8 0 1 1 13.658 2.343 8 8 0 0 1 2.343 13.657ZM6.03 4.97a.751.751 0 0 0-1.042.018.751.751 0 0 0-.018 1.042L6.94 8 4.97 9.97a.749.749 0 0 0 .326 1.275.749.749 0 0 0 .734-.215L8 9.06l1.97 1.97a.749.749 0 0 0 1.275-.326.749.749 0 0 0-.215-.734L9.06 8l1.97-1.97a.749.749 0 0 0-.326-1.275.749.749 0 0 0-.734.215L8 6.94Z"></path>
</svg>
</button>

      </div>
      <template id="search-icon">
  <svg aria-hidden="true" height="16" viewBox="0 0 16 16" version="1.1" width="16" data-view-component="true" class="octicon octicon-search">
    <path d="M10.68 11.74a6 6 0 0 1-7.922-8.982 6 6 0 0 1 8.982 7.922l3.04 3.04a.749.749 0 0 1-.326 1.275.749.749 0 0 1-.734-.215ZM11.5 7a4.499 4.499 0 1 0-8.997 0A4.499 4.499 0 0 0 11.5 7Z"></path>
</svg>
</template>

<template id="code-icon">
  <svg aria-hidden="true" height="16" viewBox="0 0 16 16" version="1.1" width="16" data-view-component="true" class="octicon octicon-code">
    <path d="m11.28 3.22 4.25 4.25a.75.75 0 0 1 0 1.06l-4.25 4.25a.749.749 0 0 1-1.275-.326.749.749 0 0 1 .215-.734L13.94 8l-3.72-3.72a.749.749 0 0 1 .326-1.275.749.749 0 0 1 .734.215Zm-6.56 0a.751.751 0 0 1 1.042.018.751.751 0 0 1 .018 1.042L2.06 8l3.72 3.72a.749.749 0 0 1-.326 1.275.749.749 0 0 1-.734-.215L.47 8.53a.75.75 0 0 1 0-1.06Z"></path>
</svg>
</template>

<template id="file-code-icon">
  <svg aria-hidden="true" height="16" viewBox="0 0 16 16" version="1.1" width="16" data-view-component="true" class="octicon octicon-file-code">
    <path d="M4 1.75C4 .784 4.784 0 5.75 0h5.586c.464 0 .909.184 1.237.513l2.914 2.914c.329.328.513.773.513 1.237v8.586A1.75 1.75 0 0 1 14.25 15h-9a.75.75 0 0 1 0-1.5h9a.25.25 0 0 0 .25-.25V6h-2.75A1.75 1.75 0 0 1 10 4.25V1.5H5.75a.25.25 0 0 0-.25.25v2.5a.75.75 0 0 1-1.5 0Zm1.72 4.97a.75.75 0 0 1 1.06 0l2 2a.75.75 0 0 1 0 1.06l-2 2a.749.749 0 0 1-1.275-.326.749.749 0 0 1 .215-.734l1.47-1.47-1.47-1.47a.75.75 0 0 1 0-1.06ZM3.28 7.78 1.81 9.25l1.47 1.47a.751.751 0 0 1-.018 1.042.751.751 0 0 1-1.042.018l-2-2a.75.75 0 0 1 0-1.06l2-2a.751.751 0 0 1 1.042.018.751.751 0 0 1 .018 1.042Zm8.22-6.218V4.25c0 .138.112.25.25.25h2.688l-.011-.013-2.914-2.914-.013-.011Z"></path>
</svg>
</template>

<template id="history-icon">
  <svg aria-hidden="true" height="16" viewBox="0 0 16 16" version="1.1" width="16" data-view-component="true" class="octicon octicon-history">
    <path d="m.427 1.927 1.215 1.215a8.002 8.002 0 1 1-1.6 5.685.75.75 0 1 1 1.493-.154 6.5 6.5 0 1 0 1.18-4.458l1.358 1.358A.25.25 0 0 1 3.896 6H.25A.25.25 0 0 1 0 5.75V2.104a.25.25 0 0 1 .427-.177ZM7.75 4a.75.75 0 0 1 .75.75v2.992l2.028.812a.75.75 0 0 1-.557 1.392l-2.5-1A.751.751 0 0 1 7 8.25v-3.5A.75.75 0 0 1 7.75 4Z"></path>
</svg>
</template>

<template id="repo-icon">
  <svg aria-hidden="true" height="16" viewBox="0 0 16 16" version="1.1" width="16" data-view-component="true" class="octicon octicon-repo">
    <path d="M2 2.5A2.5 2.5 0 0 1 4.5 0h8.75a.75.75 0 0 1 .75.75v12.5a.75.75 0 0 1-.75.75h-2.5a.75.75 0 0 1 0-1.5h1.75v-2h-8a1 1 0 0 0-.714 1.7.75.75 0 1 1-1.072 1.05A2.495 2.495 0 0 1 2 11.5Zm10.5-1h-8a1 1 0 0 0-1 1v6.708A2.486 2.486 0 0 1 4.5 9h8ZM5 12.25a.25.25 0 0 1 .25-.25h3.5a.25.25 0 0 1 .25.25v3.25a.25.25 0 0 1-.4.2l-1.45-1.087a.249.249 0 0 0-.3 0L5.4 15.7a.25.25 0 0 1-.4-.2Z"></path>
</svg>
</template>

<template id="bookmark-icon">
  <svg aria-hidden="true" height="16" viewBox="0 0 16 16" version="1.1" width="16" data-view-component="true" class="octicon octicon-bookmark">
    <path d="M3 2.75C3 1.784 3.784 1 4.75 1h6.5c.966 0 1.75.784 1.75 1.75v11.5a.75.75 0 0 1-1.227.579L8 11.722l-3.773 3.107A.751.751 0 0 1 3 14.25Zm1.75-.25a.25.25 0 0 0-.25.25v9.91l3.023-2.489a.75.75 0 0 1 .954 0l3.023 2.49V2.75a.25.25 0 0 0-.25-.25Z"></path>
</svg>
</template>

<template id="plus-circle-icon">
  <svg aria-hidden="true" height="16" viewBox="0 0 16 16" version="1.1" width="16" data-view-component="true" class="octicon octicon-plus-circle">
    <path d="M8 0a8 8 0 1 1 0 16A8 8 0 0 1 8 0ZM1.5 8a6.5 6.5 0 1 0 13 0 6.5 6.5 0 0 0-13 0Zm7.25-3.25v2.5h2.5a.75.75 0 0 1 0 1.5h-2.5v2.5a.75.75 0 0 1-1.5 0v-2.5h-2.5a.75.75 0 0 1 0-1.5h2.5v-2.5a.75.75 0 0 1 1.5 0Z"></path>
</svg>
</template>

<template id="circle-icon">
  <svg aria-hidden="true" height="16" viewBox="0 0 16 16" version="1.1" width="16" data-view-component="true" class="octicon octicon-dot-fill">
    <path d="M8 4a4 4 0 1 1 0 8 4 4 0 0 1 0-8Z"></path>
</svg>
</template>

<template id="trash-icon">
  <svg aria-hidden="true" height="16" viewBox="0 0 16 16" version="1.1" width="16" data-view-component="true" class="octicon octicon-trash">
    <path d="M11 1.75V3h2.25a.75.75 0 0 1 0 1.5H2.75a.75.75 0 0 1 0-1.5H5V1.75C5 .784 5.784 0 6.75 0h2.5C10.216 0 11 .784 11 1.75ZM4.496 6.675l.66 6.6a.25.25 0 0 0 .249.225h5.19a.25.25 0 0 0 .249-.225l.66-6.6a.75.75 0 0 1 1.492.149l-.66 6.6A1.748 1.748 0 0 1 10.595 15h-5.19a1.75 1.75 0 0 1-1.741-1.575l-.66-6.6a.75.75 0 1 1 1.492-.15ZM6.5 1.75V3h3V1.75a.25.25 0 0 0-.25-.25h-2.5a.25.25 0 0 0-.25.25Z"></path>
</svg>
</template>

<template id="team-icon">
  <svg aria-hidden="true" height="16" viewBox="0 0 16 16" version="1.1" width="16" data-view-component="true" class="octicon octicon-people">
    <path d="M2 5.5a3.5 3.5 0 1 1 5.898 2.549 5.508 5.508 0 0 1 3.034 4.084.75.75 0 1 1-1.482.235 4 4 0 0 0-7.9 0 .75.75 0 0 1-1.482-.236A5.507 5.507 0 0 1 3.102 8.05 3.493 3.493 0 0 1 2 5.5ZM11 4a3.001 3.001 0 0 1 2.22 5.018 5.01 5.01 0 0 1 2.56 3.012.749.749 0 0 1-.885.954.752.752 0 0 1-.549-.514 3.507 3.507 0 0 0-2.522-2.372.75.75 0 0 1-.574-.73v-.352a.75.75 0 0 1 .416-.672A1.5 1.5 0 0 0 11 5.5.75.75 0 0 1 11 4Zm-5.5-.5a2 2 0 1 0-.001 3.999A2 2 0 0 0 5.5 3.5Z"></path>
</svg>
</template>

<template id="project-icon">
  <svg aria-hidden="true" height="16" viewBox="0 0 16 16" version="1.1" width="16" data-view-component="true" class="octicon octicon-project">
    <path d="M1.75 0h12.5C15.216 0 16 .784 16 1.75v12.5A1.75 1.75 0 0 1 14.25 16H1.75A1.75 1.75 0 0 1 0 14.25V1.75C0 .784.784 0 1.75 0ZM1.5 1.75v12.5c0 .138.112.25.25.25h12.5a.25.25 0 0 0 .25-.25V1.75a.25.25 0 0 0-.25-.25H1.75a.25.25 0 0 0-.25.25ZM11.75 3a.75.75 0 0 1 .75.75v7.5a.75.75 0 0 1-1.5 0v-7.5a.75.75 0 0 1 .75-.75Zm-8.25.75a.75.75 0 0 1 1.5 0v5.5a.75.75 0 0 1-1.5 0ZM8 3a.75.75 0 0 1 .75.75v3.5a.75.75 0 0 1-1.5 0v-3.5A.75.75 0 0 1 8 3Z"></path>
</svg>
</template>

<template id="pencil-icon">
  <svg aria-hidden="true" height="16" viewBox="0 0 16 16" version="1.1" width="16" data-view-component="true" class="octicon octicon-pencil">
    <path d="M11.013 1.427a1.75 1.75 0 0 1 2.474 0l1.086 1.086a1.75 1.75 0 0 1 0 2.474l-8.61 8.61c-.21.21-.47.364-.756.445l-3.251.93a.75.75 0 0 1-.927-.928l.929-3.25c.081-.286.235-.547.445-.758l8.61-8.61Zm.176 4.823L9.75 4.81l-6.286 6.287a.253.253 0 0 0-.064.108l-.558 1.953 1.953-.558a.253.253 0 0 0 .108-.064Zm1.238-3.763a.25.25 0 0 0-.354 0L10.811 3.75l1.439 1.44 1.263-1.263a.25.25 0 0 0 0-.354Z"></path>
</svg>
</template>

<template id="copilot-icon">
  <svg aria-hidden="true" height="16" viewBox="0 0 16 16" version="1.1" width="16" data-view-component="true" class="octicon octicon-copilot">
    <path d="M7.998 15.035c-4.562 0-7.873-2.914-7.998-3.749V9.338c.085-.628.677-1.686 1.588-2.065.013-.07.024-.143.036-.218.029-.183.06-.384.126-.612-.201-.508-.254-1.084-.254-1.656 0-.87.128-1.769.693-2.484.579-.733 1.494-1.124 2.724-1.261 1.206-.134 2.262.034 2.944.765.05.053.096.108.139.165.044-.057.094-.112.143-.165.682-.731 1.738-.899 2.944-.765 1.23.137 2.145.528 2.724 1.261.566.715.693 1.614.693 2.484 0 .572-.053 1.148-.254 1.656.066.228.098.429.126.612.012.076.024.148.037.218.924.385 1.522 1.471 1.591 2.095v1.872c0 .766-3.351 3.795-8.002 3.795Zm0-1.485c2.28 0 4.584-1.11 5.002-1.433V7.862l-.023-.116c-.49.21-1.075.291-1.727.291-1.146 0-2.059-.327-2.71-.991A3.222 3.222 0 0 1 8 6.303a3.24 3.24 0 0 1-.544.743c-.65.664-1.563.991-2.71.991-.652 0-1.236-.081-1.727-.291l-.023.116v4.255c.419.323 2.722 1.433 5.002 1.433ZM6.762 2.83c-.193-.206-.637-.413-1.682-.297-1.019.113-1.479.404-1.713.7-.247.312-.369.789-.369 1.554 0 .793.129 1.171.308 1.371.162.181.519.379 1.442.379.853 0 1.339-.235 1.638-.54.315-.322.527-.827.617-1.553.117-.935-.037-1.395-.241-1.614Zm4.155-.297c-1.044-.116-1.488.091-1.681.297-.204.219-.359.679-.242 1.614.091.726.303 1.231.618 1.553.299.305.784.54 1.638.54.922 0 1.28-.198 1.442-.379.179-.2.308-.578.308-1.371 0-.765-.123-1.242-.37-1.554-.233-.296-.693-.587-1.713-.7Z"></path><path d="M6.25 9.037a.75.75 0 0 1 .75.75v1.501a.75.75 0 0 1-1.5 0V9.787a.75.75 0 0 1 .75-.75Zm4.25.75v1.501a.75.75 0 0 1-1.5 0V9.787a.75.75 0 0 1 1.5 0Z"></path>
</svg>
</template>

<template id="copilot-error-icon">
  <svg aria-hidden="true" height="16" viewBox="0 0 16 16" version="1.1" width="16" data-view-component="true" class="octicon octicon-copilot-error">
    <path d="M16 11.24c0 .112-.072.274-.21.467L13 9.688V7.862l-.023-.116c-.49.21-1.075.291-1.727.291-.198 0-.388-.009-.571-.029L6.833 5.226a4.01 4.01 0 0 0 .17-.782c.117-.935-.037-1.395-.241-1.614-.193-.206-.637-.413-1.682-.297-.683.076-1.115.231-1.395.415l-1.257-.91c.579-.564 1.413-.877 2.485-.996 1.206-.134 2.262.034 2.944.765.05.053.096.108.139.165.044-.057.094-.112.143-.165.682-.731 1.738-.899 2.944-.765 1.23.137 2.145.528 2.724 1.261.566.715.693 1.614.693 2.484 0 .572-.053 1.148-.254 1.656.066.228.098.429.126.612.012.076.024.148.037.218.924.385 1.522 1.471 1.591 2.095Zm-5.083-8.707c-1.044-.116-1.488.091-1.681.297-.204.219-.359.679-.242 1.614.091.726.303 1.231.618 1.553.299.305.784.54 1.638.54.922 0 1.28-.198 1.442-.379.179-.2.308-.578.308-1.371 0-.765-.123-1.242-.37-1.554-.233-.296-.693-.587-1.713-.7Zm2.511 11.074c-1.393.776-3.272 1.428-5.43 1.428-4.562 0-7.873-2.914-7.998-3.749V9.338c.085-.628.677-1.686 1.588-2.065.013-.07.024-.143.036-.218.029-.183.06-.384.126-.612-.18-.455-.241-.963-.252-1.475L.31 4.107A.747.747 0 0 1 0 3.509V3.49a.748.748 0 0 1 .625-.73c.156-.026.306.047.435.139l14.667 10.578a.592.592 0 0 1 .227.264.752.752 0 0 1 .046.249v.022a.75.75 0 0 1-1.19.596Zm-1.367-.991L5.635 7.964a5.128 5.128 0 0 1-.889.073c-.652 0-1.236-.081-1.727-.291l-.023.116v4.255c.419.323 2.722 1.433 5.002 1.433 1.539 0 3.089-.505 4.063-.934Z"></path>
</svg>
</template>

<template id="workflow-icon">
  <svg aria-hidden="true" height="16" viewBox="0 0 16 16" version="1.1" width="16" data-view-component="true" class="octicon octicon-workflow">
    <path d="M0 1.75C0 .784.784 0 1.75 0h3.5C6.216 0 7 .784 7 1.75v3.5A1.75 1.75 0 0 1 5.25 7H4v4a1 1 0 0 0 1 1h4v-1.25C9 9.784 9.784 9 10.75 9h3.5c.966 0 1.75.784 1.75 1.75v3.5A1.75 1.75 0 0 1 14.25 16h-3.5A1.75 1.75 0 0 1 9 14.25v-.75H5A2.5 2.5 0 0 1 2.5 11V7h-.75A1.75 1.75 0 0 1 0 5.25Zm1.75-.25a.25.25 0 0 0-.25.25v3.5c0 .138.112.25.25.25h3.5a.25.25 0 0 0 .25-.25v-3.5a.25.25 0 0 0-.25-.25Zm9 9a.25.25 0 0 0-.25.25v3.5c0 .138.112.25.25.25h3.5a.25.25 0 0 0 .25-.25v-3.5a.25.25 0 0 0-.25-.25Z"></path>
</svg>
</template>

<template id="book-icon">
  <svg aria-hidden="true" height="16" viewBox="0 0 16 16" version="1.1" width="16" data-view-component="true" class="octicon octicon-book">
    <path d="M0 1.75A.75.75 0 0 1 .75 1h4.253c1.227 0 2.317.59 3 1.501A3.743 3.743 0 0 1 11.006 1h4.245a.75.75 0 0 1 .75.75v10.5a.75.75 0 0 1-.75.75h-4.507a2.25 2.25 0 0 0-1.591.659l-.622.621a.75.75 0 0 1-1.06 0l-.622-.621A2.25 2.25 0 0 0 5.258 13H.75a.75.75 0 0 1-.75-.75Zm7.251 10.324.004-5.073-.002-2.253A2.25 2.25 0 0 0 5.003 2.5H1.5v9h3.757a3.75 3.75 0 0 1 1.994.574ZM8.755 4.75l-.004 7.322a3.752 3.752 0 0 1 1.992-.572H14.5v-9h-3.495a2.25 2.25 0 0 0-2.25 2.25Z"></path>
</svg>
</template>

<template id="code-review-icon">
  <svg aria-hidden="true" height="16" viewBox="0 0 16 16" version="1.1" width="16" data-view-component="true" class="octicon octicon-code-review">
    <path d="M1.75 1h12.5c.966 0 1.75.784 1.75 1.75v8.5A1.75 1.75 0 0 1 14.25 13H8.061l-2.574 2.573A1.458 1.458 0 0 1 3 14.543V13H1.75A1.75 1.75 0 0 1 0 11.25v-8.5C0 1.784.784 1 1.75 1ZM1.5 2.75v8.5c0 .138.112.25.25.25h2a.75.75 0 0 1 .75.75v2.19l2.72-2.72a.749.749 0 0 1 .53-.22h6.5a.25.25 0 0 0 .25-.25v-8.5a.25.25 0 0 0-.25-.25H1.75a.25.25 0 0 0-.25.25Zm5.28 1.72a.75.75 0 0 1 0 1.06L5.31 7l1.47 1.47a.751.751 0 0 1-.018 1.042.751.751 0 0 1-1.042.018l-2-2a.75.75 0 0 1 0-1.06l2-2a.75.75 0 0 1 1.06 0Zm2.44 0a.75.75 0 0 1 1.06 0l2 2a.75.75 0 0 1 0 1.06l-2 2a.751.751 0 0 1-1.042-.018.751.751 0 0 1-.018-1.042L10.69 7 9.22 5.53a.75.75 0 0 1 0-1.06Z"></path>
</svg>
</template>

<template id="codespaces-icon">
  <svg aria-hidden="true" height="16" viewBox="0 0 16 16" version="1.1" width="16" data-view-component="true" class="octicon octicon-codespaces">
    <path d="M0 11.25c0-.966.784-1.75 1.75-1.75h12.5c.966 0 1.75.784 1.75 1.75v3A1.75 1.75 0 0 1 14.25 16H1.75A1.75 1.75 0 0 1 0 14.25Zm2-9.5C2 .784 2.784 0 3.75 0h8.5C13.216 0 14 .784 14 1.75v5a1.75 1.75 0 0 1-1.75 1.75h-8.5A1.75 1.75 0 0 1 2 6.75Zm1.75-.25a.25.25 0 0 0-.25.25v5c0 .138.112.25.25.25h8.5a.25.25 0 0 0 .25-.25v-5a.25.25 0 0 0-.25-.25Zm-2 9.5a.25.25 0 0 0-.25.25v3c0 .138.112.25.25.25h12.5a.25.25 0 0 0 .25-.25v-3a.25.25 0 0 0-.25-.25Z"></path><path d="M7 12.75a.75.75 0 0 1 .75-.75h4.5a.75.75 0 0 1 0 1.5h-4.5a.75.75 0 0 1-.75-.75Zm-4 0a.75.75 0 0 1 .75-.75h.5a.75.75 0 0 1 0 1.5h-.5a.75.75 0 0 1-.75-.75Z"></path>
</svg>
</template>

<template id="comment-icon">
  <svg aria-hidden="true" height="16" viewBox="0 0 16 16" version="1.1" width="16" data-view-component="true" class="octicon octicon-comment">
    <path d="M1 2.75C1 1.784 1.784 1 2.75 1h10.5c.966 0 1.75.784 1.75 1.75v7.5A1.75 1.75 0 0 1 13.25 12H9.06l-2.573 2.573A1.458 1.458 0 0 1 4 13.543V12H2.75A1.75 1.75 0 0 1 1 10.25Zm1.75-.25a.25.25 0 0 0-.25.25v7.5c0 .138.112.25.25.25h2a.75.75 0 0 1 .75.75v2.19l2.72-2.72a.749.749 0 0 1 .53-.22h4.5a.25.25 0 0 0 .25-.25v-7.5a.25.25 0 0 0-.25-.25Z"></path>
</svg>
</template>

<template id="comment-discussion-icon">
  <svg aria-hidden="true" height="16" viewBox="0 0 16 16" version="1.1" width="16" data-view-component="true" class="octicon octicon-comment-discussion">
    <path d="M1.75 1h8.5c.966 0 1.75.784 1.75 1.75v5.5A1.75 1.75 0 0 1 10.25 10H7.061l-2.574 2.573A1.458 1.458 0 0 1 2 11.543V10h-.25A1.75 1.75 0 0 1 0 8.25v-5.5C0 1.784.784 1 1.75 1ZM1.5 2.75v5.5c0 .138.112.25.25.25h1a.75.75 0 0 1 .75.75v2.19l2.72-2.72a.749.749 0 0 1 .53-.22h3.5a.25.25 0 0 0 .25-.25v-5.5a.25.25 0 0 0-.25-.25h-8.5a.25.25 0 0 0-.25.25Zm13 2a.25.25 0 0 0-.25-.25h-.5a.75.75 0 0 1 0-1.5h.5c.966 0 1.75.784 1.75 1.75v5.5A1.75 1.75 0 0 1 14.25 12H14v1.543a1.458 1.458 0 0 1-2.487 1.03L9.22 12.28a.749.749 0 0 1 .326-1.275.749.749 0 0 1 .734.215l2.22 2.22v-2.19a.75.75 0 0 1 .75-.75h1a.25.25 0 0 0 .25-.25Z"></path>
</svg>
</template>

<template id="organization-icon">
  <svg aria-hidden="true" height="16" viewBox="0 0 16 16" version="1.1" width="16" data-view-component="true" class="octicon octicon-organization">
    <path d="M1.75 16A1.75 1.75 0 0 1 0 14.25V1.75C0 .784.784 0 1.75 0h8.5C11.216 0 12 .784 12 1.75v12.5c0 .085-.006.168-.018.25h2.268a.25.25 0 0 0 .25-.25V8.285a.25.25 0 0 0-.111-.208l-1.055-.703a.749.749 0 1 1 .832-1.248l1.055.703c.487.325.779.871.779 1.456v5.965A1.75 1.75 0 0 1 14.25 16h-3.5a.766.766 0 0 1-.197-.026c-.099.017-.2.026-.303.026h-3a.75.75 0 0 1-.75-.75V14h-1v1.25a.75.75 0 0 1-.75.75Zm-.25-1.75c0 .138.112.25.25.25H4v-1.25a.75.75 0 0 1 .75-.75h2.5a.75.75 0 0 1 .75.75v1.25h2.25a.25.25 0 0 0 .25-.25V1.75a.25.25 0 0 0-.25-.25h-8.5a.25.25 0 0 0-.25.25ZM3.75 6h.5a.75.75 0 0 1 0 1.5h-.5a.75.75 0 0 1 0-1.5ZM3 3.75A.75.75 0 0 1 3.75 3h.5a.75.75 0 0 1 0 1.5h-.5A.75.75 0 0 1 3 3.75Zm4 3A.75.75 0 0 1 7.75 6h.5a.75.75 0 0 1 0 1.5h-.5A.75.75 0 0 1 7 6.75ZM7.75 3h.5a.75.75 0 0 1 0 1.5h-.5a.75.75 0 0 1 0-1.5ZM3 9.75A.75.75 0 0 1 3.75 9h.5a.75.75 0 0 1 0 1.5h-.5A.75.75 0 0 1 3 9.75ZM7.75 9h.5a.75.75 0 0 1 0 1.5h-.5a.75.75 0 0 1 0-1.5Z"></path>
</svg>
</template>

<template id="rocket-icon">
  <svg aria-hidden="true" height="16" viewBox="0 0 16 16" version="1.1" width="16" data-view-component="true" class="octicon octicon-rocket">
    <path d="M14.064 0h.186C15.216 0 16 .784 16 1.75v.186a8.752 8.752 0 0 1-2.564 6.186l-.458.459c-.314.314-.641.616-.979.904v3.207c0 .608-.315 1.172-.833 1.49l-2.774 1.707a.749.749 0 0 1-1.11-.418l-.954-3.102a1.214 1.214 0 0 1-.145-.125L3.754 9.816a1.218 1.218 0 0 1-.124-.145L.528 8.717a.749.749 0 0 1-.418-1.11l1.71-2.774A1.748 1.748 0 0 1 3.31 4h3.204c.288-.338.59-.665.904-.979l.459-.458A8.749 8.749 0 0 1 14.064 0ZM8.938 3.623h-.002l-.458.458c-.76.76-1.437 1.598-2.02 2.5l-1.5 2.317 2.143 2.143 2.317-1.5c.902-.583 1.74-1.26 2.499-2.02l.459-.458a7.25 7.25 0 0 0 2.123-5.127V1.75a.25.25 0 0 0-.25-.25h-.186a7.249 7.249 0 0 0-5.125 2.123ZM3.56 14.56c-.732.732-2.334 1.045-3.005 1.148a.234.234 0 0 1-.201-.064.234.234 0 0 1-.064-.201c.103-.671.416-2.273 1.15-3.003a1.502 1.502 0 1 1 2.12 2.12Zm6.94-3.935c-.088.06-.177.118-.266.175l-2.35 1.521.548 1.783 1.949-1.2a.25.25 0 0 0 .119-.213ZM3.678 8.116 5.2 5.766c.058-.09.117-.178.176-.266H3.309a.25.25 0 0 0-.213.119l-1.2 1.95ZM12 5a1 1 0 1 1-2 0 1 1 0 0 1 2 0Z"></path>
</svg>
</template>

<template id="shield-check-icon">
  <svg aria-hidden="true" height="16" viewBox="0 0 16 16" version="1.1" width="16" data-view-component="true" class="octicon octicon-shield-check">
    <path d="m8.533.133 5.25 1.68A1.75 1.75 0 0 1 15 3.48V7c0 1.566-.32 3.182-1.303 4.682-.983 1.498-2.585 2.813-5.032 3.855a1.697 1.697 0 0 1-1.33 0c-2.447-1.042-4.049-2.357-5.032-3.855C1.32 10.182 1 8.566 1 7V3.48a1.75 1.75 0 0 1 1.217-1.667l5.25-1.68a1.748 1.748 0 0 1 1.066 0Zm-.61 1.429.001.001-5.25 1.68a.251.251 0 0 0-.174.237V7c0 1.36.275 2.666 1.057 3.859.784 1.194 2.121 2.342 4.366 3.298a.196.196 0 0 0 .154 0c2.245-.957 3.582-2.103 4.366-3.297C13.225 9.666 13.5 8.358 13.5 7V3.48a.25.25 0 0 0-.174-.238l-5.25-1.68a.25.25 0 0 0-.153 0ZM11.28 6.28l-3.5 3.5a.75.75 0 0 1-1.06 0l-1.5-1.5a.749.749 0 0 1 .326-1.275.749.749 0 0 1 .734.215l.97.97 2.97-2.97a.751.751 0 0 1 1.042.018.751.751 0 0 1 .018 1.042Z"></path>
</svg>
</template>

<template id="heart-icon">
  <svg aria-hidden="true" height="16" viewBox="0 0 16 16" version="1.1" width="16" data-view-component="true" class="octicon octicon-heart">
    <path d="m8 14.25.345.666a.75.75 0 0 1-.69 0l-.008-.004-.018-.01a7.152 7.152 0 0 1-.31-.17 22.055 22.055 0 0 1-3.434-2.414C2.045 10.731 0 8.35 0 5.5 0 2.836 2.086 1 4.25 1 5.797 1 7.153 1.802 8 3.02 8.847 1.802 10.203 1 11.75 1 13.914 1 16 2.836 16 5.5c0 2.85-2.045 5.231-3.885 6.818a22.066 22.066 0 0 1-3.744 2.584l-.018.01-.006.003h-.002ZM4.25 2.5c-1.336 0-2.75 1.164-2.75 3 0 2.15 1.58 4.144 3.365 5.682A20.58 20.58 0 0 0 8 13.393a20.58 20.58 0 0 0 3.135-2.211C12.92 9.644 14.5 7.65 14.5 5.5c0-1.836-1.414-3-2.75-3-1.373 0-2.609.986-3.029 2.456a.749.749 0 0 1-1.442 0C6.859 3.486 5.623 2.5 4.25 2.5Z"></path>
</svg>
</template>

<template id="server-icon">
  <svg aria-hidden="true" height="16" viewBox="0 0 16 16" version="1.1" width="16" data-view-component="true" class="octicon octicon-server">
    <path d="M1.75 1h12.5c.966 0 1.75.784 1.75 1.75v4c0 .372-.116.717-.314 1 .198.283.314.628.314 1v4a1.75 1.75 0 0 1-1.75 1.75H1.75A1.75 1.75 0 0 1 0 12.75v-4c0-.358.109-.707.314-1a1.739 1.739 0 0 1-.314-1v-4C0 1.784.784 1 1.75 1ZM1.5 2.75v4c0 .138.112.25.25.25h12.5a.25.25 0 0 0 .25-.25v-4a.25.25 0 0 0-.25-.25H1.75a.25.25 0 0 0-.25.25Zm.25 5.75a.25.25 0 0 0-.25.25v4c0 .138.112.25.25.25h12.5a.25.25 0 0 0 .25-.25v-4a.25.25 0 0 0-.25-.25ZM7 4.75A.75.75 0 0 1 7.75 4h4.5a.75.75 0 0 1 0 1.5h-4.5A.75.75 0 0 1 7 4.75ZM7.75 10h4.5a.75.75 0 0 1 0 1.5h-4.5a.75.75 0 0 1 0-1.5ZM3 4.75A.75.75 0 0 1 3.75 4h.5a.75.75 0 0 1 0 1.5h-.5A.75.75 0 0 1 3 4.75ZM3.75 10h.5a.75.75 0 0 1 0 1.5h-.5a.75.75 0 0 1 0-1.5Z"></path>
</svg>
</template>

<template id="globe-icon">
  <svg aria-hidden="true" height="16" viewBox="0 0 16 16" version="1.1" width="16" data-view-component="true" class="octicon octicon-globe">
    <path d="M8 0a8 8 0 1 1 0 16A8 8 0 0 1 8 0ZM5.78 8.75a9.64 9.64 0 0 0 1.363 4.177c.255.426.542.832.857 1.215.245-.296.551-.705.857-1.215A9.64 9.64 0 0 0 10.22 8.75Zm4.44-1.5a9.64 9.64 0 0 0-1.363-4.177c-.307-.51-.612-.919-.857-1.215a9.927 9.927 0 0 0-.857 1.215A9.64 9.64 0 0 0 5.78 7.25Zm-5.944 1.5H1.543a6.507 6.507 0 0 0 4.666 5.5c-.123-.181-.24-.365-.352-.552-.715-1.192-1.437-2.874-1.581-4.948Zm-2.733-1.5h2.733c.144-2.074.866-3.756 1.58-4.948.12-.197.237-.381.353-.552a6.507 6.507 0 0 0-4.666 5.5Zm10.181 1.5c-.144 2.074-.866 3.756-1.58 4.948-.12.197-.237.381-.353.552a6.507 6.507 0 0 0 4.666-5.5Zm2.733-1.5a6.507 6.507 0 0 0-4.666-5.5c.123.181.24.365.353.552.714 1.192 1.436 2.874 1.58 4.948Z"></path>
</svg>
</template>

<template id="issue-opened-icon">
  <svg aria-hidden="true" height="16" viewBox="0 0 16 16" version="1.1" width="16" data-view-component="true" class="octicon octicon-issue-opened">
    <path d="M8 9.5a1.5 1.5 0 1 0 0-3 1.5 1.5 0 0 0 0 3Z"></path><path d="M8 0a8 8 0 1 1 0 16A8 8 0 0 1 8 0ZM1.5 8a6.5 6.5 0 1 0 13 0 6.5 6.5 0 0 0-13 0Z"></path>
</svg>
</template>

<template id="device-mobile-icon">
  <svg aria-hidden="true" height="16" viewBox="0 0 16 16" version="1.1" width="16" data-view-component="true" class="octicon octicon-device-mobile">
    <path d="M3.75 0h8.5C13.216 0 14 .784 14 1.75v12.5A1.75 1.75 0 0 1 12.25 16h-8.5A1.75 1.75 0 0 1 2 14.25V1.75C2 .784 2.784 0 3.75 0ZM3.5 1.75v12.5c0 .138.112.25.25.25h8.5a.25.25 0 0 0 .25-.25V1.75a.25.25 0 0 0-.25-.25h-8.5a.25.25 0 0 0-.25.25ZM8 13a1 1 0 1 1 0-2 1 1 0 0 1 0 2Z"></path>
</svg>
</template>

<template id="package-icon">
  <svg aria-hidden="true" height="16" viewBox="0 0 16 16" version="1.1" width="16" data-view-component="true" class="octicon octicon-package">
    <path d="m8.878.392 5.25 3.045c.54.314.872.89.872 1.514v6.098a1.75 1.75 0 0 1-.872 1.514l-5.25 3.045a1.75 1.75 0 0 1-1.756 0l-5.25-3.045A1.75 1.75 0 0 1 1 11.049V4.951c0-.624.332-1.201.872-1.514L7.122.392a1.75 1.75 0 0 1 1.756 0ZM7.875 1.69l-4.63 2.685L8 7.133l4.755-2.758-4.63-2.685a.248.248 0 0 0-.25 0ZM2.5 5.677v5.372c0 .09.047.171.125.216l4.625 2.683V8.432Zm6.25 8.271 4.625-2.683a.25.25 0 0 0 .125-.216V5.677L8.75 8.432Z"></path>
</svg>
</template>

<template id="credit-card-icon">
  <svg aria-hidden="true" height="16" viewBox="0 0 16 16" version="1.1" width="16" data-view-component="true" class="octicon octicon-credit-card">
    <path d="M10.75 9a.75.75 0 0 0 0 1.5h1.5a.75.75 0 0 0 0-1.5h-1.5Z"></path><path d="M0 3.75C0 2.784.784 2 1.75 2h12.5c.966 0 1.75.784 1.75 1.75v8.5A1.75 1.75 0 0 1 14.25 14H1.75A1.75 1.75 0 0 1 0 12.25ZM14.5 6.5h-13v5.75c0 .138.112.25.25.25h12.5a.25.25 0 0 0 .25-.25Zm0-2.75a.25.25 0 0 0-.25-.25H1.75a.25.25 0 0 0-.25.25V5h13Z"></path>
</svg>
</template>

<template id="play-icon">
  <svg aria-hidden="true" height="16" viewBox="0 0 16 16" version="1.1" width="16" data-view-component="true" class="octicon octicon-play">
    <path d="M8 0a8 8 0 1 1 0 16A8 8 0 0 1 8 0ZM1.5 8a6.5 6.5 0 1 0 13 0 6.5 6.5 0 0 0-13 0Zm4.879-2.773 4.264 2.559a.25.25 0 0 1 0 .428l-4.264 2.559A.25.25 0 0 1 6 10.559V5.442a.25.25 0 0 1 .379-.215Z"></path>
</svg>
</template>

<template id="gift-icon">
  <svg aria-hidden="true" height="16" viewBox="0 0 16 16" version="1.1" width="16" data-view-component="true" class="octicon octicon-gift">
    <path d="M2 2.75A2.75 2.75 0 0 1 4.75 0c.983 0 1.873.42 2.57 1.232.268.318.497.668.68 1.042.183-.375.411-.725.68-1.044C9.376.42 10.266 0 11.25 0a2.75 2.75 0 0 1 2.45 4h.55c.966 0 1.75.784 1.75 1.75v2c0 .698-.409 1.301-1 1.582v4.918A1.75 1.75 0 0 1 13.25 16H2.75A1.75 1.75 0 0 1 1 14.25V9.332C.409 9.05 0 8.448 0 7.75v-2C0 4.784.784 4 1.75 4h.55c-.192-.375-.3-.8-.3-1.25ZM7.25 9.5H2.5v4.75c0 .138.112.25.25.25h4.5Zm1.5 0v5h4.5a.25.25 0 0 0 .25-.25V9.5Zm0-4V8h5.5a.25.25 0 0 0 .25-.25v-2a.25.25 0 0 0-.25-.25Zm-7 0a.25.25 0 0 0-.25.25v2c0 .138.112.25.25.25h5.5V5.5h-5.5Zm3-4a1.25 1.25 0 0 0 0 2.5h2.309c-.233-.818-.542-1.401-.878-1.793-.43-.502-.915-.707-1.431-.707ZM8.941 4h2.309a1.25 1.25 0 0 0 0-2.5c-.516 0-1 .205-1.43.707-.337.392-.646.975-.879 1.793Z"></path>
</svg>
</template>

<template id="code-square-icon">
  <svg aria-hidden="true" height="16" viewBox="0 0 16 16" version="1.1" width="16" data-view-component="true" class="octicon octicon-code-square">
    <path d="M0 1.75C0 .784.784 0 1.75 0h12.5C15.216 0 16 .784 16 1.75v12.5A1.75 1.75 0 0 1 14.25 16H1.75A1.75 1.75 0 0 1 0 14.25Zm1.75-.25a.25.25 0 0 0-.25.25v12.5c0 .138.112.25.25.25h12.5a.25.25 0 0 0 .25-.25V1.75a.25.25 0 0 0-.25-.25Zm7.47 3.97a.75.75 0 0 1 1.06 0l2 2a.75.75 0 0 1 0 1.06l-2 2a.749.749 0 0 1-1.275-.326.749.749 0 0 1 .215-.734L10.69 8 9.22 6.53a.75.75 0 0 1 0-1.06ZM6.78 6.53 5.31 8l1.47 1.47a.749.749 0 0 1-.326 1.275.749.749 0 0 1-.734-.215l-2-2a.75.75 0 0 1 0-1.06l2-2a.751.751 0 0 1 1.042.018.751.751 0 0 1 .018 1.042Z"></path>
</svg>
</template>

<template id="device-desktop-icon">
  <svg aria-hidden="true" height="16" viewBox="0 0 16 16" version="1.1" width="16" data-view-component="true" class="octicon octicon-device-desktop">
    <path d="M14.25 1c.966 0 1.75.784 1.75 1.75v7.5A1.75 1.75 0 0 1 14.25 12h-3.727c.099 1.041.52 1.872 1.292 2.757A.752.752 0 0 1 11.25 16h-6.5a.75.75 0 0 1-.565-1.243c.772-.885 1.192-1.716 1.292-2.757H1.75A1.75 1.75 0 0 1 0 10.25v-7.5C0 1.784.784 1 1.75 1ZM1.75 2.5a.25.25 0 0 0-.25.25v7.5c0 .138.112.25.25.25h12.5a.25.25 0 0 0 .25-.25v-7.5a.25.25 0 0 0-.25-.25ZM9.018 12H6.982a5.72 5.72 0 0 1-.765 2.5h3.566a5.72 5.72 0 0 1-.765-2.5Z"></path>
</svg>
</template>

        <div class="position-relative">
                <ul
                  role="listbox"
                  class="ActionListWrap QueryBuilder-ListWrap"
                  aria-label="Suggestions"
                  data-action="
                    combobox-commit:query-builder#comboboxCommit
                    mousedown:query-builder#resultsMousedown
                  "
                  data-target="query-builder.resultsList"
                  data-persist-list=false
                  id="query-builder-test-results"
                ></ul>
        </div>
      <div class="FormControl-inlineValidation" id="validation-c58c44cb-10bd-4981-b422-901820208ccc" hidden="hidden">
        <span class="FormControl-inlineValidation--visual">
          <svg aria-hidden="true" height="12" viewBox="0 0 12 12" version="1.1" width="12" data-view-component="true" class="octicon octicon-alert-fill">
    <path d="M4.855.708c.5-.896 1.79-.896 2.29 0l4.675 8.351a1.312 1.312 0 0 1-1.146 1.954H1.33A1.313 1.313 0 0 1 .183 9.058ZM7 7V3H5v4Zm-1 3a1 1 0 1 0 0-2 1 1 0 0 0 0 2Z"></path>
</svg>
        </span>
        <span></span>
</div>    </div>
    <div data-target="query-builder.screenReaderFeedback" aria-live="polite" aria-atomic="true" class="sr-only"></div>
</query-builder></form>
          <div class="d-flex flex-row color-fg-muted px-3 text-small color-bg-default search-feedback-prompt">
            <a target="_blank" href="https://docs.github.com/search-github/github-code-search/understanding-github-code-search-syntax" data-view-component="true" class="Link color-fg-accent text-normal ml-2">
              Search syntax tips
</a>            <div class="d-flex flex-1"></div>
          </div>
        </div>
</div>

    </div>
</modal-dialog></div>
  </div>
  <div data-action="click:qbsearch-input#retract" class="dark-backdrop position-fixed" hidden data-target="qbsearch-input.darkBackdrop"></div>
  <div class="color-fg-default">
    
<dialog-helper>
  <dialog data-target="qbsearch-input.feedbackDialog" data-action="close:qbsearch-input#handleDialogClose cancel:qbsearch-input#handleDialogClose" id="feedback-dialog" aria-modal="true" aria-labelledby="feedback-dialog-title" aria-describedby="feedback-dialog-description" data-view-component="true" class="Overlay Overlay-whenNarrow Overlay--size-medium Overlay--motion-scaleFade">
    <div data-view-component="true" class="Overlay-header">
  <div class="Overlay-headerContentWrap">
    <div class="Overlay-titleWrap">
      <h1 class="Overlay-title " id="feedback-dialog-title">
        Provide feedback
      </h1>
        
    </div>
    <div class="Overlay-actionWrap">
      <button data-close-dialog-id="feedback-dialog" aria-label="Close" type="button" data-view-component="true" class="close-button Overlay-closeButton"><svg aria-hidden="true" height="16" viewBox="0 0 16 16" version="1.1" width="16" data-view-component="true" class="octicon octicon-x">
    <path d="M3.72 3.72a.75.75 0 0 1 1.06 0L8 6.94l3.22-3.22a.749.749 0 0 1 1.275.326.749.749 0 0 1-.215.734L9.06 8l3.22 3.22a.749.749 0 0 1-.326 1.275.749.749 0 0 1-.734-.215L8 9.06l-3.22 3.22a.751.751 0 0 1-1.042-.018.751.751 0 0 1-.018-1.042L6.94 8 3.72 4.78a.75.75 0 0 1 0-1.06Z"></path>
</svg></button>
    </div>
  </div>
  
</div>
      <scrollable-region data-labelled-by="feedback-dialog-title">
        <div data-view-component="true" class="Overlay-body">        <!-- '"` --><!-- </textarea></xmp> --></option></form><form id="code-search-feedback-form" data-turbo="false" action="/search/feedback" accept-charset="UTF-8" method="post"><input type="hidden" data-csrf="true" name="authenticity_token" value="E9QAT3Ur+Pytwk8BtxTccw5hZ3EsjJ+dhxNBiy3m4xMFW70stzZTCkhzdfiqC9l7pc8TqLwJrNAM7Q1nJv+4pw==" />
          <p>We read every piece of feedback, and take your input very seriously.</p>
          <textarea name="feedback" class="form-control width-full mb-2" style="height: 120px" id="feedback"></textarea>
          <input name="include_email" id="include_email" aria-label="Include my email address so I can be contacted" class="form-control mr-2" type="checkbox">
          <label for="include_email" style="font-weight: normal">Include my email address so I can be contacted</label>
</form></div>
      </scrollable-region>
      <div data-view-component="true" class="Overlay-footer Overlay-footer--alignEnd">          <button data-close-dialog-id="feedback-dialog" type="button" data-view-component="true" class="btn">    Cancel
</button>
          <button form="code-search-feedback-form" data-action="click:qbsearch-input#submitFeedback" type="submit" data-view-component="true" class="btn-primary btn">    Submit feedback
</button>
</div>
</dialog></dialog-helper>

    <custom-scopes data-target="qbsearch-input.customScopesManager">
    
<dialog-helper>
  <dialog data-target="custom-scopes.customScopesModalDialog" data-action="close:qbsearch-input#handleDialogClose cancel:qbsearch-input#handleDialogClose" id="custom-scopes-dialog" aria-modal="true" aria-labelledby="custom-scopes-dialog-title" aria-describedby="custom-scopes-dialog-description" data-view-component="true" class="Overlay Overlay-whenNarrow Overlay--size-medium Overlay--motion-scaleFade">
    <div data-view-component="true" class="Overlay-header Overlay-header--divided">
  <div class="Overlay-headerContentWrap">
    <div class="Overlay-titleWrap">
      <h1 class="Overlay-title " id="custom-scopes-dialog-title">
        Saved searches
      </h1>
        <h2 id="custom-scopes-dialog-description" class="Overlay-description">Use saved searches to filter your results more quickly</h2>
    </div>
    <div class="Overlay-actionWrap">
      <button data-close-dialog-id="custom-scopes-dialog" aria-label="Close" type="button" data-view-component="true" class="close-button Overlay-closeButton"><svg aria-hidden="true" height="16" viewBox="0 0 16 16" version="1.1" width="16" data-view-component="true" class="octicon octicon-x">
    <path d="M3.72 3.72a.75.75 0 0 1 1.06 0L8 6.94l3.22-3.22a.749.749 0 0 1 1.275.326.749.749 0 0 1-.215.734L9.06 8l3.22 3.22a.749.749 0 0 1-.326 1.275.749.749 0 0 1-.734-.215L8 9.06l-3.22 3.22a.751.751 0 0 1-1.042-.018.751.751 0 0 1-.018-1.042L6.94 8 3.72 4.78a.75.75 0 0 1 0-1.06Z"></path>
</svg></button>
    </div>
  </div>
  
</div>
      <scrollable-region data-labelled-by="custom-scopes-dialog-title">
        <div data-view-component="true" class="Overlay-body">        <div data-target="custom-scopes.customScopesModalDialogFlash"></div>

        <div hidden class="create-custom-scope-form" data-target="custom-scopes.createCustomScopeForm">
        <!-- '"` --><!-- </textarea></xmp> --></option></form><form id="custom-scopes-dialog-form" data-turbo="false" action="/search/custom_scopes" accept-charset="UTF-8" method="post"><input type="hidden" data-csrf="true" name="authenticity_token" value="lN19JioLqNjo4SPupuanAXcDuotqcpj8edYl4aHSkZOmFQQF59TAisCDt/h0X+zCGlZdE6BW0VZz5F9OVmXPyQ==" />
          <div data-target="custom-scopes.customScopesModalDialogFlash"></div>

          <input type="hidden" id="custom_scope_id" name="custom_scope_id" data-target="custom-scopes.customScopesIdField">

          <div class="form-group">
            <label for="custom_scope_name">Name</label>
            <auto-check src="/search/custom_scopes/check_name" required>
              <input
                type="text"
                name="custom_scope_name"
                id="custom_scope_name"
                data-target="custom-scopes.customScopesNameField"
                class="form-control"
                autocomplete="off"
                placeholder="github-ruby"
                required
                maxlength="50">
              <input type="hidden" data-csrf="true" value="YcZEaTuQJ9yNDnXrB25ayCDb/Y/3uqD+zCI0cArlPLDfFhiKXEWKkGVFoK3KbJ2Gd/AyHAcpDGmorULrB0fh1w==" />
            </auto-check>
          </div>

          <div class="form-group">
            <label for="custom_scope_query">Query</label>
            <input
              type="text"
              name="custom_scope_query"
              id="custom_scope_query"
              data-target="custom-scopes.customScopesQueryField"
              class="form-control"
              autocomplete="off"
              placeholder="(repo:mona/a OR repo:mona/b) AND lang:python"
              required
              maxlength="500">
          </div>

          <p class="text-small color-fg-muted">
            To see all available qualifiers, see our <a class="Link--inTextBlock" href="https://docs.github.com/search-github/github-code-search/understanding-github-code-search-syntax">documentation</a>.
          </p>
</form>        </div>

        <div data-target="custom-scopes.manageCustomScopesForm">
          <div data-target="custom-scopes.list"></div>
        </div>

</div>
      </scrollable-region>
      <div data-view-component="true" class="Overlay-footer Overlay-footer--alignEnd Overlay-footer--divided">          <button data-action="click:custom-scopes#customScopesCancel" type="button" data-view-component="true" class="btn">    Cancel
</button>
          <button form="custom-scopes-dialog-form" data-action="click:custom-scopes#customScopesSubmit" data-target="custom-scopes.customScopesSubmitButton" type="submit" data-view-component="true" class="btn-primary btn">    Create saved search
</button>
</div>
</dialog></dialog-helper>
    </custom-scopes>
  </div>
</qbsearch-input>

            <div class="position-relative HeaderMenu-link-wrap d-lg-inline-block">
              <a
                href="/login?return_to=https%3A%2F%2Fgithub.com%2Fhaesleinhuepf%2Fgit-bob-playground%2Fblob%2Fgit-bob-mod-qJFnf5XmME%2Fviolin_plot.ipynb"
                class="HeaderMenu-link HeaderMenu-link--sign-in HeaderMenu-button flex-shrink-0 no-underline d-none d-lg-inline-flex border border-lg-0 rounded rounded-lg-0 px-2 py-1"
                style="margin-left: 12px;"
                data-hydro-click="{&quot;event_type&quot;:&quot;authentication.click&quot;,&quot;payload&quot;:{&quot;location_in_page&quot;:&quot;site header menu&quot;,&quot;repository_id&quot;:null,&quot;auth_type&quot;:&quot;SIGN_UP&quot;,&quot;originating_url&quot;:&quot;https://github.com/haesleinhuepf/git-bob-playground/blob/git-bob-mod-qJFnf5XmME/violin_plot.ipynb&quot;,&quot;user_id&quot;:null}}" data-hydro-click-hmac="48207b7f919d1e208ba77dac07efded18d0883f5d6e33c3d6d34ad5f88a7bb62"
                data-analytics-event="{&quot;category&quot;:&quot;Marketing nav&quot;,&quot;action&quot;:&quot;click to go to homepage&quot;,&quot;label&quot;:&quot;ref_page:Marketing;ref_cta:Sign in;ref_loc:Header&quot;}"
              >
                Sign in
              </a>
            </div>

              <a href="/signup?ref_cta=Sign+up&amp;ref_loc=header+logged+out&amp;ref_page=%2F%3Cuser-name%3E%2F%3Crepo-name%3E%2Fblob%2Fshow&amp;source=header-repo&amp;source_repo=haesleinhuepf%2Fgit-bob-playground"
                class="HeaderMenu-link HeaderMenu-link--sign-up HeaderMenu-button flex-shrink-0 d-flex d-lg-inline-flex no-underline border color-border-default rounded px-2 py-1"
                data-hydro-click="{&quot;event_type&quot;:&quot;authentication.click&quot;,&quot;payload&quot;:{&quot;location_in_page&quot;:&quot;site header menu&quot;,&quot;repository_id&quot;:null,&quot;auth_type&quot;:&quot;SIGN_UP&quot;,&quot;originating_url&quot;:&quot;https://github.com/haesleinhuepf/git-bob-playground/blob/git-bob-mod-qJFnf5XmME/violin_plot.ipynb&quot;,&quot;user_id&quot;:null}}" data-hydro-click-hmac="48207b7f919d1e208ba77dac07efded18d0883f5d6e33c3d6d34ad5f88a7bb62"
                data-analytics-event="{&quot;category&quot;:&quot;Sign up&quot;,&quot;action&quot;:&quot;click to sign up for account&quot;,&quot;label&quot;:&quot;ref_page:/&lt;user-name&gt;/&lt;repo-name&gt;/blob/show;ref_cta:Sign up;ref_loc:header logged out&quot;}"
              >
                Sign up
              </a>
          <button type="button" class="sr-only js-header-menu-focus-trap d-block d-lg-none">Reseting focus</button>
        </div>
      </div>
    </div>
  </div>
</header>

      <div hidden="hidden" data-view-component="true" class="js-stale-session-flash stale-session-flash flash flash-warn flash-full">
  
        <svg aria-hidden="true" height="16" viewBox="0 0 16 16" version="1.1" width="16" data-view-component="true" class="octicon octicon-alert">
    <path d="M6.457 1.047c.659-1.234 2.427-1.234 3.086 0l6.082 11.378A1.75 1.75 0 0 1 14.082 15H1.918a1.75 1.75 0 0 1-1.543-2.575Zm1.763.707a.25.25 0 0 0-.44 0L1.698 13.132a.25.25 0 0 0 .22.368h12.164a.25.25 0 0 0 .22-.368Zm.53 3.996v2.5a.75.75 0 0 1-1.5 0v-2.5a.75.75 0 0 1 1.5 0ZM9 11a1 1 0 1 1-2 0 1 1 0 0 1 2 0Z"></path>
</svg>
        <span class="js-stale-session-flash-signed-in" hidden>You signed in with another tab or window. <a class="Link--inTextBlock" href="">Reload</a> to refresh your session.</span>
        <span class="js-stale-session-flash-signed-out" hidden>You signed out in another tab or window. <a class="Link--inTextBlock" href="">Reload</a> to refresh your session.</span>
        <span class="js-stale-session-flash-switched" hidden>You switched accounts on another tab or window. <a class="Link--inTextBlock" href="">Reload</a> to refresh your session.</span>

    <button id="icon-button-2f63fbb5-3888-4f88-955e-3856a82b0091" aria-labelledby="tooltip-f589b95b-1723-4506-bc89-5d0769404fa6" type="button" data-view-component="true" class="Button Button--iconOnly Button--invisible Button--medium flash-close js-flash-close">  <svg aria-hidden="true" height="16" viewBox="0 0 16 16" version="1.1" width="16" data-view-component="true" class="octicon octicon-x Button-visual">
    <path d="M3.72 3.72a.75.75 0 0 1 1.06 0L8 6.94l3.22-3.22a.749.749 0 0 1 1.275.326.749.749 0 0 1-.215.734L9.06 8l3.22 3.22a.749.749 0 0 1-.326 1.275.749.749 0 0 1-.734-.215L8 9.06l-3.22 3.22a.751.751 0 0 1-1.042-.018.751.751 0 0 1-.018-1.042L6.94 8 3.72 4.78a.75.75 0 0 1 0-1.06Z"></path>
</svg>
</button><tool-tip id="tooltip-f589b95b-1723-4506-bc89-5d0769404fa6" for="icon-button-2f63fbb5-3888-4f88-955e-3856a82b0091" popover="manual" data-direction="s" data-type="label" data-view-component="true" class="sr-only position-absolute">Dismiss alert</tool-tip>


  
</div>
    </div>

  <div id="start-of-content" class="show-on-focus"></div>








    <div id="js-flash-container" class="flash-container" data-turbo-replace>




  <template class="js-flash-template">
    
<div class="flash flash-full   {{ className }}">
  <div >
    <button autofocus class="flash-close js-flash-close" type="button" aria-label="Dismiss this message">
      <svg aria-hidden="true" height="16" viewBox="0 0 16 16" version="1.1" width="16" data-view-component="true" class="octicon octicon-x">
    <path d="M3.72 3.72a.75.75 0 0 1 1.06 0L8 6.94l3.22-3.22a.749.749 0 0 1 1.275.326.749.749 0 0 1-.215.734L9.06 8l3.22 3.22a.749.749 0 0 1-.326 1.275.749.749 0 0 1-.734-.215L8 9.06l-3.22 3.22a.751.751 0 0 1-1.042-.018.751.751 0 0 1-.018-1.042L6.94 8 3.72 4.78a.75.75 0 0 1 0-1.06Z"></path>
</svg>
    </button>
    <div aria-atomic="true" role="alert" class="js-flash-alert">
      
      <div>{{ message }}</div>

    </div>
  </div>
</div>
  </template>
</div>


    
    <include-fragment class="js-notification-shelf-include-fragment" data-base-src="https://github.com/notifications/beta/shelf"></include-fragment>





  <div
    class="application-main "
    data-commit-hovercards-enabled
    data-discussion-hovercards-enabled
    data-issue-and-pr-hovercards-enabled
  >
        <div itemscope itemtype="http://schema.org/SoftwareSourceCode" class="">
    <main id="js-repo-pjax-container" >
      
      






  
  <div id="repository-container-header"  class="pt-3 hide-full-screen" style="background-color: var(--page-header-bgColor, var(--color-page-header-bg));" data-turbo-replace>


      <div class="d-flex flex-nowrap flex-justify-end mb-3  px-3 px-lg-5" style="gap: 1rem;">

        <div class="flex-auto min-width-0 width-fit">
            
  <div class=" d-flex flex-wrap flex-items-center wb-break-word f3 text-normal">
      <svg aria-hidden="true" height="16" viewBox="0 0 16 16" version="1.1" width="16" data-view-component="true" class="octicon octicon-repo color-fg-muted mr-2">
    <path d="M2 2.5A2.5 2.5 0 0 1 4.5 0h8.75a.75.75 0 0 1 .75.75v12.5a.75.75 0 0 1-.75.75h-2.5a.75.75 0 0 1 0-1.5h1.75v-2h-8a1 1 0 0 0-.714 1.7.75.75 0 1 1-1.072 1.05A2.495 2.495 0 0 1 2 11.5Zm10.5-1h-8a1 1 0 0 0-1 1v6.708A2.486 2.486 0 0 1 4.5 9h8ZM5 12.25a.25.25 0 0 1 .25-.25h3.5a.25.25 0 0 1 .25.25v3.25a.25.25 0 0 1-.4.2l-1.45-1.087a.249.249 0 0 0-.3 0L5.4 15.7a.25.25 0 0 1-.4-.2Z"></path>
</svg>
    
    <span class="author flex-self-stretch" itemprop="author">
      <a class="url fn" rel="author" data-hovercard-type="user" data-hovercard-url="/users/haesleinhuepf/hovercard" data-octo-click="hovercard-link-click" data-octo-dimensions="link_type:self" href="/haesleinhuepf">
        haesleinhuepf
</a>    </span>
    <span class="mx-1 flex-self-stretch color-fg-muted">/</span>
    <strong itemprop="name" class="mr-2 flex-self-stretch">
      <a data-pjax="#repo-content-pjax-container" data-turbo-frame="repo-content-turbo-frame" href="/haesleinhuepf/git-bob-playground">git-bob-playground</a>
    </strong>

    <span></span><span class="Label Label--secondary v-align-middle mr-1">Public</span>
  </div>


        </div>

        <div id="repository-details-container" class="flex-shrink-0" data-turbo-replace style="max-width: 70%;">
            <ul class="pagehead-actions flex-shrink-0 d-none d-md-inline" style="padding: 2px 0;">
    
      

  <li>
            <a href="/login?return_to=%2Fhaesleinhuepf%2Fgit-bob-playground" rel="nofollow" id="repository-details-watch-button" data-hydro-click="{&quot;event_type&quot;:&quot;authentication.click&quot;,&quot;payload&quot;:{&quot;location_in_page&quot;:&quot;notification subscription menu watch&quot;,&quot;repository_id&quot;:null,&quot;auth_type&quot;:&quot;LOG_IN&quot;,&quot;originating_url&quot;:&quot;https://github.com/haesleinhuepf/git-bob-playground/blob/git-bob-mod-qJFnf5XmME/violin_plot.ipynb&quot;,&quot;user_id&quot;:null}}" data-hydro-click-hmac="53704feedcaa67c6c3056d7a494f55876911a20fb8fa45a9953fe1c6233ec942" aria-label="You must be signed in to change notification settings" data-view-component="true" class="btn-sm btn">    <svg aria-hidden="true" height="16" viewBox="0 0 16 16" version="1.1" width="16" data-view-component="true" class="octicon octicon-bell mr-2">
    <path d="M8 16a2 2 0 0 0 1.985-1.75c.017-.137-.097-.25-.235-.25h-3.5c-.138 0-.252.113-.235.25A2 2 0 0 0 8 16ZM3 5a5 5 0 0 1 10 0v2.947c0 .05.015.098.042.139l1.703 2.555A1.519 1.519 0 0 1 13.482 13H2.518a1.516 1.516 0 0 1-1.263-2.36l1.703-2.554A.255.255 0 0 0 3 7.947Zm5-3.5A3.5 3.5 0 0 0 4.5 5v2.947c0 .346-.102.683-.294.97l-1.703 2.556a.017.017 0 0 0-.003.01l.001.006c0 .002.002.004.004.006l.006.004.007.001h10.964l.007-.001.006-.004.004-.006.001-.007a.017.017 0 0 0-.003-.01l-1.703-2.554a1.745 1.745 0 0 1-.294-.97V5A3.5 3.5 0 0 0 8 1.5Z"></path>
</svg>Notifications
</a>    <tool-tip id="tooltip-cc51e39b-7346-4de2-93f6-61a6fec857b6" for="repository-details-watch-button" popover="manual" data-direction="s" data-type="description" data-view-component="true" class="sr-only position-absolute">You must be signed in to change notification settings</tool-tip>

  </li>

  <li>
          <a icon="repo-forked" id="fork-button" href="/login?return_to=%2Fhaesleinhuepf%2Fgit-bob-playground" rel="nofollow" data-hydro-click="{&quot;event_type&quot;:&quot;authentication.click&quot;,&quot;payload&quot;:{&quot;location_in_page&quot;:&quot;repo details fork button&quot;,&quot;repository_id&quot;:871861441,&quot;auth_type&quot;:&quot;LOG_IN&quot;,&quot;originating_url&quot;:&quot;https://github.com/haesleinhuepf/git-bob-playground/blob/git-bob-mod-qJFnf5XmME/violin_plot.ipynb&quot;,&quot;user_id&quot;:null}}" data-hydro-click-hmac="cf32c7a819ad84199a5a42ad62a7605a3f40947ad3ca39f380eacd1f3f10ae14" data-view-component="true" class="btn-sm btn">    <svg aria-hidden="true" height="16" viewBox="0 0 16 16" version="1.1" width="16" data-view-component="true" class="octicon octicon-repo-forked mr-2">
    <path d="M5 5.372v.878c0 .414.336.75.75.75h4.5a.75.75 0 0 0 .75-.75v-.878a2.25 2.25 0 1 1 1.5 0v.878a2.25 2.25 0 0 1-2.25 2.25h-1.5v2.128a2.251 2.251 0 1 1-1.5 0V8.5h-1.5A2.25 2.25 0 0 1 3.5 6.25v-.878a2.25 2.25 0 1 1 1.5 0ZM5 3.25a.75.75 0 1 0-1.5 0 .75.75 0 0 0 1.5 0Zm6.75.75a.75.75 0 1 0 0-1.5.75.75 0 0 0 0 1.5Zm-3 8.75a.75.75 0 1 0-1.5 0 .75.75 0 0 0 1.5 0Z"></path>
</svg>Fork
    <span id="repo-network-counter" data-pjax-replace="true" data-turbo-replace="true" title="0" data-view-component="true" class="Counter">0</span>
</a>
  </li>

  <li>
        <div data-view-component="true" class="BtnGroup d-flex">
        <a href="/login?return_to=%2Fhaesleinhuepf%2Fgit-bob-playground" rel="nofollow" data-hydro-click="{&quot;event_type&quot;:&quot;authentication.click&quot;,&quot;payload&quot;:{&quot;location_in_page&quot;:&quot;star button&quot;,&quot;repository_id&quot;:871861441,&quot;auth_type&quot;:&quot;LOG_IN&quot;,&quot;originating_url&quot;:&quot;https://github.com/haesleinhuepf/git-bob-playground/blob/git-bob-mod-qJFnf5XmME/violin_plot.ipynb&quot;,&quot;user_id&quot;:null}}" data-hydro-click-hmac="9b88ac13929590037b4f3b397c416cdff5fe993df089c142d2488c31131c973b" aria-label="You must be signed in to star a repository" data-view-component="true" class="tooltipped tooltipped-sw btn-sm btn">    <svg aria-hidden="true" height="16" viewBox="0 0 16 16" version="1.1" width="16" data-view-component="true" class="octicon octicon-star v-align-text-bottom d-inline-block mr-2">
    <path d="M8 .25a.75.75 0 0 1 .673.418l1.882 3.815 4.21.612a.75.75 0 0 1 .416 1.279l-3.046 2.97.719 4.192a.751.751 0 0 1-1.088.791L8 12.347l-3.766 1.98a.75.75 0 0 1-1.088-.79l.72-4.194L.818 6.374a.75.75 0 0 1 .416-1.28l4.21-.611L7.327.668A.75.75 0 0 1 8 .25Zm0 2.445L6.615 5.5a.75.75 0 0 1-.564.41l-3.097.45 2.24 2.184a.75.75 0 0 1 .216.664l-.528 3.084 2.769-1.456a.75.75 0 0 1 .698 0l2.77 1.456-.53-3.084a.75.75 0 0 1 .216-.664l2.24-2.183-3.096-.45a.75.75 0 0 1-.564-.41L8 2.694Z"></path>
</svg><span data-view-component="true" class="d-inline">
          Star
</span>          <span id="repo-stars-counter-star" aria-label="0 users starred this repository" data-singular-suffix="user starred this repository" data-plural-suffix="users starred this repository" data-turbo-replace="true" title="0" data-view-component="true" class="Counter js-social-count">0</span>
</a></div>
  </li>

</ul>

        </div>
      </div>

        <div id="responsive-meta-container" data-turbo-replace>
</div>


          <nav data-pjax="#js-repo-pjax-container" aria-label="Repository" data-view-component="true" class="js-repo-nav js-sidenav-container-pjax js-responsive-underlinenav overflow-hidden UnderlineNav px-3 px-md-4 px-lg-5">

  <ul data-view-component="true" class="UnderlineNav-body list-style-none">
      <li data-view-component="true" class="d-inline-flex">
  <a id="code-tab" href="/haesleinhuepf/git-bob-playground/tree/git-bob-mod-qJFnf5XmME" data-tab-item="i0code-tab" data-selected-links="repo_source repo_downloads repo_commits repo_releases repo_tags repo_branches repo_packages repo_deployments repo_attestations /haesleinhuepf/git-bob-playground/tree/git-bob-mod-qJFnf5XmME" data-pjax="#repo-content-pjax-container" data-turbo-frame="repo-content-turbo-frame" data-hotkey="g c" data-analytics-event="{&quot;category&quot;:&quot;Underline navbar&quot;,&quot;action&quot;:&quot;Click tab&quot;,&quot;label&quot;:&quot;Code&quot;,&quot;target&quot;:&quot;UNDERLINE_NAV.TAB&quot;}" aria-current="page" data-view-component="true" class="UnderlineNav-item no-wrap js-responsive-underlinenav-item js-selected-navigation-item selected">
    
              <svg aria-hidden="true" height="16" viewBox="0 0 16 16" version="1.1" width="16" data-view-component="true" class="octicon octicon-code UnderlineNav-octicon d-none d-sm-inline">
    <path d="m11.28 3.22 4.25 4.25a.75.75 0 0 1 0 1.06l-4.25 4.25a.749.749 0 0 1-1.275-.326.749.749 0 0 1 .215-.734L13.94 8l-3.72-3.72a.749.749 0 0 1 .326-1.275.749.749 0 0 1 .734.215Zm-6.56 0a.751.751 0 0 1 1.042.018.751.751 0 0 1 .018 1.042L2.06 8l3.72 3.72a.749.749 0 0 1-.326 1.275.749.749 0 0 1-.734-.215L.47 8.53a.75.75 0 0 1 0-1.06Z"></path>
</svg>
        <span data-content="Code">Code</span>
          <span id="code-repo-tab-count" data-pjax-replace="" data-turbo-replace="" title="Not available" data-view-component="true" class="Counter"></span>


    
</a></li>
      <li data-view-component="true" class="d-inline-flex">
  <a id="issues-tab" href="/haesleinhuepf/git-bob-playground/issues" data-tab-item="i1issues-tab" data-selected-links="repo_issues repo_labels repo_milestones /haesleinhuepf/git-bob-playground/issues" data-pjax="#repo-content-pjax-container" data-turbo-frame="repo-content-turbo-frame" data-hotkey="g i" data-analytics-event="{&quot;category&quot;:&quot;Underline navbar&quot;,&quot;action&quot;:&quot;Click tab&quot;,&quot;label&quot;:&quot;Issues&quot;,&quot;target&quot;:&quot;UNDERLINE_NAV.TAB&quot;}" data-view-component="true" class="UnderlineNav-item no-wrap js-responsive-underlinenav-item js-selected-navigation-item">
    
              <svg aria-hidden="true" height="16" viewBox="0 0 16 16" version="1.1" width="16" data-view-component="true" class="octicon octicon-issue-opened UnderlineNav-octicon d-none d-sm-inline">
    <path d="M8 9.5a1.5 1.5 0 1 0 0-3 1.5 1.5 0 0 0 0 3Z"></path><path d="M8 0a8 8 0 1 1 0 16A8 8 0 0 1 8 0ZM1.5 8a6.5 6.5 0 1 0 13 0 6.5 6.5 0 0 0-13 0Z"></path>
</svg>
        <span data-content="Issues">Issues</span>
          <span id="issues-repo-tab-count" data-pjax-replace="" data-turbo-replace="" title="11" data-view-component="true" class="Counter">11</span>


    
</a></li>
      <li data-view-component="true" class="d-inline-flex">
  <a id="pull-requests-tab" href="/haesleinhuepf/git-bob-playground/pulls" data-tab-item="i2pull-requests-tab" data-selected-links="repo_pulls checks /haesleinhuepf/git-bob-playground/pulls" data-pjax="#repo-content-pjax-container" data-turbo-frame="repo-content-turbo-frame" data-hotkey="g p" data-analytics-event="{&quot;category&quot;:&quot;Underline navbar&quot;,&quot;action&quot;:&quot;Click tab&quot;,&quot;label&quot;:&quot;Pull requests&quot;,&quot;target&quot;:&quot;UNDERLINE_NAV.TAB&quot;}" data-view-component="true" class="UnderlineNav-item no-wrap js-responsive-underlinenav-item js-selected-navigation-item">
    
              <svg aria-hidden="true" height="16" viewBox="0 0 16 16" version="1.1" width="16" data-view-component="true" class="octicon octicon-git-pull-request UnderlineNav-octicon d-none d-sm-inline">
    <path d="M1.5 3.25a2.25 2.25 0 1 1 3 2.122v5.256a2.251 2.251 0 1 1-1.5 0V5.372A2.25 2.25 0 0 1 1.5 3.25Zm5.677-.177L9.573.677A.25.25 0 0 1 10 .854V2.5h1A2.5 2.5 0 0 1 13.5 5v5.628a2.251 2.251 0 1 1-1.5 0V5a1 1 0 0 0-1-1h-1v1.646a.25.25 0 0 1-.427.177L7.177 3.427a.25.25 0 0 1 0-.354ZM3.75 2.5a.75.75 0 1 0 0 1.5.75.75 0 0 0 0-1.5Zm0 9.5a.75.75 0 1 0 0 1.5.75.75 0 0 0 0-1.5Zm8.25.75a.75.75 0 1 0 1.5 0 .75.75 0 0 0-1.5 0Z"></path>
</svg>
        <span data-content="Pull requests">Pull requests</span>
          <span id="pull-requests-repo-tab-count" data-pjax-replace="" data-turbo-replace="" title="6" data-view-component="true" class="Counter">6</span>


    
</a></li>
      <li data-view-component="true" class="d-inline-flex">
  <a id="actions-tab" href="/haesleinhuepf/git-bob-playground/actions" data-tab-item="i3actions-tab" data-selected-links="repo_actions /haesleinhuepf/git-bob-playground/actions" data-pjax="#repo-content-pjax-container" data-turbo-frame="repo-content-turbo-frame" data-hotkey="g a" data-analytics-event="{&quot;category&quot;:&quot;Underline navbar&quot;,&quot;action&quot;:&quot;Click tab&quot;,&quot;label&quot;:&quot;Actions&quot;,&quot;target&quot;:&quot;UNDERLINE_NAV.TAB&quot;}" data-view-component="true" class="UnderlineNav-item no-wrap js-responsive-underlinenav-item js-selected-navigation-item">
    
              <svg aria-hidden="true" height="16" viewBox="0 0 16 16" version="1.1" width="16" data-view-component="true" class="octicon octicon-play UnderlineNav-octicon d-none d-sm-inline">
    <path d="M8 0a8 8 0 1 1 0 16A8 8 0 0 1 8 0ZM1.5 8a6.5 6.5 0 1 0 13 0 6.5 6.5 0 0 0-13 0Zm4.879-2.773 4.264 2.559a.25.25 0 0 1 0 .428l-4.264 2.559A.25.25 0 0 1 6 10.559V5.442a.25.25 0 0 1 .379-.215Z"></path>
</svg>
        <span data-content="Actions">Actions</span>
          <span id="actions-repo-tab-count" data-pjax-replace="" data-turbo-replace="" title="Not available" data-view-component="true" class="Counter"></span>


    
</a></li>
      <li data-view-component="true" class="d-inline-flex">
  <a id="projects-tab" href="/haesleinhuepf/git-bob-playground/projects" data-tab-item="i4projects-tab" data-selected-links="repo_projects new_repo_project repo_project /haesleinhuepf/git-bob-playground/projects" data-pjax="#repo-content-pjax-container" data-turbo-frame="repo-content-turbo-frame" data-hotkey="g b" data-analytics-event="{&quot;category&quot;:&quot;Underline navbar&quot;,&quot;action&quot;:&quot;Click tab&quot;,&quot;label&quot;:&quot;Projects&quot;,&quot;target&quot;:&quot;UNDERLINE_NAV.TAB&quot;}" data-view-component="true" class="UnderlineNav-item no-wrap js-responsive-underlinenav-item js-selected-navigation-item">
    
              <svg aria-hidden="true" height="16" viewBox="0 0 16 16" version="1.1" width="16" data-view-component="true" class="octicon octicon-table UnderlineNav-octicon d-none d-sm-inline">
    <path d="M0 1.75C0 .784.784 0 1.75 0h12.5C15.216 0 16 .784 16 1.75v12.5A1.75 1.75 0 0 1 14.25 16H1.75A1.75 1.75 0 0 1 0 14.25ZM6.5 6.5v8h7.75a.25.25 0 0 0 .25-.25V6.5Zm8-1.5V1.75a.25.25 0 0 0-.25-.25H6.5V5Zm-13 1.5v7.75c0 .138.112.25.25.25H5v-8ZM5 5V1.5H1.75a.25.25 0 0 0-.25.25V5Z"></path>
</svg>
        <span data-content="Projects">Projects</span>
          <span id="projects-repo-tab-count" data-pjax-replace="" data-turbo-replace="" title="0" hidden="hidden" data-view-component="true" class="Counter">0</span>


    
</a></li>
      <li data-view-component="true" class="d-inline-flex">
  <a id="security-tab" href="/haesleinhuepf/git-bob-playground/security" data-tab-item="i5security-tab" data-selected-links="security overview alerts policy token_scanning code_scanning /haesleinhuepf/git-bob-playground/security" data-pjax="#repo-content-pjax-container" data-turbo-frame="repo-content-turbo-frame" data-hotkey="g s" data-analytics-event="{&quot;category&quot;:&quot;Underline navbar&quot;,&quot;action&quot;:&quot;Click tab&quot;,&quot;label&quot;:&quot;Security&quot;,&quot;target&quot;:&quot;UNDERLINE_NAV.TAB&quot;}" data-view-component="true" class="UnderlineNav-item no-wrap js-responsive-underlinenav-item js-selected-navigation-item">
    
              <svg aria-hidden="true" height="16" viewBox="0 0 16 16" version="1.1" width="16" data-view-component="true" class="octicon octicon-shield UnderlineNav-octicon d-none d-sm-inline">
    <path d="M7.467.133a1.748 1.748 0 0 1 1.066 0l5.25 1.68A1.75 1.75 0 0 1 15 3.48V7c0 1.566-.32 3.182-1.303 4.682-.983 1.498-2.585 2.813-5.032 3.855a1.697 1.697 0 0 1-1.33 0c-2.447-1.042-4.049-2.357-5.032-3.855C1.32 10.182 1 8.566 1 7V3.48a1.75 1.75 0 0 1 1.217-1.667Zm.61 1.429a.25.25 0 0 0-.153 0l-5.25 1.68a.25.25 0 0 0-.174.238V7c0 1.358.275 2.666 1.057 3.86.784 1.194 2.121 2.34 4.366 3.297a.196.196 0 0 0 .154 0c2.245-.956 3.582-2.104 4.366-3.298C13.225 9.666 13.5 8.36 13.5 7V3.48a.251.251 0 0 0-.174-.237l-5.25-1.68ZM8.75 4.75v3a.75.75 0 0 1-1.5 0v-3a.75.75 0 0 1 1.5 0ZM9 10.5a1 1 0 1 1-2 0 1 1 0 0 1 2 0Z"></path>
</svg>
        <span data-content="Security">Security</span>
          <include-fragment src="/haesleinhuepf/git-bob-playground/security/overall-count" accept="text/fragment+html"></include-fragment>

    
</a></li>
      <li data-view-component="true" class="d-inline-flex">
  <a id="insights-tab" href="/haesleinhuepf/git-bob-playground/pulse" data-tab-item="i6insights-tab" data-selected-links="repo_graphs repo_contributors dependency_graph dependabot_updates pulse people community /haesleinhuepf/git-bob-playground/pulse" data-pjax="#repo-content-pjax-container" data-turbo-frame="repo-content-turbo-frame" data-analytics-event="{&quot;category&quot;:&quot;Underline navbar&quot;,&quot;action&quot;:&quot;Click tab&quot;,&quot;label&quot;:&quot;Insights&quot;,&quot;target&quot;:&quot;UNDERLINE_NAV.TAB&quot;}" data-view-component="true" class="UnderlineNav-item no-wrap js-responsive-underlinenav-item js-selected-navigation-item">
    
              <svg aria-hidden="true" height="16" viewBox="0 0 16 16" version="1.1" width="16" data-view-component="true" class="octicon octicon-graph UnderlineNav-octicon d-none d-sm-inline">
    <path d="M1.5 1.75V13.5h13.75a.75.75 0 0 1 0 1.5H.75a.75.75 0 0 1-.75-.75V1.75a.75.75 0 0 1 1.5 0Zm14.28 2.53-5.25 5.25a.75.75 0 0 1-1.06 0L7 7.06 4.28 9.78a.751.751 0 0 1-1.042-.018.751.751 0 0 1-.018-1.042l3.25-3.25a.75.75 0 0 1 1.06 0L10 7.94l4.72-4.72a.751.751 0 0 1 1.042.018.751.751 0 0 1 .018 1.042Z"></path>
</svg>
        <span data-content="Insights">Insights</span>
          <span id="insights-repo-tab-count" data-pjax-replace="" data-turbo-replace="" title="Not available" data-view-component="true" class="Counter"></span>


    
</a></li>
</ul>
    <div style="visibility:hidden;" data-view-component="true" class="UnderlineNav-actions js-responsive-underlinenav-overflow position-absolute pr-3 pr-md-4 pr-lg-5 right-0">      <action-menu data-select-variant="none" data-view-component="true">
  <focus-group direction="vertical" mnemonics retain>
    <button id="action-menu-24ffef63-1dd9-4a17-a39e-3d9186b304c3-button" popovertarget="action-menu-24ffef63-1dd9-4a17-a39e-3d9186b304c3-overlay" aria-controls="action-menu-24ffef63-1dd9-4a17-a39e-3d9186b304c3-list" aria-haspopup="true" aria-labelledby="tooltip-ead58299-d604-4a3f-901d-977409ee0703" type="button" data-view-component="true" class="Button Button--iconOnly Button--secondary Button--medium UnderlineNav-item">  <svg aria-hidden="true" height="16" viewBox="0 0 16 16" version="1.1" width="16" data-view-component="true" class="octicon octicon-kebab-horizontal Button-visual">
    <path d="M8 9a1.5 1.5 0 1 0 0-3 1.5 1.5 0 0 0 0 3ZM1.5 9a1.5 1.5 0 1 0 0-3 1.5 1.5 0 0 0 0 3Zm13 0a1.5 1.5 0 1 0 0-3 1.5 1.5 0 0 0 0 3Z"></path>
</svg>
</button><tool-tip id="tooltip-ead58299-d604-4a3f-901d-977409ee0703" for="action-menu-24ffef63-1dd9-4a17-a39e-3d9186b304c3-button" popover="manual" data-direction="s" data-type="label" data-view-component="true" class="sr-only position-absolute">Additional navigation options</tool-tip>


<anchored-position id="action-menu-24ffef63-1dd9-4a17-a39e-3d9186b304c3-overlay" anchor="action-menu-24ffef63-1dd9-4a17-a39e-3d9186b304c3-button" align="start" side="outside-bottom" anchor-offset="normal" popover="auto" data-view-component="true">
  <div data-view-component="true" class="Overlay Overlay--size-auto">
    
      <div data-view-component="true" class="Overlay-body Overlay-body--paddingNone">          <action-list>
  <div data-view-component="true">
    <ul aria-labelledby="action-menu-24ffef63-1dd9-4a17-a39e-3d9186b304c3-button" id="action-menu-24ffef63-1dd9-4a17-a39e-3d9186b304c3-list" role="menu" data-view-component="true" class="ActionListWrap--inset ActionListWrap">
        <li hidden="hidden" data-menu-item="i0code-tab" data-targets="action-list.items" role="none" data-view-component="true" class="ActionListItem">
    
    
    <a tabindex="-1" id="item-34492cc2-1343-4e5c-a02d-0907f406d1f0" href="/haesleinhuepf/git-bob-playground/tree/git-bob-mod-qJFnf5XmME" role="menuitem" data-view-component="true" class="ActionListContent ActionListContent--visual16">
        <span class="ActionListItem-visual ActionListItem-visual--leading">
          <svg aria-hidden="true" height="16" viewBox="0 0 16 16" version="1.1" width="16" data-view-component="true" class="octicon octicon-code">
    <path d="m11.28 3.22 4.25 4.25a.75.75 0 0 1 0 1.06l-4.25 4.25a.749.749 0 0 1-1.275-.326.749.749 0 0 1 .215-.734L13.94 8l-3.72-3.72a.749.749 0 0 1 .326-1.275.749.749 0 0 1 .734.215Zm-6.56 0a.751.751 0 0 1 1.042.018.751.751 0 0 1 .018 1.042L2.06 8l3.72 3.72a.749.749 0 0 1-.326 1.275.749.749 0 0 1-.734-.215L.47 8.53a.75.75 0 0 1 0-1.06Z"></path>
</svg>
        </span>
      
        <span data-view-component="true" class="ActionListItem-label">
          Code
</span>      
</a>
  
</li>
        <li hidden="hidden" data-menu-item="i1issues-tab" data-targets="action-list.items" role="none" data-view-component="true" class="ActionListItem">
    
    
    <a tabindex="-1" id="item-3c2f4038-e905-4c92-a443-8300cc854826" href="/haesleinhuepf/git-bob-playground/issues" role="menuitem" data-view-component="true" class="ActionListContent ActionListContent--visual16">
        <span class="ActionListItem-visual ActionListItem-visual--leading">
          <svg aria-hidden="true" height="16" viewBox="0 0 16 16" version="1.1" width="16" data-view-component="true" class="octicon octicon-issue-opened">
    <path d="M8 9.5a1.5 1.5 0 1 0 0-3 1.5 1.5 0 0 0 0 3Z"></path><path d="M8 0a8 8 0 1 1 0 16A8 8 0 0 1 8 0ZM1.5 8a6.5 6.5 0 1 0 13 0 6.5 6.5 0 0 0-13 0Z"></path>
</svg>
        </span>
      
        <span data-view-component="true" class="ActionListItem-label">
          Issues
</span>      
</a>
  
</li>
        <li hidden="hidden" data-menu-item="i2pull-requests-tab" data-targets="action-list.items" role="none" data-view-component="true" class="ActionListItem">
    
    
    <a tabindex="-1" id="item-a84e3b5e-7c20-4356-af1c-5dcff48dbdf3" href="/haesleinhuepf/git-bob-playground/pulls" role="menuitem" data-view-component="true" class="ActionListContent ActionListContent--visual16">
        <span class="ActionListItem-visual ActionListItem-visual--leading">
          <svg aria-hidden="true" height="16" viewBox="0 0 16 16" version="1.1" width="16" data-view-component="true" class="octicon octicon-git-pull-request">
    <path d="M1.5 3.25a2.25 2.25 0 1 1 3 2.122v5.256a2.251 2.251 0 1 1-1.5 0V5.372A2.25 2.25 0 0 1 1.5 3.25Zm5.677-.177L9.573.677A.25.25 0 0 1 10 .854V2.5h1A2.5 2.5 0 0 1 13.5 5v5.628a2.251 2.251 0 1 1-1.5 0V5a1 1 0 0 0-1-1h-1v1.646a.25.25 0 0 1-.427.177L7.177 3.427a.25.25 0 0 1 0-.354ZM3.75 2.5a.75.75 0 1 0 0 1.5.75.75 0 0 0 0-1.5Zm0 9.5a.75.75 0 1 0 0 1.5.75.75 0 0 0 0-1.5Zm8.25.75a.75.75 0 1 0 1.5 0 .75.75 0 0 0-1.5 0Z"></path>
</svg>
        </span>
      
        <span data-view-component="true" class="ActionListItem-label">
          Pull requests
</span>      
</a>
  
</li>
        <li hidden="hidden" data-menu-item="i3actions-tab" data-targets="action-list.items" role="none" data-view-component="true" class="ActionListItem">
    
    
    <a tabindex="-1" id="item-a8556aa1-ab50-425d-812f-a6308a853609" href="/haesleinhuepf/git-bob-playground/actions" role="menuitem" data-view-component="true" class="ActionListContent ActionListContent--visual16">
        <span class="ActionListItem-visual ActionListItem-visual--leading">
          <svg aria-hidden="true" height="16" viewBox="0 0 16 16" version="1.1" width="16" data-view-component="true" class="octicon octicon-play">
    <path d="M8 0a8 8 0 1 1 0 16A8 8 0 0 1 8 0ZM1.5 8a6.5 6.5 0 1 0 13 0 6.5 6.5 0 0 0-13 0Zm4.879-2.773 4.264 2.559a.25.25 0 0 1 0 .428l-4.264 2.559A.25.25 0 0 1 6 10.559V5.442a.25.25 0 0 1 .379-.215Z"></path>
</svg>
        </span>
      
        <span data-view-component="true" class="ActionListItem-label">
          Actions
</span>      
</a>
  
</li>
        <li hidden="hidden" data-menu-item="i4projects-tab" data-targets="action-list.items" role="none" data-view-component="true" class="ActionListItem">
    
    
    <a tabindex="-1" id="item-33e4f86f-5f8a-46ad-ac4a-dbc2d7272d3f" href="/haesleinhuepf/git-bob-playground/projects" role="menuitem" data-view-component="true" class="ActionListContent ActionListContent--visual16">
        <span class="ActionListItem-visual ActionListItem-visual--leading">
          <svg aria-hidden="true" height="16" viewBox="0 0 16 16" version="1.1" width="16" data-view-component="true" class="octicon octicon-table">
    <path d="M0 1.75C0 .784.784 0 1.75 0h12.5C15.216 0 16 .784 16 1.75v12.5A1.75 1.75 0 0 1 14.25 16H1.75A1.75 1.75 0 0 1 0 14.25ZM6.5 6.5v8h7.75a.25.25 0 0 0 .25-.25V6.5Zm8-1.5V1.75a.25.25 0 0 0-.25-.25H6.5V5Zm-13 1.5v7.75c0 .138.112.25.25.25H5v-8ZM5 5V1.5H1.75a.25.25 0 0 0-.25.25V5Z"></path>
</svg>
        </span>
      
        <span data-view-component="true" class="ActionListItem-label">
          Projects
</span>      
</a>
  
</li>
        <li hidden="hidden" data-menu-item="i5security-tab" data-targets="action-list.items" role="none" data-view-component="true" class="ActionListItem">
    
    
    <a tabindex="-1" id="item-9f375905-6d97-4f30-a06e-b5ac49e35a25" href="/haesleinhuepf/git-bob-playground/security" role="menuitem" data-view-component="true" class="ActionListContent ActionListContent--visual16">
        <span class="ActionListItem-visual ActionListItem-visual--leading">
          <svg aria-hidden="true" height="16" viewBox="0 0 16 16" version="1.1" width="16" data-view-component="true" class="octicon octicon-shield">
    <path d="M7.467.133a1.748 1.748 0 0 1 1.066 0l5.25 1.68A1.75 1.75 0 0 1 15 3.48V7c0 1.566-.32 3.182-1.303 4.682-.983 1.498-2.585 2.813-5.032 3.855a1.697 1.697 0 0 1-1.33 0c-2.447-1.042-4.049-2.357-5.032-3.855C1.32 10.182 1 8.566 1 7V3.48a1.75 1.75 0 0 1 1.217-1.667Zm.61 1.429a.25.25 0 0 0-.153 0l-5.25 1.68a.25.25 0 0 0-.174.238V7c0 1.358.275 2.666 1.057 3.86.784 1.194 2.121 2.34 4.366 3.297a.196.196 0 0 0 .154 0c2.245-.956 3.582-2.104 4.366-3.298C13.225 9.666 13.5 8.36 13.5 7V3.48a.251.251 0 0 0-.174-.237l-5.25-1.68ZM8.75 4.75v3a.75.75 0 0 1-1.5 0v-3a.75.75 0 0 1 1.5 0ZM9 10.5a1 1 0 1 1-2 0 1 1 0 0 1 2 0Z"></path>
</svg>
        </span>
      
        <span data-view-component="true" class="ActionListItem-label">
          Security
</span>      
</a>
  
</li>
        <li hidden="hidden" data-menu-item="i6insights-tab" data-targets="action-list.items" role="none" data-view-component="true" class="ActionListItem">
    
    
    <a tabindex="-1" id="item-d8aa3b3d-a297-486a-8fa3-94be7f1e7a0a" href="/haesleinhuepf/git-bob-playground/pulse" role="menuitem" data-view-component="true" class="ActionListContent ActionListContent--visual16">
        <span class="ActionListItem-visual ActionListItem-visual--leading">
          <svg aria-hidden="true" height="16" viewBox="0 0 16 16" version="1.1" width="16" data-view-component="true" class="octicon octicon-graph">
    <path d="M1.5 1.75V13.5h13.75a.75.75 0 0 1 0 1.5H.75a.75.75 0 0 1-.75-.75V1.75a.75.75 0 0 1 1.5 0Zm14.28 2.53-5.25 5.25a.75.75 0 0 1-1.06 0L7 7.06 4.28 9.78a.751.751 0 0 1-1.042-.018.751.751 0 0 1-.018-1.042l3.25-3.25a.75.75 0 0 1 1.06 0L10 7.94l4.72-4.72a.751.751 0 0 1 1.042.018.751.751 0 0 1 .018 1.042Z"></path>
</svg>
        </span>
      
        <span data-view-component="true" class="ActionListItem-label">
          Insights
</span>      
</a>
  
</li>
</ul>    
</div></action-list>


</div>
      
</div></anchored-position>  </focus-group>
</action-menu></div>
</nav>

  </div>

  



<turbo-frame id="repo-content-turbo-frame" target="_top" data-turbo-action="advance" class="">
    <div id="repo-content-pjax-container" class="repository-content " >
    



    
      
    








<react-app
  app-name="react-code-view"
  initial-path="/haesleinhuepf/git-bob-playground/blob/git-bob-mod-qJFnf5XmME/violin_plot.ipynb"
    style="display: block; min-height: calc(100vh - 64px);"
  data-attempted-ssr="false"
  data-ssr="false"
  data-lazy="false"
  data-alternate="false"
>
  
  <script type="application/json" data-target="react-app.embeddedData">{"payload":{"allShortcutsEnabled":false,"fileTree":{"":{"items":[{"name":".github","path":".github","contentType":"directory"},{"name":".gitignore","path":".gitignore","contentType":"file"},{"name":"LICENSE","path":"LICENSE","contentType":"file"},{"name":"README.md","path":"README.md","contentType":"file"},{"name":"long_file.java","path":"long_file.java","contentType":"file"},{"name":"requirements.txt","path":"requirements.txt","contentType":"file"},{"name":"violin_plot.ipynb","path":"violin_plot.ipynb","contentType":"file"},{"name":"violin_plot.png","path":"violin_plot.png","contentType":"file"}],"totalCount":8}},"fileTreeProcessingTime":1.737106,"foldersToFetch":[],"repo":{"id":871861441,"defaultBranch":"main","name":"git-bob-playground","ownerLogin":"haesleinhuepf","currentUserCanPush":false,"isFork":false,"isEmpty":false,"createdAt":"2024-10-13T06:28:45.000Z","ownerAvatar":"https://avatars.githubusercontent.com/u/12660498?v=4","public":true,"private":false,"isOrgOwned":false},"codeLineWrapEnabled":false,"symbolsExpanded":false,"treeExpanded":true,"refInfo":{"name":"git-bob-mod-qJFnf5XmME","listCacheKey":"v0:1729418282.0","canEdit":false,"refType":"branch","currentOid":"ad35dfa4bb754837883e6ee124111baef085b891"},"path":"violin_plot.ipynb","currentUser":null,"blob":{"rawLines":["{"," \"cells\": [","  {","   \"cell_type\": \"markdown\",","   \"metadata\": {},","   \"source\": [","    \"# Violin Plot from Mixed Normal Distributions\\n\",","    \"\\n\",","    \"In this notebook, we will generate two datasets using combinations of three normal distributions each with different means and standard deviations. Then, we'll use these datasets to create a violin plot. The libraries used are numpy, seaborn, and matplotlib.\"","   ]","  },","  {","   \"cell_type\": \"markdown\",","   \"metadata\": {},","   \"source\": [","    \"## Import Libraries\\n\",","    \"\\n\",","    \"We begin by importing the necessary libraries: numpy for data generation, seaborn for creating plots, and matplotlib for displaying plots.\"","   ]","  },","  {","   \"cell_type\": \"code\",","   \"execution_count\": 1,","   \"metadata\": {","    \"execution\": {","     \"iopub.execute_input\": \"2024-10-20T08:49:52.745176Z\",","     \"iopub.status.busy\": \"2024-10-20T08:49:52.744990Z\",","     \"iopub.status.idle\": \"2024-10-20T08:49:54.262342Z\",","     \"shell.execute_reply\": \"2024-10-20T08:49:54.261749Z\"","    }","   },","   \"outputs\": [],","   \"source\": [","    \"import numpy as np\\n\",","    \"import seaborn as sns\\n\",","    \"import matplotlib.pyplot as plt\"","   ]","  },","  {","   \"cell_type\": \"markdown\",","   \"metadata\": {},","   \"source\": [","    \"## Function to Generate Mixed Normal Distributions\\n\",","    \"\\n\",","    \"We define a function `generate_mixed_distribution` to create a 1D dataset by combining multiple normal distributions.\"","   ]","  },","  {","   \"cell_type\": \"code\",","   \"execution_count\": 2,","   \"metadata\": {","    \"execution\": {","     \"iopub.execute_input\": \"2024-10-20T08:49:54.264585Z\",","     \"iopub.status.busy\": \"2024-10-20T08:49:54.264304Z\",","     \"iopub.status.idle\": \"2024-10-20T08:49:54.268367Z\",","     \"shell.execute_reply\": \"2024-10-20T08:49:54.267900Z\"","    }","   },","   \"outputs\": [],","   \"source\": [","    \"def generate_mixed_distribution(size, means, std_devs):\\n\",","    \"    \\\"\\\"\\\"\\n\",","    \"    Generate a 1D dataset consisting of multiple normal distributions.\\n\",","    \"\\n\",","    \"    Parameters\\n\",","    \"    ----------\\n\",","    \"    size : int\\n\",","    \"        The total number of samples in the dataset.\\n\",","    \"    means : list of float\\n\",","    \"        A list containing the means of the normal distributions.\\n\",","    \"    std_devs : list of float\\n\",","    \"        A list containing the standard deviations of the normal distributions.\\n\",","    \"\\n\",","    \"    Returns\\n\",","    \"    -------\\n\",","    \"    np.ndarray\\n\",","    \"        An array containing the generated dataset.\\n\",","    \"    \\\"\\\"\\\"\\n\",","    \"    assert len(means) == len(std_devs), \\\"Means and standard deviations lists must have the same length\\\"\\n\",","    \"    \\n\",","    \"    num_distributions = len(means)\\n\",","    \"    samples_per_distribution = size // num_distributions\\n\",","    \"    data = np.concatenate([np.random.normal(loc=m, scale=s, size=samples_per_distribution) \\n\",","    \"                           for m, s in zip(means, std_devs)])\\n\",","    \"    return data\"","   ]","  },","  {","   \"cell_type\": \"markdown\",","   \"metadata\": {},","   \"source\": [","    \"## Generate Example Datasets\\n\",","    \"\\n\",","    \"We proceed by creating two example datasets, each composed of three normal distributions.\"","   ]","  },","  {","   \"cell_type\": \"code\",","   \"execution_count\": 3,","   \"metadata\": {","    \"execution\": {","     \"iopub.execute_input\": \"2024-10-20T08:49:54.270060Z\",","     \"iopub.status.busy\": \"2024-10-20T08:49:54.269867Z\",","     \"iopub.status.idle\": \"2024-10-20T08:49:54.273132Z\",","     \"shell.execute_reply\": \"2024-10-20T08:49:54.272685Z\"","    }","   },","   \"outputs\": [],","   \"source\": [","    \"dataset1 = generate_mixed_distribution(300, [0, 3, 6], [0.5, 1.0, 1.5])\\n\",","    \"dataset2 = generate_mixed_distribution(300, [1, 4, 7], [0.6, 1.2, 1.0])\"","   ]","  },","  {","   \"cell_type\": \"markdown\",","   \"metadata\": {},","   \"source\": [","    \"## Create and Save Violin Plot\\n\",","    \"\\n\",","    \"Using seaborn, we create a violin plot to visualize the two datasets and save the plot as a PNG file.\"","   ]","  },","  {","   \"cell_type\": \"code\",","   \"execution_count\": 4,","   \"metadata\": {","    \"execution\": {","     \"iopub.execute_input\": \"2024-10-20T08:49:54.275152Z\",","     \"iopub.status.busy\": \"2024-10-20T08:49:54.274669Z\",","     \"iopub.status.idle\": \"2024-10-20T08:49:54.492990Z\",","     \"shell.execute_reply\": \"2024-10-20T08:49:54.492413Z\"","    }","   },","   \"outputs\": [","    {","     \"data\": {","      \"image/png\": \"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\",","      \"text/plain\": [","       \"\u003cFigure size 640x480 with 1 Axes\u003e\"","      ]","     },","     \"metadata\": {},","     \"output_type\": \"display_data\"","    }","   ],","   \"source\": [","    \"data = [dataset1, dataset2]\\n\",","    \"sns.violinplot(data=data)\\n\",","    \"plt.xticks([0, 1], ['Dataset 1', 'Dataset 2'])\\n\",","    \"plt.title('Violin Plot of Two Mixed Normal Distributions')\\n\",","    \"plt.xlabel('Datasets')\\n\",","    \"plt.ylabel('Values')\\n\",","    \"plt.savefig('violin_plot.png')\\n\",","    \"plt.show()\"","   ]","  }"," ],"," \"metadata\": {","  \"language_info\": {","   \"codemirror_mode\": {","    \"name\": \"ipython\",","    \"version\": 3","   },","   \"file_extension\": \".py\",","   \"mimetype\": \"text/x-python\",","   \"name\": \"python\",","   \"nbconvert_exporter\": \"python\",","   \"pygments_lexer\": \"ipython3\",","   \"version\": \"3.12.7\"","  }"," },"," \"nbformat\": 4,"," \"nbformat_minor\": 4","}"],"stylingDirectives":null,"colorizedLines":null,"csv":null,"csvError":null,"dependabotInfo":{"showConfigurationBanner":false,"configFilePath":null,"networkDependabotPath":"/haesleinhuepf/git-bob-playground/network/updates","dismissConfigurationNoticePath":"/settings/dismiss-notice/dependabot_configuration_notice","configurationNoticeDismissed":null},"displayName":"violin_plot.ipynb","displayUrl":"https://notebooks.githubusercontent.com/view/ipynb?browser=unknown_browser\u0026bypass_fastly=true\u0026color_mode=auto\u0026commit=ad35dfa4bb754837883e6ee124111baef085b891\u0026device=unknown_device\u0026docs_host=https%3A%2F%2Fdocs.github.com\u0026enc_url=68747470733a2f2f7261772e67697468756275736572636f6e74656e742e636f6d2f686165736c65696e68756570662f6769742d626f622d706c617967726f756e642f616433356466613462623735343833373838336536656531323431313162616566303835623839312f76696f6c696e5f706c6f742e6970796e62\u0026logged_in=false\u0026nwo=haesleinhuepf%2Fgit-bob-playground\u0026path=violin_plot.ipynb\u0026platform=unknown_platform\u0026repository_id=871861441\u0026repository_type=Repository\u0026version=0","headerInfo":{"blobSize":"52.4 KB","deleteTooltip":"You must be signed in to make or propose changes","editTooltip":"You must be signed in to make or propose changes","ghDesktopPath":"https://desktop.github.com","isGitLfs":false,"onBranch":true,"shortPath":"6ad7fcb","siteNavLoginPath":"/login?return_to=https%3A%2F%2Fgithub.com%2Fhaesleinhuepf%2Fgit-bob-playground%2Fblob%2Fgit-bob-mod-qJFnf5XmME%2Fviolin_plot.ipynb","isCSV":false,"isRichtext":false,"toc":null,"lineInfo":{"truncatedLoc":"174","truncatedSloc":"174"},"mode":"file"},"image":false,"isCodeownersFile":null,"isPlain":false,"isValidLegacyIssueTemplate":false,"issueTemplate":null,"discussionTemplate":null,"language":"Jupyter Notebook","languageID":185,"large":false,"planSupportInfo":{"repoIsFork":null,"repoOwnedByCurrentUser":null,"requestFullPath":"/haesleinhuepf/git-bob-playground/blob/git-bob-mod-qJFnf5XmME/violin_plot.ipynb","showFreeOrgGatedFeatureMessage":null,"showPlanSupportBanner":null,"upgradeDataAttributes":null,"upgradePath":null},"publishBannersInfo":{"dismissActionNoticePath":"/settings/dismiss-notice/publish_action_from_dockerfile","releasePath":"/haesleinhuepf/git-bob-playground/releases/new?marketplace=true","showPublishActionBanner":false},"rawBlobUrl":"https://github.com/haesleinhuepf/git-bob-playground/raw/refs/heads/git-bob-mod-qJFnf5XmME/violin_plot.ipynb","renderImageOrRaw":false,"richText":null,"renderedFileInfo":{"identityUUID":"9bfdade1-3c1e-4767-9c6d-79c161627e90","renderFileType":"ipynb","size":53646},"shortPath":null,"symbolsEnabled":true,"tabSize":8,"topBannersInfo":{"overridingGlobalFundingFile":false,"globalPreferredFundingPath":null,"showInvalidCitationWarning":false,"citationHelpUrl":"https://docs.github.com/github/creating-cloning-and-archiving-repositories/creating-a-repository-on-github/about-citation-files","actionsOnboardingTip":null},"truncated":false,"viewable":true,"workflowRedirectUrl":null,"symbols":{"timed_out":false,"not_analyzed":true,"symbols":[]}},"copilotInfo":null,"copilotAccessAllowed":false,"csrf_tokens":{"/haesleinhuepf/git-bob-playground/branches":{"post":"NQiJ4qrMT1JKRioERn1elcanZGJxIv-RRMvRvZCd314O9NjbiJaMGPsYctxY_z2qtUcZoY06ATLTv1JUbe6H3g"},"/repos/preferences":{"post":"VM_et7OfA6FtAezcpJKWvOL9yREyXKaVMH8L4rWKE0bg4IMO0M0D0VIX070xvC_Bp5EZBQZfYN_27ooOq5meDQ"}}},"title":"git-bob-playground/violin_plot.ipynb at git-bob-mod-qJFnf5XmME · haesleinhuepf/git-bob-playground","appPayload":{"helpUrl":"https://docs.github.com","findFileWorkerPath":"/assets-cdn/worker/find-file-worker-1583894afd38.js","findInFileWorkerPath":"/assets-cdn/worker/find-in-file-worker-f653046cb227.js","githubDevUrl":null,"enabled_features":{"code_nav_ui_events":false,"overview_shared_code_dropdown_button":false,"react_blob_overlay":false,"copilot_conversational_ux_embedding_update":false,"copilot_smell_icebreaker_ux":true,"copilot_workspace":false,"blob_edit_unsaved_changes_storage":false,"accessible_code_button":true,"overview_branch_and_tag_count":true,"overview_spoofed_commit_banner_react":true}}}</script>
  <div data-target="react-app.reactRoot"></div>
</react-app>
</turbo-frame>



  </div>

</turbo-frame>

    </main>
  </div>

  </div>

          <footer class="footer pt-8 pb-6 f6 color-fg-muted p-responsive" role="contentinfo" >
  <h2 class='sr-only'>Footer</h2>

  


  <div class="d-flex flex-justify-center flex-items-center flex-column-reverse flex-lg-row flex-wrap flex-lg-nowrap">
    <div class="d-flex flex-items-center flex-shrink-0 mx-2">
      <a aria-label="Homepage" title="GitHub" class="footer-octicon mr-2" href="https://github.com">
        <svg aria-hidden="true" height="24" viewBox="0 0 24 24" version="1.1" width="24" data-view-component="true" class="octicon octicon-mark-github">
    <path d="M12.5.75C6.146.75 1 5.896 1 12.25c0 5.089 3.292 9.387 7.863 10.91.575.101.79-.244.79-.546 0-.273-.014-1.178-.014-2.142-2.889.532-3.636-.704-3.866-1.35-.13-.331-.69-1.352-1.18-1.625-.402-.216-.977-.748-.014-.762.906-.014 1.553.834 1.769 1.179 1.035 1.74 2.688 1.25 3.349.948.1-.747.402-1.25.733-1.538-2.559-.287-5.232-1.279-5.232-5.678 0-1.25.445-2.285 1.178-3.09-.115-.288-.517-1.467.115-3.048 0 0 .963-.302 3.163 1.179.92-.259 1.897-.388 2.875-.388.977 0 1.955.13 2.875.388 2.2-1.495 3.162-1.179 3.162-1.179.633 1.581.23 2.76.115 3.048.733.805 1.179 1.825 1.179 3.09 0 4.413-2.688 5.39-5.247 5.678.417.36.776 1.05.776 2.128 0 1.538-.014 2.774-.014 3.162 0 .302.216.662.79.547C20.709 21.637 24 17.324 24 12.25 24 5.896 18.854.75 12.5.75Z"></path>
</svg>
</a>
      <span>
        &copy; 2024 GitHub,&nbsp;Inc.
      </span>
    </div>

    <nav aria-label="Footer">
      <h3 class="sr-only" id="sr-footer-heading">Footer navigation</h3>

      <ul class="list-style-none d-flex flex-justify-center flex-wrap mb-2 mb-lg-0" aria-labelledby="sr-footer-heading">

          <li class="mx-2">
            <a data-analytics-event="{&quot;category&quot;:&quot;Footer&quot;,&quot;action&quot;:&quot;go to Terms&quot;,&quot;label&quot;:&quot;text:terms&quot;}" href="https://docs.github.com/site-policy/github-terms/github-terms-of-service" data-view-component="true" class="Link--secondary Link">Terms</a>
          </li>

          <li class="mx-2">
            <a data-analytics-event="{&quot;category&quot;:&quot;Footer&quot;,&quot;action&quot;:&quot;go to privacy&quot;,&quot;label&quot;:&quot;text:privacy&quot;}" href="https://docs.github.com/site-policy/privacy-policies/github-privacy-statement" data-view-component="true" class="Link--secondary Link">Privacy</a>
          </li>

          <li class="mx-2">
            <a data-analytics-event="{&quot;category&quot;:&quot;Footer&quot;,&quot;action&quot;:&quot;go to security&quot;,&quot;label&quot;:&quot;text:security&quot;}" href="https://github.com/security" data-view-component="true" class="Link--secondary Link">Security</a>
          </li>

          <li class="mx-2">
            <a data-analytics-event="{&quot;category&quot;:&quot;Footer&quot;,&quot;action&quot;:&quot;go to status&quot;,&quot;label&quot;:&quot;text:status&quot;}" href="https://www.githubstatus.com/" data-view-component="true" class="Link--secondary Link">Status</a>
          </li>

          <li class="mx-2">
            <a data-analytics-event="{&quot;category&quot;:&quot;Footer&quot;,&quot;action&quot;:&quot;go to docs&quot;,&quot;label&quot;:&quot;text:docs&quot;}" href="https://docs.github.com/" data-view-component="true" class="Link--secondary Link">Docs</a>
          </li>

          <li class="mx-2">
            <a data-analytics-event="{&quot;category&quot;:&quot;Footer&quot;,&quot;action&quot;:&quot;go to contact&quot;,&quot;label&quot;:&quot;text:contact&quot;}" href="https://support.github.com?tags=dotcom-footer" data-view-component="true" class="Link--secondary Link">Contact</a>
          </li>

          <li class="mr-3" >
  <cookie-consent-link>
    <button
      type="button"
      class="Link--secondary underline-on-hover border-0 p-0 color-bg-transparent"
      data-action="click:cookie-consent-link#showConsentManagement"
      data-analytics-event="{&quot;location&quot;:&quot;footer&quot;,&quot;action&quot;:&quot;cookies&quot;,&quot;context&quot;:&quot;subfooter&quot;,&quot;tag&quot;:&quot;link&quot;,&quot;label&quot;:&quot;cookies_link_subfooter_footer&quot;}"
    >
      Manage cookies
    </button>
  </cookie-consent-link>
</li>

<li class="mr-3">
  <cookie-consent-link>
    <button
      type="button"
      class="Link--secondary underline-on-hover border-0 p-0 color-bg-transparent"
      data-action="click:cookie-consent-link#showConsentManagement"
      data-analytics-event="{&quot;location&quot;:&quot;footer&quot;,&quot;action&quot;:&quot;dont_share_info&quot;,&quot;context&quot;:&quot;subfooter&quot;,&quot;tag&quot;:&quot;link&quot;,&quot;label&quot;:&quot;dont_share_info_link_subfooter_footer&quot;}"
    >
      Do not share my personal information
    </button>
  </cookie-consent-link>
</li>

      </ul>
    </nav>
  </div>
</footer>




    <ghcc-consent id="ghcc" class="position-fixed bottom-0 left-0" style="z-index: 999999" data-initial-cookie-consent-allowed="" data-cookie-consent-required="false"></ghcc-consent>


  <div id="ajax-error-message" class="ajax-error-message flash flash-error" hidden>
    <svg aria-hidden="true" height="16" viewBox="0 0 16 16" version="1.1" width="16" data-view-component="true" class="octicon octicon-alert">
    <path d="M6.457 1.047c.659-1.234 2.427-1.234 3.086 0l6.082 11.378A1.75 1.75 0 0 1 14.082 15H1.918a1.75 1.75 0 0 1-1.543-2.575Zm1.763.707a.25.25 0 0 0-.44 0L1.698 13.132a.25.25 0 0 0 .22.368h12.164a.25.25 0 0 0 .22-.368Zm.53 3.996v2.5a.75.75 0 0 1-1.5 0v-2.5a.75.75 0 0 1 1.5 0ZM9 11a1 1 0 1 1-2 0 1 1 0 0 1 2 0Z"></path>
</svg>
    <button type="button" class="flash-close js-ajax-error-dismiss" aria-label="Dismiss error">
      <svg aria-hidden="true" height="16" viewBox="0 0 16 16" version="1.1" width="16" data-view-component="true" class="octicon octicon-x">
    <path d="M3.72 3.72a.75.75 0 0 1 1.06 0L8 6.94l3.22-3.22a.749.749 0 0 1 1.275.326.749.749 0 0 1-.215.734L9.06 8l3.22 3.22a.749.749 0 0 1-.326 1.275.749.749 0 0 1-.734-.215L8 9.06l-3.22 3.22a.751.751 0 0 1-1.042-.018.751.751 0 0 1-.018-1.042L6.94 8 3.72 4.78a.75.75 0 0 1 0-1.06Z"></path>
</svg>
    </button>
    You can’t perform that action at this time.
  </div>

    <template id="site-details-dialog">
  <details class="details-reset details-overlay details-overlay-dark lh-default color-fg-default hx_rsm" open>
    <summary role="button" aria-label="Close dialog"></summary>
    <details-dialog class="Box Box--overlay d-flex flex-column anim-fade-in fast hx_rsm-dialog hx_rsm-modal">
      <button class="Box-btn-octicon m-0 btn-octicon position-absolute right-0 top-0" type="button" aria-label="Close dialog" data-close-dialog>
        <svg aria-hidden="true" height="16" viewBox="0 0 16 16" version="1.1" width="16" data-view-component="true" class="octicon octicon-x">
    <path d="M3.72 3.72a.75.75 0 0 1 1.06 0L8 6.94l3.22-3.22a.749.749 0 0 1 1.275.326.749.749 0 0 1-.215.734L9.06 8l3.22 3.22a.749.749 0 0 1-.326 1.275.749.749 0 0 1-.734-.215L8 9.06l-3.22 3.22a.751.751 0 0 1-1.042-.018.751.751 0 0 1-.018-1.042L6.94 8 3.72 4.78a.75.75 0 0 1 0-1.06Z"></path>
</svg>
      </button>
      <div class="octocat-spinner my-6 js-details-dialog-spinner"></div>
    </details-dialog>
  </details>
</template>

    <div class="Popover js-hovercard-content position-absolute" style="display: none; outline: none;">
  <div class="Popover-message Popover-message--bottom-left Popover-message--large Box color-shadow-large" style="width:360px;">
  </div>
</div>

    <template id="snippet-clipboard-copy-button">
  <div class="zeroclipboard-container position-absolute right-0 top-0">
    <clipboard-copy aria-label="Copy" class="ClipboardButton btn js-clipboard-copy m-2 p-0" data-copy-feedback="Copied!" data-tooltip-direction="w">
      <svg aria-hidden="true" height="16" viewBox="0 0 16 16" version="1.1" width="16" data-view-component="true" class="octicon octicon-copy js-clipboard-copy-icon m-2">
    <path d="M0 6.75C0 5.784.784 5 1.75 5h1.5a.75.75 0 0 1 0 1.5h-1.5a.25.25 0 0 0-.25.25v7.5c0 .138.112.25.25.25h7.5a.25.25 0 0 0 .25-.25v-1.5a.75.75 0 0 1 1.5 0v1.5A1.75 1.75 0 0 1 9.25 16h-7.5A1.75 1.75 0 0 1 0 14.25Z"></path><path d="M5 1.75C5 .784 5.784 0 6.75 0h7.5C15.216 0 16 .784 16 1.75v7.5A1.75 1.75 0 0 1 14.25 11h-7.5A1.75 1.75 0 0 1 5 9.25Zm1.75-.25a.25.25 0 0 0-.25.25v7.5c0 .138.112.25.25.25h7.5a.25.25 0 0 0 .25-.25v-7.5a.25.25 0 0 0-.25-.25Z"></path>
</svg>
      <svg aria-hidden="true" height="16" viewBox="0 0 16 16" version="1.1" width="16" data-view-component="true" class="octicon octicon-check js-clipboard-check-icon color-fg-success d-none m-2">
    <path d="M13.78 4.22a.75.75 0 0 1 0 1.06l-7.25 7.25a.75.75 0 0 1-1.06 0L2.22 9.28a.751.751 0 0 1 .018-1.042.751.751 0 0 1 1.042-.018L6 10.94l6.72-6.72a.75.75 0 0 1 1.06 0Z"></path>
</svg>
    </clipboard-copy>
  </div>
</template>
<template id="snippet-clipboard-copy-button-unpositioned">
  <div class="zeroclipboard-container">
    <clipboard-copy aria-label="Copy" class="ClipboardButton btn btn-invisible js-clipboard-copy m-2 p-0 d-flex flex-justify-center flex-items-center" data-copy-feedback="Copied!" data-tooltip-direction="w">
      <svg aria-hidden="true" height="16" viewBox="0 0 16 16" version="1.1" width="16" data-view-component="true" class="octicon octicon-copy js-clipboard-copy-icon">
    <path d="M0 6.75C0 5.784.784 5 1.75 5h1.5a.75.75 0 0 1 0 1.5h-1.5a.25.25 0 0 0-.25.25v7.5c0 .138.112.25.25.25h7.5a.25.25 0 0 0 .25-.25v-1.5a.75.75 0 0 1 1.5 0v1.5A1.75 1.75 0 0 1 9.25 16h-7.5A1.75 1.75 0 0 1 0 14.25Z"></path><path d="M5 1.75C5 .784 5.784 0 6.75 0h7.5C15.216 0 16 .784 16 1.75v7.5A1.75 1.75 0 0 1 14.25 11h-7.5A1.75 1.75 0 0 1 5 9.25Zm1.75-.25a.25.25 0 0 0-.25.25v7.5c0 .138.112.25.25.25h7.5a.25.25 0 0 0 .25-.25v-7.5a.25.25 0 0 0-.25-.25Z"></path>
</svg>
      <svg aria-hidden="true" height="16" viewBox="0 0 16 16" version="1.1" width="16" data-view-component="true" class="octicon octicon-check js-clipboard-check-icon color-fg-success d-none">
    <path d="M13.78 4.22a.75.75 0 0 1 0 1.06l-7.25 7.25a.75.75 0 0 1-1.06 0L2.22 9.28a.751.751 0 0 1 .018-1.042.751.751 0 0 1 1.042-.018L6 10.94l6.72-6.72a.75.75 0 0 1 1.06 0Z"></path>
</svg>
    </clipboard-copy>
  </div>
</template>




    </div>

    <div id="js-global-screen-reader-notice" class="sr-only mt-n1" aria-live="polite" aria-atomic="true" ></div>
    <div id="js-global-screen-reader-notice-assertive" class="sr-only mt-n1" aria-live="assertive" aria-atomic="true"></div>
  </body>
</html>

