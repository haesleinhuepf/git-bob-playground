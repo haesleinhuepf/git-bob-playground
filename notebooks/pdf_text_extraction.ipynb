{
 "cells": [
  {
   "cell_type": "markdown",
   "metadata": {},
   "source": [
    "# PDF Text Extraction\n",
    "\n",
    "This notebook demonstrates how to extract text from PDF files using PyPDF2."
   ]
  },
  {
   "cell_type": "markdown",
   "metadata": {},
   "source": [
    "First, we need to install and import the required library"
   ]
  },
  {
   "cell_type": "code",
   "execution_count": 1,
   "metadata": {
    "execution": {
     "iopub.execute_input": "2025-06-21T21:24:14.191606Z",
     "iopub.status.busy": "2025-06-21T21:24:14.191026Z",
     "iopub.status.idle": "2025-06-21T21:24:15.155044Z",
     "shell.execute_reply": "2025-06-21T21:24:15.154441Z"
    }
   },
   "outputs": [
    {
     "name": "stdout",
     "output_type": "stream",
     "text": [
      "Requirement already satisfied: PyPDF2 in /opt/hostedtoolcache/Python/3.13.5/x64/lib/python3.13/site-packages (3.0.1)\r\n"
     ]
    }
   ],
   "source": [
    "!pip install PyPDF2"
   ]
  },
  {
   "cell_type": "code",
   "execution_count": 2,
   "metadata": {
    "execution": {
     "iopub.execute_input": "2025-06-21T21:24:15.157473Z",
     "iopub.status.busy": "2025-06-21T21:24:15.157067Z",
     "iopub.status.idle": "2025-06-21T21:24:15.188779Z",
     "shell.execute_reply": "2025-06-21T21:24:15.188261Z"
    }
   },
   "outputs": [],
   "source": [
    "import PyPDF2\n",
    "import os"
   ]
  },
  {
   "cell_type": "markdown",
   "metadata": {},
   "source": [
    "Now, let's read the PDF file and extract its text"
   ]
  },
  {
   "cell_type": "code",
   "execution_count": 3,
   "metadata": {
    "execution": {
     "iopub.execute_input": "2025-06-21T21:24:15.191102Z",
     "iopub.status.busy": "2025-06-21T21:24:15.190688Z",
     "iopub.status.idle": "2025-06-21T21:24:15.195226Z",
     "shell.execute_reply": "2025-06-21T21:24:15.194677Z"
    }
   },
   "outputs": [
    {
     "name": "stdout",
     "output_type": "stream",
     "text": [
      "The file test2.pdf does not exist. Please check the file path.\n"
     ]
    }
   ],
   "source": [
    "# Define the PDF file path\n",
    "pdf_path = 'test2.pdf'\n",
    "\n",
    "# Check if file exists before processing\n",
    "if os.path.exists(pdf_path):\n",
    "    # Open the PDF file\n",
    "    with open(pdf_path, 'rb') as file:\n",
    "        # Create a PDF reader object\n",
    "        pdf_reader = PyPDF2.PdfReader(file)\n",
    "        \n",
    "        # Get number of pages\n",
    "        num_pages = len(pdf_reader.pages)\n",
    "        \n",
    "        # Extract text from all pages\n",
    "        text = ''\n",
    "        for page_num in range(num_pages):\n",
    "            page = pdf_reader.pages[page_num]\n",
    "            text += page.extract_text()\n",
    "\n",
    "    # Save the extracted text to a file\n",
    "    with open('extracted_text.txt', 'w', encoding='utf-8') as output_file:\n",
    "        output_file.write(text)\n",
    "\n",
    "    # Print the extracted text\n",
    "    print(text)\n",
    "else:\n",
    "    print(f\"The file {pdf_path} does not exist. Please check the file path.\")"
   ]
  }
 ],
 "metadata": {
  "language_info": {
   "codemirror_mode": {
    "name": "ipython",
    "version": 3
   },
   "file_extension": ".py",
   "mimetype": "text/x-python",
   "name": "python",
   "nbconvert_exporter": "python",
   "pygments_lexer": "ipython3",
   "version": "3.13.5"
  }
 },
 "nbformat": 4,
 "nbformat_minor": 4
}
