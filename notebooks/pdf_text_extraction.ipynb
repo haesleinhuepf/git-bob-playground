{
 "cells": [
  {
   "cell_type": "markdown",
   "metadata": {},
   "source": [
    "# PDF Text Extraction\n",
    "\n",
    "This notebook demonstrates how to extract text from PDF files using PyPDF2."
   ]
  },
  {
   "cell_type": "markdown",
   "metadata": {},
   "source": [
    "First, let's install and import the required library"
   ]
  },
  {
   "cell_type": "code",
   "execution_count": 1,
   "metadata": {
    "execution": {
     "iopub.execute_input": "2025-06-21T21:48:30.195082Z",
     "iopub.status.busy": "2025-06-21T21:48:30.194896Z",
     "iopub.status.idle": "2025-06-21T21:48:31.149935Z",
     "shell.execute_reply": "2025-06-21T21:48:31.149288Z"
    }
   },
   "outputs": [
    {
     "name": "stdout",
     "output_type": "stream",
     "text": [
      "Requirement already satisfied: PyPDF2 in /opt/hostedtoolcache/Python/3.13.5/x64/lib/python3.13/site-packages (3.0.1)\r\n"
     ]
    }
   ],
   "source": [
    "!pip install PyPDF2"
   ]
  },
  {
   "cell_type": "code",
   "execution_count": 2,
   "metadata": {
    "execution": {
     "iopub.execute_input": "2025-06-21T21:48:31.152050Z",
     "iopub.status.busy": "2025-06-21T21:48:31.151838Z",
     "iopub.status.idle": "2025-06-21T21:48:31.183137Z",
     "shell.execute_reply": "2025-06-21T21:48:31.182621Z"
    }
   },
   "outputs": [],
   "source": [
    "import PyPDF2\n",
    "import os"
   ]
  },
  {
   "cell_type": "markdown",
   "metadata": {},
   "source": [
    "Open the PDF file and create a PDF reader object"
   ]
  },
  {
   "cell_type": "code",
   "execution_count": 3,
   "metadata": {
    "execution": {
     "iopub.execute_input": "2025-06-21T21:48:31.184900Z",
     "iopub.status.busy": "2025-06-21T21:48:31.184726Z",
     "iopub.status.idle": "2025-06-21T21:48:31.187910Z",
     "shell.execute_reply": "2025-06-21T21:48:31.187387Z"
    }
   },
   "outputs": [
    {
     "name": "stdout",
     "output_type": "stream",
     "text": [
      "The file test2.pdf does not exist. Please provide a valid PDF file path.\n"
     ]
    }
   ],
   "source": [
    "# Check if file exists before opening\n",
    "pdf_path = 'test2.pdf'\n",
    "if not os.path.exists(pdf_path):\n",
    "    print(f\"The file {pdf_path} does not exist. Please provide a valid PDF file path.\")\n",
    "else:\n",
    "    pdf_file = open(pdf_path, 'rb')\n",
    "    pdf_reader = PyPDF2.PdfReader(pdf_file)"
   ]
  },
  {
   "cell_type": "markdown",
   "metadata": {},
   "source": [
    "Extract and print text from all pages"
   ]
  },
  {
   "cell_type": "code",
   "execution_count": 4,
   "metadata": {
    "execution": {
     "iopub.execute_input": "2025-06-21T21:48:31.189491Z",
     "iopub.status.busy": "2025-06-21T21:48:31.189325Z",
     "iopub.status.idle": "2025-06-21T21:48:31.192307Z",
     "shell.execute_reply": "2025-06-21T21:48:31.191881Z"
    }
   },
   "outputs": [],
   "source": [
    "if 'pdf_reader' in locals():\n",
    "    text = \"\"\n",
    "    for page in pdf_reader.pages:\n",
    "        text += page.extract_text()\n",
    "    print(text)\n",
    "\n",
    "    # Save the extracted text to a file\n",
    "    with open('extracted_text.txt', 'w', encoding='utf-8') as f:\n",
    "        f.write(text)"
   ]
  },
  {
   "cell_type": "markdown",
   "metadata": {},
   "source": [
    "Close the PDF file"
   ]
  },
  {
   "cell_type": "code",
   "execution_count": 5,
   "metadata": {
    "execution": {
     "iopub.execute_input": "2025-06-21T21:48:31.194076Z",
     "iopub.status.busy": "2025-06-21T21:48:31.193742Z",
     "iopub.status.idle": "2025-06-21T21:48:31.196584Z",
     "shell.execute_reply": "2025-06-21T21:48:31.195997Z"
    }
   },
   "outputs": [],
   "source": [
    "if 'pdf_file' in locals():\n",
    "    pdf_file.close()"
   ]
  }
 ],
 "metadata": {
  "language_info": {
   "codemirror_mode": {
    "name": "ipython",
    "version": 3
   },
   "file_extension": ".py",
   "mimetype": "text/x-python",
   "name": "python",
   "nbconvert_exporter": "python",
   "pygments_lexer": "ipython3",
   "version": "3.13.5"
  }
 },
 "nbformat": 4,
 "nbformat_minor": 4
}
