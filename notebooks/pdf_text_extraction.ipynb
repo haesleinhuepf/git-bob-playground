{
 "cells": [
  {
   "cell_type": "markdown",
   "metadata": {},
   "source": [
    "# PDF Text Extraction\n",
    "\n",
    "This notebook demonstrates how to extract text from PDF files using PyPDF2."
   ]
  },
  {
   "cell_type": "markdown",
   "metadata": {},
   "source": [
    "First, we need to install and import the necessary library"
   ]
  },
  {
   "cell_type": "code",
   "execution_count": 1,
   "metadata": {
    "execution": {
     "iopub.execute_input": "2025-06-21T21:56:36.288772Z",
     "iopub.status.busy": "2025-06-21T21:56:36.288293Z",
     "iopub.status.idle": "2025-06-21T21:56:37.583907Z",
     "shell.execute_reply": "2025-06-21T21:56:37.583182Z"
    }
   },
   "outputs": [
    {
     "name": "stdout",
     "output_type": "stream",
     "text": [
      "Collecting PyPDF2\r\n",
      "  Downloading pypdf2-3.0.1-py3-none-any.whl.metadata (6.8 kB)\r\n",
      "Downloading pypdf2-3.0.1-py3-none-any.whl (232 kB)\r\n"
     ]
    },
    {
     "name": "stdout",
     "output_type": "stream",
     "text": [
      "Installing collected packages: PyPDF2\r\n"
     ]
    },
    {
     "name": "stdout",
     "output_type": "stream",
     "text": [
      "Successfully installed PyPDF2-3.0.1\r\n"
     ]
    }
   ],
   "source": [
    "!pip install PyPDF2"
   ]
  },
  {
   "cell_type": "code",
   "execution_count": 2,
   "metadata": {
    "execution": {
     "iopub.execute_input": "2025-06-21T21:56:37.586037Z",
     "iopub.status.busy": "2025-06-21T21:56:37.585831Z",
     "iopub.status.idle": "2025-06-21T21:56:37.619850Z",
     "shell.execute_reply": "2025-06-21T21:56:37.619241Z"
    }
   },
   "outputs": [],
   "source": [
    "import PyPDF2"
   ]
  },
  {
   "cell_type": "markdown",
   "metadata": {},
   "source": [
    "Open the PDF file and create a PDF reader object"
   ]
  },
  {
   "cell_type": "code",
   "execution_count": 3,
   "metadata": {
    "execution": {
     "iopub.execute_input": "2025-06-21T21:56:37.621859Z",
     "iopub.status.busy": "2025-06-21T21:56:37.621504Z",
     "iopub.status.idle": "2025-06-21T21:56:37.625649Z",
     "shell.execute_reply": "2025-06-21T21:56:37.625064Z"
    }
   },
   "outputs": [],
   "source": [
    "pdf_file = open('../test2.pdf', 'rb')\n",
    "pdf_reader = PyPDF2.PdfReader(pdf_file)"
   ]
  },
  {
   "cell_type": "markdown",
   "metadata": {},
   "source": [
    "Extract text from all pages and save to a text file"
   ]
  },
  {
   "cell_type": "code",
   "execution_count": 4,
   "metadata": {
    "execution": {
     "iopub.execute_input": "2025-06-21T21:56:37.627527Z",
     "iopub.status.busy": "2025-06-21T21:56:37.627180Z",
     "iopub.status.idle": "2025-06-21T21:56:37.645028Z",
     "shell.execute_reply": "2025-06-21T21:56:37.644483Z"
    }
   },
   "outputs": [
    {
     "name": "stdout",
     "output_type": "stream",
     "text": [
      "Headline  \n",
      "Subheadline  \n",
      "Text bla italics bold underlined  \n",
      "- Bullet point  \n",
      "o Level 2 pb  \n",
      "o Level 2 pb  \n",
      "- Other point  \n",
      "Link  \n"
     ]
    }
   ],
   "source": [
    "text = \"\"\n",
    "for page in pdf_reader.pages:\n",
    "    text += page.extract_text()\n",
    "\n",
    "# Save the extracted text\n",
    "with open('extracted_text.txt', 'w', encoding='utf-8') as f:\n",
    "    f.write(text)\n",
    "\n",
    "# Print the text\n",
    "print(text)\n",
    "\n",
    "# Close the PDF file\n",
    "pdf_file.close()"
   ]
  }
 ],
 "metadata": {
  "language_info": {
   "codemirror_mode": {
    "name": "ipython",
    "version": 3
   },
   "file_extension": ".py",
   "mimetype": "text/x-python",
   "name": "python",
   "nbconvert_exporter": "python",
   "pygments_lexer": "ipython3",
   "version": "3.13.5"
  }
 },
 "nbformat": 4,
 "nbformat_minor": 4
}
