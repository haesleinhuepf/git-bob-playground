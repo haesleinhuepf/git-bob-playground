{
 "cells": [
  {
   "cell_type": "markdown",
   "id": "b9ae4d5f",
   "metadata": {},
   "source": [
    "# Synthetic Dataset Generation and UMAP Analysis\n",
    "\n",
    "In this notebook, we will create a synthetic dataset to mimic measurements from microscopy images, such as intensity, aspect ratio, perimeter, and elongation. We will then apply UMAP to reduce the dimensionality of this dataset, integrate the UMAP results back into our dataframe, and finally visualize the results using seaborn."
   ]
  },
  {
   "cell_type": "markdown",
   "id": "82d4c4c2",
   "metadata": {},
   "source": [
    "## Import Required Libraries\n",
    "\n",
    "First, let's make sure we have all the necessary libraries imported for this task."
   ]
  },
  {
   "cell_type": "code",
   "execution_count": 1,
   "id": "0c46305c",
   "metadata": {
    "execution": {
     "iopub.execute_input": "2024-10-21T13:40:07.259807Z",
     "iopub.status.busy": "2024-10-21T13:40:07.259625Z",
     "iopub.status.idle": "2024-10-21T13:40:20.920706Z",
     "shell.execute_reply": "2024-10-21T13:40:20.920105Z"
    }
   },
   "outputs": [],
   "source": [
    "import numpy as np\n",
    "import pandas as pd\n",
    "import seaborn as sns\n",
    "import umap\n",
    "from sklearn.preprocessing import StandardScaler\n",
    "import matplotlib.pyplot as plt\n"
   ]
  },
  {
   "cell_type": "markdown",
   "id": "c779c088",
   "metadata": {},
   "source": [
    "## Generate Synthetic Dataset\n",
    "\n",
    "We will now generate a synthetic dataset with random values for the following cell characteristics:\n",
    "- Intensity\n",
    "- Aspect Ratio\n",
    "- Perimeter\n",
    "- Elongation"
   ]
  },
  {
   "cell_type": "code",
   "execution_count": 2,
   "id": "b0167b37",
   "metadata": {
    "execution": {
     "iopub.execute_input": "2024-10-21T13:40:20.923194Z",
     "iopub.status.busy": "2024-10-21T13:40:20.922687Z",
     "iopub.status.idle": "2024-10-21T13:40:20.935307Z",
     "shell.execute_reply": "2024-10-21T13:40:20.934747Z"
    }
   },
   "outputs": [
    {
     "data": {
      "text/html": [
       "<div>\n",
       "<style scoped>\n",
       "    .dataframe tbody tr th:only-of-type {\n",
       "        vertical-align: middle;\n",
       "    }\n",
       "\n",
       "    .dataframe tbody tr th {\n",
       "        vertical-align: top;\n",
       "    }\n",
       "\n",
       "    .dataframe thead th {\n",
       "        text-align: right;\n",
       "    }\n",
       "</style>\n",
       "<table border=\"1\" class=\"dataframe\">\n",
       "  <thead>\n",
       "    <tr style=\"text-align: right;\">\n",
       "      <th></th>\n",
       "      <th>Intensity</th>\n",
       "      <th>Aspect Ratio</th>\n",
       "      <th>Perimeter</th>\n",
       "      <th>Elongation</th>\n",
       "    </tr>\n",
       "  </thead>\n",
       "  <tbody>\n",
       "    <tr>\n",
       "      <th>0</th>\n",
       "      <td>0.374540</td>\n",
       "      <td>0.031429</td>\n",
       "      <td>0.642032</td>\n",
       "      <td>0.051682</td>\n",
       "    </tr>\n",
       "    <tr>\n",
       "      <th>1</th>\n",
       "      <td>0.950714</td>\n",
       "      <td>0.636410</td>\n",
       "      <td>0.084140</td>\n",
       "      <td>0.531355</td>\n",
       "    </tr>\n",
       "    <tr>\n",
       "      <th>2</th>\n",
       "      <td>0.731994</td>\n",
       "      <td>0.314356</td>\n",
       "      <td>0.161629</td>\n",
       "      <td>0.540635</td>\n",
       "    </tr>\n",
       "    <tr>\n",
       "      <th>3</th>\n",
       "      <td>0.598658</td>\n",
       "      <td>0.508571</td>\n",
       "      <td>0.898554</td>\n",
       "      <td>0.637430</td>\n",
       "    </tr>\n",
       "    <tr>\n",
       "      <th>4</th>\n",
       "      <td>0.156019</td>\n",
       "      <td>0.907566</td>\n",
       "      <td>0.606429</td>\n",
       "      <td>0.726091</td>\n",
       "    </tr>\n",
       "  </tbody>\n",
       "</table>\n",
       "</div>"
      ],
      "text/plain": [
       "   Intensity  Aspect Ratio  Perimeter  Elongation\n",
       "0   0.374540      0.031429   0.642032    0.051682\n",
       "1   0.950714      0.636410   0.084140    0.531355\n",
       "2   0.731994      0.314356   0.161629    0.540635\n",
       "3   0.598658      0.508571   0.898554    0.637430\n",
       "4   0.156019      0.907566   0.606429    0.726091"
      ]
     },
     "execution_count": 2,
     "metadata": {},
     "output_type": "execute_result"
    }
   ],
   "source": [
    "# Set random seed for reproducibility\n",
    "np.random.seed(42)\n",
    "\n",
    "# Generate synthetic data\n",
    "n_samples = 100\n",
    "intensity = np.random.rand(n_samples)\n",
    "aspect_ratio = np.random.rand(n_samples)\n",
    "perimeter = np.random.rand(n_samples)\n",
    "elongation = np.random.rand(n_samples)\n",
    "\n",
    "# Create a DataFrame\n",
    "data = pd.DataFrame({\n",
    "    'Intensity': intensity,\n",
    "    'Aspect Ratio': aspect_ratio,\n",
    "    'Perimeter': perimeter,\n",
    "    'Elongation': elongation\n",
    "})\n",
    "\n",
    "# Display the first few rows of the DataFrame\n",
    "data.head()"
   ]
  },
  {
   "cell_type": "markdown",
   "id": "8664043f",
   "metadata": {},
   "source": [
    "## Standardize the Data\n",
    "\n",
    "Standardizing the data is important before applying UMAP to ensure all features contribute equally."
   ]
  },
  {
   "cell_type": "code",
   "execution_count": 3,
   "id": "2b5f5cb2",
   "metadata": {
    "execution": {
     "iopub.execute_input": "2024-10-21T13:40:20.937478Z",
     "iopub.status.busy": "2024-10-21T13:40:20.936911Z",
     "iopub.status.idle": "2024-10-21T13:40:20.942024Z",
     "shell.execute_reply": "2024-10-21T13:40:20.941546Z"
    }
   },
   "outputs": [],
   "source": [
    "# Standardize the data\n",
    "scaler = StandardScaler()\n",
    "data_scaled = scaler.fit_transform(data)"
   ]
  },
  {
   "cell_type": "markdown",
   "id": "b12fceb3",
   "metadata": {},
   "source": [
    "## Apply UMAP\n",
    "\n",
    "Next, we will apply UMAP to reduce the dimensionality of the data to 2 components."
   ]
  },
  {
   "cell_type": "code",
   "execution_count": 4,
   "id": "38db273f",
   "metadata": {
    "execution": {
     "iopub.execute_input": "2024-10-21T13:40:20.943908Z",
     "iopub.status.busy": "2024-10-21T13:40:20.943538Z",
     "iopub.status.idle": "2024-10-21T13:40:28.999037Z",
     "shell.execute_reply": "2024-10-21T13:40:28.998518Z"
    }
   },
   "outputs": [
    {
     "name": "stderr",
     "output_type": "stream",
     "text": [
      "/opt/hostedtoolcache/Python/3.12.7/x64/lib/python3.12/site-packages/umap/umap_.py:1945: UserWarning: n_jobs value 1 overridden to 1 by setting random_state. Use no seed for parallelism.\n",
      "  warn(f\"n_jobs value {self.n_jobs} overridden to 1 by setting random_state. Use no seed for parallelism.\")\n"
     ]
    },
    {
     "data": {
      "text/html": [
       "<div>\n",
       "<style scoped>\n",
       "    .dataframe tbody tr th:only-of-type {\n",
       "        vertical-align: middle;\n",
       "    }\n",
       "\n",
       "    .dataframe tbody tr th {\n",
       "        vertical-align: top;\n",
       "    }\n",
       "\n",
       "    .dataframe thead th {\n",
       "        text-align: right;\n",
       "    }\n",
       "</style>\n",
       "<table border=\"1\" class=\"dataframe\">\n",
       "  <thead>\n",
       "    <tr style=\"text-align: right;\">\n",
       "      <th></th>\n",
       "      <th>Intensity</th>\n",
       "      <th>Aspect Ratio</th>\n",
       "      <th>Perimeter</th>\n",
       "      <th>Elongation</th>\n",
       "      <th>UMAP1</th>\n",
       "      <th>UMAP2</th>\n",
       "    </tr>\n",
       "  </thead>\n",
       "  <tbody>\n",
       "    <tr>\n",
       "      <th>0</th>\n",
       "      <td>0.374540</td>\n",
       "      <td>0.031429</td>\n",
       "      <td>0.642032</td>\n",
       "      <td>0.051682</td>\n",
       "      <td>1.017793</td>\n",
       "      <td>8.046548</td>\n",
       "    </tr>\n",
       "    <tr>\n",
       "      <th>1</th>\n",
       "      <td>0.950714</td>\n",
       "      <td>0.636410</td>\n",
       "      <td>0.084140</td>\n",
       "      <td>0.531355</td>\n",
       "      <td>4.063331</td>\n",
       "      <td>6.550923</td>\n",
       "    </tr>\n",
       "    <tr>\n",
       "      <th>2</th>\n",
       "      <td>0.731994</td>\n",
       "      <td>0.314356</td>\n",
       "      <td>0.161629</td>\n",
       "      <td>0.540635</td>\n",
       "      <td>3.563985</td>\n",
       "      <td>7.274538</td>\n",
       "    </tr>\n",
       "    <tr>\n",
       "      <th>3</th>\n",
       "      <td>0.598658</td>\n",
       "      <td>0.508571</td>\n",
       "      <td>0.898554</td>\n",
       "      <td>0.637430</td>\n",
       "      <td>2.101726</td>\n",
       "      <td>6.685811</td>\n",
       "    </tr>\n",
       "    <tr>\n",
       "      <th>4</th>\n",
       "      <td>0.156019</td>\n",
       "      <td>0.907566</td>\n",
       "      <td>0.606429</td>\n",
       "      <td>0.726091</td>\n",
       "      <td>6.559728</td>\n",
       "      <td>5.784659</td>\n",
       "    </tr>\n",
       "  </tbody>\n",
       "</table>\n",
       "</div>"
      ],
      "text/plain": [
       "   Intensity  Aspect Ratio  Perimeter  Elongation     UMAP1     UMAP2\n",
       "0   0.374540      0.031429   0.642032    0.051682  1.017793  8.046548\n",
       "1   0.950714      0.636410   0.084140    0.531355  4.063331  6.550923\n",
       "2   0.731994      0.314356   0.161629    0.540635  3.563985  7.274538\n",
       "3   0.598658      0.508571   0.898554    0.637430  2.101726  6.685811\n",
       "4   0.156019      0.907566   0.606429    0.726091  6.559728  5.784659"
      ]
     },
     "execution_count": 4,
     "metadata": {},
     "output_type": "execute_result"
    }
   ],
   "source": [
    "# Initialize UMAP\n",
    "reducer = umap.UMAP(n_components=2, random_state=42)\n",
    "\n",
    "# Fit and transform data\n",
    "umap_results = reducer.fit_transform(data_scaled)\n",
    "\n",
    "# Add UMAP results to the DataFrame\n",
    "data['UMAP1'] = umap_results[:, 0]\n",
    "data['UMAP2'] = umap_results[:, 1]\n",
    "\n",
    "# Display the first few rows of the updated DataFrame\n",
    "data.head()"
   ]
  },
  {
   "cell_type": "markdown",
   "id": "088dd608",
   "metadata": {},
   "source": [
    "## Visualize the UMAP Results\n",
    "\n",
    "Finally, let's visualize the UMAP results using seaborn and save the plot as a PNG file."
   ]
  },
  {
   "cell_type": "code",
   "execution_count": 5,
   "id": "454cb07c",
   "metadata": {
    "execution": {
     "iopub.execute_input": "2024-10-21T13:40:29.000860Z",
     "iopub.status.busy": "2024-10-21T13:40:29.000690Z",
     "iopub.status.idle": "2024-10-21T13:40:29.178210Z",
     "shell.execute_reply": "2024-10-21T13:40:29.177572Z"
    }
   },
   "outputs": [
    {
     "data": {
      "image/png": "[encoded data removed]",
      "text/plain": [
       "<Figure size 800x600 with 1 Axes>"
      ]
     },
     "metadata": {},
     "output_type": "display_data"
    }
   ],
   "source": [
    "# Plot UMAP results\n",
    "plt.figure(figsize=(8, 6))\n",
    "sns.scatterplot(x='UMAP1', y='UMAP2', data=data)\n",
    "plt.title('UMAP Projection')\n",
    "plt.xlabel('UMAP1')\n",
    "plt.ylabel('UMAP2')\n",
    "\n",
    "# Save plot as PNG\n",
    "plt.savefig('umap_projection.png')\n",
    "\n",
    "# Show plot\n",
    "plt.show()"
   ]
  }
 ],
 "metadata": {
  "language_info": {
   "codemirror_mode": {
    "name": "ipython",
    "version": 3
   },
   "file_extension": ".py",
   "mimetype": "text/x-python",
   "name": "python",
   "nbconvert_exporter": "python",
   "pygments_lexer": "ipython3",
   "version": "3.12.7"
  }
 },
 "nbformat": 4,
 "nbformat_minor": 5
}
