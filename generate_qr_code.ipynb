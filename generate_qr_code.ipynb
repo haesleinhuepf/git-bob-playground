{
 "cells": [
  {
   "cell_type": "markdown",
   "metadata": {},
   "source": [
    "# Generate QR Code\n",
    "\n",
    "First, let's install and import the required library qrcode"
   ]
  },
  {
   "cell_type": "code",
   "execution_count": 1,
   "metadata": {
    "execution": {
     "iopub.execute_input": "2025-03-06T17:26:07.981344Z",
     "iopub.status.busy": "2025-03-06T17:26:07.981158Z",
     "iopub.status.idle": "2025-03-06T17:26:09.231660Z",
     "shell.execute_reply": "2025-03-06T17:26:09.231079Z"
    }
   },
   "outputs": [
    {
     "name": "stdout",
     "output_type": "stream",
     "text": [
      "Collecting qrcode\r\n",
      "  Downloading qrcode-8.0-py3-none-any.whl.metadata (17 kB)\r\n",
      "Requirement already satisfied: pillow in /opt/hostedtoolcache/Python/3.13.2/x64/lib/python3.13/site-packages (11.1.0)\r\n"
     ]
    },
    {
     "name": "stdout",
     "output_type": "stream",
     "text": [
      "Downloading qrcode-8.0-py3-none-any.whl (45 kB)\r\n"
     ]
    },
    {
     "name": "stdout",
     "output_type": "stream",
     "text": [
      "Installing collected packages: qrcode\r\n"
     ]
    },
    {
     "name": "stdout",
     "output_type": "stream",
     "text": [
      "Successfully installed qrcode-8.0\r\n"
     ]
    }
   ],
   "source": [
    "!pip install qrcode pillow"
   ]
  },
  {
   "cell_type": "markdown",
   "metadata": {},
   "source": [
    "Import the required libraries"
   ]
  },
  {
   "cell_type": "code",
   "execution_count": 2,
   "metadata": {
    "execution": {
     "iopub.execute_input": "2025-03-06T17:26:09.234232Z",
     "iopub.status.busy": "2025-03-06T17:26:09.233619Z",
     "iopub.status.idle": "2025-03-06T17:26:09.324183Z",
     "shell.execute_reply": "2025-03-06T17:26:09.323596Z"
    }
   },
   "outputs": [],
   "source": [
    "import qrcode\n",
    "import numpy as np"
   ]
  },
  {
   "cell_type": "markdown",
   "metadata": {},
   "source": [
    "Generate QR code for the given URL"
   ]
  },
  {
   "cell_type": "code",
   "execution_count": 3,
   "metadata": {
    "execution": {
     "iopub.execute_input": "2025-03-06T17:26:09.327138Z",
     "iopub.status.busy": "2025-03-06T17:26:09.326524Z",
     "iopub.status.idle": "2025-03-06T17:26:09.347461Z",
     "shell.execute_reply": "2025-03-06T17:26:09.346953Z"
    }
   },
   "outputs": [],
   "source": [
    "url = \"https://github.com/haesleinhuepf/git-bob\"\n",
    "qr = qrcode.QRCode(version=1, box_size=10, border=5)\n",
    "qr.add_data(url)\n",
    "qr.make(fit=True)\n",
    "\n",
    "# Create an image from the QR Code\n",
    "qr_image = qr.make_image(fill_color=\"black\", back_color=\"white\")\n",
    "\n",
    "# Convert to numpy array and ensure uint8 format\n",
    "qr_array = np.array(qr_image).astype(np.uint8) * 255\n",
    "\n",
    "# Save the QR code image\n",
    "qr_image.save('qr_code.png')"
   ]
  }
 ],
 "metadata": {
  "language_info": {
   "codemirror_mode": {
    "name": "ipython",
    "version": 3
   },
   "file_extension": ".py",
   "mimetype": "text/x-python",
   "name": "python",
   "nbconvert_exporter": "python",
   "pygments_lexer": "ipython3",
   "version": "3.13.2"
  }
 },
 "nbformat": 4,
 "nbformat_minor": 4
}
