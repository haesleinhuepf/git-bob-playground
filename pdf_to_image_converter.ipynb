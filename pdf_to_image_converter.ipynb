{
 "cells": [
  {
   "cell_type": "markdown",
   "metadata": {},
   "source": [
    "# PDF to PNG converter\n",
    "\n",
    "First, we need to install the pdf2image library and poppler which helps us convert PDFs to images."
   ]
  },
  {
   "cell_type": "code",
   "execution_count": 1,
   "metadata": {
    "execution": {
     "iopub.execute_input": "2024-12-15T20:20:07.130649Z",
     "iopub.status.busy": "2024-12-15T20:20:07.130215Z",
     "iopub.status.idle": "2024-12-15T20:20:22.264207Z",
     "shell.execute_reply": "2024-12-15T20:20:22.263481Z"
    }
   },
   "outputs": [
    {
     "name": "stdout",
     "output_type": "stream",
     "text": [
      "Requirement already satisfied: pdf2image in /opt/hostedtoolcache/Python/3.12.8/x64/lib/python3.12/site-packages (1.17.0)\r\n",
      "Requirement already satisfied: pillow in /opt/hostedtoolcache/Python/3.12.8/x64/lib/python3.12/site-packages (from pdf2image) (11.0.0)\r\n"
     ]
    },
    {
     "name": "stdout",
     "output_type": "stream",
     "text": [
      "\r",
      "0% [Working]\r",
      "            \r",
      "Get:1 file:/etc/apt/apt-mirrors.txt Mirrorlist [142 B]\r\n",
      "\r",
      "0% [1 Mirrorlist 0 B/142 B 0%] [Connecting to packages.microsoft.com]\r",
      "                                                                     \r",
      "0% [Connecting to packages.microsoft.com]\r",
      "0% [Connecting to packages.microsoft.com]"
     ]
    },
    {
     "name": "stdout",
     "output_type": "stream",
     "text": [
      "\r",
      "                                         \r",
      "Hit:6 https://packages.microsoft.com/repos/azure-cli noble InRelease\r\n",
      "\r",
      "0% [Connecting to azure.archive.ubuntu.com]\r",
      "                                           \r",
      "Hit:2 http://azure.archive.ubuntu.com/ubuntu noble InRelease\r\n",
      "\r",
      "                                           \r",
      "0% [Waiting for headers]\r",
      "                        \r",
      "Get:7 https://packages.microsoft.com/ubuntu/24.04/prod noble InRelease [3600 B]\r\n",
      "\r",
      "0% [Waiting for headers] [7 InRelease 3600 B/3600 B 100%]\r",
      "                                                         \r",
      "0% [Waiting for headers]\r",
      "                        \r",
      "Get:3 http://azure.archive.ubuntu.com/ubuntu noble-updates InRelease [126 kB]\r\n",
      "\r",
      "0% [3 InRelease 14.0 kB/126 kB 11%]\r",
      "                                   \r",
      "0% [Waiting for headers]\r",
      "                        \r",
      "Get:4 http://azure.archive.ubuntu.com/ubuntu noble-backports InRelease [126 kB]\r\n",
      "\r",
      "0% [4 InRelease 2563 B/126 kB 2%]\r",
      "                                 \r",
      "0% [Working]\r",
      "            \r",
      "Get:5 http://azure.archive.ubuntu.com/ubuntu noble-security InRelease [126 kB]\r\n",
      "\r",
      "0% [5 InRelease 69.6 kB/126 kB 55%]\r",
      "                                   \r",
      "0% [Working]"
     ]
    },
    {
     "name": "stdout",
     "output_type": "stream",
     "text": [
      "\r",
      "0% [Working]"
     ]
    },
    {
     "name": "stdout",
     "output_type": "stream",
     "text": [
      "\r",
      "0% [Working]"
     ]
    },
    {
     "name": "stdout",
     "output_type": "stream",
     "text": [
      "\r",
      "0% [Working]\r",
      "            \r",
      "Get:8 https://packages.microsoft.com/ubuntu/24.04/prod noble/main amd64 Packages [15.6 kB]\r\n",
      "\r",
      "0% [8 Packages 15.6 kB/15.6 kB 100%]"
     ]
    },
    {
     "name": "stdout",
     "output_type": "stream",
     "text": [
      "\r",
      "                                    \r",
      "0% [Working]\r",
      "0% [8 Packages store 0 B] [Waiting for headers]\r",
      "                                               \r",
      "0% [Waiting for headers]\r",
      "                        \r",
      "Get:9 https://packages.microsoft.com/ubuntu/24.04/prod noble/main armhf Packages [5769 B]\r\n",
      "\r",
      "0% [9 Packages 5769 B/5769 B 100%]\r",
      "                                  \r",
      "0% [Working]\r",
      "0% [9 Packages store 0 B] [Waiting for headers]\r",
      "                                               \r",
      "0% [Waiting for headers]\r",
      "                        \r",
      "Get:10 https://packages.microsoft.com/ubuntu/24.04/prod noble/main arm64 Packages [10.3 kB]\r\n",
      "\r",
      "0% [10 Packages 10.3 kB/10.3 kB 100%]\r",
      "                                     \r",
      "0% [Working]\r",
      "0% [10 Packages store 0 B]\r",
      "                          \r",
      "0% [Working]\r",
      "0% [Working]\r",
      "0% [Working]\r",
      "0% [Working]\r",
      "0% [Working]\r",
      "0% [Waiting for headers]\r",
      "0% [Waiting for headers]\r",
      "0% [Waiting for headers]\r",
      "                        \r",
      "Get:11 http://azure.archive.ubuntu.com/ubuntu noble-updates/main amd64 Packages [725 kB]\r\n",
      "\r",
      "0% [11 Packages 2647 B/725 kB 0%]"
     ]
    },
    {
     "name": "stdout",
     "output_type": "stream",
     "text": [
      "\r",
      "                                 \r",
      "0% [Working]\r",
      "0% [11 Packages store 0 B] [Waiting for headers]\r",
      "                                                \r",
      "Get:12 http://azure.archive.ubuntu.com/ubuntu noble-updates/main Translation-en [167 kB]\r\n",
      "\r",
      "0% [11 Packages store 0 B] [12 Translation-en 2647 B/167 kB 2%]\r",
      "                                                               \r",
      "0% [11 Packages store 0 B]\r",
      "                          \r",
      "Get:13 http://azure.archive.ubuntu.com/ubuntu noble-updates/main amd64 Components [151 kB]\r\n",
      "\r",
      "0% [11 Packages store 0 B] [13 Components-amd64 2647 B/151 kB 2%]\r",
      "                                                                 \r",
      "0% [11 Packages store 0 B]\r",
      "                          \r",
      "Get:14 http://azure.archive.ubuntu.com/ubuntu noble-updates/universe amd64 Packages [926 kB]\r\n",
      "\r",
      "0% [11 Packages store 0 B] [14 Packages 2647 B/926 kB 0%]\r",
      "                                                         \r",
      "0% [11 Packages store 0 B]\r",
      "                          \r",
      "Get:15 http://azure.archive.ubuntu.com/ubuntu noble-updates/universe Translation-en [230 kB]\r\n",
      "\r",
      "0% [11 Packages store 0 B] [15 Translation-en 4075 B/230 kB 2%]\r",
      "                                                               \r",
      "0% [11 Packages store 0 B]\r",
      "                          \r",
      "Get:16 http://azure.archive.ubuntu.com/ubuntu noble-updates/universe amd64 Components [309 kB]\r\n",
      "\r",
      "0% [11 Packages store 0 B] [16 Components-amd64 6931 B/309 kB 2%]\r",
      "                                                                 \r",
      "0% [11 Packages store 0 B]\r",
      "                          \r",
      "Get:17 http://azure.archive.ubuntu.com/ubuntu noble-updates/restricted amd64 Components [212 B]\r\n",
      "\r",
      "0% [11 Packages store 0 B] [17 Components-amd64 212 B/212 B 100%]\r",
      "                                                                 \r",
      "0% [11 Packages store 0 B]\r",
      "                          \r",
      "Get:18 http://azure.archive.ubuntu.com/ubuntu noble-updates/multiverse amd64 Components [940 B]\r\n",
      "\r",
      "0% [11 Packages store 0 B] [18 Components-amd64 940 B/940 B 100%]\r",
      "                                                                 \r",
      "0% [11 Packages store 0 B]"
     ]
    },
    {
     "name": "stdout",
     "output_type": "stream",
     "text": [
      "\r",
      "0% [11 Packages store 0 B]\r",
      "0% [11 Packages store 0 B]\r",
      "0% [11 Packages store 0 B] [Waiting for headers]\r",
      "                                                \r",
      "Get:19 http://azure.archive.ubuntu.com/ubuntu noble-backports/main amd64 Components [208 B]\r\n",
      "\r",
      "0% [11 Packages store 0 B] [19 Components-amd64 208 B/208 B 100%]\r",
      "                                                                 \r",
      "0% [11 Packages store 0 B]\r",
      "                          \r",
      "Get:20 http://azure.archive.ubuntu.com/ubuntu noble-backports/universe amd64 Components [11.7 kB]\r\n",
      "\r",
      "0% [11 Packages store 0 B] [20 Components-amd64 11.7 kB/11.7 kB 100%]\r",
      "                                                                     \r",
      "0% [11 Packages store 0 B]\r",
      "                          \r",
      "0% [Waiting for headers]\r",
      "0% [12 Translation-en store 0 B] [Waiting for headers]\r",
      "                                                      \r",
      "0% [Waiting for headers]\r",
      "0% [13 Components-amd64 store 0 B] [Waiting for headers]"
     ]
    },
    {
     "name": "stdout",
     "output_type": "stream",
     "text": [
      "\r",
      "                                                        \r",
      "Get:21 http://azure.archive.ubuntu.com/ubuntu noble-backports/restricted amd64 Components [216 B]\r\n",
      "\r",
      "                                                        \r",
      "0% [13 Components-amd64 store 0 B]\r",
      "                                  \r",
      "Get:22 http://azure.archive.ubuntu.com/ubuntu noble-backports/multiverse amd64 Components [212 B]\r\n",
      "\r",
      "0% [13 Components-amd64 store 0 B]\r",
      "62% [13 Components-amd64 store 0 B]\r",
      "62% [13 Components-amd64 store 0 B]\r",
      "62% [13 Components-amd64 store 0 B] [Waiting for headers]\r",
      "62% [13 Components-amd64 store 0 B] [Waiting for headers]\r",
      "62% [13 Components-amd64 store 0 B] [Waiting for headers]\r",
      "62% [13 Components-amd64 store 0 B] [Waiting for headers]\r",
      "                                                         \r",
      "Get:23 http://azure.archive.ubuntu.com/ubuntu noble-security/main amd64 Packages [538 kB]\r\n",
      "\r",
      "62% [13 Components-amd64 store 0 B] [23 Packages 4075 B/538 kB 1%]\r",
      "                                                                  \r",
      "71% [13 Components-amd64 store 0 B]\r",
      "                                   \r",
      "Get:24 http://azure.archive.ubuntu.com/ubuntu noble-security/main Translation-en [107 kB]\r\n",
      "\r",
      "71% [13 Components-amd64 store 0 B] [24 Translation-en 12.3 kB/107 kB 11%]\r",
      "                                                                          \r",
      "72% [13 Components-amd64 store 0 B]\r",
      "                                   \r",
      "Get:25 http://azure.archive.ubuntu.com/ubuntu noble-security/main amd64 Components [7168 B]\r\n",
      "\r",
      "72% [13 Components-amd64 store 0 B] [25 Components-amd64 7168 B/7168 B 100%]\r",
      "                                                                            \r",
      "72% [13 Components-amd64 store 0 B]\r",
      "                                   \r",
      "73% [Waiting for headers]\r",
      "73% [14 Packages store 0 B] [Waiting for headers]\r",
      "                                                 \r",
      "Get:26 http://azure.archive.ubuntu.com/ubuntu noble-security/universe amd64 Packages [756 kB]\r\n",
      "\r",
      "73% [14 Packages store 0 B] [26 Packages 2647 B/756 kB 0%]\r",
      "                                                          \r",
      "84% [14 Packages store 0 B]\r",
      "                           \r",
      "Get:27 http://azure.archive.ubuntu.com/ubuntu noble-security/universe Translation-en [161 kB]\r\n",
      "\r",
      "84% [14 Packages store 0 B] [27 Translation-en 2647 B/161 kB 2%]\r",
      "                                                                \r",
      "87% [14 Packages store 0 B]\r",
      "                           \r",
      "Get:28 http://azure.archive.ubuntu.com/ubuntu noble-security/universe amd64 Components [51.9 kB]\r\n",
      "\r",
      "87% [14 Packages store 0 B] [28 Components-amd64 0 B/51.9 kB 0%]\r",
      "                                                                \r",
      "88% [14 Packages store 0 B]\r",
      "                           \r",
      "Get:29 http://azure.archive.ubuntu.com/ubuntu noble-security/restricted amd64 Packages [525 kB]\r\n",
      "\r",
      "88% [14 Packages store 0 B] [29 Packages 2647 B/525 kB 1%]\r",
      "                                                          \r",
      "96% [14 Packages store 0 B]\r",
      "                           \r",
      "Get:30 http://azure.archive.ubuntu.com/ubuntu noble-security/restricted Translation-en [102 kB]\r\n",
      "\r",
      "96% [14 Packages store 0 B] [30 Translation-en 2647 B/102 kB 3%]\r",
      "                                                                \r",
      "97% [14 Packages store 0 B]\r",
      "                           \r",
      "Get:31 http://azure.archive.ubuntu.com/ubuntu noble-security/restricted amd64 Components [212 B]\r\n",
      "\r",
      "97% [14 Packages store 0 B] [31 Components-amd64 212 B/212 B 100%]\r",
      "                                                                  \r",
      "97% [14 Packages store 0 B]\r",
      "                           \r",
      "Get:32 http://azure.archive.ubuntu.com/ubuntu noble-security/multiverse amd64 Components [208 B]\r\n",
      "\r",
      "97% [14 Packages store 0 B] [32 Components-amd64 208 B/208 B 100%]\r",
      "                                                                  \r",
      "97% [14 Packages store 0 B]"
     ]
    },
    {
     "name": "stdout",
     "output_type": "stream",
     "text": [
      "\r",
      "                           \r",
      "97% [Working]\r",
      "97% [15 Translation-en store 0 B]\r",
      "                                 \r",
      "97% [Working]\r",
      "97% [16 Components-amd64 store 0 B]"
     ]
    },
    {
     "name": "stdout",
     "output_type": "stream",
     "text": [
      "\r",
      "                                   \r",
      "98% [Working]\r",
      "98% [17 Components-amd64 store 0 B]\r",
      "                                   \r",
      "98% [Working]\r",
      "98% [18 Components-amd64 store 0 B]\r",
      "                                   \r",
      "98% [Working]\r",
      "98% [19 Components-amd64 store 0 B]\r",
      "                                   \r",
      "98% [Working]\r",
      "98% [20 Components-amd64 store 0 B]\r",
      "                                   \r",
      "98% [Working]\r",
      "98% [21 Components-amd64 store 0 B]\r",
      "                                   \r",
      "98% [Working]\r",
      "98% [22 Components-amd64 store 0 B]\r",
      "                                   \r",
      "99% [Working]\r",
      "99% [23 Packages store 0 B]"
     ]
    },
    {
     "name": "stdout",
     "output_type": "stream",
     "text": [
      "\r",
      "                           \r",
      "99% [Working]\r",
      "99% [24 Translation-en store 0 B]"
     ]
    },
    {
     "name": "stdout",
     "output_type": "stream",
     "text": [
      "\r",
      "                                 \r",
      "99% [Working]\r",
      "99% [25 Components-amd64 store 0 B]\r",
      "                                   \r",
      "99% [Working]\r",
      "99% [26 Packages store 0 B]"
     ]
    },
    {
     "name": "stdout",
     "output_type": "stream",
     "text": [
      "\r",
      "                           \r",
      "99% [Working]\r",
      "99% [27 Translation-en store 0 B]\r",
      "                                 \r",
      "99% [Working]\r",
      "99% [28 Components-amd64 store 0 B]\r",
      "                                   \r",
      "99% [Working]\r",
      "99% [29 Packages store 0 B]"
     ]
    },
    {
     "name": "stdout",
     "output_type": "stream",
     "text": [
      "\r",
      "                           \r",
      "100% [Working]\r",
      "100% [30 Translation-en store 0 B]"
     ]
    },
    {
     "name": "stdout",
     "output_type": "stream",
     "text": [
      "\r",
      "                                  \r",
      "100% [Working]\r",
      "100% [31 Components-amd64 store 0 B]\r",
      "                                    \r",
      "100% [Working]\r",
      "100% [32 Components-amd64 store 0 B]\r",
      "                                    \r",
      "100% [Working]\r",
      "              \r",
      "Fetched 5185 kB in 1s (6277 kB/s)\r\n"
     ]
    },
    {
     "name": "stdout",
     "output_type": "stream",
     "text": [
      "\r",
      "Reading package lists... 0%\r",
      "\r",
      "Reading package lists... 0%\r",
      "\r",
      "Reading package lists... 0%\r",
      "\r",
      "Reading package lists... 0%\r",
      "\r",
      "Reading package lists... 0%\r",
      "\r",
      "Reading package lists... 0%\r",
      "\r",
      "Reading package lists... 0%\r",
      "\r",
      "Reading package lists... 0%\r",
      "\r",
      "Reading package lists... 0%\r",
      "\r",
      "Reading package lists... 0%\r",
      "\r",
      "Reading package lists... 0%\r",
      "\r",
      "Reading package lists... 0%\r",
      "\r",
      "Reading package lists... 0%\r"
     ]
    },
    {
     "name": "stdout",
     "output_type": "stream",
     "text": [
      "\r",
      "Reading package lists... 4%\r",
      "\r",
      "Reading package lists... 4%\r",
      "\r",
      "Reading package lists... 6%\r",
      "\r",
      "Reading package lists... 6%\r"
     ]
    },
    {
     "name": "stdout",
     "output_type": "stream",
     "text": [
      "\r",
      "Reading package lists... 53%\r",
      "\r",
      "Reading package lists... 53%\r"
     ]
    },
    {
     "name": "stdout",
     "output_type": "stream",
     "text": [
      "\r",
      "Reading package lists... 74%\r",
      "\r",
      "Reading package lists... 74%\r",
      "\r",
      "Reading package lists... 75%\r",
      "\r",
      "Reading package lists... 75%\r",
      "\r",
      "Reading package lists... 75%\r",
      "\r",
      "Reading package lists... 75%\r",
      "\r",
      "Reading package lists... 76%\r",
      "\r",
      "Reading package lists... 76%\r",
      "\r",
      "Reading package lists... 76%\r",
      "\r",
      "Reading package lists... 76%\r"
     ]
    },
    {
     "name": "stdout",
     "output_type": "stream",
     "text": [
      "\r",
      "Reading package lists... 78%\r",
      "\r",
      "Reading package lists... 78%\r",
      "\r",
      "Reading package lists... 80%\r",
      "\r",
      "Reading package lists... 80%\r",
      "\r",
      "Reading package lists... 83%\r",
      "\r",
      "Reading package lists... 83%\r",
      "\r",
      "Reading package lists... 85%\r",
      "\r",
      "Reading package lists... 85%\r"
     ]
    },
    {
     "name": "stdout",
     "output_type": "stream",
     "text": [
      "\r",
      "Reading package lists... 87%\r",
      "\r",
      "Reading package lists... 87%\r",
      "\r",
      "Reading package lists... 88%\r",
      "\r",
      "Reading package lists... 88%\r",
      "\r",
      "Reading package lists... 88%\r",
      "\r",
      "Reading package lists... 88%\r",
      "\r",
      "Reading package lists... 88%\r",
      "\r",
      "Reading package lists... 88%\r",
      "\r",
      "Reading package lists... 88%\r",
      "\r",
      "Reading package lists... 88%\r",
      "\r",
      "Reading package lists... 88%\r",
      "\r",
      "Reading package lists... 88%\r",
      "\r",
      "Reading package lists... 90%\r",
      "\r",
      "Reading package lists... 90%\r",
      "\r",
      "Reading package lists... 91%\r",
      "\r",
      "Reading package lists... 91%\r",
      "\r",
      "Reading package lists... 94%\r",
      "\r",
      "Reading package lists... 94%\r",
      "\r",
      "Reading package lists... 95%\r",
      "\r",
      "Reading package lists... 95%\r",
      "\r",
      "Reading package lists... 97%\r",
      "\r",
      "Reading package lists... 97%\r",
      "\r",
      "Reading package lists... 99%\r",
      "\r",
      "Reading package lists... 99%\r",
      "\r",
      "Reading package lists... 99%\r",
      "\r",
      "Reading package lists... 99%\r"
     ]
    },
    {
     "name": "stdout",
     "output_type": "stream",
     "text": [
      "\r",
      "Reading package lists... 99%\r",
      "\r",
      "Reading package lists... 99%\r"
     ]
    },
    {
     "name": "stdout",
     "output_type": "stream",
     "text": [
      "\r",
      "Reading package lists... Done\r",
      "\r\n",
      "\r",
      "Reading package lists... 0%\r"
     ]
    },
    {
     "name": "stdout",
     "output_type": "stream",
     "text": [
      "\r",
      "Reading package lists... 100%\r",
      "\r",
      "Reading package lists... Done\r",
      "\r\n",
      "\r",
      "Building dependency tree... 0%\r",
      "\r",
      "Building dependency tree... 0%\r",
      "\r",
      "Building dependency tree... 50%\r",
      "\r",
      "Building dependency tree... 50%\r"
     ]
    },
    {
     "name": "stdout",
     "output_type": "stream",
     "text": [
      "\r",
      "Building dependency tree... Done\r",
      "\r\n",
      "\r",
      "Reading state information... 0% \r",
      "\r",
      "Reading state information... 0%\r",
      "\r",
      "Reading state information... Done\r",
      "\r\n"
     ]
    },
    {
     "name": "stdout",
     "output_type": "stream",
     "text": [
      "The following additional packages will be installed:\r\n",
      "  libpoppler134 poppler-data\r\n",
      "Suggested packages:\r\n",
      "  ghostscript fonts-japanese-mincho | fonts-ipafont-mincho\r\n",
      "  fonts-japanese-gothic | fonts-ipafont-gothic fonts-arphic-ukai\r\n",
      "  fonts-arphic-uming fonts-nanum\r\n"
     ]
    },
    {
     "name": "stdout",
     "output_type": "stream",
     "text": [
      "The following NEW packages will be installed:\r\n",
      "  libpoppler134 poppler-data poppler-utils\r\n",
      "0 upgraded, 3 newly installed, 0 to remove and 112 not upgraded.\r\n",
      "Need to get 3385 kB of archives.\r\n",
      "After this operation, 17.8 MB of additional disk space will be used.\r\n",
      "\r",
      "0% [Working]\r",
      "            \r",
      "Get:1 file:/etc/apt/apt-mirrors.txt Mirrorlist [142 B]\r\n",
      "\r",
      "0% [1 Mirrorlist 0 B/142 B 0%]\r",
      "                              \r",
      "5% [Working]\r",
      "5% [Working]\r",
      "5% [Working]"
     ]
    },
    {
     "name": "stdout",
     "output_type": "stream",
     "text": [
      "\r",
      "            \r",
      "Get:2 http://azure.archive.ubuntu.com/ubuntu noble/main amd64 poppler-data all 0.4.12-1 [2060 kB]\r\n",
      "\r",
      "5% [2 poppler-data 12.3 kB/2060 kB 1%]"
     ]
    },
    {
     "name": "stdout",
     "output_type": "stream",
     "text": [
      "\r",
      "                                      \r",
      "59% [Working]"
     ]
    },
    {
     "name": "stdout",
     "output_type": "stream",
     "text": [
      "\r",
      "             \r",
      "Get:3 http://azure.archive.ubuntu.com/ubuntu noble-updates/main amd64 libpoppler134 amd64 24.02.0-1ubuntu9.1 [1113 kB]\r\n",
      "\r",
      "59% [3 libpoppler134 9808 B/1113 kB 1%]"
     ]
    },
    {
     "name": "stdout",
     "output_type": "stream",
     "text": [
      "\r",
      "                                       \r",
      "90% [Working]"
     ]
    },
    {
     "name": "stdout",
     "output_type": "stream",
     "text": [
      "\r",
      "             \r",
      "Get:4 http://azure.archive.ubuntu.com/ubuntu noble-updates/main amd64 poppler-utils amd64 24.02.0-1ubuntu9.1 [212 kB]\r\n",
      "\r",
      "90% [4 poppler-utils 8192 B/212 kB 4%]\r",
      "                                      \r",
      "100% [Working]\r",
      "              \r",
      "Fetched 3385 kB in 0s (11.4 MB/s)\r\n"
     ]
    },
    {
     "name": "stdout",
     "output_type": "stream",
     "text": [
      "Selecting previously unselected package poppler-data.\r\n",
      "(Reading database ... \r"
     ]
    },
    {
     "name": "stdout",
     "output_type": "stream",
     "text": [
      "(Reading database ... 5%\r",
      "(Reading database ... 10%\r",
      "(Reading database ... 15%\r",
      "(Reading database ... 20%\r",
      "(Reading database ... 25%\r",
      "(Reading database ... 30%\r",
      "(Reading database ... 35%\r",
      "(Reading database ... 40%\r",
      "(Reading database ... 45%\r",
      "(Reading database ... 50%\r",
      "(Reading database ... 55%\r",
      "(Reading database ... 60%\r"
     ]
    },
    {
     "name": "stdout",
     "output_type": "stream",
     "text": [
      "(Reading database ... 65%\r"
     ]
    },
    {
     "name": "stdout",
     "output_type": "stream",
     "text": [
      "(Reading database ... 70%\r",
      "(Reading database ... 75%\r"
     ]
    },
    {
     "name": "stdout",
     "output_type": "stream",
     "text": [
      "(Reading database ... 80%\r"
     ]
    },
    {
     "name": "stdout",
     "output_type": "stream",
     "text": [
      "(Reading database ... 85%\r"
     ]
    },
    {
     "name": "stdout",
     "output_type": "stream",
     "text": [
      "(Reading database ... 90%\r"
     ]
    },
    {
     "name": "stdout",
     "output_type": "stream",
     "text": [
      "(Reading database ... 95%\r"
     ]
    },
    {
     "name": "stdout",
     "output_type": "stream",
     "text": [
      "(Reading database ... 100%\r",
      "(Reading database ... 219316 files and directories currently installed.)\r\n",
      "Preparing to unpack .../poppler-data_0.4.12-1_all.deb ...\r\n",
      "Unpacking poppler-data (0.4.12-1) ...\r\n"
     ]
    },
    {
     "name": "stdout",
     "output_type": "stream",
     "text": [
      "Selecting previously unselected package libpoppler134:amd64.\r\n",
      "Preparing to unpack .../libpoppler134_24.02.0-1ubuntu9.1_amd64.deb ...\r\n",
      "Unpacking libpoppler134:amd64 (24.02.0-1ubuntu9.1) ...\r\n"
     ]
    },
    {
     "name": "stdout",
     "output_type": "stream",
     "text": [
      "Selecting previously unselected package poppler-utils.\r\n"
     ]
    },
    {
     "name": "stdout",
     "output_type": "stream",
     "text": [
      "Preparing to unpack .../poppler-utils_24.02.0-1ubuntu9.1_amd64.deb ...\r\n",
      "Unpacking poppler-utils (24.02.0-1ubuntu9.1) ...\r\n"
     ]
    },
    {
     "name": "stdout",
     "output_type": "stream",
     "text": [
      "Setting up libpoppler134:amd64 (24.02.0-1ubuntu9.1) ...\r\n",
      "Setting up poppler-data (0.4.12-1) ...\r\n",
      "Setting up poppler-utils (24.02.0-1ubuntu9.1) ...\r\n",
      "Processing triggers for libc-bin (2.39-0ubuntu8.3) ...\r\n"
     ]
    },
    {
     "name": "stdout",
     "output_type": "stream",
     "text": [
      "Processing triggers for man-db (2.12.0-4build2) ...\r\n"
     ]
    },
    {
     "name": "stdout",
     "output_type": "stream",
     "text": [
      "Processing triggers for fontconfig (2.15.0-1.1ubuntu2) ...\r\n"
     ]
    },
    {
     "name": "stdout",
     "output_type": "stream",
     "text": [
      "Scanning processes... [                                                        ]\r",
      "Scanning processes... [                                                        ]\r"
     ]
    },
    {
     "name": "stdout",
     "output_type": "stream",
     "text": [
      "Scanning processes... [                                                        ]\r",
      "Scanning processes... [=                                                       ]\r",
      "Scanning processes... [=                                                       ]\r",
      "Scanning processes... [=                                                       ]\r",
      "Scanning processes... [==                                                      ]\r",
      "Scanning processes... [==                                                      ]\r",
      "Scanning processes... [==                                                      ]\r",
      "Scanning processes... [===                                                     ]\r",
      "Scanning processes... [===                                                     ]\r",
      "Scanning processes... [===                                                     ]\r",
      "Scanning processes... [====                                                    ]\r",
      "Scanning processes... [====                                                    ]\r",
      "Scanning processes... [====                                                    ]\r",
      "Scanning processes... [=====                                                   ]\r",
      "Scanning processes... [=====                                                   ]\r",
      "Scanning processes... [=====                                                   ]\r",
      "Scanning processes... [======                                                  ]\r",
      "Scanning processes... [======                                                  ]\r",
      "Scanning processes... [======                                                  ]\r",
      "Scanning processes... [=======                                                 ]\r",
      "Scanning processes... [=======                                                 ]\r",
      "Scanning processes... [=======                                                 ]\r",
      "Scanning processes... [========                                                ]\r",
      "Scanning processes... [========                                                ]\r",
      "Scanning processes... [========                                                ]\r",
      "Scanning processes... [=========                                               ]\r",
      "Scanning processes... [=========                                               ]\r",
      "Scanning processes... [=========                                               ]\r",
      "Scanning processes... [==========                                              ]\r",
      "Scanning processes... [==========                                              ]\r",
      "Scanning processes... [==========                                              ]\r",
      "Scanning processes... [===========                                             ]\r",
      "Scanning processes... [===========                                             ]\r",
      "Scanning processes... [============                                            ]\r",
      "Scanning processes... [============                                            ]\r",
      "Scanning processes... [============                                            ]\r",
      "Scanning processes... [=============                                           ]\r",
      "Scanning processes... [=============                                           ]\r",
      "Scanning processes... [=============                                           ]\r",
      "Scanning processes... [==============                                          ]\r",
      "Scanning processes... [==============                                          ]\r",
      "Scanning processes... [==============                                          ]\r",
      "Scanning processes... [===============                                         ]\r",
      "Scanning processes... [===============                                         ]\r",
      "Scanning processes... [===============                                         ]\r",
      "Scanning processes... [================                                        ]\r",
      "Scanning processes... [================                                        ]\r",
      "Scanning processes... [================                                        ]\r",
      "Scanning processes... [=================                                       ]\r",
      "Scanning processes... [=================                                       ]\r",
      "Scanning processes... [=================                                       ]\r",
      "Scanning processes... [==================                                      ]\r",
      "Scanning processes... [==================                                      ]\r",
      "Scanning processes... [==================                                      ]\r",
      "Scanning processes... [===================                                     ]\r",
      "Scanning processes... [===================                                     ]\r",
      "Scanning processes... [===================                                     ]\r",
      "Scanning processes... [====================                                    ]\r",
      "Scanning processes... [====================                                    ]\r",
      "Scanning processes... [====================                                    ]\r",
      "Scanning processes... [=====================                                   ]\r",
      "Scanning processes... [=====================                                   ]\r",
      "Scanning processes... [=====================                                   ]\r",
      "Scanning processes... [======================                                  ]\r",
      "Scanning processes... [======================                                  ]\r",
      "Scanning processes... [=======================                                 ]\r",
      "Scanning processes... [=======================                                 ]\r",
      "Scanning processes... [=======================                                 ]\r",
      "Scanning processes... [========================                                ]\r",
      "Scanning processes... [========================                                ]\r",
      "Scanning processes... [========================                                ]\r",
      "Scanning processes... [=========================                               ]\r",
      "Scanning processes... [=========================                               ]\r",
      "Scanning processes... [=========================                               ]\r",
      "Scanning processes... [==========================                              ]\r",
      "Scanning processes... [==========================                              ]\r",
      "Scanning processes... [==========================                              ]\r",
      "Scanning processes... [===========================                             ]\r",
      "Scanning processes... [===========================                             ]\r",
      "Scanning processes... [===========================                             ]\r",
      "Scanning processes... [============================                            ]\r",
      "Scanning processes... [============================                            ]\r",
      "Scanning processes... [============================                            ]\r",
      "Scanning processes... [=============================                           ]\r",
      "Scanning processes... [=============================                           ]\r",
      "Scanning processes... [=============================                           ]\r",
      "Scanning processes... [==============================                          ]\r",
      "Scanning processes... [==============================                          ]\r",
      "Scanning processes... [==============================                          ]\r",
      "Scanning processes... [===============================                         ]\r",
      "Scanning processes... [===============================                         ]\r",
      "Scanning processes... [===============================                         ]\r",
      "Scanning processes... [================================                        ]\r",
      "Scanning processes... [================================                        ]\r",
      "Scanning processes... [================================                        ]\r",
      "Scanning processes... [=================================                       ]\r",
      "Scanning processes... [=================================                       ]\r",
      "Scanning processes... [==================================                      ]\r",
      "Scanning processes... [==================================                      ]\r",
      "Scanning processes... [==================================                      ]\r",
      "Scanning processes... [===================================                     ]\r",
      "Scanning processes... [===================================                     ]\r",
      "Scanning processes... [===================================                     ]\r",
      "Scanning processes... [====================================                    ]\r",
      "Scanning processes... [====================================                    ]\r",
      "Scanning processes... [====================================                    ]\r",
      "Scanning processes... [=====================================                   ]\r",
      "Scanning processes... [=====================================                   ]\r",
      "Scanning processes... [=====================================                   ]\r",
      "Scanning processes... [======================================                  ]\r",
      "Scanning processes... [======================================                  ]\r",
      "Scanning processes... [======================================                  ]\r",
      "Scanning processes... [=======================================                 ]\r",
      "Scanning processes... [=======================================                 ]\r",
      "Scanning processes... [=======================================                 ]\r",
      "Scanning processes... [========================================                ]\r",
      "Scanning processes... [========================================                ]\r",
      "Scanning processes... [========================================                ]\r",
      "Scanning processes... [=========================================               ]\r",
      "Scanning processes... [=========================================               ]\r",
      "Scanning processes... [=========================================               ]\r",
      "Scanning processes... [==========================================              ]\r",
      "Scanning processes... [==========================================              ]\r",
      "Scanning processes... [==========================================              ]\r"
     ]
    },
    {
     "name": "stdout",
     "output_type": "stream",
     "text": [
      "Scanning processes... [===========================================             ]\r",
      "Scanning processes... [===========================================             ]\r",
      "Scanning processes... [===========================================             ]\r"
     ]
    },
    {
     "name": "stdout",
     "output_type": "stream",
     "text": [
      "Scanning processes... [============================================            ]\r",
      "Scanning processes... [============================================            ]\r",
      "Scanning processes... [=============================================           ]\r"
     ]
    },
    {
     "name": "stdout",
     "output_type": "stream",
     "text": [
      "Scanning processes... [=============================================           ]\r",
      "Scanning processes... [=============================================           ]\r",
      "Scanning processes... [==============================================          ]\r",
      "Scanning processes... [==============================================          ]\r",
      "Scanning processes... [==============================================          ]\r",
      "Scanning processes... [===============================================         ]\r",
      "Scanning processes... [===============================================         ]\r",
      "Scanning processes... [===============================================         ]\r",
      "Scanning processes... [================================================        ]\r",
      "Scanning processes... [================================================        ]\r",
      "Scanning processes... [================================================        ]\r",
      "Scanning processes... [=================================================       ]\r",
      "Scanning processes... [=================================================       ]\r",
      "Scanning processes... [=================================================       ]\r",
      "Scanning processes... [==================================================      ]\r"
     ]
    },
    {
     "name": "stdout",
     "output_type": "stream",
     "text": [
      "Scanning processes... [==================================================      ]\r",
      "Scanning processes... [==================================================      ]\r",
      "Scanning processes... [===================================================     ]\r",
      "Scanning processes... [===================================================     ]\r",
      "Scanning processes... [===================================================     ]\r",
      "Scanning processes... [====================================================    ]\r",
      "Scanning processes... [====================================================    ]\r",
      "Scanning processes... [====================================================    ]\r",
      "Scanning processes... [=====================================================   ]\r",
      "Scanning processes... [=====================================================   ]\r",
      "Scanning processes... [=====================================================   ]\r",
      "Scanning processes... [======================================================  ]\r",
      "Scanning processes... [======================================================  ]\r",
      "Scanning processes... [======================================================  ]\r",
      "Scanning processes... [======================================================= ]\r",
      "Scanning processes... [======================================================= ]\r",
      "Scanning processes... [========================================================]\r",
      "Scanning processes...                                                           \r\n",
      "Scanning linux images... [                                                     ]\r",
      "Scanning linux images... [=================                                    ]\r",
      "Scanning linux images... [===================================                  ]\r",
      "Scanning linux images... [=====================================================]\r",
      "Scanning linux images...                                                        \r\n",
      "\r\n",
      "Running kernel seems to be up-to-date.\r\n",
      "\r\n",
      "No services need to be restarted.\r\n",
      "\r\n",
      "No containers need to be restarted.\r\n",
      "\r\n",
      "No user sessions are running outdated binaries.\r\n",
      "\r\n",
      "No VM guests are running outdated hypervisor (qemu) binaries on this host.\r\n"
     ]
    }
   ],
   "source": [
    "!pip install pdf2image\n",
    "!sudo apt-get update && sudo apt-get install -y poppler-utils"
   ]
  },
  {
   "cell_type": "markdown",
   "metadata": {},
   "source": [
    "Import the necessary library"
   ]
  },
  {
   "cell_type": "code",
   "execution_count": 2,
   "metadata": {
    "execution": {
     "iopub.execute_input": "2024-12-15T20:20:22.266680Z",
     "iopub.status.busy": "2024-12-15T20:20:22.266306Z",
     "iopub.status.idle": "2024-12-15T20:20:22.284159Z",
     "shell.execute_reply": "2024-12-15T20:20:22.283664Z"
    }
   },
   "outputs": [],
   "source": [
    "from pdf2image import convert_from_path"
   ]
  },
  {
   "cell_type": "markdown",
   "metadata": {},
   "source": [
    "Convert first page of PDF to image and save as PNG"
   ]
  },
  {
   "cell_type": "code",
   "execution_count": 3,
   "metadata": {
    "execution": {
     "iopub.execute_input": "2024-12-15T20:20:22.286305Z",
     "iopub.status.busy": "2024-12-15T20:20:22.285910Z",
     "iopub.status.idle": "2024-12-15T20:20:22.461765Z",
     "shell.execute_reply": "2024-12-15T20:20:22.461117Z"
    }
   },
   "outputs": [],
   "source": [
    "# Convert only first page\n",
    "pages = convert_from_path('test2.pdf', first_page=1, last_page=1)\n",
    "\n",
    "# Save the first page\n",
    "pages[0].save('test2.png', 'PNG')"
   ]
  }
 ],
 "metadata": {
  "language_info": {
   "codemirror_mode": {
    "name": "ipython",
    "version": 3
   },
   "file_extension": ".py",
   "mimetype": "text/x-python",
   "name": "python",
   "nbconvert_exporter": "python",
   "pygments_lexer": "ipython3",
   "version": "3.12.8"
  }
 },
 "nbformat": 4,
 "nbformat_minor": 4
}
