{
 "cells": [
  {
   "cell_type": "markdown",
   "metadata": {},
   "source": [
    "# Statistical Test Decision Tree\n",
    "\n",
    "This notebook creates a decision tree to help select appropriate statistical tests."
   ]
  },
  {
   "cell_type": "markdown",
   "metadata": {},
   "source": [
    "First, let's import required libraries and set up graphviz for visualization."
   ]
  },
  {
   "cell_type": "code",
   "execution_count": 1,
   "metadata": {
    "execution": {
     "iopub.execute_input": "2025-01-26T10:00:13.948945Z",
     "iopub.status.busy": "2025-01-26T10:00:13.948781Z",
     "iopub.status.idle": "2025-01-26T10:00:14.091975Z",
     "shell.execute_reply": "2025-01-26T10:00:14.091229Z"
    }
   },
   "outputs": [
    {
     "ename": "ModuleNotFoundError",
     "evalue": "No module named 'graphviz'",
     "output_type": "error",
     "traceback": [
      "\u001b[0;31m---------------------------------------------------------------------------\u001b[0m",
      "\u001b[0;31mModuleNotFoundError\u001b[0m                       Traceback (most recent call last)",
      "Cell \u001b[0;32mIn[1], line 1\u001b[0m\n\u001b[0;32m----> 1\u001b[0m \u001b[38;5;28;01mimport\u001b[39;00m\u001b[38;5;250m \u001b[39m\u001b[38;5;21;01mgraphviz\u001b[39;00m\n",
      "\u001b[0;31mModuleNotFoundError\u001b[0m: No module named 'graphviz'"
     ]
    }
   ],
   "source": [
    "import graphviz"
   ]
  },
  {
   "cell_type": "markdown",
   "metadata": {},
   "source": [
    "Create a new directed graph with top-to-bottom layout."
   ]
  },
  {
   "cell_type": "code",
   "execution_count": null,
   "metadata": {},
   "outputs": [],
   "source": [
    "dot = graphviz.Digraph(comment='Statistical Test Decision Tree')\n",
    "dot.attr(rankdir='TB')\n",
    "\n",
    "# Define nodes: Questions and Tests\n",
    "nodes = {\n",
    "    'START': 'Data Type?',\n",
    "    'CAT': 'Categorical',\n",
    "    'NUM': 'Numerical',\n",
    "    'GROUPS2': '2 Groups?',\n",
    "    'GROUPSN': '>2 Groups?',\n",
    "    'PAIRED': 'Paired?',\n",
    "    'NORMAL': 'Normal\\nDistribution?',\n",
    "    'CHISQ': 'Chi-Square',\n",
    "    'FISHER': \"Fisher's\\nExact Test\",\n",
    "    'ANOVA': 'ANOVA',\n",
    "    'KW': 'Kruskal-Wallis',\n",
    "    'PAIRT': 'Paired t-test',\n",
    "    'WILCOX': 'Wilcoxon\\nSigned-Rank',\n",
    "    'TTEST': 'Unpaired t-test',\n",
    "    'MWU': 'Mann-Whitney U'\n",
    "}\n",
    "\n",
    "# Add nodes\n",
    "for key, label in nodes.items():\n",
    "    dot.node(key, label)"
   ]
  },
  {
   "cell_type": "markdown",
   "metadata": {},
   "source": [
    "Add edges to connect the nodes according to the decision path."
   ]
  },
  {
   "cell_type": "code",
   "execution_count": null,
   "metadata": {},
   "outputs": [],
   "source": [
    "# Define edges with labels\n",
    "edges = [\n",
    "    ('START', 'CAT', 'Categorical'),\n",
    "    ('START', 'NUM', 'Numerical'),\n",
    "    ('CAT', 'GROUPS2', 'Yes'),\n",
    "    ('CAT', 'GROUPSN', 'No'),\n",
    "    ('GROUPS2', 'CHISQ', '>5 samples'),\n",
    "    ('GROUPS2', 'FISHER', '<5 samples'),\n",
    "    ('NUM', 'GROUPS2', '2 groups'),\n",
    "    ('NUM', 'GROUPSN', '>2 groups'),\n",
    "    ('GROUPSN', 'ANOVA', 'Normal'),\n",
    "    ('GROUPSN', 'KW', 'Non-normal'),\n",
    "    ('GROUPS2', 'PAIRED', 'Yes'),\n",
    "    ('PAIRED', 'NORMAL', 'Yes'),\n",
    "    ('NORMAL', 'PAIRT', 'Yes'),\n",
    "    ('NORMAL', 'WILCOX', 'No'),\n",
    "    ('PAIRED', 'NORMAL', 'No'),\n",
    "    ('NORMAL', 'TTEST', 'Yes'),\n",
    "    ('NORMAL', 'MWU', 'No')\n",
    "]\n",
    "\n",
    "# Add edges\n",
    "for src, dst, label in edges:\n",
    "    dot.edge(src, dst, label)"
   ]
  },
  {
   "cell_type": "markdown",
   "metadata": {},
   "source": [
    "Save the decision tree visualization as SVG file."
   ]
  },
  {
   "cell_type": "code",
   "execution_count": null,
   "metadata": {},
   "outputs": [],
   "source": [
    "dot.render('statistical_test_decision_tree', format='svg', cleanup=True)"
   ]
  }
 ],
 "metadata": {
  "language_info": {
   "codemirror_mode": {
    "name": "ipython",
    "version": 3
   },
   "file_extension": ".py",
   "mimetype": "text/x-python",
   "name": "python",
   "nbconvert_exporter": "python",
   "pygments_lexer": "ipython3",
   "version": "3.12.8"
  }
 },
 "nbformat": 4,
 "nbformat_minor": 4
}