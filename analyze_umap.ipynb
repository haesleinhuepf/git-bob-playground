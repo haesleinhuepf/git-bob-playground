{
 "cells": [
  {
   "cell_type": "markdown",
   "metadata": {},
   "source": [
    "# Synthetic Dataset Creation\n",
    "Let's create a synthetic dataset of cell measurements."
   ]
  },
  {
   "cell_type": "code",
   "execution_count": 1,
   "metadata": {
    "execution": {
     "iopub.execute_input": "2024-10-21T07:32:26.993197Z",
     "iopub.status.busy": "2024-10-21T07:32:26.993009Z",
     "iopub.status.idle": "2024-10-21T07:32:27.284625Z",
     "shell.execute_reply": "2024-10-21T07:32:27.283993Z"
    }
   },
   "outputs": [
    {
     "data": {
      "text/html": [
       "<div>\n",
       "<style scoped>\n",
       "    .dataframe tbody tr th:only-of-type {\n",
       "        vertical-align: middle;\n",
       "    }\n",
       "\n",
       "    .dataframe tbody tr th {\n",
       "        vertical-align: top;\n",
       "    }\n",
       "\n",
       "    .dataframe thead th {\n",
       "        text-align: right;\n",
       "    }\n",
       "</style>\n",
       "<table border=\"1\" class=\"dataframe\">\n",
       "  <thead>\n",
       "    <tr style=\"text-align: right;\">\n",
       "      <th></th>\n",
       "      <th>intensity</th>\n",
       "      <th>aspect_ratio</th>\n",
       "      <th>perimeter</th>\n",
       "      <th>elongation</th>\n",
       "    </tr>\n",
       "  </thead>\n",
       "  <tbody>\n",
       "    <tr>\n",
       "      <th>0</th>\n",
       "      <td>104.967142</td>\n",
       "      <td>1.126117</td>\n",
       "      <td>50.065009</td>\n",
       "      <td>1.282275</td>\n",
       "    </tr>\n",
       "    <tr>\n",
       "      <th>1</th>\n",
       "      <td>98.617357</td>\n",
       "      <td>0.833162</td>\n",
       "      <td>57.267670</td>\n",
       "      <td>3.569677</td>\n",
       "    </tr>\n",
       "    <tr>\n",
       "      <th>2</th>\n",
       "      <td>106.476885</td>\n",
       "      <td>0.679798</td>\n",
       "      <td>48.676716</td>\n",
       "      <td>1.106045</td>\n",
       "    </tr>\n",
       "    <tr>\n",
       "      <th>3</th>\n",
       "      <td>115.230299</td>\n",
       "      <td>1.006423</td>\n",
       "      <td>63.600846</td>\n",
       "      <td>3.343102</td>\n",
       "    </tr>\n",
       "    <tr>\n",
       "      <th>4</th>\n",
       "      <td>97.658466</td>\n",
       "      <td>1.914365</td>\n",
       "      <td>53.128337</td>\n",
       "      <td>4.760921</td>\n",
       "    </tr>\n",
       "  </tbody>\n",
       "</table>\n",
       "</div>"
      ],
      "text/plain": [
       "    intensity  aspect_ratio  perimeter  elongation\n",
       "0  104.967142      1.126117  50.065009    1.282275\n",
       "1   98.617357      0.833162  57.267670    3.569677\n",
       "2  106.476885      0.679798  48.676716    1.106045\n",
       "3  115.230299      1.006423  63.600846    3.343102\n",
       "4   97.658466      1.914365  53.128337    4.760921"
      ]
     },
     "execution_count": 1,
     "metadata": {},
     "output_type": "execute_result"
    }
   ],
   "source": [
    "import numpy as np\n",
    "import pandas as pd\n",
    "\n",
    "# Define parameters for synthetic data\n",
    "n_samples = 100\n",
    "np.random.seed(42)\n",
    "\n",
    "# Generate synthetic data\n",
    "intensity = np.random.normal(loc=100, scale=10, size=n_samples)\n",
    "aspect_ratio = np.random.uniform(0.5, 2.0, size=n_samples)\n",
    "perimeter = np.random.normal(loc=50, scale=5, size=n_samples)\n",
    "elongation = np.random.uniform(1.0, 5.0, size=n_samples)\n",
    "\n",
    "# Create a DataFrame\n",
    "data = pd.DataFrame({\n",
    "    'intensity': intensity,\n",
    "    'aspect_ratio': aspect_ratio,\n",
    "    'perimeter': perimeter,\n",
    "    'elongation': elongation\n",
    "})\n",
    "data.head()"
   ]
  },
  {
   "cell_type": "markdown",
   "metadata": {},
   "source": [
    "# UMAP Dimensionality Reduction\n",
    "We'll use UMAP to reduce the dimensionality of our dataset."
   ]
  },
  {
   "cell_type": "code",
   "execution_count": 2,
   "metadata": {
    "execution": {
     "iopub.execute_input": "2024-10-21T07:32:27.320646Z",
     "iopub.status.busy": "2024-10-21T07:32:27.320055Z",
     "iopub.status.idle": "2024-10-21T07:32:47.585781Z",
     "shell.execute_reply": "2024-10-21T07:32:47.585122Z"
    }
   },
   "outputs": [
    {
     "name": "stderr",
     "output_type": "stream",
     "text": [
      "/opt/hostedtoolcache/Python/3.12.7/x64/lib/python3.12/site-packages/umap/umap_.py:1945: UserWarning: n_jobs value 1 overridden to 1 by setting random_state. Use no seed for parallelism.\n",
      "  warn(f\"n_jobs value {self.n_jobs} overridden to 1 by setting random_state. Use no seed for parallelism.\")\n"
     ]
    },
    {
     "data": {
      "text/html": [
       "<div>\n",
       "<style scoped>\n",
       "    .dataframe tbody tr th:only-of-type {\n",
       "        vertical-align: middle;\n",
       "    }\n",
       "\n",
       "    .dataframe tbody tr th {\n",
       "        vertical-align: top;\n",
       "    }\n",
       "\n",
       "    .dataframe thead th {\n",
       "        text-align: right;\n",
       "    }\n",
       "</style>\n",
       "<table border=\"1\" class=\"dataframe\">\n",
       "  <thead>\n",
       "    <tr style=\"text-align: right;\">\n",
       "      <th></th>\n",
       "      <th>intensity</th>\n",
       "      <th>aspect_ratio</th>\n",
       "      <th>perimeter</th>\n",
       "      <th>elongation</th>\n",
       "      <th>UMAP1</th>\n",
       "      <th>UMAP2</th>\n",
       "    </tr>\n",
       "  </thead>\n",
       "  <tbody>\n",
       "    <tr>\n",
       "      <th>0</th>\n",
       "      <td>104.967142</td>\n",
       "      <td>1.126117</td>\n",
       "      <td>50.065009</td>\n",
       "      <td>1.282275</td>\n",
       "      <td>6.724346</td>\n",
       "      <td>5.997667</td>\n",
       "    </tr>\n",
       "    <tr>\n",
       "      <th>1</th>\n",
       "      <td>98.617357</td>\n",
       "      <td>0.833162</td>\n",
       "      <td>57.267670</td>\n",
       "      <td>3.569677</td>\n",
       "      <td>8.948473</td>\n",
       "      <td>5.495105</td>\n",
       "    </tr>\n",
       "    <tr>\n",
       "      <th>2</th>\n",
       "      <td>106.476885</td>\n",
       "      <td>0.679798</td>\n",
       "      <td>48.676716</td>\n",
       "      <td>1.106045</td>\n",
       "      <td>7.371753</td>\n",
       "      <td>5.478401</td>\n",
       "    </tr>\n",
       "    <tr>\n",
       "      <th>3</th>\n",
       "      <td>115.230299</td>\n",
       "      <td>1.006423</td>\n",
       "      <td>63.600846</td>\n",
       "      <td>3.343102</td>\n",
       "      <td>9.183865</td>\n",
       "      <td>6.233614</td>\n",
       "    </tr>\n",
       "    <tr>\n",
       "      <th>4</th>\n",
       "      <td>97.658466</td>\n",
       "      <td>1.914365</td>\n",
       "      <td>53.128337</td>\n",
       "      <td>4.760921</td>\n",
       "      <td>9.282890</td>\n",
       "      <td>8.105378</td>\n",
       "    </tr>\n",
       "  </tbody>\n",
       "</table>\n",
       "</div>"
      ],
      "text/plain": [
       "    intensity  aspect_ratio  perimeter  elongation     UMAP1     UMAP2\n",
       "0  104.967142      1.126117  50.065009    1.282275  6.724346  5.997667\n",
       "1   98.617357      0.833162  57.267670    3.569677  8.948473  5.495105\n",
       "2  106.476885      0.679798  48.676716    1.106045  7.371753  5.478401\n",
       "3  115.230299      1.006423  63.600846    3.343102  9.183865  6.233614\n",
       "4   97.658466      1.914365  53.128337    4.760921  9.282890  8.105378"
      ]
     },
     "execution_count": 2,
     "metadata": {},
     "output_type": "execute_result"
    }
   ],
   "source": [
    "import umap\n",
    "from sklearn.preprocessing import StandardScaler\n",
    "\n",
    "# Standardize the features\n",
    "scaler = StandardScaler()\n",
    "data_scaled = scaler.fit_transform(data)\n",
    "\n",
    "# Apply UMAP\n",
    "umap_model = umap.UMAP(random_state=42)\n",
    "umap_result = umap_model.fit_transform(data_scaled)\n",
    "\n",
    "# Add UMAP results to the DataFrame\n",
    "data['UMAP1'] = umap_result[:, 0]\n",
    "data['UMAP2'] = umap_result[:, 1]\n",
    "data.head()"
   ]
  },
  {
   "cell_type": "markdown",
   "metadata": {},
   "source": [
    "# Visualization using Seaborn\n",
    "Now, we'll visualize the UMAP results."
   ]
  },
  {
   "cell_type": "code",
   "execution_count": 3,
   "metadata": {
    "execution": {
     "iopub.execute_input": "2024-10-21T07:32:47.587895Z",
     "iopub.status.busy": "2024-10-21T07:32:47.587631Z",
     "iopub.status.idle": "2024-10-21T07:32:48.642669Z",
     "shell.execute_reply": "2024-10-21T07:32:48.642015Z"
    }
   },
   "outputs": [
    {
     "data": {
      "image/png": "[encoded data removed]",
      "text/plain": [
       "<Figure size 800x600 with 1 Axes>"
      ]
     },
     "metadata": {},
     "output_type": "display_data"
    }
   ],
   "source": [
    "import seaborn as sns\n",
    "import matplotlib.pyplot as plt\n",
    "\n",
    "# UMAP plot\n",
    "sns.set(style='white', rc={'figure.figsize':(8,6)})\n",
    "plot = sns.scatterplot(x='UMAP1', y='UMAP2', data=data)\n",
    "plt.title('UMAP projection of Synthetic Cell Measurements')\n",
    "\n",
    "# Save the plot\n",
    "plt.savefig('umap_projection.png')\n",
    "plt.show()"
   ]
  }
 ],
 "metadata": {
  "language_info": {
   "codemirror_mode": {
    "name": "ipython",
    "version": 3
   },
   "file_extension": ".py",
   "mimetype": "text/x-python",
   "name": "python",
   "nbconvert_exporter": "python",
   "pygments_lexer": "ipython3",
   "version": "3.12.7"
  }
 },
 "nbformat": 4,
 "nbformat_minor": 4
}
