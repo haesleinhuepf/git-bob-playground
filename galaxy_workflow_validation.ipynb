{
 "cells": [
  {
   "cell_type": "markdown",
   "metadata": {},
   "source": [
    "# Galaxy Workflow Validation\n",
    "\n",
    "This notebook creates a simple Galaxy workflow and validates it using planemo."
   ]
  },
  {
   "cell_type": "markdown",
   "metadata": {},
   "source": [
    "First, let's define our workflow and save it to a file:"
   ]
  },
  {
   "cell_type": "code",
   "execution_count": 1,
   "metadata": {
    "execution": {
     "iopub.execute_input": "2025-02-05T16:24:26.602024Z",
     "iopub.status.busy": "2025-02-05T16:24:26.601846Z",
     "iopub.status.idle": "2025-02-05T16:24:26.606841Z",
     "shell.execute_reply": "2025-02-05T16:24:26.606417Z"
    }
   },
   "outputs": [],
   "source": [
    "import json\n",
    "\n",
    "workflow = {\n",
    "    \"a_galaxy_workflow\": \"true\",\n",
    "    \"format-version\": \"0.1\",\n",
    "    \"name\": \"gaussian_blur_threshold\",\n",
    "    \"steps\": {\n",
    "        \"0\": {\n",
    "            \"id\": 0,\n",
    "            \"type\": \"data_input\",\n",
    "            \"inputs\": [{\"name\": \"Input Image\"}],\n",
    "            \"position\": {\"left\": 0, \"top\": 0}\n",
    "        },\n",
    "        \"1\": {\n",
    "            \"id\": 1,\n",
    "            \"tool_id\": \"toolshed.g2.bx.psu.edu/repos/imgteam/2d_simple_filter/ip_filter_standard/1.12.0+galaxy1\",\n",
    "            \"type\": \"tool\",\n",
    "            \"input_connections\": {\n",
    "                \"input\": {\"id\": 0, \"output_name\": \"output\"}\n",
    "            },\n",
    "            \"tool_state\": \"{\\\"filter\\\": {\\\"filter_type\\\": \\\"gaussian\\\", \\\"size\\\": \\\"3.0\\\"}}\",\n",
    "            \"position\": {\"left\": 300, \"top\": 0}\n",
    "        },\n",
    "        \"2\": {\n",
    "            \"id\": 2, \n",
    "            \"tool_id\": \"toolshed.g2.bx.psu.edu/repos/imgteam/2d_auto_threshold/ip_threshold/0.18.1+galaxy3\",\n",
    "            \"type\": \"tool\",\n",
    "            \"input_connections\": {\n",
    "                \"input\": {\"id\": 1, \"output_name\": \"output\"}\n",
    "            },\n",
    "            \"tool_state\": \"{\\\"th_method\\\": {\\\"method_id\\\": \\\"otsu\\\"}}\",\n",
    "            \"position\": {\"left\": 600, \"top\": 0}\n",
    "        }\n",
    "    }\n",
    "}\n",
    "\n",
    "with open('workflow.ga', 'w') as f:\n",
    "    json.dump(workflow, f, indent=4)"
   ]
  },
  {
   "cell_type": "markdown",
   "metadata": {},
   "source": [
    "Now let's validate the workflow using planemo test:"
   ]
  },
  {
   "cell_type": "code",
   "execution_count": 2,
   "metadata": {
    "execution": {
     "iopub.execute_input": "2025-02-05T16:24:26.608552Z",
     "iopub.status.busy": "2025-02-05T16:24:26.608373Z",
     "iopub.status.idle": "2025-02-05T16:24:26.612738Z",
     "shell.execute_reply": "2025-02-05T16:24:26.612200Z"
    }
   },
   "outputs": [
    {
     "name": "stdout",
     "output_type": "stream",
     "text": [
      "Please install planemo first using: pip install planemo\n"
     ]
    }
   ],
   "source": [
    "import subprocess\n",
    "\n",
    "try:\n",
    "    result = subprocess.run(['planemo', 'test', 'workflow.ga'], \n",
    "                           capture_output=True, \n",
    "                           text=True)\n",
    "    print(result.stdout)\n",
    "    print(result.stderr)\n",
    "except FileNotFoundError:\n",
    "    print(\"Please install planemo first using: pip install planemo\")"
   ]
  }
 ],
 "metadata": {
  "language_info": {
   "codemirror_mode": {
    "name": "ipython",
    "version": 3
   },
   "file_extension": ".py",
   "mimetype": "text/x-python",
   "name": "python",
   "nbconvert_exporter": "python",
   "pygments_lexer": "ipython3",
   "version": "3.13.1"
  }
 },
 "nbformat": 4,
 "nbformat_minor": 4
}
