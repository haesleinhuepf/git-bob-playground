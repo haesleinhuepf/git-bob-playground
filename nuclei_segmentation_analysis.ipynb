{
 "cells": [
  {
   "cell_type": "markdown",
   "id": "1654beb4",
   "metadata": {},
   "source": [
    "# Nuclei Segmentation Analysis\n",
    "\n",
    "In this notebook, we will perform nuclei segmentation on a fluorescence microscopy image using Voronoi-Otsu-Labeling from the `napari-segment-blobs-and-things-with-membranes` library."
   ]
  },
  {
   "cell_type": "markdown",
   "id": "08e700e3",
   "metadata": {},
   "source": [
    "## Step 1: Load the Image\n",
    "\n",
    "We start by loading the image from the local file `human_mitosis_small.png` and extracting the first channel."
   ]
  },
  {
   "cell_type": "code",
   "execution_count": 1,
   "id": "9a33cb95",
   "metadata": {
    "execution": {
     "iopub.execute_input": "2024-10-13T12:48:06.236716Z",
     "iopub.status.busy": "2024-10-13T12:48:06.236535Z",
     "iopub.status.idle": "2024-10-13T12:48:06.598352Z",
     "shell.execute_reply": "2024-10-13T12:48:06.597831Z"
    }
   },
   "outputs": [],
   "source": [
    "from skimage.io import imread\n",
    "\n",
    "# Load the image\n",
    "image = imread('human_mitosis_small.png')\n",
    "\n",
    "# Extract the first channel\n",
    "image_channel = image[..., 0]\n",
    "\n",
    "# Visualize the loaded image - optional\n",
    "# stackview.insight(image_channel)"
   ]
  },
  {
   "cell_type": "markdown",
   "id": "4a1c648f",
   "metadata": {},
   "source": [
    "## Step 2: Apply Voronoi-Otsu-Labeling\n",
    "\n",
    "We will now segment the image using the Voronoi-Otsu-Labeling method with adjusted parameters."
   ]
  },
  {
   "cell_type": "code",
   "execution_count": 2,
   "id": "bcfe0e71",
   "metadata": {
    "execution": {
     "iopub.execute_input": "2024-10-13T12:48:06.600406Z",
     "iopub.status.busy": "2024-10-13T12:48:06.600153Z",
     "iopub.status.idle": "2024-10-13T12:48:08.616572Z",
     "shell.execute_reply": "2024-10-13T12:48:08.615977Z"
    }
   },
   "outputs": [
    {
     "name": "stderr",
     "output_type": "stream",
     "text": [
      "/opt/hostedtoolcache/Python/3.12.7/x64/lib/python3.12/site-packages/napari_tools_menu/__init__.py:10: UserWarning: Importing QT failed; now introducing dummy definitions of QMenu class and register_function decorator.\n",
      "  warnings.warn(\"Importing QT failed; now introducing dummy definitions of QMenu class and register_function decorator.\")\n"
     ]
    }
   ],
   "source": [
    "import napari_segment_blobs_and_things_with_membranes as nsbatwm\n",
    "\n",
    "# Apply Voronoi-Otsu-Labeling\n",
    "labeled_image = nsbatwm.voronoi_otsu_labeling(image_channel, spot_sigma=2, outline_sigma=1)"
   ]
  },
  {
   "cell_type": "markdown",
   "id": "90488caf",
   "metadata": {},
   "source": [
    "## Step 3: Save the Results\n",
    "\n",
    "Finally, we will save the labeled image as an RGB PNG to disk for further analysis or visualization."
   ]
  },
  {
   "cell_type": "code",
   "execution_count": 3,
   "id": "30df4e16",
   "metadata": {
    "execution": {
     "iopub.execute_input": "2024-10-13T12:48:08.618769Z",
     "iopub.status.busy": "2024-10-13T12:48:08.618457Z",
     "iopub.status.idle": "2024-10-13T12:48:08.904577Z",
     "shell.execute_reply": "2024-10-13T12:48:08.903722Z"
    }
   },
   "outputs": [
    {
     "ename": "NameError",
     "evalue": "name 'np' is not defined",
     "output_type": "error",
     "traceback": [
      "\u001b[0;31m---------------------------------------------------------------------------\u001b[0m",
      "\u001b[0;31mNameError\u001b[0m                                 Traceback (most recent call last)",
      "Cell \u001b[0;32mIn[3], line 5\u001b[0m\n\u001b[1;32m      2\u001b[0m \u001b[38;5;28;01mfrom\u001b[39;00m \u001b[38;5;21;01mskimage\u001b[39;00m\u001b[38;5;21;01m.\u001b[39;00m\u001b[38;5;21;01mio\u001b[39;00m \u001b[38;5;28;01mimport\u001b[39;00m imsave\n\u001b[1;32m      4\u001b[0m \u001b[38;5;66;03m# Convert labeled image to RGB\u001b[39;00m\n\u001b[0;32m----> 5\u001b[0m rgb_labeled_image \u001b[38;5;241m=\u001b[39m (color\u001b[38;5;241m.\u001b[39mlabel2rgb(labeled_image, bg_label\u001b[38;5;241m=\u001b[39m\u001b[38;5;241m0\u001b[39m, kind\u001b[38;5;241m=\u001b[39m\u001b[38;5;124m'\u001b[39m\u001b[38;5;124moverlay\u001b[39m\u001b[38;5;124m'\u001b[39m) \u001b[38;5;241m*\u001b[39m \u001b[38;5;241m255\u001b[39m)\u001b[38;5;241m.\u001b[39mastype(\u001b[43mnp\u001b[49m\u001b[38;5;241m.\u001b[39muint8)\n\u001b[1;32m      7\u001b[0m \u001b[38;5;66;03m# Save the labeled image\u001b[39;00m\n\u001b[1;32m      8\u001b[0m imsave(\u001b[38;5;124m'\u001b[39m\u001b[38;5;124mlabeled_nuclei.png\u001b[39m\u001b[38;5;124m'\u001b[39m, rgb_labeled_image)\n",
      "\u001b[0;31mNameError\u001b[0m: name 'np' is not defined"
     ]
    }
   ],
   "source": [
    "from skimage import color\n",
    "from skimage.io import imsave\n",
    "\n",
    "# Convert labeled image to RGB\n",
    "rgb_labeled_image = (color.label2rgb(labeled_image, bg_label=0, kind='overlay') * 255).astype(np.uint8)\n",
    "\n",
    "# Save the labeled image\n",
    "imsave('labeled_nuclei.png', rgb_labeled_image)"
   ]
  }
 ],
 "metadata": {
  "language_info": {
   "codemirror_mode": {
    "name": "ipython",
    "version": 3
   },
   "file_extension": ".py",
   "mimetype": "text/x-python",
   "name": "python",
   "nbconvert_exporter": "python",
   "pygments_lexer": "ipython3",
   "version": "3.12.7"
  }
 },
 "nbformat": 4,
 "nbformat_minor": 5
}
