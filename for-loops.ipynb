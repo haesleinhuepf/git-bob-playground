{
 "cells": [
  {
   "cell_type": "markdown",
   "metadata": {},
   "source": [
    "## Printing numbers divisible by 2 and either less than 10 or greater than 20\n",
    "\n",
    "In this notebook, we will use a `for` loop to print numbers between 0 and 30 that are divisible by 2 and either less than 10 or greater than 20."
   ]
  },
  {
   "cell_type": "code",
   "execution_count": 1,
   "metadata": {
    "execution": {
     "iopub.execute_input": "2024-10-13T07:15:36.419132Z",
     "iopub.status.busy": "2024-10-13T07:15:36.418932Z",
     "iopub.status.idle": "2024-10-13T07:15:36.476215Z",
     "shell.execute_reply": "2024-10-13T07:15:36.475667Z"
    }
   },
   "outputs": [],
   "source": [
    "import numpy as np"
   ]
  },
  {
   "cell_type": "code",
   "execution_count": 2,
   "metadata": {
    "execution": {
     "iopub.execute_input": "2024-10-13T07:15:36.478904Z",
     "iopub.status.busy": "2024-10-13T07:15:36.478653Z",
     "iopub.status.idle": "2024-10-13T07:15:36.482354Z",
     "shell.execute_reply": "2024-10-13T07:15:36.481844Z"
    }
   },
   "outputs": [],
   "source": [
    "# Create an array of numbers from 0 to 30\n",
    "numbers = np.arange(31)"
   ]
  },
  {
   "cell_type": "code",
   "execution_count": 3,
   "metadata": {
    "execution": {
     "iopub.execute_input": "2024-10-13T07:15:36.484700Z",
     "iopub.status.busy": "2024-10-13T07:15:36.484511Z",
     "iopub.status.idle": "2024-10-13T07:15:36.488416Z",
     "shell.execute_reply": "2024-10-13T07:15:36.487904Z"
    }
   },
   "outputs": [],
   "source": [
    "# Initialize an empty list to store the desired numbers\n",
    "desired_numbers = []\n",
    "\n",
    "# Loop through the numbers and select those divisible by 2 and either < 10 or > 20\n",
    "for number in numbers:\n",
    "    if number % 2 == 0 and (number < 10 or number > 20):\n",
    "        desired_numbers.append(number)"
   ]
  },
  {
   "cell_type": "code",
   "execution_count": 4,
   "metadata": {
    "execution": {
     "iopub.execute_input": "2024-10-13T07:15:36.490559Z",
     "iopub.status.busy": "2024-10-13T07:15:36.490363Z",
     "iopub.status.idle": "2024-10-13T07:15:36.497446Z",
     "shell.execute_reply": "2024-10-13T07:15:36.496871Z"
    }
   },
   "outputs": [
    {
     "name": "stdout",
     "output_type": "stream",
     "text": [
      "[np.int64(0), np.int64(2), np.int64(4), np.int64(6), np.int64(8), np.int64(22), np.int64(24), np.int64(26), np.int64(28), np.int64(30)]\n"
     ]
    }
   ],
   "source": [
    "# Print the desired numbers\n",
    "print(desired_numbers)"
   ]
  }
 ],
 "metadata": {
  "language_info": {
   "codemirror_mode": {
    "name": "ipython",
    "version": 3
   },
   "file_extension": ".py",
   "mimetype": "text/x-python",
   "name": "python",
   "nbconvert_exporter": "python",
   "pygments_lexer": "ipython3",
   "version": "3.12.7"
  }
 },
 "nbformat": 4,
 "nbformat_minor": 2
}
