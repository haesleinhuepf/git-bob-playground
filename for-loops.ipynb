{
 "cells": [
  {
   "cell_type": "markdown",
   "id": "c4bffb96",
   "metadata": {},
   "source": [
    "# For Loop to Print Specific Numbers\n",
    "\n",
    "This notebook contains a for-loop that prints numbers between 0 and 30 which are divisible by 2 and are either less than 10 or greater than 20."
   ]
  },
  {
   "cell_type": "code",
   "execution_count": 1,
   "id": "298ea689",
   "metadata": {
    "execution": {
     "iopub.execute_input": "2024-10-13T07:41:50.770833Z",
     "iopub.status.busy": "2024-10-13T07:41:50.770643Z",
     "iopub.status.idle": "2024-10-13T07:41:50.774563Z",
     "shell.execute_reply": "2024-10-13T07:41:50.774109Z"
    }
   },
   "outputs": [
    {
     "name": "stdout",
     "output_type": "stream",
     "text": [
      "0\n",
      "2\n",
      "4\n",
      "6\n",
      "8\n",
      "22\n",
      "24\n",
      "26\n",
      "28\n",
      "30\n"
     ]
    }
   ],
   "source": [
    "for number in range(31):\n",
    "    if number % 2 == 0 and (number < 10 or number > 20):\n",
    "        print(number)"
   ]
  }
 ],
 "metadata": {
  "language_info": {
   "codemirror_mode": {
    "name": "ipython",
    "version": 3
   },
   "file_extension": ".py",
   "mimetype": "text/x-python",
   "name": "python",
   "nbconvert_exporter": "python",
   "pygments_lexer": "ipython3",
   "version": "3.12.7"
  }
 },
 "nbformat": 4,
 "nbformat_minor": 5
}
