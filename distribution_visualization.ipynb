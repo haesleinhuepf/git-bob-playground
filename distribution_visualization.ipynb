{
 "cells": [
  {
   "cell_type": "markdown",
   "metadata": {},
   "source": [
    "# Visualizing distributions between 0 and 1\n",
    "\n",
    "Import required libraries"
   ]
  },
  {
   "cell_type": "code",
   "execution_count": 1,
   "metadata": {
    "execution": {
     "iopub.execute_input": "2024-10-22T17:49:53.359352Z",
     "iopub.status.busy": "2024-10-22T17:49:53.359136Z",
     "iopub.status.idle": "2024-10-22T17:49:54.981820Z",
     "shell.execute_reply": "2024-10-22T17:49:54.981148Z"
    }
   },
   "outputs": [],
   "source": [
    "import numpy as np\n",
    "import pandas as pd\n",
    "import seaborn as sns\n",
    "import matplotlib.pyplot as plt"
   ]
  },
  {
   "cell_type": "markdown",
   "metadata": {},
   "source": [
    "Generate sample data for three algorithms with values between 0 and 1"
   ]
  },
  {
   "cell_type": "code",
   "execution_count": 2,
   "metadata": {
    "execution": {
     "iopub.execute_input": "2024-10-22T17:49:54.984238Z",
     "iopub.status.busy": "2024-10-22T17:49:54.983939Z",
     "iopub.status.idle": "2024-10-22T17:49:54.989623Z",
     "shell.execute_reply": "2024-10-22T17:49:54.989057Z"
    }
   },
   "outputs": [],
   "source": [
    "np.random.seed(42)\n",
    "alg1 = np.clip(np.random.normal(0.7, 0.1, 500), 0, 1)\n",
    "alg2 = np.clip(np.random.normal(0.6, 0.15, 500), 0, 1)\n",
    "alg3 = np.clip(np.random.beta(5, 2, 500), 0, 1)\n",
    "\n",
    "data = pd.DataFrame({\n",
    "    'Algorithm': ['Algorithm 1']*500 + ['Algorithm 2']*500 + ['Algorithm 3']*500,\n",
    "    'Performance': np.concatenate([alg1, alg2, alg3])\n",
    "})"
   ]
  },
  {
   "cell_type": "markdown",
   "metadata": {},
   "source": [
    "Create and save boxplot"
   ]
  },
  {
   "cell_type": "code",
   "execution_count": 3,
   "metadata": {
    "execution": {
     "iopub.execute_input": "2024-10-22T17:49:54.991650Z",
     "iopub.status.busy": "2024-10-22T17:49:54.991312Z",
     "iopub.status.idle": "2024-10-22T17:49:55.123501Z",
     "shell.execute_reply": "2024-10-22T17:49:55.122878Z"
    }
   },
   "outputs": [],
   "source": [
    "plt.figure(figsize=(8, 6))\n",
    "sns.boxplot(data=data, x='Algorithm', y='Performance')\n",
    "plt.title('Algorithm Performance Distribution - Boxplot')\n",
    "plt.savefig('boxplot.png')\n",
    "plt.close()"
   ]
  },
  {
   "cell_type": "markdown",
   "metadata": {},
   "source": [
    "Create and save violin plot"
   ]
  },
  {
   "cell_type": "code",
   "execution_count": 4,
   "metadata": {
    "execution": {
     "iopub.execute_input": "2024-10-22T17:49:55.125729Z",
     "iopub.status.busy": "2024-10-22T17:49:55.125365Z",
     "iopub.status.idle": "2024-10-22T17:49:55.286722Z",
     "shell.execute_reply": "2024-10-22T17:49:55.286049Z"
    }
   },
   "outputs": [],
   "source": [
    "plt.figure(figsize=(8, 6))\n",
    "sns.violinplot(data=data, x='Algorithm', y='Performance', cut=0)\n",
    "plt.title('Algorithm Performance Distribution - Violin Plot')\n",
    "plt.savefig('violinplot.png')\n",
    "plt.close()"
   ]
  },
  {
   "cell_type": "markdown",
   "metadata": {},
   "source": [
    "Create and save stripplot with jittered points"
   ]
  },
  {
   "cell_type": "code",
   "execution_count": 5,
   "metadata": {
    "execution": {
     "iopub.execute_input": "2024-10-22T17:49:55.289210Z",
     "iopub.status.busy": "2024-10-22T17:49:55.288831Z",
     "iopub.status.idle": "2024-10-22T17:49:55.417460Z",
     "shell.execute_reply": "2024-10-22T17:49:55.416941Z"
    }
   },
   "outputs": [],
   "source": [
    "plt.figure(figsize=(8, 6))\n",
    "sns.stripplot(data=data, x='Algorithm', y='Performance', jitter=True, alpha=0.3)\n",
    "plt.title('Algorithm Performance Distribution - Strip Plot')\n",
    "plt.savefig('stripplot.png')\n",
    "plt.close()"
   ]
  },
  {
   "cell_type": "markdown",
   "metadata": {},
   "source": [
    "Create and save KDE plot"
   ]
  },
  {
   "cell_type": "code",
   "execution_count": 6,
   "metadata": {
    "execution": {
     "iopub.execute_input": "2024-10-22T17:49:55.419692Z",
     "iopub.status.busy": "2024-10-22T17:49:55.419294Z",
     "iopub.status.idle": "2024-10-22T17:49:55.602733Z",
     "shell.execute_reply": "2024-10-22T17:49:55.602189Z"
    }
   },
   "outputs": [],
   "source": [
    "plt.figure(figsize=(8, 6))\n",
    "for alg in ['Algorithm 1', 'Algorithm 2', 'Algorithm 3']:\n",
    "    sns.kdeplot(data=data[data['Algorithm'] == alg]['Performance'], label=alg)\n",
    "plt.title('Algorithm Performance Distribution - KDE Plot')\n",
    "plt.xlabel('Performance')\n",
    "plt.legend()\n",
    "plt.savefig('kdeplot.png')\n",
    "plt.close()"
   ]
  }
 ],
 "metadata": {
  "language_info": {
   "codemirror_mode": {
    "name": "ipython",
    "version": 3
   },
   "file_extension": ".py",
   "mimetype": "text/x-python",
   "name": "python",
   "nbconvert_exporter": "python",
   "pygments_lexer": "ipython3",
   "version": "3.12.7"
  }
 },
 "nbformat": 4,
 "nbformat_minor": 4
}
