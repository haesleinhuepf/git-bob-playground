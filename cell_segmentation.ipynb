{
 "cells": [
  {
   "cell_type": "markdown",
   "metadata": {},
   "source": [
    "# Cell Membrane Segmentation\n",
    "Segmentation of fluorescently labeled cell membranes using watershed segmentation"
   ]
  },
  {
   "cell_type": "code",
   "execution_count": 1,
   "metadata": {
    "execution": {
     "iopub.execute_input": "2025-01-24T12:08:33.920308Z",
     "iopub.status.busy": "2025-01-24T12:08:33.920098Z",
     "iopub.status.idle": "2025-01-24T12:08:34.599665Z",
     "shell.execute_reply": "2025-01-24T12:08:34.599027Z"
    }
   },
   "outputs": [],
   "source": [
    "import numpy as np\n",
    "from skimage import io, filters, feature, segmentation\n",
    "from scipy import ndimage\n",
    "import matplotlib.pyplot as plt"
   ]
  },
  {
   "cell_type": "markdown",
   "metadata": {},
   "source": [
    "## Generate synthetic test image"
   ]
  },
  {
   "cell_type": "code",
   "execution_count": 2,
   "metadata": {
    "execution": {
     "iopub.execute_input": "2025-01-24T12:08:34.602021Z",
     "iopub.status.busy": "2025-01-24T12:08:34.601716Z",
     "iopub.status.idle": "2025-01-24T12:08:34.816433Z",
     "shell.execute_reply": "2025-01-24T12:08:34.815599Z"
    }
   },
   "outputs": [
    {
     "ename": "AttributeError",
     "evalue": "No skimage.feature attribute draw",
     "output_type": "error",
     "traceback": [
      "\u001b[0;31m---------------------------------------------------------------------------\u001b[0m",
      "\u001b[0;31mAttributeError\u001b[0m                            Traceback (most recent call last)",
      "Cell \u001b[0;32mIn[2], line 7\u001b[0m\n\u001b[1;32m      5\u001b[0m y \u001b[38;5;241m=\u001b[39m np\u001b[38;5;241m.\u001b[39mrandom\u001b[38;5;241m.\u001b[39mrandint(\u001b[38;5;241m0\u001b[39m, \u001b[38;5;241m200\u001b[39m)\n\u001b[1;32m      6\u001b[0m radius \u001b[38;5;241m=\u001b[39m np\u001b[38;5;241m.\u001b[39mrandom\u001b[38;5;241m.\u001b[39mrandint(\u001b[38;5;241m20\u001b[39m, \u001b[38;5;241m40\u001b[39m)\n\u001b[0;32m----> 7\u001b[0m rr, cc \u001b[38;5;241m=\u001b[39m \u001b[43mfeature\u001b[49m\u001b[38;5;241;43m.\u001b[39;49m\u001b[43mdraw\u001b[49m\u001b[38;5;241m.\u001b[39mcircle_perimeter(x, y, radius)\n\u001b[1;32m      8\u001b[0m rr \u001b[38;5;241m=\u001b[39m np\u001b[38;5;241m.\u001b[39mclip(rr, \u001b[38;5;241m0\u001b[39m, \u001b[38;5;241m199\u001b[39m)\n\u001b[1;32m      9\u001b[0m cc \u001b[38;5;241m=\u001b[39m np\u001b[38;5;241m.\u001b[39mclip(cc, \u001b[38;5;241m0\u001b[39m, \u001b[38;5;241m199\u001b[39m)\n",
      "File \u001b[0;32m/opt/hostedtoolcache/Python/3.12.8/x64/lib/python3.12/site-packages/lazy_loader/__init__.py:94\u001b[0m, in \u001b[0;36mattach.<locals>.__getattr__\u001b[0;34m(name)\u001b[0m\n\u001b[1;32m     92\u001b[0m     \u001b[38;5;28;01mreturn\u001b[39;00m attr\n\u001b[1;32m     93\u001b[0m \u001b[38;5;28;01melse\u001b[39;00m:\n\u001b[0;32m---> 94\u001b[0m     \u001b[38;5;28;01mraise\u001b[39;00m \u001b[38;5;167;01mAttributeError\u001b[39;00m(\u001b[38;5;124mf\u001b[39m\u001b[38;5;124m\"\u001b[39m\u001b[38;5;124mNo \u001b[39m\u001b[38;5;132;01m{\u001b[39;00mpackage_name\u001b[38;5;132;01m}\u001b[39;00m\u001b[38;5;124m attribute \u001b[39m\u001b[38;5;132;01m{\u001b[39;00mname\u001b[38;5;132;01m}\u001b[39;00m\u001b[38;5;124m\"\u001b[39m)\n",
      "\u001b[0;31mAttributeError\u001b[0m: No skimage.feature attribute draw"
     ]
    }
   ],
   "source": [
    "# Create synthetic membrane-like image\n",
    "img = np.zeros((200, 200))\n",
    "for i in range(10):\n",
    "    x = np.random.randint(0, 200)\n",
    "    y = np.random.randint(0, 200)\n",
    "    radius = np.random.randint(20, 40)\n",
    "    rr, cc = feature.draw.circle_perimeter(x, y, radius)\n",
    "    rr = np.clip(rr, 0, 199)\n",
    "    cc = np.clip(cc, 0, 199)\n",
    "    img[rr, cc] = 1\n",
    "img = filters.gaussian(img, sigma=1)\n",
    "plt.imsave('original.png', img, cmap='gray')"
   ]
  },
  {
   "cell_type": "markdown",
   "metadata": {},
   "source": [
    "## Enhance membrane edges using Gaussian difference"
   ]
  },
  {
   "cell_type": "code",
   "execution_count": null,
   "metadata": {},
   "outputs": [],
   "source": [
    "edges = filters.gaussian(img, sigma=1) - filters.gaussian(img, sigma=2)\n",
    "edges = edges / edges.max()  # normalize to 0-1\n",
    "plt.imsave('edges.png', (edges * 255).astype(np.uint8), cmap='gray')"
   ]
  },
  {
   "cell_type": "markdown",
   "metadata": {},
   "source": [
    "## Generate seeds for watershed using distance transform and local maxima"
   ]
  },
  {
   "cell_type": "code",
   "execution_count": null,
   "metadata": {},
   "outputs": [],
   "source": [
    "distance = ndimage.distance_transform_edt(edges < 0.2)\n",
    "local_max = feature.peak_local_max(distance, indices=False, min_distance=20)\n",
    "markers = ndimage.label(local_max)[0]\n",
    "plt.imsave('markers.png', markers.astype(np.uint8), cmap='nipy_spectral')"
   ]
  },
  {
   "cell_type": "markdown",
   "metadata": {},
   "source": [
    "## Perform watershed segmentation"
   ]
  },
  {
   "cell_type": "code",
   "execution_count": null,
   "metadata": {},
   "outputs": [],
   "source": [
    "labels = segmentation.watershed(-distance, markers, mask=edges < 0.3)\n",
    "plt.imsave('segmentation.png', labels.astype(np.uint8), cmap='nipy_spectral')\n",
    "np.save('labels.npy', labels)"
   ]
  }
 ],
 "metadata": {
  "language_info": {
   "codemirror_mode": {
    "name": "ipython",
    "version": 3
   },
   "file_extension": ".py",
   "mimetype": "text/x-python",
   "name": "python",
   "nbconvert_exporter": "python",
   "pygments_lexer": "ipython3",
   "version": "3.12.8"
  }
 },
 "nbformat": 4,
 "nbformat_minor": 4
}
