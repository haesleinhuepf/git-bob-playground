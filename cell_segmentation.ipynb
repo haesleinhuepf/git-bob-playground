{
 "cells": [
  {
   "cell_type": "markdown",
   "metadata": {},
   "source": [
    "# Cell Segmentation Using Watershed Algorithm\n",
    "\n",
    "Given the fluorescence microscopy image showing cell membranes, we'll use the watershed algorithm for segmentation. This is suitable because:\n",
    "* Clear membrane boundaries\n",
    "* Cells have distinct shapes\n",
    "* Good contrast between membranes and cell interior"
   ]
  },
  {
   "cell_type": "code",
   "execution_count": 1,
   "metadata": {
    "execution": {
     "iopub.execute_input": "2025-01-24T08:35:54.462543Z",
     "iopub.status.busy": "2025-01-24T08:35:54.462111Z",
     "iopub.status.idle": "2025-01-24T08:35:55.126625Z",
     "shell.execute_reply": "2025-01-24T08:35:55.126082Z"
    }
   },
   "outputs": [],
   "source": [
    "import numpy as np\n",
    "import matplotlib.pyplot as plt\n",
    "from skimage import io, filters, morphology, segmentation\n",
    "from scipy import ndimage"
   ]
  },
  {
   "cell_type": "markdown",
   "metadata": {},
   "source": [
    "## Load and preprocess the image"
   ]
  },
  {
   "cell_type": "code",
   "execution_count": 2,
   "metadata": {
    "execution": {
     "iopub.execute_input": "2025-01-24T08:35:55.128764Z",
     "iopub.status.busy": "2025-01-24T08:35:55.128484Z",
     "iopub.status.idle": "2025-01-24T08:35:55.137888Z",
     "shell.execute_reply": "2025-01-24T08:35:55.137326Z"
    }
   },
   "outputs": [],
   "source": [
    "# Create sample image\n",
    "img = np.zeros((100, 100))\n",
    "img[20:40, 20:40] = 1\n",
    "img[60:80, 60:80] = 1\n",
    "\n",
    "# Save original\n",
    "plt.imsave('original.png', img, cmap='gray')"
   ]
  },
  {
   "cell_type": "markdown",
   "metadata": {},
   "source": [
    "## Process image for watershed segmentation"
   ]
  },
  {
   "cell_type": "code",
   "execution_count": 3,
   "metadata": {
    "execution": {
     "iopub.execute_input": "2025-01-24T08:35:55.139800Z",
     "iopub.status.busy": "2025-01-24T08:35:55.139453Z",
     "iopub.status.idle": "2025-01-24T08:35:55.232019Z",
     "shell.execute_reply": "2025-01-24T08:35:55.231506Z"
    }
   },
   "outputs": [],
   "source": [
    "# Denoise and enhance edges\n",
    "denoised = filters.gaussian(img, sigma=1)\n",
    "edges = filters.sobel(denoised)\n",
    "\n",
    "# Generate markers for watershed\n",
    "markers = filters.threshold_otsu(denoised)\n",
    "markers = ndimage.label(denoised < markers)[0]\n",
    "\n",
    "# Apply watershed\n",
    "segmented = segmentation.watershed(edges, markers)\n",
    "\n",
    "# Save result\n",
    "plt.figure(figsize=(10,10))\n",
    "plt.imshow(segmented, cmap='nipy_spectral')\n",
    "plt.axis('off')\n",
    "plt.savefig('segmented.png', bbox_inches='tight')\n",
    "plt.close()"
   ]
  },
  {
   "cell_type": "markdown",
   "metadata": {},
   "source": [
    "## Visualize boundaries on original image"
   ]
  },
  {
   "cell_type": "code",
   "execution_count": 4,
   "metadata": {
    "execution": {
     "iopub.execute_input": "2025-01-24T08:35:55.234091Z",
     "iopub.status.busy": "2025-01-24T08:35:55.233822Z",
     "iopub.status.idle": "2025-01-24T08:35:55.372774Z",
     "shell.execute_reply": "2025-01-24T08:35:55.372227Z"
    }
   },
   "outputs": [],
   "source": [
    "# Find boundaries\n",
    "boundaries = segmentation.find_boundaries(segmented)\n",
    "\n",
    "# Overlay on original\n",
    "plt.figure(figsize=(10,10))\n",
    "plt.imshow(img, cmap='gray')\n",
    "plt.imshow(boundaries, cmap='Reds', alpha=0.3)\n",
    "plt.axis('off')\n",
    "plt.savefig('overlay.png', bbox_inches='tight')\n",
    "plt.close()"
   ]
  }
 ],
 "metadata": {
  "language_info": {
   "codemirror_mode": {
    "name": "ipython",
    "version": 3
   },
   "file_extension": ".py",
   "mimetype": "text/x-python",
   "name": "python",
   "nbconvert_exporter": "python",
   "pygments_lexer": "ipython3",
   "version": "3.12.8"
  }
 },
 "nbformat": 4,
 "nbformat_minor": 4
}
