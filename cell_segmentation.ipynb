{
 "cells": [
  {
   "cell_type": "markdown",
   "metadata": {},
   "source": [
    "# Cell Membrane Segmentation\n",
    "Import required libraries"
   ]
  },
  {
   "cell_type": "code",
   "execution_count": 1,
   "metadata": {
    "execution": {
     "iopub.execute_input": "2025-01-24T08:31:56.965845Z",
     "iopub.status.busy": "2025-01-24T08:31:56.965666Z",
     "iopub.status.idle": "2025-01-24T08:31:57.644357Z",
     "shell.execute_reply": "2025-01-24T08:31:57.643783Z"
    }
   },
   "outputs": [],
   "source": [
    "import numpy as np\n",
    "from skimage import io, filters, measure, segmentation\n",
    "import matplotlib.pyplot as plt"
   ]
  },
  {
   "cell_type": "markdown",
   "metadata": {},
   "source": [
    "Create a sample image for demonstration"
   ]
  },
  {
   "cell_type": "code",
   "execution_count": 2,
   "metadata": {
    "execution": {
     "iopub.execute_input": "2025-01-24T08:31:57.646771Z",
     "iopub.status.busy": "2025-01-24T08:31:57.646221Z",
     "iopub.status.idle": "2025-01-24T08:31:57.713069Z",
     "shell.execute_reply": "2025-01-24T08:31:57.712509Z"
    }
   },
   "outputs": [],
   "source": [
    "# Create a sample image with bright membranes\n",
    "image = np.zeros((100, 100))\n",
    "for i in range(20, 81, 30):\n",
    "    for j in range(20, 81, 30):\n",
    "        image[i-10:i+10, j-10:j+10] = 0.5\n",
    "        image[i-5:i+5, j-5:j+5] = 1\n",
    "\n",
    "plt.figure(figsize=(8, 8))\n",
    "plt.imshow(image, cmap='gray')\n",
    "plt.axis('off')\n",
    "plt.savefig('original_image.png')\n",
    "plt.close()"
   ]
  },
  {
   "cell_type": "markdown",
   "metadata": {},
   "source": [
    "Since we have bright cell membranes, we'll use watershed segmentation with markers"
   ]
  },
  {
   "cell_type": "code",
   "execution_count": 3,
   "metadata": {
    "execution": {
     "iopub.execute_input": "2025-01-24T08:31:57.715064Z",
     "iopub.status.busy": "2025-01-24T08:31:57.714889Z",
     "iopub.status.idle": "2025-01-24T08:31:57.925472Z",
     "shell.execute_reply": "2025-01-24T08:31:57.924659Z"
    }
   },
   "outputs": [
    {
     "ename": "AttributeError",
     "evalue": "No skimage.filters attribute gaussian_gradient_magnitude",
     "output_type": "error",
     "traceback": [
      "\u001b[0;31m---------------------------------------------------------------------------\u001b[0m",
      "\u001b[0;31mAttributeError\u001b[0m                            Traceback (most recent call last)",
      "Cell \u001b[0;32mIn[3], line 2\u001b[0m\n\u001b[1;32m      1\u001b[0m \u001b[38;5;66;03m# Enhance edges using Gaussian gradient magnitude\u001b[39;00m\n\u001b[0;32m----> 2\u001b[0m edges \u001b[38;5;241m=\u001b[39m \u001b[43mfilters\u001b[49m\u001b[38;5;241;43m.\u001b[39;49m\u001b[43mgaussian_gradient_magnitude\u001b[49m(image, sigma\u001b[38;5;241m=\u001b[39m\u001b[38;5;241m2\u001b[39m)\n\u001b[1;32m      4\u001b[0m \u001b[38;5;66;03m# Threshold to get markers for watershed\u001b[39;00m\n\u001b[1;32m      5\u001b[0m thresh \u001b[38;5;241m=\u001b[39m filters\u001b[38;5;241m.\u001b[39mthreshold_otsu(image)\n",
      "File \u001b[0;32m/opt/hostedtoolcache/Python/3.12.8/x64/lib/python3.12/site-packages/lazy_loader/__init__.py:94\u001b[0m, in \u001b[0;36mattach.<locals>.__getattr__\u001b[0;34m(name)\u001b[0m\n\u001b[1;32m     92\u001b[0m     \u001b[38;5;28;01mreturn\u001b[39;00m attr\n\u001b[1;32m     93\u001b[0m \u001b[38;5;28;01melse\u001b[39;00m:\n\u001b[0;32m---> 94\u001b[0m     \u001b[38;5;28;01mraise\u001b[39;00m \u001b[38;5;167;01mAttributeError\u001b[39;00m(\u001b[38;5;124mf\u001b[39m\u001b[38;5;124m\"\u001b[39m\u001b[38;5;124mNo \u001b[39m\u001b[38;5;132;01m{\u001b[39;00mpackage_name\u001b[38;5;132;01m}\u001b[39;00m\u001b[38;5;124m attribute \u001b[39m\u001b[38;5;132;01m{\u001b[39;00mname\u001b[38;5;132;01m}\u001b[39;00m\u001b[38;5;124m\"\u001b[39m)\n",
      "\u001b[0;31mAttributeError\u001b[0m: No skimage.filters attribute gaussian_gradient_magnitude"
     ]
    }
   ],
   "source": [
    "# Enhance edges using Gaussian gradient magnitude\n",
    "edges = filters.gaussian_gradient_magnitude(image, sigma=2)\n",
    "\n",
    "# Threshold to get markers for watershed\n",
    "thresh = filters.threshold_otsu(image)\n",
    "markers = image < thresh * 0.8  # Background markers\n",
    "markers = measure.label(markers)"
   ]
  },
  {
   "cell_type": "markdown",
   "metadata": {},
   "source": [
    "Apply watershed segmentation"
   ]
  },
  {
   "cell_type": "code",
   "execution_count": null,
   "metadata": {},
   "outputs": [],
   "source": [
    "segmented = segmentation.watershed(edges, markers)\n",
    "\n",
    "# Visualize results\n",
    "plt.figure(figsize=(8, 8))\n",
    "plt.imshow(segmentation.mark_boundaries(image, segmented), cmap='gray')\n",
    "plt.axis('off')\n",
    "plt.savefig('segmentation_result.png')\n",
    "plt.close()"
   ]
  }
 ],
 "metadata": {
  "language_info": {
   "codemirror_mode": {
    "name": "ipython",
    "version": 3
   },
   "file_extension": ".py",
   "mimetype": "text/x-python",
   "name": "python",
   "nbconvert_exporter": "python",
   "pygments_lexer": "ipython3",
   "version": "3.12.8"
  }
 },
 "nbformat": 4,
 "nbformat_minor": 4
}