{
 "cells": [
  {
   "cell_type": "markdown",
   "metadata": {},
   "source": [
    "# Cell Membrane Segmentation\n",
    "Segmentation of fluorescently labeled cell membranes using watershed segmentation"
   ]
  },
  {
   "cell_type": "code",
   "execution_count": 1,
   "metadata": {
    "execution": {
     "iopub.execute_input": "2025-01-24T14:25:08.212952Z",
     "iopub.status.busy": "2025-01-24T14:25:08.212778Z",
     "iopub.status.idle": "2025-01-24T14:25:08.892098Z",
     "shell.execute_reply": "2025-01-24T14:25:08.891469Z"
    }
   },
   "outputs": [],
   "source": [
    "import numpy as np\n",
    "from skimage import io, filters, feature, segmentation, data\n",
    "from scipy import ndimage\n",
    "import matplotlib.pyplot as plt"
   ]
  },
  {
   "cell_type": "markdown",
   "metadata": {},
   "source": [
    "## Load and preprocess the image"
   ]
  },
  {
   "cell_type": "code",
   "execution_count": 2,
   "metadata": {
    "execution": {
     "iopub.execute_input": "2025-01-24T14:25:08.894322Z",
     "iopub.status.busy": "2025-01-24T14:25:08.894021Z",
     "iopub.status.idle": "2025-01-24T14:25:08.963293Z",
     "shell.execute_reply": "2025-01-24T14:25:08.962788Z"
    }
   },
   "outputs": [],
   "source": [
    "# Load image using sample data\n",
    "img = data.coins()\n",
    "plt.imsave('input.png', img.astype(np.uint8), cmap='gray')"
   ]
  },
  {
   "cell_type": "markdown",
   "metadata": {},
   "source": [
    "## Enhance membrane edges using Gaussian difference"
   ]
  },
  {
   "cell_type": "code",
   "execution_count": 3,
   "metadata": {
    "execution": {
     "iopub.execute_input": "2025-01-24T14:25:08.965153Z",
     "iopub.status.busy": "2025-01-24T14:25:08.964969Z",
     "iopub.status.idle": "2025-01-24T14:25:09.017535Z",
     "shell.execute_reply": "2025-01-24T14:25:09.017019Z"
    }
   },
   "outputs": [],
   "source": [
    "edges = filters.gaussian(img, sigma=1) - filters.gaussian(img, sigma=2)\n",
    "edges = edges / edges.max()  # normalize to 0-1\n",
    "plt.imsave('edges.png', (edges * 255).astype(np.uint8), cmap='gray')"
   ]
  },
  {
   "cell_type": "markdown",
   "metadata": {},
   "source": [
    "## Generate seeds for watershed using distance transform"
   ]
  },
  {
   "cell_type": "code",
   "execution_count": 4,
   "metadata": {
    "execution": {
     "iopub.execute_input": "2025-01-24T14:25:09.019463Z",
     "iopub.status.busy": "2025-01-24T14:25:09.019261Z",
     "iopub.status.idle": "2025-01-24T14:25:09.222936Z",
     "shell.execute_reply": "2025-01-24T14:25:09.222144Z"
    }
   },
   "outputs": [
    {
     "ename": "TypeError",
     "evalue": "peak_local_max() got an unexpected keyword argument 'indices'",
     "output_type": "error",
     "traceback": [
      "\u001b[0;31m---------------------------------------------------------------------------\u001b[0m",
      "\u001b[0;31mTypeError\u001b[0m                                 Traceback (most recent call last)",
      "Cell \u001b[0;32mIn[4], line 2\u001b[0m\n\u001b[1;32m      1\u001b[0m distance \u001b[38;5;241m=\u001b[39m ndimage\u001b[38;5;241m.\u001b[39mdistance_transform_edt(edges \u001b[38;5;241m<\u001b[39m \u001b[38;5;241m0.2\u001b[39m)\n\u001b[0;32m----> 2\u001b[0m local_max \u001b[38;5;241m=\u001b[39m \u001b[43mfeature\u001b[49m\u001b[38;5;241;43m.\u001b[39;49m\u001b[43mpeak_local_max\u001b[49m\u001b[43m(\u001b[49m\u001b[43mdistance\u001b[49m\u001b[43m,\u001b[49m\u001b[43m \u001b[49m\u001b[43mindices\u001b[49m\u001b[38;5;241;43m=\u001b[39;49m\u001b[38;5;28;43;01mFalse\u001b[39;49;00m\u001b[43m,\u001b[49m\u001b[43m \u001b[49m\u001b[43mmin_distance\u001b[49m\u001b[38;5;241;43m=\u001b[39;49m\u001b[38;5;241;43m20\u001b[39;49m\u001b[43m)\u001b[49m\n\u001b[1;32m      3\u001b[0m markers \u001b[38;5;241m=\u001b[39m ndimage\u001b[38;5;241m.\u001b[39mlabel(local_max)[\u001b[38;5;241m0\u001b[39m]\n\u001b[1;32m      4\u001b[0m plt\u001b[38;5;241m.\u001b[39mimsave(\u001b[38;5;124m'\u001b[39m\u001b[38;5;124mmarkers.png\u001b[39m\u001b[38;5;124m'\u001b[39m, markers, cmap\u001b[38;5;241m=\u001b[39m\u001b[38;5;124m'\u001b[39m\u001b[38;5;124mnipy_spectral\u001b[39m\u001b[38;5;124m'\u001b[39m)\n",
      "\u001b[0;31mTypeError\u001b[0m: peak_local_max() got an unexpected keyword argument 'indices'"
     ]
    }
   ],
   "source": [
    "distance = ndimage.distance_transform_edt(edges < 0.2)\n",
    "local_max = feature.peak_local_max(distance, indices=False, min_distance=20)\n",
    "markers = ndimage.label(local_max)[0]\n",
    "plt.imsave('markers.png', markers, cmap='nipy_spectral')"
   ]
  },
  {
   "cell_type": "markdown",
   "metadata": {},
   "source": [
    "## Perform watershed segmentation"
   ]
  },
  {
   "cell_type": "code",
   "execution_count": null,
   "metadata": {},
   "outputs": [],
   "source": [
    "labels = segmentation.watershed(-distance, markers, mask=edges < 0.3)\n",
    "plt.imsave('labels.png', labels, cmap='nipy_spectral')\n",
    "np.save('labels.npy', labels)"
   ]
  }
 ],
 "metadata": {
  "language_info": {
   "codemirror_mode": {
    "name": "ipython",
    "version": 3
   },
   "file_extension": ".py",
   "mimetype": "text/x-python",
   "name": "python",
   "nbconvert_exporter": "python",
   "pygments_lexer": "ipython3",
   "version": "3.12.8"
  }
 },
 "nbformat": 4,
 "nbformat_minor": 4
}