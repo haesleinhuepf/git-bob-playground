{
 "cells": [
  {
   "cell_type": "markdown",
   "metadata": {},
   "source": [
    "# Cell Membrane Segmentation\n",
    "Given the fluorescence microscopy image showing cell membranes, we'll use watershed segmentation since it's ideal for separating touching objects with bright boundaries."
   ]
  },
  {
   "cell_type": "code",
   "execution_count": 1,
   "metadata": {
    "execution": {
     "iopub.execute_input": "2025-01-24T11:01:38.746426Z",
     "iopub.status.busy": "2025-01-24T11:01:38.746238Z",
     "iopub.status.idle": "2025-01-24T11:01:39.394013Z",
     "shell.execute_reply": "2025-01-24T11:01:39.393475Z"
    }
   },
   "outputs": [],
   "source": [
    "import numpy as np\n",
    "from skimage import io, filters, morphology, feature, segmentation\n",
    "from scipy import ndimage\n",
    "import matplotlib.pyplot as plt"
   ]
  },
  {
   "cell_type": "markdown",
   "metadata": {},
   "source": [
    "Create a sample image for demonstration"
   ]
  },
  {
   "cell_type": "code",
   "execution_count": 2,
   "metadata": {
    "execution": {
     "iopub.execute_input": "2025-01-24T11:01:39.396162Z",
     "iopub.status.busy": "2025-01-24T11:01:39.395744Z",
     "iopub.status.idle": "2025-01-24T11:01:39.591706Z",
     "shell.execute_reply": "2025-01-24T11:01:39.590957Z"
    }
   },
   "outputs": [
    {
     "ename": "TypeError",
     "evalue": "disk() got an unexpected keyword argument 'shape'",
     "output_type": "error",
     "traceback": [
      "\u001b[0;31m---------------------------------------------------------------------------\u001b[0m",
      "\u001b[0;31mTypeError\u001b[0m                                 Traceback (most recent call last)",
      "Cell \u001b[0;32mIn[2], line 8\u001b[0m\n\u001b[1;32m      6\u001b[0m \u001b[38;5;28;01mfor\u001b[39;00m x, y \u001b[38;5;129;01min\u001b[39;00m centers:\n\u001b[1;32m      7\u001b[0m     radius \u001b[38;5;241m=\u001b[39m rng\u001b[38;5;241m.\u001b[39mintegers(\u001b[38;5;241m30\u001b[39m, \u001b[38;5;241m60\u001b[39m)\n\u001b[0;32m----> 8\u001b[0m     rr, cc \u001b[38;5;241m=\u001b[39m \u001b[43mmorphology\u001b[49m\u001b[38;5;241;43m.\u001b[39;49m\u001b[43mdisk\u001b[49m\u001b[43m(\u001b[49m\u001b[43m(\u001b[49m\u001b[43my\u001b[49m\u001b[43m,\u001b[49m\u001b[43m \u001b[49m\u001b[43mx\u001b[49m\u001b[43m)\u001b[49m\u001b[43m,\u001b[49m\u001b[43m \u001b[49m\u001b[43mradius\u001b[49m\u001b[43m,\u001b[49m\u001b[43m \u001b[49m\u001b[43mshape\u001b[49m\u001b[38;5;241;43m=\u001b[39;49m\u001b[43mimg\u001b[49m\u001b[38;5;241;43m.\u001b[39;49m\u001b[43mshape\u001b[49m\u001b[43m)\u001b[49m\n\u001b[1;32m      9\u001b[0m     img[rr, cc] \u001b[38;5;241m=\u001b[39m \u001b[38;5;241m1\u001b[39m\n\u001b[1;32m     11\u001b[0m img \u001b[38;5;241m=\u001b[39m filters\u001b[38;5;241m.\u001b[39mgaussian(img, sigma\u001b[38;5;241m=\u001b[39m\u001b[38;5;241m2\u001b[39m)\n",
      "\u001b[0;31mTypeError\u001b[0m: disk() got an unexpected keyword argument 'shape'"
     ]
    }
   ],
   "source": [
    "# Create a sample 512x512 image with cell-like membrane structures\n",
    "img = np.zeros((512, 512))\n",
    "rng = np.random.default_rng(42)\n",
    "centers = rng.integers(0, 512, (20, 2))\n",
    "\n",
    "for x, y in centers:\n",
    "    radius = rng.integers(30, 60)\n",
    "    rr, cc = morphology.disk((y, x), radius, shape=img.shape)\n",
    "    img[rr, cc] = 1\n",
    "    \n",
    "img = filters.gaussian(img, sigma=2)\n",
    "img = img / img.max()\n",
    "\n",
    "plt.imshow(img, cmap='gray')\n",
    "plt.axis('off')\n",
    "plt.savefig('original.png', bbox_inches='tight', pad_inches=0)\n",
    "plt.close()"
   ]
  },
  {
   "cell_type": "markdown",
   "metadata": {},
   "source": [
    "Enhance membrane edges using gaussian difference"
   ]
  },
  {
   "cell_type": "code",
   "execution_count": null,
   "metadata": {},
   "outputs": [],
   "source": [
    "edges = filters.gaussian(img, sigma=1) - filters.gaussian(img, sigma=2)\n",
    "edges = edges / edges.max()  # normalize to 0-1\n",
    "plt.imshow(edges, cmap='gray')\n",
    "plt.axis('off')\n",
    "plt.savefig('edges.png', bbox_inches='tight', pad_inches=0)\n",
    "plt.close()"
   ]
  },
  {
   "cell_type": "markdown",
   "metadata": {},
   "source": [
    "Find seeds for watershed using local maxima"
   ]
  },
  {
   "cell_type": "code",
   "execution_count": null,
   "metadata": {},
   "outputs": [],
   "source": [
    "distance = ndimage.distance_transform_edt(edges < 0.2)\n",
    "local_max = feature.peak_local_max(distance, indices=False, min_distance=20)\n",
    "markers = ndimage.label(local_max)[0]\n",
    "plt.imshow(markers, cmap='nipy_spectral')\n",
    "plt.axis('off')\n",
    "plt.savefig('markers.png', bbox_inches='tight', pad_inches=0)\n",
    "plt.close()"
   ]
  },
  {
   "cell_type": "markdown",
   "metadata": {},
   "source": [
    "Apply watershed segmentation"
   ]
  },
  {
   "cell_type": "code",
   "execution_count": null,
   "metadata": {},
   "outputs": [],
   "source": [
    "labels = segmentation.watershed(-distance, markers, mask=edges < 0.3)\n",
    "\n",
    "# Visualize results\n",
    "plt.imshow(labels, cmap='nipy_spectral')\n",
    "plt.axis('off')\n",
    "plt.savefig('segmentation.png', bbox_inches='tight', pad_inches=0)\n",
    "plt.close()\n",
    "\n",
    "# Save labels\n",
    "np.save('cell_labels.npy', labels)"
   ]
  }
 ],
 "metadata": {
  "language_info": {
   "codemirror_mode": {
    "name": "ipython",
    "version": 3
   },
   "file_extension": ".py",
   "mimetype": "text/x-python",
   "name": "python",
   "nbconvert_exporter": "python",
   "pygments_lexer": "ipython3",
   "version": "3.12.8"
  }
 },
 "nbformat": 4,
 "nbformat_minor": 4
}
