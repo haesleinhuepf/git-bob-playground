{
 "cells": [
  {
   "cell_type": "markdown",
   "metadata": {},
   "source": [
    "# Cell Membrane Segmentation\n",
    "Segmentation of fluorescently labeled cell membranes using watershed segmentation"
   ]
  },
  {
   "cell_type": "code",
   "execution_count": 1,
   "metadata": {
    "execution": {
     "iopub.execute_input": "2025-01-24T14:25:28.083704Z",
     "iopub.status.busy": "2025-01-24T14:25:28.083252Z",
     "iopub.status.idle": "2025-01-24T14:25:28.749030Z",
     "shell.execute_reply": "2025-01-24T14:25:28.748409Z"
    }
   },
   "outputs": [],
   "source": [
    "import numpy as np\n",
    "from skimage import io, filters, feature, segmentation, data\n",
    "from scipy import ndimage\n",
    "import matplotlib.pyplot as plt"
   ]
  },
  {
   "cell_type": "markdown",
   "metadata": {},
   "source": [
    "## Load and preprocess the image"
   ]
  },
  {
   "cell_type": "code",
   "execution_count": 2,
   "metadata": {
    "execution": {
     "iopub.execute_input": "2025-01-24T14:25:28.751239Z",
     "iopub.status.busy": "2025-01-24T14:25:28.750968Z",
     "iopub.status.idle": "2025-01-24T14:25:28.805625Z",
     "shell.execute_reply": "2025-01-24T14:25:28.805119Z"
    }
   },
   "outputs": [],
   "source": [
    "# Load image using sample data\n",
    "img = data.coins()\n",
    "plt.imsave('input.png', img.astype(np.uint8), cmap='gray')"
   ]
  },
  {
   "cell_type": "markdown",
   "metadata": {},
   "source": [
    "## Enhance membrane edges using Gaussian difference"
   ]
  },
  {
   "cell_type": "code",
   "execution_count": 3,
   "metadata": {
    "execution": {
     "iopub.execute_input": "2025-01-24T14:25:28.807487Z",
     "iopub.status.busy": "2025-01-24T14:25:28.807303Z",
     "iopub.status.idle": "2025-01-24T14:25:28.852092Z",
     "shell.execute_reply": "2025-01-24T14:25:28.851564Z"
    }
   },
   "outputs": [],
   "source": [
    "edges = filters.gaussian(img, sigma=1) - filters.gaussian(img, sigma=2)\n",
    "edges = edges / edges.max()  # normalize to 0-1\n",
    "plt.imsave('edges.png', (edges * 255).astype(np.uint8), cmap='gray')"
   ]
  },
  {
   "cell_type": "markdown",
   "metadata": {},
   "source": [
    "## Generate seeds for watershed using distance transform"
   ]
  },
  {
   "cell_type": "code",
   "execution_count": 4,
   "metadata": {
    "execution": {
     "iopub.execute_input": "2025-01-24T14:25:28.854102Z",
     "iopub.status.busy": "2025-01-24T14:25:28.853766Z",
     "iopub.status.idle": "2025-01-24T14:25:28.874219Z",
     "shell.execute_reply": "2025-01-24T14:25:28.873626Z"
    }
   },
   "outputs": [],
   "source": [
    "distance = ndimage.distance_transform_edt(edges < 0.2)\n",
    "coordinates = feature.peak_local_max(distance, min_distance=20)\n",
    "local_max = np.zeros_like(distance, dtype=bool)\n",
    "local_max[tuple(coordinates.T)] = True\n",
    "markers = ndimage.label(local_max)[0]\n",
    "plt.imsave('markers.png', markers, cmap='nipy_spectral')"
   ]
  },
  {
   "cell_type": "markdown",
   "metadata": {},
   "source": [
    "## Perform watershed segmentation"
   ]
  },
  {
   "cell_type": "code",
   "execution_count": 5,
   "metadata": {
    "execution": {
     "iopub.execute_input": "2025-01-24T14:25:28.876180Z",
     "iopub.status.busy": "2025-01-24T14:25:28.875992Z",
     "iopub.status.idle": "2025-01-24T14:25:28.902507Z",
     "shell.execute_reply": "2025-01-24T14:25:28.901903Z"
    }
   },
   "outputs": [],
   "source": [
    "labels = segmentation.watershed(-distance, markers, mask=edges < 0.3)\n",
    "plt.imsave('labels.png', labels, cmap='nipy_spectral')\n",
    "np.save('labels.npy', labels)"
   ]
  }
 ],
 "metadata": {
  "language_info": {
   "codemirror_mode": {
    "name": "ipython",
    "version": 3
   },
   "file_extension": ".py",
   "mimetype": "text/x-python",
   "name": "python",
   "nbconvert_exporter": "python",
   "pygments_lexer": "ipython3",
   "version": "3.12.8"
  }
 },
 "nbformat": 4,
 "nbformat_minor": 4
}
