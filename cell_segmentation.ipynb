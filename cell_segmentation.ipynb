{
 "cells": [
  {
   "cell_type": "markdown",
   "metadata": {},
   "source": [
    "# Cell Membrane Segmentation\n",
    "Import required libraries"
   ]
  },
  {
   "cell_type": "code",
   "execution_count": 1,
   "metadata": {
    "execution": {
     "iopub.execute_input": "2025-01-24T08:32:15.707367Z",
     "iopub.status.busy": "2025-01-24T08:32:15.707185Z",
     "iopub.status.idle": "2025-01-24T08:32:16.400038Z",
     "shell.execute_reply": "2025-01-24T08:32:16.399354Z"
    }
   },
   "outputs": [],
   "source": [
    "import numpy as np\n",
    "from skimage import io, filters, measure, segmentation\n",
    "from scipy import ndimage\n",
    "import matplotlib.pyplot as plt"
   ]
  },
  {
   "cell_type": "markdown",
   "metadata": {},
   "source": [
    "Create a sample image for demonstration"
   ]
  },
  {
   "cell_type": "code",
   "execution_count": 2,
   "metadata": {
    "execution": {
     "iopub.execute_input": "2025-01-24T08:32:16.402503Z",
     "iopub.status.busy": "2025-01-24T08:32:16.402180Z",
     "iopub.status.idle": "2025-01-24T08:32:16.472632Z",
     "shell.execute_reply": "2025-01-24T08:32:16.472021Z"
    }
   },
   "outputs": [],
   "source": [
    "# Create a sample image with bright membranes\n",
    "image = np.zeros((100, 100))\n",
    "for i in range(20, 81, 30):\n",
    "    for j in range(20, 81, 30):\n",
    "        image[i-10:i+10, j-10:j+10] = 0.5\n",
    "        image[i-5:i+5, j-5:j+5] = 1\n",
    "\n",
    "plt.figure(figsize=(8, 8))\n",
    "plt.imshow(image, cmap='gray')\n",
    "plt.axis('off')\n",
    "plt.savefig('original_image.png')\n",
    "plt.close()"
   ]
  },
  {
   "cell_type": "markdown",
   "metadata": {},
   "source": [
    "Since we have bright cell membranes, we'll use watershed segmentation with markers"
   ]
  },
  {
   "cell_type": "code",
   "execution_count": 3,
   "metadata": {
    "execution": {
     "iopub.execute_input": "2025-01-24T08:32:16.474673Z",
     "iopub.status.busy": "2025-01-24T08:32:16.474474Z",
     "iopub.status.idle": "2025-01-24T08:32:16.481261Z",
     "shell.execute_reply": "2025-01-24T08:32:16.480791Z"
    }
   },
   "outputs": [],
   "source": [
    "# Enhance edges using Gaussian gradient magnitude\n",
    "edges = ndimage.gaussian_gradient_magnitude(image, sigma=2)\n",
    "\n",
    "# Threshold to get markers for watershed\n",
    "thresh = filters.threshold_otsu(image)\n",
    "markers = image < thresh * 0.8  # Background markers\n",
    "markers = measure.label(markers)"
   ]
  },
  {
   "cell_type": "markdown",
   "metadata": {},
   "source": [
    "Apply watershed segmentation"
   ]
  },
  {
   "cell_type": "code",
   "execution_count": 4,
   "metadata": {
    "execution": {
     "iopub.execute_input": "2025-01-24T08:32:16.483382Z",
     "iopub.status.busy": "2025-01-24T08:32:16.482932Z",
     "iopub.status.idle": "2025-01-24T08:32:16.538583Z",
     "shell.execute_reply": "2025-01-24T08:32:16.538042Z"
    }
   },
   "outputs": [],
   "source": [
    "segmented = segmentation.watershed(edges, markers)\n",
    "\n",
    "# Visualize results\n",
    "plt.figure(figsize=(8, 8))\n",
    "plt.imshow(segmentation.mark_boundaries(image, segmented), cmap='gray')\n",
    "plt.axis('off')\n",
    "plt.savefig('segmentation_result.png')\n",
    "plt.close()"
   ]
  }
 ],
 "metadata": {
  "language_info": {
   "codemirror_mode": {
    "name": "ipython",
    "version": 3
   },
   "file_extension": ".py",
   "mimetype": "text/x-python",
   "name": "python",
   "nbconvert_exporter": "python",
   "pygments_lexer": "ipython3",
   "version": "3.12.8"
  }
 },
 "nbformat": 4,
 "nbformat_minor": 4
}
