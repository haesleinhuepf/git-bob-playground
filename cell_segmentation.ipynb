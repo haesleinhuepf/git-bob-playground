{
 "cells": [
  {
   "cell_type": "markdown",
   "metadata": {},
   "source": [
    "# Cell Segmentation\n",
    "\n",
    "Import required libraries"
   ]
  },
  {
   "cell_type": "code",
   "execution_count": 1,
   "metadata": {
    "execution": {
     "iopub.execute_input": "2025-01-24T10:45:40.878073Z",
     "iopub.status.busy": "2025-01-24T10:45:40.877880Z",
     "iopub.status.idle": "2025-01-24T10:45:41.521986Z",
     "shell.execute_reply": "2025-01-24T10:45:41.521369Z"
    }
   },
   "outputs": [],
   "source": [
    "import numpy as np\n",
    "import matplotlib.pyplot as plt\n",
    "from skimage import io, filters, segmentation\n",
    "from skimage.morphology import disk, closing\n",
    "from skimage.feature import peak_local_max\n",
    "from scipy import ndimage"
   ]
  },
  {
   "cell_type": "markdown",
   "metadata": {},
   "source": [
    "Load and display the image"
   ]
  },
  {
   "cell_type": "code",
   "execution_count": 2,
   "metadata": {
    "execution": {
     "iopub.execute_input": "2025-01-24T10:45:41.524261Z",
     "iopub.status.busy": "2025-01-24T10:45:41.523830Z",
     "iopub.status.idle": "2025-01-24T10:45:41.580697Z",
     "shell.execute_reply": "2025-01-24T10:45:41.580112Z"
    }
   },
   "outputs": [],
   "source": [
    "# Create a sample image for demonstration\n",
    "img = np.zeros((100, 100))\n",
    "rr, cc = np.ogrid[0:100, 0:100]\n",
    "img[(rr-50)**2 + (cc-50)**2 < 900] = 1\n",
    "plt.imshow(img, cmap='gray')\n",
    "plt.axis('off')\n",
    "plt.savefig('original.png')\n",
    "plt.close()"
   ]
  },
  {
   "cell_type": "markdown",
   "metadata": {},
   "source": [
    "Pre-process the image using gaussian smoothing and morphological closing"
   ]
  },
  {
   "cell_type": "code",
   "execution_count": 3,
   "metadata": {
    "execution": {
     "iopub.execute_input": "2025-01-24T10:45:41.582704Z",
     "iopub.status.busy": "2025-01-24T10:45:41.582369Z",
     "iopub.status.idle": "2025-01-24T10:45:41.586846Z",
     "shell.execute_reply": "2025-01-24T10:45:41.586425Z"
    }
   },
   "outputs": [],
   "source": [
    "smoothed = filters.gaussian(img, sigma=1)\n",
    "closed = closing(smoothed, disk(3))"
   ]
  },
  {
   "cell_type": "markdown",
   "metadata": {},
   "source": [
    "Watershed segmentation using membrane intensity as elevation map"
   ]
  },
  {
   "cell_type": "code",
   "execution_count": 4,
   "metadata": {
    "execution": {
     "iopub.execute_input": "2025-01-24T10:45:41.588672Z",
     "iopub.status.busy": "2025-01-24T10:45:41.588330Z",
     "iopub.status.idle": "2025-01-24T10:45:41.593825Z",
     "shell.execute_reply": "2025-01-24T10:45:41.593274Z"
    }
   },
   "outputs": [],
   "source": [
    "distance = ndimage.distance_transform_edt(-closed)\n",
    "local_max_coords = peak_local_max(distance, min_distance=20)\n",
    "markers = np.zeros_like(img)\n",
    "markers[tuple(local_max_coords.T)] = 1\n",
    "markers = ndimage.label(markers)[0]\n",
    "labels = segmentation.watershed(-closed, markers, mask=img>0)"
   ]
  },
  {
   "cell_type": "markdown",
   "metadata": {},
   "source": [
    "Visualize the segmentation result"
   ]
  },
  {
   "cell_type": "code",
   "execution_count": 5,
   "metadata": {
    "execution": {
     "iopub.execute_input": "2025-01-24T10:45:41.595762Z",
     "iopub.status.busy": "2025-01-24T10:45:41.595431Z",
     "iopub.status.idle": "2025-01-24T10:45:41.625958Z",
     "shell.execute_reply": "2025-01-24T10:45:41.625525Z"
    }
   },
   "outputs": [],
   "source": [
    "plt.imshow(labels, cmap='nipy_spectral')\n",
    "plt.axis('off')\n",
    "plt.savefig('segmentation.png')\n",
    "plt.close()"
   ]
  }
 ],
 "metadata": {
  "language_info": {
   "codemirror_mode": {
    "name": "ipython",
    "version": 3
   },
   "file_extension": ".py",
   "mimetype": "text/x-python",
   "name": "python",
   "nbconvert_exporter": "python",
   "pygments_lexer": "ipython3",
   "version": "3.12.8"
  }
 },
 "nbformat": 4,
 "nbformat_minor": 4
}
