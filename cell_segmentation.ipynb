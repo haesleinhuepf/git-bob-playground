{
 "cells": [
  {
   "cell_type": "markdown",
   "metadata": {},
   "source": [
    "# Cell Segmentation\n",
    "Segmentation of cell membranes in fluorescence microscopy images"
   ]
  },
  {
   "cell_type": "code",
   "execution_count": 1,
   "metadata": {
    "execution": {
     "iopub.execute_input": "2025-01-24T12:02:40.635511Z",
     "iopub.status.busy": "2025-01-24T12:02:40.635318Z",
     "iopub.status.idle": "2025-01-24T12:02:41.292962Z",
     "shell.execute_reply": "2025-01-24T12:02:41.292391Z"
    }
   },
   "outputs": [],
   "source": [
    "import numpy as np\n",
    "from skimage import io, filters, measure, segmentation\n",
    "import matplotlib.pyplot as plt"
   ]
  },
  {
   "cell_type": "markdown",
   "metadata": {},
   "source": [
    "## Load and preprocess image"
   ]
  },
  {
   "cell_type": "code",
   "execution_count": 2,
   "metadata": {
    "execution": {
     "iopub.execute_input": "2025-01-24T12:02:41.294989Z",
     "iopub.status.busy": "2025-01-24T12:02:41.294729Z",
     "iopub.status.idle": "2025-01-24T12:02:41.303374Z",
     "shell.execute_reply": "2025-01-24T12:02:41.302932Z"
    }
   },
   "outputs": [],
   "source": [
    "# Generate a sample image for testing\n",
    "img = np.zeros((100, 100))\n",
    "img[20:40, 20:40] = 1\n",
    "img[60:80, 60:80] = 1\n",
    "img = filters.gaussian(img, sigma=1)\n",
    "plt.imsave('preprocessed.png', img.astype(np.uint8), cmap='gray')"
   ]
  },
  {
   "cell_type": "markdown",
   "metadata": {},
   "source": [
    "## Invert image and enhance dark cell interiors"
   ]
  },
  {
   "cell_type": "code",
   "execution_count": 3,
   "metadata": {
    "execution": {
     "iopub.execute_input": "2025-01-24T12:02:41.305147Z",
     "iopub.status.busy": "2025-01-24T12:02:41.304790Z",
     "iopub.status.idle": "2025-01-24T12:02:41.309892Z",
     "shell.execute_reply": "2025-01-24T12:02:41.309471Z"
    }
   },
   "outputs": [],
   "source": [
    "inverted = 1 - img/img.max()\n",
    "enhanced = filters.gaussian(inverted, sigma=3)\n",
    "plt.imsave('enhanced.png', (enhanced*255).astype(np.uint8), cmap='gray')"
   ]
  },
  {
   "cell_type": "markdown",
   "metadata": {},
   "source": [
    "## Detect cells using watershed"
   ]
  },
  {
   "cell_type": "code",
   "execution_count": 4,
   "metadata": {
    "execution": {
     "iopub.execute_input": "2025-01-24T12:02:41.311600Z",
     "iopub.status.busy": "2025-01-24T12:02:41.311250Z",
     "iopub.status.idle": "2025-01-24T12:02:41.319380Z",
     "shell.execute_reply": "2025-01-24T12:02:41.318792Z"
    }
   },
   "outputs": [],
   "source": [
    "markers = filters.threshold_local(enhanced, 51) > 0\n",
    "markers = measure.label(markers)\n",
    "labels = segmentation.watershed(enhanced, markers)\n",
    "plt.imsave('labels.png', labels.astype(np.uint8), cmap='nipy_spectral')\n",
    "np.save('labels.npy', labels)"
   ]
  }
 ],
 "metadata": {
  "language_info": {
   "codemirror_mode": {
    "name": "ipython",
    "version": 3
   },
   "file_extension": ".py",
   "mimetype": "text/x-python",
   "name": "python",
   "nbconvert_exporter": "python",
   "pygments_lexer": "ipython3",
   "version": "3.12.8"
  }
 },
 "nbformat": 4,
 "nbformat_minor": 4
}
