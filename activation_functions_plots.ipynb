{
 "cells": [
  {
   "cell_type": "markdown",
   "id": "91d508f4",
   "metadata": {},
   "source": [
    "# Activation Functions Plots\n",
    "\n",
    "In this notebook, we will generate plots for three common activation functions: Linear, Sigmoid, and ReLU. These plots will be saved as PNG files for later use in a presentation."
   ]
  },
  {
   "cell_type": "markdown",
   "id": "a0cbafe0",
   "metadata": {},
   "source": [
    "## Import Libraries\n",
    "\n",
    "First, we need to import necessary libraries: `numpy` for numerical operations and `matplotlib` for plotting."
   ]
  },
  {
   "cell_type": "code",
   "execution_count": 1,
   "id": "1b00d96d",
   "metadata": {
    "execution": {
     "iopub.execute_input": "2024-10-29T15:30:43.430827Z",
     "iopub.status.busy": "2024-10-29T15:30:43.430827Z",
     "iopub.status.idle": "2024-10-29T15:30:43.795477Z",
     "shell.execute_reply": "2024-10-29T15:30:43.795133Z"
    }
   },
   "outputs": [],
   "source": [
    "import numpy as np\n",
    "import matplotlib.pyplot as plt"
   ]
  },
  {
   "cell_type": "markdown",
   "id": "e7cecac0",
   "metadata": {},
   "source": [
    "## Linear Activation Function\n",
    "\n",
    "The linear activation function is defined as \\( f(x) = x \\). Let's plot it first."
   ]
  },
  {
   "cell_type": "code",
   "execution_count": 2,
   "id": "3a70bc35",
   "metadata": {
    "execution": {
     "iopub.execute_input": "2024-10-29T15:30:43.796510Z",
     "iopub.status.busy": "2024-10-29T15:30:43.796510Z",
     "iopub.status.idle": "2024-10-29T15:30:43.877959Z",
     "shell.execute_reply": "2024-10-29T15:30:43.877959Z"
    }
   },
   "outputs": [],
   "source": [
    "# Define the linear activation function\n",
    "def linear(x):\n",
    "    return x\n",
    "\n",
    "# Generate x values\n",
    "x = np.linspace(-10, 10, 100)\n",
    "\n",
    "# Plot\n",
    "plt.figure()\n",
    "plt.plot(x, linear(x), label='Linear Activation')\n",
    "plt.title('Linear Activation Function')\n",
    "plt.xlabel('Input')\n",
    "plt.ylabel('Output')\n",
    "plt.legend()\n",
    "plt.grid(True)\n",
    "plt.savefig('linear_activation.png')\n",
    "plt.close()"
   ]
  },
  {
   "cell_type": "markdown",
   "id": "1ef4c058",
   "metadata": {},
   "source": [
    "## Sigmoid Activation Function\n",
    "\n",
    "The sigmoid activation function is defined as \\( f(x) = \\frac{1}{1 + e^{-x}} \\). Now we'll plot the sigmoid function."
   ]
  },
  {
   "cell_type": "code",
   "execution_count": 3,
   "id": "1233ec51",
   "metadata": {
    "execution": {
     "iopub.execute_input": "2024-10-29T15:30:43.880134Z",
     "iopub.status.busy": "2024-10-29T15:30:43.880134Z",
     "iopub.status.idle": "2024-10-29T15:30:43.943234Z",
     "shell.execute_reply": "2024-10-29T15:30:43.943234Z"
    }
   },
   "outputs": [],
   "source": [
    "# Define the sigmoid activation function\n",
    "def sigmoid(x):\n",
    "    return 1 / (1 + np.exp(-x))\n",
    "\n",
    "# Plot\n",
    "plt.figure()\n",
    "plt.plot(x, sigmoid(x), label='Sigmoid Activation')\n",
    "plt.title('Sigmoid Activation Function')\n",
    "plt.xlabel('Input')\n",
    "plt.ylabel('Output')\n",
    "plt.legend()\n",
    "plt.grid(True)\n",
    "plt.savefig('sigmoid_activation.png')\n",
    "plt.close()"
   ]
  },
  {
   "cell_type": "markdown",
   "id": "d8ba74fc",
   "metadata": {},
   "source": [
    "## ReLU Activation Function\n",
    "\n",
    "The ReLU (Rectified Linear Unit) activation function is defined as \\( f(x) = \\max(0, x) \\). Let's plot the ReLU function."
   ]
  },
  {
   "cell_type": "code",
   "execution_count": 4,
   "id": "49b31331",
   "metadata": {
    "execution": {
     "iopub.execute_input": "2024-10-29T15:30:43.945306Z",
     "iopub.status.busy": "2024-10-29T15:30:43.945306Z",
     "iopub.status.idle": "2024-10-29T15:30:44.002950Z",
     "shell.execute_reply": "2024-10-29T15:30:44.002950Z"
    }
   },
   "outputs": [],
   "source": [
    "# Define the ReLU activation function\n",
    "def relu(x):\n",
    "    return np.maximum(0, x)\n",
    "\n",
    "# Plot\n",
    "plt.figure()\n",
    "plt.plot(x, relu(x), label='ReLU Activation')\n",
    "plt.title('ReLU Activation Function')\n",
    "plt.xlabel('Input')\n",
    "plt.ylabel('Output')\n",
    "plt.legend()\n",
    "plt.grid(True)\n",
    "plt.savefig('relu_activation.png')\n",
    "plt.close()"
   ]
  },
  {
   "cell_type": "markdown",
   "id": "cb391ffd",
   "metadata": {},
   "source": [
    "The plots for linear, sigmoid, and ReLU activation functions have been saved as PNG files in the current directory, ready for use in a presentation."
   ]
  }
 ],
 "metadata": {
  "language_info": {
   "codemirror_mode": {
    "name": "ipython",
    "version": 3
   },
   "file_extension": ".py",
   "mimetype": "text/x-python",
   "name": "python",
   "nbconvert_exporter": "python",
   "pygments_lexer": "ipython3",
   "version": "3.11.10"
  }
 },
 "nbformat": 4,
 "nbformat_minor": 5
}
