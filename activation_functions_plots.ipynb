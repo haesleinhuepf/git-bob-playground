{
 "cells": [
  {
   "cell_type": "markdown",
   "metadata": {},
   "source": [
    "# Activation Functions Plots\n",
    "This notebook creates plots for three common activation functions used in neural networks."
   ]
  },
  {
   "cell_type": "markdown",
   "metadata": {},
   "source": [
    "## Import required libraries"
   ]
  },
  {
   "cell_type": "code",
   "execution_count": 1,
   "metadata": {
    "execution": {
     "iopub.execute_input": "2024-11-02T14:47:00.851701Z",
     "iopub.status.busy": "2024-11-02T14:47:00.851246Z",
     "iopub.status.idle": "2024-11-02T14:47:01.572764Z",
     "shell.execute_reply": "2024-11-02T14:47:01.572170Z"
    }
   },
   "outputs": [],
   "source": [
    "import numpy as np\n",
    "import matplotlib.pyplot as plt"
   ]
  },
  {
   "cell_type": "markdown",
   "metadata": {},
   "source": [
    "## Generate data points"
   ]
  },
  {
   "cell_type": "code",
   "execution_count": 2,
   "metadata": {
    "execution": {
     "iopub.execute_input": "2024-11-02T14:47:01.575176Z",
     "iopub.status.busy": "2024-11-02T14:47:01.574742Z",
     "iopub.status.idle": "2024-11-02T14:47:01.577671Z",
     "shell.execute_reply": "2024-11-02T14:47:01.577187Z"
    }
   },
   "outputs": [],
   "source": [
    "x = np.linspace(-10, 10, 200)"
   ]
  },
  {
   "cell_type": "markdown",
   "metadata": {},
   "source": [
    "## Linear Activation Function"
   ]
  },
  {
   "cell_type": "code",
   "execution_count": 3,
   "metadata": {
    "execution": {
     "iopub.execute_input": "2024-11-02T14:47:01.579447Z",
     "iopub.status.busy": "2024-11-02T14:47:01.579254Z",
     "iopub.status.idle": "2024-11-02T14:47:01.702508Z",
     "shell.execute_reply": "2024-11-02T14:47:01.701896Z"
    }
   },
   "outputs": [],
   "source": [
    "plt.figure(figsize=(8, 6))\n",
    "plt.plot(x, x)\n",
    "plt.title('Linear Activation Function')\n",
    "plt.grid(True)\n",
    "plt.xlabel('x')\n",
    "plt.ylabel('f(x)')\n",
    "plt.savefig('linear_activation.png')\n",
    "plt.close()"
   ]
  },
  {
   "cell_type": "markdown",
   "metadata": {},
   "source": [
    "## Sigmoid Activation Function"
   ]
  },
  {
   "cell_type": "code",
   "execution_count": 4,
   "metadata": {
    "execution": {
     "iopub.execute_input": "2024-11-02T14:47:01.704713Z",
     "iopub.status.busy": "2024-11-02T14:47:01.704337Z",
     "iopub.status.idle": "2024-11-02T14:47:01.806744Z",
     "shell.execute_reply": "2024-11-02T14:47:01.806170Z"
    }
   },
   "outputs": [],
   "source": [
    "plt.figure(figsize=(8, 6))\n",
    "plt.plot(x, 1/(1 + np.exp(-x)))\n",
    "plt.title('Sigmoid Activation Function')\n",
    "plt.grid(True)\n",
    "plt.xlabel('x')\n",
    "plt.ylabel('f(x)')\n",
    "plt.savefig('sigmoid_activation.png')\n",
    "plt.close()"
   ]
  },
  {
   "cell_type": "markdown",
   "metadata": {},
   "source": [
    "## ReLU Activation Function"
   ]
  },
  {
   "cell_type": "code",
   "execution_count": 5,
   "metadata": {
    "execution": {
     "iopub.execute_input": "2024-11-02T14:47:01.808968Z",
     "iopub.status.busy": "2024-11-02T14:47:01.808753Z",
     "iopub.status.idle": "2024-11-02T14:47:01.908259Z",
     "shell.execute_reply": "2024-11-02T14:47:01.907588Z"
    }
   },
   "outputs": [],
   "source": [
    "plt.figure(figsize=(8, 6))\n",
    "plt.plot(x, np.maximum(0, x))\n",
    "plt.title('ReLU Activation Function')\n",
    "plt.grid(True)\n",
    "plt.xlabel('x')\n",
    "plt.ylabel('f(x)')\n",
    "plt.savefig('relu_activation.png')\n",
    "plt.close()"
   ]
  }
 ],
 "metadata": {
  "language_info": {
   "codemirror_mode": {
    "name": "ipython",
    "version": 3
   },
   "file_extension": ".py",
   "mimetype": "text/x-python",
   "name": "python",
   "nbconvert_exporter": "python",
   "pygments_lexer": "ipython3",
   "version": "3.12.7"
  }
 },
 "nbformat": 4,
 "nbformat_minor": 4
}
