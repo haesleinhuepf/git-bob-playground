{
 "cells": [
  {
   "cell_type": "markdown",
   "metadata": {},
   "source": [
    "# Activation Functions Plots\n",
    "\n",
    "In this notebook, we will create plots for three activation functions commonly used in neural networks: Linear, Sigmoid, and ReLU. Each plot will be saved as a .png file."
   ]
  },
  {
   "cell_type": "markdown",
   "metadata": {},
   "source": [
    "## Import necessary libraries"
   ]
  },
  {
   "cell_type": "code",
   "execution_count": 1,
   "metadata": {
    "execution": {
     "iopub.execute_input": "2024-10-29T14:32:20.561153Z",
     "iopub.status.busy": "2024-10-29T14:32:20.561153Z",
     "iopub.status.idle": "2024-10-29T14:32:20.889941Z",
     "shell.execute_reply": "2024-10-29T14:32:20.889941Z"
    }
   },
   "outputs": [],
   "source": [
    "import numpy as np\n",
    "import matplotlib.pyplot as plt"
   ]
  },
  {
   "cell_type": "markdown",
   "metadata": {},
   "source": [
    "## Define the Linear activation function and plot it"
   ]
  },
  {
   "cell_type": "code",
   "execution_count": 2,
   "metadata": {
    "execution": {
     "iopub.execute_input": "2024-10-29T14:32:20.892186Z",
     "iopub.status.busy": "2024-10-29T14:32:20.892186Z",
     "iopub.status.idle": "2024-10-29T14:32:20.975777Z",
     "shell.execute_reply": "2024-10-29T14:32:20.975777Z"
    }
   },
   "outputs": [],
   "source": [
    "def linear_activation(x):\n",
    "    return x\n",
    "\n",
    "x = np.linspace(-10, 10, 400)\n",
    "y_linear = linear_activation(x)\n",
    "\n",
    "plt.figure()\n",
    "plt.plot(x, y_linear, label='Linear')\n",
    "plt.title('Linear Activation Function')\n",
    "plt.xlabel('Input')\n",
    "plt.ylabel('Output')\n",
    "plt.legend()\n",
    "plt.grid(True)\n",
    "plt.savefig('linear_activation.png')\n",
    "plt.close()"
   ]
  },
  {
   "cell_type": "markdown",
   "metadata": {},
   "source": [
    "## Define the Sigmoid activation function and plot it"
   ]
  },
  {
   "cell_type": "code",
   "execution_count": 3,
   "metadata": {
    "execution": {
     "iopub.execute_input": "2024-10-29T14:32:20.977782Z",
     "iopub.status.busy": "2024-10-29T14:32:20.977782Z",
     "iopub.status.idle": "2024-10-29T14:32:21.033924Z",
     "shell.execute_reply": "2024-10-29T14:32:21.033283Z"
    }
   },
   "outputs": [],
   "source": [
    "def sigmoid_activation(x):\n",
    "    return 1 / (1 + np.exp(-x))\n",
    "\n",
    "y_sigmoid = sigmoid_activation(x)\n",
    "\n",
    "plt.figure()\n",
    "plt.plot(x, y_sigmoid, label='Sigmoid', color='orange')\n",
    "plt.title('Sigmoid Activation Function')\n",
    "plt.xlabel('Input')\n",
    "plt.ylabel('Output')\n",
    "plt.legend()\n",
    "plt.grid(True)\n",
    "plt.savefig('sigmoid_activation.png')\n",
    "plt.close()"
   ]
  },
  {
   "cell_type": "markdown",
   "metadata": {},
   "source": [
    "## Define the ReLU activation function and plot it"
   ]
  },
  {
   "cell_type": "code",
   "execution_count": 4,
   "metadata": {
    "execution": {
     "iopub.execute_input": "2024-10-29T14:32:21.035833Z",
     "iopub.status.busy": "2024-10-29T14:32:21.035833Z",
     "iopub.status.idle": "2024-10-29T14:32:21.091360Z",
     "shell.execute_reply": "2024-10-29T14:32:21.091360Z"
    }
   },
   "outputs": [],
   "source": [
    "def relu_activation(x):\n",
    "    return np.maximum(0, x)\n",
    "\n",
    "y_relu = relu_activation(x)\n",
    "\n",
    "plt.figure()\n",
    "plt.plot(x, y_relu, label='ReLU', color='green')\n",
    "plt.title('ReLU Activation Function')\n",
    "plt.xlabel('Input')\n",
    "plt.ylabel('Output')\n",
    "plt.legend()\n",
    "plt.grid(True)\n",
    "plt.savefig('relu_activation.png')\n",
    "plt.close()"
   ]
  }
 ],
 "metadata": {
  "language_info": {
   "codemirror_mode": {
    "name": "ipython",
    "version": 3
   },
   "file_extension": ".py",
   "mimetype": "text/x-python",
   "name": "python",
   "nbconvert_exporter": "python",
   "pygments_lexer": "ipython3",
   "version": "3.11.10"
  }
 },
 "nbformat": 4,
 "nbformat_minor": 2
}
