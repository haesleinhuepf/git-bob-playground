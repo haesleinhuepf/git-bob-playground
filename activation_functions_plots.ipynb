{
 "cells": [
  {
   "cell_type": "markdown",
   "id": "eba38f1e",
   "metadata": {},
   "source": [
    "# Activation Functions Plots\n",
    "\n",
    "In this notebook, we will generate plots for three common activation functions used in neural networks:\n",
    "\n",
    "1. Linear Activation Function\n",
    "2. Sigmoid Activation Function\n",
    "3. ReLU Activation Function\n",
    "\n",
    "Each plot will be saved as a PNG file for use in a presentation."
   ]
  },
  {
   "cell_type": "markdown",
   "id": "f6914244",
   "metadata": {},
   "source": [
    "## Import Required Libraries\n",
    "\n",
    "We need `numpy` for numerical operations and `matplotlib` for plotting."
   ]
  },
  {
   "cell_type": "code",
   "execution_count": 1,
   "id": "46664eaa",
   "metadata": {
    "execution": {
     "iopub.execute_input": "2024-10-29T14:26:47.117666Z",
     "iopub.status.busy": "2024-10-29T14:26:47.116189Z",
     "iopub.status.idle": "2024-10-29T14:26:47.542793Z",
     "shell.execute_reply": "2024-10-29T14:26:47.542793Z"
    }
   },
   "outputs": [],
   "source": [
    "import numpy as np\n",
    "import matplotlib.pyplot as plt"
   ]
  },
  {
   "cell_type": "markdown",
   "id": "a757d587",
   "metadata": {},
   "source": [
    "## Plot Linear Activation Function\n",
    "\n",
    "Linear activation is simply the identity function, where the output directly equals the input."
   ]
  },
  {
   "cell_type": "code",
   "execution_count": 2,
   "id": "53dc0f2e",
   "metadata": {
    "execution": {
     "iopub.execute_input": "2024-10-29T14:26:47.545270Z",
     "iopub.status.busy": "2024-10-29T14:26:47.545270Z",
     "iopub.status.idle": "2024-10-29T14:26:47.631814Z",
     "shell.execute_reply": "2024-10-29T14:26:47.630773Z"
    }
   },
   "outputs": [],
   "source": [
    "# Define the linear function\n",
    "def linear(x):\n",
    "    return x\n",
    "\n",
    "# Generate values\n",
    "x_values = np.linspace(-10, 10, 400)\n",
    "y_values = linear(x_values)\n",
    "\n",
    "# Plot and save\n",
    "plt.figure(figsize=(6, 4))\n",
    "plt.plot(x_values, y_values, label='Linear')\n",
    "plt.title('Linear Activation Function')\n",
    "plt.xlabel('Input')\n",
    "plt.ylabel('Output')\n",
    "plt.axhline(0, color='grey', lw=0.5)\n",
    "plt.axvline(0, color='grey', lw=0.5)\n",
    "plt.grid(True)\n",
    "plt.legend()\n",
    "plt.savefig('linear_activation.png')\n",
    "plt.close()"
   ]
  },
  {
   "cell_type": "markdown",
   "id": "1b7766ba",
   "metadata": {},
   "source": [
    "## Plot Sigmoid Activation Function\n",
    "\n",
    "Sigmoid activation squashes the input to a range between 0 and 1."
   ]
  },
  {
   "cell_type": "code",
   "execution_count": 3,
   "id": "bf525e12",
   "metadata": {
    "execution": {
     "iopub.execute_input": "2024-10-29T14:26:47.634219Z",
     "iopub.status.busy": "2024-10-29T14:26:47.634219Z",
     "iopub.status.idle": "2024-10-29T14:26:47.704282Z",
     "shell.execute_reply": "2024-10-29T14:26:47.704282Z"
    }
   },
   "outputs": [],
   "source": [
    "# Define the sigmoid function\n",
    "def sigmoid(x):\n",
    "    return 1 / (1 + np.exp(-x))\n",
    "\n",
    "# Generate values\n",
    "y_values = sigmoid(x_values)\n",
    "\n",
    "# Plot and save\n",
    "plt.figure(figsize=(6, 4))\n",
    "plt.plot(x_values, y_values, label='Sigmoid', color='orange')\n",
    "plt.title('Sigmoid Activation Function')\n",
    "plt.xlabel('Input')\n",
    "plt.ylabel('Output')\n",
    "plt.axhline(0, color='grey', lw=0.5)\n",
    "plt.axvline(0, color='grey', lw=0.5)\n",
    "plt.grid(True)\n",
    "plt.legend()\n",
    "plt.savefig('sigmoid_activation.png')\n",
    "plt.close()"
   ]
  },
  {
   "cell_type": "markdown",
   "id": "a5dd2a42",
   "metadata": {},
   "source": [
    "## Plot ReLU Activation Function\n",
    "\n",
    "ReLU, or Rectified Linear Unit, outputs the input directly if it is positive; otherwise, it will output zero."
   ]
  },
  {
   "cell_type": "code",
   "execution_count": 4,
   "id": "dfb0715b",
   "metadata": {
    "execution": {
     "iopub.execute_input": "2024-10-29T14:26:47.707202Z",
     "iopub.status.busy": "2024-10-29T14:26:47.707202Z",
     "iopub.status.idle": "2024-10-29T14:26:47.767402Z",
     "shell.execute_reply": "2024-10-29T14:26:47.766894Z"
    }
   },
   "outputs": [],
   "source": [
    "# Define the ReLU function\n",
    "def relu(x):\n",
    "    return np.maximum(0, x)\n",
    "\n",
    "# Generate values\n",
    "y_values = relu(x_values)\n",
    "\n",
    "# Plot and save\n",
    "plt.figure(figsize=(6, 4))\n",
    "plt.plot(x_values, y_values, label='ReLU', color='green')\n",
    "plt.title('ReLU Activation Function')\n",
    "plt.xlabel('Input')\n",
    "plt.ylabel('Output')\n",
    "plt.axhline(0, color='grey', lw=0.5)\n",
    "plt.axvline(0, color='grey', lw=0.5)\n",
    "plt.grid(True)\n",
    "plt.legend()\n",
    "plt.savefig('relu_activation.png')\n",
    "plt.close()"
   ]
  }
 ],
 "metadata": {
  "language_info": {
   "codemirror_mode": {
    "name": "ipython",
    "version": 3
   },
   "file_extension": ".py",
   "mimetype": "text/x-python",
   "name": "python",
   "nbconvert_exporter": "python",
   "pygments_lexer": "ipython3",
   "version": "3.11.10"
  }
 },
 "nbformat": 4,
 "nbformat_minor": 5
}
