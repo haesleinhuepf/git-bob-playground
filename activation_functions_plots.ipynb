{
 "cells": [
  {
   "cell_type": "markdown",
   "id": "99134bbf",
   "metadata": {},
   "source": [
    "# Activation Functions Plotting\n",
    "\n",
    "In this notebook, we will create plots for various activation functions used in neural networks:\n",
    "- Linear Activation\n",
    "- Sigmoid Activation\n",
    "- ReLU Activation\n",
    "\n",
    "Each plot will be saved as a `.png` file for use in a presentation."
   ]
  },
  {
   "cell_type": "markdown",
   "id": "9f31ecd4",
   "metadata": {},
   "source": [
    "## Importing Libraries\n",
    "\n",
    "First, we need to import the required libraries for plotting and numerical computations."
   ]
  },
  {
   "cell_type": "code",
   "execution_count": 1,
   "id": "d5fd3010",
   "metadata": {
    "execution": {
     "iopub.execute_input": "2024-10-29T13:49:49.013555Z",
     "iopub.status.busy": "2024-10-29T13:49:49.013555Z",
     "iopub.status.idle": "2024-10-29T13:49:49.338521Z",
     "shell.execute_reply": "2024-10-29T13:49:49.338521Z"
    }
   },
   "outputs": [],
   "source": [
    "import numpy as np\n",
    "import matplotlib.pyplot as plt"
   ]
  },
  {
   "cell_type": "markdown",
   "id": "a4805ee3",
   "metadata": {},
   "source": [
    "## Linear Activation Function\n",
    "\n",
    "The linear activation function is simply the identity function $f(x) = x$."
   ]
  },
  {
   "cell_type": "code",
   "execution_count": 2,
   "id": "c4f9c5ae",
   "metadata": {
    "execution": {
     "iopub.execute_input": "2024-10-29T13:49:49.341497Z",
     "iopub.status.busy": "2024-10-29T13:49:49.340498Z",
     "iopub.status.idle": "2024-10-29T13:49:49.415381Z",
     "shell.execute_reply": "2024-10-29T13:49:49.415381Z"
    }
   },
   "outputs": [],
   "source": [
    "x = np.linspace(-10, 10, 100)\n",
    "y_linear = x\n",
    "\n",
    "plt.figure(figsize=(6, 4))\n",
    "plt.plot(x, y_linear, label='Linear', color='blue')\n",
    "plt.title('Linear Activation Function')\n",
    "plt.xlabel('Input')\n",
    "plt.ylabel('Output')\n",
    "plt.grid(True)\n",
    "plt.legend()\n",
    "plt.savefig('linear_activation.png')\n",
    "plt.close()"
   ]
  },
  {
   "cell_type": "markdown",
   "id": "d18069db",
   "metadata": {},
   "source": [
    "## Sigmoid Activation Function\n",
    "\n",
    "The sigmoid activation function is defined as $f(x) = \\frac{1}{1 + e^{-x}}$."
   ]
  },
  {
   "cell_type": "code",
   "execution_count": 3,
   "id": "7e3ce641",
   "metadata": {
    "execution": {
     "iopub.execute_input": "2024-10-29T13:49:49.417628Z",
     "iopub.status.busy": "2024-10-29T13:49:49.417628Z",
     "iopub.status.idle": "2024-10-29T13:49:49.473858Z",
     "shell.execute_reply": "2024-10-29T13:49:49.473858Z"
    }
   },
   "outputs": [],
   "source": [
    "y_sigmoid = 1 / (1 + np.exp(-x))\n",
    "\n",
    "plt.figure(figsize=(6, 4))\n",
    "plt.plot(x, y_sigmoid, label='Sigmoid', color='green')\n",
    "plt.title('Sigmoid Activation Function')\n",
    "plt.xlabel('Input')\n",
    "plt.ylabel('Output')\n",
    "plt.grid(True)\n",
    "plt.legend()\n",
    "plt.savefig('sigmoid_activation.png')\n",
    "plt.close()"
   ]
  },
  {
   "cell_type": "markdown",
   "id": "fb59a752",
   "metadata": {},
   "source": [
    "## ReLU Activation Function\n",
    "\n",
    "The ReLU (Rectified Linear Unit) activation function is defined as $f(x) = \\max(0, x)$."
   ]
  },
  {
   "cell_type": "code",
   "execution_count": 4,
   "id": "0bd891ab",
   "metadata": {
    "execution": {
     "iopub.execute_input": "2024-10-29T13:49:49.475962Z",
     "iopub.status.busy": "2024-10-29T13:49:49.475962Z",
     "iopub.status.idle": "2024-10-29T13:49:49.531227Z",
     "shell.execute_reply": "2024-10-29T13:49:49.531227Z"
    }
   },
   "outputs": [],
   "source": [
    "y_relu = np.maximum(0, x)\n",
    "\n",
    "plt.figure(figsize=(6, 4))\n",
    "plt.plot(x, y_relu, label='ReLU', color='red')\n",
    "plt.title('ReLU Activation Function')\n",
    "plt.xlabel('Input')\n",
    "plt.ylabel('Output')\n",
    "plt.grid(True)\n",
    "plt.legend()\n",
    "plt.savefig('relu_activation.png')\n",
    "plt.close()"
   ]
  }
 ],
 "metadata": {
  "language_info": {
   "codemirror_mode": {
    "name": "ipython",
    "version": 3
   },
   "file_extension": ".py",
   "mimetype": "text/x-python",
   "name": "python",
   "nbconvert_exporter": "python",
   "pygments_lexer": "ipython3",
   "version": "3.11.10"
  }
 },
 "nbformat": 4,
 "nbformat_minor": 5
}
