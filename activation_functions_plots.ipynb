{
 "cells": [
  {
   "cell_type": "markdown",
   "id": "affbb3ed",
   "metadata": {},
   "source": [
    "# Activation Functions Plots\n",
    "In this notebook, we will generate three plots for common activation functions:\n",
    "- Linear activation\n",
    "- Sigmoid\n",
    "- ReLU"
   ]
  },
  {
   "cell_type": "markdown",
   "id": "b8d923f0",
   "metadata": {},
   "source": [
    "## Import necessary libraries\n",
    "Let's start by importing the necessary libraries for plotting and numerical computations."
   ]
  },
  {
   "cell_type": "code",
   "execution_count": 1,
   "id": "2e78695d",
   "metadata": {
    "execution": {
     "iopub.execute_input": "2024-10-29T14:57:28.409606Z",
     "iopub.status.busy": "2024-10-29T14:57:28.409606Z",
     "iopub.status.idle": "2024-10-29T14:57:28.880582Z",
     "shell.execute_reply": "2024-10-29T14:57:28.880582Z"
    }
   },
   "outputs": [],
   "source": [
    "import numpy as np\n",
    "import matplotlib.pyplot as plt"
   ]
  },
  {
   "cell_type": "markdown",
   "id": "3a41d6ef",
   "metadata": {},
   "source": [
    "## Define the activation functions\n",
    "We define three functions: Linear, Sigmoid, and ReLU."
   ]
  },
  {
   "cell_type": "code",
   "execution_count": 2,
   "id": "371cba59",
   "metadata": {
    "execution": {
     "iopub.execute_input": "2024-10-29T14:57:28.883588Z",
     "iopub.status.busy": "2024-10-29T14:57:28.883588Z",
     "iopub.status.idle": "2024-10-29T14:57:28.886122Z",
     "shell.execute_reply": "2024-10-29T14:57:28.886122Z"
    }
   },
   "outputs": [],
   "source": [
    "def linear(x):\n",
    "    return x\n",
    "\n",
    "def sigmoid(x):\n",
    "    return 1 / (1 + np.exp(-x))\n",
    "\n",
    "def relu(x):\n",
    "    return np.maximum(0, x)"
   ]
  },
  {
   "cell_type": "markdown",
   "id": "1ae291c0",
   "metadata": {},
   "source": [
    "## Define the range for x values\n",
    "We choose a range from -10 to 10 for our x values."
   ]
  },
  {
   "cell_type": "code",
   "execution_count": 3,
   "id": "86155e2f",
   "metadata": {
    "execution": {
     "iopub.execute_input": "2024-10-29T14:57:28.888127Z",
     "iopub.status.busy": "2024-10-29T14:57:28.888127Z",
     "iopub.status.idle": "2024-10-29T14:57:28.890100Z",
     "shell.execute_reply": "2024-10-29T14:57:28.890100Z"
    }
   },
   "outputs": [],
   "source": [
    "x = np.linspace(-10, 10, 400)"
   ]
  },
  {
   "cell_type": "markdown",
   "id": "3043eb38",
   "metadata": {},
   "source": [
    "## Plot Linear Activation\n",
    "We create a plot for the linear activation function and save it as `linear.png`."
   ]
  },
  {
   "cell_type": "code",
   "execution_count": 4,
   "id": "12b9a2e6",
   "metadata": {
    "execution": {
     "iopub.execute_input": "2024-10-29T14:57:28.891105Z",
     "iopub.status.busy": "2024-10-29T14:57:28.891105Z",
     "iopub.status.idle": "2024-10-29T14:57:28.984468Z",
     "shell.execute_reply": "2024-10-29T14:57:28.984468Z"
    }
   },
   "outputs": [],
   "source": [
    "plt.figure()\n",
    "plt.plot(x, linear(x), label='Linear')\n",
    "plt.title('Linear Activation Function')\n",
    "plt.xlabel('x')\n",
    "plt.ylabel('y')\n",
    "plt.legend()\n",
    "plt.grid()\n",
    "plt.savefig('linear.png')\n",
    "plt.close()"
   ]
  },
  {
   "cell_type": "markdown",
   "id": "b75737af",
   "metadata": {},
   "source": [
    "## Plot Sigmoid Activation\n",
    "We create a plot for the sigmoid activation function and save it as `sigmoid.png`."
   ]
  },
  {
   "cell_type": "code",
   "execution_count": 5,
   "id": "c433f5c3",
   "metadata": {
    "execution": {
     "iopub.execute_input": "2024-10-29T14:57:28.987477Z",
     "iopub.status.busy": "2024-10-29T14:57:28.987477Z",
     "iopub.status.idle": "2024-10-29T14:57:29.055183Z",
     "shell.execute_reply": "2024-10-29T14:57:29.055183Z"
    }
   },
   "outputs": [],
   "source": [
    "plt.figure()\n",
    "plt.plot(x, sigmoid(x), label='Sigmoid')\n",
    "plt.title('Sigmoid Activation Function')\n",
    "plt.xlabel('x')\n",
    "plt.ylabel('y')\n",
    "plt.legend()\n",
    "plt.grid()\n",
    "plt.savefig('sigmoid.png')\n",
    "plt.close()"
   ]
  },
  {
   "cell_type": "markdown",
   "id": "bebea05a",
   "metadata": {},
   "source": [
    "## Plot ReLU Activation\n",
    "We create a plot for the ReLU activation function and save it as `relu.png`."
   ]
  },
  {
   "cell_type": "code",
   "execution_count": 6,
   "id": "f2180f67",
   "metadata": {
    "execution": {
     "iopub.execute_input": "2024-10-29T14:57:29.058189Z",
     "iopub.status.busy": "2024-10-29T14:57:29.058189Z",
     "iopub.status.idle": "2024-10-29T14:57:29.123919Z",
     "shell.execute_reply": "2024-10-29T14:57:29.123919Z"
    }
   },
   "outputs": [],
   "source": [
    "plt.figure()\n",
    "plt.plot(x, relu(x), label='ReLU')\n",
    "plt.title('ReLU Activation Function')\n",
    "plt.xlabel('x')\n",
    "plt.ylabel('y')\n",
    "plt.legend()\n",
    "plt.grid()\n",
    "plt.savefig('relu.png')\n",
    "plt.close()"
   ]
  }
 ],
 "metadata": {
  "language_info": {
   "codemirror_mode": {
    "name": "ipython",
    "version": 3
   },
   "file_extension": ".py",
   "mimetype": "text/x-python",
   "name": "python",
   "nbconvert_exporter": "python",
   "pygments_lexer": "ipython3",
   "version": "3.11.10"
  }
 },
 "nbformat": 4,
 "nbformat_minor": 5
}
