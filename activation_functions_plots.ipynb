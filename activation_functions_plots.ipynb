{
 "cells": [
  {
   "cell_type": "markdown",
   "id": "ed7490eb",
   "metadata": {},
   "source": [
    "# Activation Functions Plots\n",
    "\n",
    "In this notebook, we will create plots for three different activation functions: Linear, Sigmoid, and ReLU. Each plot will be saved as a .png file."
   ]
  },
  {
   "cell_type": "markdown",
   "id": "c46668ed",
   "metadata": {},
   "source": [
    "## Import Required Libraries\n",
    "We need to import NumPy for numerical operations and Matplotlib for plotting the functions."
   ]
  },
  {
   "cell_type": "code",
   "execution_count": 1,
   "id": "b524c92b",
   "metadata": {
    "execution": {
     "iopub.execute_input": "2024-10-29T13:45:19.573531Z",
     "iopub.status.busy": "2024-10-29T13:45:19.572506Z",
     "iopub.status.idle": "2024-10-29T13:45:19.896812Z",
     "shell.execute_reply": "2024-10-29T13:45:19.896812Z"
    }
   },
   "outputs": [],
   "source": [
    "import numpy as np\n",
    "import matplotlib.pyplot as plt"
   ]
  },
  {
   "cell_type": "markdown",
   "id": "b388681e",
   "metadata": {},
   "source": [
    "## Define Activation Functions\n",
    "Let's define the Linear, Sigmoid, and ReLU activation functions."
   ]
  },
  {
   "cell_type": "code",
   "execution_count": 2,
   "id": "fd49404a",
   "metadata": {
    "execution": {
     "iopub.execute_input": "2024-10-29T13:45:19.899825Z",
     "iopub.status.busy": "2024-10-29T13:45:19.899825Z",
     "iopub.status.idle": "2024-10-29T13:45:19.902198Z",
     "shell.execute_reply": "2024-10-29T13:45:19.902198Z"
    }
   },
   "outputs": [],
   "source": [
    "def linear_activation(x):\n",
    "    return x\n",
    "\n",
    "def sigmoid_activation(x):\n",
    "    return 1 / (1 + np.exp(-x))\n",
    "\n",
    "def relu_activation(x):\n",
    "    return np.maximum(0, x)"
   ]
  },
  {
   "cell_type": "markdown",
   "id": "2ffa7e1c",
   "metadata": {},
   "source": [
    "## Create x-axis Data\n",
    "We will create a range of x values from -10 to 10 to visualize the activation functions."
   ]
  },
  {
   "cell_type": "code",
   "execution_count": 3,
   "id": "72a60697",
   "metadata": {
    "execution": {
     "iopub.execute_input": "2024-10-29T13:45:19.904211Z",
     "iopub.status.busy": "2024-10-29T13:45:19.903208Z",
     "iopub.status.idle": "2024-10-29T13:45:19.906282Z",
     "shell.execute_reply": "2024-10-29T13:45:19.906159Z"
    }
   },
   "outputs": [],
   "source": [
    "x = np.linspace(-10, 10, 100)"
   ]
  },
  {
   "cell_type": "markdown",
   "id": "91da1018",
   "metadata": {},
   "source": [
    "## Plot Linear Activation\n",
    "Let's plot the Linear activation function and save it as a .png file."
   ]
  },
  {
   "cell_type": "code",
   "execution_count": 4,
   "id": "3b60357e",
   "metadata": {
    "execution": {
     "iopub.execute_input": "2024-10-29T13:45:19.907134Z",
     "iopub.status.busy": "2024-10-29T13:45:19.907134Z",
     "iopub.status.idle": "2024-10-29T13:45:19.977642Z",
     "shell.execute_reply": "2024-10-29T13:45:19.977642Z"
    }
   },
   "outputs": [],
   "source": [
    "plt.figure()\n",
    "plt.plot(x, linear_activation(x), label='Linear')\n",
    "plt.title('Linear Activation')\n",
    "plt.xlabel('Input')\n",
    "plt.ylabel('Output')\n",
    "plt.grid(True)\n",
    "plt.savefig('linear_activation.png')\n",
    "plt.close()"
   ]
  },
  {
   "cell_type": "markdown",
   "id": "98d33345",
   "metadata": {},
   "source": [
    "## Plot Sigmoid Activation\n",
    "Let's plot the Sigmoid activation function and save it as a .png file."
   ]
  },
  {
   "cell_type": "code",
   "execution_count": 5,
   "id": "d945d0d7",
   "metadata": {
    "execution": {
     "iopub.execute_input": "2024-10-29T13:45:19.979709Z",
     "iopub.status.busy": "2024-10-29T13:45:19.979709Z",
     "iopub.status.idle": "2024-10-29T13:45:20.030987Z",
     "shell.execute_reply": "2024-10-29T13:45:20.030987Z"
    }
   },
   "outputs": [],
   "source": [
    "plt.figure()\n",
    "plt.plot(x, sigmoid_activation(x), label='Sigmoid')\n",
    "plt.title('Sigmoid Activation')\n",
    "plt.xlabel('Input')\n",
    "plt.ylabel('Output')\n",
    "plt.grid(True)\n",
    "plt.savefig('sigmoid_activation.png')\n",
    "plt.close()"
   ]
  },
  {
   "cell_type": "markdown",
   "id": "d37f1d02",
   "metadata": {},
   "source": [
    "## Plot ReLU Activation\n",
    "Let's plot the ReLU activation function and save it as a .png file."
   ]
  },
  {
   "cell_type": "code",
   "execution_count": 6,
   "id": "d3a3b008",
   "metadata": {
    "execution": {
     "iopub.execute_input": "2024-10-29T13:45:20.032991Z",
     "iopub.status.busy": "2024-10-29T13:45:20.032991Z",
     "iopub.status.idle": "2024-10-29T13:45:20.083869Z",
     "shell.execute_reply": "2024-10-29T13:45:20.083869Z"
    }
   },
   "outputs": [],
   "source": [
    "plt.figure()\n",
    "plt.plot(x, relu_activation(x), label='ReLU')\n",
    "plt.title('ReLU Activation')\n",
    "plt.xlabel('Input')\n",
    "plt.ylabel('Output')\n",
    "plt.grid(True)\n",
    "plt.savefig('relu_activation.png')\n",
    "plt.close()"
   ]
  }
 ],
 "metadata": {
  "language_info": {
   "codemirror_mode": {
    "name": "ipython",
    "version": 3
   },
   "file_extension": ".py",
   "mimetype": "text/x-python",
   "name": "python",
   "nbconvert_exporter": "python",
   "pygments_lexer": "ipython3",
   "version": "3.11.10"
  }
 },
 "nbformat": 4,
 "nbformat_minor": 5
}
