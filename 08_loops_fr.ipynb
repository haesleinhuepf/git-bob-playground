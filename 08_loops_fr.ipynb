{
 "cells": [
  {
   "cell_type": "markdown",
   "metadata": {},
   "source": [
    "# Boucles\n",
    "Si vous voulez qu'un code soit exécuté de manière répétée, vous pouvez utiliser des boucles.\n",
    "\n",
    "Voir aussi\n",
    "* [Tutoriel sur les boucles Python](https://www.youtube.com/watch?v=4dN4Cn4u2M0)\n",
    "* [Boucles for en Python](https://www.w3schools.com/python/python_for_loops.asp)"
   ]
  },
  {
   "cell_type": "markdown",
   "metadata": {},
   "source": [
    "## Boucles For\n",
    "Pour itérer sur une plage de nombres, nous pouvons utiliser une simple boucle `for` et la fonction [range](https://www.w3schools.com/python/ref_func_range.asp).\n",
    "\n",
    "Dans la cellule suivante, la commande `print(i)` sera exécutée plusieurs fois pour différentes valeurs de `i`. Nous **i**térons sur une plage de valeurs :"
   ]
  },
  {
   "cell_type": "code",
   "execution_count": 1,
   "metadata": {
    "execution": {
     "iopub.execute_input": "2024-11-28T20:11:01.033081Z",
     "iopub.status.busy": "2024-11-28T20:11:01.032895Z",
     "iopub.status.idle": "2024-11-28T20:11:01.036811Z",
     "shell.execute_reply": "2024-11-28T20:11:01.036299Z"
    }
   },
   "outputs": [
    {
     "name": "stdout",
     "output_type": "stream",
     "text": [
      "0\n",
      "1\n",
      "2\n",
      "3\n",
      "4\n"
     ]
    }
   ],
   "source": [
    "for i in range(0, 5):\n",
    "    print(i)"
   ]
  },
  {
   "cell_type": "markdown",
   "metadata": {},
   "source": [
    "Notez que le code ci-dessus qui est indenté ne sera exécuté que pour le premier nombre donné (0) et continuera jusqu'au dernier nombre (5) mais sans l'inclure.\n",
    "\n",
    "Vous pouvez également itérer sur une plage de nombres avec un pas défini, par exemple pas de 3 :"
   ]
  },
  {
   "cell_type": "code",
   "execution_count": 2,
   "metadata": {
    "execution": {
     "iopub.execute_input": "2024-11-28T20:11:01.072627Z",
     "iopub.status.busy": "2024-11-28T20:11:01.072097Z",
     "iopub.status.idle": "2024-11-28T20:11:01.075516Z",
     "shell.execute_reply": "2024-11-28T20:11:01.074973Z"
    }
   },
   "outputs": [
    {
     "name": "stdout",
     "output_type": "stream",
     "text": [
      "0\n",
      "3\n",
      "6\n",
      "9\n"
     ]
    }
   ],
   "source": [
    "for i in range(0, 10, 3):\n",
    "    print(i)"
   ]
  },
  {
   "cell_type": "markdown",
   "metadata": {},
   "source": [
    "L'itération sur des tableaux vous permet de faire quelque chose avec tous les éléments du tableau :"
   ]
  },
  {
   "cell_type": "code",
   "execution_count": 3,
   "metadata": {
    "execution": {
     "iopub.execute_input": "2024-11-28T20:11:01.077294Z",
     "iopub.status.busy": "2024-11-28T20:11:01.076984Z",
     "iopub.status.idle": "2024-11-28T20:11:01.080147Z",
     "shell.execute_reply": "2024-11-28T20:11:01.079579Z"
    }
   },
   "outputs": [
    {
     "name": "stdout",
     "output_type": "stream",
     "text": [
      "Chien\n",
      "Chat\n",
      "Souris\n"
     ]
    }
   ],
   "source": [
    "for animal in [\"Chien\", \"Chat\", \"Souris\"]:\n",
    "    print(animal)"
   ]
  },
  {
   "cell_type": "markdown",
   "metadata": {},
   "source": [
    "Vous pouvez itérer sur deux tableaux en parallèle, par paires comme ceci :"
   ]
  },
  {
   "cell_type": "code",
   "execution_count": 4,
   "metadata": {
    "execution": {
     "iopub.execute_input": "2024-11-28T20:11:01.081917Z",
     "iopub.status.busy": "2024-11-28T20:11:01.081573Z",
     "iopub.status.idle": "2024-11-28T20:11:01.085115Z",
     "shell.execute_reply": "2024-11-28T20:11:01.084590Z"
    }
   },
   "outputs": [
    {
     "name": "stdout",
     "output_type": "stream",
     "text": [
      "Mesures appariées : 1 et 4\n",
      "Mesures appariées : 9 et 5\n",
      "Mesures appariées : 7 et 5\n",
      "Mesures appariées : 1 et 7\n",
      "Mesures appariées : 2 et 4\n",
      "Mesures appariées : 8 et 5\n",
      "Mesures appariées : 9 et 4\n",
      "Mesures appariées : 2 et 6\n",
      "Mesures appariées : 1 et 6\n",
      "Mesures appariées : 7 et 5\n",
      "Mesures appariées : 8 et 4\n"
     ]
    }
   ],
   "source": [
    "# parcourir les tableaux par paires\n",
    "mesure_1 = [1, 9, 7, 1, 2, 8, 9, 2, 1, 7, 8]\n",
    "mesure_2 = [4, 5, 5, 7, 4, 5, 4, 6, 6, 5, 4]\n",
    "\n",
    "for m_1, m_2 in zip(mesure_1, mesure_2):\n",
    "    print(\"Mesures appariées : \" + str(m_1) + \" et \" + str(m_2))"
   ]
  },
  {
   "cell_type": "markdown",
   "metadata": {},
   "source": [
    "Si vous voulez également connaître l'index de l'élément dans la liste, utilisez la fonction [enumerate](https://realpython.com/python-enumerate/) :"
   ]
  },
  {
   "cell_type": "code",
   "execution_count": 5,
   "metadata": {
    "execution": {
     "iopub.execute_input": "2024-11-28T20:11:01.086965Z",
     "iopub.status.busy": "2024-11-28T20:11:01.086638Z",
     "iopub.status.idle": "2024-11-28T20:11:01.090008Z",
     "shell.execute_reply": "2024-11-28T20:11:01.089444Z"
    }
   },
   "outputs": [
    {
     "name": "stdout",
     "output_type": "stream",
     "text": [
      "L'animal numéro 0 dans la liste est Chien\n",
      "L'animal numéro 1 dans la liste est Chat\n",
      "L'animal numéro 2 dans la liste est Souris\n"
     ]
    }
   ],
   "source": [
    "# numéroter et itérer à travers les collections\n",
    "for index, animal in enumerate([\"Chien\", \"Chat\", \"Souris\"]):\n",
    "    print(\"L'animal numéro \" + str(index) + \" dans la liste est \" + animal)\n"
   ]
  },
  {
   "cell_type": "markdown",
   "metadata": {},
   "source": [
    "## Génération de listes dans les boucles\n",
    "On peut générer des listes en utilisant des boucles for. La manière conventionnelle implique plusieurs lignes de code :"
   ]
  },
  {
   "cell_type": "code",
   "execution_count": 6,
   "metadata": {
    "execution": {
     "iopub.execute_input": "2024-11-28T20:11:01.091839Z",
     "iopub.status.busy": "2024-11-28T20:11:01.091654Z",
     "iopub.status.idle": "2024-11-28T20:11:01.094769Z",
     "shell.execute_reply": "2024-11-28T20:11:01.094322Z"
    }
   },
   "outputs": [
    {
     "name": "stdout",
     "output_type": "stream",
     "text": [
      "[0, 2, 4, 6, 8]\n"
     ]
    }
   ],
   "source": [
    "# nous commençons avec une liste vide\n",
    "nombres = []\n",
    "\n",
    "# et ajoutons des éléments\n",
    "for i in range(0, 5):\n",
    "    nombres.append(i * 2)\n",
    "    \n",
    "print(nombres)"
   ]
  },
  {
   "cell_type": "markdown",
   "metadata": {},
   "source": [
    "On peut aussi l'écrire plus court. Le concept sous-jacent s'appelle [générateurs](https://wiki.python.org/moin/Generators)."
   ]
  },
  {
   "cell_type": "code",
   "execution_count": 7,
   "metadata": {
    "execution": {
     "iopub.execute_input": "2024-11-28T20:11:01.096401Z",
     "iopub.status.busy": "2024-11-28T20:11:01.096220Z",
     "iopub.status.idle": "2024-11-28T20:11:01.099529Z",
     "shell.execute_reply": "2024-11-28T20:11:01.099059Z"
    }
   },
   "outputs": [
    {
     "name": "stdout",
     "output_type": "stream",
     "text": [
      "[0, 2, 4, 6, 8]\n"
     ]
    }
   ],
   "source": [
    "nombres = [i * 2 for i in range(0, 5)]\n",
    "\n",
    "print(nombres)"
   ]
  },
  {
   "cell_type": "markdown",
   "metadata": {},
   "source": [
    "La combinaison conventionnelle impliquant des instructions if ressemble à ceci :"
   ]
  },
  {
   "cell_type": "code",
   "execution_count": 8,
   "metadata": {
    "execution": {
     "iopub.execute_input": "2024-11-28T20:11:01.101433Z",
     "iopub.status.busy": "2024-11-28T20:11:01.101106Z",
     "iopub.status.idle": "2024-11-28T20:11:01.104602Z",
     "shell.execute_reply": "2024-11-28T20:11:01.104129Z"
    }
   },
   "outputs": [
    {
     "name": "stdout",
     "output_type": "stream",
     "text": [
      "[2, 6]\n"
     ]
    }
   ],
   "source": [
    "# nous commençons avec une liste vide\n",
    "nombres = []\n",
    "\n",
    "# et ajoutons des éléments\n",
    "for i in range(0, 5):\n",
    "    # vérifie si le nombre est impair\n",
    "    if i % 2:\n",
    "        nombres.append(i * 2)\n",
    "    \n",
    "print(nombres)"
   ]
  },
  {
   "cell_type": "markdown",
   "metadata": {},
   "source": [
    "Et la version courte comme ceci :"
   ]
  },
  {
   "cell_type": "code",
   "execution_count": 9,
   "metadata": {
    "execution": {
     "iopub.execute_input": "2024-11-28T20:11:01.106287Z",
     "iopub.status.busy": "2024-11-28T20:11:01.106081Z",
     "iopub.status.idle": "2024-11-28T20:11:01.109975Z",
     "shell.execute_reply": "2024-11-28T20:11:01.109463Z"
    }
   },
   "outputs": [
    {
     "name": "stdout",
     "output_type": "stream",
     "text": [
      "[2, 6]\n"
     ]
    }
   ],
   "source": [
    "nombres = [i * 2 for i in range(0, 5) if i % 2]\n",
    "\n",
    "print(nombres)"
   ]
  },
  {
   "cell_type": "markdown",
   "metadata": {},
   "source": [
    "## Boucles While\n",
    "Une autre façon de faire des boucles est d'utiliser la boucle `while`. Elle fonctionne en vérifiant une condition, similaire à l'instruction `if`. Elle interrompra l'exécution dès que la condition ne sera plus vraie :"
   ]
  },
  {
   "cell_type": "code",
   "execution_count": 10,
   "metadata": {
    "execution": {
     "iopub.execute_input": "2024-11-28T20:11:01.111639Z",
     "iopub.status.busy": "2024-11-28T20:11:01.111459Z",
     "iopub.status.idle": "2024-11-28T20:11:01.114821Z",
     "shell.execute_reply": "2024-11-28T20:11:01.114343Z"
    }
   },
   "outputs": [
    {
     "name": "stdout",
     "output_type": "stream",
     "text": [
      "512.0\n",
      "256.0\n",
      "128.0\n",
      "64.0\n",
      "32.0\n",
      "16.0\n",
      "8.0\n",
      "4.0\n",
      "2.0\n",
      "1.0\n"
     ]
    }
   ],
   "source": [
    "nombre = 1024\n",
    "\n",
    "while (nombre > 1):\n",
    "    nombre = nombre / 2\n",
    "    print(nombre)"
   ]
  },
  {
   "cell_type": "markdown",
   "metadata": {},
   "source": [
    "## Interruption des boucles\n",
    "Vous pouvez interrompre les boucles à des points spécifiques de votre code en utilisant la commande `break` :"
   ]
  },
  {
   "cell_type": "code",
   "execution_count": 11,
   "metadata": {
    "execution": {
     "iopub.execute_input": "2024-11-28T20:11:01.116717Z",
     "iopub.status.busy": "2024-11-28T20:11:01.116373Z",
     "iopub.status.idle": "2024-11-28T20:11:01.119813Z",
     "shell.execute_reply": "2024-11-28T20:11:01.119249Z"
    }
   },
   "outputs": [
    {
     "name": "stdout",
     "output_type": "stream",
     "text": [
      "512.0\n",
      "256.0\n",
      "128.0\n",
      "64.0\n",
      "32.0\n",
      "16.0\n",
      "8.0\n",
      "4.0\n",
      "2.0\n",
      "1.0\n",
      "0.5\n"
     ]
    }
   ],
   "source": [
    "nombre = 1024\n",
    "\n",
    "while (True):\n",
    "    nombre = nombre / 2\n",
    "    print(nombre)\n",
    "    \n",
    "    if nombre < 1:\n",
    "        break;"
   ]
  },
  {
   "cell_type": "code",
   "execution_count": 12,
   "metadata": {
    "execution": {
     "iopub.execute_input": "2024-11-28T20:11:01.121728Z",
     "iopub.status.busy": "2024-11-28T20:11:01.121363Z",
     "iopub.status.idle": "2024-11-28T20:11:01.124257Z",
     "shell.execute_reply": "2024-11-28T20:11:01.123743Z"
    }
   },
   "outputs": [
    {
     "name": "stdout",
     "output_type": "stream",
     "text": [
      "0\n",
      "1\n",
      "2\n",
      "3\n",
      "4\n",
      "5\n",
      "6\n"
     ]
    }
   ],
   "source": [
    "for i in range(10):\n",
    "    print(i)\n",
    "    if i > 5:\n",
    "        break"
   ]
  },
  {
   "cell_type": "markdown",
   "metadata": {},
   "source": [
    "## Sauter des itérations dans les boucles\n",
    "Si vous voulez sauter des itérations, vous pouvez utiliser l'instruction `continue`. Cela a souvent du sens en combinaison avec un `if` :"
   ]
  },
  {
   "cell_type": "code",
   "execution_count": 13,
   "metadata": {
    "execution": {
     "iopub.execute_input": "2024-11-28T20:11:01.126067Z",
     "iopub.status.busy": "2024-11-28T20:11:01.125741Z",
     "iopub.status.idle": "2024-11-28T20:11:01.129097Z",
     "shell.execute_reply": "2024-11-28T20:11:01.128519Z"
    }
   },
   "outputs": [
    {
     "name": "stdout",
     "output_type": "stream",
     "text": [
      "0\n",
      "1\n",
      "2\n",
      "7\n",
      "8\n",
      "9\n"
     ]
    }
   ],
   "source": [
    "for i in range(0, 10):\n",
    "    if i >= 3 and i <= 6:\n",
    "        continue\n",
    "    print(i)"
   ]
  },
  {
   "cell_type": "markdown",
   "metadata": {},
   "source": [
    "## Exercice 1\n",
    "Supposons que vous ayez une liste de noms de fichiers et que vous vouliez faire quelque chose avec eux, par exemple les imprimer. Programmez une boucle for qui imprime tous les noms de fichiers qui se terminent par \"tif\"."
   ]
  },
  {
   "cell_type": "code",
   "execution_count": 14,
   "metadata": {
    "execution": {
     "iopub.execute_input": "2024-11-28T20:11:01.130941Z",
     "iopub.status.busy": "2024-11-28T20:11:01.130618Z",
     "iopub.status.idle": "2024-11-28T20:11:01.133398Z",
     "shell.execute_reply": "2024-11-28T20:11:01.132849Z"
    }
   },
   "outputs": [],
   "source": [
    "noms_fichiers = ['dataset1.tif', 'dataset2.tif', 'summary.csv', 'readme.md', 'blobs.tif']"
   ]
  },
  {
   "cell_type": "code",
   "execution_count": null,
   "metadata": {},
   "outputs": [],
   "source": []
  },
  {
   "cell_type": "markdown",
   "metadata": {},
   "source": [
    "## Exercice 2\n",
    "Supposons que vous ayez une liste de rayons de cercles. Faites un tableau (dictionnaire) avec deux colonnes : rayon et surface."
   ]
  },
  {
   "cell_type": "code",
   "execution_count": 15,
   "metadata": {
    "execution": {
     "iopub.execute_input": "2024-11-28T20:11:01.135440Z",
     "iopub.status.busy": "2024-11-28T20:11:01.135097Z",
     "iopub.status.idle": "2024-11-28T20:11:01.137526Z",
     "shell.execute_reply": "2024-11-28T20:11:01.137078Z"
    }
   },
   "outputs": [],
   "source": [
    "rayons = [3, 15, 67, 33, 12, 8, 12, 9, 22]"
   ]
  },
  {
   "cell_type": "code",
   "execution_count": null,
   "metadata": {},
   "outputs": [],
   "source": []
  }
 ],
 "metadata": {
  "language_info": {
   "codemirror_mode": {
    "name": "ipython",
    "version": 3
   },
   "file_extension": ".py",
   "mimetype": "text/x-python",
   "name": "python",
   "nbconvert_exporter": "python",
   "pygments_lexer": "ipython3",
   "version": "3.12.7"
  }
 },
 "nbformat": 4,
 "nbformat_minor": 4
}
