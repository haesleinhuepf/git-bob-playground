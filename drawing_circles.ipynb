{
 "cells": [
  {
   "cell_type": "markdown",
   "metadata": {},
   "source": [
    "# Drawing circles in random positions\n",
    "First, let's import the necessary libraries"
   ]
  },
  {
   "cell_type": "code",
   "execution_count": 1,
   "metadata": {
    "execution": {
     "iopub.execute_input": "2025-01-24T20:23:26.852581Z",
     "iopub.status.busy": "2025-01-24T20:23:26.852403Z",
     "iopub.status.idle": "2025-01-24T20:23:27.544806Z",
     "shell.execute_reply": "2025-01-24T20:23:27.544251Z"
    }
   },
   "outputs": [],
   "source": [
    "import numpy as np\n",
    "import matplotlib.pyplot as plt\n",
    "from matplotlib.patches import Circle"
   ]
  },
  {
   "cell_type": "markdown",
   "metadata": {},
   "source": [
    "Create a figure and axis to draw on"
   ]
  },
  {
   "cell_type": "code",
   "execution_count": 2,
   "metadata": {
    "execution": {
     "iopub.execute_input": "2025-01-24T20:23:27.546878Z",
     "iopub.status.busy": "2025-01-24T20:23:27.546644Z",
     "iopub.status.idle": "2025-01-24T20:23:27.632983Z",
     "shell.execute_reply": "2025-01-24T20:23:27.632491Z"
    }
   },
   "outputs": [
    {
     "data": {
      "text/plain": [
       "(-1.2, 1.2)"
      ]
     },
     "execution_count": 2,
     "metadata": {},
     "output_type": "execute_result"
    },
    {
     "data": {
      "image/png": "[encoded data removed]",
      "text/plain": [
       "<Figure size 640x480 with 1 Axes>"
      ]
     },
     "metadata": {},
     "output_type": "display_data"
    }
   ],
   "source": [
    "fig, ax = plt.subplots()\n",
    "ax.set_aspect('equal')\n",
    "ax.set_xlim(-1.2, 1.2)\n",
    "ax.set_ylim(-1.2, 1.2)"
   ]
  },
  {
   "cell_type": "markdown",
   "metadata": {},
   "source": [
    "Draw the large circle"
   ]
  },
  {
   "cell_type": "code",
   "execution_count": 3,
   "metadata": {
    "execution": {
     "iopub.execute_input": "2025-01-24T20:23:27.634944Z",
     "iopub.status.busy": "2025-01-24T20:23:27.634609Z",
     "iopub.status.idle": "2025-01-24T20:23:27.642228Z",
     "shell.execute_reply": "2025-01-24T20:23:27.641651Z"
    }
   },
   "outputs": [
    {
     "data": {
      "text/plain": [
       "<matplotlib.patches.Circle at 0x7fad09327a10>"
      ]
     },
     "execution_count": 3,
     "metadata": {},
     "output_type": "execute_result"
    }
   ],
   "source": [
    "main_circle = Circle((0, 0), 1, fill=False, color='black')\n",
    "ax.add_patch(main_circle)"
   ]
  },
  {
   "cell_type": "markdown",
   "metadata": {},
   "source": [
    "Generate random positions for small circles inside the main circle"
   ]
  },
  {
   "cell_type": "code",
   "execution_count": 4,
   "metadata": {
    "execution": {
     "iopub.execute_input": "2025-01-24T20:23:27.644161Z",
     "iopub.status.busy": "2025-01-24T20:23:27.643818Z",
     "iopub.status.idle": "2025-01-24T20:23:27.676567Z",
     "shell.execute_reply": "2025-01-24T20:23:27.675950Z"
    }
   },
   "outputs": [],
   "source": [
    "n_circles = 10\n",
    "small_radius = 0.1\n",
    "\n",
    "for _ in range(n_circles):\n",
    "    # Generate random angle and radius\n",
    "    angle = np.random.uniform(0, 2*np.pi)\n",
    "    radius = np.random.uniform(0, 1-small_radius)\n",
    "    \n",
    "    # Convert to x,y coordinates\n",
    "    x = radius * np.cos(angle)\n",
    "    y = radius * np.sin(angle)\n",
    "    \n",
    "    small_circle = Circle((x, y), small_radius, fill=False, color='blue')\n",
    "    ax.add_patch(small_circle)"
   ]
  },
  {
   "cell_type": "markdown",
   "metadata": {},
   "source": [
    "Save the result"
   ]
  },
  {
   "cell_type": "code",
   "execution_count": 5,
   "metadata": {
    "execution": {
     "iopub.execute_input": "2025-01-24T20:23:27.678572Z",
     "iopub.status.busy": "2025-01-24T20:23:27.678180Z",
     "iopub.status.idle": "2025-01-24T20:23:27.766019Z",
     "shell.execute_reply": "2025-01-24T20:23:27.765408Z"
    }
   },
   "outputs": [],
   "source": [
    "plt.savefig('random_circles.png', dpi=300, bbox_inches='tight')\n",
    "plt.close()"
   ]
  }
 ],
 "metadata": {
  "language_info": {
   "codemirror_mode": {
    "name": "ipython",
    "version": 3
   },
   "file_extension": ".py",
   "mimetype": "text/x-python",
   "name": "python",
   "nbconvert_exporter": "python",
   "pygments_lexer": "ipython3",
   "version": "3.12.8"
  }
 },
 "nbformat": 4,
 "nbformat_minor": 4
}
