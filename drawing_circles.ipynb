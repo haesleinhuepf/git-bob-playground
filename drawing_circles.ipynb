{
 "cells": [
  {
   "cell_type": "markdown",
   "metadata": {},
   "source": [
    "# Converting SVG to PNG using CairoSVG\n",
    "\n",
    "First, let's install and import the required library"
   ]
  },
  {
   "cell_type": "code",
   "execution_count": 1,
   "metadata": {
    "execution": {
     "iopub.execute_input": "2025-01-24T20:50:45.877215Z",
     "iopub.status.busy": "2025-01-24T20:50:45.877036Z",
     "iopub.status.idle": "2025-01-24T20:50:46.970325Z",
     "shell.execute_reply": "2025-01-24T20:50:46.969568Z"
    }
   },
   "outputs": [
    {
     "name": "stdout",
     "output_type": "stream",
     "text": [
      "Requirement already satisfied: cairosvg in /opt/hostedtoolcache/Python/3.12.8/x64/lib/python3.12/site-packages (2.7.1)\r\n",
      "Requirement already satisfied: cairocffi in /opt/hostedtoolcache/Python/3.12.8/x64/lib/python3.12/site-packages (from cairosvg) (1.7.1)\r\n",
      "Requirement already satisfied: cssselect2 in /opt/hostedtoolcache/Python/3.12.8/x64/lib/python3.12/site-packages (from cairosvg) (0.7.0)\r\n",
      "Requirement already satisfied: defusedxml in /opt/hostedtoolcache/Python/3.12.8/x64/lib/python3.12/site-packages (from cairosvg) (0.7.1)\r\n",
      "Requirement already satisfied: pillow in /opt/hostedtoolcache/Python/3.12.8/x64/lib/python3.12/site-packages (from cairosvg) (11.1.0)\r\n",
      "Requirement already satisfied: tinycss2 in /opt/hostedtoolcache/Python/3.12.8/x64/lib/python3.12/site-packages (from cairosvg) (1.4.0)\r\n",
      "Requirement already satisfied: cffi>=1.1.0 in /opt/hostedtoolcache/Python/3.12.8/x64/lib/python3.12/site-packages (from cairocffi->cairosvg) (1.17.1)\r\n",
      "Requirement already satisfied: webencodings in /opt/hostedtoolcache/Python/3.12.8/x64/lib/python3.12/site-packages (from cssselect2->cairosvg) (0.5.1)\r\n",
      "Requirement already satisfied: pycparser in /opt/hostedtoolcache/Python/3.12.8/x64/lib/python3.12/site-packages (from cffi>=1.1.0->cairocffi->cairosvg) (2.22)\r\n"
     ]
    }
   ],
   "source": [
    "!pip install cairosvg"
   ]
  },
  {
   "cell_type": "code",
   "execution_count": 2,
   "metadata": {
    "execution": {
     "iopub.execute_input": "2025-01-24T20:50:46.972595Z",
     "iopub.status.busy": "2025-01-24T20:50:46.972396Z",
     "iopub.status.idle": "2025-01-24T20:50:47.190265Z",
     "shell.execute_reply": "2025-01-24T20:50:47.189754Z"
    }
   },
   "outputs": [],
   "source": [
    "import cairosvg"
   ]
  },
  {
   "cell_type": "markdown",
   "metadata": {},
   "source": [
    "First, let's create a simple SVG content"
   ]
  },
  {
   "cell_type": "code",
   "execution_count": 3,
   "metadata": {
    "execution": {
     "iopub.execute_input": "2025-01-24T20:50:47.192479Z",
     "iopub.status.busy": "2025-01-24T20:50:47.192282Z",
     "iopub.status.idle": "2025-01-24T20:50:47.195136Z",
     "shell.execute_reply": "2025-01-24T20:50:47.194670Z"
    }
   },
   "outputs": [],
   "source": [
    "svg_content = '''\n",
    "<svg width=\"100\" height=\"100\" xmlns=\"http://www.w3.org/2000/svg\">\n",
    "    <circle cx=\"50\" cy=\"50\" r=\"40\" stroke=\"black\" stroke-width=\"3\" fill=\"red\"/>\n",
    "</svg>\n",
    "'''"
   ]
  },
  {
   "cell_type": "markdown",
   "metadata": {},
   "source": [
    "Now, let's convert the SVG content to PNG"
   ]
  },
  {
   "cell_type": "code",
   "execution_count": 4,
   "metadata": {
    "execution": {
     "iopub.execute_input": "2025-01-24T20:50:47.196892Z",
     "iopub.status.busy": "2025-01-24T20:50:47.196533Z",
     "iopub.status.idle": "2025-01-24T20:50:47.217089Z",
     "shell.execute_reply": "2025-01-24T20:50:47.216439Z"
    }
   },
   "outputs": [],
   "source": [
    "cairosvg.svg2png(bytestring=svg_content.encode('utf-8'), write_to='circle.png')"
   ]
  }
 ],
 "metadata": {
  "language_info": {
   "codemirror_mode": {
    "name": "ipython",
    "version": 3
   },
   "file_extension": ".py",
   "mimetype": "text/x-python",
   "name": "python",
   "nbconvert_exporter": "python",
   "pygments_lexer": "ipython3",
   "version": "3.12.8"
  }
 },
 "nbformat": 4,
 "nbformat_minor": 4
}
