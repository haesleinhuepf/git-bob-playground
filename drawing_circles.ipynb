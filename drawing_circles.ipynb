{
 "cells": [
  {
   "cell_type": "markdown",
   "metadata": {},
   "source": [
    "# Drawing a Smiley Face\n",
    "\n",
    "First, let's import the necessary libraries"
   ]
  },
  {
   "cell_type": "code",
   "execution_count": 1,
   "metadata": {
    "execution": {
     "iopub.execute_input": "2024-10-27T07:54:13.487612Z",
     "iopub.status.busy": "2024-10-27T07:54:13.487178Z",
     "iopub.status.idle": "2024-10-27T07:54:14.203220Z",
     "shell.execute_reply": "2024-10-27T07:54:14.202634Z"
    }
   },
   "outputs": [],
   "source": [
    "import matplotlib.pyplot as plt\n",
    "import numpy as np"
   ]
  },
  {
   "cell_type": "markdown",
   "metadata": {},
   "source": [
    "Create a figure and draw the smiley face using circles and an arc"
   ]
  },
  {
   "cell_type": "code",
   "execution_count": 2,
   "metadata": {
    "execution": {
     "iopub.execute_input": "2024-10-27T07:54:14.205531Z",
     "iopub.status.busy": "2024-10-27T07:54:14.205097Z",
     "iopub.status.idle": "2024-10-27T07:54:14.342133Z",
     "shell.execute_reply": "2024-10-27T07:54:14.341501Z"
    }
   },
   "outputs": [],
   "source": [
    "fig, ax = plt.subplots(figsize=(6,6))\n",
    "\n",
    "# Draw the main circle (face)\n",
    "face = plt.Circle((0.5, 0.5), 0.4, fill=False)\n",
    "\n",
    "# Draw two smaller circles (eyes)\n",
    "left_eye = plt.Circle((0.35, 0.6), 0.08, fill=False)\n",
    "right_eye = plt.Circle((0.65, 0.6), 0.08, fill=False)\n",
    "\n",
    "# Draw a smiling mouth (upward curved arc)\n",
    "mouth = plt.matplotlib.patches.Arc((0.5, 0.4), 0.3, 0.2,\n",
    "                                  theta1=180, theta2=360)\n",
    "\n",
    "# Add all elements to the plot\n",
    "ax.add_patch(face)\n",
    "ax.add_patch(left_eye)\n",
    "ax.add_patch(right_eye)\n",
    "ax.add_patch(mouth)\n",
    "\n",
    "# Set the plot properties\n",
    "ax.set_xlim(0, 1)\n",
    "ax.set_ylim(0, 1)\n",
    "ax.set_aspect('equal')\n",
    "ax.axis('off')\n",
    "\n",
    "# Save the plot\n",
    "plt.savefig('smiley_face.png', bbox_inches='tight', dpi=300)\n",
    "plt.close()"
   ]
  }
 ],
 "metadata": {
  "language_info": {
   "codemirror_mode": {
    "name": "ipython",
    "version": 3
   },
   "file_extension": ".py",
   "mimetype": "text/x-python",
   "name": "python",
   "nbconvert_exporter": "python",
   "pygments_lexer": "ipython3",
   "version": "3.12.7"
  }
 },
 "nbformat": 4,
 "nbformat_minor": 4
}
