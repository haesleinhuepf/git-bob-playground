{
 "cells": [
  {
   "cell_type": "markdown",
   "metadata": {},
   "source": [
    "# Convert SVG to PNG using CairoSVG\n",
    "\n",
    "First, let's install and import the required library"
   ]
  },
  {
   "cell_type": "code",
   "execution_count": 1,
   "metadata": {
    "execution": {
     "iopub.execute_input": "2025-01-24T21:07:51.490791Z",
     "iopub.status.busy": "2025-01-24T21:07:51.490512Z",
     "iopub.status.idle": "2025-01-24T21:07:52.614056Z",
     "shell.execute_reply": "2025-01-24T21:07:52.613273Z"
    }
   },
   "outputs": [
    {
     "name": "stdout",
     "output_type": "stream",
     "text": [
      "Requirement already satisfied: cairosvg in /opt/hostedtoolcache/Python/3.12.8/x64/lib/python3.12/site-packages (2.7.1)\r\n",
      "Requirement already satisfied: cairocffi in /opt/hostedtoolcache/Python/3.12.8/x64/lib/python3.12/site-packages (from cairosvg) (1.7.1)\r\n",
      "Requirement already satisfied: cssselect2 in /opt/hostedtoolcache/Python/3.12.8/x64/lib/python3.12/site-packages (from cairosvg) (0.7.0)\r\n",
      "Requirement already satisfied: defusedxml in /opt/hostedtoolcache/Python/3.12.8/x64/lib/python3.12/site-packages (from cairosvg) (0.7.1)\r\n",
      "Requirement already satisfied: pillow in /opt/hostedtoolcache/Python/3.12.8/x64/lib/python3.12/site-packages (from cairosvg) (11.1.0)\r\n",
      "Requirement already satisfied: tinycss2 in /opt/hostedtoolcache/Python/3.12.8/x64/lib/python3.12/site-packages (from cairosvg) (1.4.0)\r\n",
      "Requirement already satisfied: cffi>=1.1.0 in /opt/hostedtoolcache/Python/3.12.8/x64/lib/python3.12/site-packages (from cairocffi->cairosvg) (1.17.1)\r\n",
      "Requirement already satisfied: webencodings in /opt/hostedtoolcache/Python/3.12.8/x64/lib/python3.12/site-packages (from cssselect2->cairosvg) (0.5.1)\r\n",
      "Requirement already satisfied: pycparser in /opt/hostedtoolcache/Python/3.12.8/x64/lib/python3.12/site-packages (from cffi>=1.1.0->cairocffi->cairosvg) (2.22)\r\n"
     ]
    }
   ],
   "source": [
    "!pip install cairosvg"
   ]
  },
  {
   "cell_type": "code",
   "execution_count": 2,
   "metadata": {
    "execution": {
     "iopub.execute_input": "2025-01-24T21:07:52.616665Z",
     "iopub.status.busy": "2025-01-24T21:07:52.616193Z",
     "iopub.status.idle": "2025-01-24T21:07:52.842120Z",
     "shell.execute_reply": "2025-01-24T21:07:52.841468Z"
    }
   },
   "outputs": [],
   "source": [
    "import cairosvg"
   ]
  },
  {
   "cell_type": "markdown",
   "metadata": {},
   "source": [
    "First create a simple SVG file with random circles"
   ]
  },
  {
   "cell_type": "code",
   "execution_count": 3,
   "metadata": {
    "execution": {
     "iopub.execute_input": "2025-01-24T21:07:52.844576Z",
     "iopub.status.busy": "2025-01-24T21:07:52.844214Z",
     "iopub.status.idle": "2025-01-24T21:07:52.847603Z",
     "shell.execute_reply": "2025-01-24T21:07:52.847077Z"
    }
   },
   "outputs": [],
   "source": [
    "svg_content = '''\n",
    "<svg width=\"200\" height=\"200\" xmlns=\"http://www.w3.org/2000/svg\">\n",
    "    <circle cx=\"50\" cy=\"50\" r=\"40\" stroke=\"black\" stroke-width=\"3\" fill=\"red\" />\n",
    "    <circle cx=\"150\" cy=\"50\" r=\"30\" stroke=\"black\" stroke-width=\"3\" fill=\"blue\" />\n",
    "    <circle cx=\"100\" cy=\"150\" r=\"45\" stroke=\"black\" stroke-width=\"3\" fill=\"green\" />\n",
    "</svg>\n",
    "'''\n",
    "\n",
    "with open('random_circles.svg', 'w') as f:\n",
    "    f.write(svg_content)"
   ]
  },
  {
   "cell_type": "markdown",
   "metadata": {},
   "source": [
    "Load the SVG file and convert it to PNG"
   ]
  },
  {
   "cell_type": "code",
   "execution_count": 4,
   "metadata": {
    "execution": {
     "iopub.execute_input": "2025-01-24T21:07:52.849554Z",
     "iopub.status.busy": "2025-01-24T21:07:52.849222Z",
     "iopub.status.idle": "2025-01-24T21:07:52.898770Z",
     "shell.execute_reply": "2025-01-24T21:07:52.898117Z"
    }
   },
   "outputs": [],
   "source": [
    "cairosvg.svg2png(url='random_circles.svg', write_to='random_circles.png')"
   ]
  }
 ],
 "metadata": {
  "language_info": {
   "codemirror_mode": {
    "name": "ipython",
    "version": 3
   },
   "file_extension": ".py",
   "mimetype": "text/x-python",
   "name": "python",
   "nbconvert_exporter": "python",
   "pygments_lexer": "ipython3",
   "version": "3.12.8"
  }
 },
 "nbformat": 4,
 "nbformat_minor": 4
}
