{
 "cells": [
  {
   "cell_type": "markdown",
   "metadata": {},
   "source": [
    "# UMAP Analysis of Synthetic Cell Measurements\n",
    "\n",
    "In this notebook, we will create a synthetic dataset of cell measurements using various parameters. We will then perform UMAP (Uniform Manifold Approximation and Projection) on the dataset and visualize the results using seaborn."
   ]
  },
  {
   "cell_type": "markdown",
   "metadata": {},
   "source": [
    "## Import Libraries"
   ]
  },
  {
   "cell_type": "code",
   "execution_count": 1,
   "metadata": {
    "execution": {
     "iopub.execute_input": "2024-10-21T13:15:59.372542Z",
     "iopub.status.busy": "2024-10-21T13:15:59.372346Z",
     "iopub.status.idle": "2024-10-21T13:16:13.364671Z",
     "shell.execute_reply": "2024-10-21T13:16:13.364089Z"
    }
   },
   "outputs": [],
   "source": [
    "import numpy as np\n",
    "import pandas as pd\n",
    "import seaborn as sns\n",
    "import umap\n",
    "from sklearn.preprocessing import StandardScaler\n",
    "import matplotlib.pyplot as plt"
   ]
  },
  {
   "cell_type": "markdown",
   "metadata": {},
   "source": [
    "## Generate Synthetic Data\n",
    "\n",
    "We will create a synthetic dataset of 100 cells with the following parameters:\n",
    "- Intensity\n",
    "- Aspect Ratio\n",
    "- Perimeter\n",
    "- Elongation"
   ]
  },
  {
   "cell_type": "code",
   "execution_count": 2,
   "metadata": {
    "execution": {
     "iopub.execute_input": "2024-10-21T13:16:13.366965Z",
     "iopub.status.busy": "2024-10-21T13:16:13.366456Z",
     "iopub.status.idle": "2024-10-21T13:16:13.378919Z",
     "shell.execute_reply": "2024-10-21T13:16:13.378294Z"
    }
   },
   "outputs": [
    {
     "data": {
      "text/html": [
       "<div>\n",
       "<style scoped>\n",
       "    .dataframe tbody tr th:only-of-type {\n",
       "        vertical-align: middle;\n",
       "    }\n",
       "\n",
       "    .dataframe tbody tr th {\n",
       "        vertical-align: top;\n",
       "    }\n",
       "\n",
       "    .dataframe thead th {\n",
       "        text-align: right;\n",
       "    }\n",
       "</style>\n",
       "<table border=\"1\" class=\"dataframe\">\n",
       "  <thead>\n",
       "    <tr style=\"text-align: right;\">\n",
       "      <th></th>\n",
       "      <th>intensity</th>\n",
       "      <th>aspect_ratio</th>\n",
       "      <th>perimeter</th>\n",
       "      <th>elongation</th>\n",
       "    </tr>\n",
       "  </thead>\n",
       "  <tbody>\n",
       "    <tr>\n",
       "      <th>0</th>\n",
       "      <td>154.881350</td>\n",
       "      <td>2.355633</td>\n",
       "      <td>45.589794</td>\n",
       "      <td>1.859833</td>\n",
       "    </tr>\n",
       "    <tr>\n",
       "      <th>1</th>\n",
       "      <td>171.518937</td>\n",
       "      <td>1.540016</td>\n",
       "      <td>64.817174</td>\n",
       "      <td>1.661071</td>\n",
       "    </tr>\n",
       "    <tr>\n",
       "      <th>2</th>\n",
       "      <td>160.276338</td>\n",
       "      <td>2.470388</td>\n",
       "      <td>48.887592</td>\n",
       "      <td>0.999718</td>\n",
       "    </tr>\n",
       "    <tr>\n",
       "      <th>3</th>\n",
       "      <td>154.488318</td>\n",
       "      <td>2.924377</td>\n",
       "      <td>38.980184</td>\n",
       "      <td>0.621652</td>\n",
       "    </tr>\n",
       "    <tr>\n",
       "      <th>4</th>\n",
       "      <td>142.365480</td>\n",
       "      <td>1.497506</td>\n",
       "      <td>31.233936</td>\n",
       "      <td>1.110862</td>\n",
       "    </tr>\n",
       "  </tbody>\n",
       "</table>\n",
       "</div>"
      ],
      "text/plain": [
       "    intensity  aspect_ratio  perimeter  elongation\n",
       "0  154.881350      2.355633  45.589794    1.859833\n",
       "1  171.518937      1.540016  64.817174    1.661071\n",
       "2  160.276338      2.470388  48.887592    0.999718\n",
       "3  154.488318      2.924377  38.980184    0.621652\n",
       "4  142.365480      1.497506  31.233936    1.110862"
      ]
     },
     "execution_count": 2,
     "metadata": {},
     "output_type": "execute_result"
    }
   ],
   "source": [
    "np.random.seed(0)\n",
    "n_samples = 100\n",
    "\n",
    "data = pd.DataFrame({\n",
    "    'intensity': np.random.uniform(100, 200, n_samples),\n",
    "    'aspect_ratio': np.random.uniform(1.0, 3.0, n_samples),\n",
    "    'perimeter': np.random.uniform(30, 80, n_samples),\n",
    "    'elongation': np.random.uniform(0.5, 2.0, n_samples)\n",
    "})\n",
    "\n",
    "data.head()"
   ]
  },
  {
   "cell_type": "markdown",
   "metadata": {},
   "source": [
    "## Standardize Data\n",
    "\n",
    "Standardizing the data before applying UMAP to ensure each feature contributes equally."
   ]
  },
  {
   "cell_type": "code",
   "execution_count": 3,
   "metadata": {
    "execution": {
     "iopub.execute_input": "2024-10-21T13:16:13.414323Z",
     "iopub.status.busy": "2024-10-21T13:16:13.413870Z",
     "iopub.status.idle": "2024-10-21T13:16:13.419243Z",
     "shell.execute_reply": "2024-10-21T13:16:13.418754Z"
    }
   },
   "outputs": [],
   "source": [
    "scaler = StandardScaler()\n",
    "data_scaled = scaler.fit_transform(data)\n"
   ]
  },
  {
   "cell_type": "markdown",
   "metadata": {},
   "source": [
    "## Apply UMAP\n",
    "\n",
    "We will reduce the dimensionality of the dataset to 2 using UMAP."
   ]
  },
  {
   "cell_type": "code",
   "execution_count": 4,
   "metadata": {
    "execution": {
     "iopub.execute_input": "2024-10-21T13:16:13.421090Z",
     "iopub.status.busy": "2024-10-21T13:16:13.420731Z",
     "iopub.status.idle": "2024-10-21T13:16:21.444662Z",
     "shell.execute_reply": "2024-10-21T13:16:21.444084Z"
    }
   },
   "outputs": [
    {
     "name": "stderr",
     "output_type": "stream",
     "text": [
      "/opt/hostedtoolcache/Python/3.12.7/x64/lib/python3.12/site-packages/umap/umap_.py:1945: UserWarning: n_jobs value 1 overridden to 1 by setting random_state. Use no seed for parallelism.\n",
      "  warn(f\"n_jobs value {self.n_jobs} overridden to 1 by setting random_state. Use no seed for parallelism.\")\n"
     ]
    }
   ],
   "source": [
    "umap_model = umap.UMAP(n_components=2, random_state=42)\n",
    "umap_embedding = umap_model.fit_transform(data_scaled)\n"
   ]
  },
  {
   "cell_type": "markdown",
   "metadata": {},
   "source": [
    "## Add UMAP Results Back to DataFrame"
   ]
  },
  {
   "cell_type": "code",
   "execution_count": 5,
   "metadata": {
    "execution": {
     "iopub.execute_input": "2024-10-21T13:16:21.446676Z",
     "iopub.status.busy": "2024-10-21T13:16:21.446372Z",
     "iopub.status.idle": "2024-10-21T13:16:21.455087Z",
     "shell.execute_reply": "2024-10-21T13:16:21.454634Z"
    }
   },
   "outputs": [
    {
     "data": {
      "text/html": [
       "<div>\n",
       "<style scoped>\n",
       "    .dataframe tbody tr th:only-of-type {\n",
       "        vertical-align: middle;\n",
       "    }\n",
       "\n",
       "    .dataframe tbody tr th {\n",
       "        vertical-align: top;\n",
       "    }\n",
       "\n",
       "    .dataframe thead th {\n",
       "        text-align: right;\n",
       "    }\n",
       "</style>\n",
       "<table border=\"1\" class=\"dataframe\">\n",
       "  <thead>\n",
       "    <tr style=\"text-align: right;\">\n",
       "      <th></th>\n",
       "      <th>intensity</th>\n",
       "      <th>aspect_ratio</th>\n",
       "      <th>perimeter</th>\n",
       "      <th>elongation</th>\n",
       "      <th>UMAP1</th>\n",
       "      <th>UMAP2</th>\n",
       "    </tr>\n",
       "  </thead>\n",
       "  <tbody>\n",
       "    <tr>\n",
       "      <th>0</th>\n",
       "      <td>154.881350</td>\n",
       "      <td>2.355633</td>\n",
       "      <td>45.589794</td>\n",
       "      <td>1.859833</td>\n",
       "      <td>9.783914</td>\n",
       "      <td>5.800027</td>\n",
       "    </tr>\n",
       "    <tr>\n",
       "      <th>1</th>\n",
       "      <td>171.518937</td>\n",
       "      <td>1.540016</td>\n",
       "      <td>64.817174</td>\n",
       "      <td>1.661071</td>\n",
       "      <td>7.947526</td>\n",
       "      <td>5.991787</td>\n",
       "    </tr>\n",
       "    <tr>\n",
       "      <th>2</th>\n",
       "      <td>160.276338</td>\n",
       "      <td>2.470388</td>\n",
       "      <td>48.887592</td>\n",
       "      <td>0.999718</td>\n",
       "      <td>7.244709</td>\n",
       "      <td>4.396786</td>\n",
       "    </tr>\n",
       "    <tr>\n",
       "      <th>3</th>\n",
       "      <td>154.488318</td>\n",
       "      <td>2.924377</td>\n",
       "      <td>38.980184</td>\n",
       "      <td>0.621652</td>\n",
       "      <td>7.102713</td>\n",
       "      <td>3.692922</td>\n",
       "    </tr>\n",
       "    <tr>\n",
       "      <th>4</th>\n",
       "      <td>142.365480</td>\n",
       "      <td>1.497506</td>\n",
       "      <td>31.233936</td>\n",
       "      <td>1.110862</td>\n",
       "      <td>8.704943</td>\n",
       "      <td>3.532920</td>\n",
       "    </tr>\n",
       "  </tbody>\n",
       "</table>\n",
       "</div>"
      ],
      "text/plain": [
       "    intensity  aspect_ratio  perimeter  elongation     UMAP1     UMAP2\n",
       "0  154.881350      2.355633  45.589794    1.859833  9.783914  5.800027\n",
       "1  171.518937      1.540016  64.817174    1.661071  7.947526  5.991787\n",
       "2  160.276338      2.470388  48.887592    0.999718  7.244709  4.396786\n",
       "3  154.488318      2.924377  38.980184    0.621652  7.102713  3.692922\n",
       "4  142.365480      1.497506  31.233936    1.110862  8.704943  3.532920"
      ]
     },
     "execution_count": 5,
     "metadata": {},
     "output_type": "execute_result"
    }
   ],
   "source": [
    "data['UMAP1'] = umap_embedding[:, 0]\n",
    "data['UMAP2'] = umap_embedding[:, 1]\n",
    "\n",
    "data.head()"
   ]
  },
  {
   "cell_type": "markdown",
   "metadata": {},
   "source": [
    "## Visualize UMAP Results\n",
    "\n",
    "We will use seaborn to create a scatter plot of the UMAP results."
   ]
  },
  {
   "cell_type": "code",
   "execution_count": 6,
   "metadata": {
    "execution": {
     "iopub.execute_input": "2024-10-21T13:16:21.456756Z",
     "iopub.status.busy": "2024-10-21T13:16:21.456580Z",
     "iopub.status.idle": "2024-10-21T13:16:21.647465Z",
     "shell.execute_reply": "2024-10-21T13:16:21.646868Z"
    }
   },
   "outputs": [
    {
     "data": {
      "image/png": "[encoded data removed]",
      "text/plain": [
       "<Figure size 1000x600 with 1 Axes>"
      ]
     },
     "metadata": {},
     "output_type": "display_data"
    }
   ],
   "source": [
    "plt.figure(figsize=(10, 6))\n",
    "sns.scatterplot(x='UMAP1', y='UMAP2', data=data)\n",
    "plt.title('UMAP Projection of Synthetic Cell Measurements')\n",
    "plt.xlabel('UMAP1')\n",
    "plt.ylabel('UMAP2')\n",
    "plt.savefig('umap_projection.png')\n",
    "plt.show()"
   ]
  }
 ],
 "metadata": {
  "language_info": {
   "codemirror_mode": {
    "name": "ipython",
    "version": 3
   },
   "file_extension": ".py",
   "mimetype": "text/x-python",
   "name": "python",
   "nbconvert_exporter": "python",
   "pygments_lexer": "ipython3",
   "version": "3.12.7"
  }
 },
 "nbformat": 4,
 "nbformat_minor": 4
}
