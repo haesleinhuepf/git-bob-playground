{
 "cells": [
  {
   "cell_type": "markdown",
   "id": "d23f3c1a",
   "metadata": {},
   "source": [
    "# Example of iterating through a range of numbers"
   ]
  },
  {
   "cell_type": "code",
   "execution_count": 1,
   "id": "ad28c9a7-519a-43a4-907d-c0ec7024f723",
   "metadata": {
    "execution": {
     "iopub.execute_input": "2024-12-15T14:39:29.853465Z",
     "iopub.status.busy": "2024-12-15T14:39:29.853074Z",
     "iopub.status.idle": "2024-12-15T14:39:29.856661Z",
     "shell.execute_reply": "2024-12-15T14:39:29.856242Z"
    }
   },
   "outputs": [
    {
     "name": "stdout",
     "output_type": "stream",
     "text": [
      "0\n",
      "1\n",
      "2\n",
      "3\n",
      "4\n",
      "5\n"
     ]
    }
   ],
   "source": [
    "for i in range(6):\n",
    "    print(i)"
   ]
  },
  {
   "cell_type": "markdown",
   "id": "b23f3c1b",
   "metadata": {},
   "source": [
    "# Printing a string"
   ]
  },
  {
   "cell_type": "code",
   "execution_count": 2,
   "id": "8268a01c-f4f8-446d-8c6f-c928a11c8f33",
   "metadata": {
    "execution": {
     "iopub.execute_input": "2024-12-15T14:39:29.858502Z",
     "iopub.status.busy": "2024-12-15T14:39:29.858169Z",
     "iopub.status.idle": "2024-12-15T14:39:29.860926Z",
     "shell.execute_reply": "2024-12-15T14:39:29.860474Z"
    }
   },
   "outputs": [
    {
     "name": "stdout",
     "output_type": "stream",
     "text": [
      "hello world\n"
     ]
    }
   ],
   "source": [
    "print(\"hello world\")"
   ]
  },
  {
   "cell_type": "markdown",
   "id": "c23f3c1c",
   "metadata": {},
   "source": [
    "# Recursive factorial function"
   ]
  },
  {
   "cell_type": "code",
   "execution_count": 3,
   "id": "5bdd1238-2a47-4f25-a0b3-164e52f36671",
   "metadata": {
    "execution": {
     "iopub.execute_input": "2024-12-15T14:39:29.862488Z",
     "iopub.status.busy": "2024-12-15T14:39:29.862332Z",
     "iopub.status.idle": "2024-12-15T14:39:29.866961Z",
     "shell.execute_reply": "2024-12-15T14:39:29.866481Z"
    }
   },
   "outputs": [
    {
     "name": "stdout",
     "output_type": "stream",
     "text": [
      "5! = 120\n",
      "0! = 1\n"
     ]
    }
   ],
   "source": [
    "def factorial_recursive(n):\n",
    "    # check if input is valid\n",
    "    if not isinstance(n, int) or n < 0:\n",
    "        raise ValueError(\"Input must be a non-negative integer\")\n",
    "    \n",
    "    # base cases\n",
    "    if n == 0 or n == 1:\n",
    "        return 1\n",
    "    \n",
    "    # recursive case\n",
    "    return n * factorial_recursive(n - 1)\n",
    "\n",
    "# Example usage\n",
    "print(f\"5! = {factorial_recursive(5)}\")  # should print 120\n",
    "print(f\"0! = {factorial_recursive(0)}\")  # should print 1"
   ]
  },
  {
   "cell_type": "markdown",
   "id": "d23f3c1d",
   "metadata": {},
   "source": [
    "# Creating a numpy array"
   ]
  },
  {
   "cell_type": "code",
   "execution_count": 4,
   "id": "225725bf-6817-4d1c-b3c0-8be8cebd0f58",
   "metadata": {
    "execution": {
     "iopub.execute_input": "2024-12-15T14:39:29.868818Z",
     "iopub.status.busy": "2024-12-15T14:39:29.868470Z",
     "iopub.status.idle": "2024-12-15T14:39:29.918598Z",
     "shell.execute_reply": "2024-12-15T14:39:29.918133Z"
    }
   },
   "outputs": [],
   "source": [
    "import numpy as np\n",
    "image = np.zeros((20, 20))"
   ]
  }
 ],
 "metadata": {
  "language_info": {
   "codemirror_mode": {
    "name": "ipython",
    "version": 3
   },
   "file_extension": ".py",
   "mimetype": "text/x-python",
   "name": "python",
   "nbconvert_exporter": "python",
   "pygments_lexer": "ipython3",
   "version": "3.12.8"
  }
 },
 "nbformat": 4,
 "nbformat_minor": 5
}
