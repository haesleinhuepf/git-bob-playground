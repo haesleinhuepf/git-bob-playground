{
 "cells": [
  {
   "cell_type": "code",
   "execution_count": 1,
   "id": "ad28c9a7-519a-43a4-907d-c0ec7024f723",
   "metadata": {},
   "outputs": [
    {
     "ename": "TypeError",
     "evalue": "'int' object is not iterable",
     "output_type": "error",
     "traceback": [
      "\u001b[1;31m---------------------------------------------------------------------------\u001b[0m",
      "\u001b[1;31mTypeError\u001b[0m                                 Traceback (most recent call last)",
      "Cell \u001b[1;32mIn[1], line 1\u001b[0m\n\u001b[1;32m----> 1\u001b[0m \u001b[38;5;28;43;01mfor\u001b[39;49;00m\u001b[43m \u001b[49m\u001b[43mi\u001b[49m\u001b[43m \u001b[49m\u001b[38;5;129;43;01min\u001b[39;49;00m\u001b[43m \u001b[49m\u001b[38;5;241;43m6\u001b[39;49m\u001b[43m:\u001b[49m\n\u001b[0;32m      2\u001b[0m \u001b[43m    \u001b[49m\u001b[38;5;28;43mprint\u001b[39;49m\u001b[43m(\u001b[49m\u001b[43mi\u001b[49m\u001b[43m)\u001b[49m\n",
      "\u001b[1;31mTypeError\u001b[0m: 'int' object is not iterable"
     ]
    }
   ],
   "source": [
      "for i in range(6):\n",
      "    print(i)"
   ]
  },
  {
   "cell_type": "code",
   "execution_count": null,
   "id": "8268a01c-f4f8-446d-8c6f-c928a11c8f33",
   "metadata": {},
   "outputs": [],
   "source": [
      "print('hello world')"
   ]
  },
  {
   "cell_type": "code",
   "execution_count": null,
   "id": "5bdd1238-2a47-4f25-a0b3-164e52f36671",
   "metadata": {},
   "outputs": [],
   "source": [
    "def factorial_recursive(n):\n",
    "    # check if input is valid\n",
    "    if not isinstance(n, int) or n < 0:\n",
    "        raise ValueError(\"Input must be a non-negative integer\")\n",
    "    \n",
    "    # base cases\n",
    "    if n == 0 or n == 1:\n",
    "        return 1\n",
    "    \n",
    "    # recursive case\n",
      "    return n * factorial_recursive(n - 1)\n",
    "\n",
    "# Example usage\n",
    "print(f\"5! = {factorial_recursive(5)}\")  # should print 120\n",
    "print(f\"0! = {factorial_recursive(0)}\")  # should print 1"
   ]
  },
  {
   "cell_type": "code",
   "execution_count": null,
   "id": "225725bf-6817-4d1c-b3c0-8be8cebd0f58",
   "metadata": {},
   "outputs": [],
   "source": [
      "import numpy as np\n",
      "image = np.zeros((20, 20))"
   ]
  }
 ],
 "metadata": {
  "kernelspec": {
   "display_name": "Python 3 (ipykernel)",
   "language": "python",
   "name": "python3"
  },
  "language_info": {
   "codemirror_mode": {
    "name": "ipython",
    "version": 3
   },
   "file_extension": ".py",
   "mimetype": "text/x-python",
   "name": "python",
   "nbconvert_exporter": "python",
   "pygments_lexer": "ipython3",
   "version": "3.11.10"
  }
 },
 "nbformat": 4,
 "nbformat_minor": 5
}
