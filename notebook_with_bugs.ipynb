{
 "cells": [
  {
   "cell_type": "markdown",
   "id": "5e763f89",
   "metadata": {},
   "source": [
    "Example of iterating over a range"
   ]
  },
  {
   "cell_type": "code",
   "execution_count": 1,
   "id": "ad28c9a7-519a-43a4-907d-c0ec7024f723",
   "metadata": {
    "execution": {
     "iopub.execute_input": "2024-12-15T14:17:50.779979Z",
     "iopub.status.busy": "2024-12-15T14:17:50.779783Z",
     "iopub.status.idle": "2024-12-15T14:17:50.783575Z",
     "shell.execute_reply": "2024-12-15T14:17:50.783135Z"
    }
   },
   "outputs": [
    {
     "name": "stdout",
     "output_type": "stream",
     "text": [
      "0\n",
      "1\n",
      "2\n",
      "3\n",
      "4\n",
      "5\n"
     ]
    }
   ],
   "source": [
    "for i in range(6):\n",
    "    print(i)"
   ]
  },
  {
   "cell_type": "code",
   "execution_count": 2,
   "id": "8268a01c-f4f8-446d-8c6f-c928a11c8f33",
   "metadata": {
    "execution": {
     "iopub.execute_input": "2024-12-15T14:17:50.785151Z",
     "iopub.status.busy": "2024-12-15T14:17:50.784994Z",
     "iopub.status.idle": "2024-12-15T14:17:50.788762Z",
     "shell.execute_reply": "2024-12-15T14:17:50.787980Z"
    }
   },
   "outputs": [
    {
     "ename": "SyntaxError",
     "evalue": "invalid syntax. Perhaps you forgot a comma? (2497053111.py, line 1)",
     "output_type": "error",
     "traceback": [
      "\u001b[0;36m  Cell \u001b[0;32mIn[2], line 1\u001b[0;36m\u001b[0m\n\u001b[0;31m    print(hello world)\u001b[0m\n\u001b[0m          ^\u001b[0m\n\u001b[0;31mSyntaxError\u001b[0m\u001b[0;31m:\u001b[0m invalid syntax. Perhaps you forgot a comma?\n"
     ]
    }
   ],
   "source": [
    "print(hello world)"
   ]
  },
  {
   "cell_type": "code",
   "execution_count": null,
   "id": "5bdd1238-2a47-4f25-a0b3-164e52f36671",
   "metadata": {},
   "outputs": [],
   "source": [
    "def factorial_recursive(n):\n",
    "    # check if input is valid\n",
    "    if not isinstance(n, int) or n < 0:\n",
    "        raise ValueError(\"Input must be a non-negative integer\")\n",
    "    \n",
    "    # base cases\n",
    "    if n == 0 or n == 1:\n",
    "        return 1\n",
    "    \n",
    "    # recursive case\n",
    "    return n * factorial_recursive(n + 1)\n",
    "\n",
    "# Example usage\n",
    "print(f\"5! = {factorial_recursive(5)}\")  # should print 120\n",
    "print(f\"0! = {factorial_recursive(0)}\")  # should print 1"
   ]
  },
  {
   "cell_type": "code",
   "execution_count": null,
   "id": "225725bf-6817-4d1c-b3c0-8be8cebd0f58",
   "metadata": {},
   "outputs": [],
   "source": [
    "image = np.zeros(20, 20)"
   ]
  }
 ],
 "metadata": {
  "language_info": {
   "codemirror_mode": {
    "name": "ipython",
    "version": 3
   },
   "file_extension": ".py",
   "mimetype": "text/x-python",
   "name": "python",
   "nbconvert_exporter": "python",
   "pygments_lexer": "ipython3",
   "version": "3.12.8"
  }
 },
 "nbformat": 4,
 "nbformat_minor": 5
}