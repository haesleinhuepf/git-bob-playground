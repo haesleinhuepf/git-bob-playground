{
 "cells": [
  {
   "cell_type": "markdown",
   "id": "e243d981",
   "metadata": {},
   "source": [
    "Create a loop that iterates from 0 to 5"
   ]
  },
  {
   "cell_type": "code",
   "execution_count": 1,
   "id": "ad28c9a7-519a-43a4-907d-c0ec7024f723",
   "metadata": {
    "execution": {
     "iopub.execute_input": "2024-12-15T14:09:49.421969Z",
     "iopub.status.busy": "2024-12-15T14:09:49.421769Z",
     "iopub.status.idle": "2024-12-15T14:09:49.425400Z",
     "shell.execute_reply": "2024-12-15T14:09:49.424912Z"
    }
   },
   "outputs": [
    {
     "name": "stdout",
     "output_type": "stream",
     "text": [
      "0\n",
      "1\n",
      "2\n",
      "3\n",
      "4\n",
      "5\n"
     ]
    }
   ],
   "source": [
    "for i in range(6):\n",
    "    print(i)"
   ]
  },
  {
   "cell_type": "code",
   "execution_count": 2,
   "id": "8268a01c-f4f8-446d-8c6f-c928a11c8f33",
   "metadata": {
    "execution": {
     "iopub.execute_input": "2024-12-15T14:09:49.427056Z",
     "iopub.status.busy": "2024-12-15T14:09:49.426883Z",
     "iopub.status.idle": "2024-12-15T14:09:49.429684Z",
     "shell.execute_reply": "2024-12-15T14:09:49.429251Z"
    }
   },
   "outputs": [
    {
     "name": "stdout",
     "output_type": "stream",
     "text": [
      "hello world\n"
     ]
    }
   ],
   "source": [
    "print(\"hello world\")"
   ]
  },
  {
   "cell_type": "code",
   "execution_count": 3,
   "id": "5bdd1238-2a47-4f25-a0b3-164e52f36671",
   "metadata": {
    "execution": {
     "iopub.execute_input": "2024-12-15T14:09:49.431443Z",
     "iopub.status.busy": "2024-12-15T14:09:49.431050Z",
     "iopub.status.idle": "2024-12-15T14:09:50.454824Z",
     "shell.execute_reply": "2024-12-15T14:09:50.454076Z"
    }
   },
   "outputs": [
    {
     "ename": "RecursionError",
     "evalue": "maximum recursion depth exceeded",
     "output_type": "error",
     "traceback": [
      "\u001b[0;31m---------------------------------------------------------------------------\u001b[0m",
      "\u001b[0;31mRecursionError\u001b[0m                            Traceback (most recent call last)",
      "Cell \u001b[0;32mIn[3], line 14\u001b[0m\n\u001b[1;32m     11\u001b[0m     \u001b[38;5;28;01mreturn\u001b[39;00m n \u001b[38;5;241m*\u001b[39m factorial_recursive(n \u001b[38;5;241m+\u001b[39m \u001b[38;5;241m1\u001b[39m)\n\u001b[1;32m     13\u001b[0m \u001b[38;5;66;03m# Example usage\u001b[39;00m\n\u001b[0;32m---> 14\u001b[0m \u001b[38;5;28mprint\u001b[39m(\u001b[38;5;124mf\u001b[39m\u001b[38;5;124m\"\u001b[39m\u001b[38;5;124m5! = \u001b[39m\u001b[38;5;132;01m{\u001b[39;00m\u001b[43mfactorial_recursive\u001b[49m\u001b[43m(\u001b[49m\u001b[38;5;241;43m5\u001b[39;49m\u001b[43m)\u001b[49m\u001b[38;5;132;01m}\u001b[39;00m\u001b[38;5;124m\"\u001b[39m)  \u001b[38;5;66;03m# should print 120\u001b[39;00m\n\u001b[1;32m     15\u001b[0m \u001b[38;5;28mprint\u001b[39m(\u001b[38;5;124mf\u001b[39m\u001b[38;5;124m\"\u001b[39m\u001b[38;5;124m0! = \u001b[39m\u001b[38;5;132;01m{\u001b[39;00mfactorial_recursive(\u001b[38;5;241m0\u001b[39m)\u001b[38;5;132;01m}\u001b[39;00m\u001b[38;5;124m\"\u001b[39m)  \u001b[38;5;66;03m# should print 1\u001b[39;00m\n",
      "Cell \u001b[0;32mIn[3], line 11\u001b[0m, in \u001b[0;36mfactorial_recursive\u001b[0;34m(n)\u001b[0m\n\u001b[1;32m      8\u001b[0m     \u001b[38;5;28;01mreturn\u001b[39;00m \u001b[38;5;241m1\u001b[39m\n\u001b[1;32m     10\u001b[0m \u001b[38;5;66;03m# recursive case\u001b[39;00m\n\u001b[0;32m---> 11\u001b[0m \u001b[38;5;28;01mreturn\u001b[39;00m n \u001b[38;5;241m*\u001b[39m \u001b[43mfactorial_recursive\u001b[49m\u001b[43m(\u001b[49m\u001b[43mn\u001b[49m\u001b[43m \u001b[49m\u001b[38;5;241;43m+\u001b[39;49m\u001b[43m \u001b[49m\u001b[38;5;241;43m1\u001b[39;49m\u001b[43m)\u001b[49m\n",
      "Cell \u001b[0;32mIn[3], line 11\u001b[0m, in \u001b[0;36mfactorial_recursive\u001b[0;34m(n)\u001b[0m\n\u001b[1;32m      8\u001b[0m     \u001b[38;5;28;01mreturn\u001b[39;00m \u001b[38;5;241m1\u001b[39m\n\u001b[1;32m     10\u001b[0m \u001b[38;5;66;03m# recursive case\u001b[39;00m\n\u001b[0;32m---> 11\u001b[0m \u001b[38;5;28;01mreturn\u001b[39;00m n \u001b[38;5;241m*\u001b[39m \u001b[43mfactorial_recursive\u001b[49m\u001b[43m(\u001b[49m\u001b[43mn\u001b[49m\u001b[43m \u001b[49m\u001b[38;5;241;43m+\u001b[39;49m\u001b[43m \u001b[49m\u001b[38;5;241;43m1\u001b[39;49m\u001b[43m)\u001b[49m\n",
      "    \u001b[0;31m[... skipping similar frames: factorial_recursive at line 11 (2974 times)]\u001b[0m\n",
      "Cell \u001b[0;32mIn[3], line 11\u001b[0m, in \u001b[0;36mfactorial_recursive\u001b[0;34m(n)\u001b[0m\n\u001b[1;32m      8\u001b[0m     \u001b[38;5;28;01mreturn\u001b[39;00m \u001b[38;5;241m1\u001b[39m\n\u001b[1;32m     10\u001b[0m \u001b[38;5;66;03m# recursive case\u001b[39;00m\n\u001b[0;32m---> 11\u001b[0m \u001b[38;5;28;01mreturn\u001b[39;00m n \u001b[38;5;241m*\u001b[39m \u001b[43mfactorial_recursive\u001b[49m\u001b[43m(\u001b[49m\u001b[43mn\u001b[49m\u001b[43m \u001b[49m\u001b[38;5;241;43m+\u001b[39;49m\u001b[43m \u001b[49m\u001b[38;5;241;43m1\u001b[39;49m\u001b[43m)\u001b[49m\n",
      "\u001b[0;31mRecursionError\u001b[0m: maximum recursion depth exceeded"
     ]
    }
   ],
   "source": [
    "def factorial_recursive(n):\n",
    "    # check if input is valid\n",
    "    if not isinstance(n, int) or n < 0:\n",
    "        raise ValueError(\"Input must be a non-negative integer\")\n",
    "    \n",
    "    # base cases\n",
    "    if n == 0 or n == 1:\n",
    "        return 1\n",
    "    \n",
    "    # recursive case\n",
    "    return n * factorial_recursive(n + 1)\n",
    "\n",
    "# Example usage\n",
    "print(f\"5! = {factorial_recursive(5)}\")  # should print 120\n",
    "print(f\"0! = {factorial_recursive(0)}\")  # should print 1"
   ]
  },
  {
   "cell_type": "code",
   "execution_count": null,
   "id": "225725bf-6817-4d1c-b3c0-8be8cebd0f58",
   "metadata": {},
   "outputs": [],
   "source": [
    "image = np.zeros((20, 20))"
   ]
  }
 ],
 "metadata": {
  "language_info": {
   "codemirror_mode": {
    "name": "ipython",
    "version": 3
   },
   "file_extension": ".py",
   "mimetype": "text/x-python",
   "name": "python",
   "nbconvert_exporter": "python",
   "pygments_lexer": "ipython3",
   "version": "3.12.8"
  }
 },
 "nbformat": 4,
 "nbformat_minor": 5
}