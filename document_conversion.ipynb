{
 "cells": [
  {
   "cell_type": "markdown",
   "metadata": {},
   "source": [
    "# Document Conversion between DOCX and Markdown\n",
    "\n",
    "First, let's import required libraries"
   ]
  },
  {
   "cell_type": "code",
   "execution_count": 1,
   "metadata": {
    "execution": {
     "iopub.execute_input": "2024-11-23T13:10:40.437658Z",
     "iopub.status.busy": "2024-11-23T13:10:40.437459Z",
     "iopub.status.idle": "2024-11-23T13:10:40.616697Z",
     "shell.execute_reply": "2024-11-23T13:10:40.615914Z"
    }
   },
   "outputs": [
    {
     "ename": "ModuleNotFoundError",
     "evalue": "No module named 'pypandoc'",
     "output_type": "error",
     "traceback": [
      "\u001b[0;31m---------------------------------------------------------------------------\u001b[0m",
      "\u001b[0;31mModuleNotFoundError\u001b[0m                       Traceback (most recent call last)",
      "Cell \u001b[0;32mIn[1], line 1\u001b[0m\n\u001b[0;32m----> 1\u001b[0m \u001b[38;5;28;01mimport\u001b[39;00m \u001b[38;5;21;01mpypandoc\u001b[39;00m\n\u001b[1;32m      2\u001b[0m \u001b[38;5;28;01mfrom\u001b[39;00m \u001b[38;5;21;01mdocx\u001b[39;00m \u001b[38;5;28;01mimport\u001b[39;00m Document\n",
      "\u001b[0;31mModuleNotFoundError\u001b[0m: No module named 'pypandoc'"
     ]
    }
   ],
   "source": [
    "import pypandoc\n",
    "from docx import Document"
   ]
  },
  {
   "cell_type": "markdown",
   "metadata": {},
   "source": [
    "Define conversion functions"
   ]
  },
  {
   "cell_type": "code",
   "execution_count": null,
   "metadata": {},
   "outputs": [],
   "source": [
    "def docx_to_markdown(docx_path, output_path):\n",
    "    \"\"\"Convert docx to markdown\"\"\"\n",
    "    pypandoc.convert_file(docx_path, 'md', outputfile=output_path)\n",
    "    \n",
    "def markdown_to_docx(markdown_path, output_path):\n",
    "    \"\"\"Convert markdown to docx\"\"\"\n",
    "    pypandoc.convert_file(markdown_path, 'docx', outputfile=output_path)"
   ]
  },
  {
   "cell_type": "markdown",
   "metadata": {},
   "source": [
    "Convert example document from DOCX to Markdown"
   ]
  },
  {
   "cell_type": "code",
   "execution_count": null,
   "metadata": {},
   "outputs": [],
   "source": [
    "docx_to_markdown(\"test.docx\", \"test.md\")"
   ]
  }
 ],
 "metadata": {
  "language_info": {
   "codemirror_mode": {
    "name": "ipython",
    "version": 3
   },
   "file_extension": ".py",
   "mimetype": "text/x-python",
   "name": "python",
   "nbconvert_exporter": "python",
   "pygments_lexer": "ipython3",
   "version": "3.12.7"
  }
 },
 "nbformat": 4,
 "nbformat_minor": 4
}
