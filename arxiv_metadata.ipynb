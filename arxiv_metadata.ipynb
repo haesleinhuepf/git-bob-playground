{
 "cells": [
  {
   "cell_type": "markdown",
   "metadata": {},
   "source": [
    "# Retrieving arXiv Metadata\n",
    "This notebook shows how to retrieve metadata from arXiv papers using the `arxiv` package."
   ]
  },
  {
   "cell_type": "markdown",
   "metadata": {},
   "source": [
    "First, let's install and import the required package"
   ]
  },
  {
   "cell_type": "code",
   "execution_count": 1,
   "metadata": {
    "execution": {
     "iopub.execute_input": "2024-12-30T15:48:38.577444Z",
     "iopub.status.busy": "2024-12-30T15:48:38.576986Z",
     "iopub.status.idle": "2024-12-30T15:48:41.458843Z",
     "shell.execute_reply": "2024-12-30T15:48:41.458119Z"
    }
   },
   "outputs": [
    {
     "name": "stdout",
     "output_type": "stream",
     "text": [
      "Collecting arxiv\r\n"
     ]
    },
    {
     "name": "stdout",
     "output_type": "stream",
     "text": [
      "  Downloading arxiv-2.1.3-py3-none-any.whl.metadata (6.1 kB)\r\n",
      "Collecting feedparser~=6.0.10 (from arxiv)\r\n"
     ]
    },
    {
     "name": "stdout",
     "output_type": "stream",
     "text": [
      "  Downloading feedparser-6.0.11-py3-none-any.whl.metadata (2.4 kB)\r\n",
      "Requirement already satisfied: requests~=2.32.0 in /opt/hostedtoolcache/Python/3.12.8/x64/lib/python3.12/site-packages (from arxiv) (2.32.3)\r\n",
      "Collecting sgmllib3k (from feedparser~=6.0.10->arxiv)\r\n",
      "  Downloading sgmllib3k-1.0.0.tar.gz (5.8 kB)\r\n"
     ]
    },
    {
     "name": "stdout",
     "output_type": "stream",
     "text": [
      "  Preparing metadata (setup.py) ... \u001b[?25l-"
     ]
    },
    {
     "name": "stdout",
     "output_type": "stream",
     "text": [
      "\b \b\\"
     ]
    },
    {
     "name": "stdout",
     "output_type": "stream",
     "text": [
      "\b \bdone\r\n",
      "\u001b[?25hRequirement already satisfied: charset-normalizer<4,>=2 in /opt/hostedtoolcache/Python/3.12.8/x64/lib/python3.12/site-packages (from requests~=2.32.0->arxiv) (3.4.1)\r\n",
      "Requirement already satisfied: idna<4,>=2.5 in /opt/hostedtoolcache/Python/3.12.8/x64/lib/python3.12/site-packages (from requests~=2.32.0->arxiv) (3.10)\r\n",
      "Requirement already satisfied: urllib3<3,>=1.21.1 in /opt/hostedtoolcache/Python/3.12.8/x64/lib/python3.12/site-packages (from requests~=2.32.0->arxiv) (1.26.16)\r\n",
      "Requirement already satisfied: certifi>=2017.4.17 in /opt/hostedtoolcache/Python/3.12.8/x64/lib/python3.12/site-packages (from requests~=2.32.0->arxiv) (2024.12.14)\r\n"
     ]
    },
    {
     "name": "stdout",
     "output_type": "stream",
     "text": [
      "Downloading arxiv-2.1.3-py3-none-any.whl (11 kB)\r\n",
      "Downloading feedparser-6.0.11-py3-none-any.whl (81 kB)\r\n",
      "Building wheels for collected packages: sgmllib3k\r\n"
     ]
    },
    {
     "name": "stdout",
     "output_type": "stream",
     "text": [
      "  Building wheel for sgmllib3k (setup.py) ... \u001b[?25l-"
     ]
    },
    {
     "name": "stdout",
     "output_type": "stream",
     "text": [
      "\b \b\\"
     ]
    },
    {
     "name": "stdout",
     "output_type": "stream",
     "text": [
      "\b \b|"
     ]
    },
    {
     "name": "stdout",
     "output_type": "stream",
     "text": [
      "\b \b/"
     ]
    },
    {
     "name": "stdout",
     "output_type": "stream",
     "text": [
      "\b \bdone\r\n",
      "\u001b[?25h  Created wheel for sgmllib3k: filename=sgmllib3k-1.0.0-py3-none-any.whl size=6048 sha256=e85cee611a5170094c8aa2f54123a07a717e92a126130df05f3943cd14da12a7\r\n",
      "  Stored in directory: /home/runner/.cache/pip/wheels/03/f5/1a/23761066dac1d0e8e683e5fdb27e12de53209d05a4a37e6246\r\n",
      "Successfully built sgmllib3k\r\n"
     ]
    },
    {
     "name": "stdout",
     "output_type": "stream",
     "text": [
      "Installing collected packages: sgmllib3k, feedparser, arxiv\r\n"
     ]
    },
    {
     "name": "stdout",
     "output_type": "stream",
     "text": [
      "Successfully installed arxiv-2.1.3 feedparser-6.0.11 sgmllib3k-1.0.0\r\n"
     ]
    }
   ],
   "source": [
    "!pip install arxiv\n",
    "import arxiv"
   ]
  },
  {
   "cell_type": "markdown",
   "metadata": {},
   "source": [
    "Define a function that retrieves metadata for a given arXiv identifier"
   ]
  },
  {
   "cell_type": "code",
   "execution_count": 2,
   "metadata": {
    "execution": {
     "iopub.execute_input": "2024-12-30T15:48:41.461143Z",
     "iopub.status.busy": "2024-12-30T15:48:41.460938Z",
     "iopub.status.idle": "2024-12-30T15:48:41.464778Z",
     "shell.execute_reply": "2024-12-30T15:48:41.464300Z"
    }
   },
   "outputs": [],
   "source": [
    "def get_arxiv_metadata(arxiv_id):\n",
    "    search = arxiv.Search(id_list=[arxiv_id])\n",
    "    paper = next(search.results())\n",
    "    \n",
    "    metadata = {\n",
    "        'title': paper.title,\n",
    "        'authors': [author.name for author in paper.authors],\n",
    "        'published': paper.published,\n",
    "        'summary': paper.summary,\n",
    "        'doi': paper.doi,\n",
    "        'primary_category': paper.primary_category,\n",
    "        'categories': paper.categories,\n",
    "        'pdf_url': paper.pdf_url\n",
    "    }\n",
    "    return metadata"
   ]
  },
  {
   "cell_type": "markdown",
   "metadata": {},
   "source": [
    "Test the function with an example arXiv ID and save the results"
   ]
  },
  {
   "cell_type": "code",
   "execution_count": 3,
   "metadata": {
    "execution": {
     "iopub.execute_input": "2024-12-30T15:48:41.466429Z",
     "iopub.status.busy": "2024-12-30T15:48:41.466232Z",
     "iopub.status.idle": "2024-12-30T15:48:42.074795Z",
     "shell.execute_reply": "2024-12-30T15:48:42.074314Z"
    }
   },
   "outputs": [
    {
     "name": "stderr",
     "output_type": "stream",
     "text": [
      "/tmp/ipykernel_2211/160100415.py:3: DeprecationWarning: The 'Search.results' method is deprecated, use 'Client.results' instead\n",
      "  paper = next(search.results())\n"
     ]
    }
   ],
   "source": [
    "arxiv_id = \"2204.07547\"\n",
    "metadata = get_arxiv_metadata(arxiv_id)\n",
    "\n",
    "# Save metadata to file\n",
    "import json\n",
    "with open(f'arxiv_metadata_{arxiv_id}.json', 'w') as f:\n",
    "    json.dump(metadata, f, default=str, indent=2)"
   ]
  }
 ],
 "metadata": {
  "language_info": {
   "codemirror_mode": {
    "name": "ipython",
    "version": 3
   },
   "file_extension": ".py",
   "mimetype": "text/x-python",
   "name": "python",
   "nbconvert_exporter": "python",
   "pygments_lexer": "ipython3",
   "version": "3.12.8"
  }
 },
 "nbformat": 4,
 "nbformat_minor": 4
}
