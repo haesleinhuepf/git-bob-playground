{
 "cells": [
  {
   "cell_type": "markdown",
   "id": "621da82f",
   "metadata": {},
   "source": [
    "# Understanding the Fourier Transform\n",
    "\n",
    "In this notebook, we will explore the concept of the Fourier Transform using Python libraries such as `numpy`, `scipy`, and `seaborn`. The Fourier Transform is a mathematical transform that allows us to analyze the frequencies present in a signal.\n",
    "\n",
    "Let's begin by importing the necessary libraries."
   ]
  },
  {
   "cell_type": "code",
   "execution_count": 1,
   "id": "e7d176f8",
   "metadata": {
    "execution": {
     "iopub.execute_input": "2024-10-17T19:40:38.240873Z",
     "iopub.status.busy": "2024-10-17T19:40:38.240680Z",
     "iopub.status.idle": "2024-10-17T19:40:39.679315Z",
     "shell.execute_reply": "2024-10-17T19:40:39.678662Z"
    }
   },
   "outputs": [],
   "source": [
    "import numpy as np\n",
    "from scipy.fft import fft, fftfreq\n",
    "import matplotlib.pyplot as plt\n",
    "import seaborn as sns\n",
    "\n",
    "sns.set(style='whitegrid')"
   ]
  },
  {
   "cell_type": "markdown",
   "id": "3e2704b8",
   "metadata": {},
   "source": [
    "## Generating a Sample Signal\n",
    "\n",
    "Let's create a simple signal, a combination of two sine waves with different frequencies."
   ]
  },
  {
   "cell_type": "code",
   "execution_count": 2,
   "id": "cd41c569",
   "metadata": {
    "execution": {
     "iopub.execute_input": "2024-10-17T19:40:39.681900Z",
     "iopub.status.busy": "2024-10-17T19:40:39.681312Z",
     "iopub.status.idle": "2024-10-17T19:40:39.828169Z",
     "shell.execute_reply": "2024-10-17T19:40:39.827548Z"
    }
   },
   "outputs": [],
   "source": [
    "# Define parameters\n",
    "sampling_rate = 1000  # samples per second\n",
    "duration = 1.0  # seconds\n",
    "t = np.linspace(0.0, duration, int(sampling_rate * duration), endpoint=False)\n",
    "\n",
    "# Create a signal\n",
    "freq1 = 50  # Frequency in Hertz\n",
    "freq2 = 120  # Frequency in Hertz\n",
    "signal = 0.5 * np.sin(2 * np.pi * freq1 * t) + 0.2 * np.sin(2 * np.pi * freq2 * t)\n",
    "\n",
    "# Plot the signal\n",
    "plt.figure(figsize=(10, 4))\n",
    "plt.plot(t, signal)\n",
    "plt.title('Time Domain Signal')\n",
    "plt.xlabel('Time [s]')\n",
    "plt.ylabel('Amplitude')\n",
    "plt.savefig('time_domain_signal.png')\n",
    "plt.close()"
   ]
  },
  {
   "cell_type": "markdown",
   "id": "932fbbf2",
   "metadata": {},
   "source": [
    "## Applying the Fourier Transform\n",
    "\n",
    "We will apply the Fast Fourier Transform (FFT) to our signal to move it from the time domain to the frequency domain."
   ]
  },
  {
   "cell_type": "code",
   "execution_count": 3,
   "id": "cd1d176d",
   "metadata": {
    "execution": {
     "iopub.execute_input": "2024-10-17T19:40:39.830236Z",
     "iopub.status.busy": "2024-10-17T19:40:39.830036Z",
     "iopub.status.idle": "2024-10-17T19:40:39.939044Z",
     "shell.execute_reply": "2024-10-17T19:40:39.938420Z"
    }
   },
   "outputs": [],
   "source": [
    "# Compute the Fast Fourier Transform (FFT)\n",
    "yf = fft(signal)\n",
    "xf = fftfreq(t.shape[0], 1 / sampling_rate)\n",
    "\n",
    "# Only take the positive half of the spectrum\n",
    "idx = np.arange(len(xf))\n",
    "idx_positive = idx[xf >= 0]\n",
    "xf_positive = xf[idx_positive]\n",
    "yf_positive = np.abs(yf[idx_positive])\n",
    "\n",
    "# Plot the Spectrum\n",
    "plt.figure(figsize=(10, 4))\n",
    "plt.plot(xf_positive, yf_positive)\n",
    "plt.title('Frequency Domain (Spectrum)')\n",
    "plt.xlabel('Frequency [Hz]')\n",
    "plt.ylabel('Amplitude')\n",
    "plt.savefig('frequency_domain_spectrum.png')\n",
    "plt.close()"
   ]
  },
  {
   "cell_type": "markdown",
   "id": "d96be1a7",
   "metadata": {},
   "source": [
    "## Analyzing the Results\n",
    "\n",
    "In the frequency domain representation, we can clearly observe peaks at the frequencies 50 Hz and 120 Hz, which correspond to the sine waves we included in our original signal.\n"
   ]
  }
 ],
 "metadata": {
  "language_info": {
   "codemirror_mode": {
    "name": "ipython",
    "version": 3
   },
   "file_extension": ".py",
   "mimetype": "text/x-python",
   "name": "python",
   "nbconvert_exporter": "python",
   "pygments_lexer": "ipython3",
   "version": "3.12.7"
  }
 },
 "nbformat": 4,
 "nbformat_minor": 5
}
