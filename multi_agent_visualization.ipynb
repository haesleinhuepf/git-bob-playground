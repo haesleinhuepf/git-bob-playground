{
 "cells": [
  {
   "cell_type": "markdown",
   "metadata": {},
   "source": [
    "# Multi-Agent System Visualization\n",
    "\n",
    "Visualizing interactions between research assistant, reviewer and scheduler agents in a paper review workflow."
   ]
  },
  {
   "cell_type": "markdown",
   "metadata": {},
   "source": [
    "Import required libraries"
   ]
  },
  {
   "cell_type": "code",
   "execution_count": 1,
   "metadata": {
    "execution": {
     "iopub.execute_input": "2024-12-30T18:02:40.589163Z",
     "iopub.status.busy": "2024-12-30T18:02:40.588976Z",
     "iopub.status.idle": "2024-12-30T18:02:40.739551Z",
     "shell.execute_reply": "2024-12-30T18:02:40.738780Z"
    }
   },
   "outputs": [
    {
     "ename": "ModuleNotFoundError",
     "evalue": "No module named 'graphviz'",
     "output_type": "error",
     "traceback": [
      "\u001b[0;31m---------------------------------------------------------------------------\u001b[0m",
      "\u001b[0;31mModuleNotFoundError\u001b[0m                       Traceback (most recent call last)",
      "Cell \u001b[0;32mIn[1], line 1\u001b[0m\n\u001b[0;32m----> 1\u001b[0m \u001b[38;5;28;01mimport\u001b[39;00m \u001b[38;5;21;01mgraphviz\u001b[39;00m\n",
      "\u001b[0;31mModuleNotFoundError\u001b[0m: No module named 'graphviz'"
     ]
    }
   ],
   "source": [
    "import graphviz"
   ]
  },
  {
   "cell_type": "markdown",
   "metadata": {},
   "source": [
    "Create directed graph showing agent relationships and paper review workflow"
   ]
  },
  {
   "cell_type": "code",
   "execution_count": null,
   "metadata": {},
   "outputs": [],
   "source": [
    "dot = graphviz.Digraph('Multi-Agent Workflow')\n",
    "dot.attr(rankdir='LR')\n",
    "\n",
    "# Add agents as nodes\n",
    "dot.node('scheduler', 'Scheduler\\nTask Manager', shape='box', style='filled', fillcolor='lightblue')\n",
    "dot.node('assistant', 'Research Assistant\\nReads & Writes Papers', shape='oval', style='filled', fillcolor='lightgreen')\n",
    "dot.node('reviewer', 'Reviewer\\nProvides Feedback', shape='oval', style='filled', fillcolor='lightyellow')\n",
    "\n",
    "# Add workflow interactions\n",
    "dot.edge('scheduler', 'assistant', 'Assign 5 papers')\n",
    "dot.edge('assistant', 'reviewer', 'Submit drafts')\n",
    "dot.edge('reviewer', 'assistant', 'Review feedback')\n",
    "dot.edge('assistant', 'scheduler', 'Final papers')\n",
    "\n",
    "# Save visualization\n",
    "dot.render('multi_agent_workflow', format='svg', cleanup=True)"
   ]
  }
 ],
 "metadata": {
  "language_info": {
   "codemirror_mode": {
    "name": "ipython",
    "version": 3
   },
   "file_extension": ".py",
   "mimetype": "text/x-python",
   "name": "python",
   "nbconvert_exporter": "python",
   "pygments_lexer": "ipython3",
   "version": "3.12.8"
  }
 },
 "nbformat": 4,
 "nbformat_minor": 4
}