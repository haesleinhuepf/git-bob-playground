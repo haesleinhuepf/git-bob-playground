{
 "cells": [
  {
   "cell_type": "markdown",
   "metadata": {},
   "source": [
    "# Multi-Agent System Visualization\n",
    "\n",
    "We'll create an SVG visualization showing the interactions between three agents (research-assistant, reviewer, and scheduler) in a paper review process."
   ]
  },
  {
   "cell_type": "code",
   "execution_count": 1,
   "metadata": {
    "execution": {
     "iopub.execute_input": "2024-12-30T17:56:44.030589Z",
     "iopub.status.busy": "2024-12-30T17:56:44.030410Z",
     "iopub.status.idle": "2024-12-30T17:56:44.183573Z",
     "shell.execute_reply": "2024-12-30T17:56:44.182696Z"
    }
   },
   "outputs": [
    {
     "ename": "ModuleNotFoundError",
     "evalue": "No module named 'graphviz'",
     "output_type": "error",
     "traceback": [
      "\u001b[0;31m---------------------------------------------------------------------------\u001b[0m",
      "\u001b[0;31mModuleNotFoundError\u001b[0m                       Traceback (most recent call last)",
      "Cell \u001b[0;32mIn[1], line 1\u001b[0m\n\u001b[0;32m----> 1\u001b[0m \u001b[38;5;28;01mimport\u001b[39;00m \u001b[38;5;21;01mgraphviz\u001b[39;00m\n",
      "\u001b[0;31mModuleNotFoundError\u001b[0m: No module named 'graphviz'"
     ]
    }
   ],
   "source": [
    "import graphviz"
   ]
  },
  {
   "cell_type": "markdown",
   "metadata": {},
   "source": [
    "Create a directed graph to show agent interactions"
   ]
  },
  {
   "cell_type": "code",
   "execution_count": null,
   "metadata": {},
   "outputs": [],
   "source": [
    "dot = graphviz.Digraph(comment='Multi-Agent System')\n",
    "dot.attr(rankdir='TB')\n",
    "\n",
    "# Add nodes (agents)\n",
    "dot.node('scheduler', 'Scheduler\\n(Task Distribution)', shape='rectangle')\n",
    "dot.node('assistant', 'Research Assistant\\n(Read & Write)', shape='ellipse')\n",
    "dot.node('reviewer', 'Reviewer\\n(Provide Feedback)', shape='ellipse')\n",
    "\n",
    "# Add edges (interactions)\n",
    "dot.edge('scheduler', 'assistant', 'Assign papers')\n",
    "dot.edge('assistant', 'reviewer', 'Submit draft')\n",
    "dot.edge('reviewer', 'assistant', 'Provide feedback')\n",
    "dot.edge('assistant', 'scheduler', 'Submit final version')\n",
    "\n",
    "# Save the visualization\n",
    "dot.render('multi_agent_system', format='svg', cleanup=True)"
   ]
  }
 ],
 "metadata": {
  "language_info": {
   "codemirror_mode": {
    "name": "ipython",
    "version": 3
   },
   "file_extension": ".py",
   "mimetype": "text/x-python",
   "name": "python",
   "nbconvert_exporter": "python",
   "pygments_lexer": "ipython3",
   "version": "3.12.8"
  }
 },
 "nbformat": 4,
 "nbformat_minor": 4
}