{
 "cells": [
  {
   "cell_type": "markdown",
   "metadata": {},
   "source": [
    "# Dunning-Kruger Effect Plots without Axes Numbers\n",
    "\n",
    "Import libraries"
   ]
  },
  {
   "cell_type": "code",
   "execution_count": 1,
   "metadata": {
    "execution": {
     "iopub.execute_input": "2025-01-12T10:12:33.040159Z",
     "iopub.status.busy": "2025-01-12T10:12:33.039982Z",
     "iopub.status.idle": "2025-01-12T10:12:34.698982Z",
     "shell.execute_reply": "2025-01-12T10:12:34.698388Z"
    }
   },
   "outputs": [],
   "source": [
    "import numpy as np\n",
    "from scipy.interpolate import CubicSpline\n",
    "import seaborn as sns\n",
    "import matplotlib.pyplot as plt"
   ]
  },
  {
   "cell_type": "markdown",
   "metadata": {},
   "source": [
    "Define key points for both curves"
   ]
  },
  {
   "cell_type": "code",
   "execution_count": 2,
   "metadata": {
    "execution": {
     "iopub.execute_input": "2025-01-12T10:12:34.701284Z",
     "iopub.status.busy": "2025-01-12T10:12:34.700870Z",
     "iopub.status.idle": "2025-01-12T10:12:34.704733Z",
     "shell.execute_reply": "2025-01-12T10:12:34.704284Z"
    }
   },
   "outputs": [],
   "source": [
    "points_no_investment = np.array([\n",
    "    [0, 0],     # Start\n",
    "    [3, 10],    # Initial rise\n",
    "    [7, 40],    # Steeper rise\n",
    "    [12, 80],   # Near peak\n",
    "    [15, 100],  # Peak\n",
    "    [25, 50],   # Decline\n",
    "    [40, 10],   # Valley\n",
    "    [60, 40],   # Recovery\n",
    "    [80, 60],   # Plateau start\n",
    "    [90, 60],   # Plateau middle\n",
    "    [100, 60]   # End plateau\n",
    "])\n",
    "\n",
    "points_with_investment = np.array([\n",
    "    [0, 0],     # Start\n",
    "    [3, 15],    # Initial rise\n",
    "    [7, 50],    # Steeper rise\n",
    "    [12, 85],   # Near peak\n",
    "    [15, 100],  # Peak\n",
    "    [25, 70],   # Decline\n",
    "    [40, 40],   # Valley\n",
    "    [60, 65],   # Recovery\n",
    "    [80, 80],   # Plateau start\n",
    "    [90, 80],   # Plateau middle\n",
    "    [100, 80]   # End plateau\n",
    "])"
   ]
  },
  {
   "cell_type": "markdown",
   "metadata": {},
   "source": [
    "Create single curve plot"
   ]
  },
  {
   "cell_type": "code",
   "execution_count": 3,
   "metadata": {
    "execution": {
     "iopub.execute_input": "2025-01-12T10:12:34.706548Z",
     "iopub.status.busy": "2025-01-12T10:12:34.706191Z",
     "iopub.status.idle": "2025-01-12T10:12:34.767870Z",
     "shell.execute_reply": "2025-01-12T10:12:34.767341Z"
    }
   },
   "outputs": [],
   "source": [
    "x = np.linspace(0, 100, 1000)\n",
    "cs = CubicSpline(points_no_investment[:,0], points_no_investment[:,1])\n",
    "\n",
    "plt.figure(figsize=(10, 6))\n",
    "sns.set_style('white')\n",
    "plt.plot(x, cs(x), color='red')\n",
    "plt.xlabel('Experience')\n",
    "plt.ylabel('Confidence')\n",
    "plt.title('Dunning-Kruger Effect')\n",
    "plt.xticks([])\n",
    "plt.yticks([])\n",
    "plt.savefig('dunning_kruger_single.png')\n",
    "plt.close()"
   ]
  },
  {
   "cell_type": "markdown",
   "metadata": {},
   "source": [
    "Create double curve plot"
   ]
  },
  {
   "cell_type": "code",
   "execution_count": 4,
   "metadata": {
    "execution": {
     "iopub.execute_input": "2025-01-12T10:12:34.770073Z",
     "iopub.status.busy": "2025-01-12T10:12:34.769715Z",
     "iopub.status.idle": "2025-01-12T10:12:34.837045Z",
     "shell.execute_reply": "2025-01-12T10:12:34.836580Z"
    }
   },
   "outputs": [],
   "source": [
    "cs1 = CubicSpline(points_no_investment[:,0], points_no_investment[:,1])\n",
    "cs2 = CubicSpline(points_with_investment[:,0], points_with_investment[:,1])\n",
    "\n",
    "plt.figure(figsize=(10, 6))\n",
    "sns.set_style('white')\n",
    "plt.plot(x, cs1(x), label='Without investment', color='red')\n",
    "plt.plot(x, cs2(x), label='With investment', color='blue')\n",
    "plt.xlabel('Experience')\n",
    "plt.ylabel('Confidence')\n",
    "plt.title('Dunning-Kruger Effect')\n",
    "plt.legend()\n",
    "plt.xticks([])\n",
    "plt.yticks([])\n",
    "plt.savefig('dunning_kruger_double.png')\n",
    "plt.close()"
   ]
  }
 ],
 "metadata": {
  "language_info": {
   "codemirror_mode": {
    "name": "ipython",
    "version": 3
   },
   "file_extension": ".py",
   "mimetype": "text/x-python",
   "name": "python",
   "nbconvert_exporter": "python",
   "pygments_lexer": "ipython3",
   "version": "3.12.8"
  }
 },
 "nbformat": 4,
 "nbformat_minor": 4
}
