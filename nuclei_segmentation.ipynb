{
 "cells": [
  {
   "cell_type": "markdown",
   "id": "ff1be753",
   "metadata": {},
   "source": [
    "# Nuclei Segmentation using Voronoi-Otsu-Labeling\n",
    "In this notebook, we perform nuclei segmentation on a given image using the Voronoi-Otsu-Labeling method from the `napari-segment-blobs-and-things-with-membranes` library. The following steps will guide you through the process."
   ]
  },
  {
   "cell_type": "code",
   "execution_count": 1,
   "id": "dc5fc473",
   "metadata": {
    "execution": {
     "iopub.execute_input": "2024-10-13T12:24:18.838601Z",
     "iopub.status.busy": "2024-10-13T12:24:18.838233Z",
     "iopub.status.idle": "2024-10-13T12:24:20.002730Z",
     "shell.execute_reply": "2024-10-13T12:24:20.002018Z"
    }
   },
   "outputs": [
    {
     "name": "stderr",
     "output_type": "stream",
     "text": [
      "/opt/hostedtoolcache/Python/3.12.7/x64/lib/python3.12/site-packages/napari_tools_menu/__init__.py:10: UserWarning: Importing QT failed; now introducing dummy definitions of QMenu class and register_function decorator.\n",
      "  warnings.warn(\"Importing QT failed; now introducing dummy definitions of QMenu class and register_function decorator.\")\n"
     ]
    }
   ],
   "source": [
    "import napari_segment_blobs_and_things_with_membranes as nsbatwm\n",
    "from skimage.io import imread\n",
    "from skimage import color\n",
    "import stackview\n"
   ]
  },
  {
   "cell_type": "markdown",
   "id": "98de0b57",
   "metadata": {},
   "source": [
    "## Step 1: Load the Image\n",
    "We load the image `human_mitosis_small.png` from disk and extract the first channel for analysis."
   ]
  },
  {
   "cell_type": "code",
   "execution_count": 2,
   "id": "51c83de7",
   "metadata": {
    "execution": {
     "iopub.execute_input": "2024-10-13T12:24:20.004720Z",
     "iopub.status.busy": "2024-10-13T12:24:20.004408Z",
     "iopub.status.idle": "2024-10-13T12:24:20.012381Z",
     "shell.execute_reply": "2024-10-13T12:24:20.011895Z"
    }
   },
   "outputs": [],
   "source": [
    "filename = 'human_mitosis_small.png'\n",
    "image = imread(filename)\n",
    "image_channel = image[..., 0]  # Extract the first channel"
   ]
  },
  {
   "cell_type": "markdown",
   "id": "b7497a4a",
   "metadata": {},
   "source": [
    "## Step 2: Apply Voronoi-Otsu-Labeling\n",
    "We apply Voronoi-Otsu-Labeling to the extracted image channel to segment the nuclei."
   ]
  },
  {
   "cell_type": "code",
   "execution_count": 3,
   "id": "7551d1e6",
   "metadata": {
    "execution": {
     "iopub.execute_input": "2024-10-13T12:24:20.014090Z",
     "iopub.status.busy": "2024-10-13T12:24:20.013907Z",
     "iopub.status.idle": "2024-10-13T12:24:21.280978Z",
     "shell.execute_reply": "2024-10-13T12:24:21.280417Z"
    }
   },
   "outputs": [],
   "source": [
    "labels = nsbatwm.voronoi_otsu_labeling(image_channel, spot_sigma=3.5, outline_sigma=1)"
   ]
  },
  {
   "cell_type": "markdown",
   "id": "a1c2eaba",
   "metadata": {},
   "source": [
    "## Step 3: Visualize the Segmented Labels\n",
    "We visualize the segmented labels using `stackview`."
   ]
  },
  {
   "cell_type": "code",
   "execution_count": 4,
   "id": "08212887",
   "metadata": {
    "execution": {
     "iopub.execute_input": "2024-10-13T12:24:21.283462Z",
     "iopub.status.busy": "2024-10-13T12:24:21.282895Z",
     "iopub.status.idle": "2024-10-13T12:24:21.801497Z",
     "shell.execute_reply": "2024-10-13T12:24:21.800933Z"
    }
   },
   "outputs": [
    {
     "data": {
      "text/html": [
       "<table>\n",
       "<tr>\n",
       "<td>\n",
       "<img src=\"data:image/png;base64,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\"></img>\n",
       "</td>\n",
       "<td style=\"text-align: center; vertical-align: top;\">\n",
       "\n",
       "<table>\n",
       "<tr><td>shape</td><td>(180,&nbsp;247)</td></tr>\n",
       "<tr><td>dtype</td><td>int32</td></tr>\n",
       "<tr><td>size</td><td>173.7 kB</td></tr>\n",
       "<tr><td>min</td><td>0</td></tr><tr><td>max</td><td>45</td></tr>\n",
       "</table>\n",
       "\n",
       "</td>\n",
       "</tr>\n",
       "</table>"
      ],
      "text/plain": [
       "StackViewNDArray([[0, 0, 0, ..., 0, 0, 0],\n",
       "                  [0, 0, 0, ..., 0, 0, 0],\n",
       "                  [0, 0, 0, ..., 0, 0, 0],\n",
       "                  ...,\n",
       "                  [0, 0, 0, ..., 0, 0, 0],\n",
       "                  [0, 0, 0, ..., 0, 0, 0],\n",
       "                  [0, 0, 0, ..., 0, 0, 0]], dtype=int32)"
      ]
     },
     "execution_count": 4,
     "metadata": {},
     "output_type": "execute_result"
    }
   ],
   "source": [
    "stackview.insight(labels)"
   ]
  },
  {
   "cell_type": "markdown",
   "id": "6d542670",
   "metadata": {},
   "source": [
    "## Step 4: Save the Segmented Image\n",
    "Finally, we convert the label image to RGB and save it as a PNG file."
   ]
  },
  {
   "cell_type": "code",
   "execution_count": 5,
   "id": "382327f7",
   "metadata": {
    "execution": {
     "iopub.execute_input": "2024-10-13T12:24:21.803391Z",
     "iopub.status.busy": "2024-10-13T12:24:21.803166Z",
     "iopub.status.idle": "2024-10-13T12:24:22.091663Z",
     "shell.execute_reply": "2024-10-13T12:24:22.090907Z"
    }
   },
   "outputs": [
    {
     "ename": "AttributeError",
     "evalue": "module 'stackview' has no attribute 'export_image'",
     "output_type": "error",
     "traceback": [
      "\u001b[0;31m---------------------------------------------------------------------------\u001b[0m",
      "\u001b[0;31mAttributeError\u001b[0m                            Traceback (most recent call last)",
      "Cell \u001b[0;32mIn[5], line 3\u001b[0m\n\u001b[1;32m      1\u001b[0m rgb_labels \u001b[38;5;241m=\u001b[39m color\u001b[38;5;241m.\u001b[39mlabel2rgb(labels, bg_label\u001b[38;5;241m=\u001b[39m\u001b[38;5;241m0\u001b[39m)\u001b[38;5;241m.\u001b[39mastype(\u001b[38;5;124m'\u001b[39m\u001b[38;5;124muint8\u001b[39m\u001b[38;5;124m'\u001b[39m)\n\u001b[1;32m      2\u001b[0m filename_output \u001b[38;5;241m=\u001b[39m \u001b[38;5;124m'\u001b[39m\u001b[38;5;124msegmented_nuclei.png\u001b[39m\u001b[38;5;124m'\u001b[39m\n\u001b[0;32m----> 3\u001b[0m \u001b[43mstackview\u001b[49m\u001b[38;5;241;43m.\u001b[39;49m\u001b[43mexport_image\u001b[49m(rgb_labels, filename_output)\n\u001b[1;32m      4\u001b[0m \u001b[38;5;28mprint\u001b[39m(\u001b[38;5;124mf\u001b[39m\u001b[38;5;124m'\u001b[39m\u001b[38;5;124mSegmented image saved as \u001b[39m\u001b[38;5;132;01m{\u001b[39;00mfilename_output\u001b[38;5;132;01m}\u001b[39;00m\u001b[38;5;124m'\u001b[39m)\n",
      "\u001b[0;31mAttributeError\u001b[0m: module 'stackview' has no attribute 'export_image'"
     ]
    }
   ],
   "source": [
    "rgb_labels = color.label2rgb(labels, bg_label=0).astype('uint8')\n",
    "filename_output = 'segmented_nuclei.png'\n",
    "stackview.export_image(rgb_labels, filename_output)\n",
    "print(f'Segmented image saved as {filename_output}')"
   ]
  }
 ],
 "metadata": {
  "language_info": {
   "codemirror_mode": {
    "name": "ipython",
    "version": 3
   },
   "file_extension": ".py",
   "mimetype": "text/x-python",
   "name": "python",
   "nbconvert_exporter": "python",
   "pygments_lexer": "ipython3",
   "version": "3.12.7"
  }
 },
 "nbformat": 4,
 "nbformat_minor": 5
}
