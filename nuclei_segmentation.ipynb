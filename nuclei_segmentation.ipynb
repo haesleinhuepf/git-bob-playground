{
 "cells": [
  {
   "cell_type": "markdown",
   "metadata": {},
   "source": [
    "# Nuclei Segmentation using Voronoi-Otsu-Labeling\n",
    "\n",
    "First, let's import the required libraries"
   ]
  },
  {
   "cell_type": "code",
   "execution_count": 1,
   "metadata": {
    "execution": {
     "iopub.execute_input": "2024-10-25T07:43:29.306285Z",
     "iopub.status.busy": "2024-10-25T07:43:29.306094Z",
     "iopub.status.idle": "2024-10-25T07:43:30.762085Z",
     "shell.execute_reply": "2024-10-25T07:43:30.761374Z"
    }
   },
   "outputs": [
    {
     "name": "stderr",
     "output_type": "stream",
     "text": [
      "/opt/hostedtoolcache/Python/3.12.7/x64/lib/python3.12/site-packages/napari_tools_menu/__init__.py:10: UserWarning: Importing QT failed; now introducing dummy definitions of QMenu class and register_function decorator.\n",
      "  warnings.warn(\"Importing QT failed; now introducing dummy definitions of QMenu class and register_function decorator.\")\n"
     ]
    }
   ],
   "source": [
    "from skimage.io import imread, imsave\n",
    "import napari_segment_blobs_and_things_with_membranes as nsbatwm\n",
    "import stackview\n",
    "import numpy as np"
   ]
  },
  {
   "cell_type": "markdown",
   "metadata": {},
   "source": [
    "Load the image and extract first channel"
   ]
  },
  {
   "cell_type": "code",
   "execution_count": 2,
   "metadata": {
    "execution": {
     "iopub.execute_input": "2024-10-25T07:43:30.799161Z",
     "iopub.status.busy": "2024-10-25T07:43:30.798715Z",
     "iopub.status.idle": "2024-10-25T07:43:30.808117Z",
     "shell.execute_reply": "2024-10-25T07:43:30.807486Z"
    }
   },
   "outputs": [],
   "source": [
    "image = imread('human_mitosis_small.png')\n",
    "channel1 = image[:,:,0]"
   ]
  },
  {
   "cell_type": "markdown",
   "metadata": {},
   "source": [
    "Apply Voronoi-Otsu-Labeling"
   ]
  },
  {
   "cell_type": "code",
   "execution_count": 3,
   "metadata": {
    "execution": {
     "iopub.execute_input": "2024-10-25T07:43:30.810309Z",
     "iopub.status.busy": "2024-10-25T07:43:30.809919Z",
     "iopub.status.idle": "2024-10-25T07:43:32.201783Z",
     "shell.execute_reply": "2024-10-25T07:43:32.201167Z"
    }
   },
   "outputs": [],
   "source": [
    "labels = nsbatwm.voronoi_otsu_labeling(channel1, spot_sigma=3.5, outline_sigma=1)"
   ]
  },
  {
   "cell_type": "markdown",
   "metadata": {},
   "source": [
    "Visualize and save results"
   ]
  },
  {
   "cell_type": "code",
   "execution_count": 4,
   "metadata": {
    "execution": {
     "iopub.execute_input": "2024-10-25T07:43:32.204300Z",
     "iopub.status.busy": "2024-10-25T07:43:32.203799Z",
     "iopub.status.idle": "2024-10-25T07:43:32.375584Z",
     "shell.execute_reply": "2024-10-25T07:43:32.375041Z"
    }
   },
   "outputs": [],
   "source": [
    "# View results\n",
    "stackview.animate_curtain(channel1, labels)\n",
    "\n",
    "# Save the label image\n",
    "from skimage import color\n",
    "rgb_labels = (color.label2rgb(labels, bg_label=0, kind='overlay')*255).astype('uint8')\n",
    "imsave('nuclei_segmentation_result.png', rgb_labels)"
   ]
  }
 ],
 "metadata": {
  "language_info": {
   "codemirror_mode": {
    "name": "ipython",
    "version": 3
   },
   "file_extension": ".py",
   "mimetype": "text/x-python",
   "name": "python",
   "nbconvert_exporter": "python",
   "pygments_lexer": "ipython3",
   "version": "3.12.7"
  },
  "widgets": {
   "application/vnd.jupyter.widget-state+json": {
    "state": {
     "ccdf45679cae40598e612a49cfd5bb3a": {
      "model_module": "ipycanvas",
      "model_module_version": "^0.13",
      "model_name": "CanvasManagerModel",
      "state": {
       "_model_module": "ipycanvas",
       "_model_module_version": "^0.13",
       "_model_name": "CanvasManagerModel",
       "_view_count": null,
       "_view_module": null,
       "_view_module_version": "",
       "_view_name": null
      }
     }
    },
    "version_major": 2,
    "version_minor": 0
   }
  }
 },
 "nbformat": 4,
 "nbformat_minor": 4
}
