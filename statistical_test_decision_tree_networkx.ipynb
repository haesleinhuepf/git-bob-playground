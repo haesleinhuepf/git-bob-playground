{
 "cells": [
  {
   "cell_type": "markdown",
   "metadata": {},
   "source": [
    "# Statistical Test Decision Tree using NetworkX\n",
    "\n",
    "This notebook creates a decision tree visualization to help select appropriate statistical tests using NetworkX and Matplotlib."
   ]
  },
  {
   "cell_type": "markdown",
   "metadata": {},
   "source": [
    "First, let's install and import the required libraries."
   ]
  },
  {
   "cell_type": "code",
   "execution_count": 1,
   "metadata": {
    "execution": {
     "iopub.execute_input": "2025-01-26T10:11:07.104177Z",
     "iopub.status.busy": "2025-01-26T10:11:07.103976Z",
     "iopub.status.idle": "2025-01-26T10:11:09.070760Z",
     "shell.execute_reply": "2025-01-26T10:11:09.070095Z"
    }
   },
   "outputs": [
    {
     "name": "stdout",
     "output_type": "stream",
     "text": [
      "Requirement already satisfied: networkx in /opt/hostedtoolcache/Python/3.12.8/x64/lib/python3.12/site-packages (3.4.2)\r\n"
     ]
    }
   ],
   "source": [
    "!pip install networkx\n",
    "import networkx as nx\n",
    "import matplotlib.pyplot as plt"
   ]
  },
  {
   "cell_type": "markdown",
   "metadata": {},
   "source": [
    "Create a directed graph and define the nodes with their labels."
   ]
  },
  {
   "cell_type": "code",
   "execution_count": 2,
   "metadata": {
    "execution": {
     "iopub.execute_input": "2025-01-26T10:11:09.073354Z",
     "iopub.status.busy": "2025-01-26T10:11:09.072863Z",
     "iopub.status.idle": "2025-01-26T10:11:09.076696Z",
     "shell.execute_reply": "2025-01-26T10:11:09.076125Z"
    }
   },
   "outputs": [],
   "source": [
    "G = nx.DiGraph()\n",
    "\n",
    "nodes = {\n",
    "    'START': 'Data Type?',\n",
    "    'CAT': 'Categorical',\n",
    "    'NUM': 'Numerical',\n",
    "    'GROUPS2': '2 Groups?',\n",
    "    'GROUPSN': '>2 Groups?',\n",
    "    'PAIRED': 'Paired?',\n",
    "    'NORMAL': 'Normal\\nDistribution?',\n",
    "    'CHISQ': 'Chi-Square',\n",
    "    'FISHER': \"Fisher's\\nExact Test\",\n",
    "    'ANOVA': 'ANOVA',\n",
    "    'KW': 'Kruskal-Wallis',\n",
    "    'PAIRT': 'Paired t-test',\n",
    "    'WILCOX': 'Wilcoxon\\nSigned-Rank',\n",
    "    'TTEST': 'Unpaired t-test',\n",
    "    'MWU': 'Mann-Whitney U'\n",
    "}\n",
    "\n",
    "G.add_nodes_from(nodes.keys())"
   ]
  },
  {
   "cell_type": "markdown",
   "metadata": {},
   "source": [
    "Define and add the edges with their labels."
   ]
  },
  {
   "cell_type": "code",
   "execution_count": 3,
   "metadata": {
    "execution": {
     "iopub.execute_input": "2025-01-26T10:11:09.078766Z",
     "iopub.status.busy": "2025-01-26T10:11:09.078350Z",
     "iopub.status.idle": "2025-01-26T10:11:09.082471Z",
     "shell.execute_reply": "2025-01-26T10:11:09.081895Z"
    }
   },
   "outputs": [],
   "source": [
    "edges = [\n",
    "    ('START', 'CAT', 'Categorical'),\n",
    "    ('START', 'NUM', 'Numerical'),\n",
    "    ('CAT', 'GROUPS2', 'Yes'),\n",
    "    ('CAT', 'GROUPSN', 'No'),\n",
    "    ('GROUPS2', 'CHISQ', '>5 samples'),\n",
    "    ('GROUPS2', 'FISHER', '<5 samples'),\n",
    "    ('NUM', 'GROUPS2', '2 groups'),\n",
    "    ('NUM', 'GROUPSN', '>2 groups'),\n",
    "    ('GROUPSN', 'ANOVA', 'Normal'),\n",
    "    ('GROUPSN', 'KW', 'Non-normal'),\n",
    "    ('GROUPS2', 'PAIRED', 'Yes'),\n",
    "    ('PAIRED', 'NORMAL', 'Yes'),\n",
    "    ('NORMAL', 'PAIRT', 'Yes'),\n",
    "    ('NORMAL', 'WILCOX', 'No'),\n",
    "    ('PAIRED', 'NORMAL', 'No'),\n",
    "    ('NORMAL', 'TTEST', 'Yes'),\n",
    "    ('NORMAL', 'MWU', 'No')\n",
    "]\n",
    "\n",
    "G.add_edges_from([(src, dst) for src, dst, _ in edges])"
   ]
  },
  {
   "cell_type": "markdown",
   "metadata": {},
   "source": [
    "Create and save the visualization."
   ]
  },
  {
   "cell_type": "code",
   "execution_count": 4,
   "metadata": {
    "execution": {
     "iopub.execute_input": "2025-01-26T10:11:09.084472Z",
     "iopub.status.busy": "2025-01-26T10:11:09.084063Z",
     "iopub.status.idle": "2025-01-26T10:11:09.711556Z",
     "shell.execute_reply": "2025-01-26T10:11:09.710967Z"
    }
   },
   "outputs": [],
   "source": [
    "plt.figure(figsize=(12, 8))\n",
    "pos = nx.spring_layout(G, k=1, iterations=50)\n",
    "nx.draw(G, pos, with_labels=True, labels=nodes, \n",
    "        node_color='lightblue', node_size=2000, font_size=8)\n",
    "nx.draw_networkx_edge_labels(G, pos, \n",
    "                            edge_labels=dict(((s,t), l) for s,t,l in edges))\n",
    "plt.savefig('statistical_test_decision_tree_networkx.png', dpi=300, bbox_inches='tight')\n",
    "plt.close()"
   ]
  }
 ],
 "metadata": {
  "language_info": {
   "codemirror_mode": {
    "name": "ipython",
    "version": 3
   },
   "file_extension": ".py",
   "mimetype": "text/x-python",
   "name": "python",
   "nbconvert_exporter": "python",
   "pygments_lexer": "ipython3",
   "version": "3.12.8"
  }
 },
 "nbformat": 4,
 "nbformat_minor": 4
}
