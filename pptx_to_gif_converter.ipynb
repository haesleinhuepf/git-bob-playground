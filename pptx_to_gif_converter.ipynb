{
 "cells": [
  {
   "cell_type": "markdown",
   "metadata": {},
   "source": [
    "# PPTX to Animated GIF Converter\n",
    "This notebook converts PowerPoint presentations to animated GIFs."
   ]
  },
  {
   "cell_type": "markdown",
   "metadata": {},
   "source": [
    "Import required libraries"
   ]
  },
  {
   "cell_type": "code",
   "execution_count": 1,
   "metadata": {
    "execution": {
     "iopub.execute_input": "2025-01-16T10:43:23.996239Z",
     "iopub.status.busy": "2025-01-16T10:43:23.996062Z",
     "iopub.status.idle": "2025-01-16T10:43:24.225483Z",
     "shell.execute_reply": "2025-01-16T10:43:24.224709Z"
    }
   },
   "outputs": [
    {
     "ename": "ModuleNotFoundError",
     "evalue": "No module named 'win32com'",
     "output_type": "error",
     "traceback": [
      "\u001b[0;31m---------------------------------------------------------------------------\u001b[0m",
      "\u001b[0;31mModuleNotFoundError\u001b[0m                       Traceback (most recent call last)",
      "Cell \u001b[0;32mIn[1], line 3\u001b[0m\n\u001b[1;32m      1\u001b[0m \u001b[38;5;28;01mfrom\u001b[39;00m\u001b[38;5;250m \u001b[39m\u001b[38;5;21;01mpptx\u001b[39;00m\u001b[38;5;250m \u001b[39m\u001b[38;5;28;01mimport\u001b[39;00m Presentation\n\u001b[1;32m      2\u001b[0m \u001b[38;5;28;01mfrom\u001b[39;00m\u001b[38;5;250m \u001b[39m\u001b[38;5;21;01mPIL\u001b[39;00m\u001b[38;5;250m \u001b[39m\u001b[38;5;28;01mimport\u001b[39;00m Image\n\u001b[0;32m----> 3\u001b[0m \u001b[38;5;28;01mimport\u001b[39;00m\u001b[38;5;250m \u001b[39m\u001b[38;5;21;01mwin32com\u001b[39;00m\u001b[38;5;21;01m.\u001b[39;00m\u001b[38;5;21;01mclient\u001b[39;00m\n\u001b[1;32m      4\u001b[0m \u001b[38;5;28;01mimport\u001b[39;00m\u001b[38;5;250m \u001b[39m\u001b[38;5;21;01mos\u001b[39;00m\n",
      "\u001b[0;31mModuleNotFoundError\u001b[0m: No module named 'win32com'"
     ]
    }
   ],
   "source": [
    "from pptx import Presentation\n",
    "from PIL import Image\n",
    "import win32com.client\n",
    "import os"
   ]
  },
  {
   "cell_type": "markdown",
   "metadata": {},
   "source": [
    "Function to convert PPTX slides to PNG images"
   ]
  },
  {
   "cell_type": "code",
   "execution_count": null,
   "metadata": {},
   "outputs": [],
   "source": [
    "def pptx_to_images(pptx_path, output_dir='temp_slides'):\n",
    "    if not os.path.exists(output_dir):\n",
    "        os.makedirs(output_dir)\n",
    "    \n",
    "    # Use PowerPoint COM object to convert slides to images\n",
    "    powerpoint = win32com.client.Dispatch('PowerPoint.Application')\n",
    "    presentation = powerpoint.Presentations.Open(os.path.abspath(pptx_path))\n",
    "    \n",
    "    # Save each slide as PNG\n",
    "    for i in range(presentation.Slides.Count):\n",
    "        slide_path = os.path.join(output_dir, f'slide_{i+1}.png')\n",
    "        presentation.Slides(i+1).Export(slide_path, 'PNG', 960, 540)\n",
    "    \n",
    "    presentation.Close()\n",
    "    powerpoint.Quit()\n",
    "    \n",
    "    return sorted([os.path.join(output_dir, f) for f in os.listdir(output_dir)])"
   ]
  },
  {
   "cell_type": "markdown",
   "metadata": {},
   "source": [
    "Convert PPTX to GIF"
   ]
  },
  {
   "cell_type": "code",
   "execution_count": null,
   "metadata": {},
   "outputs": [],
   "source": [
    "pptx_path = 'slides1.pptx'\n",
    "output_gif = 'presentation.gif'\n",
    "\n",
    "# Convert slides to images\n",
    "image_files = pptx_to_images(pptx_path)\n",
    "\n",
    "# Create GIF from images\n",
    "images = [Image.open(f) for f in image_files]\n",
    "images[0].save(\n",
    "    output_gif,\n",
    "    save_all=True,\n",
    "    append_images=images[1:],\n",
    "    duration=2000,  # 2 seconds per slide\n",
    "    loop=0\n",
    ")"
   ]
  }
 ],
 "metadata": {
  "language_info": {
   "codemirror_mode": {
    "name": "ipython",
    "version": 3
   },
   "file_extension": ".py",
   "mimetype": "text/x-python",
   "name": "python",
   "nbconvert_exporter": "python",
   "pygments_lexer": "ipython3",
   "version": "3.12.8"
  }
 },
 "nbformat": 4,
 "nbformat_minor": 4
}