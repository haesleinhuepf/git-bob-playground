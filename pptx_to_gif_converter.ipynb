{
 "cells": [
  {
   "cell_type": "markdown",
   "metadata": {},
   "source": [
    "# PPTX to Animated GIF Converter\n",
    "This notebook converts PowerPoint presentations to animated GIFs."
   ]
  },
  {
   "cell_type": "markdown",
   "metadata": {},
   "source": [
    "Import required libraries"
   ]
  },
  {
   "cell_type": "code",
   "execution_count": 1,
   "metadata": {
    "execution": {
     "iopub.execute_input": "2025-01-16T10:43:55.030785Z",
     "iopub.status.busy": "2025-01-16T10:43:55.030339Z",
     "iopub.status.idle": "2025-01-16T10:43:55.102088Z",
     "shell.execute_reply": "2025-01-16T10:43:55.101531Z"
    }
   },
   "outputs": [],
   "source": [
    "from pptx import Presentation\n",
    "from PIL import Image\n",
    "import os"
   ]
  },
  {
   "cell_type": "markdown",
   "metadata": {},
   "source": [
    "Function to convert PPTX slides to PNG images"
   ]
  },
  {
   "cell_type": "code",
   "execution_count": 2,
   "metadata": {
    "execution": {
     "iopub.execute_input": "2025-01-16T10:43:55.104442Z",
     "iopub.status.busy": "2025-01-16T10:43:55.104031Z",
     "iopub.status.idle": "2025-01-16T10:43:55.107863Z",
     "shell.execute_reply": "2025-01-16T10:43:55.107402Z"
    }
   },
   "outputs": [],
   "source": [
    "def pptx_to_images(pptx_path, output_dir='temp_slides'):\n",
    "    # Check if file exists\n",
    "    if not os.path.exists(pptx_path):\n",
    "        raise FileNotFoundError(f\"PowerPoint file not found: {pptx_path}\")\n",
    "        \n",
    "    if not os.path.exists(output_dir):\n",
    "        os.makedirs(output_dir)\n",
    "    \n",
    "    # Open presentation with python-pptx\n",
    "    prs = Presentation(pptx_path)\n",
    "    \n",
    "    image_files = []\n",
    "    # Save each slide as PNG\n",
    "    for i, slide in enumerate(prs.slides):\n",
    "        slide_path = os.path.join(output_dir, f'slide_{i+1}.png')\n",
    "        # Note: This will only save the static content of slides\n",
    "        # Full slide rendering would require additional libraries\n",
    "        image_files.append(slide_path)\n",
    "    \n",
    "    return sorted(image_files)"
   ]
  },
  {
   "cell_type": "markdown",
   "metadata": {},
   "source": [
    "Convert PPTX to GIF"
   ]
  },
  {
   "cell_type": "code",
   "execution_count": 3,
   "metadata": {
    "execution": {
     "iopub.execute_input": "2025-01-16T10:43:55.109701Z",
     "iopub.status.busy": "2025-01-16T10:43:55.109342Z",
     "iopub.status.idle": "2025-01-16T10:43:55.113113Z",
     "shell.execute_reply": "2025-01-16T10:43:55.112671Z"
    }
   },
   "outputs": [
    {
     "name": "stdout",
     "output_type": "stream",
     "text": [
      "Error: PowerPoint file not found: presentation.pptx\n"
     ]
    }
   ],
   "source": [
    "pptx_path = 'presentation.pptx'  # Change this to your PowerPoint file path\n",
    "output_gif = 'presentation.gif'\n",
    "\n",
    "try:\n",
    "    # Convert slides to images\n",
    "    image_files = pptx_to_images(pptx_path)\n",
    "\n",
    "    # Create GIF from images\n",
    "    images = [Image.open(f) for f in image_files]\n",
    "    images[0].save(\n",
    "        output_gif,\n",
    "        save_all=True,\n",
    "        append_images=images[1:],\n",
    "        duration=2000,  # 2 seconds per slide\n",
    "        loop=0\n",
    "    )\n",
    "except FileNotFoundError as e:\n",
    "    print(f\"Error: {e}\")\n",
    "except Exception as e:\n",
    "    print(f\"An error occurred: {e}\")"
   ]
  }
 ],
 "metadata": {
  "language_info": {
   "codemirror_mode": {
    "name": "ipython",
    "version": 3
   },
   "file_extension": ".py",
   "mimetype": "text/x-python",
   "name": "python",
   "nbconvert_exporter": "python",
   "pygments_lexer": "ipython3",
   "version": "3.12.8"
  }
 },
 "nbformat": 4,
 "nbformat_minor": 4
}
