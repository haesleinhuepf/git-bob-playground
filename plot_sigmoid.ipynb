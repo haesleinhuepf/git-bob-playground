{
 "cells": [
  {
   "cell_type": "markdown",
   "id": "f3a56d72",
   "metadata": {},
   "source": [
    "# Plotting a Sigmoid Function\n",
    "In this notebook, we will use Python to plot a sigmoid function using the libraries numpy, scipy, and seaborn."
   ]
  },
  {
   "cell_type": "markdown",
   "id": "ae46129c",
   "metadata": {},
   "source": [
    "## Import Libraries\n",
    "First, we import the necessary Python libraries."
   ]
  },
  {
   "cell_type": "code",
   "execution_count": 1,
   "id": "75992153",
   "metadata": {
    "execution": {
     "iopub.execute_input": "2024-10-17T11:05:37.219187Z",
     "iopub.status.busy": "2024-10-17T11:05:37.218989Z",
     "iopub.status.idle": "2024-10-17T11:05:38.898758Z",
     "shell.execute_reply": "2024-10-17T11:05:38.898166Z"
    }
   },
   "outputs": [],
   "source": [
    "import numpy as np\n",
    "from scipy.special import expit\n",
    "import seaborn as sns\n",
    "import matplotlib.pyplot as plt"
   ]
  },
  {
   "cell_type": "markdown",
   "id": "9c50e181",
   "metadata": {},
   "source": [
    "## Generate Data\n",
    "We generate the x-values and compute the sigmoid using the scipy `expit` function."
   ]
  },
  {
   "cell_type": "code",
   "execution_count": 2,
   "id": "1c2d2db5",
   "metadata": {
    "execution": {
     "iopub.execute_input": "2024-10-17T11:05:38.901068Z",
     "iopub.status.busy": "2024-10-17T11:05:38.900630Z",
     "iopub.status.idle": "2024-10-17T11:05:38.903898Z",
     "shell.execute_reply": "2024-10-17T11:05:38.903339Z"
    }
   },
   "outputs": [],
   "source": [
    "x = np.linspace(-10, 10, 100)\n",
    "sigmoid_y = expit(x)"
   ]
  },
  {
   "cell_type": "markdown",
   "id": "af21db14",
   "metadata": {},
   "source": [
    "## Plot the Sigmoid Function\n",
    "Now we'll plot the generated sigmoid function using seaborn."
   ]
  },
  {
   "cell_type": "code",
   "execution_count": 3,
   "id": "a07b47a9",
   "metadata": {
    "execution": {
     "iopub.execute_input": "2024-10-17T11:05:38.905808Z",
     "iopub.status.busy": "2024-10-17T11:05:38.905447Z",
     "iopub.status.idle": "2024-10-17T11:05:39.053477Z",
     "shell.execute_reply": "2024-10-17T11:05:39.052776Z"
    }
   },
   "outputs": [],
   "source": [
    "sns.set(style=\"whitegrid\")\n",
    "plt.figure(figsize=(8, 4))\n",
    "sns.lineplot(x=x, y=sigmoid_y)\n",
    "plt.title('Sigmoid Function')\n",
    "plt.xlabel('x')\n",
    "plt.ylabel('Sigmoid(x)')\n",
    "plt.savefig('sigmoid_plot.png')\n",
    "plt.close()"
   ]
  }
 ],
 "metadata": {
  "language_info": {
   "codemirror_mode": {
    "name": "ipython",
    "version": 3
   },
   "file_extension": ".py",
   "mimetype": "text/x-python",
   "name": "python",
   "nbconvert_exporter": "python",
   "pygments_lexer": "ipython3",
   "version": "3.12.7"
  }
 },
 "nbformat": 4,
 "nbformat_minor": 5
}
