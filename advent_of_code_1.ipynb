{
 "cells": [
  {
   "cell_type": "markdown",
   "metadata": {},
   "source": [
    "# Advent of Code 1: List Distance Calculator\n",
    "\n",
    "Read input data containing two lists of numbers and calculate the total distance between sorted pairs."
   ]
  },
  {
   "cell_type": "code",
   "execution_count": 1,
   "metadata": {
    "execution": {
     "iopub.execute_input": "2024-12-02T03:23:34.574808Z",
     "iopub.status.busy": "2024-12-02T03:23:34.574619Z",
     "iopub.status.idle": "2024-12-02T03:23:34.634123Z",
     "shell.execute_reply": "2024-12-02T03:23:34.633529Z"
    }
   },
   "outputs": [],
   "source": [
    "import numpy as np"
   ]
  },
  {
   "cell_type": "markdown",
   "metadata": {},
   "source": [
    "Read the input data from file and store in two lists"
   ]
  },
  {
   "cell_type": "code",
   "execution_count": 2,
   "metadata": {
    "execution": {
     "iopub.execute_input": "2024-12-02T03:23:34.637630Z",
     "iopub.status.busy": "2024-12-02T03:23:34.636709Z",
     "iopub.status.idle": "2024-12-02T03:23:34.838105Z",
     "shell.execute_reply": "2024-12-02T03:23:34.837254Z"
    }
   },
   "outputs": [
    {
     "ename": "ValueError",
     "evalue": "invalid literal for int() with base 10: '[...500'",
     "output_type": "error",
     "traceback": [
      "\u001b[0;31m---------------------------------------------------------------------------\u001b[0m",
      "\u001b[0;31mValueError\u001b[0m                                Traceback (most recent call last)",
      "Cell \u001b[0;32mIn[2], line 7\u001b[0m\n\u001b[1;32m      5\u001b[0m \u001b[38;5;28;01mwith\u001b[39;00m \u001b[38;5;28mopen\u001b[39m(\u001b[38;5;124m'\u001b[39m\u001b[38;5;124minput.txt\u001b[39m\u001b[38;5;124m'\u001b[39m, \u001b[38;5;124m'\u001b[39m\u001b[38;5;124mr\u001b[39m\u001b[38;5;124m'\u001b[39m) \u001b[38;5;28;01mas\u001b[39;00m file:\n\u001b[1;32m      6\u001b[0m     \u001b[38;5;28;01mfor\u001b[39;00m line \u001b[38;5;129;01min\u001b[39;00m file:\n\u001b[0;32m----> 7\u001b[0m         left, right \u001b[38;5;241m=\u001b[39m \u001b[38;5;28mmap\u001b[39m(\u001b[38;5;28mint\u001b[39m, line\u001b[38;5;241m.\u001b[39mstrip()\u001b[38;5;241m.\u001b[39msplit())\n\u001b[1;32m      8\u001b[0m         left_list\u001b[38;5;241m.\u001b[39mappend(left)\n\u001b[1;32m      9\u001b[0m         right_list\u001b[38;5;241m.\u001b[39mappend(right)\n",
      "\u001b[0;31mValueError\u001b[0m: invalid literal for int() with base 10: '[...500'"
     ]
    }
   ],
   "source": [
    "left_list = []\n",
    "right_list = []\n",
    "\n",
    "# Read input data\n",
    "with open('input.txt', 'r') as file:\n",
    "    for line in file:\n",
    "        left, right = map(int, line.strip().split())\n",
    "        left_list.append(left)\n",
    "        right_list.append(right)"
   ]
  },
  {
   "cell_type": "markdown",
   "metadata": {},
   "source": [
    "Sort both lists and calculate total distance"
   ]
  },
  {
   "cell_type": "code",
   "execution_count": null,
   "metadata": {},
   "outputs": [],
   "source": [
    "# Sort lists\n",
    "left_sorted = sorted(left_list)\n",
    "right_sorted = sorted(right_list)\n",
    "\n",
    "# Calculate total distance\n",
    "total_distance = sum(abs(l - r) for l, r in zip(left_sorted, right_sorted))\n",
    "\n",
    "# Save result\n",
    "with open('result.txt', 'w') as f:\n",
    "    f.write(f\"Total distance: {total_distance}\")\n",
    "\n",
    "print(f\"Total distance between lists: {total_distance}\")"
   ]
  }
 ],
 "metadata": {
  "language_info": {
   "codemirror_mode": {
    "name": "ipython",
    "version": 3
   },
   "file_extension": ".py",
   "mimetype": "text/x-python",
   "name": "python",
   "nbconvert_exporter": "python",
   "pygments_lexer": "ipython3",
   "version": "3.12.7"
  }
 },
 "nbformat": 4,
 "nbformat_minor": 4
}
