{
 "cells": [
  {
   "cell_type": "markdown",
   "metadata": {},
   "source": [
    "# Solution for Advent of Code 1\n",
    "\n",
    "Calculate the total distance between two lists of location IDs by pairing up sorted numbers from each list and summing their absolute differences."
   ]
  },
  {
   "cell_type": "code",
   "execution_count": 1,
   "metadata": {
    "execution": {
     "iopub.execute_input": "2024-12-02T02:53:48.698943Z",
     "iopub.status.busy": "2024-12-02T02:53:48.698466Z",
     "iopub.status.idle": "2024-12-02T02:53:48.757490Z",
     "shell.execute_reply": "2024-12-02T02:53:48.756922Z"
    }
   },
   "outputs": [],
   "source": [
    "# Import required libraries\n",
    "import numpy as np"
   ]
  },
  {
   "cell_type": "markdown",
   "metadata": {},
   "source": [
    "### Input Data\n",
    "Define the two lists of location IDs"
   ]
  },
  {
   "cell_type": "code",
   "execution_count": 2,
   "metadata": {
    "execution": {
     "iopub.execute_input": "2024-12-02T02:53:48.760634Z",
     "iopub.status.busy": "2024-12-02T02:53:48.759729Z",
     "iopub.status.idle": "2024-12-02T02:53:48.958831Z",
     "shell.execute_reply": "2024-12-02T02:53:48.958010Z"
    }
   },
   "outputs": [
    {
     "ename": "ValueError",
     "evalue": "invalid literal for int() with base 10: '[...]'",
     "output_type": "error",
     "traceback": [
      "\u001b[0;31m---------------------------------------------------------------------------\u001b[0m",
      "\u001b[0;31mValueError\u001b[0m                                Traceback (most recent call last)",
      "Cell \u001b[0;32mIn[2], line 13\u001b[0m\n\u001b[1;32m     10\u001b[0m right_list \u001b[38;5;241m=\u001b[39m []\n\u001b[1;32m     12\u001b[0m \u001b[38;5;28;01mfor\u001b[39;00m line \u001b[38;5;129;01min\u001b[39;00m data\u001b[38;5;241m.\u001b[39msplit(\u001b[38;5;124m'\u001b[39m\u001b[38;5;130;01m\\n\u001b[39;00m\u001b[38;5;124m'\u001b[39m):\n\u001b[0;32m---> 13\u001b[0m     left, right \u001b[38;5;241m=\u001b[39m \u001b[38;5;28mmap\u001b[39m(\u001b[38;5;28mint\u001b[39m, line\u001b[38;5;241m.\u001b[39mstrip()\u001b[38;5;241m.\u001b[39msplit())\n\u001b[1;32m     14\u001b[0m     left_list\u001b[38;5;241m.\u001b[39mappend(left)\n\u001b[1;32m     15\u001b[0m     right_list\u001b[38;5;241m.\u001b[39mappend(right)\n",
      "\u001b[0;31mValueError\u001b[0m: invalid literal for int() with base 10: '[...]'"
     ]
    }
   ],
   "source": [
    "# Create input data lists\n",
    "data = '''39687   54930\n",
    "86219   31559\n",
    "[...]\n",
    "10029   95431\n",
    "85400   15291'''\n",
    "\n",
    "# Split data into left and right lists\n",
    "left_list = []\n",
    "right_list = []\n",
    "\n",
    "for line in data.split('\\n'):\n",
    "    left, right = map(int, line.strip().split())\n",
    "    left_list.append(left)\n",
    "    right_list.append(right)"
   ]
  },
  {
   "cell_type": "markdown",
   "metadata": {},
   "source": [
    "### Calculate total distance\n",
    "Sort both lists and calculate the sum of absolute differences"
   ]
  },
  {
   "cell_type": "code",
   "execution_count": null,
   "metadata": {},
   "outputs": [],
   "source": [
    "# Sort both lists\n",
    "left_sorted = sorted(left_list)\n",
    "right_sorted = sorted(right_list)\n",
    "\n",
    "# Calculate total distance\n",
    "total_distance = sum(abs(l - r) for l, r in zip(left_sorted, right_sorted))\n",
    "\n",
    "print(f\"The total distance between the lists is: {total_distance}\")"
   ]
  }
 ],
 "metadata": {
  "language_info": {
   "codemirror_mode": {
    "name": "ipython",
    "version": 3
   },
   "file_extension": ".py",
   "mimetype": "text/x-python",
   "name": "python",
   "nbconvert_exporter": "python",
   "pygments_lexer": "ipython3",
   "version": "3.12.7"
  }
 },
 "nbformat": 4,
 "nbformat_minor": 4
}
