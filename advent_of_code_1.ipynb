{
 "cells": [
  {
   "cell_type": "markdown",
   "metadata": {},
   "source": [
    "# Advent of Code 1: Location ID Distance Calculator\n",
    "\n",
    "Calculate the total distance between two lists of location IDs by pairing smallest numbers."
   ]
  },
  {
   "cell_type": "markdown",
   "metadata": {},
   "source": [
    "First, let's import the required library and define our input lists:"
   ]
  },
  {
   "cell_type": "code",
   "execution_count": 1,
   "metadata": {
    "execution": {
     "iopub.execute_input": "2024-12-02T02:43:55.579788Z",
     "iopub.status.busy": "2024-12-02T02:43:55.579601Z",
     "iopub.status.idle": "2024-12-02T02:43:55.637977Z",
     "shell.execute_reply": "2024-12-02T02:43:55.637411Z"
    }
   },
   "outputs": [],
   "source": [
    "import numpy as np\n",
    "\n",
    "# Example lists\n",
    "left_list = [3, 4, 2, 1, 3, 3]\n",
    "right_list = [4, 3, 5, 3, 9, 3]"
   ]
  },
  {
   "cell_type": "markdown",
   "metadata": {},
   "source": [
    "Sort both lists to pair smallest numbers:"
   ]
  },
  {
   "cell_type": "code",
   "execution_count": 2,
   "metadata": {
    "execution": {
     "iopub.execute_input": "2024-12-02T02:43:55.641419Z",
     "iopub.status.busy": "2024-12-02T02:43:55.640539Z",
     "iopub.status.idle": "2024-12-02T02:43:55.644445Z",
     "shell.execute_reply": "2024-12-02T02:43:55.643913Z"
    }
   },
   "outputs": [],
   "source": [
    "left_sorted = sorted(left_list)\n",
    "right_sorted = sorted(right_list)"
   ]
  },
  {
   "cell_type": "markdown",
   "metadata": {},
   "source": [
    "Calculate the total distance by summing absolute differences between pairs:"
   ]
  },
  {
   "cell_type": "code",
   "execution_count": 3,
   "metadata": {
    "execution": {
     "iopub.execute_input": "2024-12-02T02:43:55.647620Z",
     "iopub.status.busy": "2024-12-02T02:43:55.646798Z",
     "iopub.status.idle": "2024-12-02T02:43:55.651757Z",
     "shell.execute_reply": "2024-12-02T02:43:55.651224Z"
    }
   },
   "outputs": [],
   "source": [
    "# Calculate distances between pairs\n",
    "distances = [abs(left - right) for left, right in zip(left_sorted, right_sorted)]\n",
    "total_distance = sum(distances)\n",
    "\n",
    "# Save results to file\n",
    "with open('result.txt', 'w') as f:\n",
    "    f.write(f\"Distances between pairs: {distances}\\n\")\n",
    "    f.write(f\"Total distance: {total_distance}\")"
   ]
  }
 ],
 "metadata": {
  "language_info": {
   "codemirror_mode": {
    "name": "ipython",
    "version": 3
   },
   "file_extension": ".py",
   "mimetype": "text/x-python",
   "name": "python",
   "nbconvert_exporter": "python",
   "pygments_lexer": "ipython3",
   "version": "3.12.7"
  }
 },
 "nbformat": 4,
 "nbformat_minor": 2
}
