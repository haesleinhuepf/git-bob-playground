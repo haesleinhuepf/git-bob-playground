{
 "cells": [
  {
   "cell_type": "markdown",
   "metadata": {},
   "source": [
    "# Advent of Code 1: List Distance Calculator\n",
    "\n",
    "Read input data containing two lists of numbers and calculate the total distance between sorted pairs."
   ]
  },
  {
   "cell_type": "code",
   "execution_count": 1,
   "metadata": {
    "execution": {
     "iopub.execute_input": "2024-12-02T03:37:46.049722Z",
     "iopub.status.busy": "2024-12-02T03:37:46.049531Z",
     "iopub.status.idle": "2024-12-02T03:37:46.774779Z",
     "shell.execute_reply": "2024-12-02T03:37:46.774137Z"
    }
   },
   "outputs": [],
   "source": [
    "import numpy as np\n",
    "import matplotlib.pyplot as plt\n",
    "from collections import Counter"
   ]
  },
  {
   "cell_type": "markdown",
   "metadata": {},
   "source": [
    "Read the input data from file and store in two lists"
   ]
  },
  {
   "cell_type": "code",
   "execution_count": 2,
   "metadata": {
    "execution": {
     "iopub.execute_input": "2024-12-02T03:37:46.777125Z",
     "iopub.status.busy": "2024-12-02T03:37:46.776876Z",
     "iopub.status.idle": "2024-12-02T03:37:46.966574Z",
     "shell.execute_reply": "2024-12-02T03:37:46.965951Z"
    }
   },
   "outputs": [],
   "source": [
    "left_list = []\n",
    "right_list = []\n",
    "\n",
    "# Read input data\n",
    "with open('input.txt', 'r') as file:\n",
    "    for line in file:\n",
    "        left, right = map(int, line.strip().split())\n",
    "        left_list.append(left)\n",
    "        right_list.append(right)\n",
    "\n",
    "# Save raw data visualization\n",
    "plt.figure(figsize=(10, 5))\n",
    "plt.scatter(range(len(left_list)), left_list, alpha=0.5, label='Left list')\n",
    "plt.scatter(range(len(right_list)), right_list, alpha=0.5, label='Right list')\n",
    "plt.xlabel('Index')\n",
    "plt.ylabel('Value')\n",
    "plt.legend()\n",
    "plt.title('Raw Input Data Distribution')\n",
    "plt.savefig('raw_data_distribution.png')\n",
    "plt.close()"
   ]
  },
  {
   "cell_type": "markdown",
   "metadata": {},
   "source": [
    "Sort both lists and calculate total distance"
   ]
  },
  {
   "cell_type": "code",
   "execution_count": 3,
   "metadata": {
    "execution": {
     "iopub.execute_input": "2024-12-02T03:37:46.968585Z",
     "iopub.status.busy": "2024-12-02T03:37:46.968391Z",
     "iopub.status.idle": "2024-12-02T03:37:47.073044Z",
     "shell.execute_reply": "2024-12-02T03:37:47.072448Z"
    }
   },
   "outputs": [
    {
     "name": "stdout",
     "output_type": "stream",
     "text": [
      "Total distance between lists: 1651298\n"
     ]
    }
   ],
   "source": [
    "# Sort lists\n",
    "left_sorted = sorted(left_list)\n",
    "right_sorted = sorted(right_list)\n",
    "\n",
    "# Calculate total distance\n",
    "total_distance = sum(abs(l - r) for l, r in zip(left_sorted, right_sorted))\n",
    "\n",
    "# Save sorted data visualization\n",
    "plt.figure(figsize=(10, 5))\n",
    "plt.plot(left_sorted, label='Sorted Left List')\n",
    "plt.plot(right_sorted, label='Sorted Right List')\n",
    "plt.xlabel('Index')\n",
    "plt.ylabel('Value')\n",
    "plt.legend()\n",
    "plt.title('Sorted Lists Comparison')\n",
    "plt.savefig('sorted_lists_comparison.png')\n",
    "plt.close()\n",
    "\n",
    "# Save result\n",
    "with open('result.txt', 'w') as f:\n",
    "    f.write(f\"Total distance: {total_distance}\")\n",
    "\n",
    "print(f\"Total distance between lists: {total_distance}\")"
   ]
  },
  {
   "cell_type": "markdown",
   "metadata": {},
   "source": [
    "Calculate similarity score based on number occurrences"
   ]
  },
  {
   "cell_type": "code",
   "execution_count": 4,
   "metadata": {
    "execution": {
     "iopub.execute_input": "2024-12-02T03:37:47.109538Z",
     "iopub.status.busy": "2024-12-02T03:37:47.109144Z",
     "iopub.status.idle": "2024-12-02T03:37:47.113732Z",
     "shell.execute_reply": "2024-12-02T03:37:47.113181Z"
    }
   },
   "outputs": [
    {
     "name": "stdout",
     "output_type": "stream",
     "text": [
      "Similarity score: 21306195\n"
     ]
    }
   ],
   "source": [
    "# Count occurrences in right list\n",
    "right_counts = Counter(right_list)\n",
    "\n",
    "# Calculate similarity score\n",
    "similarity_score = sum(num * right_counts[num] for num in left_list)\n",
    "\n",
    "# Save similarity score result\n",
    "with open('similarity_score.txt', 'w') as f:\n",
    "    f.write(f\"Similarity score: {similarity_score}\")\n",
    "\n",
    "print(f\"Similarity score: {similarity_score}\")"
   ]
  }
 ],
 "metadata": {
  "language_info": {
   "codemirror_mode": {
    "name": "ipython",
    "version": 3
   },
   "file_extension": ".py",
   "mimetype": "text/x-python",
   "name": "python",
   "nbconvert_exporter": "python",
   "pygments_lexer": "ipython3",
   "version": "3.12.7"
  }
 },
 "nbformat": 4,
 "nbformat_minor": 4
}
