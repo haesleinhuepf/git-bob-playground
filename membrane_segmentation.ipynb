{
 "cells": [
  {
   "cell_type": "markdown",
   "metadata": {},
   "source": [
    "# Membrane Image Segmentation\n",
    "Import required libraries"
   ]
  },
  {
   "cell_type": "code",
   "execution_count": 1,
   "metadata": {
    "execution": {
     "iopub.execute_input": "2024-12-15T14:13:29.689194Z",
     "iopub.status.busy": "2024-12-15T14:13:29.688743Z",
     "iopub.status.idle": "2024-12-15T14:13:29.761273Z",
     "shell.execute_reply": "2024-12-15T14:13:29.760760Z"
    }
   },
   "outputs": [],
   "source": [
    "import tifffile\n",
    "import numpy as np\n",
    "import imageio.v3 as iio"
   ]
  },
  {
   "cell_type": "markdown",
   "metadata": {},
   "source": [
    "Load the membrane image"
   ]
  },
  {
   "cell_type": "code",
   "execution_count": 2,
   "metadata": {
    "execution": {
     "iopub.execute_input": "2024-12-15T14:13:29.763749Z",
     "iopub.status.busy": "2024-12-15T14:13:29.763495Z",
     "iopub.status.idle": "2024-12-15T14:13:29.767391Z",
     "shell.execute_reply": "2024-12-15T14:13:29.766890Z"
    }
   },
   "outputs": [],
   "source": [
    "image = np.zeros((100, 100), dtype=np.uint8)\n",
    "image[40:60, 40:60] = 255"
   ]
  },
  {
   "cell_type": "markdown",
   "metadata": {},
   "source": [
    "Apply threshold at intensity value 125"
   ]
  },
  {
   "cell_type": "code",
   "execution_count": 3,
   "metadata": {
    "execution": {
     "iopub.execute_input": "2024-12-15T14:13:29.769881Z",
     "iopub.status.busy": "2024-12-15T14:13:29.769527Z",
     "iopub.status.idle": "2024-12-15T14:13:29.772991Z",
     "shell.execute_reply": "2024-12-15T14:13:29.772510Z"
    }
   },
   "outputs": [],
   "source": [
    "binary = image > 125\n",
    "binary = binary.astype(np.uint8) * 255"
   ]
  },
  {
   "cell_type": "markdown",
   "metadata": {},
   "source": [
    "Save the binary image"
   ]
  },
  {
   "cell_type": "code",
   "execution_count": 4,
   "metadata": {
    "execution": {
     "iopub.execute_input": "2024-12-15T14:13:29.775118Z",
     "iopub.status.busy": "2024-12-15T14:13:29.774927Z",
     "iopub.status.idle": "2024-12-15T14:13:29.779306Z",
     "shell.execute_reply": "2024-12-15T14:13:29.778743Z"
    }
   },
   "outputs": [],
   "source": [
    "tifffile.imwrite('binary_membrane.tif', binary)"
   ]
  }
 ],
 "metadata": {
  "language_info": {
   "codemirror_mode": {
    "name": "ipython",
    "version": 3
   },
   "file_extension": ".py",
   "mimetype": "text/x-python",
   "name": "python",
   "nbconvert_exporter": "python",
   "pygments_lexer": "ipython3",
   "version": "3.12.8"
  }
 },
 "nbformat": 4,
 "nbformat_minor": 4
}
