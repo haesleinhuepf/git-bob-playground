{
 "cells": [
  {
   "cell_type": "markdown",
   "metadata": {},
   "source": [
    "# Membrane Segmentation\n",
    "This notebook demonstrates how to segment cell membranes from fluorescence microscopy images."
   ]
  },
  {
   "cell_type": "markdown",
   "metadata": {},
   "source": [
    "## Import required libraries"
   ]
  },
  {
   "cell_type": "code",
   "execution_count": 1,
   "metadata": {
    "execution": {
     "iopub.execute_input": "2025-01-24T08:40:59.214653Z",
     "iopub.status.busy": "2025-01-24T08:40:59.214460Z",
     "iopub.status.idle": "2025-01-24T08:40:59.893901Z",
     "shell.execute_reply": "2025-01-24T08:40:59.893224Z"
    }
   },
   "outputs": [],
   "source": [
    "import numpy as np\n",
    "from skimage import io, filters, segmentation\n",
    "from skimage.morphology import remove_small_objects\n",
    "import matplotlib.pyplot as plt"
   ]
  },
  {
   "cell_type": "markdown",
   "metadata": {},
   "source": [
    "## Create synthetic test image"
   ]
  },
  {
   "cell_type": "code",
   "execution_count": 2,
   "metadata": {
    "execution": {
     "iopub.execute_input": "2025-01-24T08:40:59.896446Z",
     "iopub.status.busy": "2025-01-24T08:40:59.895882Z",
     "iopub.status.idle": "2025-01-24T08:41:00.035233Z",
     "shell.execute_reply": "2025-01-24T08:41:00.034610Z"
    }
   },
   "outputs": [],
   "source": [
    "# Create a synthetic membrane-like test image\n",
    "image = np.zeros((100, 100))\n",
    "for i in range(5):\n",
    "    for j in range(5):\n",
    "        center_x = 10 + i * 20\n",
    "        center_y = 10 + j * 20\n",
    "        x, y = np.ogrid[-center_x:100-center_x, -center_y:100-center_y]\n",
    "        mask = x*x + y*y <= 8*8\n",
    "        image[mask] = 1\n",
    "\n",
    "plt.imshow(image, cmap='gray')\n",
    "plt.axis('off')\n",
    "plt.savefig('original.png')\n",
    "plt.close()"
   ]
  },
  {
   "cell_type": "markdown",
   "metadata": {},
   "source": [
    "## Preprocess image using Gaussian smoothing"
   ]
  },
  {
   "cell_type": "code",
   "execution_count": 3,
   "metadata": {
    "execution": {
     "iopub.execute_input": "2025-01-24T08:41:00.037676Z",
     "iopub.status.busy": "2025-01-24T08:41:00.037321Z",
     "iopub.status.idle": "2025-01-24T08:41:00.073096Z",
     "shell.execute_reply": "2025-01-24T08:41:00.072619Z"
    }
   },
   "outputs": [],
   "source": [
    "smoothed = filters.gaussian(image, sigma=1)\n",
    "plt.imshow(smoothed, cmap='gray')\n",
    "plt.axis('off')\n",
    "plt.savefig('smoothed.png')\n",
    "plt.close()"
   ]
  },
  {
   "cell_type": "markdown",
   "metadata": {},
   "source": [
    "## Threshold the image to separate membranes"
   ]
  },
  {
   "cell_type": "code",
   "execution_count": 4,
   "metadata": {
    "execution": {
     "iopub.execute_input": "2025-01-24T08:41:00.075284Z",
     "iopub.status.busy": "2025-01-24T08:41:00.074893Z",
     "iopub.status.idle": "2025-01-24T08:41:00.110360Z",
     "shell.execute_reply": "2025-01-24T08:41:00.109872Z"
    }
   },
   "outputs": [],
   "source": [
    "threshold = filters.threshold_otsu(smoothed)\n",
    "binary = smoothed > threshold\n",
    "plt.imshow(binary, cmap='gray')\n",
    "plt.axis('off')\n",
    "plt.savefig('binary.png')\n",
    "plt.close()"
   ]
  },
  {
   "cell_type": "markdown",
   "metadata": {},
   "source": [
    "## Segment cells using watershed"
   ]
  },
  {
   "cell_type": "code",
   "execution_count": 5,
   "metadata": {
    "execution": {
     "iopub.execute_input": "2025-01-24T08:41:00.112306Z",
     "iopub.status.busy": "2025-01-24T08:41:00.112019Z",
     "iopub.status.idle": "2025-01-24T08:41:00.167996Z",
     "shell.execute_reply": "2025-01-24T08:41:00.167501Z"
    }
   },
   "outputs": [],
   "source": [
    "distance = segmentation.watershed(-smoothed, markers=100, mask=~binary)\n",
    "labels = remove_small_objects(distance > 0, min_size=100)\n",
    "\n",
    "plt.imshow(labels, cmap='nipy_spectral')\n",
    "plt.axis('off')\n",
    "plt.savefig('segmented.png')\n",
    "plt.close()\n",
    "\n",
    "io.imsave('labels.png', (labels * 255 / labels.max()).astype(np.uint8))"
   ]
  }
 ],
 "metadata": {
  "language_info": {
   "codemirror_mode": {
    "name": "ipython",
    "version": 3
   },
   "file_extension": ".py",
   "mimetype": "text/x-python",
   "name": "python",
   "nbconvert_exporter": "python",
   "pygments_lexer": "ipython3",
   "version": "3.12.8"
  }
 },
 "nbformat": 4,
 "nbformat_minor": 4
}
