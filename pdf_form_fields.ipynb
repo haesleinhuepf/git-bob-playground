{
 "cells": [
  {
   "cell_type": "markdown",
   "metadata": {},
   "source": [
    "# PDF Form Field Analysis\n",
    "\n",
    "This notebook demonstrates how to extract form fields from a PDF using PyPDF2."
   ]
  },
  {
   "cell_type": "markdown",
   "metadata": {},
   "source": [
    "First, let's install and import the required library"
   ]
  },
  {
   "cell_type": "code",
   "execution_count": 1,
   "metadata": {
    "execution": {
     "iopub.execute_input": "2025-02-27T08:58:35.484901Z",
     "iopub.status.busy": "2025-02-27T08:58:35.484719Z",
     "iopub.status.idle": "2025-02-27T08:58:36.959526Z",
     "shell.execute_reply": "2025-02-27T08:58:36.958799Z"
    }
   },
   "outputs": [
    {
     "name": "stdout",
     "output_type": "stream",
     "text": [
      "Collecting PyPDF2\r\n"
     ]
    },
    {
     "name": "stdout",
     "output_type": "stream",
     "text": [
      "  Downloading pypdf2-3.0.1-py3-none-any.whl.metadata (6.8 kB)\r\n"
     ]
    },
    {
     "name": "stdout",
     "output_type": "stream",
     "text": [
      "Downloading pypdf2-3.0.1-py3-none-any.whl (232 kB)\r\n"
     ]
    },
    {
     "name": "stdout",
     "output_type": "stream",
     "text": [
      "Installing collected packages: PyPDF2\r\n"
     ]
    },
    {
     "name": "stdout",
     "output_type": "stream",
     "text": [
      "Successfully installed PyPDF2-3.0.1\r\n"
     ]
    }
   ],
   "source": [
    "!pip install PyPDF2"
   ]
  },
  {
   "cell_type": "code",
   "execution_count": 2,
   "metadata": {
    "execution": {
     "iopub.execute_input": "2025-02-27T08:58:36.961782Z",
     "iopub.status.busy": "2025-02-27T08:58:36.961457Z",
     "iopub.status.idle": "2025-02-27T08:58:37.041649Z",
     "shell.execute_reply": "2025-02-27T08:58:37.041110Z"
    }
   },
   "outputs": [],
   "source": [
    "from PyPDF2 import PdfReader"
   ]
  },
  {
   "cell_type": "markdown",
   "metadata": {},
   "source": [
    "Load the PDF file and get the form fields"
   ]
  },
  {
   "cell_type": "code",
   "execution_count": 3,
   "metadata": {
    "execution": {
     "iopub.execute_input": "2025-02-27T08:58:37.043839Z",
     "iopub.status.busy": "2025-02-27T08:58:37.043479Z",
     "iopub.status.idle": "2025-02-27T08:58:37.262317Z",
     "shell.execute_reply": "2025-02-27T08:58:37.261453Z"
    }
   },
   "outputs": [
    {
     "ename": "FileNotFoundError",
     "evalue": "[Errno 2] No such file or directory: 'DRA_template.pdf'",
     "output_type": "error",
     "traceback": [
      "\u001b[0;31m---------------------------------------------------------------------------\u001b[0m",
      "\u001b[0;31mFileNotFoundError\u001b[0m                         Traceback (most recent call last)",
      "Cell \u001b[0;32mIn[3], line 1\u001b[0m\n\u001b[0;32m----> 1\u001b[0m reader \u001b[38;5;241m=\u001b[39m \u001b[43mPdfReader\u001b[49m\u001b[43m(\u001b[49m\u001b[38;5;124;43m\"\u001b[39;49m\u001b[38;5;124;43mDRA_template.pdf\u001b[39;49m\u001b[38;5;124;43m\"\u001b[39;49m\u001b[43m)\u001b[49m\n\u001b[1;32m      3\u001b[0m \u001b[38;5;66;03m# Get form fields from the PDF\u001b[39;00m\n\u001b[1;32m      4\u001b[0m form_fields \u001b[38;5;241m=\u001b[39m reader\u001b[38;5;241m.\u001b[39mget_form_text_fields()\n",
      "File \u001b[0;32m/opt/hostedtoolcache/Python/3.13.2/x64/lib/python3.13/site-packages/PyPDF2/_reader.py:317\u001b[0m, in \u001b[0;36mPdfReader.__init__\u001b[0;34m(self, stream, strict, password)\u001b[0m\n\u001b[1;32m    311\u001b[0m     logger_warning(\n\u001b[1;32m    312\u001b[0m         \u001b[38;5;124m\"\u001b[39m\u001b[38;5;124mPdfReader stream/file object is not in binary mode. \u001b[39m\u001b[38;5;124m\"\u001b[39m\n\u001b[1;32m    313\u001b[0m         \u001b[38;5;124m\"\u001b[39m\u001b[38;5;124mIt may not be read correctly.\u001b[39m\u001b[38;5;124m\"\u001b[39m,\n\u001b[1;32m    314\u001b[0m         \u001b[38;5;18m__name__\u001b[39m,\n\u001b[1;32m    315\u001b[0m     )\n\u001b[1;32m    316\u001b[0m \u001b[38;5;28;01mif\u001b[39;00m \u001b[38;5;28misinstance\u001b[39m(stream, (\u001b[38;5;28mstr\u001b[39m, Path)):\n\u001b[0;32m--> 317\u001b[0m     \u001b[38;5;28;01mwith\u001b[39;00m \u001b[38;5;28;43mopen\u001b[39;49m\u001b[43m(\u001b[49m\u001b[43mstream\u001b[49m\u001b[43m,\u001b[49m\u001b[43m \u001b[49m\u001b[38;5;124;43m\"\u001b[39;49m\u001b[38;5;124;43mrb\u001b[39;49m\u001b[38;5;124;43m\"\u001b[39;49m\u001b[43m)\u001b[49m \u001b[38;5;28;01mas\u001b[39;00m fh:\n\u001b[1;32m    318\u001b[0m         stream \u001b[38;5;241m=\u001b[39m BytesIO(fh\u001b[38;5;241m.\u001b[39mread())\n\u001b[1;32m    319\u001b[0m \u001b[38;5;28mself\u001b[39m\u001b[38;5;241m.\u001b[39mread(stream)\n",
      "\u001b[0;31mFileNotFoundError\u001b[0m: [Errno 2] No such file or directory: 'DRA_template.pdf'"
     ]
    }
   ],
   "source": [
    "reader = PdfReader(\"DRA_template.pdf\")\n",
    "\n",
    "# Get form fields from the PDF\n",
    "form_fields = reader.get_form_text_fields()\n",
    "\n",
    "# Save form fields to a text file\n",
    "with open('form_fields.txt', 'w') as f:\n",
    "    for field_name, value in form_fields.items():\n",
    "        f.write(f\"Field: {field_name}, Current Value: {value}\\n\")"
   ]
  },
  {
   "cell_type": "markdown",
   "metadata": {},
   "source": [
    "Now we can also see what kinds of fields are available (checkboxes, text fields etc.)"
   ]
  },
  {
   "cell_type": "code",
   "execution_count": null,
   "metadata": {},
   "outputs": [],
   "source": [
    "# Get all fields including their types\n",
    "all_fields = {}\n",
    "if '/AcroForm' in reader.trailer['/Root']:\n",
    "    form = reader.trailer['/Root']['/AcroForm']\n",
    "    if '/Fields' in form:\n",
    "        fields = form['/Fields']\n",
    "        for i in range(len(fields)):\n",
    "            field = fields[i].get_object()\n",
    "            name = field.get('/T')\n",
    "            type = field.get('/FT')\n",
    "            all_fields[name] = type\n",
    "\n",
    "# Save detailed field information\n",
    "with open('field_types.txt', 'w') as f:\n",
    "    for name, type in all_fields.items():\n",
    "        f.write(f\"Field Name: {name}, Type: {type}\\n\")"
   ]
  }
 ],
 "metadata": {
  "language_info": {
   "codemirror_mode": {
    "name": "ipython",
    "version": 3
   },
   "file_extension": ".py",
   "mimetype": "text/x-python",
   "name": "python",
   "nbconvert_exporter": "python",
   "pygments_lexer": "ipython3",
   "version": "3.13.2"
  }
 },
 "nbformat": 4,
 "nbformat_minor": 4
}