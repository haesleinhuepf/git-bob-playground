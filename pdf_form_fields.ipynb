{
 "cells": [
  {
   "cell_type": "markdown",
   "metadata": {},
   "source": [
    "# PDF Form Field Analysis\n",
    "\n",
    "This notebook demonstrates how to extract form fields from a PDF using PyPDF2."
   ]
  },
  {
   "cell_type": "markdown",
   "metadata": {},
   "source": [
    "First, let's install and import the required libraries"
   ]
  },
  {
   "cell_type": "code",
   "execution_count": 1,
   "metadata": {
    "execution": {
     "iopub.execute_input": "2025-02-27T08:59:22.780521Z",
     "iopub.status.busy": "2025-02-27T08:59:22.780342Z",
     "iopub.status.idle": "2025-02-27T08:59:25.113300Z",
     "shell.execute_reply": "2025-02-27T08:59:25.112644Z"
    }
   },
   "outputs": [
    {
     "name": "stdout",
     "output_type": "stream",
     "text": [
      "Requirement already satisfied: PyPDF2 in /opt/hostedtoolcache/Python/3.13.2/x64/lib/python3.13/site-packages (3.0.1)\r\n"
     ]
    },
    {
     "name": "stdout",
     "output_type": "stream",
     "text": [
      "Collecting reportlab\r\n"
     ]
    },
    {
     "name": "stdout",
     "output_type": "stream",
     "text": [
      "  Downloading reportlab-4.3.1-py3-none-any.whl.metadata (1.7 kB)\r\n",
      "Requirement already satisfied: pillow>=9.0.0 in /opt/hostedtoolcache/Python/3.13.2/x64/lib/python3.13/site-packages (from reportlab) (11.1.0)\r\n",
      "Collecting chardet (from reportlab)\r\n",
      "  Downloading chardet-5.2.0-py3-none-any.whl.metadata (3.4 kB)\r\n"
     ]
    },
    {
     "name": "stdout",
     "output_type": "stream",
     "text": [
      "Downloading reportlab-4.3.1-py3-none-any.whl (1.9 MB)\r\n",
      "\u001b[?25l   \u001b[90m━━━━━━━━━━━━━━━━━━━━━━━━━━━━━━━━━━━━━━━━\u001b[0m \u001b[32m0.0/1.9 MB\u001b[0m \u001b[31m?\u001b[0m eta \u001b[36m-:--:--\u001b[0m"
     ]
    },
    {
     "name": "stdout",
     "output_type": "stream",
     "text": [
      "\r",
      "\u001b[2K   \u001b[90m━━━━━━━━━━━━━━━━━━━━━━━━━━━━━━━━━━━━━━━━\u001b[0m \u001b[32m1.9/1.9 MB\u001b[0m \u001b[31m31.0 MB/s\u001b[0m eta \u001b[36m0:00:00\u001b[0m\r\n",
      "\u001b[?25h"
     ]
    },
    {
     "name": "stdout",
     "output_type": "stream",
     "text": [
      "Downloading chardet-5.2.0-py3-none-any.whl (199 kB)\r\n"
     ]
    },
    {
     "name": "stdout",
     "output_type": "stream",
     "text": [
      "Installing collected packages: chardet, reportlab\r\n"
     ]
    },
    {
     "name": "stdout",
     "output_type": "stream",
     "text": [
      "Successfully installed chardet-5.2.0 reportlab-4.3.1\r\n"
     ]
    }
   ],
   "source": [
    "!pip install PyPDF2 reportlab"
   ]
  },
  {
   "cell_type": "code",
   "execution_count": 2,
   "metadata": {
    "execution": {
     "iopub.execute_input": "2025-02-27T08:59:25.115356Z",
     "iopub.status.busy": "2025-02-27T08:59:25.115152Z",
     "iopub.status.idle": "2025-02-27T08:59:25.143690Z",
     "shell.execute_reply": "2025-02-27T08:59:25.143256Z"
    }
   },
   "outputs": [],
   "source": [
    "from PyPDF2 import PdfReader\n",
    "from pathlib import Path"
   ]
  },
  {
   "cell_type": "markdown",
   "metadata": {},
   "source": [
    "Create a sample PDF with form fields for demonstration"
   ]
  },
  {
   "cell_type": "code",
   "execution_count": 3,
   "metadata": {
    "execution": {
     "iopub.execute_input": "2025-02-27T08:59:25.145698Z",
     "iopub.status.busy": "2025-02-27T08:59:25.145365Z",
     "iopub.status.idle": "2025-02-27T08:59:25.184581Z",
     "shell.execute_reply": "2025-02-27T08:59:25.184113Z"
    }
   },
   "outputs": [],
   "source": [
    "# Using a sample blank PDF for demonstration\n",
    "sample_pdf_path = Path(\"sample.pdf\")\n",
    "if not sample_pdf_path.exists():\n",
    "    from reportlab.pdfgen import canvas\n",
    "    c = canvas.Canvas(str(sample_pdf_path))\n",
    "    c.save()"
   ]
  },
  {
   "cell_type": "markdown",
   "metadata": {},
   "source": [
    "Load the PDF file and get the form fields"
   ]
  },
  {
   "cell_type": "code",
   "execution_count": 4,
   "metadata": {
    "execution": {
     "iopub.execute_input": "2025-02-27T08:59:25.186587Z",
     "iopub.status.busy": "2025-02-27T08:59:25.186236Z",
     "iopub.status.idle": "2025-02-27T08:59:25.189968Z",
     "shell.execute_reply": "2025-02-27T08:59:25.189550Z"
    }
   },
   "outputs": [],
   "source": [
    "reader = PdfReader(sample_pdf_path)\n",
    "\n",
    "# Get form fields from the PDF\n",
    "form_fields = reader.get_form_text_fields()\n",
    "\n",
    "# Save form fields to a text file\n",
    "with open('form_fields.txt', 'w') as f:\n",
    "    for field_name, value in form_fields.items():\n",
    "        f.write(f\"Field: {field_name}, Current Value: {value}\\n\")"
   ]
  },
  {
   "cell_type": "markdown",
   "metadata": {},
   "source": [
    "Now we can also see what kinds of fields are available (checkboxes, text fields etc.)"
   ]
  },
  {
   "cell_type": "code",
   "execution_count": 5,
   "metadata": {
    "execution": {
     "iopub.execute_input": "2025-02-27T08:59:25.191738Z",
     "iopub.status.busy": "2025-02-27T08:59:25.191400Z",
     "iopub.status.idle": "2025-02-27T08:59:25.195248Z",
     "shell.execute_reply": "2025-02-27T08:59:25.194788Z"
    }
   },
   "outputs": [],
   "source": [
    "# Get all fields including their types\n",
    "all_fields = {}\n",
    "if '/AcroForm' in reader.trailer['/Root']:\n",
    "    form = reader.trailer['/Root']['/AcroForm']\n",
    "    if '/Fields' in form:\n",
    "        fields = form['/Fields']\n",
    "        for i in range(len(fields)):\n",
    "            field = fields[i].get_object()\n",
    "            name = field.get('/T')\n",
    "            type = field.get('/FT')\n",
    "            all_fields[name] = type\n",
    "\n",
    "# Save detailed field information\n",
    "with open('field_types.txt', 'w') as f:\n",
    "    for name, type in all_fields.items():\n",
    "        f.write(f\"Field Name: {name}, Type: {type}\\n\")"
   ]
  }
 ],
 "metadata": {
  "language_info": {
   "codemirror_mode": {
    "name": "ipython",
    "version": 3
   },
   "file_extension": ".py",
   "mimetype": "text/x-python",
   "name": "python",
   "nbconvert_exporter": "python",
   "pygments_lexer": "ipython3",
   "version": "3.13.2"
  }
 },
 "nbformat": 4,
 "nbformat_minor": 4
}
