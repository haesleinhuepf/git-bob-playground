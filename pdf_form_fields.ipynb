{
 "cells": [
  {
   "cell_type": "markdown",
   "metadata": {},
   "source": [
    "# PDF Form Field Analysis\n",
    "\n",
    "This notebook demonstrates how to extract form fields from a PDF using PyPDF2."
   ]
  },
  {
   "cell_type": "markdown",
   "metadata": {},
   "source": [
    "First, let's install and import the required library"
   ]
  },
  {
   "cell_type": "code",
   "execution_count": 1,
   "metadata": {
    "execution": {
     "iopub.execute_input": "2025-02-27T08:58:59.027250Z",
     "iopub.status.busy": "2025-02-27T08:58:59.027048Z",
     "iopub.status.idle": "2025-02-27T08:59:00.064008Z",
     "shell.execute_reply": "2025-02-27T08:59:00.063326Z"
    }
   },
   "outputs": [
    {
     "name": "stdout",
     "output_type": "stream",
     "text": [
      "Requirement already satisfied: PyPDF2 in /opt/hostedtoolcache/Python/3.13.2/x64/lib/python3.13/site-packages (3.0.1)\r\n"
     ]
    }
   ],
   "source": [
    "!pip install PyPDF2"
   ]
  },
  {
   "cell_type": "code",
   "execution_count": 2,
   "metadata": {
    "execution": {
     "iopub.execute_input": "2025-02-27T08:59:00.066436Z",
     "iopub.status.busy": "2025-02-27T08:59:00.065894Z",
     "iopub.status.idle": "2025-02-27T08:59:00.094225Z",
     "shell.execute_reply": "2025-02-27T08:59:00.093616Z"
    }
   },
   "outputs": [],
   "source": [
    "from PyPDF2 import PdfReader\n",
    "from pathlib import Path"
   ]
  },
  {
   "cell_type": "markdown",
   "metadata": {},
   "source": [
    "Create a sample PDF with form fields for demonstration"
   ]
  },
  {
   "cell_type": "code",
   "execution_count": 3,
   "metadata": {
    "execution": {
     "iopub.execute_input": "2025-02-27T08:59:00.096456Z",
     "iopub.status.busy": "2025-02-27T08:59:00.095996Z",
     "iopub.status.idle": "2025-02-27T08:59:00.240182Z",
     "shell.execute_reply": "2025-02-27T08:59:00.239466Z"
    }
   },
   "outputs": [
    {
     "ename": "ModuleNotFoundError",
     "evalue": "No module named 'reportlab'",
     "output_type": "error",
     "traceback": [
      "\u001b[0;31m---------------------------------------------------------------------------\u001b[0m",
      "\u001b[0;31mModuleNotFoundError\u001b[0m                       Traceback (most recent call last)",
      "Cell \u001b[0;32mIn[3], line 4\u001b[0m\n\u001b[1;32m      2\u001b[0m sample_pdf_path \u001b[38;5;241m=\u001b[39m Path(\u001b[38;5;124m\"\u001b[39m\u001b[38;5;124msample.pdf\u001b[39m\u001b[38;5;124m\"\u001b[39m)\n\u001b[1;32m      3\u001b[0m \u001b[38;5;28;01mif\u001b[39;00m \u001b[38;5;129;01mnot\u001b[39;00m sample_pdf_path\u001b[38;5;241m.\u001b[39mexists():\n\u001b[0;32m----> 4\u001b[0m     \u001b[38;5;28;01mfrom\u001b[39;00m\u001b[38;5;250m \u001b[39m\u001b[38;5;21;01mreportlab\u001b[39;00m\u001b[38;5;21;01m.\u001b[39;00m\u001b[38;5;21;01mpdfgen\u001b[39;00m\u001b[38;5;250m \u001b[39m\u001b[38;5;28;01mimport\u001b[39;00m canvas\n\u001b[1;32m      5\u001b[0m     c \u001b[38;5;241m=\u001b[39m canvas\u001b[38;5;241m.\u001b[39mCanvas(\u001b[38;5;28mstr\u001b[39m(sample_pdf_path))\n\u001b[1;32m      6\u001b[0m     c\u001b[38;5;241m.\u001b[39msave()\n",
      "\u001b[0;31mModuleNotFoundError\u001b[0m: No module named 'reportlab'"
     ]
    }
   ],
   "source": [
    "# Using a sample blank PDF for demonstration\n",
    "sample_pdf_path = Path(\"sample.pdf\")\n",
    "if not sample_pdf_path.exists():\n",
    "    from reportlab.pdfgen import canvas\n",
    "    c = canvas.Canvas(str(sample_pdf_path))\n",
    "    c.save()"
   ]
  },
  {
   "cell_type": "markdown",
   "metadata": {},
   "source": [
    "Load the PDF file and get the form fields"
   ]
  },
  {
   "cell_type": "code",
   "execution_count": null,
   "metadata": {
    "execution": {
     "iopub.execute_input": "2025-02-27T08:58:37.043839Z",
     "iopub.status.busy": "2025-02-27T08:58:37.043479Z",
     "iopub.status.idle": "2025-02-27T08:58:37.262317Z",
     "shell.execute_reply": "2025-02-27T08:58:37.261453Z"
    }
   },
   "outputs": [],
   "source": [
    "reader = PdfReader(sample_pdf_path)\n",
    "\n",
    "# Get form fields from the PDF\n",
    "form_fields = reader.get_form_text_fields()\n",
    "\n",
    "# Save form fields to a text file\n",
    "with open('form_fields.txt', 'w') as f:\n",
    "    for field_name, value in form_fields.items():\n",
    "        f.write(f\"Field: {field_name}, Current Value: {value}\\n\")"
   ]
  },
  {
   "cell_type": "markdown",
   "metadata": {},
   "source": [
    "Now we can also see what kinds of fields are available (checkboxes, text fields etc.)"
   ]
  },
  {
   "cell_type": "code",
   "execution_count": null,
   "metadata": {},
   "outputs": [],
   "source": [
    "# Get all fields including their types\n",
    "all_fields = {}\n",
    "if '/AcroForm' in reader.trailer['/Root']:\n",
    "    form = reader.trailer['/Root']['/AcroForm']\n",
    "    if '/Fields' in form:\n",
    "        fields = form['/Fields']\n",
    "        for i in range(len(fields)):\n",
    "            field = fields[i].get_object()\n",
    "            name = field.get('/T')\n",
    "            type = field.get('/FT')\n",
    "            all_fields[name] = type\n",
    "\n",
    "# Save detailed field information\n",
    "with open('field_types.txt', 'w') as f:\n",
    "    for name, type in all_fields.items():\n",
    "        f.write(f\"Field Name: {name}, Type: {type}\\n\")"
   ]
  }
 ],
 "metadata": {
  "language_info": {
   "codemirror_mode": {
    "name": "ipython",
    "version": 3
   },
   "file_extension": ".py",
   "mimetype": "text/x-python",
   "name": "python",
   "nbconvert_exporter": "python",
   "pygments_lexer": "ipython3",
   "version": "3.13.2"
  }
 },
 "nbformat": 4,
 "nbformat_minor": 4
}