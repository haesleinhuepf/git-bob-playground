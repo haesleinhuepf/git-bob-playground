{
 "cells": [
  {
   "cell_type": "markdown",
   "metadata": {},
   "source": [
    "# PDF Form Field Analysis\n",
    "\n",
    "This notebook demonstrates how to extract form fields from a PDF using PyPDF2."
   ]
  },
  {
   "cell_type": "markdown",
   "metadata": {},
   "source": [
    "First, let's import the required library"
   ]
  },
  {
   "cell_type": "code",
   "execution_count": 1,
   "metadata": {
    "execution": {
     "iopub.execute_input": "2025-02-27T08:58:18.992758Z",
     "iopub.status.busy": "2025-02-27T08:58:18.992322Z",
     "iopub.status.idle": "2025-02-27T08:58:19.147932Z",
     "shell.execute_reply": "2025-02-27T08:58:19.147030Z"
    }
   },
   "outputs": [
    {
     "ename": "ModuleNotFoundError",
     "evalue": "No module named 'PyPDF2'",
     "output_type": "error",
     "traceback": [
      "\u001b[0;31m---------------------------------------------------------------------------\u001b[0m",
      "\u001b[0;31mModuleNotFoundError\u001b[0m                       Traceback (most recent call last)",
      "Cell \u001b[0;32mIn[1], line 1\u001b[0m\n\u001b[0;32m----> 1\u001b[0m \u001b[38;5;28;01mfrom\u001b[39;00m\u001b[38;5;250m \u001b[39m\u001b[38;5;21;01mPyPDF2\u001b[39;00m\u001b[38;5;250m \u001b[39m\u001b[38;5;28;01mimport\u001b[39;00m PdfReader\n",
      "\u001b[0;31mModuleNotFoundError\u001b[0m: No module named 'PyPDF2'"
     ]
    }
   ],
   "source": [
    "from PyPDF2 import PdfReader"
   ]
  },
  {
   "cell_type": "markdown",
   "metadata": {},
   "source": [
    "Load the PDF file and get the form fields"
   ]
  },
  {
   "cell_type": "code",
   "execution_count": null,
   "metadata": {},
   "outputs": [],
   "source": [
    "reader = PdfReader(\"DRA_template.pdf\")\n",
    "\n",
    "# Get form fields from the PDF\n",
    "form_fields = reader.get_form_text_fields()\n",
    "\n",
    "# Save form fields to a text file\n",
    "with open('form_fields.txt', 'w') as f:\n",
    "    for field_name, value in form_fields.items():\n",
    "        f.write(f\"Field: {field_name}, Current Value: {value}\\n\")"
   ]
  },
  {
   "cell_type": "markdown",
   "metadata": {},
   "source": [
    "Now we can also see what kinds of fields are available (checkboxes, text fields etc.)"
   ]
  },
  {
   "cell_type": "code",
   "execution_count": null,
   "metadata": {},
   "outputs": [],
   "source": [
    "# Get all fields including their types\n",
    "all_fields = {}\n",
    "if '/AcroForm' in reader.trailer['/Root']:\n",
    "    form = reader.trailer['/Root']['/AcroForm']\n",
    "    if '/Fields' in form:\n",
    "        fields = form['/Fields']\n",
    "        for i in range(len(fields)):\n",
    "            field = fields[i].get_object()\n",
    "            name = field.get('/T')\n",
    "            type = field.get('/FT')\n",
    "            all_fields[name] = type\n",
    "\n",
    "# Save detailed field information\n",
    "with open('field_types.txt', 'w') as f:\n",
    "    for name, type in all_fields.items():\n",
    "        f.write(f\"Field Name: {name}, Type: {type}\\n\")"
   ]
  }
 ],
 "metadata": {
  "language_info": {
   "codemirror_mode": {
    "name": "ipython",
    "version": 3
   },
   "file_extension": ".py",
   "mimetype": "text/x-python",
   "name": "python",
   "nbconvert_exporter": "python",
   "pygments_lexer": "ipython3",
   "version": "3.13.2"
  }
 },
 "nbformat": 4,
 "nbformat_minor": 4
}