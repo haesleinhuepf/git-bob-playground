{
 "cells": [
  {
   "cell_type": "markdown",
   "metadata": {},
   "source": [
    "# OME-Zarr Example Notebook\n",
    "\n",
    "This notebook demonstrates how to work with OME-Zarr files using the ome-zarr-py library."
   ]
  },
  {
   "cell_type": "markdown",
   "metadata": {},
   "source": [
    "## Install and Import required libraries"
   ]
  },
  {
   "cell_type": "code",
   "execution_count": 1,
   "metadata": {
    "execution": {
     "iopub.execute_input": "2025-02-06T11:19:14.774054Z",
     "iopub.status.busy": "2025-02-06T11:19:14.773876Z",
     "iopub.status.idle": "2025-02-06T11:19:20.742771Z",
     "shell.execute_reply": "2025-02-06T11:19:20.742172Z"
    }
   },
   "outputs": [
    {
     "name": "stdout",
     "output_type": "stream",
     "text": [
      "Collecting ome-zarr\r\n"
     ]
    },
    {
     "name": "stdout",
     "output_type": "stream",
     "text": [
      "  Downloading ome_zarr-0.10.3-py3-none-any.whl.metadata (3.1 kB)\r\n"
     ]
    },
    {
     "name": "stdout",
     "output_type": "stream",
     "text": [
      "Requirement already satisfied: numpy in /opt/hostedtoolcache/Python/3.13.1/x64/lib/python3.13/site-packages (from ome-zarr) (2.1.3)\r\n",
      "Requirement already satisfied: dask in /opt/hostedtoolcache/Python/3.13.1/x64/lib/python3.13/site-packages (from ome-zarr) (2025.1.0)\r\n"
     ]
    },
    {
     "name": "stdout",
     "output_type": "stream",
     "text": [
      "Collecting distributed (from ome-zarr)\r\n",
      "  Downloading distributed-2025.1.0-py3-none-any.whl.metadata (3.3 kB)\r\n"
     ]
    },
    {
     "name": "stdout",
     "output_type": "stream",
     "text": [
      "Collecting zarr<3,>=2.8.1 (from ome-zarr)\r\n",
      "  Downloading zarr-2.18.4-py3-none-any.whl.metadata (5.8 kB)\r\n",
      "Requirement already satisfied: fsspec!=2021.07.0,!=2023.9.0,>=0.8 in /opt/hostedtoolcache/Python/3.13.1/x64/lib/python3.13/site-packages (from fsspec[s3]!=2021.07.0,!=2023.9.0,>=0.8->ome-zarr) (2025.2.0)\r\n",
      "Requirement already satisfied: aiohttp<4 in /opt/hostedtoolcache/Python/3.13.1/x64/lib/python3.13/site-packages (from ome-zarr) (3.11.12)\r\n",
      "Requirement already satisfied: requests in /opt/hostedtoolcache/Python/3.13.1/x64/lib/python3.13/site-packages (from ome-zarr) (2.32.3)\r\n",
      "Requirement already satisfied: scikit-image in /opt/hostedtoolcache/Python/3.13.1/x64/lib/python3.13/site-packages (from ome-zarr) (0.25.1)\r\n",
      "Requirement already satisfied: toolz in /opt/hostedtoolcache/Python/3.13.1/x64/lib/python3.13/site-packages (from ome-zarr) (1.0.0)\r\n",
      "Requirement already satisfied: aiohappyeyeballs>=2.3.0 in /opt/hostedtoolcache/Python/3.13.1/x64/lib/python3.13/site-packages (from aiohttp<4->ome-zarr) (2.4.4)\r\n",
      "Requirement already satisfied: aiosignal>=1.1.2 in /opt/hostedtoolcache/Python/3.13.1/x64/lib/python3.13/site-packages (from aiohttp<4->ome-zarr) (1.3.2)\r\n",
      "Requirement already satisfied: attrs>=17.3.0 in /opt/hostedtoolcache/Python/3.13.1/x64/lib/python3.13/site-packages (from aiohttp<4->ome-zarr) (25.1.0)\r\n",
      "Requirement already satisfied: frozenlist>=1.1.1 in /opt/hostedtoolcache/Python/3.13.1/x64/lib/python3.13/site-packages (from aiohttp<4->ome-zarr) (1.5.0)\r\n",
      "Requirement already satisfied: multidict<7.0,>=4.5 in /opt/hostedtoolcache/Python/3.13.1/x64/lib/python3.13/site-packages (from aiohttp<4->ome-zarr) (6.1.0)\r\n",
      "Requirement already satisfied: propcache>=0.2.0 in /opt/hostedtoolcache/Python/3.13.1/x64/lib/python3.13/site-packages (from aiohttp<4->ome-zarr) (0.2.1)\r\n",
      "Requirement already satisfied: yarl<2.0,>=1.17.0 in /opt/hostedtoolcache/Python/3.13.1/x64/lib/python3.13/site-packages (from aiohttp<4->ome-zarr) (1.18.3)\r\n"
     ]
    },
    {
     "name": "stdout",
     "output_type": "stream",
     "text": [
      "Collecting s3fs (from fsspec[s3]!=2021.07.0,!=2023.9.0,>=0.8->ome-zarr)\r\n",
      "  Downloading s3fs-2025.2.0-py3-none-any.whl.metadata (1.9 kB)\r\n"
     ]
    },
    {
     "name": "stdout",
     "output_type": "stream",
     "text": [
      "Collecting asciitree (from zarr<3,>=2.8.1->ome-zarr)\r\n",
      "  Downloading asciitree-0.3.3.tar.gz (4.0 kB)\r\n"
     ]
    },
    {
     "name": "stdout",
     "output_type": "stream",
     "text": [
      "  Preparing metadata (setup.py) ... \u001b[?25l-"
     ]
    },
    {
     "name": "stdout",
     "output_type": "stream",
     "text": [
      "\b \bdone\r\n"
     ]
    },
    {
     "name": "stdout",
     "output_type": "stream",
     "text": [
      "\u001b[?25hCollecting fasteners (from zarr<3,>=2.8.1->ome-zarr)\r\n",
      "  Downloading fasteners-0.19-py3-none-any.whl.metadata (4.9 kB)\r\n"
     ]
    },
    {
     "name": "stdout",
     "output_type": "stream",
     "text": [
      "Collecting numcodecs!=0.14.0,!=0.14.1,>=0.10.0 (from zarr<3,>=2.8.1->ome-zarr)\r\n",
      "  Downloading numcodecs-0.15.0-cp313-cp313-manylinux_2_17_x86_64.manylinux2014_x86_64.whl.metadata (2.9 kB)\r\n",
      "Requirement already satisfied: click>=8.1 in /opt/hostedtoolcache/Python/3.13.1/x64/lib/python3.13/site-packages (from dask->ome-zarr) (8.1.8)\r\n",
      "Requirement already satisfied: cloudpickle>=3.0.0 in /opt/hostedtoolcache/Python/3.13.1/x64/lib/python3.13/site-packages (from dask->ome-zarr) (3.1.1)\r\n",
      "Requirement already satisfied: packaging>=20.0 in /opt/hostedtoolcache/Python/3.13.1/x64/lib/python3.13/site-packages (from dask->ome-zarr) (24.2)\r\n",
      "Requirement already satisfied: partd>=1.4.0 in /opt/hostedtoolcache/Python/3.13.1/x64/lib/python3.13/site-packages (from dask->ome-zarr) (1.4.2)\r\n",
      "Requirement already satisfied: pyyaml>=5.3.1 in /opt/hostedtoolcache/Python/3.13.1/x64/lib/python3.13/site-packages (from dask->ome-zarr) (6.0.2)\r\n",
      "Requirement already satisfied: jinja2>=2.10.3 in /opt/hostedtoolcache/Python/3.13.1/x64/lib/python3.13/site-packages (from distributed->ome-zarr) (3.1.5)\r\n",
      "Requirement already satisfied: locket>=1.0.0 in /opt/hostedtoolcache/Python/3.13.1/x64/lib/python3.13/site-packages (from distributed->ome-zarr) (1.0.0)\r\n",
      "Requirement already satisfied: msgpack>=1.0.2 in /opt/hostedtoolcache/Python/3.13.1/x64/lib/python3.13/site-packages (from distributed->ome-zarr) (1.1.0)\r\n",
      "Requirement already satisfied: psutil>=5.8.0 in /opt/hostedtoolcache/Python/3.13.1/x64/lib/python3.13/site-packages (from distributed->ome-zarr) (6.1.1)\r\n",
      "Requirement already satisfied: sortedcontainers>=2.0.5 in /opt/hostedtoolcache/Python/3.13.1/x64/lib/python3.13/site-packages (from distributed->ome-zarr) (2.4.0)\r\n"
     ]
    },
    {
     "name": "stdout",
     "output_type": "stream",
     "text": [
      "Collecting tblib>=1.6.0 (from distributed->ome-zarr)\r\n",
      "  Downloading tblib-3.0.0-py3-none-any.whl.metadata (25 kB)\r\n",
      "Requirement already satisfied: tornado>=6.2.0 in /opt/hostedtoolcache/Python/3.13.1/x64/lib/python3.13/site-packages (from distributed->ome-zarr) (6.4.2)\r\n",
      "Requirement already satisfied: urllib3>=1.26.5 in /opt/hostedtoolcache/Python/3.13.1/x64/lib/python3.13/site-packages (from distributed->ome-zarr) (1.26.16)\r\n"
     ]
    },
    {
     "name": "stdout",
     "output_type": "stream",
     "text": [
      "Collecting zict>=3.0.0 (from distributed->ome-zarr)\r\n",
      "  Downloading zict-3.0.0-py2.py3-none-any.whl.metadata (899 bytes)\r\n",
      "Requirement already satisfied: charset-normalizer<4,>=2 in /opt/hostedtoolcache/Python/3.13.1/x64/lib/python3.13/site-packages (from requests->ome-zarr) (3.4.1)\r\n",
      "Requirement already satisfied: idna<4,>=2.5 in /opt/hostedtoolcache/Python/3.13.1/x64/lib/python3.13/site-packages (from requests->ome-zarr) (3.10)\r\n",
      "Requirement already satisfied: certifi>=2017.4.17 in /opt/hostedtoolcache/Python/3.13.1/x64/lib/python3.13/site-packages (from requests->ome-zarr) (2025.1.31)\r\n",
      "Requirement already satisfied: scipy>=1.11.2 in /opt/hostedtoolcache/Python/3.13.1/x64/lib/python3.13/site-packages (from scikit-image->ome-zarr) (1.15.1)\r\n",
      "Requirement already satisfied: networkx>=3.0 in /opt/hostedtoolcache/Python/3.13.1/x64/lib/python3.13/site-packages (from scikit-image->ome-zarr) (3.4.2)\r\n",
      "Requirement already satisfied: pillow>=10.1 in /opt/hostedtoolcache/Python/3.13.1/x64/lib/python3.13/site-packages (from scikit-image->ome-zarr) (11.1.0)\r\n",
      "Requirement already satisfied: imageio!=2.35.0,>=2.33 in /opt/hostedtoolcache/Python/3.13.1/x64/lib/python3.13/site-packages (from scikit-image->ome-zarr) (2.37.0)\r\n",
      "Requirement already satisfied: tifffile>=2022.8.12 in /opt/hostedtoolcache/Python/3.13.1/x64/lib/python3.13/site-packages (from scikit-image->ome-zarr) (2025.1.10)\r\n",
      "Requirement already satisfied: lazy-loader>=0.4 in /opt/hostedtoolcache/Python/3.13.1/x64/lib/python3.13/site-packages (from scikit-image->ome-zarr) (0.4)\r\n"
     ]
    },
    {
     "name": "stdout",
     "output_type": "stream",
     "text": [
      "Requirement already satisfied: MarkupSafe>=2.0 in /opt/hostedtoolcache/Python/3.13.1/x64/lib/python3.13/site-packages (from jinja2>=2.10.3->distributed->ome-zarr) (3.0.2)\r\n",
      "Requirement already satisfied: deprecated in /opt/hostedtoolcache/Python/3.13.1/x64/lib/python3.13/site-packages (from numcodecs!=0.14.0,!=0.14.1,>=0.10.0->zarr<3,>=2.8.1->ome-zarr) (1.2.18)\r\n"
     ]
    },
    {
     "name": "stdout",
     "output_type": "stream",
     "text": [
      "Collecting aiobotocore<3.0.0,>=2.5.4 (from s3fs->fsspec[s3]!=2021.07.0,!=2023.9.0,>=0.8->ome-zarr)\r\n"
     ]
    },
    {
     "name": "stdout",
     "output_type": "stream",
     "text": [
      "  Downloading aiobotocore-2.19.0-py3-none-any.whl.metadata (23 kB)\r\n",
      "Collecting aioitertools<1.0.0,>=0.5.1 (from aiobotocore<3.0.0,>=2.5.4->s3fs->fsspec[s3]!=2021.07.0,!=2023.9.0,>=0.8->ome-zarr)\r\n",
      "  Downloading aioitertools-0.12.0-py3-none-any.whl.metadata (3.8 kB)\r\n"
     ]
    },
    {
     "name": "stdout",
     "output_type": "stream",
     "text": [
      "Collecting botocore<1.36.4,>=1.36.0 (from aiobotocore<3.0.0,>=2.5.4->s3fs->fsspec[s3]!=2021.07.0,!=2023.9.0,>=0.8->ome-zarr)\r\n"
     ]
    },
    {
     "name": "stdout",
     "output_type": "stream",
     "text": [
      "  Downloading botocore-1.36.3-py3-none-any.whl.metadata (5.7 kB)\r\n",
      "Requirement already satisfied: python-dateutil<3.0.0,>=2.1 in /opt/hostedtoolcache/Python/3.13.1/x64/lib/python3.13/site-packages (from aiobotocore<3.0.0,>=2.5.4->s3fs->fsspec[s3]!=2021.07.0,!=2023.9.0,>=0.8->ome-zarr) (2.9.0.post0)\r\n",
      "Collecting jmespath<2.0.0,>=0.7.1 (from aiobotocore<3.0.0,>=2.5.4->s3fs->fsspec[s3]!=2021.07.0,!=2023.9.0,>=0.8->ome-zarr)\r\n",
      "  Downloading jmespath-1.0.1-py3-none-any.whl.metadata (7.6 kB)\r\n",
      "Requirement already satisfied: wrapt<2.0.0,>=1.10.10 in /opt/hostedtoolcache/Python/3.13.1/x64/lib/python3.13/site-packages (from aiobotocore<3.0.0,>=2.5.4->s3fs->fsspec[s3]!=2021.07.0,!=2023.9.0,>=0.8->ome-zarr) (1.17.2)\r\n"
     ]
    },
    {
     "name": "stdout",
     "output_type": "stream",
     "text": [
      "Requirement already satisfied: six>=1.5 in /opt/hostedtoolcache/Python/3.13.1/x64/lib/python3.13/site-packages (from python-dateutil<3.0.0,>=2.1->aiobotocore<3.0.0,>=2.5.4->s3fs->fsspec[s3]!=2021.07.0,!=2023.9.0,>=0.8->ome-zarr) (1.17.0)\r\n",
      "Downloading ome_zarr-0.10.3-py3-none-any.whl (37 kB)\r\n",
      "Downloading zarr-2.18.4-py3-none-any.whl (210 kB)\r\n"
     ]
    },
    {
     "name": "stdout",
     "output_type": "stream",
     "text": [
      "Downloading distributed-2025.1.0-py3-none-any.whl (1.0 MB)\r\n",
      "\u001b[?25l   \u001b[90m━━━━━━━━━━━━━━━━━━━━━━━━━━━━━━━━━━━━━━━━\u001b[0m \u001b[32m0.0/1.0 MB\u001b[0m \u001b[31m?\u001b[0m eta \u001b[36m-:--:--\u001b[0m"
     ]
    },
    {
     "name": "stdout",
     "output_type": "stream",
     "text": [
      "\r",
      "\u001b[2K   \u001b[90m━━━━━━━━━━━━━━━━━━━━━━━━━━━━━━━━━━━━━━━━\u001b[0m \u001b[32m1.0/1.0 MB\u001b[0m \u001b[31m32.8 MB/s\u001b[0m eta \u001b[36m0:00:00\u001b[0m\r\n",
      "\u001b[?25hDownloading numcodecs-0.15.0-cp313-cp313-manylinux_2_17_x86_64.manylinux2014_x86_64.whl (8.8 MB)\r\n",
      "\u001b[?25l   \u001b[90m━━━━━━━━━━━━━━━━━━━━━━━━━━━━━━━━━━━━━━━━\u001b[0m \u001b[32m0.0/8.8 MB\u001b[0m \u001b[31m?\u001b[0m eta \u001b[36m-:--:--\u001b[0m"
     ]
    },
    {
     "name": "stdout",
     "output_type": "stream",
     "text": [
      "\r",
      "\u001b[2K   \u001b[90m━━━━━━━━━━━━━━━━━━━━━━━━━━━━━━━━━━━━━━━━\u001b[0m \u001b[32m8.8/8.8 MB\u001b[0m \u001b[31m162.7 MB/s\u001b[0m eta \u001b[36m0:00:00\u001b[0m\r\n",
      "\u001b[?25hDownloading tblib-3.0.0-py3-none-any.whl (12 kB)\r\n"
     ]
    },
    {
     "name": "stdout",
     "output_type": "stream",
     "text": [
      "Downloading zict-3.0.0-py2.py3-none-any.whl (43 kB)\r\n",
      "Downloading fasteners-0.19-py3-none-any.whl (18 kB)\r\n",
      "Downloading s3fs-2025.2.0-py3-none-any.whl (30 kB)\r\n"
     ]
    },
    {
     "name": "stdout",
     "output_type": "stream",
     "text": [
      "Downloading aiobotocore-2.19.0-py3-none-any.whl (77 kB)\r\n",
      "Downloading aioitertools-0.12.0-py3-none-any.whl (24 kB)\r\n",
      "Downloading botocore-1.36.3-py3-none-any.whl (13.3 MB)\r\n",
      "\u001b[?25l   \u001b[90m━━━━━━━━━━━━━━━━━━━━━━━━━━━━━━━━━━━━━━━━\u001b[0m \u001b[32m0.0/13.3 MB\u001b[0m \u001b[31m?\u001b[0m eta \u001b[36m-:--:--\u001b[0m"
     ]
    },
    {
     "name": "stdout",
     "output_type": "stream",
     "text": [
      "\r",
      "\u001b[2K   \u001b[90m━━━━━━━━━━━━━━━━━━━━━━━━━━━━━━━━━━━━━━━━\u001b[0m \u001b[32m13.3/13.3 MB\u001b[0m \u001b[31m204.2 MB/s\u001b[0m eta \u001b[36m0:00:00\u001b[0m\r\n",
      "\u001b[?25hDownloading jmespath-1.0.1-py3-none-any.whl (20 kB)\r\n"
     ]
    },
    {
     "name": "stdout",
     "output_type": "stream",
     "text": [
      "Building wheels for collected packages: asciitree\r\n"
     ]
    },
    {
     "name": "stdout",
     "output_type": "stream",
     "text": [
      "  Building wheel for asciitree (setup.py) ... \u001b[?25l-"
     ]
    },
    {
     "name": "stdout",
     "output_type": "stream",
     "text": [
      "\b \b\\"
     ]
    },
    {
     "name": "stdout",
     "output_type": "stream",
     "text": [
      "\b \b|"
     ]
    },
    {
     "name": "stdout",
     "output_type": "stream",
     "text": [
      "\b \bdone\r\n",
      "\u001b[?25h  Created wheel for asciitree: filename=asciitree-0.3.3-py3-none-any.whl size=5071 sha256=d000444966296e59966114769ae73307bf213b4fd58f01b785cd44d32e54b936\r\n",
      "  Stored in directory: /home/runner/.cache/pip/wheels/0e/70/f0/bff6301cfa0d49afa79c020bc98c114a9b9c6b3048e62e3200\r\n",
      "Successfully built asciitree\r\n"
     ]
    },
    {
     "name": "stdout",
     "output_type": "stream",
     "text": [
      "Installing collected packages: asciitree, zict, tblib, jmespath, fasteners, aioitertools, numcodecs, botocore, zarr, distributed, aiobotocore, s3fs, ome-zarr\r\n"
     ]
    },
    {
     "name": "stdout",
     "output_type": "stream",
     "text": [
      "Successfully installed aiobotocore-2.19.0 aioitertools-0.12.0 asciitree-0.3.3 botocore-1.36.3 distributed-2025.1.0 fasteners-0.19 jmespath-1.0.1 numcodecs-0.15.0 ome-zarr-0.10.3 s3fs-2025.2.0 tblib-3.0.0 zarr-2.18.4 zict-3.0.0\r\n"
     ]
    }
   ],
   "source": [
    "!pip install ome-zarr"
   ]
  },
  {
   "cell_type": "code",
   "execution_count": 2,
   "metadata": {
    "execution": {
     "iopub.execute_input": "2025-02-06T11:19:20.745049Z",
     "iopub.status.busy": "2025-02-06T11:19:20.744638Z",
     "iopub.status.idle": "2025-02-06T11:19:21.239703Z",
     "shell.execute_reply": "2025-02-06T11:19:21.239221Z"
    }
   },
   "outputs": [],
   "source": [
    "import ome_zarr\n",
    "import zarr\n",
    "import pprint\n",
    "import os\n",
    "from ome_zarr import utils\n",
    "from ome_zarr.reader import Reader\n",
    "from ome_zarr.io import parse_url"
   ]
  },
  {
   "cell_type": "markdown",
   "metadata": {},
   "source": [
    "## Inspect remote data"
   ]
  },
  {
   "cell_type": "code",
   "execution_count": 3,
   "metadata": {
    "execution": {
     "iopub.execute_input": "2025-02-06T11:19:21.242021Z",
     "iopub.status.busy": "2025-02-06T11:19:21.241479Z",
     "iopub.status.idle": "2025-02-06T11:19:35.342759Z",
     "shell.execute_reply": "2025-02-06T11:19:35.342159Z"
    }
   },
   "outputs": [
    {
     "name": "stdout",
     "output_type": "stream",
     "text": [
      "https://uk1s3.embassy.ebi.ac.uk/EuBI/anna_steyer0/20160112_C.elegans_std_fullhead.zarr/ [zgroup]\n",
      " - metadata\n",
      "   - Multiscales\n",
      " - data\n",
      "   - (1, 1, 10080, 3468, 2940)\n",
      "   - (1, 1, 5040, 1734, 1470)\n",
      "   - (1, 1, 2520, 867, 735)\n",
      "   - (1, 1, 1260, 433, 367)\n",
      "   - (1, 1, 630, 216, 183)\n",
      "   - (1, 1, 315, 108, 91)\n",
      "Information about remote data:\n",
      "[https://uk1s3.embassy.ebi.ac.uk/EuBI/anna_steyer0/20160112_C.elegans_std_fullhead.zarr/ [zgroup]]\n"
     ]
    }
   ],
   "source": [
    "info = list(utils.info(\"https://uk1s3.embassy.ebi.ac.uk/EuBI/anna_steyer0/20160112_C.elegans_std_fullhead.zarr\"))\n",
    "print(\"Information about remote data:\")\n",
    "pprint.pprint(info)"
   ]
  },
  {
   "cell_type": "markdown",
   "metadata": {},
   "source": [
    "## Read remote OME-Zarr data"
   ]
  },
  {
   "cell_type": "code",
   "execution_count": 4,
   "metadata": {
    "execution": {
     "iopub.execute_input": "2025-02-06T11:19:35.344769Z",
     "iopub.status.busy": "2025-02-06T11:19:35.344385Z",
     "iopub.status.idle": "2025-02-06T11:19:36.252641Z",
     "shell.execute_reply": "2025-02-06T11:19:36.252025Z"
    }
   },
   "outputs": [],
   "source": [
    "remote_path = \"https://uk1s3.embassy.ebi.ac.uk/idr/zarr/v0.4/idr0062A/6001240.zarr\"\n",
    "reader = Reader(parse_url(remote_path))"
   ]
  },
  {
   "cell_type": "markdown",
   "metadata": {},
   "source": [
    "## Examine nodes at different resolution levels"
   ]
  },
  {
   "cell_type": "code",
   "execution_count": 5,
   "metadata": {
    "execution": {
     "iopub.execute_input": "2025-02-06T11:19:36.254992Z",
     "iopub.status.busy": "2025-02-06T11:19:36.254618Z",
     "iopub.status.idle": "2025-02-06T11:19:52.728643Z",
     "shell.execute_reply": "2025-02-06T11:19:52.728044Z"
    }
   },
   "outputs": [
    {
     "name": "stdout",
     "output_type": "stream",
     "text": [
      "Node at level 0: https://uk1s3.embassy.ebi.ac.uk/idr/zarr/v0.4/idr0062A/6001240.zarr/ [zgroup]\n",
      "Node at level 1: https://uk1s3.embassy.ebi.ac.uk/idr/zarr/v0.4/idr0062A/6001240.zarr/labels/ [zgroup] (hidden)\n",
      "Node at level 2: https://uk1s3.embassy.ebi.ac.uk/idr/zarr/v0.4/idr0062A/6001240.zarr/labels/0/ [zgroup] (hidden)\n"
     ]
    }
   ],
   "source": [
    "nodes = list(reader())\n",
    "for idx, node in enumerate(nodes):\n",
    "    print(f\"Node at level {idx}: {node}\")"
   ]
  },
  {
   "cell_type": "markdown",
   "metadata": {},
   "source": [
    "## Get data and metadata from top-level node"
   ]
  },
  {
   "cell_type": "code",
   "execution_count": 6,
   "metadata": {
    "execution": {
     "iopub.execute_input": "2025-02-06T11:19:52.730558Z",
     "iopub.status.busy": "2025-02-06T11:19:52.730373Z",
     "iopub.status.idle": "2025-02-06T11:19:52.734093Z",
     "shell.execute_reply": "2025-02-06T11:19:52.733527Z"
    }
   },
   "outputs": [
    {
     "name": "stdout",
     "output_type": "stream",
     "text": [
      "Array 0 - Shape: (2, 236, 275, 271), Chunk size: (1, 1, 275, 271)\n",
      "Array 1 - Shape: (2, 236, 137, 135), Chunk size: (1, 1, 137, 135)\n",
      "Array 2 - Shape: (2, 236, 68, 67), Chunk size: (1, 1, 68, 67)\n"
     ]
    }
   ],
   "source": [
    "dataset = nodes[0].data\n",
    "meta = nodes[0].metadata\n",
    "\n",
    "# Print array information\n",
    "for idx, array in enumerate(dataset):\n",
    "    print(f\"Array {idx} - Shape: {array.shape}, Chunk size: {array.chunksize}\")"
   ]
  },
  {
   "cell_type": "markdown",
   "metadata": {},
   "source": [
    "## Examine metadata"
   ]
  },
  {
   "cell_type": "code",
   "execution_count": 7,
   "metadata": {
    "execution": {
     "iopub.execute_input": "2025-02-06T11:19:52.735816Z",
     "iopub.status.busy": "2025-02-06T11:19:52.735512Z",
     "iopub.status.idle": "2025-02-06T11:19:52.739436Z",
     "shell.execute_reply": "2025-02-06T11:19:52.738908Z"
    }
   },
   "outputs": [
    {
     "name": "stdout",
     "output_type": "stream",
     "text": [
      "Axis properties:\n",
      "[{'name': 'c', 'type': 'channel'},\n",
      " {'name': 'z', 'type': 'space', 'unit': 'micrometer'},\n",
      " {'name': 'y', 'type': 'space', 'unit': 'micrometer'},\n",
      " {'name': 'x', 'type': 'space', 'unit': 'micrometer'}]\n",
      "\n",
      "Coordinate transformations:\n",
      "Level 0 transforms:\n",
      "[{'scale': [1.0, 0.5002025531914894, 0.3603981534640209, 0.3603981534640209],\n",
      "  'type': 'scale'}]\n",
      "Level 1 transforms:\n",
      "[{'scale': [1.0, 0.5002025531914894, 0.7207963069280418, 0.7207963069280418],\n",
      "  'type': 'scale'}]\n",
      "Level 2 transforms:\n",
      "[{'scale': [1.0, 0.5002025531914894, 1.4415926138560835, 1.4415926138560835],\n",
      "  'type': 'scale'}]\n"
     ]
    }
   ],
   "source": [
    "print(\"Axis properties:\")\n",
    "pprint.pprint(meta['axes'])\n",
    "\n",
    "print(\"\\nCoordinate transformations:\")\n",
    "for idx, transforms in enumerate(meta['coordinateTransformations']):\n",
    "    print(f\"Level {idx} transforms:\")\n",
    "    pprint.pprint(transforms)"
   ]
  }
 ],
 "metadata": {
  "language_info": {
   "codemirror_mode": {
    "name": "ipython",
    "version": 3
   },
   "file_extension": ".py",
   "mimetype": "text/x-python",
   "name": "python",
   "nbconvert_exporter": "python",
   "pygments_lexer": "ipython3",
   "version": "3.13.1"
  }
 },
 "nbformat": 4,
 "nbformat_minor": 4
}
