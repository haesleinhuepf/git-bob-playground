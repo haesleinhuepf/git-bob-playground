{
 "cells": [
  {
   "cell_type": "markdown",
   "metadata": {},
   "source": [
    "# Analyze Python Package Licenses\n",
    "This notebook reads a requirements.txt file and retrieves license information from PyPI."
   ]
  },
  {
   "cell_type": "markdown",
   "metadata": {},
   "source": [
    "Import required libraries"
   ]
  },
  {
   "cell_type": "code",
   "execution_count": 1,
   "metadata": {
    "execution": {
     "iopub.execute_input": "2024-11-05T16:00:12.894697Z",
     "iopub.status.busy": "2024-11-05T16:00:12.894509Z",
     "iopub.status.idle": "2024-11-05T16:00:13.277242Z",
     "shell.execute_reply": "2024-11-05T16:00:13.276679Z"
    }
   },
   "outputs": [],
   "source": [
    "import requests\n",
    "import pandas as pd"
   ]
  },
  {
   "cell_type": "markdown",
   "metadata": {},
   "source": [
    "Function to read requirements.txt"
   ]
  },
  {
   "cell_type": "code",
   "execution_count": 2,
   "metadata": {
    "execution": {
     "iopub.execute_input": "2024-11-05T16:00:13.279638Z",
     "iopub.status.busy": "2024-11-05T16:00:13.279172Z",
     "iopub.status.idle": "2024-11-05T16:00:13.282781Z",
     "shell.execute_reply": "2024-11-05T16:00:13.282301Z"
    }
   },
   "outputs": [],
   "source": [
    "def read_requirements(file_path='requirements.txt'):\n",
    "    with open(file_path, 'r') as f:\n",
    "        return [line.strip().split('==')[0] for line in f if line.strip() and not line.startswith('#')]"
   ]
  },
  {
   "cell_type": "markdown",
   "metadata": {},
   "source": [
    "Function to get package license from PyPI"
   ]
  },
  {
   "cell_type": "code",
   "execution_count": 3,
   "metadata": {
    "execution": {
     "iopub.execute_input": "2024-11-05T16:00:13.284661Z",
     "iopub.status.busy": "2024-11-05T16:00:13.284365Z",
     "iopub.status.idle": "2024-11-05T16:00:13.287500Z",
     "shell.execute_reply": "2024-11-05T16:00:13.287030Z"
    }
   },
   "outputs": [],
   "source": [
    "def get_package_license(package_name):\n",
    "    try:\n",
    "        response = requests.get(f'https://pypi.org/pypi/{package_name}/json')\n",
    "        data = response.json()\n",
    "        return data['info'].get('license', 'Unknown')\n",
    "    except:\n",
    "        return 'Error retrieving license'"
   ]
  },
  {
   "cell_type": "markdown",
   "metadata": {},
   "source": [
    "Read packages and get their licenses"
   ]
  },
  {
   "cell_type": "code",
   "execution_count": 4,
   "metadata": {
    "execution": {
     "iopub.execute_input": "2024-11-05T16:00:13.289171Z",
     "iopub.status.busy": "2024-11-05T16:00:13.288986Z",
     "iopub.status.idle": "2024-11-05T16:00:14.537375Z",
     "shell.execute_reply": "2024-11-05T16:00:14.536834Z"
    }
   },
   "outputs": [],
   "source": [
    "packages = read_requirements()\n",
    "licenses = [get_package_license(package) for package in packages]\n",
    "    \n",
    "df = pd.DataFrame({\n",
    "    'Package': packages,\n",
    "    'License': licenses\n",
    "})\n",
    "\n",
    "# Save results to CSV\n",
    "df.to_csv('package_licenses.csv', index=False)"
   ]
  }
 ],
 "metadata": {
  "language_info": {
   "codemirror_mode": {
    "name": "ipython",
    "version": 3
   },
   "file_extension": ".py",
   "mimetype": "text/x-python",
   "name": "python",
   "nbconvert_exporter": "python",
   "pygments_lexer": "ipython3",
   "version": "3.12.7"
  }
 },
 "nbformat": 4,
 "nbformat_minor": 4
}
