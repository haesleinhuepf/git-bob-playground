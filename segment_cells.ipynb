{
 "cells": [
  {
   "cell_type": "markdown",
   "metadata": {},
   "source": [
    "# Cell Segmentation\n",
    "\n",
    "This notebook segments cells from a fluorescence microscopy image showing cell membranes."
   ]
  },
  {
   "cell_type": "markdown",
   "metadata": {},
   "source": [
    "## Import required libraries"
   ]
  },
  {
   "cell_type": "code",
   "execution_count": 1,
   "metadata": {
    "execution": {
     "iopub.execute_input": "2025-01-24T14:34:45.628836Z",
     "iopub.status.busy": "2025-01-24T14:34:45.628397Z",
     "iopub.status.idle": "2025-01-24T14:34:46.760291Z",
     "shell.execute_reply": "2025-01-24T14:34:46.759625Z"
    }
   },
   "outputs": [
    {
     "name": "stderr",
     "output_type": "stream",
     "text": [
      "/opt/hostedtoolcache/Python/3.12.8/x64/lib/python3.12/site-packages/napari_tools_menu/__init__.py:10: UserWarning: Importing QT failed; now introducing dummy definitions of QMenu class and register_function decorator.\n",
      "  warnings.warn(\"Importing QT failed; now introducing dummy definitions of QMenu class and register_function decorator.\")\n"
     ]
    }
   ],
   "source": [
    "import numpy as np\n",
    "from skimage.io import imread, imsave\n",
    "import napari_segment_blobs_and_things_with_membranes as nsbatwm\n",
    "import stackview"
   ]
  },
  {
   "cell_type": "markdown",
   "metadata": {},
   "source": [
    "## Create a sample input image"
   ]
  },
  {
   "cell_type": "code",
   "execution_count": 2,
   "metadata": {
    "execution": {
     "iopub.execute_input": "2025-01-24T14:34:46.762678Z",
     "iopub.status.busy": "2025-01-24T14:34:46.761935Z",
     "iopub.status.idle": "2025-01-24T14:34:46.992725Z",
     "shell.execute_reply": "2025-01-24T14:34:46.991923Z"
    }
   },
   "outputs": [
    {
     "ename": "ImportError",
     "evalue": "cannot import name 'circle' from 'skimage.draw' (/opt/hostedtoolcache/Python/3.12.8/x64/lib/python3.12/site-packages/skimage/draw/__init__.py)",
     "output_type": "error",
     "traceback": [
      "\u001b[0;31m---------------------------------------------------------------------------\u001b[0m",
      "\u001b[0;31mImportError\u001b[0m                               Traceback (most recent call last)",
      "Cell \u001b[0;32mIn[2], line 3\u001b[0m\n\u001b[1;32m      1\u001b[0m \u001b[38;5;66;03m# Create a sample 100x100 image with some circular membranes\u001b[39;00m\n\u001b[1;32m      2\u001b[0m image \u001b[38;5;241m=\u001b[39m np\u001b[38;5;241m.\u001b[39mzeros((\u001b[38;5;241m100\u001b[39m, \u001b[38;5;241m100\u001b[39m))\n\u001b[0;32m----> 3\u001b[0m \u001b[38;5;28;01mfrom\u001b[39;00m\u001b[38;5;250m \u001b[39m\u001b[38;5;21;01mskimage\u001b[39;00m\u001b[38;5;21;01m.\u001b[39;00m\u001b[38;5;21;01mdraw\u001b[39;00m\u001b[38;5;250m \u001b[39m\u001b[38;5;28;01mimport\u001b[39;00m circle\n\u001b[1;32m      4\u001b[0m \u001b[38;5;28;01mfor\u001b[39;00m i, center \u001b[38;5;129;01min\u001b[39;00m \u001b[38;5;28menumerate\u001b[39m([(\u001b[38;5;241m30\u001b[39m, \u001b[38;5;241m30\u001b[39m), (\u001b[38;5;241m60\u001b[39m, \u001b[38;5;241m60\u001b[39m), (\u001b[38;5;241m30\u001b[39m, \u001b[38;5;241m60\u001b[39m), (\u001b[38;5;241m60\u001b[39m, \u001b[38;5;241m30\u001b[39m)]):\n\u001b[1;32m      5\u001b[0m     rr, cc \u001b[38;5;241m=\u001b[39m circle(center[\u001b[38;5;241m0\u001b[39m], center[\u001b[38;5;241m1\u001b[39m], \u001b[38;5;241m15\u001b[39m)\n",
      "\u001b[0;31mImportError\u001b[0m: cannot import name 'circle' from 'skimage.draw' (/opt/hostedtoolcache/Python/3.12.8/x64/lib/python3.12/site-packages/skimage/draw/__init__.py)"
     ]
    }
   ],
   "source": [
    "# Create a sample 100x100 image with some circular membranes\n",
    "image = np.zeros((100, 100))\n",
    "from skimage.draw import circle\n",
    "for i, center in enumerate([(30, 30), (60, 60), (30, 60), (60, 30)]):\n",
    "    rr, cc = circle(center[0], center[1], 15)\n",
    "    image[rr, cc] = 255\n",
    "\n",
    "stackview.insight(image)\n",
    "imsave('input.png', image.astype(np.uint8))"
   ]
  },
  {
   "cell_type": "markdown",
   "metadata": {},
   "source": [
    "## Segment cells using watershed\n",
    "\n",
    "Since we have membrane staining, we'll use local minima seeded watershed segmentation"
   ]
  },
  {
   "cell_type": "code",
   "execution_count": null,
   "metadata": {},
   "outputs": [],
   "source": [
    "labels = nsbatwm.local_minima_seeded_watershed(image, spot_sigma=10, outline_sigma=2)\n",
    "stackview.insight(labels)\n",
    "stackview.animate_curtain(image, labels)"
   ]
  },
  {
   "cell_type": "markdown",
   "metadata": {},
   "source": [
    "## Save results"
   ]
  },
  {
   "cell_type": "code",
   "execution_count": null,
   "metadata": {},
   "outputs": [],
   "source": [
    "from skimage import color\n",
    "rgb_labels = (color.label2rgb(labels, bg_label=0, kind='overlay')*255).astype('uint8')\n",
    "imsave('segmentation_result.png', rgb_labels)"
   ]
  }
 ],
 "metadata": {
  "language_info": {
   "codemirror_mode": {
    "name": "ipython",
    "version": 3
   },
   "file_extension": ".py",
   "mimetype": "text/x-python",
   "name": "python",
   "nbconvert_exporter": "python",
   "pygments_lexer": "ipython3",
   "version": "3.12.8"
  }
 },
 "nbformat": 4,
 "nbformat_minor": 2
}