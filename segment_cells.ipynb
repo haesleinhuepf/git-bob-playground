{
 "cells": [
  {
   "cell_type": "markdown",
   "metadata": {},
   "source": [
    "# Cell Segmentation\n",
    "\n",
    "This notebook segments cells from a fluorescence microscopy image showing cell membranes."
   ]
  },
  {
   "cell_type": "markdown",
   "metadata": {},
   "source": [
    "## Import required libraries"
   ]
  },
  {
   "cell_type": "code",
   "execution_count": 1,
   "metadata": {
    "execution": {
     "iopub.execute_input": "2025-01-24T14:35:03.414462Z",
     "iopub.status.busy": "2025-01-24T14:35:03.413937Z",
     "iopub.status.idle": "2025-01-24T14:35:04.477578Z",
     "shell.execute_reply": "2025-01-24T14:35:04.476951Z"
    }
   },
   "outputs": [
    {
     "name": "stderr",
     "output_type": "stream",
     "text": [
      "/opt/hostedtoolcache/Python/3.12.8/x64/lib/python3.12/site-packages/napari_tools_menu/__init__.py:10: UserWarning: Importing QT failed; now introducing dummy definitions of QMenu class and register_function decorator.\n",
      "  warnings.warn(\"Importing QT failed; now introducing dummy definitions of QMenu class and register_function decorator.\")\n"
     ]
    }
   ],
   "source": [
    "import numpy as np\n",
    "from skimage.io import imread, imsave\n",
    "import napari_segment_blobs_and_things_with_membranes as nsbatwm\n",
    "import stackview"
   ]
  },
  {
   "cell_type": "markdown",
   "metadata": {},
   "source": [
    "## Create a sample input image"
   ]
  },
  {
   "cell_type": "code",
   "execution_count": 2,
   "metadata": {
    "execution": {
     "iopub.execute_input": "2025-01-24T14:35:04.479705Z",
     "iopub.status.busy": "2025-01-24T14:35:04.479194Z",
     "iopub.status.idle": "2025-01-24T14:35:04.512605Z",
     "shell.execute_reply": "2025-01-24T14:35:04.512150Z"
    }
   },
   "outputs": [],
   "source": [
    "# Create a sample 100x100 image with some circular membranes\n",
    "image = np.zeros((100, 100))\n",
    "from skimage.draw import disk\n",
    "for i, center in enumerate([(30, 30), (60, 60), (30, 60), (60, 30)]):\n",
    "    rr, cc = disk(center, 15)\n",
    "    image[rr, cc] = 255\n",
    "\n",
    "stackview.insight(image)\n",
    "imsave('input.png', image.astype(np.uint8))"
   ]
  },
  {
   "cell_type": "markdown",
   "metadata": {},
   "source": [
    "## Segment cells using watershed\n",
    "\n",
    "Since we have membrane staining, we'll use local minima seeded watershed segmentation"
   ]
  },
  {
   "cell_type": "code",
   "execution_count": 3,
   "metadata": {
    "execution": {
     "iopub.execute_input": "2025-01-24T14:35:04.514596Z",
     "iopub.status.busy": "2025-01-24T14:35:04.514118Z",
     "iopub.status.idle": "2025-01-24T14:35:05.812672Z",
     "shell.execute_reply": "2025-01-24T14:35:05.812110Z"
    }
   },
   "outputs": [
    {
     "data": {
      "text/html": [
       "<img src=\"data:image/gif;base64,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\" style=\"width: 100px;\"></img>"
      ],
      "text/plain": [
       "<IPython.core.display.HTML object>"
      ]
     },
     "execution_count": 3,
     "metadata": {},
     "output_type": "execute_result"
    }
   ],
   "source": [
    "labels = nsbatwm.local_minima_seeded_watershed(image, spot_sigma=10, outline_sigma=2)\n",
    "stackview.insight(labels)\n",
    "stackview.animate_curtain(image, labels)"
   ]
  },
  {
   "cell_type": "markdown",
   "metadata": {},
   "source": [
    "## Save results"
   ]
  },
  {
   "cell_type": "code",
   "execution_count": 4,
   "metadata": {
    "execution": {
     "iopub.execute_input": "2025-01-24T14:35:05.815599Z",
     "iopub.status.busy": "2025-01-24T14:35:05.815015Z",
     "iopub.status.idle": "2025-01-24T14:35:05.820744Z",
     "shell.execute_reply": "2025-01-24T14:35:05.820333Z"
    }
   },
   "outputs": [],
   "source": [
    "from skimage import color\n",
    "rgb_labels = (color.label2rgb(labels, bg_label=0, kind='overlay')*255).astype('uint8')\n",
    "imsave('segmentation_result.png', rgb_labels)"
   ]
  }
 ],
 "metadata": {
  "language_info": {
   "codemirror_mode": {
    "name": "ipython",
    "version": 3
   },
   "file_extension": ".py",
   "mimetype": "text/x-python",
   "name": "python",
   "nbconvert_exporter": "python",
   "pygments_lexer": "ipython3",
   "version": "3.12.8"
  },
  "widgets": {
   "application/vnd.jupyter.widget-state+json": {
    "state": {
     "57d658cc18d242b89101befa3c5be7d2": {
      "model_module": "ipycanvas",
      "model_module_version": "^0.13",
      "model_name": "CanvasManagerModel",
      "state": {
       "_model_module": "ipycanvas",
       "_model_module_version": "^0.13",
       "_model_name": "CanvasManagerModel",
       "_view_count": null,
       "_view_module": null,
       "_view_module_version": "",
       "_view_name": null
      }
     }
    },
    "version_major": 2,
    "version_minor": 0
   }
  }
 },
 "nbformat": 4,
 "nbformat_minor": 2
}
