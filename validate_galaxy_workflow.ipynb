{
 "cells": [
  {
   "cell_type": "markdown",
   "metadata": {},
   "source": [
    "# Validate Galaxy Workflow\n",
    "\n",
    "This notebook creates a simple Galaxy workflow with Gaussian blur and thresholding steps, and validates it using gxformat2."
   ]
  },
  {
   "cell_type": "markdown",
   "metadata": {},
   "source": [
    "## Create workflow dictionary"
   ]
  },
  {
   "cell_type": "code",
   "execution_count": 1,
   "metadata": {
    "execution": {
     "iopub.execute_input": "2024-11-30T03:15:02.279262Z",
     "iopub.status.busy": "2024-11-30T03:15:02.278758Z",
     "iopub.status.idle": "2024-11-30T03:15:02.284732Z",
     "shell.execute_reply": "2024-11-30T03:15:02.284289Z"
    }
   },
   "outputs": [],
   "source": [
    "workflow = {\n",
    "    \"a_galaxy_workflow\": \"true\",\n",
    "    \"format-version\": \"0.1\",\n",
    "    \"name\": \"gaussian_blur_threshold\",\n",
    "    \"steps\": {\n",
    "        \"0\": {\n",
    "            \"id\": 0,\n",
    "            \"type\": \"data_input\",\n",
    "            \"inputs\": [{\"name\": \"Input Image\"}],\n",
    "            \"position\": {\"left\": 0, \"top\": 0}\n",
    "        },\n",
    "        \"1\": {\n",
    "            \"id\": 1,\n",
    "            \"tool_id\": \"toolshed.g2.bx.psu.edu/repos/imgteam/2d_simple_filter/ip_filter_standard/1.12.0+galaxy1\",\n",
    "            \"type\": \"tool\",\n",
    "            \"input_connections\": {\n",
    "                \"input\": {\"id\": 0, \"output_name\": \"output\"}\n",
    "            },\n",
    "            \"tool_state\": \"{\\\"filter\\\": {\\\"filter_type\\\": \\\"gaussian\\\", \\\"size\\\": \\\"3.0\\\"}}\",\n",
    "            \"position\": {\"left\": 300, \"top\": 0}\n",
    "        },\n",
    "        \"2\": {\n",
    "            \"id\": 2, \n",
    "            \"tool_id\": \"toolshed.g2.bx.psu.edu/repos/imgteam/2d_auto_threshold/ip_threshold/0.18.1+galaxy3\",\n",
    "            \"type\": \"tool\",\n",
    "            \"input_connections\": {\n",
    "                \"input\": {\"id\": 1, \"output_name\": \"output\"}\n",
    "            },\n",
    "            \"tool_state\": \"{\\\"th_method\\\": {\\\"method_id\\\": \\\"otsu\\\"}}\",\n",
    "            \"position\": {\"left\": 600, \"top\": 0}\n",
    "        }\n",
    "    }\n",
    "}"
   ]
  },
  {
   "cell_type": "markdown",
   "metadata": {},
   "source": [
    "## Save workflow to file"
   ]
  },
  {
   "cell_type": "code",
   "execution_count": 2,
   "metadata": {
    "execution": {
     "iopub.execute_input": "2024-11-30T03:15:02.286411Z",
     "iopub.status.busy": "2024-11-30T03:15:02.286231Z",
     "iopub.status.idle": "2024-11-30T03:15:02.289414Z",
     "shell.execute_reply": "2024-11-30T03:15:02.288999Z"
    }
   },
   "outputs": [],
   "source": [
    "import json\n",
    "\n",
    "with open('workflow.ga', 'w') as f:\n",
    "    json.dump(workflow, f, indent=4)"
   ]
  },
  {
   "cell_type": "markdown",
   "metadata": {},
   "source": [
    "## Validate workflow using gxformat2"
   ]
  },
  {
   "cell_type": "code",
   "execution_count": 3,
   "metadata": {
    "execution": {
     "iopub.execute_input": "2024-11-30T03:15:02.291194Z",
     "iopub.status.busy": "2024-11-30T03:15:02.290857Z",
     "iopub.status.idle": "2024-11-30T03:15:02.486134Z",
     "shell.execute_reply": "2024-11-30T03:15:02.485305Z"
    }
   },
   "outputs": [
    {
     "ename": "ImportError",
     "evalue": "cannot import name 'validate_workflow' from 'gxformat2.yaml' (/opt/hostedtoolcache/Python/3.12.7/x64/lib/python3.12/site-packages/gxformat2/yaml.py)",
     "output_type": "error",
     "traceback": [
      "\u001b[0;31m---------------------------------------------------------------------------\u001b[0m",
      "\u001b[0;31mImportError\u001b[0m                               Traceback (most recent call last)",
      "Cell \u001b[0;32mIn[3], line 1\u001b[0m\n\u001b[0;32m----> 1\u001b[0m \u001b[38;5;28;01mfrom\u001b[39;00m \u001b[38;5;21;01mgxformat2\u001b[39;00m\u001b[38;5;21;01m.\u001b[39;00m\u001b[38;5;21;01myaml\u001b[39;00m \u001b[38;5;28;01mimport\u001b[39;00m validate_workflow\n\u001b[1;32m      3\u001b[0m validation_result \u001b[38;5;241m=\u001b[39m validate_workflow(\u001b[38;5;124m'\u001b[39m\u001b[38;5;124mworkflow.ga\u001b[39m\u001b[38;5;124m'\u001b[39m)\n\u001b[1;32m      4\u001b[0m \u001b[38;5;28mprint\u001b[39m(\u001b[38;5;124mf\u001b[39m\u001b[38;5;124m\"\u001b[39m\u001b[38;5;124mWorkflow validation result: \u001b[39m\u001b[38;5;132;01m{\u001b[39;00mvalidation_result\u001b[38;5;132;01m}\u001b[39;00m\u001b[38;5;124m\"\u001b[39m)\n",
      "\u001b[0;31mImportError\u001b[0m: cannot import name 'validate_workflow' from 'gxformat2.yaml' (/opt/hostedtoolcache/Python/3.12.7/x64/lib/python3.12/site-packages/gxformat2/yaml.py)"
     ]
    }
   ],
   "source": [
    "from gxformat2.yaml import validate_workflow\n",
    "\n",
    "validation_result = validate_workflow('workflow.ga')\n",
    "print(f\"Workflow validation result: {validation_result}\")"
   ]
  }
 ],
 "metadata": {
  "language_info": {
   "codemirror_mode": {
    "name": "ipython",
    "version": 3
   },
   "file_extension": ".py",
   "mimetype": "text/x-python",
   "name": "python",
   "nbconvert_exporter": "python",
   "pygments_lexer": "ipython3",
   "version": "3.12.7"
  }
 },
 "nbformat": 4,
 "nbformat_minor": 4
}
