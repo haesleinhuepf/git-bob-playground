{
 "cells": [
  {
   "cell_type": "markdown",
   "metadata": {},
   "source": [
    "# Validate Galaxy Workflow\n",
    "This notebook creates and validates a simple Galaxy workflow with Gaussian blur and thresholding."
   ]
  },
  {
   "cell_type": "markdown",
   "metadata": {},
   "source": [
    "## Import dependencies"
   ]
  },
  {
   "cell_type": "code",
   "execution_count": 1,
   "metadata": {
    "execution": {
     "iopub.execute_input": "2024-11-30T03:36:48.172417Z",
     "iopub.status.busy": "2024-11-30T03:36:48.172234Z",
     "iopub.status.idle": "2024-11-30T03:36:48.175449Z",
     "shell.execute_reply": "2024-11-30T03:36:48.174987Z"
    }
   },
   "outputs": [],
   "source": [
    "import json\n",
    "import subprocess"
   ]
  },
  {
   "cell_type": "markdown",
   "metadata": {},
   "source": [
    "## Define the Galaxy workflow"
   ]
  },
  {
   "cell_type": "code",
   "execution_count": 2,
   "metadata": {
    "execution": {
     "iopub.execute_input": "2024-11-30T03:36:48.177407Z",
     "iopub.status.busy": "2024-11-30T03:36:48.177080Z",
     "iopub.status.idle": "2024-11-30T03:36:48.182216Z",
     "shell.execute_reply": "2024-11-30T03:36:48.181666Z"
    }
   },
   "outputs": [],
   "source": [
    "workflow = {\n",
    "    \"a_galaxy_workflow\": \"true\",\n",
    "    \"format-version\": \"0.1\",\n",
    "    \"name\": \"gaussian_blur_threshold\",\n",
    "    \"steps\": {\n",
    "        \"0\": {\n",
    "            \"id\": 0,\n",
    "            \"type\": \"data_input\",\n",
    "            \"inputs\": [{\"name\": \"Input Image\"}],\n",
    "            \"position\": {\"left\": 0, \"top\": 0}\n",
    "        },\n",
    "        \"1\": {\n",
    "            \"id\": 1,\n",
    "            \"tool_id\": \"toolshed.g2.bx.psu.edu/repos/imgteam/2d_simple_filter/ip_filter_standard/1.12.0+galaxy1\",\n",
    "            \"type\": \"tool\",\n",
    "            \"input_connections\": {\n",
    "                \"input\": {\"id\": 0, \"output_name\": \"output\"}\n",
    "            },\n",
    "            \"tool_state\": \"{\\\"filter\\\": {\\\"filter_type\\\": \\\"gaussian\\\", \\\"size\\\": \\\"3.0\\\"}}\",\n",
    "            \"position\": {\"left\": 300, \"top\": 0}\n",
    "        },\n",
    "        \"2\": {\n",
    "            \"id\": 2, \n",
    "            \"tool_id\": \"toolshed.g2.bx.psu.edu/repos/imgteam/2d_auto_threshold/ip_threshold/0.18.1+galaxy3\",\n",
    "            \"type\": \"tool\",\n",
    "            \"input_connections\": {\n",
    "                \"input\": {\"id\": 1, \"output_name\": \"output\"}\n",
    "            },\n",
    "            \"tool_state\": \"{\\\"th_method\\\": {\\\"method_id\\\": \\\"otsu\\\"}}\",\n",
    "            \"position\": {\"left\": 600, \"top\": 0}\n",
    "        }\n",
    "    }\n",
    "}"
   ]
  },
  {
   "cell_type": "markdown",
   "metadata": {},
   "source": [
    "## Save workflow to file"
   ]
  },
  {
   "cell_type": "code",
   "execution_count": 3,
   "metadata": {
    "execution": {
     "iopub.execute_input": "2024-11-30T03:36:48.184038Z",
     "iopub.status.busy": "2024-11-30T03:36:48.183701Z",
     "iopub.status.idle": "2024-11-30T03:36:48.186805Z",
     "shell.execute_reply": "2024-11-30T03:36:48.186376Z"
    }
   },
   "outputs": [],
   "source": [
    "workflow_file = \"gaussian_blur_threshold.ga\"\n",
    "with open(workflow_file, 'w') as f:\n",
    "    json.dump(workflow, f, indent=4)"
   ]
  },
  {
   "cell_type": "markdown",
   "metadata": {},
   "source": [
    "## Validate workflow using planemo"
   ]
  },
  {
   "cell_type": "code",
   "execution_count": 4,
   "metadata": {
    "execution": {
     "iopub.execute_input": "2024-11-30T03:36:48.188583Z",
     "iopub.status.busy": "2024-11-30T03:36:48.188403Z",
     "iopub.status.idle": "2024-11-30T03:36:50.167555Z",
     "shell.execute_reply": "2024-11-30T03:36:50.166910Z"
    }
   },
   "outputs": [
    {
     "name": "stdout",
     "output_type": "stream",
     "text": [
      ".. WARNING: Workflow contained no outputs\n",
      "\n"
     ]
    }
   ],
   "source": [
    "result = subprocess.run(['planemo', 'workflow_lint', workflow_file], \n",
    "                       capture_output=True,\n",
    "                       text=True)\n",
    "print(result.stdout)"
   ]
  }
 ],
 "metadata": {
  "language_info": {
   "codemirror_mode": {
    "name": "ipython",
    "version": 3
   },
   "file_extension": ".py",
   "mimetype": "text/x-python",
   "name": "python",
   "nbconvert_exporter": "python",
   "pygments_lexer": "ipython3",
   "version": "3.12.7"
  }
 },
 "nbformat": 4,
 "nbformat_minor": 4
}
