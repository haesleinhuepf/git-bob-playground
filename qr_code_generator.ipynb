{
 "cells": [
  {
   "cell_type": "markdown",
   "metadata": {},
   "source": [
    "# QR Code Generator\n",
    "\n",
    "Generate a QR code for a DOI URL using the `qrcode` library."
   ]
  },
  {
   "cell_type": "code",
   "execution_count": 1,
   "metadata": {
    "execution": {
     "iopub.execute_input": "2025-04-07T06:30:16.033996Z",
     "iopub.status.busy": "2025-04-07T06:30:16.033797Z",
     "iopub.status.idle": "2025-04-07T06:30:17.281841Z",
     "shell.execute_reply": "2025-04-07T06:30:17.281236Z"
    }
   },
   "outputs": [
    {
     "name": "stdout",
     "output_type": "stream",
     "text": [
      "Collecting qrcode\r\n",
      "  Downloading qrcode-8.1-py3-none-any.whl.metadata (17 kB)\r\n"
     ]
    },
    {
     "name": "stdout",
     "output_type": "stream",
     "text": [
      "Downloading qrcode-8.1-py3-none-any.whl (45 kB)\r\n"
     ]
    },
    {
     "name": "stdout",
     "output_type": "stream",
     "text": [
      "Installing collected packages: qrcode\r\n"
     ]
    },
    {
     "name": "stdout",
     "output_type": "stream",
     "text": [
      "Successfully installed qrcode-8.1\r\n"
     ]
    }
   ],
   "source": [
    "!pip install qrcode\n",
    "import qrcode\n",
    "import numpy as np"
   ]
  },
  {
   "cell_type": "markdown",
   "metadata": {},
   "source": [
    "Define URL and generate QR code"
   ]
  },
  {
   "cell_type": "code",
   "execution_count": 2,
   "metadata": {
    "execution": {
     "iopub.execute_input": "2025-04-07T06:30:17.285018Z",
     "iopub.status.busy": "2025-04-07T06:30:17.284378Z",
     "iopub.status.idle": "2025-04-07T06:30:17.340524Z",
     "shell.execute_reply": "2025-04-07T06:30:17.339969Z"
    }
   },
   "outputs": [],
   "source": [
    "url = \"https://doi.org/10.5281/zenodo.15165424\"\n",
    "\n",
    "# Create QR code instance\n",
    "qr = qrcode.QRCode(\n",
    "    version=1,\n",
    "    error_correction=qrcode.constants.ERROR_CORRECT_L,\n",
    "    box_size=10,\n",
    "    border=4,\n",
    ")\n",
    "\n",
    "# Add data\n",
    "qr.add_data(url)\n",
    "qr.make(fit=True)\n",
    "\n",
    "# Create an image\n",
    "qr_image = qr.make_image(fill_color=\"black\", back_color=\"white\")\n",
    "\n",
    "# Convert to numpy array and save\n",
    "qr_array = np.array(qr_image).astype(np.uint8) * 255\n",
    "np.save('qr_code.npy', qr_array)\n",
    "import imageio.v3 as iio\n",
    "iio.imwrite('qr_code.png', qr_array)"
   ]
  }
 ],
 "metadata": {
  "language_info": {
   "codemirror_mode": {
    "name": "ipython",
    "version": 3
   },
   "file_extension": ".py",
   "mimetype": "text/x-python",
   "name": "python",
   "nbconvert_exporter": "python",
   "pygments_lexer": "ipython3",
   "version": "3.13.2"
  }
 },
 "nbformat": 4,
 "nbformat_minor": 4
}
