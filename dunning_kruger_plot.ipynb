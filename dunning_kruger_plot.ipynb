{
 "cells": [
  {
   "cell_type": "markdown",
   "metadata": {},
   "source": [
    "# Dunning Kruger Effect Plot with B-spline Interpolation\n",
    "\n",
    "Import required libraries"
   ]
  },
  {
   "cell_type": "code",
   "execution_count": 1,
   "metadata": {
    "execution": {
     "iopub.execute_input": "2025-01-07T02:22:30.509867Z",
     "iopub.status.busy": "2025-01-07T02:22:30.509687Z",
     "iopub.status.idle": "2025-01-07T02:22:31.580369Z",
     "shell.execute_reply": "2025-01-07T02:22:31.579746Z"
    }
   },
   "outputs": [],
   "source": [
    "import numpy as np\n",
    "from scipy.interpolate import make_interp_spline\n",
    "import seaborn as sns\n",
    "import matplotlib.pyplot as plt"
   ]
  },
  {
   "cell_type": "markdown",
   "metadata": {},
   "source": [
    "Define key points for both curves with more points for smoother transitions"
   ]
  },
  {
   "cell_type": "code",
   "execution_count": 2,
   "metadata": {
    "execution": {
     "iopub.execute_input": "2025-01-07T02:22:31.582556Z",
     "iopub.status.busy": "2025-01-07T02:22:31.582290Z",
     "iopub.status.idle": "2025-01-07T02:22:31.586558Z",
     "shell.execute_reply": "2025-01-07T02:22:31.585956Z"
    }
   },
   "outputs": [],
   "source": [
    "points_no_investment = np.array([\n",
    "    [0, 0],     # Start\n",
    "    [3, 10],    # Initial rise\n",
    "    [7, 40],    # Steeper rise\n",
    "    [12, 80],   # Near peak\n",
    "    [15, 100],  # Peak\n",
    "    [25, 50],   # Decline\n",
    "    [40, 10],   # Valley\n",
    "    [60, 40],   # Recovery\n",
    "    [75, 60],   # Rise to plateau\n",
    "    [85, 60],   # Maintain plateau\n",
    "    [100, 60]   # End plateau\n",
    "])\n",
    "\n",
    "points_with_investment = np.array([\n",
    "    [0, 0],     # Start\n",
    "    [3, 15],    # Initial rise\n",
    "    [7, 50],    # Steeper rise\n",
    "    [12, 85],   # Near peak\n",
    "    [15, 100],  # Peak\n",
    "    [25, 70],   # Decline\n",
    "    [40, 40],   # Valley\n",
    "    [60, 65],   # Recovery\n",
    "    [75, 80],   # Rise to plateau\n",
    "    [85, 80],   # Maintain plateau\n",
    "    [100, 80]   # End plateau\n",
    "])"
   ]
  },
  {
   "cell_type": "markdown",
   "metadata": {},
   "source": [
    "Create smooth curves using B-spline interpolation"
   ]
  },
  {
   "cell_type": "code",
   "execution_count": 3,
   "metadata": {
    "execution": {
     "iopub.execute_input": "2025-01-07T02:22:31.589557Z",
     "iopub.status.busy": "2025-01-07T02:22:31.588968Z",
     "iopub.status.idle": "2025-01-07T02:22:31.593266Z",
     "shell.execute_reply": "2025-01-07T02:22:31.592808Z"
    }
   },
   "outputs": [],
   "source": [
    "x = np.linspace(0, 100, 1000)\n",
    "spl1 = make_interp_spline(points_no_investment[:,0], points_no_investment[:,1], k=3)\n",
    "spl2 = make_interp_spline(points_with_investment[:,0], points_with_investment[:,1], k=3)\n",
    "y1 = spl1(x)\n",
    "y2 = spl2(x)"
   ]
  },
  {
   "cell_type": "markdown",
   "metadata": {},
   "source": [
    "Create and save the plot using seaborn"
   ]
  },
  {
   "cell_type": "code",
   "execution_count": 4,
   "metadata": {
    "execution": {
     "iopub.execute_input": "2025-01-07T02:22:31.594994Z",
     "iopub.status.busy": "2025-01-07T02:22:31.594714Z",
     "iopub.status.idle": "2025-01-07T02:22:31.712733Z",
     "shell.execute_reply": "2025-01-07T02:22:31.712157Z"
    }
   },
   "outputs": [],
   "source": [
    "plt.figure(figsize=(10, 6))\n",
    "sns.set_style('whitegrid')\n",
    "plt.plot(x, y1, label='Without investment', color='red')\n",
    "plt.plot(x, y2, label='With investment', color='blue')\n",
    "plt.xlabel('Experience')\n",
    "plt.ylabel('Confidence (%)')\n",
    "plt.title('Dunning-Kruger Effect')\n",
    "plt.legend()\n",
    "plt.savefig('dunning_kruger_plot.png')\n",
    "plt.close()"
   ]
  }
 ],
 "metadata": {
  "language_info": {
   "codemirror_mode": {
    "name": "ipython",
    "version": 3
   },
   "file_extension": ".py",
   "mimetype": "text/x-python",
   "name": "python",
   "nbconvert_exporter": "python",
   "pygments_lexer": "ipython3",
   "version": "3.12.8"
  }
 },
 "nbformat": 4,
 "nbformat_minor": 4
}
