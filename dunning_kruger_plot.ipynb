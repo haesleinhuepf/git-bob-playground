{
 "cells": [
  {
   "cell_type": "markdown",
   "metadata": {},
   "source": [
    "# Exploring different spline interpolation options for Dunning-Kruger Effect plots\n",
    "\n",
    "Import required libraries"
   ]
  },
  {
   "cell_type": "code",
   "execution_count": 1,
   "metadata": {
    "execution": {
     "iopub.execute_input": "2025-01-07T02:27:18.750573Z",
     "iopub.status.busy": "2025-01-07T02:27:18.750395Z",
     "iopub.status.idle": "2025-01-07T02:27:21.427658Z",
     "shell.execute_reply": "2025-01-07T02:27:21.426992Z"
    }
   },
   "outputs": [],
   "source": [
    "import numpy as np\n",
    "from scipy.interpolate import make_interp_spline, CubicSpline, UnivariateSpline\n",
    "import seaborn as sns\n",
    "import matplotlib.pyplot as plt"
   ]
  },
  {
   "cell_type": "markdown",
   "metadata": {},
   "source": [
    "Define key points for both curves"
   ]
  },
  {
   "cell_type": "code",
   "execution_count": 2,
   "metadata": {
    "execution": {
     "iopub.execute_input": "2025-01-07T02:27:21.429867Z",
     "iopub.status.busy": "2025-01-07T02:27:21.429612Z",
     "iopub.status.idle": "2025-01-07T02:27:21.434213Z",
     "shell.execute_reply": "2025-01-07T02:27:21.433716Z"
    }
   },
   "outputs": [],
   "source": [
    "points_no_investment = np.array([\n",
    "    [0, 0],     # Start\n",
    "    [3, 10],    # Initial rise\n",
    "    [7, 40],    # Steeper rise\n",
    "    [12, 80],   # Near peak\n",
    "    [15, 100],  # Peak\n",
    "    [25, 50],   # Decline\n",
    "    [40, 10],   # Valley\n",
    "    [60, 40],   # Recovery\n",
    "    [80, 60],   # Plateau start\n",
    "    [90, 60],   # Plateau middle\n",
    "    [100, 60]   # End plateau\n",
    "])\n",
    "\n",
    "points_with_investment = np.array([\n",
    "    [0, 0],     # Start\n",
    "    [3, 15],    # Initial rise\n",
    "    [7, 50],    # Steeper rise\n",
    "    [12, 85],   # Near peak\n",
    "    [15, 100],  # Peak\n",
    "    [25, 70],   # Decline\n",
    "    [40, 40],   # Valley\n",
    "    [60, 65],   # Recovery\n",
    "    [80, 80],   # Plateau start\n",
    "    [90, 80],   # Plateau middle\n",
    "    [100, 80]   # End plateau\n",
    "])"
   ]
  },
  {
   "cell_type": "markdown",
   "metadata": {},
   "source": [
    "Try different spline interpolation methods and save plots"
   ]
  },
  {
   "cell_type": "code",
   "execution_count": 3,
   "metadata": {
    "execution": {
     "iopub.execute_input": "2025-01-07T02:27:21.435825Z",
     "iopub.status.busy": "2025-01-07T02:27:21.435651Z",
     "iopub.status.idle": "2025-01-07T02:27:21.762908Z",
     "shell.execute_reply": "2025-01-07T02:27:21.762264Z"
    }
   },
   "outputs": [],
   "source": [
    "x = np.linspace(0, 100, 1000)\n",
    "\n",
    "# 1. make_interp_spline\n",
    "spl1 = make_interp_spline(points_no_investment[:,0], points_no_investment[:,1], k=3)\n",
    "spl2 = make_interp_spline(points_with_investment[:,0], points_with_investment[:,1], k=3)\n",
    "\n",
    "plt.figure(figsize=(10, 6))\n",
    "sns.set_style('whitegrid')\n",
    "plt.plot(x, spl1(x), label='Without investment', color='red')\n",
    "plt.plot(x, spl2(x), label='With investment', color='blue')\n",
    "plt.xlabel('Experience')\n",
    "plt.ylabel('Confidence (%)')\n",
    "plt.title('Dunning-Kruger Effect (BSpline)')\n",
    "plt.legend()\n",
    "plt.savefig('dunning_kruger_bspline.png')\n",
    "plt.close()\n",
    "\n",
    "# 2. CubicSpline\n",
    "cs1 = CubicSpline(points_no_investment[:,0], points_no_investment[:,1])\n",
    "cs2 = CubicSpline(points_with_investment[:,0], points_with_investment[:,1])\n",
    "\n",
    "plt.figure(figsize=(10, 6))\n",
    "sns.set_style('whitegrid')\n",
    "plt.plot(x, cs1(x), label='Without investment', color='red')\n",
    "plt.plot(x, cs2(x), label='With investment', color='blue')\n",
    "plt.xlabel('Experience')\n",
    "plt.ylabel('Confidence (%)')\n",
    "plt.title('Dunning-Kruger Effect (CubicSpline)')\n",
    "plt.legend()\n",
    "plt.savefig('dunning_kruger_cubicspline.png')\n",
    "plt.close()\n",
    "\n",
    "# 3. UnivariateSpline\n",
    "us1 = UnivariateSpline(points_no_investment[:,0], points_no_investment[:,1], k=3, s=0)\n",
    "us2 = UnivariateSpline(points_with_investment[:,0], points_with_investment[:,1], k=3, s=0)\n",
    "\n",
    "plt.figure(figsize=(10, 6))\n",
    "sns.set_style('whitegrid')\n",
    "plt.plot(x, us1(x), label='Without investment', color='red')\n",
    "plt.plot(x, us2(x), label='With investment', color='blue')\n",
    "plt.xlabel('Experience')\n",
    "plt.ylabel('Confidence (%)')\n",
    "plt.title('Dunning-Kruger Effect (UnivariateSpline)')\n",
    "plt.legend()\n",
    "plt.savefig('dunning_kruger_univariatespline.png')\n",
    "plt.close()"
   ]
  }
 ],
 "metadata": {
  "language_info": {
   "codemirror_mode": {
    "name": "ipython",
    "version": 3
   },
   "file_extension": ".py",
   "mimetype": "text/x-python",
   "name": "python",
   "nbconvert_exporter": "python",
   "pygments_lexer": "ipython3",
   "version": "3.12.8"
  }
 },
 "nbformat": 4,
 "nbformat_minor": 4
}
