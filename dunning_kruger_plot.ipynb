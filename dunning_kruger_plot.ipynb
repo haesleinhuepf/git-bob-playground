{
 "cells": [
  {
   "cell_type": "markdown",
   "metadata": {},
   "source": [
    "# Dunning Kruger Effect Plot\n",
    "Import required libraries"
   ]
  },
  {
   "cell_type": "code",
   "execution_count": 1,
   "metadata": {
    "execution": {
     "iopub.execute_input": "2025-01-07T01:56:28.843759Z",
     "iopub.status.busy": "2025-01-07T01:56:28.843284Z",
     "iopub.status.idle": "2025-01-07T01:56:29.523406Z",
     "shell.execute_reply": "2025-01-07T01:56:29.522899Z"
    }
   },
   "outputs": [],
   "source": [
    "import numpy as np\n",
    "import matplotlib.pyplot as plt"
   ]
  },
  {
   "cell_type": "markdown",
   "metadata": {},
   "source": [
    "Create x-axis data points representing experience level"
   ]
  },
  {
   "cell_type": "code",
   "execution_count": 2,
   "metadata": {
    "execution": {
     "iopub.execute_input": "2025-01-07T01:56:29.525746Z",
     "iopub.status.busy": "2025-01-07T01:56:29.525290Z",
     "iopub.status.idle": "2025-01-07T01:56:29.528242Z",
     "shell.execute_reply": "2025-01-07T01:56:29.527789Z"
    }
   },
   "outputs": [],
   "source": [
    "x = np.linspace(0, 100, 1000)"
   ]
  },
  {
   "cell_type": "markdown",
   "metadata": {},
   "source": [
    "Define functions for both curves"
   ]
  },
  {
   "cell_type": "code",
   "execution_count": 3,
   "metadata": {
    "execution": {
     "iopub.execute_input": "2025-01-07T01:56:29.530148Z",
     "iopub.status.busy": "2025-01-07T01:56:29.529786Z",
     "iopub.status.idle": "2025-01-07T01:56:29.533407Z",
     "shell.execute_reply": "2025-01-07T01:56:29.532941Z"
    }
   },
   "outputs": [],
   "source": [
    "def dunning_kruger_no_investment(x):\n",
    "    return 20 + 40 * np.exp(-((x-15)**2)/200) - 10 * np.exp(-((x-40)**2)/1000) + 40 * (1 - np.exp(-x/50))\n",
    "\n",
    "def dunning_kruger_with_investment(x):\n",
    "    return 50 + 30 * np.exp(-((x-15)**2)/200) - 10 * np.exp(-((x-40)**2)/1000) + 30 * (1 - np.exp(-x/50))"
   ]
  },
  {
   "cell_type": "markdown",
   "metadata": {},
   "source": [
    "Create and save the plot"
   ]
  },
  {
   "cell_type": "code",
   "execution_count": 4,
   "metadata": {
    "execution": {
     "iopub.execute_input": "2025-01-07T01:56:29.535283Z",
     "iopub.status.busy": "2025-01-07T01:56:29.534926Z",
     "iopub.status.idle": "2025-01-07T01:56:29.660375Z",
     "shell.execute_reply": "2025-01-07T01:56:29.659808Z"
    }
   },
   "outputs": [],
   "source": [
    "plt.figure(figsize=(10, 6))\n",
    "plt.plot(x, dunning_kruger_no_investment(x), label='Without investment', color='red')\n",
    "plt.plot(x, dunning_kruger_with_investment(x), label='With investment', color='blue')\n",
    "plt.xlabel('Experience')\n",
    "plt.ylabel('Confidence (%)')\n",
    "plt.title('Dunning-Kruger Effect')\n",
    "plt.grid(True)\n",
    "plt.legend()\n",
    "plt.savefig('dunning_kruger_plot.png')\n",
    "plt.close()"
   ]
  }
 ],
 "metadata": {
  "language_info": {
   "codemirror_mode": {
    "name": "ipython",
    "version": 3
   },
   "file_extension": ".py",
   "mimetype": "text/x-python",
   "name": "python",
   "nbconvert_exporter": "python",
   "pygments_lexer": "ipython3",
   "version": "3.12.8"
  }
 },
 "nbformat": 4,
 "nbformat_minor": 4
}
