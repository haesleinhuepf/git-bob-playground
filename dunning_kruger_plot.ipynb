{
 "cells": [
  {
   "cell_type": "markdown",
   "metadata": {},
   "source": [
    "# Dunning Kruger Effect Plot\n",
    "Import required libraries"
   ]
  },
  {
   "cell_type": "code",
   "execution_count": 1,
   "metadata": {
    "execution": {
     "iopub.execute_input": "2025-01-07T02:06:05.527038Z",
     "iopub.status.busy": "2025-01-07T02:06:05.526587Z",
     "iopub.status.idle": "2025-01-07T02:06:05.940520Z",
     "shell.execute_reply": "2025-01-07T02:06:05.939944Z"
    }
   },
   "outputs": [],
   "source": [
    "import numpy as np\n",
    "import matplotlib.pyplot as plt"
   ]
  },
  {
   "cell_type": "markdown",
   "metadata": {},
   "source": [
    "Create x-axis data points representing experience level"
   ]
  },
  {
   "cell_type": "code",
   "execution_count": 2,
   "metadata": {
    "execution": {
     "iopub.execute_input": "2025-01-07T02:06:05.942842Z",
     "iopub.status.busy": "2025-01-07T02:06:05.942421Z",
     "iopub.status.idle": "2025-01-07T02:06:05.945495Z",
     "shell.execute_reply": "2025-01-07T02:06:05.945042Z"
    }
   },
   "outputs": [],
   "source": [
    "x = np.linspace(0, 100, 1000)"
   ]
  },
  {
   "cell_type": "markdown",
   "metadata": {},
   "source": [
    "Define functions for both curves ensuring they start at 0"
   ]
  },
  {
   "cell_type": "code",
   "execution_count": 3,
   "metadata": {
    "execution": {
     "iopub.execute_input": "2025-01-07T02:06:05.947433Z",
     "iopub.status.busy": "2025-01-07T02:06:05.947103Z",
     "iopub.status.idle": "2025-01-07T02:06:05.951297Z",
     "shell.execute_reply": "2025-01-07T02:06:05.950807Z"
    }
   },
   "outputs": [],
   "source": [
    "def dunning_kruger_no_investment(x):\n",
    "    peak = 100 * np.exp(-((x-15)**2)/200)\n",
    "    valley = 90 * np.exp(-((x-40)**2)/1000)\n",
    "    plateau = 60 * (1 - np.exp(-x/50))\n",
    "    return (peak - valley + plateau) * x/15 * (x < 15) + (peak - valley + plateau) * (x >= 15)\n",
    "\n",
    "def dunning_kruger_with_investment(x):\n",
    "    peak = 100 * np.exp(-((x-15)**2)/200)\n",
    "    valley = 60 * np.exp(-((x-40)**2)/1000)\n",
    "    plateau = 80 * (1 - np.exp(-x/50))\n",
    "    return (peak - valley + plateau) * x/15 * (x < 15) + (peak - valley + plateau) * (x >= 15)"
   ]
  },
  {
   "cell_type": "markdown",
   "metadata": {},
   "source": [
    "Create and save the plot"
   ]
  },
  {
   "cell_type": "code",
   "execution_count": 4,
   "metadata": {
    "execution": {
     "iopub.execute_input": "2025-01-07T02:06:05.953122Z",
     "iopub.status.busy": "2025-01-07T02:06:05.952687Z",
     "iopub.status.idle": "2025-01-07T02:06:06.083485Z",
     "shell.execute_reply": "2025-01-07T02:06:06.082797Z"
    }
   },
   "outputs": [],
   "source": [
    "plt.figure(figsize=(10, 6))\n",
    "plt.plot(x, dunning_kruger_no_investment(x), label='Without investment', color='red')\n",
    "plt.plot(x, dunning_kruger_with_investment(x), label='With investment', color='blue')\n",
    "plt.xlabel('Experience')\n",
    "plt.ylabel('Confidence (%)')\n",
    "plt.title('Dunning-Kruger Effect')\n",
    "plt.grid(True)\n",
    "plt.legend()\n",
    "plt.savefig('dunning_kruger_plot.png')\n",
    "plt.close()"
   ]
  }
 ],
 "metadata": {
  "language_info": {
   "codemirror_mode": {
    "name": "ipython",
    "version": 3
   },
   "file_extension": ".py",
   "mimetype": "text/x-python",
   "name": "python",
   "nbconvert_exporter": "python",
   "pygments_lexer": "ipython3",
   "version": "3.12.8"
  }
 },
 "nbformat": 4,
 "nbformat_minor": 4
}
