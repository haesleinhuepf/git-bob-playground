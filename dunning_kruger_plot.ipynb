{
 "cells": [
  {
   "cell_type": "markdown",
   "metadata": {},
   "source": [
    "# Dunning Kruger Effect Plot with B-spline Interpolation\n",
    "\n",
    "Import required libraries"
   ]
  },
  {
   "cell_type": "code",
   "execution_count": 1,
   "metadata": {
    "execution": {
     "iopub.execute_input": "2025-01-07T02:22:05.557054Z",
     "iopub.status.busy": "2025-01-07T02:22:05.556875Z",
     "iopub.status.idle": "2025-01-07T02:22:06.955947Z",
     "shell.execute_reply": "2025-01-07T02:22:06.955273Z"
    }
   },
   "outputs": [],
   "source": [
    "import numpy as np\n",
    "from scipy.interpolate import make_interp_spline\n",
    "import seaborn as sns\n",
    "import matplotlib.pyplot as plt"
   ]
  },
  {
   "cell_type": "markdown",
   "metadata": {},
   "source": [
    "Define key points for both curves with more points for smoother transitions"
   ]
  },
  {
   "cell_type": "code",
   "execution_count": 2,
   "metadata": {
    "execution": {
     "iopub.execute_input": "2025-01-07T02:22:06.958282Z",
     "iopub.status.busy": "2025-01-07T02:22:06.957854Z",
     "iopub.status.idle": "2025-01-07T02:22:06.962013Z",
     "shell.execute_reply": "2025-01-07T02:22:06.961435Z"
    }
   },
   "outputs": [],
   "source": [
    "points_no_investment = np.array([\n",
    "    [0, 0],     # Start\n",
    "    [5, 20],    # Initial rise\n",
    "    [10, 60],   # Steeper rise\n",
    "    [15, 100],  # Peak\n",
    "    [30, 40],   # Decline\n",
    "    [40, 10],   # Valley\n",
    "    [60, 40],   # Recovery\n",
    "    [80, 60],   # Rise to plateau\n",
    "    [90, 60],   # Maintain plateau\n",
    "    [100, 60]   # End plateau\n",
    "])\n",
    "\n",
    "points_with_investment = np.array([\n",
    "    [0, 0],     # Start\n",
    "    [5, 30],    # Initial rise\n",
    "    [10, 70],   # Steeper rise\n",
    "    [15, 100],  # Peak\n",
    "    [30, 60],   # Decline\n",
    "    [40, 40],   # Valley\n",
    "    [60, 60],   # Recovery\n",
    "    [80, 80],   # Rise to plateau\n",
    "    [90, 80],   # Maintain plateau\n",
    "    [100, 80]   # End plateau\n",
    "])"
   ]
  },
  {
   "cell_type": "markdown",
   "metadata": {},
   "source": [
    "Create smooth curves using B-spline interpolation"
   ]
  },
  {
   "cell_type": "code",
   "execution_count": 3,
   "metadata": {
    "execution": {
     "iopub.execute_input": "2025-01-07T02:22:06.963851Z",
     "iopub.status.busy": "2025-01-07T02:22:06.963488Z",
     "iopub.status.idle": "2025-01-07T02:22:06.967246Z",
     "shell.execute_reply": "2025-01-07T02:22:06.966812Z"
    }
   },
   "outputs": [],
   "source": [
    "x = np.linspace(0, 100, 500)\n",
    "spl1 = make_interp_spline(points_no_investment[:,0], points_no_investment[:,1], k=3)\n",
    "spl2 = make_interp_spline(points_with_investment[:,0], points_with_investment[:,1], k=3)\n",
    "y1 = spl1(x)\n",
    "y2 = spl2(x)"
   ]
  },
  {
   "cell_type": "markdown",
   "metadata": {},
   "source": [
    "Create and save the plot using seaborn"
   ]
  },
  {
   "cell_type": "code",
   "execution_count": 4,
   "metadata": {
    "execution": {
     "iopub.execute_input": "2025-01-07T02:22:06.969106Z",
     "iopub.status.busy": "2025-01-07T02:22:06.968766Z",
     "iopub.status.idle": "2025-01-07T02:22:07.090038Z",
     "shell.execute_reply": "2025-01-07T02:22:07.089524Z"
    }
   },
   "outputs": [],
   "source": [
    "plt.figure(figsize=(10, 6))\n",
    "sns.set_style('whitegrid')\n",
    "plt.plot(x, y1, label='Without investment', color='red')\n",
    "plt.plot(x, y2, label='With investment', color='blue')\n",
    "plt.xlabel('Experience')\n",
    "plt.ylabel('Confidence (%)')\n",
    "plt.title('Dunning-Kruger Effect')\n",
    "plt.legend()\n",
    "plt.savefig('dunning_kruger_plot.png')\n",
    "plt.close()"
   ]
  }
 ],
 "metadata": {
  "language_info": {
   "codemirror_mode": {
    "name": "ipython",
    "version": 3
   },
   "file_extension": ".py",
   "mimetype": "text/x-python",
   "name": "python",
   "nbconvert_exporter": "python",
   "pygments_lexer": "ipython3",
   "version": "3.12.8"
  }
 },
 "nbformat": 4,
 "nbformat_minor": 4
}
