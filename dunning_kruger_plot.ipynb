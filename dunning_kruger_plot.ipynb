{
 "cells": [
  {
   "cell_type": "markdown",
   "metadata": {},
   "source": [
    "# Dunning Kruger Effect Plot with B-spline Interpolation\n",
    "\n",
    "Import required libraries"
   ]
  },
  {
   "cell_type": "code",
   "execution_count": 1,
   "metadata": {
    "execution": {
     "iopub.execute_input": "2025-01-07T02:16:52.229438Z",
     "iopub.status.busy": "2025-01-07T02:16:52.229009Z",
     "iopub.status.idle": "2025-01-07T02:16:54.291846Z",
     "shell.execute_reply": "2025-01-07T02:16:54.291258Z"
    }
   },
   "outputs": [],
   "source": [
    "import numpy as np\n",
    "from scipy.interpolate import make_interp_spline\n",
    "import seaborn as sns\n",
    "import matplotlib.pyplot as plt"
   ]
  },
  {
   "cell_type": "markdown",
   "metadata": {},
   "source": [
    "Define key points for both curves with more points for better plateaus"
   ]
  },
  {
   "cell_type": "code",
   "execution_count": 2,
   "metadata": {
    "execution": {
     "iopub.execute_input": "2025-01-07T02:16:54.294321Z",
     "iopub.status.busy": "2025-01-07T02:16:54.293872Z",
     "iopub.status.idle": "2025-01-07T02:16:54.297148Z",
     "shell.execute_reply": "2025-01-07T02:16:54.296712Z"
    }
   },
   "outputs": [],
   "source": [
    "points_no_investment = np.array([\n",
    "    [0, 0],     # Start\n",
    "    [15, 100],  # Peak\n",
    "    [40, 10],   # Valley\n",
    "    [70, 60],   # Rise to plateau\n",
    "    [85, 60],   # Maintain plateau\n",
    "    [100, 60]   # End plateau\n",
    "])\n",
    "\n",
    "points_with_investment = np.array([\n",
    "    [0, 0],     # Start\n",
    "    [15, 100],  # Peak\n",
    "    [40, 40],   # Valley\n",
    "    [70, 80],   # Rise to plateau\n",
    "    [85, 80],   # Maintain plateau\n",
    "    [100, 80]   # End plateau\n",
    "])"
   ]
  },
  {
   "cell_type": "markdown",
   "metadata": {},
   "source": [
    "Create smooth curves using B-spline interpolation"
   ]
  },
  {
   "cell_type": "code",
   "execution_count": 3,
   "metadata": {
    "execution": {
     "iopub.execute_input": "2025-01-07T02:16:54.299015Z",
     "iopub.status.busy": "2025-01-07T02:16:54.298675Z",
     "iopub.status.idle": "2025-01-07T02:16:54.302426Z",
     "shell.execute_reply": "2025-01-07T02:16:54.301983Z"
    }
   },
   "outputs": [],
   "source": [
    "x = np.linspace(0, 100, 200)\n",
    "spl1 = make_interp_spline(points_no_investment[:,0], points_no_investment[:,1], k=3)\n",
    "spl2 = make_interp_spline(points_with_investment[:,0], points_with_investment[:,1], k=3)\n",
    "y1 = spl1(x)\n",
    "y2 = spl2(x)"
   ]
  },
  {
   "cell_type": "markdown",
   "metadata": {},
   "source": [
    "Create and save the plot using seaborn"
   ]
  },
  {
   "cell_type": "code",
   "execution_count": 4,
   "metadata": {
    "execution": {
     "iopub.execute_input": "2025-01-07T02:16:54.304227Z",
     "iopub.status.busy": "2025-01-07T02:16:54.303807Z",
     "iopub.status.idle": "2025-01-07T02:16:54.423096Z",
     "shell.execute_reply": "2025-01-07T02:16:54.422431Z"
    }
   },
   "outputs": [],
   "source": [
    "plt.figure(figsize=(10, 6))\n",
    "sns.set_style('whitegrid')\n",
    "plt.plot(x, y1, label='Without investment', color='red')\n",
    "plt.plot(x, y2, label='With investment', color='blue')\n",
    "plt.xlabel('Experience')\n",
    "plt.ylabel('Confidence (%)')\n",
    "plt.title('Dunning-Kruger Effect')\n",
    "plt.legend()\n",
    "plt.savefig('dunning_kruger_plot.png')\n",
    "plt.close()"
   ]
  }
 ],
 "metadata": {
  "language_info": {
   "codemirror_mode": {
    "name": "ipython",
    "version": 3
   },
   "file_extension": ".py",
   "mimetype": "text/x-python",
   "name": "python",
   "nbconvert_exporter": "python",
   "pygments_lexer": "ipython3",
   "version": "3.12.8"
  }
 },
 "nbformat": 4,
 "nbformat_minor": 4
}
