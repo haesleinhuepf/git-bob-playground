{
 "cells": [
  {
   "cell_type": "markdown",
   "metadata": {},
   "source": [
    "# Dunning Kruger Effect Plot with B-spline Interpolation"
   ]
  },
  {
   "cell_type": "markdown",
   "metadata": {},
   "source": [
    "Import required libraries"
   ]
  },
  {
   "cell_type": "code",
   "execution_count": 1,
   "metadata": {
    "execution": {
     "iopub.execute_input": "2025-01-07T02:11:37.224494Z",
     "iopub.status.busy": "2025-01-07T02:11:37.224324Z",
     "iopub.status.idle": "2025-01-07T02:11:38.684028Z",
     "shell.execute_reply": "2025-01-07T02:11:38.683528Z"
    }
   },
   "outputs": [],
   "source": [
    "import numpy as np\n",
    "from scipy.interpolate import BSpline, make_interp_spline\n",
    "import seaborn as sns\n",
    "import matplotlib.pyplot as plt"
   ]
  },
  {
   "cell_type": "markdown",
   "metadata": {},
   "source": [
    "Define key points for both curves"
   ]
  },
  {
   "cell_type": "code",
   "execution_count": 2,
   "metadata": {
    "execution": {
     "iopub.execute_input": "2025-01-07T02:11:38.686208Z",
     "iopub.status.busy": "2025-01-07T02:11:38.685817Z",
     "iopub.status.idle": "2025-01-07T02:11:38.689224Z",
     "shell.execute_reply": "2025-01-07T02:11:38.688647Z"
    }
   },
   "outputs": [],
   "source": [
    "# Points format: (experience, confidence)\n",
    "points_no_investment = np.array([\n",
    "    [0, 0],    # Start\n",
    "    [15, 100], # Peak\n",
    "    [40, 10],  # Valley\n",
    "    [100, 60]  # Plateau\n",
    "])\n",
    "\n",
    "points_with_investment = np.array([\n",
    "    [0, 0],    # Start\n",
    "    [15, 100], # Peak\n",
    "    [40, 40],  # Valley\n",
    "    [100, 80]  # Plateau\n",
    "])"
   ]
  },
  {
   "cell_type": "markdown",
   "metadata": {},
   "source": [
    "Create smooth curves using B-spline interpolation"
   ]
  },
  {
   "cell_type": "code",
   "execution_count": 3,
   "metadata": {
    "execution": {
     "iopub.execute_input": "2025-01-07T02:11:38.690958Z",
     "iopub.status.busy": "2025-01-07T02:11:38.690613Z",
     "iopub.status.idle": "2025-01-07T02:11:38.694470Z",
     "shell.execute_reply": "2025-01-07T02:11:38.694025Z"
    }
   },
   "outputs": [],
   "source": [
    "x = np.linspace(0, 100, 200)\n",
    "\n",
    "spl1 = make_interp_spline(points_no_investment[:,0], points_no_investment[:,1], k=3)\n",
    "spl2 = make_interp_spline(points_with_investment[:,0], points_with_investment[:,1], k=3)\n",
    "\n",
    "y1 = spl1(x)\n",
    "y2 = spl2(x)"
   ]
  },
  {
   "cell_type": "markdown",
   "metadata": {},
   "source": [
    "Create and save the plot using seaborn"
   ]
  },
  {
   "cell_type": "code",
   "execution_count": 4,
   "metadata": {
    "execution": {
     "iopub.execute_input": "2025-01-07T02:11:38.696127Z",
     "iopub.status.busy": "2025-01-07T02:11:38.695825Z",
     "iopub.status.idle": "2025-01-07T02:11:38.812335Z",
     "shell.execute_reply": "2025-01-07T02:11:38.811758Z"
    }
   },
   "outputs": [],
   "source": [
    "plt.figure(figsize=(10, 6))\n",
    "sns.set_style('whitegrid')\n",
    "plt.plot(x, y1, label='Without investment', color='red')\n",
    "plt.plot(x, y2, label='With investment', color='blue')\n",
    "plt.xlabel('Experience')\n",
    "plt.ylabel('Confidence (%)')\n",
    "plt.title('Dunning-Kruger Effect')\n",
    "plt.legend()\n",
    "plt.savefig('dunning_kruger_plot.png')\n",
    "plt.close()"
   ]
  }
 ],
 "metadata": {
  "language_info": {
   "codemirror_mode": {
    "name": "ipython",
    "version": 3
   },
   "file_extension": ".py",
   "mimetype": "text/x-python",
   "name": "python",
   "nbconvert_exporter": "python",
   "pygments_lexer": "ipython3",
   "version": "3.12.8"
  }
 },
 "nbformat": 4,
 "nbformat_minor": 4
}
