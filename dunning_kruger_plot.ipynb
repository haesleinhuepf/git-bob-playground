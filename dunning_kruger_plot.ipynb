{
 "cells": [
  {
   "cell_type": "markdown",
   "metadata": {},
   "source": [
    "# Dunning Kruger Effect Plot with Cubic Spline Interpolation\n",
    "\n",
    "Import required libraries"
   ]
  },
  {
   "cell_type": "code",
   "execution_count": 1,
   "metadata": {
    "execution": {
     "iopub.execute_input": "2025-01-07T07:37:44.590943Z",
     "iopub.status.busy": "2025-01-07T07:37:44.590767Z",
     "iopub.status.idle": "2025-01-07T07:37:45.986646Z",
     "shell.execute_reply": "2025-01-07T07:37:45.986056Z"
    }
   },
   "outputs": [],
   "source": [
    "import numpy as np\n",
    "from scipy.interpolate import CubicSpline\n",
    "import seaborn as sns\n",
    "import matplotlib.pyplot as plt"
   ]
  },
  {
   "cell_type": "markdown",
   "metadata": {},
   "source": [
    "Define key points for the red curve (\"Without investment\")"
   ]
  },
  {
   "cell_type": "code",
   "execution_count": 2,
   "metadata": {
    "execution": {
     "iopub.execute_input": "2025-01-07T07:37:45.988747Z",
     "iopub.status.busy": "2025-01-07T07:37:45.988521Z",
     "iopub.status.idle": "2025-01-07T07:37:45.991504Z",
     "shell.execute_reply": "2025-01-07T07:37:45.991044Z"
    }
   },
   "outputs": [],
   "source": [
    "points_no_investment = np.array([\n",
    "    [0, 0],     # Start\n",
    "    [3, 10],    # Initial rise\n",
    "    [7, 40],    # Steeper rise\n",
    "    [12, 80],   # Near peak\n",
    "    [15, 100],  # Peak\n",
    "    [25, 50],   # Decline\n",
    "    [40, 10],   # Valley\n",
    "    [60, 40],   # Recovery\n",
    "    [80, 60],   # Plateau start\n",
    "    [90, 60],   # Plateau middle\n",
    "    [100, 60]   # End plateau\n",
    "])"
   ]
  },
  {
   "cell_type": "markdown",
   "metadata": {},
   "source": [
    "Create smooth curve using cubic spline interpolation"
   ]
  },
  {
   "cell_type": "code",
   "execution_count": 3,
   "metadata": {
    "execution": {
     "iopub.execute_input": "2025-01-07T07:37:45.993259Z",
     "iopub.status.busy": "2025-01-07T07:37:45.992888Z",
     "iopub.status.idle": "2025-01-07T07:37:45.996178Z",
     "shell.execute_reply": "2025-01-07T07:37:45.995717Z"
    }
   },
   "outputs": [],
   "source": [
    "x = np.linspace(0, 100, 1000)\n",
    "cs = CubicSpline(points_no_investment[:,0], points_no_investment[:,1])"
   ]
  },
  {
   "cell_type": "markdown",
   "metadata": {},
   "source": [
    "Create and save the plot"
   ]
  },
  {
   "cell_type": "code",
   "execution_count": 4,
   "metadata": {
    "execution": {
     "iopub.execute_input": "2025-01-07T07:37:45.997955Z",
     "iopub.status.busy": "2025-01-07T07:37:45.997613Z",
     "iopub.status.idle": "2025-01-07T07:37:46.109396Z",
     "shell.execute_reply": "2025-01-07T07:37:46.108878Z"
    }
   },
   "outputs": [],
   "source": [
    "plt.figure(figsize=(10, 6))\n",
    "sns.set_style('whitegrid')\n",
    "plt.plot(x, cs(x), label='Without investment', color='red')\n",
    "plt.xlabel('Experience')\n",
    "plt.ylabel('Confidence (%)')\n",
    "plt.title('Dunning-Kruger Effect')\n",
    "plt.legend()\n",
    "plt.savefig('dunning_kruger_plot.png')\n",
    "plt.close()"
   ]
  }
 ],
 "metadata": {
  "language_info": {
   "codemirror_mode": {
    "name": "ipython",
    "version": 3
   },
   "file_extension": ".py",
   "mimetype": "text/x-python",
   "name": "python",
   "nbconvert_exporter": "python",
   "pygments_lexer": "ipython3",
   "version": "3.12.8"
  }
 },
 "nbformat": 4,
 "nbformat_minor": 4
}
