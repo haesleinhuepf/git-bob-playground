{
 "cells": [
  {
   "cell_type": "markdown",
   "metadata": {},
   "source": [
    "# Dunning Kruger Effect Plot\n",
    "Import required libraries"
   ]
  },
  {
   "cell_type": "code",
   "execution_count": 1,
   "metadata": {
    "execution": {
     "iopub.execute_input": "2025-01-07T02:05:45.544967Z",
     "iopub.status.busy": "2025-01-07T02:05:45.544765Z",
     "iopub.status.idle": "2025-01-07T02:05:46.265309Z",
     "shell.execute_reply": "2025-01-07T02:05:46.264721Z"
    }
   },
   "outputs": [],
   "source": [
    "import numpy as np\n",
    "import matplotlib.pyplot as plt"
   ]
  },
  {
   "cell_type": "markdown",
   "metadata": {},
   "source": [
    "Create x-axis data points representing experience level"
   ]
  },
  {
   "cell_type": "code",
   "execution_count": 2,
   "metadata": {
    "execution": {
     "iopub.execute_input": "2025-01-07T02:05:46.267638Z",
     "iopub.status.busy": "2025-01-07T02:05:46.267215Z",
     "iopub.status.idle": "2025-01-07T02:05:46.270099Z",
     "shell.execute_reply": "2025-01-07T02:05:46.269644Z"
    }
   },
   "outputs": [],
   "source": [
    "x = np.linspace(0, 100, 1000)"
   ]
  },
  {
   "cell_type": "markdown",
   "metadata": {},
   "source": [
    "Define functions for both curves ensuring they start at 0"
   ]
  },
  {
   "cell_type": "code",
   "execution_count": 3,
   "metadata": {
    "execution": {
     "iopub.execute_input": "2025-01-07T02:05:46.271869Z",
     "iopub.status.busy": "2025-01-07T02:05:46.271523Z",
     "iopub.status.idle": "2025-01-07T02:05:46.275140Z",
     "shell.execute_reply": "2025-01-07T02:05:46.274685Z"
    }
   },
   "outputs": [],
   "source": [
    "def dunning_kruger_no_investment(x):\n",
    "    base = 100 * np.exp(-((x-15)**2)/200) - 90 * np.exp(-((x-40)**2)/1000) + 60 * (1 - np.exp(-x/50))\n",
    "    return base * (1 - np.exp(-x/2))  # ensures start at 0\n",
    "\n",
    "def dunning_kruger_with_investment(x):\n",
    "    base = 100 * np.exp(-((x-15)**2)/200) - 60 * np.exp(-((x-40)**2)/1000) + 80 * (1 - np.exp(-x/50))\n",
    "    return base * (1 - np.exp(-x/2))  # ensures start at 0"
   ]
  },
  {
   "cell_type": "markdown",
   "metadata": {},
   "source": [
    "Create and save the plot"
   ]
  },
  {
   "cell_type": "code",
   "execution_count": 4,
   "metadata": {
    "execution": {
     "iopub.execute_input": "2025-01-07T02:05:46.276841Z",
     "iopub.status.busy": "2025-01-07T02:05:46.276505Z",
     "iopub.status.idle": "2025-01-07T02:05:46.406241Z",
     "shell.execute_reply": "2025-01-07T02:05:46.405650Z"
    }
   },
   "outputs": [],
   "source": [
    "plt.figure(figsize=(10, 6))\n",
    "plt.plot(x, dunning_kruger_no_investment(x), label='Without investment', color='red')\n",
    "plt.plot(x, dunning_kruger_with_investment(x), label='With investment', color='blue')\n",
    "plt.xlabel('Experience')\n",
    "plt.ylabel('Confidence (%)')\n",
    "plt.title('Dunning-Kruger Effect')\n",
    "plt.grid(True)\n",
    "plt.legend()\n",
    "plt.savefig('dunning_kruger_plot.png')\n",
    "plt.close()"
   ]
  }
 ],
 "metadata": {
  "language_info": {
   "codemirror_mode": {
    "name": "ipython",
    "version": 3
   },
   "file_extension": ".py",
   "mimetype": "text/x-python",
   "name": "python",
   "nbconvert_exporter": "python",
   "pygments_lexer": "ipython3",
   "version": "3.12.8"
  }
 },
 "nbformat": 4,
 "nbformat_minor": 4
}
