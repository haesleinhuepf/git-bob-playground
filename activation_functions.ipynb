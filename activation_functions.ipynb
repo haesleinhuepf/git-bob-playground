{
 "cells": [
  {
   "cell_type": "markdown",
   "metadata": {},
   "source": [
    "# Activation Functions in Deep Learning\n",
    "\n",
    "Activation functions are crucial components in neural networks that:\n",
    "* Add non-linearity to transform input signals\n",
    "* Help normalize neuron outputs\n",
    "* Enable learning of complex patterns\n",
    "\n",
    "Let's visualize three common activation functions."
   ]
  },
  {
   "cell_type": "markdown",
   "metadata": {},
   "source": [
    "## Import required libraries"
   ]
  },
  {
   "cell_type": "code",
   "execution_count": 1,
   "metadata": {
    "execution": {
     "iopub.execute_input": "2025-03-16T10:24:33.410250Z",
     "iopub.status.busy": "2025-03-16T10:24:33.410072Z",
     "iopub.status.idle": "2025-03-16T10:24:33.985547Z",
     "shell.execute_reply": "2025-03-16T10:24:33.984979Z"
    }
   },
   "outputs": [],
   "source": [
    "import numpy as np\n",
    "import matplotlib.pyplot as plt"
   ]
  },
  {
   "cell_type": "markdown",
   "metadata": {},
   "source": [
    "## Generate input values"
   ]
  },
  {
   "cell_type": "code",
   "execution_count": 2,
   "metadata": {
    "execution": {
     "iopub.execute_input": "2025-03-16T10:24:33.987758Z",
     "iopub.status.busy": "2025-03-16T10:24:33.987344Z",
     "iopub.status.idle": "2025-03-16T10:24:33.990016Z",
     "shell.execute_reply": "2025-03-16T10:24:33.989584Z"
    }
   },
   "outputs": [],
   "source": [
    "x = np.linspace(-5, 5, 100)"
   ]
  },
  {
   "cell_type": "markdown",
   "metadata": {},
   "source": [
    "## Calculate activation functions"
   ]
  },
  {
   "cell_type": "code",
   "execution_count": 3,
   "metadata": {
    "execution": {
     "iopub.execute_input": "2025-03-16T10:24:33.991717Z",
     "iopub.status.busy": "2025-03-16T10:24:33.991375Z",
     "iopub.status.idle": "2025-03-16T10:24:33.994130Z",
     "shell.execute_reply": "2025-03-16T10:24:33.993709Z"
    }
   },
   "outputs": [],
   "source": [
    "relu = np.maximum(0, x)\n",
    "sigmoid = 1 / (1 + np.exp(-x))\n",
    "tanh = np.tanh(x)"
   ]
  },
  {
   "cell_type": "markdown",
   "metadata": {},
   "source": [
    "## Visualize and save the plot"
   ]
  },
  {
   "cell_type": "code",
   "execution_count": 4,
   "metadata": {
    "execution": {
     "iopub.execute_input": "2025-03-16T10:24:33.995811Z",
     "iopub.status.busy": "2025-03-16T10:24:33.995480Z",
     "iopub.status.idle": "2025-03-16T10:24:34.527264Z",
     "shell.execute_reply": "2025-03-16T10:24:34.526719Z"
    }
   },
   "outputs": [],
   "source": [
    "plt.figure(figsize=(12, 4))\n",
    "\n",
    "plt.subplot(131)\n",
    "plt.plot(x, relu)\n",
    "plt.title('ReLU')\n",
    "plt.grid(True)\n",
    "\n",
    "plt.subplot(132)\n",
    "plt.plot(x, sigmoid)\n",
    "plt.title('Sigmoid')\n",
    "plt.grid(True)\n",
    "\n",
    "plt.subplot(133)\n",
    "plt.plot(x, tanh)\n",
    "plt.title('Tanh')\n",
    "plt.grid(True)\n",
    "\n",
    "plt.tight_layout()\n",
    "plt.savefig('activation_functions.png', dpi=300, bbox_inches='tight')\n",
    "plt.close()"
   ]
  }
 ],
 "metadata": {
  "language_info": {
   "codemirror_mode": {
    "name": "ipython",
    "version": 3
   },
   "file_extension": ".py",
   "mimetype": "text/x-python",
   "name": "python",
   "nbconvert_exporter": "python",
   "pygments_lexer": "ipython3",
   "version": "3.13.2"
  }
 },
 "nbformat": 4,
 "nbformat_minor": 4
}
