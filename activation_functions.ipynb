{
 "cells": [
  {
   "cell_type": "markdown",
   "metadata": {},
   "source": [
    "# Activation Functions\n",
    "This notebook creates plots of common activation functions used in neural networks."
   ]
  },
  {
   "cell_type": "code",
   "execution_count": 1,
   "metadata": {
    "execution": {
     "iopub.execute_input": "2024-11-02T12:58:53.717195Z",
     "iopub.status.busy": "2024-11-02T12:58:53.716999Z",
     "iopub.status.idle": "2024-11-02T12:58:54.437724Z",
     "shell.execute_reply": "2024-11-02T12:58:54.437044Z"
    }
   },
   "outputs": [],
   "source": [
    "import numpy as np\n",
    "import matplotlib.pyplot as plt"
   ]
  },
  {
   "cell_type": "markdown",
   "metadata": {},
   "source": [
    "## Linear Activation Function"
   ]
  },
  {
   "cell_type": "code",
   "execution_count": 2,
   "metadata": {
    "execution": {
     "iopub.execute_input": "2024-11-02T12:58:54.440050Z",
     "iopub.status.busy": "2024-11-02T12:58:54.439658Z",
     "iopub.status.idle": "2024-11-02T12:58:54.526835Z",
     "shell.execute_reply": "2024-11-02T12:58:54.526335Z"
    }
   },
   "outputs": [],
   "source": [
    "x = np.linspace(-5, 5, 100)\n",
    "y = x\n",
    "\n",
    "plt.figure(figsize=(6, 4))\n",
    "plt.plot(x, y)\n",
    "plt.grid(True)\n",
    "plt.title('Linear Activation')\n",
    "plt.xlabel('Input')\n",
    "plt.ylabel('Output')\n",
    "plt.savefig('linear.png')\n",
    "plt.close()"
   ]
  },
  {
   "cell_type": "markdown",
   "metadata": {},
   "source": [
    "## Sigmoid Activation Function"
   ]
  },
  {
   "cell_type": "code",
   "execution_count": 3,
   "metadata": {
    "execution": {
     "iopub.execute_input": "2024-11-02T12:58:54.528883Z",
     "iopub.status.busy": "2024-11-02T12:58:54.528514Z",
     "iopub.status.idle": "2024-11-02T12:58:54.604795Z",
     "shell.execute_reply": "2024-11-02T12:58:54.604322Z"
    }
   },
   "outputs": [],
   "source": [
    "def sigmoid(x):\n",
    "    return 1 / (1 + np.exp(-x))\n",
    "\n",
    "y = sigmoid(x)\n",
    "\n",
    "plt.figure(figsize=(6, 4))\n",
    "plt.plot(x, y)\n",
    "plt.grid(True)\n",
    "plt.title('Sigmoid Activation')\n",
    "plt.xlabel('Input')\n",
    "plt.ylabel('Output')\n",
    "plt.savefig('sigmoid.png')\n",
    "plt.close()"
   ]
  },
  {
   "cell_type": "markdown",
   "metadata": {},
   "source": [
    "## ReLU Activation Function"
   ]
  },
  {
   "cell_type": "code",
   "execution_count": 4,
   "metadata": {
    "execution": {
     "iopub.execute_input": "2024-11-02T12:58:54.606797Z",
     "iopub.status.busy": "2024-11-02T12:58:54.606429Z",
     "iopub.status.idle": "2024-11-02T12:58:54.682309Z",
     "shell.execute_reply": "2024-11-02T12:58:54.681724Z"
    }
   },
   "outputs": [],
   "source": [
    "y = np.maximum(0, x)\n",
    "\n",
    "plt.figure(figsize=(6, 4))\n",
    "plt.plot(x, y)\n",
    "plt.grid(True)\n",
    "plt.title('ReLU Activation')\n",
    "plt.xlabel('Input')\n",
    "plt.ylabel('Output')\n",
    "plt.savefig('relu.png')\n",
    "plt.close()"
   ]
  }
 ],
 "metadata": {
  "language_info": {
   "codemirror_mode": {
    "name": "ipython",
    "version": 3
   },
   "file_extension": ".py",
   "mimetype": "text/x-python",
   "name": "python",
   "nbconvert_exporter": "python",
   "pygments_lexer": "ipython3",
   "version": "3.12.7"
  }
 },
 "nbformat": 4,
 "nbformat_minor": 4
}
