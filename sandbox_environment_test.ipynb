{
 "cells": [
  {
   "cell_type": "markdown",
   "metadata": {},
   "source": [
    "# Sandbox Environment Test with Restricted Access\n",
    "\n",
    "First, let's install the required package"
   ]
  },
  {
   "cell_type": "code",
   "execution_count": 1,
   "metadata": {
    "execution": {
     "iopub.execute_input": "2024-12-15T19:54:00.584755Z",
     "iopub.status.busy": "2024-12-15T19:54:00.584576Z",
     "iopub.status.idle": "2024-12-15T19:54:01.842733Z",
     "shell.execute_reply": "2024-12-15T19:54:01.842137Z"
    }
   },
   "outputs": [
    {
     "name": "stdout",
     "output_type": "stream",
     "text": [
      "Collecting execnet\r\n"
     ]
    },
    {
     "name": "stdout",
     "output_type": "stream",
     "text": [
      "  Downloading execnet-2.1.1-py3-none-any.whl.metadata (2.9 kB)\r\n",
      "Downloading execnet-2.1.1-py3-none-any.whl (40 kB)\r\n"
     ]
    },
    {
     "name": "stdout",
     "output_type": "stream",
     "text": [
      "Installing collected packages: execnet\r\n"
     ]
    },
    {
     "name": "stdout",
     "output_type": "stream",
     "text": [
      "Successfully installed execnet-2.1.1\r\n"
     ]
    }
   ],
   "source": [
    "!pip install execnet"
   ]
  },
  {
   "cell_type": "markdown",
   "metadata": {},
   "source": [
    "Set environment variable before sandbox execution"
   ]
  },
  {
   "cell_type": "code",
   "execution_count": 2,
   "metadata": {
    "execution": {
     "iopub.execute_input": "2024-12-15T19:54:01.845092Z",
     "iopub.status.busy": "2024-12-15T19:54:01.844702Z",
     "iopub.status.idle": "2024-12-15T19:54:01.848052Z",
     "shell.execute_reply": "2024-12-15T19:54:01.847604Z"
    }
   },
   "outputs": [
    {
     "name": "stdout",
     "output_type": "stream",
     "text": [
      "Main environment HELLO: 5\n"
     ]
    }
   ],
   "source": [
    "import os\n",
    "os.environ['HELLO'] = '5'\n",
    "print(f\"Main environment HELLO: {os.environ['HELLO']}\")"
   ]
  },
  {
   "cell_type": "markdown",
   "metadata": {},
   "source": [
    "Define the sandbox execution function with restricted environment access"
   ]
  },
  {
   "cell_type": "code",
   "execution_count": 3,
   "metadata": {
    "execution": {
     "iopub.execute_input": "2024-12-15T19:54:01.849799Z",
     "iopub.status.busy": "2024-12-15T19:54:01.849621Z",
     "iopub.status.idle": "2024-12-15T19:54:01.899914Z",
     "shell.execute_reply": "2024-12-15T19:54:01.899316Z"
    }
   },
   "outputs": [
    {
     "name": "stdout",
     "output_type": "stream",
     "text": [
      "Sandbox environment HELLO: 5\n",
      "Main environment HELLO after sandbox: 5\n"
     ]
    }
   ],
   "source": [
    "import execnet\n",
    "\n",
    "def execute_in_sandbox(code):\n",
    "    # Create gateway with empty environment\n",
    "    gw = execnet.makegateway(spec=\"popen//env:PYTHONPATH=\")\n",
    "    channel = gw.remote_exec(code)\n",
    "    result = channel.receive()\n",
    "    gw.exit()\n",
    "    return result\n",
    "\n",
    "sandboxed_code = \"\"\"\n",
    "import os\n",
    "hello_value = os.environ.get('HELLO', 'not found')\n",
    "channel.send(f'Sandbox environment HELLO: {hello_value}')\n",
    "\"\"\"\n",
    "\n",
    "result = execute_in_sandbox(sandboxed_code)\n",
    "print(result)\n",
    "\n",
    "# Verify main environment still has the variable\n",
    "print(f\"Main environment HELLO after sandbox: {os.environ['HELLO']}\")"
   ]
  }
 ],
 "metadata": {
  "language_info": {
   "codemirror_mode": {
    "name": "ipython",
    "version": 3
   },
   "file_extension": ".py",
   "mimetype": "text/x-python",
   "name": "python",
   "nbconvert_exporter": "python",
   "pygments_lexer": "ipython3",
   "version": "3.12.8"
  }
 },
 "nbformat": 4,
 "nbformat_minor": 4
}
