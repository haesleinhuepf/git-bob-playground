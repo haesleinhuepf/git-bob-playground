{
 "cells": [
  {
   "cell_type": "markdown",
   "metadata": {},
   "source": [
    "# Sandbox Environment Test\n",
    "\n",
    "First, let's install the required package"
   ]
  },
  {
   "cell_type": "code",
   "execution_count": 1,
   "metadata": {
    "execution": {
     "iopub.execute_input": "2024-12-15T19:44:27.775959Z",
     "iopub.status.busy": "2024-12-15T19:44:27.775524Z",
     "iopub.status.idle": "2024-12-15T19:44:29.009022Z",
     "shell.execute_reply": "2024-12-15T19:44:29.008328Z"
    }
   },
   "outputs": [
    {
     "name": "stdout",
     "output_type": "stream",
     "text": [
      "Collecting execnet\r\n"
     ]
    },
    {
     "name": "stdout",
     "output_type": "stream",
     "text": [
      "  Downloading execnet-2.1.1-py3-none-any.whl.metadata (2.9 kB)\r\n",
      "Downloading execnet-2.1.1-py3-none-any.whl (40 kB)\r\n"
     ]
    },
    {
     "name": "stdout",
     "output_type": "stream",
     "text": [
      "Installing collected packages: execnet\r\n"
     ]
    },
    {
     "name": "stdout",
     "output_type": "stream",
     "text": [
      "Successfully installed execnet-2.1.1\r\n"
     ]
    }
   ],
   "source": [
    "!pip install execnet"
   ]
  },
  {
   "cell_type": "markdown",
   "metadata": {},
   "source": [
    "Set environment variable before sandbox execution"
   ]
  },
  {
   "cell_type": "code",
   "execution_count": 2,
   "metadata": {
    "execution": {
     "iopub.execute_input": "2024-12-15T19:44:29.011637Z",
     "iopub.status.busy": "2024-12-15T19:44:29.011147Z",
     "iopub.status.idle": "2024-12-15T19:44:29.014615Z",
     "shell.execute_reply": "2024-12-15T19:44:29.014163Z"
    }
   },
   "outputs": [
    {
     "name": "stdout",
     "output_type": "stream",
     "text": [
      "Main environment HELLO: 5\n"
     ]
    }
   ],
   "source": [
    "import os\n",
    "os.environ['HELLO'] = '5'\n",
    "print(f\"Main environment HELLO: {os.environ['HELLO']}\")"
   ]
  },
  {
   "cell_type": "markdown",
   "metadata": {},
   "source": [
    "Define the sandbox execution function and the code to be executed"
   ]
  },
  {
   "cell_type": "code",
   "execution_count": 3,
   "metadata": {
    "execution": {
     "iopub.execute_input": "2024-12-15T19:44:29.016419Z",
     "iopub.status.busy": "2024-12-15T19:44:29.016059Z",
     "iopub.status.idle": "2024-12-15T19:44:29.066487Z",
     "shell.execute_reply": "2024-12-15T19:44:29.065895Z"
    }
   },
   "outputs": [
    {
     "name": "stdout",
     "output_type": "stream",
     "text": [
      "Sandbox environment HELLO: 5\n"
     ]
    }
   ],
   "source": [
    "import execnet\n",
    "\n",
    "def execute_in_sandbox(code):\n",
    "    gw = execnet.makegateway()\n",
    "    channel = gw.remote_exec(code)\n",
    "    result = channel.receive()\n",
    "    gw.exit()\n",
    "    return result\n",
    "\n",
    "sandboxed_code = \"\"\"\n",
    "import os\n",
    "hello_value = os.environ.get('HELLO', 'not found')\n",
    "channel.send(f'Sandbox environment HELLO: {hello_value}')\n",
    "\"\"\"\n",
    "\n",
    "result = execute_in_sandbox(sandboxed_code)\n",
    "print(result)"
   ]
  }
 ],
 "metadata": {
  "language_info": {
   "codemirror_mode": {
    "name": "ipython",
    "version": 3
   },
   "file_extension": ".py",
   "mimetype": "text/x-python",
   "name": "python",
   "nbconvert_exporter": "python",
   "pygments_lexer": "ipython3",
   "version": "3.12.8"
  }
 },
 "nbformat": 4,
 "nbformat_minor": 4
}
